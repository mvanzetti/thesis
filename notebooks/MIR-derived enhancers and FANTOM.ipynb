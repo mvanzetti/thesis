{
 "cells": [
  {
   "cell_type": "code",
   "execution_count": 1,
   "metadata": {
    "collapsed": false
   },
   "outputs": [
    {
     "data": {
      "text/plain": [
       "'../download/genome/hg19.genome'"
      ]
     },
     "execution_count": 1,
     "metadata": {},
     "output_type": "execute_result"
    }
   ],
   "source": [
    "# export full genome\n",
    "from pybedtools import genome_registry, chromsizes_to_file, chromsizes\n",
    "chromsizes_to_file(chromsizes('hg19'), '../download/genome/hg19.genome')"
   ]
  },
  {
   "cell_type": "code",
   "execution_count": 2,
   "metadata": {
    "collapsed": true
   },
   "outputs": [],
   "source": [
    "assembly_path = \"../download/genome/hg19_reduced.genome\""
   ]
  },
  {
   "cell_type": "code",
   "execution_count": 3,
   "metadata": {
    "collapsed": true
   },
   "outputs": [],
   "source": [
    "import pandas as pd\n",
    "import numpy as np\n",
    "from pybedtools import BedTool"
   ]
  },
  {
   "cell_type": "code",
   "execution_count": 11,
   "metadata": {
    "collapsed": false
   },
   "outputs": [],
   "source": [
    "fantom_bed = BedTool(\"../download/FANTOM/permissive_enhancers.bed\")"
   ]
  },
  {
   "cell_type": "code",
   "execution_count": 10,
   "metadata": {
    "collapsed": true
   },
   "outputs": [],
   "source": [
    "repeat_bed_df = pd.read_hdf(\"../storage/repeatmasker_staging.hdf\", \"SINE_MIR_bed\")\n",
    "repeat_bed = BedTool().from_dataframe(repeat_bed_df)"
   ]
  },
  {
   "cell_type": "code",
   "execution_count": 12,
   "metadata": {
    "collapsed": false
   },
   "outputs": [
    {
     "name": "stdout",
     "output_type": "stream",
     "text": [
      "chr1\t858256\t858648\tchr1:858256-858648\t5\t.\t858447\t858448\t0,0,0\t2\t1,10\t0,382\n",
      " chr1\t918449\t918555\tchr1:918449-918555\t18\t.\t918504\t918505\t0,0,0\t2\t7,1\t0,105\n",
      " chr1\t941791\t942135\tchr1:941791-942135\t2\t.\t942081\t942082\t0,0,0\t2\t238,1\t0,343\n",
      " chr1\t945769\t946034\tchr1:945769-946034\t17\t.\t945889\t945890\t0,0,0\t2\t1,25\t0,240\n",
      " chr1\t956563\t956812\tchr1:956563-956812\t143\t.\t956664\t956665\t0,0,0\t2\t57,102\t0,147\n",
      " chr1\t1005293\t1005547\tchr1:1005293-1005547\t66\t.\t1005420\t1005421\t0,0,0\t2\t57,55\t0,199\n",
      " chr1\t1014834\t1015095\tchr1:1014834-1015095\t17\t.\t1014858\t1014859\t0,0,0\t2\t1,213\t0,48\n",
      " chr1\t1060905\t1061095\tchr1:1060905-1061095\t7\t.\t1060999\t1061000\t0,0,0\t2\t1,1\t0,189\n",
      " chr1\t1063914\t1064111\tchr1:1063914-1064111\t50\t.\t1063978\t1063979\t0,0,0\t2\t45,112\t0,85\n",
      " chr1\t1093610\t1093958\tchr1:1093610-1093958\t7\t.\t1093953\t1093954\t0,0,0\t2\t341,1\t0,347\n",
      " "
     ]
    }
   ],
   "source": [
    "fantom_bed.head()"
   ]
  },
  {
   "cell_type": "code",
   "execution_count": 13,
   "metadata": {
    "collapsed": false
   },
   "outputs": [
    {
     "data": {
      "text/plain": [
       "43011"
      ]
     },
     "execution_count": 13,
     "metadata": {},
     "output_type": "execute_result"
    }
   ],
   "source": [
    "fantom_bed.count()"
   ]
  },
  {
   "cell_type": "code",
   "execution_count": 14,
   "metadata": {
    "collapsed": false
   },
   "outputs": [
    {
     "data": {
      "text/plain": [
       "594372"
      ]
     },
     "execution_count": 14,
     "metadata": {},
     "output_type": "execute_result"
    }
   ],
   "source": [
    "repeat_bed.count()"
   ]
  },
  {
   "cell_type": "code",
   "execution_count": 15,
   "metadata": {
    "collapsed": false
   },
   "outputs": [],
   "source": [
    "encode_bed_df = fantom_bed.to_dataframe()"
   ]
  },
  {
   "cell_type": "markdown",
   "metadata": {},
   "source": [
    "## MIR-enhancers: core of enhancers in MIR"
   ]
  },
  {
   "cell_type": "code",
   "execution_count": 16,
   "metadata": {
    "collapsed": true
   },
   "outputs": [],
   "source": [
    "def compute_centers(df):\n",
    "    df['centered_locus'] = round(\n",
    "        (df['end'] - df['start'])/2 \n",
    "        + df['start']).astype(int)"
   ]
  },
  {
   "cell_type": "code",
   "execution_count": 17,
   "metadata": {
    "collapsed": false
   },
   "outputs": [],
   "source": [
    "compute_centers(encode_bed_df)"
   ]
  },
  {
   "cell_type": "code",
   "execution_count": 18,
   "metadata": {
    "collapsed": false
   },
   "outputs": [],
   "source": [
    "encode_bed_cores_df = encode_bed_df.copy()\n",
    "encode_bed_cores_df['start'] = encode_bed_cores_df['centered_locus']\n",
    "encode_bed_cores_df['end'] = encode_bed_cores_df['centered_locus']"
   ]
  },
  {
   "cell_type": "code",
   "execution_count": 19,
   "metadata": {
    "collapsed": false
   },
   "outputs": [],
   "source": [
    "encode_bed_cores = BedTool().from_dataframe(encode_bed_cores_df[['chrom', 'start', 'end', 'name', 'score', 'strand']])"
   ]
  },
  {
   "cell_type": "code",
   "execution_count": 20,
   "metadata": {
    "collapsed": false
   },
   "outputs": [
    {
     "data": {
      "text/plain": [
       "43011"
      ]
     },
     "execution_count": 20,
     "metadata": {},
     "output_type": "execute_result"
    }
   ],
   "source": [
    "encode_bed_cores.count()"
   ]
  },
  {
   "cell_type": "code",
   "execution_count": 21,
   "metadata": {
    "collapsed": true
   },
   "outputs": [],
   "source": [
    "#MIR-enhancers: core of enhancer in MIR\n",
    "core_intersection = encode_bed_cores.intersect(repeat_bed)"
   ]
  },
  {
   "cell_type": "code",
   "execution_count": 22,
   "metadata": {
    "collapsed": false
   },
   "outputs": [
    {
     "data": {
      "text/plain": [
       "1406"
      ]
     },
     "execution_count": 22,
     "metadata": {},
     "output_type": "execute_result"
    }
   ],
   "source": [
    "core_intersection.count()"
   ]
  },
  {
   "cell_type": "code",
   "execution_count": 23,
   "metadata": {
    "collapsed": false
   },
   "outputs": [
    {
     "name": "stdout",
     "output_type": "stream",
     "text": [
      "chr1\t6779848\t6779848\tchr1:6779783-6779914\t2\t.\n",
      " chr1\t8720604\t8720604\tchr1:8720526-8720683\t19\t.\n",
      " chr1\t9271636\t9271636\tchr1:9271499-9271772\t4\t.\n",
      " chr1\t12235266\t12235266\tchr1:12235070-12235463\t42\t.\n",
      " chr1\t12533545\t12533545\tchr1:12533412-12533678\t3\t.\n",
      " chr1\t14028126\t14028126\tchr1:14027926-14028325\t157\t.\n",
      " chr1\t15664381\t15664381\tchr1:15664307-15664455\t16\t.\n",
      " chr1\t19264144\t19264144\tchr1:19264079-19264209\t4\t.\n",
      " chr1\t19803508\t19803508\tchr1:19803336-19803680\t10\t.\n",
      " chr1\t21665045\t21665045\tchr1:21664947-21665143\t60\t.\n",
      " "
     ]
    }
   ],
   "source": [
    "core_intersection.head()"
   ]
  },
  {
   "cell_type": "code",
   "execution_count": 24,
   "metadata": {
    "collapsed": true
   },
   "outputs": [],
   "source": [
    "# null model MIR-enhancers\n",
    "shuffled_encode_bed_cores = encode_bed_cores.shuffle(g=assembly_path)\n",
    "core_null_model_intersection = shuffled_encode_bed_cores.intersect(repeat_bed)"
   ]
  },
  {
   "cell_type": "code",
   "execution_count": 25,
   "metadata": {
    "collapsed": false
   },
   "outputs": [
    {
     "data": {
      "text/plain": [
       "1239"
      ]
     },
     "execution_count": 25,
     "metadata": {},
     "output_type": "execute_result"
    }
   ],
   "source": [
    "core_null_model_intersection.count()"
   ]
  },
  {
   "cell_type": "code",
   "execution_count": 26,
   "metadata": {
    "collapsed": false
   },
   "outputs": [],
   "source": [
    "def compute_size(row, prefix=None):\n",
    "    col_name = prefix + '_name' if prefix else 'name'\n",
    "    if row[col_name] == '.':\n",
    "        return 0\n",
    "    col_end = prefix + '_end' if prefix else 'end'\n",
    "    col_start = prefix + '_start' if prefix else 'start'\n",
    "    size = abs(row[col_end] - row[col_start])\n",
    "    return size\n",
    "\n",
    "def mean_size(bed):\n",
    "    sample_df = bed.to_dataframe()\n",
    "    sample_df['size'] = sample_df.apply(lambda row: compute_size(row), axis=1)\n",
    "    return int(round(sample_df[['size']].mean()))\n",
    "\n",
    "def build_random_overlap(bed, intervals_size, intervals_num, min_overlap, assembly, df_columns, idx):\n",
    "    empty_bed = BedTool()\n",
    "    random_bed = empty_bed.random(l=intervals_size, n=intervals_num,\n",
    "                                  g=assembly)\n",
    "    row_array = [idx, bed.intersect(random_bed, f=min_overlap).count()]\n",
    "    return pd.DataFrame([row_array], columns=df_columns)\n",
    "\n",
    "def build_shuffled_overlap(bed, bed_overlap_with, min_overlap, assembly, df_columns, idx):\n",
    "    random_bed = bed_overlap_with.shuffle(g=assembly, chrom=False)\n",
    "    row_array = [idx, bed.intersect(random_bed, f=min_overlap).count()]\n",
    "    return pd.DataFrame([row_array], columns=df_columns)"
   ]
  },
  {
   "cell_type": "code",
   "execution_count": 27,
   "metadata": {
    "collapsed": true
   },
   "outputs": [],
   "source": [
    "from joblib import Parallel, delayed\n",
    "import multiprocessing\n",
    "\n",
    "def create_random_overlap_distribution_parallelized(bed, bed_overlap_with, assembly, min_overlap, \n",
    "                                                    samples_num,strategy='random'):\n",
    "    num_cores = multiprocessing.cpu_count()\n",
    "\n",
    "    intervals_size = mean_size(bed_overlap_with)\n",
    "    intervals_num = bed_overlap_with.count()\n",
    "    columns = ['sample_num', 'size']\n",
    "\n",
    "    if strategy == 'shuffle':\n",
    "        df_list = Parallel(n_jobs=num_cores)(delayed(build_shuffled_overlap)\n",
    "                                             (bed, bed_overlap_with, min_overlap, assembly, columns, i)\n",
    "                                             for i in range(0, samples_num))\n",
    "    else:\n",
    "        df_list = Parallel(n_jobs=num_cores)(delayed(build_random_overlap)\n",
    "                                             (bed, intervals_size, intervals_num, min_overlap, assembly, columns, i)\n",
    "                                             for i in range(0, samples_num))\n",
    "    return pd.concat(df_list)"
   ]
  },
  {
   "cell_type": "code",
   "execution_count": 28,
   "metadata": {
    "collapsed": false
   },
   "outputs": [],
   "source": [
    "test_df = create_random_overlap_distribution_parallelized(encode_bed_cores, repeat_bed, assembly_path,\n",
    "                                                         1e-09, 100)"
   ]
  },
  {
   "cell_type": "code",
   "execution_count": 29,
   "metadata": {
    "collapsed": false
   },
   "outputs": [
    {
     "data": {
      "text/plain": [
       "<matplotlib.axes._subplots.AxesSubplot at 0x122609d68>"
      ]
     },
     "execution_count": 29,
     "metadata": {},
     "output_type": "execute_result"
    },
    {
     "data": {
      "image/png": "[encoded data removed]",
      "text/plain": [
       "<matplotlib.figure.Figure at 0x127c21438>"
      ]
     },
     "metadata": {},
     "output_type": "display_data"
    }
   ],
   "source": [
    "import seaborn as sns\n",
    "%matplotlib inline\n",
    "import scipy.stats as st\n",
    "sns.distplot(test_df[['size']], kde=False, fit=st.norm, bins=20)"
   ]
  },
  {
   "cell_type": "code",
   "execution_count": 30,
   "metadata": {
    "collapsed": false
   },
   "outputs": [
    {
     "name": "stdout",
     "output_type": "stream",
     "text": [
      "5.934349112561755\n"
     ]
    }
   ],
   "source": [
    "z_score =(core_intersection.count() - np.mean(test_df['size']))/np.std(test_df['size'])\n",
    "print(z_score)"
   ]
  },
  {
   "cell_type": "code",
   "execution_count": 31,
   "metadata": {
    "collapsed": false
   },
   "outputs": [
    {
     "data": {
      "text/plain": [
       "0.99999999852493249"
      ]
     },
     "execution_count": 31,
     "metadata": {},
     "output_type": "execute_result"
    }
   ],
   "source": [
    "import scipy.stats as st\n",
    "st.norm.ppf(.95)\n",
    "st.norm.cdf(z_score)"
   ]
  },
  {
   "cell_type": "code",
   "execution_count": 32,
   "metadata": {
    "collapsed": false
   },
   "outputs": [
    {
     "data": {
      "text/plain": [
       "1.4750674827082326e-09"
      ]
     },
     "execution_count": 32,
     "metadata": {},
     "output_type": "execute_result"
    }
   ],
   "source": [
    "p_values = st.norm.sf(abs(z_score))\n",
    "p_values"
   ]
  },
  {
   "cell_type": "code",
   "execution_count": 33,
   "metadata": {
    "collapsed": false
   },
   "outputs": [
    {
     "data": {
      "text/plain": [
       "Ttest_1sampResult(statistic=array([-59.04602814]), pvalue=array([  5.53494921e-79]))"
      ]
     },
     "execution_count": 33,
     "metadata": {},
     "output_type": "execute_result"
    }
   ],
   "source": [
    "st.ttest_1samp(a= test_df[['size']], popmean= core_intersection.count())"
   ]
  },
  {
   "cell_type": "code",
   "execution_count": 34,
   "metadata": {
    "collapsed": false
   },
   "outputs": [
    {
     "data": {
      "text/plain": [
       "Ttest_1sampResult(statistic=size    0.0\n",
       "dtype: float64, pvalue=array([ 1.]))"
      ]
     },
     "execution_count": 34,
     "metadata": {},
     "output_type": "execute_result"
    }
   ],
   "source": [
    "st.ttest_1samp(a= test_df[['size']], popmean= np.mean(test_df[['size']]))"
   ]
  },
  {
   "cell_type": "code",
   "execution_count": 35,
   "metadata": {
    "collapsed": false
   },
   "outputs": [
    {
     "name": "stdout",
     "output_type": "stream",
     "text": [
      "Test Statistic: [ 3315.01493599]\n",
      "p-value: [ 0.]\n"
     ]
    }
   ],
   "source": [
    "chi2, p = st.chisquare( test_df[['size']],core_intersection.count() )\n",
    "msg = \"Test Statistic: {}\\np-value: {}\"\n",
    "print( msg.format( chi2, p ) )"
   ]
  },
  {
   "cell_type": "code",
   "execution_count": 36,
   "metadata": {
    "collapsed": false
   },
   "outputs": [
    {
     "data": {
      "text/plain": [
       "<FisherOutput at 4872620520>\n",
       "# Number of query intervals: 43011\n",
       "# Number of db intervals: 594327\n",
       "# Number of overlaps: 1406\n",
       "# Number of possible intervals (estimated): 21125242\n",
       "# phyper(1406 - 1, 43011, 21125242 - 43011, 594327, lower.tail=F)\n",
       "# Contingency Table Of Counts\n",
       "#_________________________________________\n",
       "#           |  in -b       | not in -b    |\n",
       "#     in -a | 1406         | 41605        |\n",
       "# not in -a | 592921       | 20489310     |\n",
       "#_________________________________________\n",
       "# p-values for fisher's exact test\n",
       "left\tright\ttwo-tail\tratio\n",
       "1\t1.2728e-08\t2.2459e-08\t1.168"
      ]
     },
     "execution_count": 36,
     "metadata": {},
     "output_type": "execute_result"
    }
   ],
   "source": [
    "encode_bed_cores.sort().fisher(repeat_bed.sort(), f=1e-09, g=assembly_path)"
   ]
  },
  {
   "cell_type": "code",
   "execution_count": 37,
   "metadata": {
    "collapsed": false
   },
   "outputs": [
    {
     "data": {
      "text/plain": [
       "0.067519672328844149"
      ]
     },
     "execution_count": 37,
     "metadata": {},
     "output_type": "execute_result"
    }
   ],
   "source": [
    "1-st.hypergeom.cdf(975, 21123880 - 33082, 33082, 593161)"
   ]
  },
  {
   "cell_type": "code",
   "execution_count": 38,
   "metadata": {
    "collapsed": false
   },
   "outputs": [
    {
     "data": {
      "text/html": [
       "<div>\n",
       "<table border=\"1\" class=\"dataframe\">\n",
       "  <thead>\n",
       "    <tr style=\"text-align: right;\">\n",
       "      <th></th>\n",
       "      <th>0</th>\n",
       "      <th>1</th>\n",
       "      <th>2</th>\n",
       "      <th>3</th>\n",
       "      <th>4</th>\n",
       "      <th>5</th>\n",
       "      <th>6</th>\n",
       "      <th>7</th>\n",
       "      <th>8</th>\n",
       "      <th>9</th>\n",
       "      <th>...</th>\n",
       "      <th>41</th>\n",
       "      <th>42</th>\n",
       "      <th>43</th>\n",
       "      <th>44</th>\n",
       "      <th>45</th>\n",
       "      <th>46</th>\n",
       "      <th>47</th>\n",
       "      <th>48</th>\n",
       "      <th>49</th>\n",
       "      <th>50</th>\n",
       "    </tr>\n",
       "  </thead>\n",
       "  <tbody>\n",
       "    <tr>\n",
       "      <th>count</th>\n",
       "      <td>888.000</td>\n",
       "      <td>837.000</td>\n",
       "      <td>860.00</td>\n",
       "      <td>869.00</td>\n",
       "      <td>918.000</td>\n",
       "      <td>828.000</td>\n",
       "      <td>891.000</td>\n",
       "      <td>889.000</td>\n",
       "      <td>888.000</td>\n",
       "      <td>927.000</td>\n",
       "      <td>...</td>\n",
       "      <td>819.000</td>\n",
       "      <td>869.00</td>\n",
       "      <td>795.000</td>\n",
       "      <td>852.00</td>\n",
       "      <td>820.000</td>\n",
       "      <td>822.000</td>\n",
       "      <td>835.000</td>\n",
       "      <td>860.00</td>\n",
       "      <td>843.00</td>\n",
       "      <td>6.0</td>\n",
       "    </tr>\n",
       "    <tr>\n",
       "      <th>fraction</th>\n",
       "      <td>0.021</td>\n",
       "      <td>0.019</td>\n",
       "      <td>0.02</td>\n",
       "      <td>0.02</td>\n",
       "      <td>0.021</td>\n",
       "      <td>0.019</td>\n",
       "      <td>0.021</td>\n",
       "      <td>0.021</td>\n",
       "      <td>0.021</td>\n",
       "      <td>0.022</td>\n",
       "      <td>...</td>\n",
       "      <td>0.019</td>\n",
       "      <td>0.02</td>\n",
       "      <td>0.018</td>\n",
       "      <td>0.02</td>\n",
       "      <td>0.019</td>\n",
       "      <td>0.019</td>\n",
       "      <td>0.019</td>\n",
       "      <td>0.02</td>\n",
       "      <td>0.02</td>\n",
       "      <td>0.0</td>\n",
       "    </tr>\n",
       "    <tr>\n",
       "      <th>reldist</th>\n",
       "      <td>0.000</td>\n",
       "      <td>0.010</td>\n",
       "      <td>0.02</td>\n",
       "      <td>0.03</td>\n",
       "      <td>0.040</td>\n",
       "      <td>0.050</td>\n",
       "      <td>0.060</td>\n",
       "      <td>0.070</td>\n",
       "      <td>0.080</td>\n",
       "      <td>0.090</td>\n",
       "      <td>...</td>\n",
       "      <td>0.410</td>\n",
       "      <td>0.42</td>\n",
       "      <td>0.430</td>\n",
       "      <td>0.44</td>\n",
       "      <td>0.450</td>\n",
       "      <td>0.460</td>\n",
       "      <td>0.470</td>\n",
       "      <td>0.48</td>\n",
       "      <td>0.49</td>\n",
       "      <td>0.5</td>\n",
       "    </tr>\n",
       "    <tr>\n",
       "      <th>total</th>\n",
       "      <td>43010.000</td>\n",
       "      <td>43010.000</td>\n",
       "      <td>43010.00</td>\n",
       "      <td>43010.00</td>\n",
       "      <td>43010.000</td>\n",
       "      <td>43010.000</td>\n",
       "      <td>43010.000</td>\n",
       "      <td>43010.000</td>\n",
       "      <td>43010.000</td>\n",
       "      <td>43010.000</td>\n",
       "      <td>...</td>\n",
       "      <td>43010.000</td>\n",
       "      <td>43010.00</td>\n",
       "      <td>43010.000</td>\n",
       "      <td>43010.00</td>\n",
       "      <td>43010.000</td>\n",
       "      <td>43010.000</td>\n",
       "      <td>43010.000</td>\n",
       "      <td>43010.00</td>\n",
       "      <td>43010.00</td>\n",
       "      <td>43010.0</td>\n",
       "    </tr>\n",
       "  </tbody>\n",
       "</table>\n",
       "<p>4 rows × 51 columns</p>\n",
       "</div>"
      ],
      "text/plain": [
       "                 0          1         2         3          4          5   \\\n",
       "count       888.000    837.000    860.00    869.00    918.000    828.000   \n",
       "fraction      0.021      0.019      0.02      0.02      0.021      0.019   \n",
       "reldist       0.000      0.010      0.02      0.03      0.040      0.050   \n",
       "total     43010.000  43010.000  43010.00  43010.00  43010.000  43010.000   \n",
       "\n",
       "                 6          7          8          9    ...            41  \\\n",
       "count       891.000    889.000    888.000    927.000   ...       819.000   \n",
       "fraction      0.021      0.021      0.021      0.022   ...         0.019   \n",
       "reldist       0.060      0.070      0.080      0.090   ...         0.410   \n",
       "total     43010.000  43010.000  43010.000  43010.000   ...     43010.000   \n",
       "\n",
       "                42         43        44         45         46         47  \\\n",
       "count       869.00    795.000    852.00    820.000    822.000    835.000   \n",
       "fraction      0.02      0.018      0.02      0.019      0.019      0.019   \n",
       "reldist       0.42      0.430      0.44      0.450      0.460      0.470   \n",
       "total     43010.00  43010.000  43010.00  43010.000  43010.000  43010.000   \n",
       "\n",
       "                48        49       50  \n",
       "count       860.00    843.00      6.0  \n",
       "fraction      0.02      0.02      0.0  \n",
       "reldist       0.48      0.49      0.5  \n",
       "total     43010.00  43010.00  43010.0  \n",
       "\n",
       "[4 rows x 51 columns]"
      ]
     },
     "execution_count": 38,
     "metadata": {},
     "output_type": "execute_result"
    }
   ],
   "source": [
    "df_reldist = pd.DataFrame(encode_bed_cores.sort().reldist(repeat_bed.sort()))\n",
    "df_reldist.T"
   ]
  },
  {
   "cell_type": "code",
   "execution_count": 39,
   "metadata": {
    "collapsed": false
   },
   "outputs": [],
   "source": [
    "df_reldist_random = pd.DataFrame(encode_bed_cores.sort().reldist(repeat_bed.shuffle(g=assembly_path, chrom=False).sort()))"
   ]
  },
  {
   "cell_type": "code",
   "execution_count": 40,
   "metadata": {
    "collapsed": false,
    "scrolled": false
   },
   "outputs": [
    {
     "data": {
      "image/png": "[encoded data removed]",
      "text/plain": [
       "<matplotlib.figure.Figure at 0x1225f3550>"
      ]
     },
     "metadata": {},
     "output_type": "display_data"
    }
   ],
   "source": [
    "import numpy as np\n",
    "import seaborn as sns\n",
    "#import matplotlib.pyplot as plt\n",
    "%matplotlib inline\n",
    "\n",
    "#sns.set(style=\"white\", palette=\"muted\", color_codes=True)\n",
    "sns.set(style=\"ticks\", palette=\"muted\", color_codes=True)\n",
    "sns.set_context(\"poster\", font_scale=0.6, rc={\"lines.linewidth\": 0.8})\n",
    "\n",
    "g1 = sns.pointplot(x='reldist', y='fraction', data=df_reldist[0:50],  color='r')\n",
    "g2 = sns.pointplot(x='reldist', y='fraction', data=df_reldist_random[0:50], color='b')\n",
    "\n",
    "sns.despine(offset=10, trim=True)\n",
    "#plot.set_yscale(\"log\")\n",
    "#df_reldist[['reldist','fraction']].plot()\n",
    "for ind, label in enumerate(g1.get_xticklabels()):\n",
    "    if ind % 10 == 0:  # every 10th label is kept\n",
    "        label.set_visible(True)\n",
    "    else:\n",
    "        label.set_visible(False)"
   ]
  },
  {
   "cell_type": "markdown",
   "metadata": {},
   "source": [
    "## Enhancer-MIRs: MIRs in a +/- 4 kbp window around enhancer's core "
   ]
  },
  {
   "cell_type": "code",
   "execution_count": 41,
   "metadata": {
    "collapsed": false
   },
   "outputs": [],
   "source": [
    "encode_bed_df = fantom_bed.to_dataframe()\n",
    "encode_bed_df['size'] = encode_bed_df.apply(lambda row: compute_size(row), axis=1)"
   ]
  },
  {
   "cell_type": "code",
   "execution_count": 42,
   "metadata": {
    "collapsed": false
   },
   "outputs": [
    {
     "data": {
      "text/plain": [
       "True"
      ]
     },
     "execution_count": 42,
     "metadata": {},
     "output_type": "execute_result"
    }
   ],
   "source": [
    "encode_bed_df['size'].quantile(0.5) == encode_bed_df['size'].median()"
   ]
  },
  {
   "cell_type": "code",
   "execution_count": 43,
   "metadata": {
    "collapsed": false
   },
   "outputs": [
    {
     "data": {
      "text/plain": [
       "163.37426764008453"
      ]
     },
     "execution_count": 43,
     "metadata": {},
     "output_type": "execute_result"
    }
   ],
   "source": [
    "encode_bed_df['size'].std()"
   ]
  },
  {
   "cell_type": "code",
   "execution_count": 44,
   "metadata": {
    "collapsed": false
   },
   "outputs": [
    {
     "name": "stderr",
     "output_type": "stream",
     "text": [
      "/Users/manuel/anaconda/lib/python3.5/site-packages/statsmodels/nonparametric/kdetools.py:20: VisibleDeprecationWarning: using a non-integer number instead of an integer will result in an error in the future\n",
      "  y = X[:m/2+1] + np.r_[0,X[m/2+1:],0]*1j\n"
     ]
    },
    {
     "data": {
      "text/plain": [
       "<matplotlib.axes._subplots.AxesSubplot at 0x12859b208>"
      ]
     },
     "execution_count": 44,
     "metadata": {},
     "output_type": "execute_result"
    },
    {
     "data": {
      "image/png": "[encoded data removed]",
      "text/plain": [
       "<matplotlib.figure.Figure at 0x12275f4a8>"
      ]
     },
     "metadata": {},
     "output_type": "display_data"
    }
   ],
   "source": [
    "import seaborn as sns\n",
    "%matplotlib inline\n",
    "import scipy.stats as st\n",
    "sns.distplot(encode_bed_df[['size']], kde=True)"
   ]
  },
  {
   "cell_type": "code",
   "execution_count": 45,
   "metadata": {
    "collapsed": false
   },
   "outputs": [
    {
     "data": {
      "text/plain": [
       "275.0"
      ]
     },
     "execution_count": 45,
     "metadata": {},
     "output_type": "execute_result"
    }
   ],
   "source": [
    "np.percentile(encode_bed_df[['size']], 50)"
   ]
  },
  {
   "cell_type": "code",
   "execution_count": 46,
   "metadata": {
    "collapsed": false
   },
   "outputs": [
    {
     "data": {
      "text/plain": [
       "array([ 0. ,  0.1,  0.2,  0.3,  0.4,  0.5,  0.6,  0.7,  0.8,  0.9])"
      ]
     },
     "execution_count": 46,
     "metadata": {},
     "output_type": "execute_result"
    }
   ],
   "source": [
    "np.arange(0, 1, 0.1)"
   ]
  },
  {
   "cell_type": "code",
   "execution_count": 47,
   "metadata": {
    "collapsed": false
   },
   "outputs": [
    {
     "data": {
      "text/html": [
       "<div>\n",
       "<table border=\"1\" class=\"dataframe\">\n",
       "  <thead>\n",
       "    <tr style=\"text-align: right;\">\n",
       "      <th></th>\n",
       "      <th>size</th>\n",
       "    </tr>\n",
       "  </thead>\n",
       "  <tbody>\n",
       "    <tr>\n",
       "      <th>0.0</th>\n",
       "      <td>2.0</td>\n",
       "    </tr>\n",
       "    <tr>\n",
       "      <th>0.1</th>\n",
       "      <td>109.0</td>\n",
       "    </tr>\n",
       "    <tr>\n",
       "      <th>0.2</th>\n",
       "      <td>157.0</td>\n",
       "    </tr>\n",
       "    <tr>\n",
       "      <th>0.3</th>\n",
       "      <td>197.0</td>\n",
       "    </tr>\n",
       "    <tr>\n",
       "      <th>0.4</th>\n",
       "      <td>236.0</td>\n",
       "    </tr>\n",
       "    <tr>\n",
       "      <th>0.5</th>\n",
       "      <td>275.0</td>\n",
       "    </tr>\n",
       "    <tr>\n",
       "      <th>0.6</th>\n",
       "      <td>315.0</td>\n",
       "    </tr>\n",
       "    <tr>\n",
       "      <th>0.7</th>\n",
       "      <td>354.0</td>\n",
       "    </tr>\n",
       "    <tr>\n",
       "      <th>0.8</th>\n",
       "      <td>390.0</td>\n",
       "    </tr>\n",
       "    <tr>\n",
       "      <th>0.9</th>\n",
       "      <td>462.0</td>\n",
       "    </tr>\n",
       "  </tbody>\n",
       "</table>\n",
       "</div>"
      ],
      "text/plain": [
       "      size\n",
       "0.0    2.0\n",
       "0.1  109.0\n",
       "0.2  157.0\n",
       "0.3  197.0\n",
       "0.4  236.0\n",
       "0.5  275.0\n",
       "0.6  315.0\n",
       "0.7  354.0\n",
       "0.8  390.0\n",
       "0.9  462.0"
      ]
     },
     "execution_count": 47,
     "metadata": {},
     "output_type": "execute_result"
    }
   ],
   "source": [
    "encode_bed_df[['size']].quantile(np.arange(0,1,0.1))"
   ]
  },
  {
   "cell_type": "code",
   "execution_count": null,
   "metadata": {
    "collapsed": false
   },
   "outputs": [],
   "source": [
    "# what if using percentiles in considering enhancer regions? Eg: b=170/2, 251/2, ..., 3123/2\n",
    "#encode_bed_slop = encode_bed_cores.slop(genome='hg19', b=int(round(3123/2)))"
   ]
  },
  {
   "cell_type": "code",
   "execution_count": 70,
   "metadata": {
    "collapsed": true
   },
   "outputs": [],
   "source": [
    "#compute \"enhancers regions\" as +/- 4kb from enhancer cores\n",
    "encode_bed_slop = encode_bed_cores.slop(g=assembly_path, b=500)"
   ]
  },
  {
   "cell_type": "code",
   "execution_count": 71,
   "metadata": {
    "collapsed": false
   },
   "outputs": [
    {
     "name": "stdout",
     "output_type": "stream",
     "text": [
      "chr1\t858452\t858452\tchr1:858256-858648\t5\t.\n",
      " chr1\t918502\t918502\tchr1:918449-918555\t18\t.\n",
      " chr1\t941963\t941963\tchr1:941791-942135\t2\t.\n",
      " chr1\t945902\t945902\tchr1:945769-946034\t17\t.\n",
      " chr1\t956688\t956688\tchr1:956563-956812\t143\t.\n",
      " chr1\t1005420\t1005420\tchr1:1005293-1005547\t66\t.\n",
      " chr1\t1014964\t1014964\tchr1:1014834-1015095\t17\t.\n",
      " chr1\t1061000\t1061000\tchr1:1060905-1061095\t7\t.\n",
      " chr1\t1064012\t1064012\tchr1:1063914-1064111\t50\t.\n",
      " chr1\t1093784\t1093784\tchr1:1093610-1093958\t7\t.\n",
      " "
     ]
    }
   ],
   "source": [
    "encode_bed_cores.sort().head()"
   ]
  },
  {
   "cell_type": "code",
   "execution_count": 72,
   "metadata": {
    "collapsed": false
   },
   "outputs": [
    {
     "name": "stdout",
     "output_type": "stream",
     "text": [
      "chr1\t857952\t858952\tchr1:858256-858648\t5\t.\n",
      " chr1\t918002\t919002\tchr1:918449-918555\t18\t.\n",
      " chr1\t941463\t942463\tchr1:941791-942135\t2\t.\n",
      " chr1\t945402\t946402\tchr1:945769-946034\t17\t.\n",
      " chr1\t956188\t957188\tchr1:956563-956812\t143\t.\n",
      " chr1\t1004920\t1005920\tchr1:1005293-1005547\t66\t.\n",
      " chr1\t1014464\t1015464\tchr1:1014834-1015095\t17\t.\n",
      " chr1\t1060500\t1061500\tchr1:1060905-1061095\t7\t.\n",
      " chr1\t1063512\t1064512\tchr1:1063914-1064111\t50\t.\n",
      " chr1\t1093284\t1094284\tchr1:1093610-1093958\t7\t.\n",
      " "
     ]
    }
   ],
   "source": [
    "encode_bed_slop.sort().head()"
   ]
  },
  {
   "cell_type": "code",
   "execution_count": 73,
   "metadata": {
    "collapsed": false
   },
   "outputs": [
    {
     "data": {
      "text/plain": [
       "43011"
      ]
     },
     "execution_count": 73,
     "metadata": {},
     "output_type": "execute_result"
    }
   ],
   "source": [
    "encode_bed_slop.count()"
   ]
  },
  {
   "cell_type": "code",
   "execution_count": 74,
   "metadata": {
    "collapsed": true
   },
   "outputs": [],
   "source": [
    "#enhancer-MIRs: MIR in +/- 4kb from the core of an enhancer \n",
    "#(asking the full MIR to be overlapped by an enhancer region)\n",
    "region_intersection = repeat_bed.intersect(encode_bed_slop, f=1)"
   ]
  },
  {
   "cell_type": "code",
   "execution_count": 75,
   "metadata": {
    "collapsed": false
   },
   "outputs": [
    {
     "data": {
      "text/plain": [
       "10143"
      ]
     },
     "execution_count": 75,
     "metadata": {},
     "output_type": "execute_result"
    }
   ],
   "source": [
    "region_intersection.count()"
   ]
  },
  {
   "cell_type": "code",
   "execution_count": 76,
   "metadata": {
    "collapsed": false
   },
   "outputs": [],
   "source": [
    "# null model enhancers-MIRs\n",
    "shuffled_repeat = repeat_bed.shuffle(g=assembly_path)"
   ]
  },
  {
   "cell_type": "code",
   "execution_count": 77,
   "metadata": {
    "collapsed": false
   },
   "outputs": [
    {
     "data": {
      "text/plain": [
       "True"
      ]
     },
     "execution_count": 77,
     "metadata": {},
     "output_type": "execute_result"
    }
   ],
   "source": [
    "shuffled_repeat.count() == repeat_bed.count()"
   ]
  },
  {
   "cell_type": "code",
   "execution_count": 78,
   "metadata": {
    "collapsed": true
   },
   "outputs": [],
   "source": [
    "null_model_intersection = shuffled_repeat.intersect(encode_bed_slop, f=1)"
   ]
  },
  {
   "cell_type": "code",
   "execution_count": 79,
   "metadata": {
    "collapsed": false
   },
   "outputs": [
    {
     "data": {
      "text/plain": [
       "6906"
      ]
     },
     "execution_count": 79,
     "metadata": {},
     "output_type": "execute_result"
    }
   ],
   "source": [
    "null_model_intersection.count()"
   ]
  },
  {
   "cell_type": "code",
   "execution_count": 80,
   "metadata": {
    "collapsed": true
   },
   "outputs": [],
   "source": [
    "test_df2 = create_random_overlap_distribution_parallelized(repeat_bed, encode_bed_slop, assembly_path,\n",
    "                                                         1, 100)\n"
   ]
  },
  {
   "cell_type": "code",
   "execution_count": 81,
   "metadata": {
    "collapsed": false
   },
   "outputs": [
    {
     "data": {
      "text/plain": [
       "<matplotlib.axes._subplots.AxesSubplot at 0x1243e3ac8>"
      ]
     },
     "execution_count": 81,
     "metadata": {},
     "output_type": "execute_result"
    },
    {
     "data": {
      "image/png": "[encoded data removed]",
      "text/plain": [
       "<matplotlib.figure.Figure at 0x12435a390>"
      ]
     },
     "metadata": {},
     "output_type": "display_data"
    }
   ],
   "source": [
    "import seaborn as sns\n",
    "%matplotlib inline\n",
    "import scipy.stats as st\n",
    "sns.distplot(test_df2[['size']], kde=False, fit=st.norm, bins=10)"
   ]
  },
  {
   "cell_type": "code",
   "execution_count": 82,
   "metadata": {
    "collapsed": false
   },
   "outputs": [
    {
     "name": "stdout",
     "output_type": "stream",
     "text": [
      "32.71655099559921\n"
     ]
    }
   ],
   "source": [
    "z_score =(region_intersection.count() - np.mean(test_df2['size']))/np.std(test_df2['size'])\n",
    "print(z_score)"
   ]
  },
  {
   "cell_type": "code",
   "execution_count": 83,
   "metadata": {
    "collapsed": false
   },
   "outputs": [
    {
     "data": {
      "text/plain": [
       "1.0"
      ]
     },
     "execution_count": 83,
     "metadata": {},
     "output_type": "execute_result"
    }
   ],
   "source": [
    "import scipy.stats as st\n",
    "st.norm.ppf(.95)\n",
    "st.norm.cdf(z_score)"
   ]
  },
  {
   "cell_type": "code",
   "execution_count": 84,
   "metadata": {
    "collapsed": false
   },
   "outputs": [
    {
     "data": {
      "text/plain": [
       "4.542105259589597e-235"
      ]
     },
     "execution_count": 84,
     "metadata": {},
     "output_type": "execute_result"
    }
   ],
   "source": [
    "p_values = st.norm.sf(abs(z_score))\n",
    "p_values"
   ]
  },
  {
   "cell_type": "code",
   "execution_count": 85,
   "metadata": {
    "collapsed": false
   },
   "outputs": [
    {
     "data": {
      "text/plain": [
       "Ttest_1sampResult(statistic=array([-325.52557226]), pvalue=array([  8.33999626e-152]))"
      ]
     },
     "execution_count": 85,
     "metadata": {},
     "output_type": "execute_result"
    }
   ],
   "source": [
    "st.ttest_1samp(a= test_df2[['size']], popmean= region_intersection.count())"
   ]
  },
  {
   "cell_type": "code",
   "execution_count": 86,
   "metadata": {
    "collapsed": false
   },
   "outputs": [
    {
     "name": "stdout",
     "output_type": "stream",
     "text": [
      "Test Statistic: [ 91211.40589569]\n",
      "p-value: [ 0.]\n"
     ]
    }
   ],
   "source": [
    "chi2, p = st.chisquare( test_df2[['size']],region_intersection.count() )\n",
    "msg = \"Test Statistic: {}\\np-value: {}\"\n",
    "print( msg.format( chi2, p ) )"
   ]
  },
  {
   "cell_type": "code",
   "execution_count": 87,
   "metadata": {
    "collapsed": false
   },
   "outputs": [
    {
     "data": {
      "text/plain": [
       "<FisherOutput at 4882071504>\n",
       "# Number of query intervals: 594372\n",
       "# Number of db intervals: 43011\n",
       "# Number of overlaps: 10143\n",
       "# Number of possible intervals (estimated): 2704738\n",
       "# phyper(10143 - 1, 594372, 2704738 - 594372, 43011, lower.tail=F)\n",
       "# Contingency Table Of Counts\n",
       "#_________________________________________\n",
       "#           |  in -b       | not in -b    |\n",
       "#     in -a | 10143        | 584229       |\n",
       "# not in -a | 32868        | 2077498      |\n",
       "#_________________________________________\n",
       "# p-values for fisher's exact test\n",
       "left\tright\ttwo-tail\tratio\n",
       "1\t4.4246e-16\t8.4222e-16\t1.097"
      ]
     },
     "execution_count": 87,
     "metadata": {},
     "output_type": "execute_result"
    }
   ],
   "source": [
    "repeat_bed.sort().fisher(encode_bed_slop.sort(), f=1, g=assembly_path)"
   ]
  },
  {
   "cell_type": "code",
   "execution_count": 88,
   "metadata": {
    "collapsed": false
   },
   "outputs": [
    {
     "data": {
      "text/plain": [
       "0.0"
      ]
     },
     "execution_count": 88,
     "metadata": {},
     "output_type": "execute_result"
    }
   ],
   "source": [
    "#pvalue <- 1-phyper(45, 92, 7518, 1329)\n",
    "#pvalue = 1-stats.hypergeom.cdf(45, 7518, 92. 1329)\n",
    "1-st.hypergeom.cdf(66741, 0, 594732, 33082)"
   ]
  },
  {
   "cell_type": "code",
   "execution_count": 89,
   "metadata": {
    "collapsed": false
   },
   "outputs": [
    {
     "data": {
      "text/html": [
       "<div>\n",
       "<table border=\"1\" class=\"dataframe\">\n",
       "  <thead>\n",
       "    <tr style=\"text-align: right;\">\n",
       "      <th></th>\n",
       "      <th>0</th>\n",
       "      <th>1</th>\n",
       "      <th>2</th>\n",
       "      <th>3</th>\n",
       "      <th>4</th>\n",
       "      <th>5</th>\n",
       "      <th>6</th>\n",
       "      <th>7</th>\n",
       "      <th>8</th>\n",
       "      <th>9</th>\n",
       "      <th>...</th>\n",
       "      <th>41</th>\n",
       "      <th>42</th>\n",
       "      <th>43</th>\n",
       "      <th>44</th>\n",
       "      <th>45</th>\n",
       "      <th>46</th>\n",
       "      <th>47</th>\n",
       "      <th>48</th>\n",
       "      <th>49</th>\n",
       "      <th>50</th>\n",
       "    </tr>\n",
       "  </thead>\n",
       "  <tbody>\n",
       "    <tr>\n",
       "      <th>count</th>\n",
       "      <td>888.000</td>\n",
       "      <td>837.000</td>\n",
       "      <td>860.00</td>\n",
       "      <td>869.00</td>\n",
       "      <td>919.000</td>\n",
       "      <td>828.000</td>\n",
       "      <td>891.000</td>\n",
       "      <td>889.000</td>\n",
       "      <td>888.000</td>\n",
       "      <td>927.000</td>\n",
       "      <td>...</td>\n",
       "      <td>819.000</td>\n",
       "      <td>869.00</td>\n",
       "      <td>795.000</td>\n",
       "      <td>852.00</td>\n",
       "      <td>820.000</td>\n",
       "      <td>822.000</td>\n",
       "      <td>835.000</td>\n",
       "      <td>860.00</td>\n",
       "      <td>843.00</td>\n",
       "      <td>6.0</td>\n",
       "    </tr>\n",
       "    <tr>\n",
       "      <th>fraction</th>\n",
       "      <td>0.021</td>\n",
       "      <td>0.019</td>\n",
       "      <td>0.02</td>\n",
       "      <td>0.02</td>\n",
       "      <td>0.021</td>\n",
       "      <td>0.019</td>\n",
       "      <td>0.021</td>\n",
       "      <td>0.021</td>\n",
       "      <td>0.021</td>\n",
       "      <td>0.022</td>\n",
       "      <td>...</td>\n",
       "      <td>0.019</td>\n",
       "      <td>0.02</td>\n",
       "      <td>0.018</td>\n",
       "      <td>0.02</td>\n",
       "      <td>0.019</td>\n",
       "      <td>0.019</td>\n",
       "      <td>0.019</td>\n",
       "      <td>0.02</td>\n",
       "      <td>0.02</td>\n",
       "      <td>0.0</td>\n",
       "    </tr>\n",
       "    <tr>\n",
       "      <th>reldist</th>\n",
       "      <td>0.000</td>\n",
       "      <td>0.010</td>\n",
       "      <td>0.02</td>\n",
       "      <td>0.03</td>\n",
       "      <td>0.040</td>\n",
       "      <td>0.050</td>\n",
       "      <td>0.060</td>\n",
       "      <td>0.070</td>\n",
       "      <td>0.080</td>\n",
       "      <td>0.090</td>\n",
       "      <td>...</td>\n",
       "      <td>0.410</td>\n",
       "      <td>0.42</td>\n",
       "      <td>0.430</td>\n",
       "      <td>0.44</td>\n",
       "      <td>0.450</td>\n",
       "      <td>0.460</td>\n",
       "      <td>0.470</td>\n",
       "      <td>0.48</td>\n",
       "      <td>0.49</td>\n",
       "      <td>0.5</td>\n",
       "    </tr>\n",
       "    <tr>\n",
       "      <th>total</th>\n",
       "      <td>43011.000</td>\n",
       "      <td>43011.000</td>\n",
       "      <td>43011.00</td>\n",
       "      <td>43011.00</td>\n",
       "      <td>43011.000</td>\n",
       "      <td>43011.000</td>\n",
       "      <td>43011.000</td>\n",
       "      <td>43011.000</td>\n",
       "      <td>43011.000</td>\n",
       "      <td>43011.000</td>\n",
       "      <td>...</td>\n",
       "      <td>43011.000</td>\n",
       "      <td>43011.00</td>\n",
       "      <td>43011.000</td>\n",
       "      <td>43011.00</td>\n",
       "      <td>43011.000</td>\n",
       "      <td>43011.000</td>\n",
       "      <td>43011.000</td>\n",
       "      <td>43011.00</td>\n",
       "      <td>43011.00</td>\n",
       "      <td>43011.0</td>\n",
       "    </tr>\n",
       "  </tbody>\n",
       "</table>\n",
       "<p>4 rows × 51 columns</p>\n",
       "</div>"
      ],
      "text/plain": [
       "                 0          1         2         3          4          5   \\\n",
       "count       888.000    837.000    860.00    869.00    919.000    828.000   \n",
       "fraction      0.021      0.019      0.02      0.02      0.021      0.019   \n",
       "reldist       0.000      0.010      0.02      0.03      0.040      0.050   \n",
       "total     43011.000  43011.000  43011.00  43011.00  43011.000  43011.000   \n",
       "\n",
       "                 6          7          8          9    ...            41  \\\n",
       "count       891.000    889.000    888.000    927.000   ...       819.000   \n",
       "fraction      0.021      0.021      0.021      0.022   ...         0.019   \n",
       "reldist       0.060      0.070      0.080      0.090   ...         0.410   \n",
       "total     43011.000  43011.000  43011.000  43011.000   ...     43011.000   \n",
       "\n",
       "                42         43        44         45         46         47  \\\n",
       "count       869.00    795.000    852.00    820.000    822.000    835.000   \n",
       "fraction      0.02      0.018      0.02      0.019      0.019      0.019   \n",
       "reldist       0.42      0.430      0.44      0.450      0.460      0.470   \n",
       "total     43011.00  43011.000  43011.00  43011.000  43011.000  43011.000   \n",
       "\n",
       "                48        49       50  \n",
       "count       860.00    843.00      6.0  \n",
       "fraction      0.02      0.02      0.0  \n",
       "reldist       0.48      0.49      0.5  \n",
       "total     43011.00  43011.00  43011.0  \n",
       "\n",
       "[4 rows x 51 columns]"
      ]
     },
     "execution_count": 89,
     "metadata": {},
     "output_type": "execute_result"
    }
   ],
   "source": [
    "df_reldist = pd.DataFrame(encode_bed_slop.sort().reldist(repeat_bed.sort()))\n",
    "df_reldist.T"
   ]
  },
  {
   "cell_type": "code",
   "execution_count": 90,
   "metadata": {
    "collapsed": true
   },
   "outputs": [],
   "source": [
    "df_reldist_random = pd.DataFrame(encode_bed_slop.sort().reldist(repeat_bed.sort().shuffle(g=assembly_path, chrom=False).sort()))"
   ]
  },
  {
   "cell_type": "code",
   "execution_count": 91,
   "metadata": {
    "collapsed": false,
    "scrolled": false
   },
   "outputs": [
    {
     "data": {
      "image/png": "[encoded data removed]",
      "text/plain": [
       "<matplotlib.figure.Figure at 0x126432358>"
      ]
     },
     "metadata": {},
     "output_type": "display_data"
    }
   ],
   "source": [
    "import numpy as np\n",
    "import seaborn as sns\n",
    "#import matplotlib.pyplot as plt\n",
    "%matplotlib inline\n",
    "\n",
    "#sns.set(style=\"white\", palette=\"muted\", color_codes=True)\n",
    "sns.set(style=\"ticks\", palette=\"muted\", color_codes=True)\n",
    "sns.set_context(\"poster\", font_scale=0.6, rc={\"lines.linewidth\": 0.8})\n",
    "\n",
    "g1 = sns.pointplot(x='reldist', y='fraction', data=df_reldist[0:50],  color='r')\n",
    "g2 = sns.pointplot(x='reldist', y='fraction', data=df_reldist_random[0:50], color='b')\n",
    "\n",
    "sns.despine(offset=10, trim=True)\n",
    "#plot.set_yscale(\"log\")\n",
    "#df_reldist[['reldist','fraction']].plot()\n",
    "for ind, label in enumerate(g1.get_xticklabels()):\n",
    "    if ind % 10 == 0:  # every 10th label is kept\n",
    "        label.set_visible(True)\n",
    "    else:\n",
    "        label.set_visible(False)"
   ]
  },
  {
   "cell_type": "markdown",
   "metadata": {},
   "source": [
    "## Densities"
   ]
  },
  {
   "cell_type": "code",
   "execution_count": 92,
   "metadata": {
    "collapsed": false
   },
   "outputs": [],
   "source": [
    "# density\n",
    "# assuming expected number of MIR-enhancers as\n",
    "# average genome-wide density of enhancers (enhancers/bp) * total bp length of all MIRs\n",
    "\n",
    "def compute_expected_number(name1_bed_df, name2_bed_df, name1, name2):\n",
    "    genome_size = 3095677412\n",
    "    #enhancers_bed_df['size'] = enhancers_bed_df['end'] - enhancers_bed_df['start']\n",
    "    name1_density = len(name1_bed_df) /  genome_size\n",
    "    name2_bed_df['size'] = name2_bed_df['end'] - name2_bed_df['start']\n",
    "    name2_len = name2_bed_df['size'].sum()\n",
    "    print(name1, 'density =', name1_density, '(num of intervals)/(genome bp)')\n",
    "    print(name2,'length =', name2_len, 'bp')\n",
    "    print('Expected number of', name2, name1, '=', int(round(name1_density * name2_len)))"
   ]
  },
  {
   "cell_type": "code",
   "execution_count": 93,
   "metadata": {
    "collapsed": false
   },
   "outputs": [
    {
     "name": "stdout",
     "output_type": "stream",
     "text": [
      "K562 enhancers density = 1.3893889535541825e-05 (num of intervals)/(genome bp)\n",
      "Sine/MIR length = 84720992 bp\n",
      "Expected number of Sine/MIR K562 enhancers = 1177\n"
     ]
    }
   ],
   "source": [
    "compute_expected_number(encode_bed_df, repeat_bed_df, 'K562 enhancers', 'Sine/MIR')"
   ]
  },
  {
   "cell_type": "code",
   "execution_count": 107,
   "metadata": {
    "collapsed": true
   },
   "outputs": [],
   "source": [
    "genes_bed = BedTool(\"../download/genome/knownGene_hg19.bed\")\n",
    "genes_bed_df = genes_bed.to_dataframe()\n",
    "chrom_list = ['chr1', 'chr2', 'chr3', 'chr4', 'chr5', 'chr6', 'chr7', 'chrX',\n",
    "              'chr8', 'chr9', 'chr10', 'chr11', 'chr12', 'chr13', 'chr14',\n",
    "              'chr15', 'chr16', 'chr17', 'chr18', 'chr20', 'chrY', 'chr19',\n",
    "              'chr22', 'chr21']\n",
    "\n",
    "genes_bed_df = genes_bed_df.query(\"chrom in @chrom_list\")"
   ]
  },
  {
   "cell_type": "code",
   "execution_count": 108,
   "metadata": {
    "collapsed": false
   },
   "outputs": [
    {
     "data": {
      "text/plain": [
       "82960"
      ]
     },
     "execution_count": 108,
     "metadata": {},
     "output_type": "execute_result"
    }
   ],
   "source": [
    "genes_bed.count()"
   ]
  },
  {
   "cell_type": "code",
   "execution_count": 109,
   "metadata": {
    "collapsed": false
   },
   "outputs": [
    {
     "name": "stdout",
     "output_type": "stream",
     "text": [
      "Genes density = 2.5457109870206334e-05 (num of intervals)/(genome bp)\n",
      "Sine/MIR length = 84720992 bp\n",
      "Expected number of Sine/MIR Genes = 2157\n"
     ]
    }
   ],
   "source": [
    "compute_expected_number(genes_bed_df, repeat_bed_df, 'Genes', 'Sine/MIR')"
   ]
  },
  {
   "cell_type": "code",
   "execution_count": 111,
   "metadata": {
    "collapsed": false
   },
   "outputs": [],
   "source": [
    "# genic enhancers: enhancers in genic regions\n",
    "genic_enhancers_bed = fantom_bed.intersect(genes_bed, f=1, u=True)"
   ]
  },
  {
   "cell_type": "code",
   "execution_count": 112,
   "metadata": {
    "collapsed": false
   },
   "outputs": [
    {
     "data": {
      "text/plain": [
       "22741"
      ]
     },
     "execution_count": 112,
     "metadata": {},
     "output_type": "execute_result"
    }
   ],
   "source": [
    "genic_enhancers_bed.count()"
   ]
  },
  {
   "cell_type": "code",
   "execution_count": 113,
   "metadata": {
    "collapsed": true
   },
   "outputs": [],
   "source": [
    "# genic non-enhancers: genic regions without enhancers\n",
    "genic_non_enhancers_bed = genes_bed.subtract(genic_enhancers_bed, A=True)"
   ]
  },
  {
   "cell_type": "code",
   "execution_count": 114,
   "metadata": {
    "collapsed": false
   },
   "outputs": [
    {
     "data": {
      "text/plain": [
       "0"
      ]
     },
     "execution_count": 114,
     "metadata": {},
     "output_type": "execute_result"
    }
   ],
   "source": [
    "genic_non_enhancers_bed.intersect(genic_enhancers_bed).count()"
   ]
  },
  {
   "cell_type": "code",
   "execution_count": 116,
   "metadata": {
    "collapsed": false
   },
   "outputs": [],
   "source": [
    "# non-genic enhancers: enhancers outside genic regions\n",
    "non_genic_enhancers_bed = fantom_bed.subtract(genes_bed, f=1, A=True)"
   ]
  },
  {
   "cell_type": "code",
   "execution_count": 117,
   "metadata": {
    "collapsed": false
   },
   "outputs": [
    {
     "data": {
      "text/plain": [
       "20270"
      ]
     },
     "execution_count": 117,
     "metadata": {},
     "output_type": "execute_result"
    }
   ],
   "source": [
    "non_genic_enhancers_bed.count()"
   ]
  },
  {
   "cell_type": "code",
   "execution_count": 119,
   "metadata": {
    "collapsed": false
   },
   "outputs": [
    {
     "data": {
      "text/plain": [
       "True"
      ]
     },
     "execution_count": 119,
     "metadata": {},
     "output_type": "execute_result"
    }
   ],
   "source": [
    "non_genic_enhancers_bed.count() + genic_enhancers_bed.count() == fantom_bed.count()"
   ]
  },
  {
   "cell_type": "code",
   "execution_count": 120,
   "metadata": {
    "collapsed": true
   },
   "outputs": [],
   "source": [
    "# 200 bp regions around core of enhancers\n",
    "enhancers_regions_bed = encode_bed_cores.slop(g=assembly_path, b=200)"
   ]
  },
  {
   "cell_type": "code",
   "execution_count": 121,
   "metadata": {
    "collapsed": false
   },
   "outputs": [
    {
     "data": {
      "text/plain": [
       "43011"
      ]
     },
     "execution_count": 121,
     "metadata": {},
     "output_type": "execute_result"
    }
   ],
   "source": [
    "enhancers_regions_bed.count()"
   ]
  },
  {
   "cell_type": "code",
   "execution_count": 122,
   "metadata": {
    "collapsed": false
   },
   "outputs": [],
   "source": [
    "genes_bed_df['size'] = genes_bed_df.apply(lambda row: compute_size(row), axis=1)"
   ]
  },
  {
   "cell_type": "code",
   "execution_count": 123,
   "metadata": {
    "collapsed": false
   },
   "outputs": [
    {
     "data": {
      "text/html": [
       "<div>\n",
       "<table border=\"1\" class=\"dataframe\">\n",
       "  <thead>\n",
       "    <tr style=\"text-align: right;\">\n",
       "      <th></th>\n",
       "      <th>size</th>\n",
       "    </tr>\n",
       "  </thead>\n",
       "  <tbody>\n",
       "    <tr>\n",
       "      <th>0.0</th>\n",
       "      <td>19.0</td>\n",
       "    </tr>\n",
       "    <tr>\n",
       "      <th>0.1</th>\n",
       "      <td>993.6</td>\n",
       "    </tr>\n",
       "    <tr>\n",
       "      <th>0.2</th>\n",
       "      <td>4083.0</td>\n",
       "    </tr>\n",
       "    <tr>\n",
       "      <th>0.3</th>\n",
       "      <td>8054.0</td>\n",
       "    </tr>\n",
       "    <tr>\n",
       "      <th>0.4</th>\n",
       "      <td>13047.0</td>\n",
       "    </tr>\n",
       "    <tr>\n",
       "      <th>0.5</th>\n",
       "      <td>20134.0</td>\n",
       "    </tr>\n",
       "    <tr>\n",
       "      <th>0.6</th>\n",
       "      <td>30029.2</td>\n",
       "    </tr>\n",
       "    <tr>\n",
       "      <th>0.7</th>\n",
       "      <td>44468.0</td>\n",
       "    </tr>\n",
       "    <tr>\n",
       "      <th>0.8</th>\n",
       "      <td>71447.4</td>\n",
       "    </tr>\n",
       "    <tr>\n",
       "      <th>0.9</th>\n",
       "      <td>133227.0</td>\n",
       "    </tr>\n",
       "  </tbody>\n",
       "</table>\n",
       "</div>"
      ],
      "text/plain": [
       "         size\n",
       "0.0      19.0\n",
       "0.1     993.6\n",
       "0.2    4083.0\n",
       "0.3    8054.0\n",
       "0.4   13047.0\n",
       "0.5   20134.0\n",
       "0.6   30029.2\n",
       "0.7   44468.0\n",
       "0.8   71447.4\n",
       "0.9  133227.0"
      ]
     },
     "execution_count": 123,
     "metadata": {},
     "output_type": "execute_result"
    }
   ],
   "source": [
    "genes_bed_df[['size']].quantile(np.arange(0,1,0.1))"
   ]
  },
  {
   "cell_type": "code",
   "execution_count": 124,
   "metadata": {
    "collapsed": false
   },
   "outputs": [],
   "source": [
    "def compute_density_region(bed_in_region_df, region_df):\n",
    "    region_size = region_df['size'].sum()\n",
    "    bed_in_region_size = bed_in_region_df['size'].sum()\n",
    "    \n",
    "    return bed_in_region_size / region_size"
   ]
  },
  {
   "cell_type": "code",
   "execution_count": 125,
   "metadata": {
    "collapsed": false
   },
   "outputs": [],
   "source": [
    "repeat_reg1_df = repeat_bed.intersect(genic_enhancers_bed, f=1e-09, u=True).to_dataframe()"
   ]
  },
  {
   "cell_type": "code",
   "execution_count": 126,
   "metadata": {
    "collapsed": false
   },
   "outputs": [],
   "source": [
    "repeat_reg2_df = repeat_bed.intersect(genic_non_enhancers_bed, f=1e-09, u=True).to_dataframe()"
   ]
  },
  {
   "cell_type": "code",
   "execution_count": 127,
   "metadata": {
    "collapsed": false
   },
   "outputs": [],
   "source": [
    "repeat_reg3_df = repeat_bed.intersect(non_genic_enhancers_bed, f=1e-09, u=True).to_dataframe()"
   ]
  },
  {
   "cell_type": "code",
   "execution_count": 128,
   "metadata": {
    "collapsed": false
   },
   "outputs": [],
   "source": [
    "repeat_reg4_df = repeat_bed.intersect(enhancers_regions_bed, f=1e-09, u=True).to_dataframe()"
   ]
  },
  {
   "cell_type": "code",
   "execution_count": 129,
   "metadata": {
    "collapsed": false
   },
   "outputs": [],
   "source": [
    "reg1_df = genic_enhancers_bed.to_dataframe()\n",
    "reg2_df = genic_non_enhancers_bed.to_dataframe()\n",
    "reg3_df = non_genic_enhancers_bed.to_dataframe()\n",
    "reg4_df = enhancers_regions_bed.to_dataframe()\n",
    "\n",
    "reg1_df['size'] =  reg1_df.apply(lambda row: compute_size(row), axis=1)\n",
    "reg2_df['size'] =  reg2_df.apply(lambda row: compute_size(row), axis=1)\n",
    "reg3_df['size'] =  reg3_df.apply(lambda row: compute_size(row), axis=1)\n",
    "reg4_df['size'] =  reg4_df.apply(lambda row: compute_size(row), axis=1)\n",
    "\n",
    "repeat_reg1_df['size'] = repeat_reg1_df.apply(lambda row: compute_size(row), axis=1)\n",
    "repeat_reg2_df['size'] = repeat_reg2_df.apply(lambda row: compute_size(row), axis=1)\n",
    "repeat_reg3_df['size'] = repeat_reg3_df.apply(lambda row: compute_size(row), axis=1)\n",
    "repeat_reg4_df['size'] = repeat_reg4_df.apply(lambda row: compute_size(row), axis=1)"
   ]
  },
  {
   "cell_type": "code",
   "execution_count": 130,
   "metadata": {
    "collapsed": false
   },
   "outputs": [
    {
     "name": "stdout",
     "output_type": "stream",
     "text": [
      "density of MIR in genic enhancers 0.056922729856361244\n",
      "density of MIR in genic non enhancers 0.010554416928043233\n",
      "density of MIR in non genic enhancers 0.05225036904657156\n",
      "density of MIR in enhancer regions 0.049385099160679825\n",
      "Normalized Ratios 0.3365965919169889 0.062410583199627036 0.3089678972154125 0.29202492766797156\n"
     ]
    }
   ],
   "source": [
    "d1 = compute_density_region(repeat_reg1_df,reg1_df)\n",
    "d2 = compute_density_region(repeat_reg2_df,reg2_df)\n",
    "d3 = compute_density_region(repeat_reg3_df,reg3_df)\n",
    "d4 = compute_density_region(repeat_reg4_df,reg4_df)\n",
    "\n",
    "print(\"density of MIR in genic enhancers\", d1)\n",
    "print(\"density of MIR in genic non enhancers\", d2)\n",
    "print(\"density of MIR in non genic enhancers\", d3)\n",
    "print(\"density of MIR in enhancer regions\", d4)\n",
    "\n",
    "sum_d = d1+d2+d3+d4\n",
    "\n",
    "print(\"Normalized Ratios\",d1/sum_d, d2/sum_d, d3/sum_d, d4/sum_d)\n"
   ]
  },
  {
   "cell_type": "markdown",
   "metadata": {},
   "source": [
    "## Closeness Profile"
   ]
  },
  {
   "cell_type": "code",
   "execution_count": 131,
   "metadata": {
    "collapsed": true
   },
   "outputs": [],
   "source": [
    "import warnings\n",
    "warnings.filterwarnings('ignore')\n",
    "\n",
    "import seaborn as sns\n",
    "%matplotlib inline\n",
    "import numpy as np\n",
    "from joblib import Parallel, delayed\n",
    "import multiprocessing\n",
    "\n",
    "def compute_centers(closeness_df):\n",
    "    closeness_df['centered_locus'] = round(\n",
    "        (closeness_df['end'] - closeness_df['start'])/2 \n",
    "        + closeness_df['start']).astype(int)\n",
    "\n",
    "    closeness_df['close_centered_locus'] = round(\n",
    "        (closeness_df['close_end'] - closeness_df['close_start'])/2 \n",
    "        + closeness_df['close_start']).astype(int)\n",
    "\n",
    "    closeness_df['centered_distance'] = closeness_df['close_centered_locus'] - closeness_df['centered_locus'] \n",
    "    return closeness_df\n",
    "\n",
    "def compute_closeness_df(sorted_bed, sorted_bed_with):\n",
    "    closeness_columns = ['chrom', 'start', 'end', 'name', 'score', 'strand',\n",
    "                     'close_chrom', 'close_start','close_end', \n",
    "                     'close_name', 'close_score', 'close_strand', 'distance']\n",
    "    closeness = sorted_bed.closest(sorted_bed_with, D='a')\n",
    "    closeness_df = closeness.to_dataframe()\n",
    "    closeness_df.columns = closeness_columns\n",
    "    closeness_df = compute_centers(closeness_df)\n",
    "    return closeness_df\n",
    "\n",
    "def build_closeness_df(bed, bed_with):\n",
    "    \n",
    "    closeness_columns = ['chrom', 'start', 'end', 'name', 'score', 'strand',\n",
    "                         'close_chrom', 'close_start','close_end', \n",
    "                         'close_name', 'close_score', 'close_strand', 'distance']\n",
    "    \n",
    "    sorted_bed = bed.sort()\n",
    "    sorted_bed_with = bed_with.sort()\n",
    "    \n",
    "    # real on real\n",
    "    closeness = sorted_bed.closest(sorted_bed_with, D='a')\n",
    "    closeness_df = closeness.to_dataframe()\n",
    "    closeness_df.columns = closeness_columns\n",
    "    closeness_df = compute_centers(closeness_df)\n",
    "    \n",
    "    return closeness_df"
   ]
  },
  {
   "cell_type": "code",
   "execution_count": 132,
   "metadata": {
    "collapsed": true
   },
   "outputs": [],
   "source": [
    "fantom_bed = BedTool().from_dataframe(\n",
    "    fantom_bed.to_dataframe()[['chrom', 'start', 'end', 'name', 'score', 'strand']])"
   ]
  },
  {
   "cell_type": "code",
   "execution_count": 133,
   "metadata": {
    "collapsed": true
   },
   "outputs": [],
   "source": [
    "repeat_closeness_df = build_closeness_df(fantom_bed, repeat_bed)"
   ]
  },
  {
   "cell_type": "code",
   "execution_count": 136,
   "metadata": {
    "collapsed": false
   },
   "outputs": [
    {
     "data": {
      "text/plain": [
       "(-5000, 5000)"
      ]
     },
     "execution_count": 136,
     "metadata": {},
     "output_type": "execute_result"
    },
    {
     "data": {
      "image/png": "[encoded data removed]",
      "text/plain": [
       "<matplotlib.figure.Figure at 0x12f097f60>"
      ]
     },
     "metadata": {},
     "output_type": "display_data"
    }
   ],
   "source": [
    "sns.set(style=\"whitegrid\")\n",
    "sns.set_context(\"poster\", font_scale=0.8, rc={\"lines.linewidth\": 1})\n",
    "g1 = sns.distplot(repeat_closeness_df[['centered_distance']], kde=False, bins=10000)\n",
    "g1.set_xlim(-5000, 5000)"
   ]
  },
  {
   "cell_type": "code",
   "execution_count": null,
   "metadata": {
    "collapsed": true
   },
   "outputs": [],
   "source": []
  }
 ],
 "metadata": {
  "anaconda-cloud": {},
  "kernelspec": {
   "display_name": "Python [conda root]",
   "language": "python",
   "name": "conda-root-py"
  },
  "language_info": {
   "codemirror_mode": {
    "name": "ipython",
    "version": 3
   },
   "file_extension": ".py",
   "mimetype": "text/x-python",
   "name": "python",
   "nbconvert_exporter": "python",
   "pygments_lexer": "ipython3",
   "version": "3.5.2"
  }
 },
 "nbformat": 4,
 "nbformat_minor": 1
}
