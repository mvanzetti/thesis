{
 "cells": [
  {
   "cell_type": "code",
   "execution_count": 13,
   "metadata": {
    "collapsed": true
   },
   "outputs": [],
   "source": [
    "import datetime\n",
    "\n",
    "class Timer:\n",
    "    \"\"\"A simple timer class\"\"\"\n",
    "\n",
    "    def __init__(self):\n",
    "        pass\n",
    "\n",
    "    def start(self):\n",
    "        \"\"\"Starts the timer\"\"\"\n",
    "        self.start = datetime.datetime.now()\n",
    "        return self.start\n",
    "\n",
    "    def stop(self, message=\"Total: \"):\n",
    "        \"\"\"Stops the timer.  Returns the time elapsed\"\"\"\n",
    "        self.stop = datetime.datetime.now()\n",
    "        return message + str(self.stop - self.start)\n",
    "\n",
    "    def now(self, message=\"Now: \"):\n",
    "        \"\"\"Returns the current time with a message\"\"\"\n",
    "        return message + \": \" + str(datetime.datetime.now())\n",
    "\n",
    "    def elapsed(self, message=\"Elapsed: \"):\n",
    "        \"\"\"Time elapsed since start was called\"\"\"\n",
    "        return message + str(datetime.datetime.now() - self.start)\n",
    "\n",
    "    def split(self, message=\"Split started at: \"):\n",
    "        \"\"\"Start a split timer\"\"\"\n",
    "        self.split_start = datetime.datetime.now()\n",
    "        return message + str(self.split_start)\n",
    "\n",
    "    def unsplit(self, message=\"Unsplit: \"):\n",
    "        \"\"\"Stops a split. Returns the time elapsed since split was called\"\"\"\n",
    "        return message + str(datetime.datetime.now() - self.split_start)\n"
   ]
  },
  {
   "cell_type": "code",
   "execution_count": 4,
   "metadata": {
    "collapsed": false
   },
   "outputs": [],
   "source": [
    "import pandas as pd\n",
    "import sqlite3\n",
    "import os\n",
    "from numpy import random\n",
    "\n",
    "from pandas.io import sql\n",
    "\n",
    "df = pd.DataFrame(random.randn(1000000,2),columns=list('AB'))\n",
    "\n",
    "def test_sql_write(df):\n",
    "    if os.path.exists('test.sql'):\n",
    "        os.remove('test.sql')\n",
    "    sql_db = sqlite3.connect('test.sql')\n",
    "    df.to_sql(name='test_table', con=sql_db)\n",
    "    sql_db.close()\n",
    "\n",
    "def test_sql_read():\n",
    "    sql_db = sqlite3.connect('test.sql')\n",
    "    pd.read_sql_query(\"select * from test_table\", sql_db)\n",
    "    sql_db.close()\n",
    "\n",
    "def test_hdf_fixed_write(df):\n",
    "    df.to_hdf('test_fixed.hdf','test',mode='w')\n",
    "\n",
    "def test_hdf_fixed_read():\n",
    "    pd.read_hdf('test_fixed.hdf','test')\n",
    "\n",
    "def test_hdf_fixed_write_compress(df):\n",
    "    df.to_hdf('test_fixed_compress.hdf','test',mode='w',complib='blosc')\n",
    "\n",
    "def test_hdf_fixed_read_compress():\n",
    "    pd.read_hdf('test_fixed_compress.hdf','test')\n",
    "\n",
    "def test_hdf_table_write(df):\n",
    "    df.to_hdf('test_table.hdf','test',mode='w',format='table')\n",
    "\n",
    "def test_hdf_table_read():\n",
    "    pd.read_hdf('test_table.hdf','test')\n",
    "\n",
    "def test_hdf_table_write_compress(df):\n",
    "    df.to_hdf('test_table_compress.hdf','test',mode='w',complib='blosc',format='table')\n",
    "\n",
    "def test_hdf_table_read_compress():\n",
    "    pd.read_hdf('test_table_compress.hdf','test')\n",
    "\n",
    "def test_csv_write(df):\n",
    "    df.to_csv('test.csv',mode='w')\n",
    "\n",
    "def test_csv_read():\n",
    "    pd.read_csv('test.csv',index_col=0)"
   ]
  },
  {
   "cell_type": "code",
   "execution_count": 5,
   "metadata": {
    "collapsed": false
   },
   "outputs": [
    {
     "name": "stdout",
     "output_type": "stream",
     "text": [
      "<class 'pandas.core.frame.DataFrame'>\n",
      "RangeIndex: 1000000 entries, 0 to 999999\n",
      "Data columns (total 2 columns):\n",
      "A    1000000 non-null float64\n",
      "B    1000000 non-null float64\n",
      "dtypes: float64(2)\n",
      "memory usage: 15.3 MB\n"
     ]
    }
   ],
   "source": [
    "df.info()"
   ]
  },
  {
   "cell_type": "code",
   "execution_count": 6,
   "metadata": {
    "collapsed": false
   },
   "outputs": [
    {
     "name": "stdout",
     "output_type": "stream",
     "text": [
      "1 loop, best of 3: 4.53 s per loop\n",
      "10 loops, best of 3: 28 ms per loop\n",
      "10 loops, best of 3: 100 ms per loop\n",
      "1 loop, best of 3: 405 ms per loop\n",
      "1 loop, best of 3: 531 ms per loop\n",
      "1 loop, best of 3: 4.53 s per loop\n"
     ]
    }
   ],
   "source": [
    "%timeit test_sql_write(df)\n",
    "%timeit test_hdf_fixed_write(df)\n",
    "%timeit test_hdf_fixed_write_compress(df)\n",
    "%timeit test_hdf_table_write(df)\n",
    "%timeit test_hdf_table_write_compress(df)\n",
    "%timeit test_csv_write(df)"
   ]
  },
  {
   "cell_type": "code",
   "execution_count": 30,
   "metadata": {
    "collapsed": false
   },
   "outputs": [
    {
     "name": "stdout",
     "output_type": "stream",
     "text": [
      "1 loop, best of 3: 491 ms per loop\n",
      "10 loops, best of 3: 40.5 ms per loop\n",
      "10 loops, best of 3: 44 ms per loop\n",
      "1 loop, best of 3: 631 ms per loop\n",
      "1 loop, best of 3: 733 ms per loop\n",
      "1 loop, best of 3: 185 ms per loop\n"
     ]
    }
   ],
   "source": [
    "%timeit test_sql_read()\n",
    "%timeit test_hdf_fixed_read()\n",
    "%timeit test_hdf_fixed_read_compress()\n",
    "%timeit test_hdf_table_read()\n",
    "%timeit test_hdf_table_read_compress()\n",
    "%timeit test_csv_read()"
   ]
  },
  {
   "cell_type": "code",
   "execution_count": 18,
   "metadata": {
    "collapsed": false
   },
   "outputs": [
    {
     "name": "stdout",
     "output_type": "stream",
     "text": [
      "Loaded csv file to dataframe in Elapsed: 0:00:09.146367\n",
      "Saved dataframe to hdf table in Unsplit: 0:00:03.834763\n",
      "Loaded hdf table in Unsplit: 0:00:02.324402\n"
     ]
    }
   ],
   "source": [
    "### FIXED\n",
    "timer = Timer()\n",
    "timer.start()\n",
    "file = \"/Users/manuel/development/thesis/overlap/filtered_hg19DNase_H3K27ac_FANTOM_overlapped.csv\"\n",
    "df = pd.DataFrame.from_csv(file, sep=\"\\t\")\n",
    "df.reset_index(level=0, inplace=True)\n",
    "print(\"Loaded csv file to dataframe in\", timer.elapsed())\n",
    "timer.split()\n",
    "df.to_hdf('encode_fantom.hdf','encode_fantom',mode='w')\n",
    "print(\"Saved dataframe to hdf fixed table in\", timer.unsplit())\n",
    "timer.split()\n",
    "returned = pd.read_hdf('encode_fantom.hdf','encode_fantom')\n",
    "print(\"Loaded hdf table in\", timer.unsplit())"
   ]
  },
  {
   "cell_type": "code",
   "execution_count": 22,
   "metadata": {
    "collapsed": false
   },
   "outputs": [
    {
     "name": "stdout",
     "output_type": "stream",
     "text": [
      "Loaded csv file to dataframe in Elapsed: 0:00:09.678734\n",
      "Saved dataframe to hdf table in Unsplit: 0:00:38.186737\n",
      "Loaded hdf table in Unsplit: 0:00:39.275191\n",
      "<class 'pandas.core.frame.DataFrame'>\n",
      "Int64Index: 1801781 entries, 0 to 1801780\n",
      "Data columns (total 27 columns):\n",
      "chrom                  object\n",
      "start                  int64\n",
      "end                    int64\n",
      "name                   object\n",
      "score                  int64\n",
      "strand                 object\n",
      "size                   int64\n",
      "method                 object\n",
      "description            object\n",
      "assembly               object\n",
      "biosample_type         object\n",
      "biosample_term_id      object\n",
      "biosample_term_name    object\n",
      "developmental_slims    object\n",
      "system_slims           object\n",
      "organ_slims            object\n",
      "encyclopedia           object\n",
      "FA_chrom               object\n",
      "FA_start               int64\n",
      "FA_end                 int64\n",
      "FA_name                object\n",
      "FA_score               int64\n",
      "FA_size                int64\n",
      "FA_method              object\n",
      "FA_ovlp_len            int64\n",
      "FA_ovlp_pct            float64\n",
      "FA_encyclopedia        object\n",
      "dtypes: float64(1), int64(9), object(17)\n",
      "memory usage: 384.9+ MB\n"
     ]
    }
   ],
   "source": [
    "### TABLE (query are allowed)\n",
    "timer = Timer()\n",
    "timer.start()\n",
    "file = \"/Users/manuel/development/thesis/overlap/filtered_hg19DNase_H3K27ac_FANTOM_overlapped.csv\"\n",
    "df = pd.DataFrame.from_csv(file, sep=\"\\t\")\n",
    "df.reset_index(level=0, inplace=True)\n",
    "print(\"Loaded csv file to dataframe in\", timer.elapsed())\n",
    "timer.split()\n",
    "df.to_hdf('encode_fantom_table.hdf','encode_fantom', mode='w', format='table', data_columns=['biosample_term_name'])\n",
    "print(\"Saved dataframe to hdf table in\", timer.unsplit())\n",
    "timer.split()\n",
    "returned = pd.read_hdf('encode_fantom_table.hdf','encode_fantom')\n",
    "print(\"Loaded hdf table in\", timer.unsplit())\n",
    "returned.info()"
   ]
  },
  {
   "cell_type": "code",
   "execution_count": 26,
   "metadata": {
    "collapsed": false
   },
   "outputs": [
    {
     "name": "stdout",
     "output_type": "stream",
     "text": [
      "Query on hdf table by biosample_term_name == \"placenta\" in Elapsed: 0:00:00.787150\n"
     ]
    },
    {
     "data": {
      "text/plain": [
       "'Total: 0:00:00.787254'"
      ]
     },
     "execution_count": 26,
     "metadata": {},
     "output_type": "execute_result"
    }
   ],
   "source": [
    "timer = Timer()\n",
    "timer.start()\n",
    "placenta_df = pd.read_hdf('encode_fantom_table.hdf','encode_fantom',where='biosample_term_name == \"placenta\"')\n",
    "print(\"Query on hdf table by biosample_term_name == \\\"placenta\\\" in\", timer.elapsed())\n",
    "timer.stop()"
   ]
  },
  {
   "cell_type": "code",
   "execution_count": 25,
   "metadata": {
    "collapsed": false
   },
   "outputs": [
    {
     "name": "stdout",
     "output_type": "stream",
     "text": [
      "<class 'pandas.core.frame.DataFrame'>\n",
      "Int64Index: 38752 entries, 36794 to 75545\n",
      "Data columns (total 27 columns):\n",
      "chrom                  38752 non-null object\n",
      "start                  38752 non-null int64\n",
      "end                    38752 non-null int64\n",
      "name                   38752 non-null object\n",
      "score                  38752 non-null int64\n",
      "strand                 38752 non-null object\n",
      "size                   38752 non-null int64\n",
      "method                 38752 non-null object\n",
      "description            38752 non-null object\n",
      "assembly               38752 non-null object\n",
      "biosample_type         38752 non-null object\n",
      "biosample_term_id      38752 non-null object\n",
      "biosample_term_name    38752 non-null object\n",
      "developmental_slims    38752 non-null object\n",
      "system_slims           38752 non-null object\n",
      "organ_slims            38752 non-null object\n",
      "encyclopedia           38752 non-null object\n",
      "FA_chrom               38752 non-null object\n",
      "FA_start               38752 non-null int64\n",
      "FA_end                 38752 non-null int64\n",
      "FA_name                38752 non-null object\n",
      "FA_score               38752 non-null int64\n",
      "FA_size                38752 non-null int64\n",
      "FA_method              38752 non-null object\n",
      "FA_ovlp_len            38752 non-null int64\n",
      "FA_ovlp_pct            38752 non-null float64\n",
      "FA_encyclopedia        38752 non-null object\n",
      "dtypes: float64(1), int64(9), object(17)\n",
      "memory usage: 8.3+ MB\n"
     ]
    }
   ],
   "source": [
    "placenta_df.info()"
   ]
  },
  {
   "cell_type": "code",
   "execution_count": null,
   "metadata": {
    "collapsed": true
   },
   "outputs": [],
   "source": []
  }
 ],
 "metadata": {
  "anaconda-cloud": {},
  "kernelspec": {
   "display_name": "Python [conda root]",
   "language": "python",
   "name": "conda-root-py"
  },
  "language_info": {
   "codemirror_mode": {
    "name": "ipython",
    "version": 3
   },
   "file_extension": ".py",
   "mimetype": "text/x-python",
   "name": "python",
   "nbconvert_exporter": "python",
   "pygments_lexer": "ipython3",
   "version": "3.5.2"
  }
 },
 "nbformat": 4,
 "nbformat_minor": 1
}
