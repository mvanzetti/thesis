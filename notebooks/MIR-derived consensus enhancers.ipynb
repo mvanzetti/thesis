{
 "cells": [
  {
   "cell_type": "code",
   "execution_count": 1,
   "metadata": {
    "collapsed": false
   },
   "outputs": [
    {
     "data": {
      "text/plain": [
       "'../download/genome/hg19.genome'"
      ]
     },
     "execution_count": 1,
     "metadata": {},
     "output_type": "execute_result"
    }
   ],
   "source": [
    "# export full genome\n",
    "from pybedtools import genome_registry, chromsizes_to_file, chromsizes\n",
    "chromsizes_to_file(chromsizes('hg19'), '../download/genome/hg19.genome')"
   ]
  },
  {
   "cell_type": "code",
   "execution_count": 2,
   "metadata": {
    "collapsed": true
   },
   "outputs": [],
   "source": [
    "assembly_path = \"../download/genome/hg19_reduced.genome\""
   ]
  },
  {
   "cell_type": "code",
   "execution_count": 3,
   "metadata": {
    "collapsed": true
   },
   "outputs": [],
   "source": [
    "import pandas as pd\n",
    "import numpy as np\n",
    "from pybedtools import BedTool"
   ]
  },
  {
   "cell_type": "code",
   "execution_count": 4,
   "metadata": {
    "collapsed": true
   },
   "outputs": [],
   "source": [
    "store = pd.HDFStore(\"../storage/encode_overlaps.hdf\")\n",
    "store_repeat = pd.HDFStore(\"../storage/repeatmasker_staging.hdf\")"
   ]
  },
  {
   "cell_type": "code",
   "execution_count": 5,
   "metadata": {
    "collapsed": false
   },
   "outputs": [
    {
     "data": {
      "text/plain": [
       "['/filtered_hg19_DNase_H3K27ac_FANTOM_overlapped',\n",
       " '/filtered_hg19_DNase_H3K27ac_FANTOM_overlapped_bed']"
      ]
     },
     "execution_count": 5,
     "metadata": {},
     "output_type": "execute_result"
    }
   ],
   "source": [
    "store.keys()"
   ]
  },
  {
   "cell_type": "code",
   "execution_count": 6,
   "metadata": {
    "collapsed": false
   },
   "outputs": [
    {
     "data": {
      "text/plain": [
       "['/DNA',\n",
       " '/DNA_Kolobok',\n",
       " '/DNA_Kolobok_bed',\n",
       " '/DNA_MULE_MuDR',\n",
       " '/DNA_MULE_MuDR_bed',\n",
       " '/DNA_Merlin',\n",
       " '/DNA_Merlin_bed',\n",
       " '/DNA_PIF_Harbinger',\n",
       " '/DNA_PIF_Harbinger_bed',\n",
       " '/DNA_PiggyBac',\n",
       " '/DNA_PiggyBac_bed',\n",
       " '/DNA_TcMar',\n",
       " '/DNA_TcMar_Mariner',\n",
       " '/DNA_TcMar_Mariner_bed',\n",
       " '/DNA_TcMar_Pogo',\n",
       " '/DNA_TcMar_Pogo_bed',\n",
       " '/DNA_TcMar_Tc1',\n",
       " '/DNA_TcMar_Tc1_bed',\n",
       " '/DNA_TcMar_Tc2',\n",
       " '/DNA_TcMar_Tc2_bed',\n",
       " '/DNA_TcMar_Tigger',\n",
       " '/DNA_TcMar_Tigger_bed',\n",
       " '/DNA_TcMar_bed',\n",
       " '/DNA_TcMar_qm',\n",
       " '/DNA_TcMar_qm_bed',\n",
       " '/DNA_bed',\n",
       " '/DNA_hAT',\n",
       " '/DNA_hAT_Ac',\n",
       " '/DNA_hAT_Ac_bed',\n",
       " '/DNA_hAT_Blackjack',\n",
       " '/DNA_hAT_Blackjack_bed',\n",
       " '/DNA_hAT_Charlie',\n",
       " '/DNA_hAT_Charlie_bed',\n",
       " '/DNA_hAT_Tag1',\n",
       " '/DNA_hAT_Tag1_bed',\n",
       " '/DNA_hAT_Tip100',\n",
       " '/DNA_hAT_Tip100_bed',\n",
       " '/DNA_hAT_Tip100_qm',\n",
       " '/DNA_hAT_Tip100_qm_bed',\n",
       " '/DNA_hAT_bed',\n",
       " '/DNA_hAT_qm',\n",
       " '/DNA_hAT_qm_bed',\n",
       " '/DNA_qm',\n",
       " '/DNA_qm_PiggyBac_qm',\n",
       " '/DNA_qm_PiggyBac_qm_bed',\n",
       " '/DNA_qm_bed',\n",
       " '/DNA_qm_hAT_Tip100_qm',\n",
       " '/DNA_qm_hAT_Tip100_qm_bed',\n",
       " '/LINE_CR1',\n",
       " '/LINE_CR1_bed',\n",
       " '/LINE_Dong_R4',\n",
       " '/LINE_Dong_R4_bed',\n",
       " '/LINE_Jockey',\n",
       " '/LINE_Jockey_bed',\n",
       " '/LINE_L1',\n",
       " '/LINE_L1_Tx1',\n",
       " '/LINE_L1_Tx1_bed',\n",
       " '/LINE_L1_bed',\n",
       " '/LINE_L2',\n",
       " '/LINE_L2_bed',\n",
       " '/LINE_Penelope',\n",
       " '/LINE_Penelope_bed',\n",
       " '/LINE_RTE_BovB',\n",
       " '/LINE_RTE_BovB_bed',\n",
       " '/LINE_RTE_X',\n",
       " '/LINE_RTE_X_bed',\n",
       " '/LTR',\n",
       " '/LTR_ERV1',\n",
       " '/LTR_ERV1_bed',\n",
       " '/LTR_ERV1_qm',\n",
       " '/LTR_ERV1_qm_bed',\n",
       " '/LTR_ERVK',\n",
       " '/LTR_ERVK_bed',\n",
       " '/LTR_ERVL',\n",
       " '/LTR_ERVL_MaLR',\n",
       " '/LTR_ERVL_MaLR_bed',\n",
       " '/LTR_ERVL_bed',\n",
       " '/LTR_ERVL_qm',\n",
       " '/LTR_ERVL_qm_bed',\n",
       " '/LTR_Gypsy',\n",
       " '/LTR_Gypsy_bed',\n",
       " '/LTR_Gypsy_qm',\n",
       " '/LTR_Gypsy_qm_bed',\n",
       " '/LTR_bed',\n",
       " '/LTR_qm',\n",
       " '/LTR_qm_bed',\n",
       " '/Low_complexity',\n",
       " '/Low_complexity_bed',\n",
       " '/RC_Helitron',\n",
       " '/RC_Helitron_bed',\n",
       " '/RC_qm_Helitron_qm',\n",
       " '/RC_qm_Helitron_qm_bed',\n",
       " '/RNA',\n",
       " '/RNA_bed',\n",
       " '/Retroposon_SVA',\n",
       " '/Retroposon_SVA_bed',\n",
       " '/SINE_5S_Deu_L2',\n",
       " '/SINE_5S_Deu_L2_bed',\n",
       " '/SINE_Alu',\n",
       " '/SINE_Alu_bed',\n",
       " '/SINE_MIR',\n",
       " '/SINE_MIR_bed',\n",
       " '/SINE_qm_tRNA',\n",
       " '/SINE_qm_tRNA_bed',\n",
       " '/SINE_tRNA',\n",
       " '/SINE_tRNA_Deu',\n",
       " '/SINE_tRNA_Deu_bed',\n",
       " '/SINE_tRNA_RTE',\n",
       " '/SINE_tRNA_RTE_bed',\n",
       " '/SINE_tRNA_bed',\n",
       " '/Satellite',\n",
       " '/Satellite_acro',\n",
       " '/Satellite_acro_bed',\n",
       " '/Satellite_bed',\n",
       " '/Satellite_centr',\n",
       " '/Satellite_centr_bed',\n",
       " '/Satellite_telo',\n",
       " '/Satellite_telo_bed',\n",
       " '/Simple_repeat',\n",
       " '/Simple_repeat_bed',\n",
       " '/Unknown',\n",
       " '/Unknown_bed',\n",
       " '/rRNA',\n",
       " '/rRNA_bed',\n",
       " '/scRNA',\n",
       " '/scRNA_bed',\n",
       " '/snRNA',\n",
       " '/snRNA_bed',\n",
       " '/srpRNA',\n",
       " '/srpRNA_bed',\n",
       " '/tRNA',\n",
       " '/tRNA_bed']"
      ]
     },
     "execution_count": 6,
     "metadata": {},
     "output_type": "execute_result"
    }
   ],
   "source": [
    "store_repeat.keys()"
   ]
  },
  {
   "cell_type": "code",
   "execution_count": 7,
   "metadata": {
    "collapsed": true
   },
   "outputs": [],
   "source": [
    "store.close()\n",
    "store_repeat.close()"
   ]
  },
  {
   "cell_type": "code",
   "execution_count": 8,
   "metadata": {
    "collapsed": true
   },
   "outputs": [],
   "source": [
    "encode_metadata = pd.read_hdf(\"../storage/encode_staging.hdf\", \"encode_metadata\")"
   ]
  },
  {
   "cell_type": "code",
   "execution_count": 91,
   "metadata": {
    "collapsed": false
   },
   "outputs": [
    {
     "data": {
      "text/plain": [
       "array(['large intestine', 'stomach', 'brain', 'adrenal gland', 'amnion',\n",
       "       'placenta', 'urinary bladder', 'skeletal muscle tissue',\n",
       "       'muscle layer of duodenum', 'thymus', 'heart', 'eye',\n",
       "       'small intestine', 'muscle of leg', 'tongue', 'umbilical cord',\n",
       "       'lung', 'pancreas', 'female gonad', 'psoas muscle',\n",
       "       'heart left ventricle', 'layer of hippocampus',\n",
       "       'middle frontal area 46', 'muscle of trunk', 'cingulate gyrus',\n",
       "       'midbrain', 'globus pallidus', 'substantia nigra',\n",
       "       'middle frontal gyrus', 'heart right ventricle', 'mucosa of rectum',\n",
       "       'temporal lobe', 'endocrine pancreas', 'caudate nucleus', 'liver',\n",
       "       'angular gyrus', 'muscle layer of colon', 'sigmoid colon',\n",
       "       'colonic mucosa', 'aorta', 'spleen', 'spinal cord',\n",
       "       'rectal smooth muscle tissue', 'stomach smooth muscle',\n",
       "       'right cardiac atrium', 'kidney', 'left kidney', 'esophagus'], dtype=object)"
      ]
     },
     "execution_count": 91,
     "metadata": {},
     "output_type": "execute_result"
    }
   ],
   "source": [
    "encode_metadata.query(\"assembly == 'hg19' & biosample_type=='tissue'\")['biosample_term_name'].unique()"
   ]
  },
  {
   "cell_type": "code",
   "execution_count": 93,
   "metadata": {
    "collapsed": false
   },
   "outputs": [
    {
     "data": {
      "text/html": [
       "<div>\n",
       "<table border=\"1\" class=\"dataframe\">\n",
       "  <thead>\n",
       "    <tr style=\"text-align: right;\">\n",
       "      <th></th>\n",
       "      <th>accession</th>\n",
       "      <th>assembly</th>\n",
       "      <th>biosample_term_id</th>\n",
       "      <th>biosample_term_name</th>\n",
       "      <th>biosample_type</th>\n",
       "      <th>description</th>\n",
       "      <th>developmental_slims</th>\n",
       "      <th>encyclopedia_version</th>\n",
       "      <th>month_released</th>\n",
       "      <th>organ_slims</th>\n",
       "      <th>organism</th>\n",
       "      <th>system_slims</th>\n",
       "      <th>bed_filename</th>\n",
       "      <th>bed_filepath</th>\n",
       "      <th>merged</th>\n",
       "      <th>method</th>\n",
       "    </tr>\n",
       "  </thead>\n",
       "  <tbody>\n",
       "    <tr>\n",
       "      <th>67</th>\n",
       "      <td>ENCSR378TPC</td>\n",
       "      <td>hg19</td>\n",
       "      <td>UBERON:0001987</td>\n",
       "      <td>placenta</td>\n",
       "      <td>tissue</td>\n",
       "      <td>Enhancer-like regions using DNase and H3K27ac ...</td>\n",
       "      <td>[mesoderm]</td>\n",
       "      <td>3</td>\n",
       "      <td>June, 2016</td>\n",
       "      <td>[placenta,extraembryonic structure]</td>\n",
       "      <td>/organisms/human/</td>\n",
       "      <td>[reproductive system]</td>\n",
       "      <td>ENCFF447DLF.bed.gz</td>\n",
       "      <td>/Users/manuel/development/thesis/download/ENCO...</td>\n",
       "      <td>False</td>\n",
       "      <td>DNase_H3K27ac</td>\n",
       "    </tr>\n",
       "  </tbody>\n",
       "</table>\n",
       "</div>"
      ],
      "text/plain": [
       "      accession assembly biosample_term_id biosample_term_name biosample_type  \\\n",
       "67  ENCSR378TPC     hg19    UBERON:0001987            placenta         tissue   \n",
       "\n",
       "                                          description developmental_slims  \\\n",
       "67  Enhancer-like regions using DNase and H3K27ac ...          [mesoderm]   \n",
       "\n",
       "   encyclopedia_version month_released                          organ_slims  \\\n",
       "67                    3     June, 2016  [placenta,extraembryonic structure]   \n",
       "\n",
       "             organism           system_slims        bed_filename  \\\n",
       "67  /organisms/human/  [reproductive system]  ENCFF447DLF.bed.gz   \n",
       "\n",
       "                                         bed_filepath merged         method  \n",
       "67  /Users/manuel/development/thesis/download/ENCO...  False  DNase_H3K27ac  "
      ]
     },
     "execution_count": 93,
     "metadata": {},
     "output_type": "execute_result"
    }
   ],
   "source": [
    "encode_metadata.query(\"assembly == 'hg19' & biosample_term_name == 'placenta' & method=='DNase_H3K27ac'\")"
   ]
  },
  {
   "cell_type": "code",
   "execution_count": 1,
   "metadata": {
    "collapsed": false
   },
   "outputs": [
    {
     "ename": "NameError",
     "evalue": "name 'BedTool' is not defined",
     "output_type": "error",
     "traceback": [
      "\u001b[0;31m---------------------------------------------------------------------------\u001b[0m",
      "\u001b[0;31mNameError\u001b[0m                                 Traceback (most recent call last)",
      "\u001b[0;32m<ipython-input-1-1205b3c6923b>\u001b[0m in \u001b[0;36m<module>\u001b[0;34m()\u001b[0m\n\u001b[0;32m----> 1\u001b[0;31m \u001b[0mencode_bed\u001b[0m \u001b[0;34m=\u001b[0m \u001b[0mBedTool\u001b[0m\u001b[0;34m(\u001b[0m\u001b[0;34m\"../download/ENCODE/ENCSR378TPC/files/ENCFF447DLF/ENCFF447DLF.bed.gz\"\u001b[0m\u001b[0;34m)\u001b[0m\u001b[0;34m\u001b[0m\u001b[0m\n\u001b[0m\u001b[1;32m      2\u001b[0m \u001b[0mencode_bed\u001b[0m\u001b[0;34m.\u001b[0m\u001b[0mcount\u001b[0m\u001b[0;34m(\u001b[0m\u001b[0;34m)\u001b[0m\u001b[0;34m\u001b[0m\u001b[0m\n",
      "\u001b[0;31mNameError\u001b[0m: name 'BedTool' is not defined"
     ]
    }
   ],
   "source": [
    "encode_bed = BedTool(\"../download/ENCODE/ENCSR378TPC/files/ENCFF447DLF/ENCFF447DLF.bed.gz\")\n",
    "encode_bed.count()"
   ]
  },
  {
   "cell_type": "code",
   "execution_count": 69,
   "metadata": {
    "collapsed": true
   },
   "outputs": [],
   "source": [
    "repeat_bed_df = pd.read_hdf(\"../storage/repeatmasker_staging.hdf\", \"SINE_MIR_bed\")\n",
    "repeat_bed = BedTool().from_dataframe(repeat_bed_df)"
   ]
  },
  {
   "cell_type": "code",
   "execution_count": 70,
   "metadata": {
    "collapsed": false
   },
   "outputs": [
    {
     "data": {
      "text/plain": [
       "36772"
      ]
     },
     "execution_count": 70,
     "metadata": {},
     "output_type": "execute_result"
    }
   ],
   "source": [
    "encode_bed.count()"
   ]
  },
  {
   "cell_type": "code",
   "execution_count": 71,
   "metadata": {
    "collapsed": false
   },
   "outputs": [
    {
     "data": {
      "text/plain": [
       "594372"
      ]
     },
     "execution_count": 71,
     "metadata": {},
     "output_type": "execute_result"
    }
   ],
   "source": [
    "repeat_bed.count()"
   ]
  },
  {
   "cell_type": "code",
   "execution_count": 72,
   "metadata": {
    "collapsed": false
   },
   "outputs": [
    {
     "data": {
      "text/plain": [
       "array(['chr1', 'chr2', 'chr3', 'chr4', 'chr5', 'chr6', 'chr7', 'chrX',\n",
       "       'chr8', 'chr9', 'chr10', 'chr11', 'chr12', 'chr13', 'chr14',\n",
       "       'chr15', 'chr16', 'chr17', 'chr18', 'chr20', 'chrY', 'chr19',\n",
       "       'chr22', 'chr21'], dtype=object)"
      ]
     },
     "execution_count": 72,
     "metadata": {},
     "output_type": "execute_result"
    }
   ],
   "source": [
    "repeat_bed.to_dataframe()['chrom'].unique()"
   ]
  },
  {
   "cell_type": "code",
   "execution_count": 73,
   "metadata": {
    "collapsed": false
   },
   "outputs": [],
   "source": [
    "encode_bed_df = encode_bed.to_dataframe()"
   ]
  },
  {
   "cell_type": "code",
   "execution_count": 74,
   "metadata": {
    "collapsed": true
   },
   "outputs": [],
   "source": [
    "# removing chroms\n",
    "chroms = encode_bed_df['chrom'].unique()\n",
    "repeat_bed = BedTool().from_dataframe(repeat_bed_df.query('chrom in @chroms'))"
   ]
  },
  {
   "cell_type": "code",
   "execution_count": 75,
   "metadata": {
    "collapsed": false
   },
   "outputs": [
    {
     "data": {
      "text/plain": [
       "593160"
      ]
     },
     "execution_count": 75,
     "metadata": {},
     "output_type": "execute_result"
    }
   ],
   "source": [
    "repeat_bed.count()"
   ]
  },
  {
   "cell_type": "markdown",
   "metadata": {},
   "source": [
    "### MIR size distribution"
   ]
  },
  {
   "cell_type": "code",
   "execution_count": 76,
   "metadata": {
    "collapsed": true
   },
   "outputs": [],
   "source": [
    "def compute_size(row, prefix=None):\n",
    "    col_name = prefix + '_name' if prefix else 'name'\n",
    "    if row[col_name] == '.':\n",
    "        return 0\n",
    "    col_end = prefix + '_end' if prefix else 'end'\n",
    "    col_start = prefix + '_start' if prefix else 'start'\n",
    "    size = abs(row[col_end] - row[col_start])\n",
    "    return size"
   ]
  },
  {
   "cell_type": "code",
   "execution_count": 77,
   "metadata": {
    "collapsed": true
   },
   "outputs": [],
   "source": [
    "# MIR size\n",
    "repeat_bed_df = repeat_bed.to_dataframe()\n",
    "repeat_bed_df['size'] = repeat_bed_df.apply(lambda row: compute_size(row), axis=1)"
   ]
  },
  {
   "cell_type": "code",
   "execution_count": 78,
   "metadata": {
    "collapsed": false
   },
   "outputs": [],
   "source": [
    "encode_bed_df['size'] = encode_bed_df.apply(lambda row: compute_size(row), axis=1)"
   ]
  },
  {
   "cell_type": "code",
   "execution_count": 87,
   "metadata": {
    "collapsed": false
   },
   "outputs": [],
   "source": [
    "fantom_bed_df = fantom_bed.to_dataframe()\n",
    "fantom_bed_df['size'] = fantom_bed_df.apply(lambda row: compute_size(row), axis=1)\n",
    "encode_bed_df['size'] = encode_bed_df.apply(lambda row: compute_size(row), axis=1)"
   ]
  },
  {
   "cell_type": "code",
   "execution_count": 89,
   "metadata": {
    "collapsed": false
   },
   "outputs": [
    {
     "data": {
      "text/plain": [
       "<matplotlib.text.Text at 0x1178e7320>"
      ]
     },
     "execution_count": 89,
     "metadata": {},
     "output_type": "execute_result"
    },
    {
     "data": {
      "image/png": "[encoded data removed]",
      "text/plain": [
       "<matplotlib.figure.Figure at 0x11c194da0>"
      ]
     },
     "metadata": {},
     "output_type": "display_data"
    }
   ],
   "source": [
    "import seaborn as sns\n",
    "%matplotlib inline\n",
    "sns.set(style=\"ticks\", palette=\"muted\", color_codes=True)\n",
    "sns.set_context(\"paper\", font_scale=1.2, rc={\"lines.linewidth\": 2})\n",
    "ax = sns.distplot(encode_bed_df[['size']], kde=False, color='red')\n",
    "ax.set_ylabel('Counts', size=12)\n",
    "ax.set_xlabel('K562 DNase and H3K27ac enhancers size', size=12)"
   ]
  },
  {
   "cell_type": "code",
   "execution_count": 80,
   "metadata": {
    "collapsed": false
   },
   "outputs": [
    {
     "data": {
      "text/plain": [
       "<matplotlib.text.Text at 0x11c169588>"
      ]
     },
     "execution_count": 80,
     "metadata": {},
     "output_type": "execute_result"
    },
    {
     "data": {
      "image/png": "[encoded data removed]",
      "text/plain": [
       "<matplotlib.figure.Figure at 0x11c168780>"
      ]
     },
     "metadata": {},
     "output_type": "display_data"
    }
   ],
   "source": [
    "import seaborn as sns\n",
    "%matplotlib inline\n",
    "import scipy.stats as st\n",
    "sns.set(style=\"ticks\", palette=\"muted\", color_codes=True)\n",
    "sns.set_context(\"paper\", font_scale=1.2, rc={\"lines.linewidth\": 2})\n",
    "ax = sns.distplot(repeat_bed_df[['size']], kde=False)\n",
    "\n",
    "ax.set_ylabel('Counts', size=12)\n",
    "ax.set_xlabel('MIRs size', size=12)"
   ]
  },
  {
   "cell_type": "markdown",
   "metadata": {},
   "source": [
    "## Full MIR in enhancer"
   ]
  },
  {
   "cell_type": "code",
   "execution_count": 81,
   "metadata": {
    "collapsed": false
   },
   "outputs": [
    {
     "data": {
      "text/plain": [
       "10209"
      ]
     },
     "execution_count": 81,
     "metadata": {},
     "output_type": "execute_result"
    }
   ],
   "source": [
    "real_count = encode_bed.intersect(repeat_bed, F=1).count()\n",
    "real_count"
   ]
  },
  {
   "cell_type": "code",
   "execution_count": 82,
   "metadata": {
    "collapsed": false
   },
   "outputs": [
    {
     "data": {
      "text/plain": [
       "10209"
      ]
     },
     "execution_count": 82,
     "metadata": {},
     "output_type": "execute_result"
    }
   ],
   "source": [
    "repeat_bed.intersect(encode_bed, f=1).count()"
   ]
  },
  {
   "cell_type": "code",
   "execution_count": 83,
   "metadata": {
    "collapsed": false
   },
   "outputs": [
    {
     "data": {
      "text/plain": [
       "<FisherOutput at 4766326064>\n",
       "# Number of query intervals: 36772\n",
       "# Number of db intervals: 593104\n",
       "# Number of overlaps: 10209\n",
       "# Number of possible intervals (estimated): 2305424\n",
       "# phyper(10209 - 1, 36772, 2305424 - 36772, 593104, lower.tail=F)\n",
       "# Contingency Table Of Counts\n",
       "#_________________________________________\n",
       "#           |  in -b       | not in -b    |\n",
       "#     in -a | 10209        | 26563        |\n",
       "# not in -a | 582895       | 1685757      |\n",
       "#_________________________________________\n",
       "# p-values for fisher's exact test\n",
       "left\tright\ttwo-tail\tratio\n",
       "1\t2.1752e-19\t4.2103e-19\t1.112"
      ]
     },
     "execution_count": 83,
     "metadata": {},
     "output_type": "execute_result"
    }
   ],
   "source": [
    "encode_bed.sort().fisher(repeat_bed.sort(), F=1, g=assembly_path)"
   ]
  },
  {
   "cell_type": "code",
   "execution_count": 84,
   "metadata": {
    "collapsed": false
   },
   "outputs": [
    {
     "data": {
      "text/plain": [
       "{'intersection': 1331670,\n",
       " 'jaccard': 0.0104801,\n",
       " 'n_intersections': 10026,\n",
       " 'union-intersection': 127066206}"
      ]
     },
     "execution_count": 84,
     "metadata": {},
     "output_type": "execute_result"
    }
   ],
   "source": [
    "encode_bed.sort().jaccard(repeat_bed.sort(), F=1, g=assembly_path)"
   ]
  },
  {
   "cell_type": "markdown",
   "metadata": {},
   "source": [
    "### Null Model 1: shuffled enhancers"
   ]
  },
  {
   "cell_type": "code",
   "execution_count": 30,
   "metadata": {
    "collapsed": false
   },
   "outputs": [],
   "source": [
    "def compare_null_model(counts, real_count):\n",
    "    print(\"mean:\", np.mean(counts), \"std:\", np.std(counts))\n",
    "    import seaborn as sns\n",
    "    %matplotlib inline\n",
    "    import scipy.stats as st\n",
    "    sns.distplot(counts, kde=False, fit=st.norm, bins=20)\n",
    "    z_score =(real_count - np.mean(counts))/np.std(counts)\n",
    "    p_values = st.norm.sf(abs(z_score))\n",
    "    print(\"z-score:\", z_score, \"p-value:\",p_values)"
   ]
  },
  {
   "cell_type": "code",
   "execution_count": 31,
   "metadata": {
    "collapsed": true
   },
   "outputs": [],
   "source": [
    "def build_shuffled_full_overlap(bed, bed_overlap_with, assembly_path):\n",
    "    shuffled_bed = bed.shuffle(g=assembly_path)\n",
    "    core_null_model_intersection = shuffled_bed.intersect(bed_overlap_with, F=1)\n",
    "    return core_null_model_intersection.count()"
   ]
  },
  {
   "cell_type": "code",
   "execution_count": 32,
   "metadata": {
    "collapsed": false
   },
   "outputs": [],
   "source": [
    "from joblib import Parallel, delayed\n",
    "import multiprocessing\n",
    "counts = []\n",
    "num_cores = multiprocessing.cpu_count()\n",
    "counts.append(Parallel(n_jobs=num_cores)(delayed(build_shuffled_full_overlap)\n",
    "                                             (encode_bed, repeat_bed, assembly_path)\n",
    "                                             for i in range(0, 100)))"
   ]
  },
  {
   "cell_type": "code",
   "execution_count": 33,
   "metadata": {
    "collapsed": false
   },
   "outputs": [
    {
     "name": "stdout",
     "output_type": "stream",
     "text": [
      "mean: 146.72 std: 11.2036422649\n",
      "z-score: 4.57708295102 p-value: 2.35752265406e-06\n"
     ]
    },
    {
     "data": {
      "image/png": "[encoded data removed]",
      "text/plain": [
       "<matplotlib.figure.Figure at 0x11adaee10>"
      ]
     },
     "metadata": {},
     "output_type": "display_data"
    }
   ],
   "source": [
    "compare_null_model(counts, real_count)"
   ]
  },
  {
   "cell_type": "markdown",
   "metadata": {},
   "source": [
    "### Null Model 2: shuffled repeats"
   ]
  },
  {
   "cell_type": "code",
   "execution_count": 34,
   "metadata": {
    "collapsed": true
   },
   "outputs": [],
   "source": [
    "def build_shuffled_full_overlap_with(bed, bed_overlap_with, assembly_path):\n",
    "    shuffled_bed_with = bed_overlap_with.shuffle(g=assembly_path)\n",
    "    core_null_model_intersection = bed.intersect(shuffled_bed_with, F=1)\n",
    "    return core_null_model_intersection.count()"
   ]
  },
  {
   "cell_type": "code",
   "execution_count": 35,
   "metadata": {
    "collapsed": true
   },
   "outputs": [],
   "source": [
    "from joblib import Parallel, delayed\n",
    "import multiprocessing\n",
    "counts = []\n",
    "num_cores = multiprocessing.cpu_count()\n",
    "counts.append(Parallel(n_jobs=num_cores)(delayed(build_shuffled_full_overlap_with)\n",
    "                                             (encode_bed, repeat_bed, assembly_path)\n",
    "                                             for i in range(0, 100)))"
   ]
  },
  {
   "cell_type": "code",
   "execution_count": 36,
   "metadata": {
    "collapsed": false
   },
   "outputs": [
    {
     "name": "stdout",
     "output_type": "stream",
     "text": [
      "mean: 146.05 std: 13.7893981014\n",
      "z-score: 3.76738706199 p-value: 8.24825646955e-05\n"
     ]
    },
    {
     "data": {
      "image/png": "[encoded data removed]",
      "text/plain": [
       "<matplotlib.figure.Figure at 0x11bfcf748>"
      ]
     },
     "metadata": {},
     "output_type": "display_data"
    }
   ],
   "source": [
    "compare_null_model(counts, real_count)"
   ]
  },
  {
   "cell_type": "markdown",
   "metadata": {},
   "source": [
    "### Null Model 3: shuffled on shuffled"
   ]
  },
  {
   "cell_type": "code",
   "execution_count": 37,
   "metadata": {
    "collapsed": true
   },
   "outputs": [],
   "source": [
    "def build_shuffled_on_shuffled_full_overlap(bed, bed_overlap_with, assembly_path):\n",
    "    shuffled_bed = bed.shuffle(g=assembly_path)\n",
    "    shuffled_bed_with = bed_overlap_with.shuffle(g=assembly_path)\n",
    "    core_null_model_intersection = shuffled_bed.intersect(shuffled_bed_with, F=1)\n",
    "    return core_null_model_intersection.count()"
   ]
  },
  {
   "cell_type": "code",
   "execution_count": 38,
   "metadata": {
    "collapsed": true
   },
   "outputs": [],
   "source": [
    "from joblib import Parallel, delayed\n",
    "import multiprocessing\n",
    "counts = []\n",
    "num_cores = multiprocessing.cpu_count()\n",
    "counts.append(Parallel(n_jobs=num_cores)(delayed(build_shuffled_on_shuffled_full_overlap)\n",
    "                                             (encode_bed, repeat_bed, assembly_path)\n",
    "                                             for i in range(0, 100)))"
   ]
  },
  {
   "cell_type": "code",
   "execution_count": 39,
   "metadata": {
    "collapsed": false,
    "scrolled": true
   },
   "outputs": [
    {
     "name": "stdout",
     "output_type": "stream",
     "text": [
      "mean: 147.47 std: 12.0311720127\n",
      "z-score: 4.19992332804 p-value: 1.33502690239e-05\n"
     ]
    },
    {
     "data": {
      "image/png": "[encoded data removed]",
      "text/plain": [
       "<matplotlib.figure.Figure at 0x11bfe54e0>"
      ]
     },
     "metadata": {},
     "output_type": "display_data"
    }
   ],
   "source": [
    "compare_null_model(counts, real_count)"
   ]
  },
  {
   "cell_type": "markdown",
   "metadata": {},
   "source": [
    "## Counting occurences per enhancer"
   ]
  },
  {
   "cell_type": "code",
   "execution_count": 40,
   "metadata": {
    "collapsed": true
   },
   "outputs": [],
   "source": [
    "encode_bed = BedTool().from_dataframe(\n",
    "    encode_bed.to_dataframe()[['chrom', 'start', 'end', 'name', 'score', 'strand']])"
   ]
  },
  {
   "cell_type": "code",
   "execution_count": 41,
   "metadata": {
    "collapsed": false
   },
   "outputs": [],
   "source": [
    "overlap_occurences_df = encode_bed.intersect(repeat_bed, F=1, c=True).to_dataframe()\n",
    "overlap_occurences_null_df = encode_bed.shuffle(g=assembly_path).intersect(repeat_bed, F=1, c=True).to_dataframe()\n",
    "overlap_occurences_null_2_df = encode_bed.intersect(repeat_bed.shuffle(g=assembly_path), F=1, c=True).to_dataframe()\n",
    "overlap_occurences_null_3_df = encode_bed.shuffle(g=assembly_path).intersect(repeat_bed.shuffle(g=assembly_path), F=1, c=True).to_dataframe()\n",
    "overlap_occurences_complement_df = encode_bed.sort().complement(g=assembly_path).intersect(repeat_bed, F=1, c=True).to_dataframe()"
   ]
  },
  {
   "cell_type": "code",
   "execution_count": 42,
   "metadata": {
    "collapsed": false
   },
   "outputs": [],
   "source": [
    "occ_cols = ['chrom', 'start', 'end', 'name', 'score', 'strand', 'occurences']\n",
    "overlap_occurences_df.columns = occ_cols\n",
    "overlap_occurences_null_df.columns = occ_cols\n",
    "overlap_occurences_null_2_df.columns = occ_cols\n",
    "overlap_occurences_null_3_df.columns = occ_cols\n",
    "overlap_occurences_complement_df.columns = ['chrom', 'start', 'end', 'occurences']"
   ]
  },
  {
   "cell_type": "code",
   "execution_count": 43,
   "metadata": {
    "collapsed": false
   },
   "outputs": [],
   "source": [
    "occurences = overlap_occurences_df.query(\"occurences > 0\")['occurences'].tolist()\n",
    "occurences_null = overlap_occurences_null_df.query(\"occurences > 0\")['occurences'].tolist()\n",
    "occurences_null_2 = overlap_occurences_null_2_df.query(\"occurences > 0\")['occurences'].tolist()\n",
    "occurences_null_3 = overlap_occurences_null_3_df.query(\"occurences > 0\")['occurences'].tolist()\n",
    "occurences_complement = overlap_occurences_complement_df.query(\"occurences > 0\")['occurences'].tolist()"
   ]
  },
  {
   "cell_type": "code",
   "execution_count": 44,
   "metadata": {
    "collapsed": false
   },
   "outputs": [],
   "source": [
    "occ_freq, occ_base = np.histogram(occurences, bins=range(1,26))\n",
    "occ_freq_null, _ = np.histogram(occurences_null, bins=range(1,26))\n",
    "occ_freq_null_2, _ = np.histogram(occurences_null_2, bins=range(1,26))\n",
    "occ_freq_null_3, _ = np.histogram(occurences_null_3, bins=range(1,26))\n",
    "occ_freq_complement, _ = np.histogram(occurences_complement, bins=range(1,26))\n",
    "\n",
    "occ_ratio = occ_freq / sum(occ_freq)\n",
    "occ_ratio_null = occ_freq_null / sum(occ_freq_null)\n",
    "occ_ratio_null_2 = occ_freq_null_2 / sum(occ_freq_null_2)\n",
    "occ_ratio_null_3 = occ_freq_null_3 / sum(occ_freq_null_3)\n",
    "occ_ratio_complement = occ_freq_complement / sum(occ_freq_complement)"
   ]
  },
  {
   "cell_type": "code",
   "execution_count": 46,
   "metadata": {
    "collapsed": false
   },
   "outputs": [
    {
     "ename": "NameError",
     "evalue": "name 'test_z_df' is not defined",
     "output_type": "error",
     "traceback": [
      "\u001b[0;31m---------------------------------------------------------------------------\u001b[0m",
      "\u001b[0;31mNameError\u001b[0m                                 Traceback (most recent call last)",
      "\u001b[0;32m<ipython-input-46-8d0e40d5fdf7>\u001b[0m in \u001b[0;36m<module>\u001b[0;34m()\u001b[0m\n\u001b[1;32m     12\u001b[0m \u001b[0mfig\u001b[0m \u001b[0;34m=\u001b[0m \u001b[0mplt\u001b[0m\u001b[0;34m.\u001b[0m\u001b[0mfigure\u001b[0m\u001b[0;34m(\u001b[0m\u001b[0;34m)\u001b[0m\u001b[0;34m\u001b[0m\u001b[0m\n\u001b[1;32m     13\u001b[0m \u001b[0max\u001b[0m \u001b[0;34m=\u001b[0m \u001b[0mfig\u001b[0m\u001b[0;34m.\u001b[0m\u001b[0madd_subplot\u001b[0m\u001b[0;34m(\u001b[0m\u001b[0;36m111\u001b[0m\u001b[0;34m)\u001b[0m\u001b[0;34m\u001b[0m\u001b[0m\n\u001b[0;32m---> 14\u001b[0;31m \u001b[0mg\u001b[0m \u001b[0;34m=\u001b[0m \u001b[0mplt\u001b[0m\u001b[0;34m.\u001b[0m\u001b[0mplot\u001b[0m\u001b[0;34m(\u001b[0m\u001b[0mtest_z_df\u001b[0m\u001b[0;34m[\u001b[0m\u001b[0;34m'min_ovlp'\u001b[0m\u001b[0;34m]\u001b[0m\u001b[0;34m,\u001b[0m \u001b[0mtest_z_df\u001b[0m\u001b[0;34m[\u001b[0m\u001b[0;34m'log_z_random'\u001b[0m\u001b[0;34m]\u001b[0m\u001b[0;34m,\u001b[0m \u001b[0mc\u001b[0m\u001b[0;34m=\u001b[0m\u001b[0;34m'blue'\u001b[0m\u001b[0;34m)\u001b[0m\u001b[0;34m\u001b[0m\u001b[0m\n\u001b[0m\u001b[1;32m     15\u001b[0m \u001b[0mg\u001b[0m \u001b[0;34m=\u001b[0m \u001b[0mplt\u001b[0m\u001b[0;34m.\u001b[0m\u001b[0mplot\u001b[0m\u001b[0;34m(\u001b[0m\u001b[0mtest_z_df\u001b[0m\u001b[0;34m[\u001b[0m\u001b[0;34m'min_ovlp'\u001b[0m\u001b[0;34m]\u001b[0m\u001b[0;34m,\u001b[0m \u001b[0mtest_z_df\u001b[0m\u001b[0;34m[\u001b[0m\u001b[0;34m'log_z_shuffled'\u001b[0m\u001b[0;34m]\u001b[0m\u001b[0;34m,\u001b[0m \u001b[0mc\u001b[0m\u001b[0;34m=\u001b[0m\u001b[0;34m'red'\u001b[0m\u001b[0;34m)\u001b[0m\u001b[0;34m\u001b[0m\u001b[0m\n\u001b[1;32m     16\u001b[0m \u001b[0mplt\u001b[0m\u001b[0;34m.\u001b[0m\u001b[0mgrid\u001b[0m\u001b[0;34m(\u001b[0m\u001b[0;34m)\u001b[0m\u001b[0;34m\u001b[0m\u001b[0m\n",
      "\u001b[0;31mNameError\u001b[0m: name 'test_z_df' is not defined"
     ]
    },
    {
     "data": {
      "image/png": "[encoded data removed]",
      "text/plain": [
       "<matplotlib.figure.Figure at 0x11b3c8cc0>"
      ]
     },
     "metadata": {},
     "output_type": "display_data"
    }
   ],
   "source": [
    "import numpy as np\n",
    "import seaborn as sns\n",
    "import matplotlib.pyplot as plt\n",
    "import scipy.stats as st\n",
    "#import matplotlib.pyplot as plt\n",
    "%matplotlib inline\n",
    "\n",
    "#sns.set(style=\"white\", palette=\"muted\", color_codes=True)\n",
    "sns.set(style=\"ticks\", palette=\"muted\", color_codes=True)\n",
    "sns.set_context(\"poster\", font_scale=0.6, rc={\"lines.linewidth\": 2})\n",
    "\n",
    "fig = plt.figure()\n",
    "ax = fig.add_subplot(111)\n",
    "g = plt.plot(test_z_df['min_ovlp'], test_z_df['log_z_random'], c='blue')\n",
    "g = plt.plot(test_z_df['min_ovlp'], test_z_df['log_z_shuffled'], c='red')\n",
    "plt.grid()\n",
    "\n",
    "ax.axes.set_ylim(5, 6.5)\n",
    "ax.set_xlabel('Minimum overlap fraction', size=16)\n",
    "ax.set_ylabel('z score', size=16)\n",
    "for tick in ax.xaxis.get_major_ticks():\n",
    "                tick.label.set_fontsize(12) \n",
    "        \n",
    "for tick in ax.yaxis.get_major_ticks():\n",
    "                tick.label.set_fontsize(12) \n",
    "\n",
    "green_patch = mpatches.Patch(color='blue', label='Random null model')\n",
    "blue_patch = mpatches.Patch(color='red', label='Shuffled null model')\n",
    "\n",
    "plt.legend(handles=[green_patch, blue_patch], fontsize=14, loc=1)"
   ]
  },
  {
   "cell_type": "code",
   "execution_count": 47,
   "metadata": {
    "collapsed": false
   },
   "outputs": [
    {
     "data": {
      "text/plain": [
       "<matplotlib.legend.Legend at 0x1174e6c50>"
      ]
     },
     "execution_count": 47,
     "metadata": {},
     "output_type": "execute_result"
    },
    {
     "data": {
      "image/png": "[encoded data removed]",
      "text/plain": [
       "<matplotlib.figure.Figure at 0x122840390>"
      ]
     },
     "metadata": {},
     "output_type": "display_data"
    }
   ],
   "source": [
    "import numpy as np\n",
    "import seaborn as sns\n",
    "import matplotlib.pyplot as plt\n",
    "import scipy.stats as st\n",
    "import matplotlib.patches as mpatches\n",
    "#import matplotlib.pyplot as plt\n",
    "%matplotlib inline\n",
    "\n",
    "#sns.set(style=\"white\", palette=\"muted\", color_codes=True)\n",
    "sns.set(style=\"ticks\", palette=\"muted\", color_codes=True)\n",
    "sns.set_context(\"poster\", font_scale=0.8, rc={\"lines.linewidth\": 2})\n",
    "\n",
    "fig = plt.figure()\n",
    "ax = fig.add_subplot(111)\n",
    "\n",
    "g1 = plt.plot(occ_base[:12], occ_freq[:12], color='b')\n",
    "g2 = plt.plot(occ_base[:12], occ_freq_null[:12], color='r')\n",
    "g3 = plt.plot(occ_base[:12], occ_freq_null_2[:12], color='g')\n",
    "g4 = plt.plot(occ_base[:12], occ_freq_null_3[:12], color='y')\n",
    "#g5 = sns.pointplot(x=occ_base[:10], y=occ_freq_complement[:10], color='pink')\n",
    "ax.axes.set_yscale('log')\n",
    "\n",
    "ax.grid()\n",
    "\n",
    "#sns.despine(offset=10, trim=True)\n",
    "\n",
    "ax.set_ylabel('Occurrences', size=16)\n",
    "ax.set_xlabel('Num of MIRs falling in a single enhancer', size=16)\n",
    "\n",
    "blue_patch = mpatches.Patch(color='b', label='K562 enhancers and MIRs')\n",
    "red_patch = mpatches.Patch(color='r', label='Null Model 1')\n",
    "green_patch = mpatches.Patch(color='g', label='Null Model 2')\n",
    "yellow_patch = mpatches.Patch(color='y', label='Null Model 3')\n",
    "\n",
    "plt.legend(handles=[blue_patch, red_patch, green_patch, yellow_patch], fontsize=14, loc=1)"
   ]
  },
  {
   "cell_type": "code",
   "execution_count": null,
   "metadata": {
    "collapsed": false
   },
   "outputs": [],
   "source": [
    "import scipy.stats as st\n",
    "print(st.expon.fit(occ_freq[:10]))\n",
    "print(st.expon.fit(occ_freq_null[:10]))\n",
    "print(st.expon.fit(occ_freq_null_2[:10]))\n",
    "print(st.expon.fit(occ_freq_null_3[:10]))"
   ]
  },
  {
   "cell_type": "code",
   "execution_count": null,
   "metadata": {
    "collapsed": false
   },
   "outputs": [],
   "source": [
    "# ratios normalized\n",
    "import matplotlib.pyplot as plt\n",
    "plt.plot(occ_base[:10], occ_ratio[:10], c='blue')\n",
    "plt.plot(occ_base[:10], occ_ratio_null[:10], c='red')\n",
    "plt.plot(occ_base[:10], occ_ratio_null_2[:10], c='green')\n",
    "ax = plt.plot(occ_base[:10], occ_ratio_null_3[:10], c='yellow')\n",
    "#plt.plot(occ_base[:10], occ_ratio_complement[:10], c='pink')\n",
    "\n",
    "plt.show()\n"
   ]
  },
  {
   "cell_type": "code",
   "execution_count": null,
   "metadata": {
    "collapsed": false
   },
   "outputs": [],
   "source": [
    "# ratios normalized adjusted (with overlap count)\n",
    "import matplotlib.pyplot as plt\n",
    "plt.plot(occ_base[:10], occ_ratio[:10]*real_count, c='blue')\n",
    "plt.plot(occ_base[:10], occ_ratio_null[:10]*8112, c='red')\n",
    "plt.plot(occ_base[:10], occ_ratio_null_2[:10]*8108, c='green')\n",
    "plt.plot(occ_base[:10], occ_ratio_null_3[:10]*8125, c='yellow')\n",
    "#plt.plot(occ_base[:10], occ_ratio_complement[:10], c='pink')\n",
    "\n",
    "plt.show()\n"
   ]
  },
  {
   "cell_type": "markdown",
   "metadata": {},
   "source": [
    "## Closeness distribution"
   ]
  },
  {
   "cell_type": "code",
   "execution_count": null,
   "metadata": {
    "collapsed": true
   },
   "outputs": [],
   "source": [
    "import warnings\n",
    "warnings.filterwarnings('ignore')\n",
    "\n",
    "import seaborn as sns\n",
    "%matplotlib inline\n",
    "import numpy as np\n",
    "from joblib import Parallel, delayed\n",
    "import multiprocessing\n",
    "\n",
    "def compute_centers(closeness_df):\n",
    "    closeness_df['centered_locus'] = round(\n",
    "        (closeness_df['end'] - closeness_df['start'])/2 \n",
    "        + closeness_df['start']).astype(int)\n",
    "\n",
    "    closeness_df['close_centered_locus'] = round(\n",
    "        (closeness_df['close_end'] - closeness_df['close_start'])/2 \n",
    "        + closeness_df['close_start']).astype(int)\n",
    "\n",
    "    closeness_df['centered_distance'] = closeness_df['close_centered_locus'] - closeness_df['centered_locus'] \n",
    "    return closeness_df\n",
    "\n",
    "def compute_closeness_df(sorted_bed, sorted_bed_with):\n",
    "    closeness_columns = ['chrom', 'start', 'end', 'name', 'score', 'strand',\n",
    "                     'close_chrom', 'close_start','close_end', \n",
    "                     'close_name', 'close_score', 'close_strand', 'distance']\n",
    "    closeness = sorted_bed.closest(sorted_bed_with, D='a')\n",
    "    closeness_df = closeness.to_dataframe()\n",
    "    closeness_df.columns = closeness_columns\n",
    "    closeness_df = compute_centers(closeness_df)\n",
    "    return closeness_df\n",
    "\n",
    "def build_closeness_df(bed, bed_with):\n",
    "    \n",
    "    closeness_columns = ['chrom', 'start', 'end', 'name', 'score', 'strand',\n",
    "                         'close_chrom', 'close_start','close_end', \n",
    "                         'close_name', 'close_score', 'close_strand', 'distance']\n",
    "    \n",
    "    sorted_bed = bed.sort()\n",
    "    sorted_bed_with = bed_with.sort()\n",
    "    \n",
    "    # real on real\n",
    "    closeness = sorted_bed.closest(sorted_bed_with, D='a', t='all')\n",
    "    closeness_df = closeness.to_dataframe()\n",
    "    closeness_df.columns = closeness_columns\n",
    "    closeness_df = compute_centers(closeness_df)\n",
    "    \n",
    "    return closeness_df"
   ]
  },
  {
   "cell_type": "code",
   "execution_count": null,
   "metadata": {
    "collapsed": true
   },
   "outputs": [],
   "source": [
    "encode_bed = BedTool().from_dataframe(\n",
    "    encode_bed.to_dataframe()[['chrom', 'start', 'end', 'name', 'score', 'strand']])"
   ]
  },
  {
   "cell_type": "code",
   "execution_count": null,
   "metadata": {
    "collapsed": false
   },
   "outputs": [],
   "source": [
    "repeat_closeness_df = build_closeness_df(encode_bed, repeat_bed)"
   ]
  },
  {
   "cell_type": "code",
   "execution_count": null,
   "metadata": {
    "collapsed": false
   },
   "outputs": [],
   "source": [
    "sns.set(style=\"white\")\n",
    "sns.set_context(\"paper\", font_scale=0.8, rc={\"lines.linewidth\": 1})\n",
    "g1 = sns.distplot(repeat_closeness_df[['centered_distance']], kde=False)\n",
    "#g1.set_xlim(-5000, 5000)\n",
    "#g1.set_xticks(np.arange(-5000, 5000, 500))"
   ]
  },
  {
   "cell_type": "markdown",
   "metadata": {},
   "source": [
    "### Null Model 1 Closeness"
   ]
  },
  {
   "cell_type": "code",
   "execution_count": null,
   "metadata": {
    "collapsed": false
   },
   "outputs": [],
   "source": [
    "encode_bed_shuffled = encode_bed.shuffle(g=assembly_path)\n",
    "repeat_closeness_null_df = build_closeness_df(encode_bed_shuffled, repeat_bed)"
   ]
  },
  {
   "cell_type": "code",
   "execution_count": null,
   "metadata": {
    "collapsed": false
   },
   "outputs": [],
   "source": [
    "sns.set(style=\"white\")\n",
    "sns.set_context(\"paper\", font_scale=0.8, rc={\"lines.linewidth\": 1})\n",
    "g1 = sns.distplot(repeat_closeness_null_df[['centered_distance']], kde=False)\n",
    "#g1.set_xlim(-300000, 300000)\n",
    "#g1.set_xticks(np.arange(-5000, 5000, 500))"
   ]
  },
  {
   "cell_type": "markdown",
   "metadata": {},
   "source": [
    "### Null Model 2 Closeness"
   ]
  },
  {
   "cell_type": "code",
   "execution_count": null,
   "metadata": {
    "collapsed": true
   },
   "outputs": [],
   "source": [
    "repeat_bed_shuffled = repeat_bed.shuffle(g=assembly_path)\n",
    "repeat_closeness_null2_df = build_closeness_df(encode_bed, repeat_bed_shuffled)"
   ]
  },
  {
   "cell_type": "code",
   "execution_count": null,
   "metadata": {
    "collapsed": false
   },
   "outputs": [],
   "source": [
    "sns.set(style=\"white\")\n",
    "sns.set_context(\"paper\", font_scale=0.8, rc={\"lines.linewidth\": 1})\n",
    "g1 = sns.distplot(repeat_closeness_null2_df[['centered_distance']], kde=True)\n",
    "#g1.set_xlim(-300000, 300000)\n",
    "#g1.set_xticks(np.arange(-5000, 5000, 500))"
   ]
  },
  {
   "cell_type": "markdown",
   "metadata": {},
   "source": [
    "### Null Model 3 Closeness"
   ]
  },
  {
   "cell_type": "code",
   "execution_count": null,
   "metadata": {
    "collapsed": true
   },
   "outputs": [],
   "source": [
    "repeat_closeness_null3_df = build_closeness_df(encode_bed_shuffled, repeat_bed_shuffled)"
   ]
  },
  {
   "cell_type": "code",
   "execution_count": null,
   "metadata": {
    "collapsed": false
   },
   "outputs": [],
   "source": [
    "sns.set(style=\"white\")\n",
    "sns.set_context(\"paper\", font_scale=0.8, rc={\"lines.linewidth\": 1})\n",
    "g1 = sns.distplot(repeat_closeness_null3_df[['centered_distance']], kde=False)\n",
    "#g1.set_xlim(-300000, 300000)\n",
    "#g1.set_xticks(np.arange(-5000, 5000, 500))"
   ]
  },
  {
   "cell_type": "markdown",
   "metadata": {},
   "source": [
    "### Comparing Closeness Distributions"
   ]
  },
  {
   "cell_type": "code",
   "execution_count": null,
   "metadata": {
    "collapsed": true
   },
   "outputs": [],
   "source": [
    "centered_distance_distribution = repeat_closeness_df.query(\"centered_distance >=0\")['centered_distance']\n",
    "centered_distance_distribution_null = repeat_closeness_null_df.query(\"centered_distance >=0\")['centered_distance']\n",
    "centered_distance_distribution_null_2 = repeat_closeness_null2_df.query(\"centered_distance >=0\")['centered_distance']\n",
    "centered_distance_distribution_null_3 = repeat_closeness_null3_df.query(\"centered_distance >=0\")['centered_distance']"
   ]
  },
  {
   "cell_type": "code",
   "execution_count": null,
   "metadata": {
    "collapsed": false
   },
   "outputs": [],
   "source": [
    "sns.set(style=\"whitegrid\")\n",
    "sns.set_context(\"paper\", font_scale=0.8, rc={\"lines.linewidth\": 1})\n",
    "g1 = sns.distplot(centered_distance_distribution, kde=True)\n",
    "#g1.set_xlim(0, 10000)"
   ]
  },
  {
   "cell_type": "code",
   "execution_count": null,
   "metadata": {
    "collapsed": true
   },
   "outputs": [],
   "source": [
    "freqs, base = np.histogram(centered_distance_distribution, bins=1000)\n",
    "freqs_null, base_null = np.histogram(centered_distance_distribution_null, bins=base)\n",
    "freqs_null_2, base_null_2 = np.histogram(centered_distance_distribution_null_2, bins=base)\n",
    "freqs_null_3, base_null_3 = np.histogram(centered_distance_distribution_null_3, bins=base)"
   ]
  },
  {
   "cell_type": "code",
   "execution_count": null,
   "metadata": {
    "collapsed": true
   },
   "outputs": [],
   "source": [
    "cumulative = np.cumsum(freqs) /sum(freqs)\n",
    "cumulative_null = np.cumsum(freqs_null) / sum(freqs_null)\n",
    "cumulative_null_2 = np.cumsum(freqs_null_2) / sum(freqs_null_2)\n",
    "cumulative_null_3 = np.cumsum(freqs_null_3) / sum(freqs_null_3)"
   ]
  },
  {
   "cell_type": "code",
   "execution_count": null,
   "metadata": {
    "collapsed": false
   },
   "outputs": [],
   "source": [
    "import numpy as np\n",
    "import seaborn as sns\n",
    "import matplotlib.pyplot as plt\n",
    "import scipy.stats as st\n",
    "import matplotlib.patches as mpatches\n",
    "#import matplotlib.pyplot as plt\n",
    "%matplotlib inline\n",
    "\n",
    "#sns.set(style=\"white\", palette=\"muted\", color_codes=True)\n",
    "sns.set(style=\"ticks\", palette=\"muted\", color_codes=True)\n",
    "sns.set_context(\"poster\", font_scale=0.8, rc={\"lines.linewidth\": 2})\n",
    "\n",
    "fig = plt.figure()\n",
    "ax = fig.add_subplot(111)\n",
    "\n",
    "g1 = plt.plot(base[:-1], cumulative, color='b')\n",
    "g2 = plt.plot(base_null[:-1], cumulative_null, color='r')\n",
    "g3 = plt.plot(base_null_2[:-1], cumulative_null_2, color='g')\n",
    "g4 = plt.plot(base_null_3[:-1], cumulative_null_3, color='y')\n",
    "#g5 = sns.pointplot(x=occ_base[:10], y=occ_freq_complement[:10], color='pink')\n",
    "#ax.axes.set_yscale('log')\n",
    "ax.axes.set_xlim(0, 20000)\n",
    "\n",
    "ax.grid()\n",
    "\n",
    "#sns.despine(offset=10, trim=True)\n",
    "\n",
    "ax.set_ylabel('Closeness cumulate', size=16)\n",
    "ax.set_xlabel('Distance between cores', size=16)\n",
    "\n",
    "blue_patch = mpatches.Patch(color='b', label='K562 enhancers and MIRs')\n",
    "red_patch = mpatches.Patch(color='r', label='Null Model 1')\n",
    "green_patch = mpatches.Patch(color='g', label='Null Model 2')\n",
    "yellow_patch = mpatches.Patch(color='y', label='Null Model 3')\n",
    "\n",
    "plt.legend(handles=[blue_patch, red_patch, green_patch, yellow_patch], fontsize=14, loc=4)\n",
    "\n",
    "print(st.ks_2samp(cumulative, cumulative_null))\n",
    "\n",
    "print(st.ks_2samp(cumulative, cumulative_null_2))\n",
    "\n",
    "print(st.ks_2samp(cumulative, cumulative_null_3))\n"
   ]
  },
  {
   "cell_type": "code",
   "execution_count": null,
   "metadata": {
    "collapsed": false
   },
   "outputs": [],
   "source": [
    "import matplotlib.pyplot as plt\n",
    "sns.set(style=\"ticks\", palette=\"muted\", color_codes=True)\n",
    "sns.set_context(\"poster\", font_scale=0.6, rc={\"lines.linewidth\": 0.8})\n",
    "sns.set_style(\"darkgrid\")\n",
    "\n",
    "plt.plot(base[:-1], cumulative, c='blue')\n",
    "plt.plot(base_null[:-1], cumulative_null, c='red')\n",
    "plt.plot(base_null_2[:-1], cumulative_null_2, c='green')\n",
    "#plt.plot(base_null_3[:-1], cumulative_null_3, c='yellow')\n",
    "plt.show()\n"
   ]
  },
  {
   "cell_type": "markdown",
   "metadata": {},
   "source": [
    "## MIR-enhancers: core of enhancers in MIR"
   ]
  },
  {
   "cell_type": "code",
   "execution_count": null,
   "metadata": {
    "collapsed": true
   },
   "outputs": [],
   "source": [
    "def compute_centers(df):\n",
    "    df['centered_locus'] = round(\n",
    "        (df['end'] - df['start'])/2 \n",
    "        + df['start']).astype(int)"
   ]
  },
  {
   "cell_type": "code",
   "execution_count": null,
   "metadata": {
    "collapsed": false
   },
   "outputs": [],
   "source": [
    "compute_centers(encode_bed_df)"
   ]
  },
  {
   "cell_type": "code",
   "execution_count": null,
   "metadata": {
    "collapsed": false
   },
   "outputs": [],
   "source": [
    "encode_bed_cores_df = encode_bed_df.copy()\n",
    "encode_bed_cores_df['start'] = encode_bed_cores_df['centered_locus']\n",
    "encode_bed_cores_df['end'] = encode_bed_cores_df['centered_locus']"
   ]
  },
  {
   "cell_type": "code",
   "execution_count": null,
   "metadata": {
    "collapsed": false
   },
   "outputs": [],
   "source": [
    "encode_bed_cores_df['chrom'].unique()"
   ]
  },
  {
   "cell_type": "code",
   "execution_count": null,
   "metadata": {
    "collapsed": false
   },
   "outputs": [],
   "source": [
    "encode_bed_cores = BedTool().from_dataframe(encode_bed_cores_df[['chrom', 'start', 'end', 'name', 'score', 'strand']])"
   ]
  },
  {
   "cell_type": "code",
   "execution_count": null,
   "metadata": {
    "collapsed": false
   },
   "outputs": [],
   "source": [
    "encode_bed_cores.count()"
   ]
  },
  {
   "cell_type": "code",
   "execution_count": null,
   "metadata": {
    "collapsed": true
   },
   "outputs": [],
   "source": [
    "#MIR-enhancers: core of enhancer in MIR\n",
    "core_intersection = encode_bed_cores.intersect(repeat_bed, f=1)"
   ]
  },
  {
   "cell_type": "code",
   "execution_count": null,
   "metadata": {
    "collapsed": false
   },
   "outputs": [],
   "source": [
    "core_intersection.sort().merge().count()"
   ]
  },
  {
   "cell_type": "code",
   "execution_count": null,
   "metadata": {
    "collapsed": false
   },
   "outputs": [],
   "source": [
    "core_intersection.head()"
   ]
  },
  {
   "cell_type": "code",
   "execution_count": null,
   "metadata": {
    "collapsed": false
   },
   "outputs": [],
   "source": [
    "counts = []\n",
    "for i in range(0,20):\n",
    "    shuffled_encode_bed = encode_bed.shuffle(g=assembly_path)\n",
    "    shuffled_encode_bed_df = shuffled_encode_bed.to_dataframe()\n",
    "    compute_centers(shuffled_encode_bed_df)\n",
    "    shuffled_encode_bed_cores_df = shuffled_encode_bed_df.copy()\n",
    "    shuffled_encode_bed_cores_df['start'] = shuffled_encode_bed_cores_df['centered_locus']\n",
    "    shuffled_encode_bed_cores_df['end'] = shuffled_encode_bed_cores_df['centered_locus']\n",
    "    shuffled_encode_bed_cores_all = BedTool().from_dataframe(shuffled_encode_bed_cores_df[['chrom', 'start', 'end', 'name', 'score', 'strand']])\n",
    "    core_null_model_intersection_all = shuffled_encode_bed_cores_all.intersect(repeat_bed)\n",
    "    counts.append(core_null_model_intersection_all.count())"
   ]
  },
  {
   "cell_type": "code",
   "execution_count": null,
   "metadata": {
    "collapsed": false
   },
   "outputs": [],
   "source": [
    "print(np.mean(counts), np.std(counts))"
   ]
  },
  {
   "cell_type": "code",
   "execution_count": null,
   "metadata": {
    "collapsed": false
   },
   "outputs": [],
   "source": [
    "z_score =(core_intersection.count() - np.mean(counts))/np.std(counts)\n",
    "print(z_score)"
   ]
  },
  {
   "cell_type": "code",
   "execution_count": null,
   "metadata": {
    "collapsed": false
   },
   "outputs": [],
   "source": [
    "p_values = st.norm.sf(abs(z_score))\n",
    "p_values"
   ]
  },
  {
   "cell_type": "code",
   "execution_count": null,
   "metadata": {
    "collapsed": true
   },
   "outputs": [],
   "source": [
    "# null model MIR-enhancers\n",
    "shuffled_encode_bed_cores = encode_bed_cores.shuffle(g=assembly_path)\n",
    "core_null_model_intersection = shuffled_encode_bed_cores.intersect(repeat_bed, f=1)"
   ]
  },
  {
   "cell_type": "code",
   "execution_count": null,
   "metadata": {
    "collapsed": false
   },
   "outputs": [],
   "source": [
    "core_null_model_intersection.sort().merge().count()"
   ]
  },
  {
   "cell_type": "code",
   "execution_count": null,
   "metadata": {
    "collapsed": false
   },
   "outputs": [],
   "source": [
    "def mean_size(bed):\n",
    "    sample_df = bed.to_dataframe()\n",
    "    sample_df['size'] = sample_df.apply(lambda row: compute_size(row), axis=1)\n",
    "    return int(round(sample_df[['size']].mean()))\n",
    "\n",
    "def build_random_overlap(bed, intervals_size, intervals_num, min_overlap, assembly, df_columns, idx):\n",
    "    empty_bed = BedTool()\n",
    "    random_bed = empty_bed.random(l=intervals_size, n=intervals_num,\n",
    "                                  g=assembly)\n",
    "    row_array = [idx, bed.intersect(random_bed, f=min_overlap).count()]\n",
    "    return pd.DataFrame([row_array], columns=df_columns)\n",
    "\n",
    "def build_shuffled_overlap(bed, bed_overlap_with, min_overlap, assembly, df_columns, idx):\n",
    "    random_bed = bed.shuffle(g=assembly, chrom=False)\n",
    "    row_array = [idx, bed.intersect(random_bed, f=min_overlap).count()]\n",
    "    return pd.DataFrame([row_array], columns=df_columns)\n",
    "\n",
    "def build_shuffled_overlap_cores(bed, bed_overlap_with, min_overlap, assembly, df_columns, idx):\n",
    "    random_bed = bed.shuffle(g=assembly_path, chrom=False)\n",
    "    random_bed_df = random_bed.to_dataframe()\n",
    "    compute_centers(random_bed_df)\n",
    "    random_bed_cores_df = random_bed_df.copy()\n",
    "    random_bed_cores_df['start'] = random_bed_cores_df['centered_locus']\n",
    "    random_bed_cores_df['end'] = random_bed_cores_df['centered_locus']\n",
    "    random_bed_cores = BedTool().from_dataframe(random_bed_cores_df[['chrom', 'start', 'end', 'name', 'score', 'strand']])\n",
    "\n",
    "    row_array = [idx, bed.intersect(random_bed_cores, f=min_overlap).count()]\n",
    "    return pd.DataFrame([row_array], columns=df_columns)\n",
    "\n"
   ]
  },
  {
   "cell_type": "code",
   "execution_count": null,
   "metadata": {
    "collapsed": true
   },
   "outputs": [],
   "source": [
    "from joblib import Parallel, delayed\n",
    "import multiprocessing\n",
    "\n",
    "def create_random_overlap_distribution_parallelized(bed, bed_overlap_with, assembly, min_overlap, \n",
    "                                                    samples_num,strategy='random', compute_cores=False):\n",
    "    num_cores = multiprocessing.cpu_count()\n",
    "\n",
    "    intervals_size = mean_size(bed_overlap_with)\n",
    "    intervals_num = bed_overlap_with.count()\n",
    "    columns = ['sample_num', 'size']\n",
    "\n",
    "    if strategy == 'shuffle':\n",
    "        if compute_cores == True:\n",
    "            df_list = Parallel(n_jobs=num_cores)(delayed(build_shuffled_overlap_cores)\n",
    "                                             (bed, bed_overlap_with, min_overlap, assembly, columns, i)\n",
    "                                             for i in range(0, samples_num))\n",
    "        else:\n",
    "            df_list = Parallel(n_jobs=num_cores)(delayed(build_shuffled_overlap)\n",
    "                                             (bed, bed_overlap_with, min_overlap, assembly, columns, i)\n",
    "                                             for i in range(0, samples_num))\n",
    "    else:\n",
    "        df_list = Parallel(n_jobs=num_cores)(delayed(build_random_overlap)\n",
    "                                             (bed, intervals_size, intervals_num, min_overlap, assembly, columns, i)\n",
    "                                             for i in range(0, samples_num))\n",
    "    return pd.concat(df_list)"
   ]
  },
  {
   "cell_type": "code",
   "execution_count": null,
   "metadata": {
    "collapsed": false
   },
   "outputs": [],
   "source": [
    "test_cores_df = create_random_overlap_distribution_parallelized(encode_bed_cores, repeat_bed, assembly_path,\n",
    "                                                         1e-09, 50, 'random', compute_cores=False)"
   ]
  },
  {
   "cell_type": "code",
   "execution_count": null,
   "metadata": {
    "collapsed": false
   },
   "outputs": [],
   "source": [
    "import seaborn as sns\n",
    "%matplotlib inline\n",
    "import scipy.stats as st\n",
    "sns.distplot(test_cores_df[['size']], kde=False, fit=st.norm, bins=20)"
   ]
  },
  {
   "cell_type": "code",
   "execution_count": null,
   "metadata": {
    "collapsed": false
   },
   "outputs": [],
   "source": [
    "np.mean(test_cores_df['size'])"
   ]
  },
  {
   "cell_type": "code",
   "execution_count": null,
   "metadata": {
    "collapsed": false
   },
   "outputs": [],
   "source": [
    "z_score =(core_intersection.count() - np.mean(test_cores_df['size']))/np.std(test_cores_df['size'])\n",
    "print(z_score)"
   ]
  },
  {
   "cell_type": "code",
   "execution_count": null,
   "metadata": {
    "collapsed": false
   },
   "outputs": [],
   "source": [
    "p_values = st.norm.sf(abs(z_score))\n",
    "p_values"
   ]
  },
  {
   "cell_type": "code",
   "execution_count": null,
   "metadata": {
    "collapsed": false
   },
   "outputs": [],
   "source": [
    "test_df = create_random_overlap_distribution_parallelized(encode_bed_cores, repeat_bed, assembly_path,\n",
    "                                                         1e-09, 1000, 'shuffle')"
   ]
  },
  {
   "cell_type": "code",
   "execution_count": null,
   "metadata": {
    "collapsed": false
   },
   "outputs": [],
   "source": [
    "import seaborn as sns\n",
    "%matplotlib inline\n",
    "import scipy.stats as st\n",
    "sns.distplot(test_df[['size']], kde=False, fit=st.norm, bins=20)"
   ]
  },
  {
   "cell_type": "code",
   "execution_count": null,
   "metadata": {
    "collapsed": false
   },
   "outputs": [],
   "source": [
    "np.mean(test_df['size'])"
   ]
  },
  {
   "cell_type": "code",
   "execution_count": null,
   "metadata": {
    "collapsed": false
   },
   "outputs": [],
   "source": [
    "np.std(test_df['size'])"
   ]
  },
  {
   "cell_type": "code",
   "execution_count": null,
   "metadata": {
    "collapsed": false
   },
   "outputs": [],
   "source": [
    "z_score =(core_intersection.count() - np.mean(test_df['size']))/np.std(test_df['size'])\n",
    "print(z_score)"
   ]
  },
  {
   "cell_type": "code",
   "execution_count": null,
   "metadata": {
    "collapsed": false
   },
   "outputs": [],
   "source": [
    "st.norm.ppf(0.975)"
   ]
  },
  {
   "cell_type": "code",
   "execution_count": null,
   "metadata": {
    "collapsed": false
   },
   "outputs": [],
   "source": [
    "import scipy.stats as st\n",
    "st.norm.ppf(.975)\n",
    "st.norm.cdf(z_score)"
   ]
  },
  {
   "cell_type": "code",
   "execution_count": null,
   "metadata": {
    "collapsed": false
   },
   "outputs": [],
   "source": [
    "(1- st.norm.cdf(z_score))*100"
   ]
  },
  {
   "cell_type": "code",
   "execution_count": null,
   "metadata": {
    "collapsed": false
   },
   "outputs": [],
   "source": [
    "p_values = st.norm.sf(abs(z_score))\n",
    "p_values"
   ]
  },
  {
   "cell_type": "code",
   "execution_count": null,
   "metadata": {
    "collapsed": false
   },
   "outputs": [],
   "source": [
    "st.ttest_1samp(a= test_df[['size']], popmean=core_intersection.count())"
   ]
  },
  {
   "cell_type": "code",
   "execution_count": null,
   "metadata": {
    "collapsed": false
   },
   "outputs": [],
   "source": [
    "st.ttest_1samp(a= test_df[['size']], popmean= np.mean(test_df[['size']]))"
   ]
  },
  {
   "cell_type": "code",
   "execution_count": null,
   "metadata": {
    "collapsed": false
   },
   "outputs": [],
   "source": [
    "random_sizes = test_df[['size']]\n",
    "random_sizes.reset_index(inplace=True, drop=True)"
   ]
  },
  {
   "cell_type": "code",
   "execution_count": null,
   "metadata": {
    "collapsed": false
   },
   "outputs": [],
   "source": [
    "chi2, p = st.chisquare(random_sizes, core_intersection.count() )\n",
    "msg = \"Test Statistic: {}\\np-value: {}\"\n",
    "print( msg.format( chi2, p ) )"
   ]
  },
  {
   "cell_type": "code",
   "execution_count": null,
   "metadata": {
    "collapsed": false
   },
   "outputs": [],
   "source": [
    "encode_bed_cores.sort().fisher(repeat_bed.sort(), f=1e-09, g=assembly_path)"
   ]
  },
  {
   "cell_type": "code",
   "execution_count": null,
   "metadata": {
    "collapsed": false
   },
   "outputs": [],
   "source": [
    "1-st.hypergeom.cdf(975, 21123880 - 33082, 33082, 593161)"
   ]
  },
  {
   "cell_type": "code",
   "execution_count": null,
   "metadata": {
    "collapsed": false
   },
   "outputs": [],
   "source": [
    "df_reldist = pd.DataFrame(encode_bed_cores.sort().reldist(repeat_bed.sort()))\n",
    "df_reldist.T"
   ]
  },
  {
   "cell_type": "code",
   "execution_count": null,
   "metadata": {
    "collapsed": false
   },
   "outputs": [],
   "source": [
    "df_reldist_random = pd.DataFrame(encode_bed_cores.sort().reldist(repeat_bed.shuffle(g=assembly_path, chrom=False).sort()))"
   ]
  },
  {
   "cell_type": "code",
   "execution_count": null,
   "metadata": {
    "collapsed": false,
    "scrolled": false
   },
   "outputs": [],
   "source": [
    "import numpy as np\n",
    "import seaborn as sns\n",
    "#import matplotlib.pyplot as plt\n",
    "%matplotlib inline\n",
    "\n",
    "#sns.set(style=\"white\", palette=\"muted\", color_codes=True)\n",
    "sns.set(style=\"ticks\", palette=\"muted\", color_codes=True)\n",
    "sns.set_context(\"poster\", font_scale=0.6, rc={\"lines.linewidth\": 0.8})\n",
    "\n",
    "g1 = sns.pointplot(x='reldist', y='fraction', data=df_reldist[0:50],  color='r')\n",
    "g2 = sns.pointplot(x='reldist', y='fraction', data=df_reldist_random[0:50], color='b')\n",
    "\n",
    "sns.despine(offset=10, trim=True)\n",
    "#plot.set_yscale(\"log\")\n",
    "#df_reldist[['reldist','fraction']].plot()\n",
    "for ind, label in enumerate(g1.get_xticklabels()):\n",
    "    if ind % 10 == 0:  # every 10th label is kept\n",
    "        label.set_visible(True)\n",
    "    else:\n",
    "        label.set_visible(False)"
   ]
  },
  {
   "cell_type": "markdown",
   "metadata": {},
   "source": [
    "## Enhancer-MIRs: MIRs in a +/- 4 kbp window around enhancer's core "
   ]
  },
  {
   "cell_type": "code",
   "execution_count": null,
   "metadata": {
    "collapsed": false
   },
   "outputs": [],
   "source": [
    "encode_bed_df = encode_bed.to_dataframe()\n",
    "encode_bed_df['size'] = encode_bed_df.apply(lambda row: compute_size(row), axis=1)"
   ]
  },
  {
   "cell_type": "code",
   "execution_count": null,
   "metadata": {
    "collapsed": false
   },
   "outputs": [],
   "source": [
    "encode_bed_df['size'].quantile(0.5) == encode_bed_df['size'].median()"
   ]
  },
  {
   "cell_type": "code",
   "execution_count": null,
   "metadata": {
    "collapsed": false
   },
   "outputs": [],
   "source": [
    "encode_bed_df['size'].std()"
   ]
  },
  {
   "cell_type": "code",
   "execution_count": null,
   "metadata": {
    "collapsed": false
   },
   "outputs": [],
   "source": [
    "import seaborn as sns\n",
    "%matplotlib inline\n",
    "import scipy.stats as st\n",
    "sns.distplot(encode_bed_df[['size']], kde=True)"
   ]
  },
  {
   "cell_type": "code",
   "execution_count": null,
   "metadata": {
    "collapsed": false
   },
   "outputs": [],
   "source": [
    "np.percentile(encode_bed_df[['size']], 50)"
   ]
  },
  {
   "cell_type": "code",
   "execution_count": null,
   "metadata": {
    "collapsed": false
   },
   "outputs": [],
   "source": [
    "np.arange(0, 1, 0.1)"
   ]
  },
  {
   "cell_type": "code",
   "execution_count": null,
   "metadata": {
    "collapsed": false
   },
   "outputs": [],
   "source": [
    "encode_bed_df[['size']].quantile(np.arange(0,1,0.1))"
   ]
  },
  {
   "cell_type": "code",
   "execution_count": null,
   "metadata": {
    "collapsed": false
   },
   "outputs": [],
   "source": [
    "# what if using percentiles in considering enhancer regions? Eg: b=170/2, 251/2, ..., 3123/2\n",
    "#encode_bed_slop = encode_bed_cores.slop(genome='hg19', b=int(round(3123/2)))"
   ]
  },
  {
   "cell_type": "code",
   "execution_count": null,
   "metadata": {
    "collapsed": true
   },
   "outputs": [],
   "source": [
    "#compute \"enhancers regions\" as +/- 4kb from enhancer cores\n",
    "encode_bed_slop = encode_bed_cores.slop(g=assembly_path, b=4000)"
   ]
  },
  {
   "cell_type": "code",
   "execution_count": null,
   "metadata": {
    "collapsed": false
   },
   "outputs": [],
   "source": [
    "encode_bed_cores.sort().head()"
   ]
  },
  {
   "cell_type": "code",
   "execution_count": null,
   "metadata": {
    "collapsed": false
   },
   "outputs": [],
   "source": [
    "encode_bed_slop.sort().head()"
   ]
  },
  {
   "cell_type": "code",
   "execution_count": null,
   "metadata": {
    "collapsed": false
   },
   "outputs": [],
   "source": [
    "encode_bed_slop.count()"
   ]
  },
  {
   "cell_type": "code",
   "execution_count": null,
   "metadata": {
    "collapsed": true
   },
   "outputs": [],
   "source": [
    "#enhancer-MIRs: MIR in +/- 4kb from the core of an enhancer \n",
    "#(asking the full MIR to be overlapped by an enhancer region)\n",
    "region_intersection = repeat_bed.intersect(encode_bed_slop, f=1)"
   ]
  },
  {
   "cell_type": "code",
   "execution_count": null,
   "metadata": {
    "collapsed": false
   },
   "outputs": [],
   "source": [
    "region_intersection.count()"
   ]
  },
  {
   "cell_type": "code",
   "execution_count": null,
   "metadata": {
    "collapsed": false
   },
   "outputs": [],
   "source": [
    "# null model enhancers-MIRs\n",
    "shuffled_repeat = repeat_bed.shuffle(g=assembly_path)"
   ]
  },
  {
   "cell_type": "code",
   "execution_count": null,
   "metadata": {
    "collapsed": false
   },
   "outputs": [],
   "source": [
    "shuffled_repeat.count() == repeat_bed.count()"
   ]
  },
  {
   "cell_type": "code",
   "execution_count": null,
   "metadata": {
    "collapsed": true
   },
   "outputs": [],
   "source": [
    "null_model_intersection = shuffled_repeat.intersect(encode_bed_slop, f=1)"
   ]
  },
  {
   "cell_type": "code",
   "execution_count": null,
   "metadata": {
    "collapsed": false
   },
   "outputs": [],
   "source": [
    "null_model_intersection.count()"
   ]
  },
  {
   "cell_type": "code",
   "execution_count": null,
   "metadata": {
    "collapsed": true
   },
   "outputs": [],
   "source": [
    "test_df2 = create_random_overlap_distribution_parallelized(repeat_bed, encode_bed_slop, assembly_path,\n",
    "                                                         1, 100)\n"
   ]
  },
  {
   "cell_type": "code",
   "execution_count": null,
   "metadata": {
    "collapsed": false
   },
   "outputs": [],
   "source": [
    "import seaborn as sns\n",
    "%matplotlib inline\n",
    "import scipy.stats as st\n",
    "sns.distplot(test_df2[['size']], kde=False, fit=st.norm, bins=10)"
   ]
  },
  {
   "cell_type": "code",
   "execution_count": null,
   "metadata": {
    "collapsed": false
   },
   "outputs": [],
   "source": [
    "z_score =(region_intersection.count() - np.mean(test_df2['size']))/np.std(test_df2['size'])\n",
    "print(z_score)"
   ]
  },
  {
   "cell_type": "code",
   "execution_count": null,
   "metadata": {
    "collapsed": false
   },
   "outputs": [],
   "source": [
    "import scipy.stats as st\n",
    "st.norm.ppf(.95)\n",
    "st.norm.cdf(z_score)"
   ]
  },
  {
   "cell_type": "code",
   "execution_count": null,
   "metadata": {
    "collapsed": false
   },
   "outputs": [],
   "source": [
    "p_values = st.norm.sf(abs(z_score))\n",
    "p_values"
   ]
  },
  {
   "cell_type": "code",
   "execution_count": null,
   "metadata": {
    "collapsed": false
   },
   "outputs": [],
   "source": [
    "st.ttest_1samp(a= test_df2[['size']], popmean= region_intersection.count())"
   ]
  },
  {
   "cell_type": "code",
   "execution_count": null,
   "metadata": {
    "collapsed": false
   },
   "outputs": [],
   "source": [
    "chi2, p = st.chisquare( test_df2[['size']],region_intersection.count() )\n",
    "msg = \"Test Statistic: {}\\np-value: {}\"\n",
    "print( msg.format( chi2, p ) )"
   ]
  },
  {
   "cell_type": "code",
   "execution_count": null,
   "metadata": {
    "collapsed": false
   },
   "outputs": [],
   "source": [
    "repeat_bed.sort().fisher(encode_bed_slop.sort(), f=1, g=assembly_path)"
   ]
  },
  {
   "cell_type": "code",
   "execution_count": null,
   "metadata": {
    "collapsed": false
   },
   "outputs": [],
   "source": [
    "#pvalue <- 1-phyper(45, 92, 7518, 1329)\n",
    "#pvalue = 1-stats.hypergeom.cdf(45, 7518, 92. 1329)\n",
    "1-st.hypergeom.cdf(66741, 0, 594732, 33082)"
   ]
  },
  {
   "cell_type": "code",
   "execution_count": null,
   "metadata": {
    "collapsed": false
   },
   "outputs": [],
   "source": [
    "df_reldist = pd.DataFrame(encode_bed_slop.sort().reldist(repeat_bed.sort()))\n",
    "df_reldist.T"
   ]
  },
  {
   "cell_type": "code",
   "execution_count": null,
   "metadata": {
    "collapsed": true
   },
   "outputs": [],
   "source": [
    "df_reldist_random = pd.DataFrame(encode_bed_slop.sort().reldist(repeat_bed.sort().shuffle(g=assembly_path, chrom=False).sort()))"
   ]
  },
  {
   "cell_type": "code",
   "execution_count": null,
   "metadata": {
    "collapsed": false,
    "scrolled": false
   },
   "outputs": [],
   "source": [
    "import numpy as np\n",
    "import seaborn as sns\n",
    "#import matplotlib.pyplot as plt\n",
    "%matplotlib inline\n",
    "\n",
    "#sns.set(style=\"white\", palette=\"muted\", color_codes=True)\n",
    "sns.set(style=\"ticks\", palette=\"muted\", color_codes=True)\n",
    "sns.set_context(\"poster\", font_scale=0.6, rc={\"lines.linewidth\": 0.8})\n",
    "\n",
    "g1 = sns.pointplot(x='reldist', y='fraction', data=df_reldist[0:50],  color='r')\n",
    "g2 = sns.pointplot(x='reldist', y='fraction', data=df_reldist_random[0:50], color='b')\n",
    "\n",
    "sns.despine(offset=10, trim=True)\n",
    "#plot.set_yscale(\"log\")\n",
    "#df_reldist[['reldist','fraction']].plot()\n",
    "for ind, label in enumerate(g1.get_xticklabels()):\n",
    "    if ind % 10 == 0:  # every 10th label is kept\n",
    "        label.set_visible(True)\n",
    "    else:\n",
    "        label.set_visible(False)"
   ]
  },
  {
   "cell_type": "markdown",
   "metadata": {},
   "source": [
    "## Densities"
   ]
  },
  {
   "cell_type": "code",
   "execution_count": null,
   "metadata": {
    "collapsed": false
   },
   "outputs": [],
   "source": [
    "# density\n",
    "# assuming expected number of MIR-enhancers as\n",
    "# average genome-wide density of enhancers (enhancers/bp) * total bp length of all MIRs\n",
    "\n",
    "def compute_expected_number(name1_bed_df, name2_bed_df, name1, name2):\n",
    "    genome_size = 3095677412 \n",
    "    #enhancers_bed_df['size'] = enhancers_bed_df['end'] - enhancers_bed_df['start']\n",
    "    name1_density = len(name1_bed_df) /  genome_size\n",
    "    name2_bed_df['size'] = name2_bed_df['end'] - name2_bed_df['start']\n",
    "    name2_len = name2_bed_df['size'].sum()\n",
    "    print(name1, 'density =', name1_density, '(num of intervals)/(genome bp)')\n",
    "    print(name2,'length =', name2_len, 'bp')\n",
    "    print('Expected number of', name2, name1, '=', int(round(name1_density * name2_len)))"
   ]
  },
  {
   "cell_type": "code",
   "execution_count": null,
   "metadata": {
    "collapsed": false
   },
   "outputs": [],
   "source": [
    "compute_expected_number(encode_bed_df, repeat_bed_df, 'K562 enhancers', 'Sine/MIR')"
   ]
  },
  {
   "cell_type": "code",
   "execution_count": null,
   "metadata": {
    "collapsed": true
   },
   "outputs": [],
   "source": [
    "def infer_TSS_proximity(row):\n",
    "    description = row['name']\n",
    "    if 'Distal' in description:\n",
    "        return 'Distal'\n",
    "    if 'Proximal' in description:\n",
    "        return 'Proximal'"
   ]
  },
  {
   "cell_type": "code",
   "execution_count": null,
   "metadata": {
    "collapsed": false
   },
   "outputs": [],
   "source": [
    "encode_bed_df['TSS_proximity'] = encode_bed_df.apply(lambda r: infer_TSS_proximity(r), axis=1)"
   ]
  },
  {
   "cell_type": "code",
   "execution_count": null,
   "metadata": {
    "collapsed": false
   },
   "outputs": [],
   "source": [
    "proximal_df = encode_bed_df.query(\"TSS_proximity == 'Proximal'\")\n",
    "distal_df = encode_bed_df.query(\"TSS_proximity == 'Distal'\")"
   ]
  },
  {
   "cell_type": "code",
   "execution_count": null,
   "metadata": {
    "collapsed": false
   },
   "outputs": [],
   "source": [
    "len(distal_df)"
   ]
  },
  {
   "cell_type": "code",
   "execution_count": null,
   "metadata": {
    "collapsed": false
   },
   "outputs": [],
   "source": [
    "len(proximal_df)"
   ]
  },
  {
   "cell_type": "code",
   "execution_count": null,
   "metadata": {
    "collapsed": false
   },
   "outputs": [],
   "source": [
    "compute_expected_number(distal_df, repeat_bed_df, \"Distal enhancers\", \"Sine/MIR\")"
   ]
  },
  {
   "cell_type": "code",
   "execution_count": null,
   "metadata": {
    "collapsed": false
   },
   "outputs": [],
   "source": [
    "compute_expected_number(proximal_df, repeat_bed_df, \"Proximal enhancers\", \"Sine/MIR\")"
   ]
  },
  {
   "cell_type": "code",
   "execution_count": null,
   "metadata": {
    "collapsed": true
   },
   "outputs": [],
   "source": [
    "genes_bed = BedTool(\"../download/genome/knownGene_hg19.bed\")"
   ]
  },
  {
   "cell_type": "code",
   "execution_count": null,
   "metadata": {
    "collapsed": false
   },
   "outputs": [],
   "source": [
    "genes_bed.count()"
   ]
  },
  {
   "cell_type": "code",
   "execution_count": null,
   "metadata": {
    "collapsed": false
   },
   "outputs": [],
   "source": [
    "genes_bed_df = genes_bed.to_dataframe()"
   ]
  },
  {
   "cell_type": "code",
   "execution_count": null,
   "metadata": {
    "collapsed": true
   },
   "outputs": [],
   "source": [
    "chrom_list = ['chr1', 'chr2', 'chr3', 'chr4', 'chr5', 'chr6', 'chr7', 'chrX',\n",
    "              'chr8', 'chr9', 'chr10', 'chr11', 'chr12', 'chr13', 'chr14',\n",
    "              'chr15', 'chr16', 'chr17', 'chr18', 'chr20', 'chrY', 'chr19',\n",
    "              'chr22', 'chr21']\n",
    "\n",
    "genes_bed_df = genes_bed_df.query(\"chrom in @chrom_list\")"
   ]
  },
  {
   "cell_type": "code",
   "execution_count": null,
   "metadata": {
    "collapsed": false
   },
   "outputs": [],
   "source": [
    "genes_bed_df['chrom'].unique()"
   ]
  },
  {
   "cell_type": "code",
   "execution_count": null,
   "metadata": {
    "collapsed": true
   },
   "outputs": [],
   "source": [
    "genes_bed = BedTool().from_dataframe(genes_bed_df)"
   ]
  },
  {
   "cell_type": "code",
   "execution_count": null,
   "metadata": {
    "collapsed": false
   },
   "outputs": [],
   "source": [
    "genes_bed.count()"
   ]
  },
  {
   "cell_type": "code",
   "execution_count": null,
   "metadata": {
    "collapsed": false
   },
   "outputs": [],
   "source": [
    "compute_expected_number(genes_bed_df, repeat_bed_df, 'Genes', 'Sine/MIR')"
   ]
  },
  {
   "cell_type": "code",
   "execution_count": null,
   "metadata": {
    "collapsed": true
   },
   "outputs": [],
   "source": [
    "# genic enhancers: enhancers in genic regions\n",
    "genic_enhancers_bed = encode_bed.intersect(genes_bed, f=1, u=True)"
   ]
  },
  {
   "cell_type": "code",
   "execution_count": null,
   "metadata": {
    "collapsed": false
   },
   "outputs": [],
   "source": [
    "genic_enhancers_bed.count()"
   ]
  },
  {
   "cell_type": "code",
   "execution_count": null,
   "metadata": {
    "collapsed": true
   },
   "outputs": [],
   "source": [
    "# genic non-enhancers: genic regions without enhancers\n",
    "genic_non_enhancers_bed = genes_bed.subtract(genic_enhancers_bed, A=True)"
   ]
  },
  {
   "cell_type": "code",
   "execution_count": null,
   "metadata": {
    "collapsed": false
   },
   "outputs": [],
   "source": [
    "genic_non_enhancers_bed.intersect(genic_enhancers_bed).count()"
   ]
  },
  {
   "cell_type": "code",
   "execution_count": null,
   "metadata": {
    "collapsed": true
   },
   "outputs": [],
   "source": [
    "# non-genic enhancers: enhancers outside genic regions\n",
    "non_genic_enhancers_bed = encode_bed.subtract(genes_bed, f=1, A=True)"
   ]
  },
  {
   "cell_type": "code",
   "execution_count": null,
   "metadata": {
    "collapsed": false
   },
   "outputs": [],
   "source": [
    "non_genic_enhancers_bed.count()"
   ]
  },
  {
   "cell_type": "code",
   "execution_count": null,
   "metadata": {
    "collapsed": false
   },
   "outputs": [],
   "source": [
    "non_genic_enhancers_bed.count() + genic_enhancers_bed.count() == encode_bed.count()"
   ]
  },
  {
   "cell_type": "code",
   "execution_count": null,
   "metadata": {
    "collapsed": true
   },
   "outputs": [],
   "source": [
    "# 200 bp regions around core of enhancers\n",
    "enhancers_regions_bed = encode_bed_cores.slop(g=assembly_path, b=200)"
   ]
  },
  {
   "cell_type": "code",
   "execution_count": null,
   "metadata": {
    "collapsed": false
   },
   "outputs": [],
   "source": [
    "enhancers_regions_bed.count()"
   ]
  },
  {
   "cell_type": "code",
   "execution_count": null,
   "metadata": {
    "collapsed": false
   },
   "outputs": [],
   "source": [
    "genes_bed_df['size'] = genes_bed_df.apply(lambda row: compute_size(row), axis=1)"
   ]
  },
  {
   "cell_type": "code",
   "execution_count": null,
   "metadata": {
    "collapsed": false
   },
   "outputs": [],
   "source": [
    "genes_bed_df[['size']].quantile(np.arange(0,1,0.1))"
   ]
  },
  {
   "cell_type": "code",
   "execution_count": null,
   "metadata": {
    "collapsed": false
   },
   "outputs": [],
   "source": [
    "def compute_density_region(bed_in_region_df, region_df):\n",
    "    region_size = region_df['size'].sum()\n",
    "    bed_in_region_size = bed_in_region_df['size'].sum()\n",
    "    \n",
    "    return bed_in_region_size / region_size"
   ]
  },
  {
   "cell_type": "code",
   "execution_count": null,
   "metadata": {
    "collapsed": false
   },
   "outputs": [],
   "source": [
    "repeat_reg1_df = repeat_bed.intersect(genic_enhancers_bed, f=1e-09, u=True).to_dataframe()"
   ]
  },
  {
   "cell_type": "code",
   "execution_count": null,
   "metadata": {
    "collapsed": false
   },
   "outputs": [],
   "source": [
    "repeat_reg2_df = repeat_bed.intersect(genic_non_enhancers_bed, f=1e-09, u=True).to_dataframe()"
   ]
  },
  {
   "cell_type": "code",
   "execution_count": null,
   "metadata": {
    "collapsed": false
   },
   "outputs": [],
   "source": [
    "repeat_reg3_df = repeat_bed.intersect(non_genic_enhancers_bed, f=1e-09, u=True).to_dataframe()"
   ]
  },
  {
   "cell_type": "code",
   "execution_count": null,
   "metadata": {
    "collapsed": false
   },
   "outputs": [],
   "source": [
    "repeat_reg4_df = repeat_bed.intersect(enhancers_regions_bed, f=1e-09, u=True).to_dataframe()"
   ]
  },
  {
   "cell_type": "code",
   "execution_count": null,
   "metadata": {
    "collapsed": false
   },
   "outputs": [],
   "source": [
    "reg1_df = genic_enhancers_bed.to_dataframe()\n",
    "reg2_df = genic_non_enhancers_bed.to_dataframe()\n",
    "reg3_df = non_genic_enhancers_bed.to_dataframe()\n",
    "reg4_df = enhancers_regions_bed.to_dataframe()\n",
    "\n",
    "reg1_df['size'] =  reg1_df.apply(lambda row: compute_size(row), axis=1)\n",
    "reg2_df['size'] =  reg2_df.apply(lambda row: compute_size(row), axis=1)\n",
    "reg3_df['size'] =  reg3_df.apply(lambda row: compute_size(row), axis=1)\n",
    "reg4_df['size'] =  reg4_df.apply(lambda row: compute_size(row), axis=1)\n",
    "\n",
    "repeat_reg1_df['size'] = repeat_reg1_df.apply(lambda row: compute_size(row), axis=1)\n",
    "repeat_reg2_df['size'] = repeat_reg2_df.apply(lambda row: compute_size(row), axis=1)\n",
    "repeat_reg3_df['size'] = repeat_reg3_df.apply(lambda row: compute_size(row), axis=1)\n",
    "repeat_reg4_df['size'] = repeat_reg4_df.apply(lambda row: compute_size(row), axis=1)"
   ]
  },
  {
   "cell_type": "code",
   "execution_count": null,
   "metadata": {
    "collapsed": false
   },
   "outputs": [],
   "source": [
    "d1 = compute_density_region(repeat_reg1_df,reg1_df)\n",
    "d2 = compute_density_region(repeat_reg2_df,reg2_df)\n",
    "d3 = compute_density_region(repeat_reg3_df,reg3_df)\n",
    "d4 = compute_density_region(repeat_reg4_df,reg4_df)\n",
    "\n",
    "print(\"density of MIR in genic enhancers\", d1)\n",
    "print(\"density of MIR in genic non enhancers\", d2)\n",
    "print(\"density of MIR in non genic enhancers\", d3)\n",
    "print(\"density of MIR in enhancer regions\", d4)\n",
    "\n",
    "sum_d = d1+d2+d3+d4\n",
    "\n",
    "print(\"Normalized Ratios\",d1/sum_d, d2/sum_d, d3/sum_d, d4/sum_d)\n"
   ]
  }
 ],
 "metadata": {
  "anaconda-cloud": {},
  "kernelspec": {
   "display_name": "Python [conda root]",
   "language": "python",
   "name": "conda-root-py"
  },
  "language_info": {
   "codemirror_mode": {
    "name": "ipython",
    "version": 3
   },
   "file_extension": ".py",
   "mimetype": "text/x-python",
   "name": "python",
   "nbconvert_exporter": "python",
   "pygments_lexer": "ipython3",
   "version": "3.5.2"
  }
 },
 "nbformat": 4,
 "nbformat_minor": 1
}
