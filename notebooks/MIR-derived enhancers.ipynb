{
 "cells": [
  {
   "cell_type": "code",
   "execution_count": 175,
   "metadata": {
    "collapsed": false
   },
   "outputs": [
    {
     "data": {
      "text/plain": [
       "'../download/genome/hg19.genome'"
      ]
     },
     "execution_count": 175,
     "metadata": {},
     "output_type": "execute_result"
    }
   ],
   "source": [
    "# export full genome\n",
    "from pybedtools import genome_registry, chromsizes_to_file, chromsizes\n",
    "chromsizes_to_file(chromsizes('hg19'), '../download/genome/hg19.genome')"
   ]
  },
  {
   "cell_type": "code",
   "execution_count": 176,
   "metadata": {
    "collapsed": true
   },
   "outputs": [],
   "source": [
    "assembly_path = \"../download/genome/hg19_reduced.genome\""
   ]
  },
  {
   "cell_type": "code",
   "execution_count": 177,
   "metadata": {
    "collapsed": true
   },
   "outputs": [],
   "source": [
    "import pandas as pd\n",
    "import numpy as np\n",
    "from pybedtools import BedTool"
   ]
  },
  {
   "cell_type": "code",
   "execution_count": 178,
   "metadata": {
    "collapsed": true
   },
   "outputs": [],
   "source": [
    "store = pd.HDFStore(\"../storage/encode_overlaps.hdf\")\n",
    "store_repeat = pd.HDFStore(\"../storage/repeatmasker_staging.hdf\")"
   ]
  },
  {
   "cell_type": "code",
   "execution_count": 179,
   "metadata": {
    "collapsed": false
   },
   "outputs": [
    {
     "data": {
      "text/plain": [
       "['/filtered_hg19_DNase_H3K27ac_FANTOM_overlapped',\n",
       " '/filtered_hg19_DNase_H3K27ac_FANTOM_overlapped_bed']"
      ]
     },
     "execution_count": 179,
     "metadata": {},
     "output_type": "execute_result"
    }
   ],
   "source": [
    "store.keys()"
   ]
  },
  {
   "cell_type": "code",
   "execution_count": 180,
   "metadata": {
    "collapsed": false
   },
   "outputs": [
    {
     "data": {
      "text/plain": [
       "['/DNA',\n",
       " '/DNA_Kolobok',\n",
       " '/DNA_Kolobok_bed',\n",
       " '/DNA_MULE_MuDR',\n",
       " '/DNA_MULE_MuDR_bed',\n",
       " '/DNA_Merlin',\n",
       " '/DNA_Merlin_bed',\n",
       " '/DNA_PIF_Harbinger',\n",
       " '/DNA_PIF_Harbinger_bed',\n",
       " '/DNA_PiggyBac',\n",
       " '/DNA_PiggyBac_bed',\n",
       " '/DNA_TcMar',\n",
       " '/DNA_TcMar_Mariner',\n",
       " '/DNA_TcMar_Mariner_bed',\n",
       " '/DNA_TcMar_Pogo',\n",
       " '/DNA_TcMar_Pogo_bed',\n",
       " '/DNA_TcMar_Tc1',\n",
       " '/DNA_TcMar_Tc1_bed',\n",
       " '/DNA_TcMar_Tc2',\n",
       " '/DNA_TcMar_Tc2_bed',\n",
       " '/DNA_TcMar_Tigger',\n",
       " '/DNA_TcMar_Tigger_bed',\n",
       " '/DNA_TcMar_bed',\n",
       " '/DNA_TcMar_qm',\n",
       " '/DNA_TcMar_qm_bed',\n",
       " '/DNA_bed',\n",
       " '/DNA_hAT',\n",
       " '/DNA_hAT_Ac',\n",
       " '/DNA_hAT_Ac_bed',\n",
       " '/DNA_hAT_Blackjack',\n",
       " '/DNA_hAT_Blackjack_bed',\n",
       " '/DNA_hAT_Charlie',\n",
       " '/DNA_hAT_Charlie_bed',\n",
       " '/DNA_hAT_Tag1',\n",
       " '/DNA_hAT_Tag1_bed',\n",
       " '/DNA_hAT_Tip100',\n",
       " '/DNA_hAT_Tip100_bed',\n",
       " '/DNA_hAT_Tip100_qm',\n",
       " '/DNA_hAT_Tip100_qm_bed',\n",
       " '/DNA_hAT_bed',\n",
       " '/DNA_hAT_qm',\n",
       " '/DNA_hAT_qm_bed',\n",
       " '/DNA_qm',\n",
       " '/DNA_qm_PiggyBac_qm',\n",
       " '/DNA_qm_PiggyBac_qm_bed',\n",
       " '/DNA_qm_bed',\n",
       " '/DNA_qm_hAT_Tip100_qm',\n",
       " '/DNA_qm_hAT_Tip100_qm_bed',\n",
       " '/LINE_CR1',\n",
       " '/LINE_CR1_bed',\n",
       " '/LINE_Dong_R4',\n",
       " '/LINE_Dong_R4_bed',\n",
       " '/LINE_Jockey',\n",
       " '/LINE_Jockey_bed',\n",
       " '/LINE_L1',\n",
       " '/LINE_L1_Tx1',\n",
       " '/LINE_L1_Tx1_bed',\n",
       " '/LINE_L1_bed',\n",
       " '/LINE_L2',\n",
       " '/LINE_L2_bed',\n",
       " '/LINE_Penelope',\n",
       " '/LINE_Penelope_bed',\n",
       " '/LINE_RTE_BovB',\n",
       " '/LINE_RTE_BovB_bed',\n",
       " '/LINE_RTE_X',\n",
       " '/LINE_RTE_X_bed',\n",
       " '/LTR',\n",
       " '/LTR_ERV1',\n",
       " '/LTR_ERV1_bed',\n",
       " '/LTR_ERV1_qm',\n",
       " '/LTR_ERV1_qm_bed',\n",
       " '/LTR_ERVK',\n",
       " '/LTR_ERVK_bed',\n",
       " '/LTR_ERVL',\n",
       " '/LTR_ERVL_MaLR',\n",
       " '/LTR_ERVL_MaLR_bed',\n",
       " '/LTR_ERVL_bed',\n",
       " '/LTR_ERVL_qm',\n",
       " '/LTR_ERVL_qm_bed',\n",
       " '/LTR_Gypsy',\n",
       " '/LTR_Gypsy_bed',\n",
       " '/LTR_Gypsy_qm',\n",
       " '/LTR_Gypsy_qm_bed',\n",
       " '/LTR_bed',\n",
       " '/LTR_qm',\n",
       " '/LTR_qm_bed',\n",
       " '/Low_complexity',\n",
       " '/Low_complexity_bed',\n",
       " '/RC_Helitron',\n",
       " '/RC_Helitron_bed',\n",
       " '/RC_qm_Helitron_qm',\n",
       " '/RC_qm_Helitron_qm_bed',\n",
       " '/RNA',\n",
       " '/RNA_bed',\n",
       " '/Retroposon_SVA',\n",
       " '/Retroposon_SVA_bed',\n",
       " '/SINE_5S_Deu_L2',\n",
       " '/SINE_5S_Deu_L2_bed',\n",
       " '/SINE_Alu',\n",
       " '/SINE_Alu_bed',\n",
       " '/SINE_MIR',\n",
       " '/SINE_MIR_bed',\n",
       " '/SINE_qm_tRNA',\n",
       " '/SINE_qm_tRNA_bed',\n",
       " '/SINE_tRNA',\n",
       " '/SINE_tRNA_Deu',\n",
       " '/SINE_tRNA_Deu_bed',\n",
       " '/SINE_tRNA_RTE',\n",
       " '/SINE_tRNA_RTE_bed',\n",
       " '/SINE_tRNA_bed',\n",
       " '/Satellite',\n",
       " '/Satellite_acro',\n",
       " '/Satellite_acro_bed',\n",
       " '/Satellite_bed',\n",
       " '/Satellite_centr',\n",
       " '/Satellite_centr_bed',\n",
       " '/Satellite_telo',\n",
       " '/Satellite_telo_bed',\n",
       " '/Simple_repeat',\n",
       " '/Simple_repeat_bed',\n",
       " '/Unknown',\n",
       " '/Unknown_bed',\n",
       " '/rRNA',\n",
       " '/rRNA_bed',\n",
       " '/scRNA',\n",
       " '/scRNA_bed',\n",
       " '/snRNA',\n",
       " '/snRNA_bed',\n",
       " '/srpRNA',\n",
       " '/srpRNA_bed',\n",
       " '/tRNA',\n",
       " '/tRNA_bed']"
      ]
     },
     "execution_count": 180,
     "metadata": {},
     "output_type": "execute_result"
    }
   ],
   "source": [
    "store_repeat.keys()"
   ]
  },
  {
   "cell_type": "code",
   "execution_count": 181,
   "metadata": {
    "collapsed": true
   },
   "outputs": [],
   "source": [
    "store.close()\n",
    "store_repeat.close()"
   ]
  },
  {
   "cell_type": "code",
   "execution_count": 182,
   "metadata": {
    "collapsed": true
   },
   "outputs": [],
   "source": [
    "encode_metadata = pd.read_hdf(\"../storage/encode_staging.hdf\", \"encode_metadata\")"
   ]
  },
  {
   "cell_type": "code",
   "execution_count": 183,
   "metadata": {
    "collapsed": false
   },
   "outputs": [
    {
     "data": {
      "text/plain": [
       "array(['T47D', 'Daoy', 'HL-60', 'A549', 'RPMI8226', 'K562', 'HeLa-S3',\n",
       "       'Jurkat', 'Caki2', 'KBM-7', 'Karpas-422', 'GM06990', 'NCI-H226',\n",
       "       'GM12878', 'HCT116', 'MG63', 'HS-27A', 'HS-5', 'BE2C', 'WI38',\n",
       "       'HepG2', 'M059J', 'WERI-Rb-1', 'MCF-7', 'LHCN-M2',\n",
       "       'LNCaP clone FGC', 'PC-9', 'RCC 7860', 'DND-41', 'MM.1S', 'GM12864',\n",
       "       'CMK', 'GM12865', 'OCI-LY7', 'HT-29', 'Panc1', 'A673', 'SK-N-SH',\n",
       "       'G401', 'ACHN', 'Loucy', 'SK-N-MC', 'NAMALWA', 'SJSA1', 'NT2/D1',\n",
       "       'RPMI-7951', 'PC-3', 'NB4', 'Caco-2', 'A172'], dtype=object)"
      ]
     },
     "execution_count": 183,
     "metadata": {},
     "output_type": "execute_result"
    }
   ],
   "source": [
    "encode_metadata.query(\"assembly == 'hg19' & biosample_type=='immortalized cell line'\")['biosample_term_name'].unique()"
   ]
  },
  {
   "cell_type": "code",
   "execution_count": 184,
   "metadata": {
    "collapsed": false
   },
   "outputs": [
    {
     "data": {
      "text/html": [
       "<div>\n",
       "<table border=\"1\" class=\"dataframe\">\n",
       "  <thead>\n",
       "    <tr style=\"text-align: right;\">\n",
       "      <th></th>\n",
       "      <th>accession</th>\n",
       "      <th>assembly</th>\n",
       "      <th>biosample_term_id</th>\n",
       "      <th>biosample_term_name</th>\n",
       "      <th>biosample_type</th>\n",
       "      <th>description</th>\n",
       "      <th>developmental_slims</th>\n",
       "      <th>encyclopedia_version</th>\n",
       "      <th>month_released</th>\n",
       "      <th>organ_slims</th>\n",
       "      <th>organism</th>\n",
       "      <th>system_slims</th>\n",
       "      <th>bed_filename</th>\n",
       "      <th>bed_filepath</th>\n",
       "      <th>merged</th>\n",
       "      <th>method</th>\n",
       "    </tr>\n",
       "  </thead>\n",
       "  <tbody>\n",
       "    <tr>\n",
       "      <th>170</th>\n",
       "      <td>ENCSR903CEC</td>\n",
       "      <td>hg19</td>\n",
       "      <td>EFO:0002067</td>\n",
       "      <td>K562</td>\n",
       "      <td>immortalized cell line</td>\n",
       "      <td>Enhancer-like regions using H3K27ac-only for K562</td>\n",
       "      <td>[]</td>\n",
       "      <td>3</td>\n",
       "      <td>August, 2016</td>\n",
       "      <td>[]</td>\n",
       "      <td>/organisms/human/</td>\n",
       "      <td>[]</td>\n",
       "      <td>ENCFF250DSF.bed.gz</td>\n",
       "      <td>/Users/manuel/development/thesis/download/ENCO...</td>\n",
       "      <td>False</td>\n",
       "      <td>H3K27ac</td>\n",
       "    </tr>\n",
       "    <tr>\n",
       "      <th>204</th>\n",
       "      <td>ENCSR219XCK</td>\n",
       "      <td>hg19</td>\n",
       "      <td>EFO:0002067</td>\n",
       "      <td>K562</td>\n",
       "      <td>immortalized cell line</td>\n",
       "      <td>Enhancer-like regions using H3K27ac-only for L...</td>\n",
       "      <td>[]</td>\n",
       "      <td>3</td>\n",
       "      <td>August, 2016</td>\n",
       "      <td>[]</td>\n",
       "      <td>/organisms/human/</td>\n",
       "      <td>[]</td>\n",
       "      <td>ENCFF371JNQ.bed.gz</td>\n",
       "      <td>/Users/manuel/development/thesis/download/ENCO...</td>\n",
       "      <td>False</td>\n",
       "      <td>H3K27ac</td>\n",
       "    </tr>\n",
       "  </tbody>\n",
       "</table>\n",
       "</div>"
      ],
      "text/plain": [
       "       accession assembly biosample_term_id biosample_term_name  \\\n",
       "170  ENCSR903CEC     hg19       EFO:0002067                K562   \n",
       "204  ENCSR219XCK     hg19       EFO:0002067                K562   \n",
       "\n",
       "             biosample_type  \\\n",
       "170  immortalized cell line   \n",
       "204  immortalized cell line   \n",
       "\n",
       "                                           description developmental_slims  \\\n",
       "170  Enhancer-like regions using H3K27ac-only for K562                  []   \n",
       "204  Enhancer-like regions using H3K27ac-only for L...                  []   \n",
       "\n",
       "    encyclopedia_version month_released organ_slims           organism  \\\n",
       "170                    3   August, 2016          []  /organisms/human/   \n",
       "204                    3   August, 2016          []  /organisms/human/   \n",
       "\n",
       "    system_slims        bed_filename  \\\n",
       "170           []  ENCFF250DSF.bed.gz   \n",
       "204           []  ENCFF371JNQ.bed.gz   \n",
       "\n",
       "                                          bed_filepath merged   method  \n",
       "170  /Users/manuel/development/thesis/download/ENCO...  False  H3K27ac  \n",
       "204  /Users/manuel/development/thesis/download/ENCO...  False  H3K27ac  "
      ]
     },
     "execution_count": 184,
     "metadata": {},
     "output_type": "execute_result"
    }
   ],
   "source": [
    "encode_metadata.query(\"assembly == 'hg19' & biosample_term_name == 'K562' & method=='H3K27ac'\")"
   ]
  },
  {
   "cell_type": "code",
   "execution_count": 185,
   "metadata": {
    "collapsed": false
   },
   "outputs": [],
   "source": [
    "encode_bed = BedTool(\"../download/ENCODE/ENCSR903CEC/files/ENCFF250DSF/ENCFF250DSF.bed.gz\")"
   ]
  },
  {
   "cell_type": "code",
   "execution_count": 186,
   "metadata": {
    "collapsed": true
   },
   "outputs": [],
   "source": [
    "repeat_bed_df = pd.read_hdf(\"../storage/repeatmasker_staging.hdf\", \"SINE_MIR_bed\")\n",
    "repeat_bed = BedTool().from_dataframe(repeat_bed_df)"
   ]
  },
  {
   "cell_type": "code",
   "execution_count": 187,
   "metadata": {
    "collapsed": false
   },
   "outputs": [
    {
     "name": "stdout",
     "output_type": "stream",
     "text": [
      "chr7\t106206757\t106212313\tDistal-Prediction-1\t1\t.\t106207512\t106212313\t255,205,0\n",
      " chr2\t33141168\t33141802\tDistal-Prediction-2\t1\t.\t33141168\t33141802\t255,205,0\n",
      " chr19\t52047589\t52056214\tDistal-Prediction-3\t1\t.\t52048957\t52053741\t255,205,0\n",
      " chr6\t159273426\t159276316\tDistal-Prediction-4\t1\t.\t159273426\t159276316\t255,205,0\n",
      " chr10\t74078831\t74083775\tDistal-Prediction-5\t1\t.\t74079445\t74083775\t255,205,0\n",
      " chr18\t3620903\t3627615\tDistal-Prediction-6\t1\t.\t3620903\t3626780\t255,205,0\n",
      " chr1\t26447785\t26455587\tDistal-Prediction-7\t1\t.\t26450850\t26455587\t255,205,0\n",
      " chr11\t75244071\t75250880\tDistal-Prediction-8\t1\t.\t75244560\t75246987\t255,205,0\n",
      " chr1\t26945615\t26949271\tDistal-Prediction-9\t1\t.\t26947061\t26948770\t255,205,0\n",
      " chr1\t145454000\t145457861\tDistal-Prediction-10\t1\t.\t145454000\t145457861\t255,205,0\n",
      " "
     ]
    }
   ],
   "source": [
    "encode_bed.head()"
   ]
  },
  {
   "cell_type": "code",
   "execution_count": 188,
   "metadata": {
    "collapsed": false
   },
   "outputs": [
    {
     "data": {
      "text/plain": [
       "33082"
      ]
     },
     "execution_count": 188,
     "metadata": {},
     "output_type": "execute_result"
    }
   ],
   "source": [
    "encode_bed.count()"
   ]
  },
  {
   "cell_type": "code",
   "execution_count": 189,
   "metadata": {
    "collapsed": false
   },
   "outputs": [
    {
     "data": {
      "text/plain": [
       "594372"
      ]
     },
     "execution_count": 189,
     "metadata": {},
     "output_type": "execute_result"
    }
   ],
   "source": [
    "repeat_bed.count()"
   ]
  },
  {
   "cell_type": "code",
   "execution_count": 190,
   "metadata": {
    "collapsed": false
   },
   "outputs": [
    {
     "data": {
      "text/plain": [
       "array(['chr1', 'chr2', 'chr3', 'chr4', 'chr5', 'chr6', 'chr7', 'chrX',\n",
       "       'chr8', 'chr9', 'chr10', 'chr11', 'chr12', 'chr13', 'chr14',\n",
       "       'chr15', 'chr16', 'chr17', 'chr18', 'chr20', 'chrY', 'chr19',\n",
       "       'chr22', 'chr21'], dtype=object)"
      ]
     },
     "execution_count": 190,
     "metadata": {},
     "output_type": "execute_result"
    }
   ],
   "source": [
    "repeat_bed.to_dataframe()['chrom'].unique()"
   ]
  },
  {
   "cell_type": "code",
   "execution_count": 191,
   "metadata": {
    "collapsed": false
   },
   "outputs": [],
   "source": [
    "encode_bed_df = encode_bed.to_dataframe()"
   ]
  },
  {
   "cell_type": "code",
   "execution_count": 198,
   "metadata": {
    "collapsed": true
   },
   "outputs": [],
   "source": [
    "# removing chroms\n",
    "chroms = encode_bed_df['chrom'].unique()\n",
    "repeat_bed = BedTool().from_dataframe(repeat_bed_df.query('chrom in @chroms'))"
   ]
  },
  {
   "cell_type": "code",
   "execution_count": 199,
   "metadata": {
    "collapsed": false
   },
   "outputs": [
    {
     "data": {
      "text/plain": [
       "593160"
      ]
     },
     "execution_count": 199,
     "metadata": {},
     "output_type": "execute_result"
    }
   ],
   "source": [
    "repeat_bed.count()"
   ]
  },
  {
   "cell_type": "markdown",
   "metadata": {},
   "source": [
    "### MIR size distribution"
   ]
  },
  {
   "cell_type": "code",
   "execution_count": 331,
   "metadata": {
    "collapsed": true
   },
   "outputs": [],
   "source": [
    "def compute_size(row, prefix=None):\n",
    "    col_name = prefix + '_name' if prefix else 'name'\n",
    "    if row[col_name] == '.':\n",
    "        return 0\n",
    "    col_end = prefix + '_end' if prefix else 'end'\n",
    "    col_start = prefix + '_start' if prefix else 'start'\n",
    "    size = abs(row[col_end] - row[col_start])\n",
    "    return size"
   ]
  },
  {
   "cell_type": "code",
   "execution_count": 332,
   "metadata": {
    "collapsed": true
   },
   "outputs": [],
   "source": [
    "# MIR size\n",
    "repeat_bed_df = repeat_bed.to_dataframe()\n",
    "repeat_bed_df['size'] = repeat_bed_df.apply(lambda row: compute_size(row), axis=1)"
   ]
  },
  {
   "cell_type": "code",
   "execution_count": 338,
   "metadata": {
    "collapsed": false
   },
   "outputs": [],
   "source": [
    "repeat_sizes_df = repeat_bed_df[['size']]"
   ]
  },
  {
   "cell_type": "code",
   "execution_count": 339,
   "metadata": {
    "collapsed": false
   },
   "outputs": [
    {
     "name": "stderr",
     "output_type": "stream",
     "text": [
      "/Users/manuel/anaconda/lib/python3.5/site-packages/statsmodels/nonparametric/kdetools.py:20: VisibleDeprecationWarning: using a non-integer number instead of an integer will result in an error in the future\n",
      "  y = X[:m/2+1] + np.r_[0,X[m/2+1:],0]*1j\n"
     ]
    },
    {
     "data": {
      "text/plain": [
       "<matplotlib.axes._subplots.AxesSubplot at 0x11d1b4c88>"
      ]
     },
     "execution_count": 339,
     "metadata": {},
     "output_type": "execute_result"
    },
    {
     "data": {
      "image/png": "[encoded data removed]",
      "text/plain": [
       "<matplotlib.figure.Figure at 0x12ac15ac8>"
      ]
     },
     "metadata": {},
     "output_type": "display_data"
    }
   ],
   "source": [
    "import seaborn as sns\n",
    "%matplotlib inline\n",
    "import scipy.stats as st\n",
    "sns.distplot(repeat_sizes_df, kde=True)"
   ]
  },
  {
   "cell_type": "markdown",
   "metadata": {},
   "source": [
    "## Full MIR in enhancer"
   ]
  },
  {
   "cell_type": "code",
   "execution_count": 363,
   "metadata": {
    "collapsed": false
   },
   "outputs": [
    {
     "data": {
      "text/plain": [
       "11183"
      ]
     },
     "execution_count": 363,
     "metadata": {},
     "output_type": "execute_result"
    }
   ],
   "source": [
    "real_count = encode_bed.intersect(repeat_bed, F=1).count()\n",
    "real_count"
   ]
  },
  {
   "cell_type": "code",
   "execution_count": 356,
   "metadata": {
    "collapsed": false
   },
   "outputs": [
    {
     "data": {
      "text/plain": [
       "11183"
      ]
     },
     "execution_count": 356,
     "metadata": {},
     "output_type": "execute_result"
    }
   ],
   "source": [
    "repeat_bed.intersect(encode_bed, f=1).count()"
   ]
  },
  {
   "cell_type": "markdown",
   "metadata": {},
   "source": [
    "### Null Model 1: shuffled enhancers"
   ]
  },
  {
   "cell_type": "code",
   "execution_count": 374,
   "metadata": {
    "collapsed": false
   },
   "outputs": [],
   "source": [
    "def compare_null_model(counts, real_count):\n",
    "    print(\"mean:\", np.mean(counts), \"std:\", np.std(counts))\n",
    "    import seaborn as sns\n",
    "    %matplotlib inline\n",
    "    import scipy.stats as st\n",
    "    sns.distplot(counts, kde=False, fit=st.norm, bins=20)\n",
    "    z_score =(real_count - np.mean(counts))/np.std(counts)\n",
    "    p_values = st.norm.sf(abs(z_score))\n",
    "    print(\"z-score:\", z_score, \"p-value:\",p_values)"
   ]
  },
  {
   "cell_type": "code",
   "execution_count": 382,
   "metadata": {
    "collapsed": true
   },
   "outputs": [],
   "source": [
    "def build_shuffled_full_overlap(bed, bed_overlap_with, assembly_path):\n",
    "    shuffled_bed = bed.shuffle(g=assembly_path)\n",
    "    core_null_model_intersection = shuffled_bed.intersect(bed_overlap_with, F=1)\n",
    "    return core_null_model_intersection.count()"
   ]
  },
  {
   "cell_type": "code",
   "execution_count": 391,
   "metadata": {
    "collapsed": false
   },
   "outputs": [],
   "source": [
    "from joblib import Parallel, delayed\n",
    "import multiprocessing\n",
    "counts = []\n",
    "num_cores = multiprocessing.cpu_count()\n",
    "counts.append(Parallel(n_jobs=num_cores)(delayed(build_shuffled_full_overlap)\n",
    "                                             (encode_bed, repeat_bed, assembly_path)\n",
    "                                             for i in range(0, 100)))"
   ]
  },
  {
   "cell_type": "code",
   "execution_count": 392,
   "metadata": {
    "collapsed": false
   },
   "outputs": [
    {
     "name": "stdout",
     "output_type": "stream",
     "text": [
      "mean: 8103.37 std: 109.993695728\n",
      "z-score: 27.9982409865 p-value: 8.53452816228e-173\n"
     ]
    },
    {
     "data": {
      "image/png": "[encoded data removed]",
      "text/plain": [
       "<matplotlib.figure.Figure at 0x1300cd5f8>"
      ]
     },
     "metadata": {},
     "output_type": "display_data"
    }
   ],
   "source": [
    "compare_null_model(counts, real_count)"
   ]
  },
  {
   "cell_type": "markdown",
   "metadata": {},
   "source": [
    "### Null Model 2: shuffled repeats"
   ]
  },
  {
   "cell_type": "code",
   "execution_count": 396,
   "metadata": {
    "collapsed": true
   },
   "outputs": [],
   "source": [
    "def build_shuffled_full_overlap_with(bed, bed_overlap_with, assembly_path):\n",
    "    shuffled_bed_with = bed_overlap_with.shuffle(g=assembly_path)\n",
    "    core_null_model_intersection = bed.intersect(shuffled_bed_with, F=1)\n",
    "    return core_null_model_intersection.count()"
   ]
  },
  {
   "cell_type": "code",
   "execution_count": 399,
   "metadata": {
    "collapsed": true
   },
   "outputs": [],
   "source": [
    "from joblib import Parallel, delayed\n",
    "import multiprocessing\n",
    "counts = []\n",
    "num_cores = multiprocessing.cpu_count()\n",
    "counts.append(Parallel(n_jobs=num_cores)(delayed(build_shuffled_full_overlap_with)\n",
    "                                             (encode_bed, repeat_bed, assembly_path)\n",
    "                                             for i in range(0, 100)))"
   ]
  },
  {
   "cell_type": "code",
   "execution_count": 400,
   "metadata": {
    "collapsed": false
   },
   "outputs": [
    {
     "name": "stdout",
     "output_type": "stream",
     "text": [
      "mean: 8107.45 std: 80.5198577992\n",
      "z-score: 38.1961678034 p-value: 0.0\n"
     ]
    },
    {
     "data": {
      "image/png": "[encoded data removed]",
      "text/plain": [
       "<matplotlib.figure.Figure at 0x11fbf4550>"
      ]
     },
     "metadata": {},
     "output_type": "display_data"
    }
   ],
   "source": [
    "compare_null_model(counts, real_count)"
   ]
  },
  {
   "cell_type": "markdown",
   "metadata": {},
   "source": [
    "### Null Model 3: shuffled on shuffled"
   ]
  },
  {
   "cell_type": "code",
   "execution_count": 402,
   "metadata": {
    "collapsed": true
   },
   "outputs": [],
   "source": [
    "def build_shuffled_on_shuffled_full_overlap(bed, bed_overlap_with, assembly_path):\n",
    "    shuffled_bed = bed.shuffle(g=assembly_path)\n",
    "    shuffled_bed_with = bed_overlap_with.shuffle(g=assembly_path)\n",
    "    core_null_model_intersection = shuffled_bed.intersect(shuffled_bed_with, F=1)\n",
    "    return core_null_model_intersection.count()"
   ]
  },
  {
   "cell_type": "code",
   "execution_count": 403,
   "metadata": {
    "collapsed": true
   },
   "outputs": [],
   "source": [
    "from joblib import Parallel, delayed\n",
    "import multiprocessing\n",
    "counts = []\n",
    "num_cores = multiprocessing.cpu_count()\n",
    "counts.append(Parallel(n_jobs=num_cores)(delayed(build_shuffled_on_shuffled_full_overlap)\n",
    "                                             (encode_bed, repeat_bed, assembly_path)\n",
    "                                             for i in range(0, 100)))"
   ]
  },
  {
   "cell_type": "code",
   "execution_count": 404,
   "metadata": {
    "collapsed": false
   },
   "outputs": [
    {
     "name": "stdout",
     "output_type": "stream",
     "text": [
      "mean: 8117.81 std: 89.2534251444\n",
      "z-score: 34.3425475834 p-value: 9.09825068563e-259\n"
     ]
    },
    {
     "data": {
      "image/png": "[encoded data removed]",
      "text/plain": [
       "<matplotlib.figure.Figure at 0x1202c5d30>"
      ]
     },
     "metadata": {},
     "output_type": "display_data"
    }
   ],
   "source": [
    "compare_null_model(counts, real_count)"
   ]
  },
  {
   "cell_type": "markdown",
   "metadata": {},
   "source": [
    "## MIR-enhancers: core of enhancers in MIR"
   ]
  },
  {
   "cell_type": "code",
   "execution_count": 340,
   "metadata": {
    "collapsed": true
   },
   "outputs": [],
   "source": [
    "def compute_centers(df):\n",
    "    df['centered_locus'] = round(\n",
    "        (df['end'] - df['start'])/2 \n",
    "        + df['start']).astype(int)"
   ]
  },
  {
   "cell_type": "code",
   "execution_count": 341,
   "metadata": {
    "collapsed": false
   },
   "outputs": [],
   "source": [
    "compute_centers(encode_bed_df)"
   ]
  },
  {
   "cell_type": "code",
   "execution_count": 342,
   "metadata": {
    "collapsed": false
   },
   "outputs": [],
   "source": [
    "encode_bed_cores_df = encode_bed_df.copy()\n",
    "encode_bed_cores_df['start'] = encode_bed_cores_df['centered_locus']\n",
    "encode_bed_cores_df['end'] = encode_bed_cores_df['centered_locus']"
   ]
  },
  {
   "cell_type": "code",
   "execution_count": 343,
   "metadata": {
    "collapsed": false
   },
   "outputs": [
    {
     "data": {
      "text/plain": [
       "array(['chr7', 'chr2', 'chr19', 'chr6', 'chr10', 'chr18', 'chr1', 'chr11',\n",
       "       'chr4', 'chr20', 'chr3', 'chrX', 'chr8', 'chr15', 'chr21', 'chr9',\n",
       "       'chr16', 'chr22', 'chr5', 'chr13', 'chr17', 'chr14', 'chr12'], dtype=object)"
      ]
     },
     "execution_count": 343,
     "metadata": {},
     "output_type": "execute_result"
    }
   ],
   "source": [
    "encode_bed_cores_df['chrom'].unique()"
   ]
  },
  {
   "cell_type": "code",
   "execution_count": 344,
   "metadata": {
    "collapsed": false
   },
   "outputs": [],
   "source": [
    "encode_bed_cores = BedTool().from_dataframe(encode_bed_cores_df[['chrom', 'start', 'end', 'name', 'score', 'strand']])"
   ]
  },
  {
   "cell_type": "code",
   "execution_count": 345,
   "metadata": {
    "collapsed": false
   },
   "outputs": [
    {
     "data": {
      "text/plain": [
       "33082"
      ]
     },
     "execution_count": 345,
     "metadata": {},
     "output_type": "execute_result"
    }
   ],
   "source": [
    "encode_bed_cores.count()"
   ]
  },
  {
   "cell_type": "code",
   "execution_count": 347,
   "metadata": {
    "collapsed": true
   },
   "outputs": [],
   "source": [
    "#MIR-enhancers: core of enhancer in MIR\n",
    "core_intersection = encode_bed_cores.intersect(repeat_bed)"
   ]
  },
  {
   "cell_type": "code",
   "execution_count": 348,
   "metadata": {
    "collapsed": false
   },
   "outputs": [
    {
     "data": {
      "text/plain": [
       "975"
      ]
     },
     "execution_count": 348,
     "metadata": {},
     "output_type": "execute_result"
    }
   ],
   "source": [
    "core_intersection.count()"
   ]
  },
  {
   "cell_type": "code",
   "execution_count": 209,
   "metadata": {
    "collapsed": false
   },
   "outputs": [
    {
     "name": "stdout",
     "output_type": "stream",
     "text": [
      "chr10\t74081303\t74081303\tDistal-Prediction-5\t1\t.\n",
      " chr20\t353506\t353506\tDistal-Prediction-15\t1\t.\n",
      " chr3\t177076814\t177076814\tDistal-Prediction-24\t1\t.\n",
      " chr2\t100908420\t100908420\tDistal-Prediction-29\t1\t.\n",
      " chr3\t5471120\t5471120\tDistal-Prediction-55\t1\t.\n",
      " chr20\t52239227\t52239227\tDistal-Prediction-177\t1\t.\n",
      " chr3\t195854460\t195854460\tDistal-Prediction-251\t1\t.\n",
      " chr7\t2059134\t2059134\tDistal-Prediction-272\t1\t.\n",
      " chr9\t69013147\t69013147\tDistal-Prediction-304\t1\t.\n",
      " chr20\t30294232\t30294232\tDistal-Prediction-341\t1\t.\n",
      " "
     ]
    }
   ],
   "source": [
    "core_intersection.head()"
   ]
  },
  {
   "cell_type": "code",
   "execution_count": 313,
   "metadata": {
    "collapsed": false
   },
   "outputs": [],
   "source": [
    "counts = []\n",
    "for i in range(0,20):\n",
    "    shuffled_encode_bed = encode_bed.shuffle(g=assembly_path)\n",
    "    shuffled_encode_bed_df = shuffled_encode_bed.to_dataframe()\n",
    "    compute_centers(shuffled_encode_bed_df)\n",
    "    shuffled_encode_bed_cores_df = shuffled_encode_bed_df.copy()\n",
    "    shuffled_encode_bed_cores_df['start'] = shuffled_encode_bed_cores_df['centered_locus']\n",
    "    shuffled_encode_bed_cores_df['end'] = shuffled_encode_bed_cores_df['centered_locus']\n",
    "    shuffled_encode_bed_cores_all = BedTool().from_dataframe(shuffled_encode_bed_cores_df[['chrom', 'start', 'end', 'name', 'score', 'strand']])\n",
    "    core_null_model_intersection_all = shuffled_encode_bed_cores_all.intersect(repeat_bed)\n",
    "    counts.append(core_null_model_intersection_all.count())"
   ]
  },
  {
   "cell_type": "code",
   "execution_count": 314,
   "metadata": {
    "collapsed": false
   },
   "outputs": [
    {
     "name": "stdout",
     "output_type": "stream",
     "text": [
      "909.9 27.7360775886\n"
     ]
    }
   ],
   "source": [
    "print(np.mean(counts), np.std(counts))"
   ]
  },
  {
   "cell_type": "code",
   "execution_count": 315,
   "metadata": {
    "collapsed": false
   },
   "outputs": [
    {
     "name": "stdout",
     "output_type": "stream",
     "text": [
      "2.34712351781\n"
     ]
    }
   ],
   "source": [
    "z_score =(core_intersection.count() - np.mean(counts))/np.std(counts)\n",
    "print(z_score)"
   ]
  },
  {
   "cell_type": "code",
   "execution_count": 317,
   "metadata": {
    "collapsed": false
   },
   "outputs": [
    {
     "data": {
      "text/plain": [
       "0.0094594909228034735"
      ]
     },
     "execution_count": 317,
     "metadata": {},
     "output_type": "execute_result"
    }
   ],
   "source": [
    "p_values = st.norm.sf(abs(z_score))\n",
    "p_values"
   ]
  },
  {
   "cell_type": "code",
   "execution_count": 288,
   "metadata": {
    "collapsed": false
   },
   "outputs": [
    {
     "data": {
      "text/plain": [
       "885"
      ]
     },
     "execution_count": 288,
     "metadata": {},
     "output_type": "execute_result"
    }
   ],
   "source": [
    "core_null_model_intersection_all = shuffled_encode_bed_cores_all.intersect(repeat_bed)\n",
    "core_null_model_intersection_all.count()"
   ]
  },
  {
   "cell_type": "code",
   "execution_count": 234,
   "metadata": {
    "collapsed": true
   },
   "outputs": [],
   "source": [
    "# null model MIR-enhancers\n",
    "shuffled_encode_bed_cores = encode_bed_cores.shuffle(g=assembly_path)\n",
    "core_null_model_intersection = shuffled_encode_bed_cores.intersect(repeat_bed)"
   ]
  },
  {
   "cell_type": "code",
   "execution_count": 235,
   "metadata": {
    "collapsed": false
   },
   "outputs": [
    {
     "data": {
      "text/plain": [
       "897"
      ]
     },
     "execution_count": 235,
     "metadata": {},
     "output_type": "execute_result"
    }
   ],
   "source": [
    "core_null_model_intersection.count()"
   ]
  },
  {
   "cell_type": "code",
   "execution_count": 329,
   "metadata": {
    "collapsed": false
   },
   "outputs": [],
   "source": [
    "def mean_size(bed):\n",
    "    sample_df = bed.to_dataframe()\n",
    "    sample_df['size'] = sample_df.apply(lambda row: compute_size(row), axis=1)\n",
    "    return int(round(sample_df[['size']].mean()))\n",
    "\n",
    "def build_random_overlap(bed, intervals_size, intervals_num, min_overlap, assembly, df_columns, idx):\n",
    "    empty_bed = BedTool()\n",
    "    random_bed = empty_bed.random(l=intervals_size, n=intervals_num,\n",
    "                                  g=assembly)\n",
    "    row_array = [idx, bed.intersect(random_bed, f=min_overlap).count()]\n",
    "    return pd.DataFrame([row_array], columns=df_columns)\n",
    "\n",
    "def build_shuffled_overlap(bed, bed_overlap_with, min_overlap, assembly, df_columns, idx):\n",
    "    random_bed = bed.shuffle(g=assembly, chrom=False)\n",
    "    row_array = [idx, bed.intersect(random_bed, f=min_overlap).count()]\n",
    "    return pd.DataFrame([row_array], columns=df_columns)\n",
    "\n",
    "def build_shuffled_overlap_cores(bed, bed_overlap_with, min_overlap, assembly, df_columns, idx):\n",
    "    random_bed = bed.shuffle(g=assembly_path, chrom=False)\n",
    "    random_bed_df = random_bed.to_dataframe()\n",
    "    compute_centers(random_bed_df)\n",
    "    random_bed_cores_df = random_bed_df.copy()\n",
    "    random_bed_cores_df['start'] = random_bed_cores_df['centered_locus']\n",
    "    random_bed_cores_df['end'] = random_bed_cores_df['centered_locus']\n",
    "    random_bed_cores = BedTool().from_dataframe(random_bed_cores_df[['chrom', 'start', 'end', 'name', 'score', 'strand']])\n",
    "\n",
    "    row_array = [idx, bed.intersect(random_bed_cores, f=min_overlap).count()]\n",
    "    return pd.DataFrame([row_array], columns=df_columns)\n",
    "\n"
   ]
  },
  {
   "cell_type": "code",
   "execution_count": 279,
   "metadata": {
    "collapsed": true
   },
   "outputs": [],
   "source": [
    "from joblib import Parallel, delayed\n",
    "import multiprocessing\n",
    "\n",
    "def create_random_overlap_distribution_parallelized(bed, bed_overlap_with, assembly, min_overlap, \n",
    "                                                    samples_num,strategy='random', compute_cores=False):\n",
    "    num_cores = multiprocessing.cpu_count()\n",
    "\n",
    "    intervals_size = mean_size(bed_overlap_with)\n",
    "    intervals_num = bed_overlap_with.count()\n",
    "    columns = ['sample_num', 'size']\n",
    "\n",
    "    if strategy == 'shuffle':\n",
    "        if compute_cores == True:\n",
    "            df_list = Parallel(n_jobs=num_cores)(delayed(build_shuffled_overlap_cores)\n",
    "                                             (bed, bed_overlap_with, min_overlap, assembly, columns, i)\n",
    "                                             for i in range(0, samples_num))\n",
    "        else:\n",
    "            df_list = Parallel(n_jobs=num_cores)(delayed(build_shuffled_overlap)\n",
    "                                             (bed, bed_overlap_with, min_overlap, assembly, columns, i)\n",
    "                                             for i in range(0, samples_num))\n",
    "    else:\n",
    "        df_list = Parallel(n_jobs=num_cores)(delayed(build_random_overlap)\n",
    "                                             (bed, intervals_size, intervals_num, min_overlap, assembly, columns, i)\n",
    "                                             for i in range(0, samples_num))\n",
    "    return pd.concat(df_list)"
   ]
  },
  {
   "cell_type": "code",
   "execution_count": 301,
   "metadata": {
    "collapsed": false
   },
   "outputs": [],
   "source": [
    "test_cores_df = create_random_overlap_distribution_parallelized(encode_bed_cores, repeat_bed, assembly_path,\n",
    "                                                         1e-09, 50, 'random', compute_cores=False)"
   ]
  },
  {
   "cell_type": "code",
   "execution_count": 302,
   "metadata": {
    "collapsed": false
   },
   "outputs": [
    {
     "data": {
      "text/plain": [
       "<matplotlib.axes._subplots.AxesSubplot at 0x12338dac8>"
      ]
     },
     "execution_count": 302,
     "metadata": {},
     "output_type": "execute_result"
    },
    {
     "data": {
      "image/png": "[encoded data removed]",
      "text/plain": [
       "<matplotlib.figure.Figure at 0x118a12cc0>"
      ]
     },
     "metadata": {},
     "output_type": "display_data"
    }
   ],
   "source": [
    "import seaborn as sns\n",
    "%matplotlib inline\n",
    "import scipy.stats as st\n",
    "sns.distplot(test_cores_df[['size']], kde=False, fit=st.norm, bins=20)"
   ]
  },
  {
   "cell_type": "code",
   "execution_count": 303,
   "metadata": {
    "collapsed": false
   },
   "outputs": [
    {
     "data": {
      "text/plain": [
       "905.56"
      ]
     },
     "execution_count": 303,
     "metadata": {},
     "output_type": "execute_result"
    }
   ],
   "source": [
    "np.mean(test_cores_df['size'])"
   ]
  },
  {
   "cell_type": "code",
   "execution_count": 304,
   "metadata": {
    "collapsed": false
   },
   "outputs": [
    {
     "name": "stdout",
     "output_type": "stream",
     "text": [
      "2.3952712487831964\n"
     ]
    }
   ],
   "source": [
    "z_score =(core_intersection.count() - np.mean(test_cores_df['size']))/np.std(test_cores_df['size'])\n",
    "print(z_score)"
   ]
  },
  {
   "cell_type": "code",
   "execution_count": 305,
   "metadata": {
    "collapsed": false
   },
   "outputs": [
    {
     "data": {
      "text/plain": [
       "0.0083040368879577896"
      ]
     },
     "execution_count": 305,
     "metadata": {},
     "output_type": "execute_result"
    }
   ],
   "source": [
    "p_values = st.norm.sf(abs(z_score))\n",
    "p_values"
   ]
  },
  {
   "cell_type": "code",
   "execution_count": 153,
   "metadata": {
    "collapsed": false
   },
   "outputs": [],
   "source": [
    "test_df = create_random_overlap_distribution_parallelized(encode_bed_cores, repeat_bed, assembly_path,\n",
    "                                                         1e-09, 1000, 'shuffle')"
   ]
  },
  {
   "cell_type": "code",
   "execution_count": 154,
   "metadata": {
    "collapsed": false
   },
   "outputs": [
    {
     "data": {
      "text/plain": [
       "<matplotlib.axes._subplots.AxesSubplot at 0x122f41cf8>"
      ]
     },
     "execution_count": 154,
     "metadata": {},
     "output_type": "execute_result"
    },
    {
     "data": {
      "image/png": "[encoded data removed]",
      "text/plain": [
       "<matplotlib.figure.Figure at 0x115644978>"
      ]
     },
     "metadata": {},
     "output_type": "display_data"
    }
   ],
   "source": [
    "import seaborn as sns\n",
    "%matplotlib inline\n",
    "import scipy.stats as st\n",
    "sns.distplot(test_df[['size']], kde=False, fit=st.norm, bins=20)"
   ]
  },
  {
   "cell_type": "code",
   "execution_count": 162,
   "metadata": {
    "collapsed": false
   },
   "outputs": [
    {
     "data": {
      "text/plain": [
       "911.917"
      ]
     },
     "execution_count": 162,
     "metadata": {},
     "output_type": "execute_result"
    }
   ],
   "source": [
    "np.mean(test_df['size'])"
   ]
  },
  {
   "cell_type": "code",
   "execution_count": 163,
   "metadata": {
    "collapsed": false
   },
   "outputs": [
    {
     "data": {
      "text/plain": [
       "30.180260287147945"
      ]
     },
     "execution_count": 163,
     "metadata": {},
     "output_type": "execute_result"
    }
   ],
   "source": [
    "np.std(test_df['size'])"
   ]
  },
  {
   "cell_type": "code",
   "execution_count": 295,
   "metadata": {
    "collapsed": false
   },
   "outputs": [
    {
     "name": "stdout",
     "output_type": "stream",
     "text": [
      "2.0902072878033935\n"
     ]
    }
   ],
   "source": [
    "z_score =(core_intersection.count() - np.mean(test_df['size']))/np.std(test_df['size'])\n",
    "print(z_score)"
   ]
  },
  {
   "cell_type": "code",
   "execution_count": 165,
   "metadata": {
    "collapsed": false
   },
   "outputs": [
    {
     "data": {
      "text/plain": [
       "1.959963984540054"
      ]
     },
     "execution_count": 165,
     "metadata": {},
     "output_type": "execute_result"
    }
   ],
   "source": [
    "st.norm.ppf(0.975)"
   ]
  },
  {
   "cell_type": "code",
   "execution_count": 166,
   "metadata": {
    "collapsed": false
   },
   "outputs": [
    {
     "data": {
      "text/plain": [
       "0.98170040841630768"
      ]
     },
     "execution_count": 166,
     "metadata": {},
     "output_type": "execute_result"
    }
   ],
   "source": [
    "import scipy.stats as st\n",
    "st.norm.ppf(.975)\n",
    "st.norm.cdf(z_score)"
   ]
  },
  {
   "cell_type": "code",
   "execution_count": 167,
   "metadata": {
    "collapsed": false
   },
   "outputs": [
    {
     "data": {
      "text/plain": [
       "1.8299591583692321"
      ]
     },
     "execution_count": 167,
     "metadata": {},
     "output_type": "execute_result"
    }
   ],
   "source": [
    "(1- st.norm.cdf(z_score))*100"
   ]
  },
  {
   "cell_type": "code",
   "execution_count": 168,
   "metadata": {
    "collapsed": false
   },
   "outputs": [
    {
     "data": {
      "text/plain": [
       "0.018299591583692331"
      ]
     },
     "execution_count": 168,
     "metadata": {},
     "output_type": "execute_result"
    }
   ],
   "source": [
    "p_values = st.norm.sf(abs(z_score))\n",
    "p_values"
   ]
  },
  {
   "cell_type": "code",
   "execution_count": 169,
   "metadata": {
    "collapsed": false
   },
   "outputs": [
    {
     "data": {
      "text/plain": [
       "Ttest_1sampResult(statistic=array([-66.06510077]), pvalue=array([ 0.]))"
      ]
     },
     "execution_count": 169,
     "metadata": {},
     "output_type": "execute_result"
    }
   ],
   "source": [
    "st.ttest_1samp(a= test_df[['size']], popmean=core_intersection.count())"
   ]
  },
  {
   "cell_type": "code",
   "execution_count": 170,
   "metadata": {
    "collapsed": false
   },
   "outputs": [
    {
     "data": {
      "text/plain": [
       "Ttest_1sampResult(statistic=size    0.0\n",
       "dtype: float64, pvalue=array([ 1.]))"
      ]
     },
     "execution_count": 170,
     "metadata": {},
     "output_type": "execute_result"
    }
   ],
   "source": [
    "st.ttest_1samp(a= test_df[['size']], popmean= np.mean(test_df[['size']]))"
   ]
  },
  {
   "cell_type": "code",
   "execution_count": 171,
   "metadata": {
    "collapsed": false
   },
   "outputs": [],
   "source": [
    "random_sizes = test_df[['size']]\n",
    "random_sizes.reset_index(inplace=True, drop=True)"
   ]
  },
  {
   "cell_type": "code",
   "execution_count": 172,
   "metadata": {
    "collapsed": false
   },
   "outputs": [
    {
     "name": "stdout",
     "output_type": "stream",
     "text": [
      "Test Statistic: [ 5015.70564103]\n",
      "p-value: [ 0.]\n"
     ]
    }
   ],
   "source": [
    "chi2, p = st.chisquare(random_sizes, core_intersection.count() )\n",
    "msg = \"Test Statistic: {}\\np-value: {}\"\n",
    "print( msg.format( chi2, p ) )"
   ]
  },
  {
   "cell_type": "code",
   "execution_count": 173,
   "metadata": {
    "collapsed": false
   },
   "outputs": [
    {
     "data": {
      "text/plain": [
       "<FisherOutput at 4791661456>\n",
       "# Number of query intervals: 33082\n",
       "# Number of db intervals: 593161\n",
       "# Number of overlaps: 975\n",
       "# Number of possible intervals (estimated): 21123880\n",
       "# phyper(975 - 1, 33082, 21123880 - 33082, 593161, lower.tail=F)\n",
       "# Contingency Table Of Counts\n",
       "#_________________________________________\n",
       "#           |  in -b       | not in -b    |\n",
       "#     in -a | 975          | 32107        |\n",
       "# not in -a | 592186       | 20498612     |\n",
       "#_________________________________________\n",
       "# p-values for fisher's exact test\n",
       "left\tright\ttwo-tail\tratio\n",
       "0.93864\t0.065441\t0.12548\t1.051"
      ]
     },
     "execution_count": 173,
     "metadata": {},
     "output_type": "execute_result"
    }
   ],
   "source": [
    "encode_bed_cores.sort().fisher(repeat_bed.sort(), f=1e-09, g=assembly_path)"
   ]
  },
  {
   "cell_type": "code",
   "execution_count": 174,
   "metadata": {
    "collapsed": false
   },
   "outputs": [
    {
     "data": {
      "text/plain": [
       "0.067519672328844149"
      ]
     },
     "execution_count": 174,
     "metadata": {},
     "output_type": "execute_result"
    }
   ],
   "source": [
    "1-st.hypergeom.cdf(975, 21123880 - 33082, 33082, 593161)"
   ]
  },
  {
   "cell_type": "code",
   "execution_count": 150,
   "metadata": {
    "collapsed": false
   },
   "outputs": [
    {
     "data": {
      "text/html": [
       "<div>\n",
       "<table border=\"1\" class=\"dataframe\">\n",
       "  <thead>\n",
       "    <tr style=\"text-align: right;\">\n",
       "      <th></th>\n",
       "      <th>0</th>\n",
       "      <th>1</th>\n",
       "      <th>2</th>\n",
       "      <th>3</th>\n",
       "      <th>4</th>\n",
       "      <th>5</th>\n",
       "      <th>6</th>\n",
       "      <th>7</th>\n",
       "      <th>8</th>\n",
       "      <th>9</th>\n",
       "      <th>...</th>\n",
       "      <th>41</th>\n",
       "      <th>42</th>\n",
       "      <th>43</th>\n",
       "      <th>44</th>\n",
       "      <th>45</th>\n",
       "      <th>46</th>\n",
       "      <th>47</th>\n",
       "      <th>48</th>\n",
       "      <th>49</th>\n",
       "      <th>50</th>\n",
       "    </tr>\n",
       "  </thead>\n",
       "  <tbody>\n",
       "    <tr>\n",
       "      <th>count</th>\n",
       "      <td>642.000</td>\n",
       "      <td>682.000</td>\n",
       "      <td>721.000</td>\n",
       "      <td>750.000</td>\n",
       "      <td>742.000</td>\n",
       "      <td>695.000</td>\n",
       "      <td>685.000</td>\n",
       "      <td>718.000</td>\n",
       "      <td>694.000</td>\n",
       "      <td>676.00</td>\n",
       "      <td>...</td>\n",
       "      <td>641.000</td>\n",
       "      <td>602.000</td>\n",
       "      <td>650.00</td>\n",
       "      <td>606.000</td>\n",
       "      <td>655.00</td>\n",
       "      <td>632.000</td>\n",
       "      <td>652.00</td>\n",
       "      <td>660.00</td>\n",
       "      <td>578.000</td>\n",
       "      <td>3.0</td>\n",
       "    </tr>\n",
       "    <tr>\n",
       "      <th>fraction</th>\n",
       "      <td>0.019</td>\n",
       "      <td>0.021</td>\n",
       "      <td>0.022</td>\n",
       "      <td>0.023</td>\n",
       "      <td>0.022</td>\n",
       "      <td>0.021</td>\n",
       "      <td>0.021</td>\n",
       "      <td>0.022</td>\n",
       "      <td>0.021</td>\n",
       "      <td>0.02</td>\n",
       "      <td>...</td>\n",
       "      <td>0.019</td>\n",
       "      <td>0.018</td>\n",
       "      <td>0.02</td>\n",
       "      <td>0.018</td>\n",
       "      <td>0.02</td>\n",
       "      <td>0.019</td>\n",
       "      <td>0.02</td>\n",
       "      <td>0.02</td>\n",
       "      <td>0.017</td>\n",
       "      <td>0.0</td>\n",
       "    </tr>\n",
       "    <tr>\n",
       "      <th>reldist</th>\n",
       "      <td>0.000</td>\n",
       "      <td>0.010</td>\n",
       "      <td>0.020</td>\n",
       "      <td>0.030</td>\n",
       "      <td>0.040</td>\n",
       "      <td>0.050</td>\n",
       "      <td>0.060</td>\n",
       "      <td>0.070</td>\n",
       "      <td>0.080</td>\n",
       "      <td>0.09</td>\n",
       "      <td>...</td>\n",
       "      <td>0.410</td>\n",
       "      <td>0.420</td>\n",
       "      <td>0.43</td>\n",
       "      <td>0.440</td>\n",
       "      <td>0.45</td>\n",
       "      <td>0.460</td>\n",
       "      <td>0.47</td>\n",
       "      <td>0.48</td>\n",
       "      <td>0.490</td>\n",
       "      <td>0.5</td>\n",
       "    </tr>\n",
       "    <tr>\n",
       "      <th>total</th>\n",
       "      <td>33069.000</td>\n",
       "      <td>33069.000</td>\n",
       "      <td>33069.000</td>\n",
       "      <td>33069.000</td>\n",
       "      <td>33069.000</td>\n",
       "      <td>33069.000</td>\n",
       "      <td>33069.000</td>\n",
       "      <td>33069.000</td>\n",
       "      <td>33069.000</td>\n",
       "      <td>33069.00</td>\n",
       "      <td>...</td>\n",
       "      <td>33069.000</td>\n",
       "      <td>33069.000</td>\n",
       "      <td>33069.00</td>\n",
       "      <td>33069.000</td>\n",
       "      <td>33069.00</td>\n",
       "      <td>33069.000</td>\n",
       "      <td>33069.00</td>\n",
       "      <td>33069.00</td>\n",
       "      <td>33069.000</td>\n",
       "      <td>33069.0</td>\n",
       "    </tr>\n",
       "  </tbody>\n",
       "</table>\n",
       "<p>4 rows × 51 columns</p>\n",
       "</div>"
      ],
      "text/plain": [
       "                 0          1          2          3          4          5   \\\n",
       "count       642.000    682.000    721.000    750.000    742.000    695.000   \n",
       "fraction      0.019      0.021      0.022      0.023      0.022      0.021   \n",
       "reldist       0.000      0.010      0.020      0.030      0.040      0.050   \n",
       "total     33069.000  33069.000  33069.000  33069.000  33069.000  33069.000   \n",
       "\n",
       "                 6          7          8         9    ...            41  \\\n",
       "count       685.000    718.000    694.000    676.00   ...       641.000   \n",
       "fraction      0.021      0.022      0.021      0.02   ...         0.019   \n",
       "reldist       0.060      0.070      0.080      0.09   ...         0.410   \n",
       "total     33069.000  33069.000  33069.000  33069.00   ...     33069.000   \n",
       "\n",
       "                 42        43         44        45         46        47  \\\n",
       "count       602.000    650.00    606.000    655.00    632.000    652.00   \n",
       "fraction      0.018      0.02      0.018      0.02      0.019      0.02   \n",
       "reldist       0.420      0.43      0.440      0.45      0.460      0.47   \n",
       "total     33069.000  33069.00  33069.000  33069.00  33069.000  33069.00   \n",
       "\n",
       "                48         49       50  \n",
       "count       660.00    578.000      3.0  \n",
       "fraction      0.02      0.017      0.0  \n",
       "reldist       0.48      0.490      0.5  \n",
       "total     33069.00  33069.000  33069.0  \n",
       "\n",
       "[4 rows x 51 columns]"
      ]
     },
     "execution_count": 150,
     "metadata": {},
     "output_type": "execute_result"
    }
   ],
   "source": [
    "df_reldist = pd.DataFrame(encode_bed_cores.sort().reldist(repeat_bed.sort()))\n",
    "df_reldist.T"
   ]
  },
  {
   "cell_type": "code",
   "execution_count": 326,
   "metadata": {
    "collapsed": false
   },
   "outputs": [],
   "source": [
    "df_reldist_random = pd.DataFrame(encode_bed_cores.sort().reldist(repeat_bed.shuffle(g=assembly_path, chrom=False).sort()))"
   ]
  },
  {
   "cell_type": "code",
   "execution_count": 327,
   "metadata": {
    "collapsed": false,
    "scrolled": false
   },
   "outputs": [
    {
     "data": {
      "image/png": "[encoded data removed]",
      "text/plain": [
       "<matplotlib.figure.Figure at 0x1203a7c88>"
      ]
     },
     "metadata": {},
     "output_type": "display_data"
    }
   ],
   "source": [
    "import numpy as np\n",
    "import seaborn as sns\n",
    "#import matplotlib.pyplot as plt\n",
    "%matplotlib inline\n",
    "\n",
    "#sns.set(style=\"white\", palette=\"muted\", color_codes=True)\n",
    "sns.set(style=\"ticks\", palette=\"muted\", color_codes=True)\n",
    "sns.set_context(\"poster\", font_scale=0.6, rc={\"lines.linewidth\": 0.8})\n",
    "\n",
    "g1 = sns.pointplot(x='reldist', y='fraction', data=df_reldist[0:50],  color='r')\n",
    "g2 = sns.pointplot(x='reldist', y='fraction', data=df_reldist_random[0:50], color='b')\n",
    "\n",
    "sns.despine(offset=10, trim=True)\n",
    "#plot.set_yscale(\"log\")\n",
    "#df_reldist[['reldist','fraction']].plot()\n",
    "for ind, label in enumerate(g1.get_xticklabels()):\n",
    "    if ind % 10 == 0:  # every 10th label is kept\n",
    "        label.set_visible(True)\n",
    "    else:\n",
    "        label.set_visible(False)"
   ]
  },
  {
   "cell_type": "markdown",
   "metadata": {},
   "source": [
    "## Enhancer-MIRs: MIRs in a +/- 4 kbp window around enhancer's core "
   ]
  },
  {
   "cell_type": "code",
   "execution_count": 328,
   "metadata": {
    "collapsed": false
   },
   "outputs": [],
   "source": [
    "encode_bed_df = encode_bed.to_dataframe()\n",
    "encode_bed_df['size'] = encode_bed_df.apply(lambda row: compute_size(row), axis=1)"
   ]
  },
  {
   "cell_type": "code",
   "execution_count": 329,
   "metadata": {
    "collapsed": false
   },
   "outputs": [
    {
     "data": {
      "text/plain": [
       "True"
      ]
     },
     "execution_count": 329,
     "metadata": {},
     "output_type": "execute_result"
    }
   ],
   "source": [
    "encode_bed_df['size'].quantile(0.5) == encode_bed_df['size'].median()"
   ]
  },
  {
   "cell_type": "code",
   "execution_count": 330,
   "metadata": {
    "collapsed": false
   },
   "outputs": [
    {
     "data": {
      "text/plain": [
       "1457.432952511683"
      ]
     },
     "execution_count": 330,
     "metadata": {},
     "output_type": "execute_result"
    }
   ],
   "source": [
    "encode_bed_df['size'].std()"
   ]
  },
  {
   "cell_type": "code",
   "execution_count": 331,
   "metadata": {
    "collapsed": false
   },
   "outputs": [
    {
     "name": "stderr",
     "output_type": "stream",
     "text": [
      "/Users/manuel/anaconda/lib/python3.5/site-packages/statsmodels/nonparametric/kdetools.py:20: VisibleDeprecationWarning: using a non-integer number instead of an integer will result in an error in the future\n",
      "  y = X[:m/2+1] + np.r_[0,X[m/2+1:],0]*1j\n"
     ]
    },
    {
     "data": {
      "text/plain": [
       "<matplotlib.axes._subplots.AxesSubplot at 0x11d259e80>"
      ]
     },
     "execution_count": 331,
     "metadata": {},
     "output_type": "execute_result"
    },
    {
     "data": {
      "image/png": "[encoded data removed]",
      "text/plain": [
       "<matplotlib.figure.Figure at 0x1205ade48>"
      ]
     },
     "metadata": {},
     "output_type": "display_data"
    }
   ],
   "source": [
    "import seaborn as sns\n",
    "%matplotlib inline\n",
    "import scipy.stats as st\n",
    "sns.distplot(encode_bed_df[['size']], kde=True)"
   ]
  },
  {
   "cell_type": "code",
   "execution_count": 332,
   "metadata": {
    "collapsed": false
   },
   "outputs": [
    {
     "data": {
      "text/plain": [
       "971.0"
      ]
     },
     "execution_count": 332,
     "metadata": {},
     "output_type": "execute_result"
    }
   ],
   "source": [
    "np.percentile(encode_bed_df[['size']], 50)"
   ]
  },
  {
   "cell_type": "code",
   "execution_count": 333,
   "metadata": {
    "collapsed": false
   },
   "outputs": [
    {
     "data": {
      "text/plain": [
       "array([ 0. ,  0.1,  0.2,  0.3,  0.4,  0.5,  0.6,  0.7,  0.8,  0.9])"
      ]
     },
     "execution_count": 333,
     "metadata": {},
     "output_type": "execute_result"
    }
   ],
   "source": [
    "np.arange(0, 1, 0.1)"
   ]
  },
  {
   "cell_type": "code",
   "execution_count": 334,
   "metadata": {
    "collapsed": false
   },
   "outputs": [
    {
     "data": {
      "text/html": [
       "<div>\n",
       "<table border=\"1\" class=\"dataframe\">\n",
       "  <thead>\n",
       "    <tr style=\"text-align: right;\">\n",
       "      <th></th>\n",
       "      <th>size</th>\n",
       "    </tr>\n",
       "  </thead>\n",
       "  <tbody>\n",
       "    <tr>\n",
       "      <th>0.0</th>\n",
       "      <td>170.0</td>\n",
       "    </tr>\n",
       "    <tr>\n",
       "      <th>0.1</th>\n",
       "      <td>251.0</td>\n",
       "    </tr>\n",
       "    <tr>\n",
       "      <th>0.2</th>\n",
       "      <td>337.0</td>\n",
       "    </tr>\n",
       "    <tr>\n",
       "      <th>0.3</th>\n",
       "      <td>459.0</td>\n",
       "    </tr>\n",
       "    <tr>\n",
       "      <th>0.4</th>\n",
       "      <td>675.0</td>\n",
       "    </tr>\n",
       "    <tr>\n",
       "      <th>0.5</th>\n",
       "      <td>971.0</td>\n",
       "    </tr>\n",
       "    <tr>\n",
       "      <th>0.6</th>\n",
       "      <td>1313.0</td>\n",
       "    </tr>\n",
       "    <tr>\n",
       "      <th>0.7</th>\n",
       "      <td>1721.0</td>\n",
       "    </tr>\n",
       "    <tr>\n",
       "      <th>0.8</th>\n",
       "      <td>2229.0</td>\n",
       "    </tr>\n",
       "    <tr>\n",
       "      <th>0.9</th>\n",
       "      <td>3123.0</td>\n",
       "    </tr>\n",
       "  </tbody>\n",
       "</table>\n",
       "</div>"
      ],
      "text/plain": [
       "       size\n",
       "0.0   170.0\n",
       "0.1   251.0\n",
       "0.2   337.0\n",
       "0.3   459.0\n",
       "0.4   675.0\n",
       "0.5   971.0\n",
       "0.6  1313.0\n",
       "0.7  1721.0\n",
       "0.8  2229.0\n",
       "0.9  3123.0"
      ]
     },
     "execution_count": 334,
     "metadata": {},
     "output_type": "execute_result"
    }
   ],
   "source": [
    "encode_bed_df[['size']].quantile(np.arange(0,1,0.1))"
   ]
  },
  {
   "cell_type": "code",
   "execution_count": 335,
   "metadata": {
    "collapsed": false
   },
   "outputs": [],
   "source": [
    "# what if using percentiles in considering enhancer regions? Eg: b=170/2, 251/2, ..., 3123/2\n",
    "#encode_bed_slop = encode_bed_cores.slop(genome='hg19', b=int(round(3123/2)))"
   ]
  },
  {
   "cell_type": "code",
   "execution_count": 336,
   "metadata": {
    "collapsed": true
   },
   "outputs": [],
   "source": [
    "#compute \"enhancers regions\" as +/- 4kb from enhancer cores\n",
    "encode_bed_slop = encode_bed_cores.slop(g=assembly_path, b=4000)"
   ]
  },
  {
   "cell_type": "code",
   "execution_count": 337,
   "metadata": {
    "collapsed": false
   },
   "outputs": [
    {
     "name": "stdout",
     "output_type": "stream",
     "text": [
      "chr1\t118595\t118595\tDistal-Prediction-10810\t1\t.\n",
      " chr1\t138794\t138794\tProximal-Prediction-8451\t1\t.\n",
      " chr1\t229554\t229554\tProximal-Prediction-13463\t1\t.\n",
      " chr1\t235802\t235802\tProximal-Prediction-6494\t1\t.\n",
      " chr1\t713934\t713934\tProximal-Prediction-2259\t1\t.\n",
      " chr1\t761154\t761154\tProximal-Prediction-9261\t1\t.\n",
      " chr1\t762601\t762601\tProximal-Prediction-1564\t1\t.\n",
      " chr1\t765589\t765589\tProximal-Prediction-15111\t1\t.\n",
      " chr1\t840032\t840032\tProximal-Prediction-13579\t1\t.\n",
      " chr1\t894288\t894288\tProximal-Prediction-8969\t1\t.\n",
      " "
     ]
    }
   ],
   "source": [
    "encode_bed_cores.sort().head()"
   ]
  },
  {
   "cell_type": "code",
   "execution_count": 338,
   "metadata": {
    "collapsed": false
   },
   "outputs": [
    {
     "name": "stdout",
     "output_type": "stream",
     "text": [
      "chr1\t114595\t122595\tDistal-Prediction-10810\t1\t.\n",
      " chr1\t134794\t142794\tProximal-Prediction-8451\t1\t.\n",
      " chr1\t225554\t233554\tProximal-Prediction-13463\t1\t.\n",
      " chr1\t231802\t239802\tProximal-Prediction-6494\t1\t.\n",
      " chr1\t709934\t717934\tProximal-Prediction-2259\t1\t.\n",
      " chr1\t757154\t765154\tProximal-Prediction-9261\t1\t.\n",
      " chr1\t758601\t766601\tProximal-Prediction-1564\t1\t.\n",
      " chr1\t761589\t769589\tProximal-Prediction-15111\t1\t.\n",
      " chr1\t836032\t844032\tProximal-Prediction-13579\t1\t.\n",
      " chr1\t890288\t898288\tProximal-Prediction-8969\t1\t.\n",
      " "
     ]
    }
   ],
   "source": [
    "encode_bed_slop.sort().head()"
   ]
  },
  {
   "cell_type": "code",
   "execution_count": 339,
   "metadata": {
    "collapsed": false
   },
   "outputs": [
    {
     "data": {
      "text/plain": [
       "33082"
      ]
     },
     "execution_count": 339,
     "metadata": {},
     "output_type": "execute_result"
    }
   ],
   "source": [
    "encode_bed_slop.count()"
   ]
  },
  {
   "cell_type": "code",
   "execution_count": 340,
   "metadata": {
    "collapsed": true
   },
   "outputs": [],
   "source": [
    "#enhancer-MIRs: MIR in +/- 4kb from the core of an enhancer \n",
    "#(asking the full MIR to be overlapped by an enhancer region)\n",
    "region_intersection = repeat_bed.intersect(encode_bed_slop, f=1)"
   ]
  },
  {
   "cell_type": "code",
   "execution_count": 341,
   "metadata": {
    "collapsed": false
   },
   "outputs": [
    {
     "data": {
      "text/plain": [
       "66741"
      ]
     },
     "execution_count": 341,
     "metadata": {},
     "output_type": "execute_result"
    }
   ],
   "source": [
    "region_intersection.count()"
   ]
  },
  {
   "cell_type": "code",
   "execution_count": 342,
   "metadata": {
    "collapsed": false
   },
   "outputs": [],
   "source": [
    "# null model enhancers-MIRs\n",
    "shuffled_repeat = repeat_bed.shuffle(g=assembly_path)"
   ]
  },
  {
   "cell_type": "code",
   "execution_count": 343,
   "metadata": {
    "collapsed": false
   },
   "outputs": [
    {
     "data": {
      "text/plain": [
       "True"
      ]
     },
     "execution_count": 343,
     "metadata": {},
     "output_type": "execute_result"
    }
   ],
   "source": [
    "shuffled_repeat.count() == repeat_bed.count()"
   ]
  },
  {
   "cell_type": "code",
   "execution_count": 344,
   "metadata": {
    "collapsed": true
   },
   "outputs": [],
   "source": [
    "null_model_intersection = shuffled_repeat.intersect(encode_bed_slop, f=1)"
   ]
  },
  {
   "cell_type": "code",
   "execution_count": 345,
   "metadata": {
    "collapsed": false
   },
   "outputs": [
    {
     "data": {
      "text/plain": [
       "49997"
      ]
     },
     "execution_count": 345,
     "metadata": {},
     "output_type": "execute_result"
    }
   ],
   "source": [
    "null_model_intersection.count()"
   ]
  },
  {
   "cell_type": "code",
   "execution_count": 346,
   "metadata": {
    "collapsed": true
   },
   "outputs": [],
   "source": [
    "test_df2 = create_random_overlap_distribution_parallelized(repeat_bed, encode_bed_slop, assembly_path,\n",
    "                                                         1, 100)\n"
   ]
  },
  {
   "cell_type": "code",
   "execution_count": 347,
   "metadata": {
    "collapsed": false
   },
   "outputs": [
    {
     "data": {
      "text/plain": [
       "<matplotlib.axes._subplots.AxesSubplot at 0x12422b780>"
      ]
     },
     "execution_count": 347,
     "metadata": {},
     "output_type": "execute_result"
    },
    {
     "data": {
      "image/png": "[encoded data removed]",
      "text/plain": [
       "<matplotlib.figure.Figure at 0x12030c160>"
      ]
     },
     "metadata": {},
     "output_type": "display_data"
    }
   ],
   "source": [
    "import seaborn as sns\n",
    "%matplotlib inline\n",
    "import scipy.stats as st\n",
    "sns.distplot(test_df2[['size']], kde=False, fit=st.norm, bins=10)"
   ]
  },
  {
   "cell_type": "code",
   "execution_count": 348,
   "metadata": {
    "collapsed": false
   },
   "outputs": [
    {
     "name": "stdout",
     "output_type": "stream",
     "text": [
      "53.90746785998093\n"
     ]
    }
   ],
   "source": [
    "z_score =(region_intersection.count() - np.mean(test_df2['size']))/np.std(test_df2['size'])\n",
    "print(z_score)"
   ]
  },
  {
   "cell_type": "code",
   "execution_count": 349,
   "metadata": {
    "collapsed": false
   },
   "outputs": [
    {
     "data": {
      "text/plain": [
       "1.0"
      ]
     },
     "execution_count": 349,
     "metadata": {},
     "output_type": "execute_result"
    }
   ],
   "source": [
    "import scipy.stats as st\n",
    "st.norm.ppf(.95)\n",
    "st.norm.cdf(z_score)"
   ]
  },
  {
   "cell_type": "code",
   "execution_count": 350,
   "metadata": {
    "collapsed": false
   },
   "outputs": [
    {
     "data": {
      "text/plain": [
       "0.0"
      ]
     },
     "execution_count": 350,
     "metadata": {},
     "output_type": "execute_result"
    }
   ],
   "source": [
    "p_values = st.norm.sf(abs(z_score))\n",
    "p_values"
   ]
  },
  {
   "cell_type": "code",
   "execution_count": 351,
   "metadata": {
    "collapsed": false
   },
   "outputs": [
    {
     "data": {
      "text/plain": [
       "Ttest_1sampResult(statistic=array([-536.37253287]), pvalue=array([  2.90040295e-173]))"
      ]
     },
     "execution_count": 351,
     "metadata": {},
     "output_type": "execute_result"
    }
   ],
   "source": [
    "st.ttest_1samp(a= test_df2[['size']], popmean= region_intersection.count())"
   ]
  },
  {
   "cell_type": "code",
   "execution_count": 352,
   "metadata": {
    "collapsed": false
   },
   "outputs": [
    {
     "name": "stdout",
     "output_type": "stream",
     "text": [
      "Test Statistic: [ 426664.7422424]\n",
      "p-value: [ 0.]\n"
     ]
    }
   ],
   "source": [
    "chi2, p = st.chisquare( test_df2[['size']],region_intersection.count() )\n",
    "msg = \"Test Statistic: {}\\np-value: {}\"\n",
    "print( msg.format( chi2, p ) )"
   ]
  },
  {
   "cell_type": "code",
   "execution_count": 354,
   "metadata": {
    "collapsed": false
   },
   "outputs": [
    {
     "data": {
      "text/plain": [
       "<FisherOutput at 4756713368>\n",
       "# Number of query intervals: 594372\n",
       "# Number of db intervals: 33082\n",
       "# Number of overlaps: 66741\n",
       "# Number of possible intervals (estimated): 594372\n",
       "# phyper(66741 - 1, 594372, 594372 - 594372, 33082, lower.tail=F)\n",
       "# Contingency Table Of Counts\n",
       "#_________________________________________\n",
       "#           |  in -b       | not in -b    |\n",
       "#     in -a | 66741        | 527631       |\n",
       "# not in -a | 0            | 0            |\n",
       "#_________________________________________\n",
       "# p-values for fisher's exact test\n",
       "left\tright\ttwo-tail\tratio\n",
       "1\t1\t1\tnan"
      ]
     },
     "execution_count": 354,
     "metadata": {},
     "output_type": "execute_result"
    }
   ],
   "source": [
    "repeat_bed.sort().fisher(encode_bed_slop.sort(), f=1, g=assembly_path)"
   ]
  },
  {
   "cell_type": "code",
   "execution_count": 355,
   "metadata": {
    "collapsed": false
   },
   "outputs": [
    {
     "data": {
      "text/plain": [
       "0.0"
      ]
     },
     "execution_count": 355,
     "metadata": {},
     "output_type": "execute_result"
    }
   ],
   "source": [
    "#pvalue <- 1-phyper(45, 92, 7518, 1329)\n",
    "#pvalue = 1-stats.hypergeom.cdf(45, 7518, 92. 1329)\n",
    "1-st.hypergeom.cdf(66741, 0, 594732, 33082)"
   ]
  },
  {
   "cell_type": "code",
   "execution_count": 356,
   "metadata": {
    "collapsed": false
   },
   "outputs": [
    {
     "data": {
      "text/html": [
       "<div>\n",
       "<table border=\"1\" class=\"dataframe\">\n",
       "  <thead>\n",
       "    <tr style=\"text-align: right;\">\n",
       "      <th></th>\n",
       "      <th>0</th>\n",
       "      <th>1</th>\n",
       "      <th>2</th>\n",
       "      <th>3</th>\n",
       "      <th>4</th>\n",
       "      <th>5</th>\n",
       "      <th>6</th>\n",
       "      <th>7</th>\n",
       "      <th>8</th>\n",
       "      <th>9</th>\n",
       "      <th>...</th>\n",
       "      <th>41</th>\n",
       "      <th>42</th>\n",
       "      <th>43</th>\n",
       "      <th>44</th>\n",
       "      <th>45</th>\n",
       "      <th>46</th>\n",
       "      <th>47</th>\n",
       "      <th>48</th>\n",
       "      <th>49</th>\n",
       "      <th>50</th>\n",
       "    </tr>\n",
       "  </thead>\n",
       "  <tbody>\n",
       "    <tr>\n",
       "      <th>count</th>\n",
       "      <td>642.000</td>\n",
       "      <td>682.000</td>\n",
       "      <td>721.000</td>\n",
       "      <td>750.000</td>\n",
       "      <td>742.000</td>\n",
       "      <td>695.000</td>\n",
       "      <td>685.000</td>\n",
       "      <td>718.000</td>\n",
       "      <td>694.000</td>\n",
       "      <td>676.00</td>\n",
       "      <td>...</td>\n",
       "      <td>641.000</td>\n",
       "      <td>602.000</td>\n",
       "      <td>650.00</td>\n",
       "      <td>606.000</td>\n",
       "      <td>655.00</td>\n",
       "      <td>632.000</td>\n",
       "      <td>652.00</td>\n",
       "      <td>660.00</td>\n",
       "      <td>578.000</td>\n",
       "      <td>3.0</td>\n",
       "    </tr>\n",
       "    <tr>\n",
       "      <th>fraction</th>\n",
       "      <td>0.019</td>\n",
       "      <td>0.021</td>\n",
       "      <td>0.022</td>\n",
       "      <td>0.023</td>\n",
       "      <td>0.022</td>\n",
       "      <td>0.021</td>\n",
       "      <td>0.021</td>\n",
       "      <td>0.022</td>\n",
       "      <td>0.021</td>\n",
       "      <td>0.02</td>\n",
       "      <td>...</td>\n",
       "      <td>0.019</td>\n",
       "      <td>0.018</td>\n",
       "      <td>0.02</td>\n",
       "      <td>0.018</td>\n",
       "      <td>0.02</td>\n",
       "      <td>0.019</td>\n",
       "      <td>0.02</td>\n",
       "      <td>0.02</td>\n",
       "      <td>0.017</td>\n",
       "      <td>0.0</td>\n",
       "    </tr>\n",
       "    <tr>\n",
       "      <th>reldist</th>\n",
       "      <td>0.000</td>\n",
       "      <td>0.010</td>\n",
       "      <td>0.020</td>\n",
       "      <td>0.030</td>\n",
       "      <td>0.040</td>\n",
       "      <td>0.050</td>\n",
       "      <td>0.060</td>\n",
       "      <td>0.070</td>\n",
       "      <td>0.080</td>\n",
       "      <td>0.09</td>\n",
       "      <td>...</td>\n",
       "      <td>0.410</td>\n",
       "      <td>0.420</td>\n",
       "      <td>0.43</td>\n",
       "      <td>0.440</td>\n",
       "      <td>0.45</td>\n",
       "      <td>0.460</td>\n",
       "      <td>0.47</td>\n",
       "      <td>0.48</td>\n",
       "      <td>0.490</td>\n",
       "      <td>0.5</td>\n",
       "    </tr>\n",
       "    <tr>\n",
       "      <th>total</th>\n",
       "      <td>33069.000</td>\n",
       "      <td>33069.000</td>\n",
       "      <td>33069.000</td>\n",
       "      <td>33069.000</td>\n",
       "      <td>33069.000</td>\n",
       "      <td>33069.000</td>\n",
       "      <td>33069.000</td>\n",
       "      <td>33069.000</td>\n",
       "      <td>33069.000</td>\n",
       "      <td>33069.00</td>\n",
       "      <td>...</td>\n",
       "      <td>33069.000</td>\n",
       "      <td>33069.000</td>\n",
       "      <td>33069.00</td>\n",
       "      <td>33069.000</td>\n",
       "      <td>33069.00</td>\n",
       "      <td>33069.000</td>\n",
       "      <td>33069.00</td>\n",
       "      <td>33069.00</td>\n",
       "      <td>33069.000</td>\n",
       "      <td>33069.0</td>\n",
       "    </tr>\n",
       "  </tbody>\n",
       "</table>\n",
       "<p>4 rows × 51 columns</p>\n",
       "</div>"
      ],
      "text/plain": [
       "                 0          1          2          3          4          5   \\\n",
       "count       642.000    682.000    721.000    750.000    742.000    695.000   \n",
       "fraction      0.019      0.021      0.022      0.023      0.022      0.021   \n",
       "reldist       0.000      0.010      0.020      0.030      0.040      0.050   \n",
       "total     33069.000  33069.000  33069.000  33069.000  33069.000  33069.000   \n",
       "\n",
       "                 6          7          8         9    ...            41  \\\n",
       "count       685.000    718.000    694.000    676.00   ...       641.000   \n",
       "fraction      0.021      0.022      0.021      0.02   ...         0.019   \n",
       "reldist       0.060      0.070      0.080      0.09   ...         0.410   \n",
       "total     33069.000  33069.000  33069.000  33069.00   ...     33069.000   \n",
       "\n",
       "                 42        43         44        45         46        47  \\\n",
       "count       602.000    650.00    606.000    655.00    632.000    652.00   \n",
       "fraction      0.018      0.02      0.018      0.02      0.019      0.02   \n",
       "reldist       0.420      0.43      0.440      0.45      0.460      0.47   \n",
       "total     33069.000  33069.00  33069.000  33069.00  33069.000  33069.00   \n",
       "\n",
       "                48         49       50  \n",
       "count       660.00    578.000      3.0  \n",
       "fraction      0.02      0.017      0.0  \n",
       "reldist       0.48      0.490      0.5  \n",
       "total     33069.00  33069.000  33069.0  \n",
       "\n",
       "[4 rows x 51 columns]"
      ]
     },
     "execution_count": 356,
     "metadata": {},
     "output_type": "execute_result"
    }
   ],
   "source": [
    "df_reldist = pd.DataFrame(encode_bed_slop.sort().reldist(repeat_bed.sort()))\n",
    "df_reldist.T"
   ]
  },
  {
   "cell_type": "code",
   "execution_count": 357,
   "metadata": {
    "collapsed": true
   },
   "outputs": [],
   "source": [
    "df_reldist_random = pd.DataFrame(encode_bed_slop.sort().reldist(repeat_bed.sort().shuffle(g=assembly_path, chrom=False).sort()))"
   ]
  },
  {
   "cell_type": "code",
   "execution_count": 358,
   "metadata": {
    "collapsed": false,
    "scrolled": false
   },
   "outputs": [
    {
     "data": {
      "image/png": "[encoded data removed]",
      "text/plain": [
       "<matplotlib.figure.Figure at 0x11d28df60>"
      ]
     },
     "metadata": {},
     "output_type": "display_data"
    }
   ],
   "source": [
    "import numpy as np\n",
    "import seaborn as sns\n",
    "#import matplotlib.pyplot as plt\n",
    "%matplotlib inline\n",
    "\n",
    "#sns.set(style=\"white\", palette=\"muted\", color_codes=True)\n",
    "sns.set(style=\"ticks\", palette=\"muted\", color_codes=True)\n",
    "sns.set_context(\"poster\", font_scale=0.6, rc={\"lines.linewidth\": 0.8})\n",
    "\n",
    "g1 = sns.pointplot(x='reldist', y='fraction', data=df_reldist[0:50],  color='r')\n",
    "g2 = sns.pointplot(x='reldist', y='fraction', data=df_reldist_random[0:50], color='b')\n",
    "\n",
    "sns.despine(offset=10, trim=True)\n",
    "#plot.set_yscale(\"log\")\n",
    "#df_reldist[['reldist','fraction']].plot()\n",
    "for ind, label in enumerate(g1.get_xticklabels()):\n",
    "    if ind % 10 == 0:  # every 10th label is kept\n",
    "        label.set_visible(True)\n",
    "    else:\n",
    "        label.set_visible(False)"
   ]
  },
  {
   "cell_type": "markdown",
   "metadata": {},
   "source": [
    "## Densities"
   ]
  },
  {
   "cell_type": "code",
   "execution_count": 483,
   "metadata": {
    "collapsed": false
   },
   "outputs": [],
   "source": [
    "# density\n",
    "# assuming expected number of MIR-enhancers as\n",
    "# average genome-wide density of enhancers (enhancers/bp) * total bp length of all MIRs\n",
    "\n",
    "def compute_expected_number(name1_bed_df, name2_bed_df, name1, name2):\n",
    "    genome_size = 3095677412\n",
    "    #enhancers_bed_df['size'] = enhancers_bed_df['end'] - enhancers_bed_df['start']\n",
    "    name1_density = len(name1_bed_df) /  genome_size\n",
    "    name2_bed_df['size'] = name2_bed_df['end'] - name2_bed_df['start']\n",
    "    name2_len = name2_bed_df['size'].sum()\n",
    "    print(name1, 'density =', name1_density, '(num of intervals)/(genome bp)')\n",
    "    print(name2,'length =', name2_len, 'bp')\n",
    "    print('Expected number of', name2, name1, '=', int(round(name1_density * name2_len)))"
   ]
  },
  {
   "cell_type": "code",
   "execution_count": 403,
   "metadata": {
    "collapsed": false
   },
   "outputs": [
    {
     "name": "stdout",
     "output_type": "stream",
     "text": [
      "K562 enhancers density = 1.068651399908848e-05 (num of intervals)/(genome bp)\n",
      "Sine/MIR length = 84720992 bp\n",
      "Expected number of Sine/MIR K562 enhancers = 905\n"
     ]
    }
   ],
   "source": [
    "compute_expected_number(encode_bed_df, repeat_bed_df, 'K562 enhancers', 'Sine/MIR')"
   ]
  },
  {
   "cell_type": "code",
   "execution_count": 404,
   "metadata": {
    "collapsed": true
   },
   "outputs": [],
   "source": [
    "def infer_TSS_proximity(row):\n",
    "    description = row['name']\n",
    "    if 'Distal' in description:\n",
    "        return 'Distal'\n",
    "    if 'Proximal' in description:\n",
    "        return 'Proximal'"
   ]
  },
  {
   "cell_type": "code",
   "execution_count": 405,
   "metadata": {
    "collapsed": false
   },
   "outputs": [],
   "source": [
    "encode_bed_df['TSS_proximity'] = encode_bed_df.apply(lambda r: infer_TSS_proximity(r), axis=1)"
   ]
  },
  {
   "cell_type": "code",
   "execution_count": 406,
   "metadata": {
    "collapsed": false
   },
   "outputs": [],
   "source": [
    "proximal_df = encode_bed_df.query(\"TSS_proximity == 'Proximal'\")\n",
    "distal_df = encode_bed_df.query(\"TSS_proximity == 'Distal'\")"
   ]
  },
  {
   "cell_type": "code",
   "execution_count": 407,
   "metadata": {
    "collapsed": false
   },
   "outputs": [
    {
     "data": {
      "text/plain": [
       "17249"
      ]
     },
     "execution_count": 407,
     "metadata": {},
     "output_type": "execute_result"
    }
   ],
   "source": [
    "len(distal_df)"
   ]
  },
  {
   "cell_type": "code",
   "execution_count": 408,
   "metadata": {
    "collapsed": false
   },
   "outputs": [
    {
     "data": {
      "text/plain": [
       "15833"
      ]
     },
     "execution_count": 408,
     "metadata": {},
     "output_type": "execute_result"
    }
   ],
   "source": [
    "len(proximal_df)"
   ]
  },
  {
   "cell_type": "code",
   "execution_count": 409,
   "metadata": {
    "collapsed": false
   },
   "outputs": [
    {
     "name": "stdout",
     "output_type": "stream",
     "text": [
      "Distal enhancers density = 5.571963000129291e-06 (num of intervals)/(genome bp)\n",
      "Sine/MIR length = 84720992 bp\n",
      "Expected number of Sine/MIR Distal enhancers = 472\n"
     ]
    }
   ],
   "source": [
    "compute_expected_number(distal_df, repeat_bed_df, \"Distal enhancers\", \"Sine/MIR\")"
   ]
  },
  {
   "cell_type": "code",
   "execution_count": 410,
   "metadata": {
    "collapsed": false
   },
   "outputs": [
    {
     "name": "stdout",
     "output_type": "stream",
     "text": [
      "Proximal enhancers density = 5.11455099895919e-06 (num of intervals)/(genome bp)\n",
      "Sine/MIR length = 84720992 bp\n",
      "Expected number of Sine/MIR Proximal enhancers = 433\n"
     ]
    }
   ],
   "source": [
    "compute_expected_number(proximal_df, repeat_bed_df, \"Proximal enhancers\", \"Sine/MIR\")"
   ]
  },
  {
   "cell_type": "code",
   "execution_count": 411,
   "metadata": {
    "collapsed": true
   },
   "outputs": [],
   "source": [
    "genes_bed = BedTool(\"../download/genome/knownGene_hg19.bed\")"
   ]
  },
  {
   "cell_type": "code",
   "execution_count": 412,
   "metadata": {
    "collapsed": false
   },
   "outputs": [
    {
     "data": {
      "text/plain": [
       "82960"
      ]
     },
     "execution_count": 412,
     "metadata": {},
     "output_type": "execute_result"
    }
   ],
   "source": [
    "genes_bed.count()"
   ]
  },
  {
   "cell_type": "code",
   "execution_count": 413,
   "metadata": {
    "collapsed": false
   },
   "outputs": [],
   "source": [
    "genes_bed_df = genes_bed.to_dataframe()"
   ]
  },
  {
   "cell_type": "code",
   "execution_count": 414,
   "metadata": {
    "collapsed": true
   },
   "outputs": [],
   "source": [
    "chrom_list = ['chr1', 'chr2', 'chr3', 'chr4', 'chr5', 'chr6', 'chr7', 'chrX',\n",
    "              'chr8', 'chr9', 'chr10', 'chr11', 'chr12', 'chr13', 'chr14',\n",
    "              'chr15', 'chr16', 'chr17', 'chr18', 'chr20', 'chrY', 'chr19',\n",
    "              'chr22', 'chr21']\n",
    "\n",
    "genes_bed_df = genes_bed_df.query(\"chrom in @chrom_list\")"
   ]
  },
  {
   "cell_type": "code",
   "execution_count": 415,
   "metadata": {
    "collapsed": false
   },
   "outputs": [
    {
     "data": {
      "text/plain": [
       "array(['chr1', 'chr2', 'chr3', 'chr4', 'chr5', 'chr6', 'chr7', 'chr8',\n",
       "       'chr9', 'chrX', 'chrY', 'chr10', 'chr11', 'chr12', 'chr13', 'chr14',\n",
       "       'chr15', 'chr16', 'chr17', 'chr18', 'chr19', 'chr20', 'chr21',\n",
       "       'chr22'], dtype=object)"
      ]
     },
     "execution_count": 415,
     "metadata": {},
     "output_type": "execute_result"
    }
   ],
   "source": [
    "genes_bed_df['chrom'].unique()"
   ]
  },
  {
   "cell_type": "code",
   "execution_count": 416,
   "metadata": {
    "collapsed": true
   },
   "outputs": [],
   "source": [
    "genes_bed = BedTool().from_dataframe(genes_bed_df)"
   ]
  },
  {
   "cell_type": "code",
   "execution_count": 417,
   "metadata": {
    "collapsed": false
   },
   "outputs": [
    {
     "data": {
      "text/plain": [
       "78807"
      ]
     },
     "execution_count": 417,
     "metadata": {},
     "output_type": "execute_result"
    }
   ],
   "source": [
    "genes_bed.count()"
   ]
  },
  {
   "cell_type": "code",
   "execution_count": 418,
   "metadata": {
    "collapsed": false
   },
   "outputs": [
    {
     "name": "stdout",
     "output_type": "stream",
     "text": [
      "Genes density = 2.5457109870206334e-05 (num of intervals)/(genome bp)\n",
      "Sine/MIR length = 84720992 bp\n",
      "Expected number of Sine/MIR Genes = 2157\n"
     ]
    }
   ],
   "source": [
    "compute_expected_number(genes_bed_df, repeat_bed_df, 'Genes', 'Sine/MIR')"
   ]
  },
  {
   "cell_type": "code",
   "execution_count": 439,
   "metadata": {
    "collapsed": true
   },
   "outputs": [],
   "source": [
    "# genic enhancers: enhancers in genic regions\n",
    "genic_enhancers_bed = encode_bed.intersect(genes_bed, f=1, u=True)"
   ]
  },
  {
   "cell_type": "code",
   "execution_count": 440,
   "metadata": {
    "collapsed": false
   },
   "outputs": [
    {
     "data": {
      "text/plain": [
       "15722"
      ]
     },
     "execution_count": 440,
     "metadata": {},
     "output_type": "execute_result"
    }
   ],
   "source": [
    "genic_enhancers_bed.count()"
   ]
  },
  {
   "cell_type": "code",
   "execution_count": 442,
   "metadata": {
    "collapsed": true
   },
   "outputs": [],
   "source": [
    "# genic non-enhancers: genic regions without enhancers\n",
    "genic_non_enhancers_bed = genes_bed.subtract(genic_enhancers_bed, A=True)"
   ]
  },
  {
   "cell_type": "code",
   "execution_count": 444,
   "metadata": {
    "collapsed": false
   },
   "outputs": [
    {
     "data": {
      "text/plain": [
       "0"
      ]
     },
     "execution_count": 444,
     "metadata": {},
     "output_type": "execute_result"
    }
   ],
   "source": [
    "genic_non_enhancers_bed.intersect(genic_enhancers_bed).count()"
   ]
  },
  {
   "cell_type": "code",
   "execution_count": 445,
   "metadata": {
    "collapsed": true
   },
   "outputs": [],
   "source": [
    "# non-genic enhancers: enhancers outside genic regions\n",
    "non_genic_enhancers_bed = encode_bed.subtract(genes_bed, f=1, A=True)"
   ]
  },
  {
   "cell_type": "code",
   "execution_count": 450,
   "metadata": {
    "collapsed": false
   },
   "outputs": [
    {
     "data": {
      "text/plain": [
       "17360"
      ]
     },
     "execution_count": 450,
     "metadata": {},
     "output_type": "execute_result"
    }
   ],
   "source": [
    "non_genic_enhancers_bed.count()"
   ]
  },
  {
   "cell_type": "code",
   "execution_count": 451,
   "metadata": {
    "collapsed": false
   },
   "outputs": [
    {
     "data": {
      "text/plain": [
       "True"
      ]
     },
     "execution_count": 451,
     "metadata": {},
     "output_type": "execute_result"
    }
   ],
   "source": [
    "non_genic_enhancers_bed.count() + genic_enhancers_bed.count() == encode_bed.count()"
   ]
  },
  {
   "cell_type": "code",
   "execution_count": 452,
   "metadata": {
    "collapsed": true
   },
   "outputs": [],
   "source": [
    "# 200 bp regions around core of enhancers\n",
    "enhancers_regions_bed = encode_bed_cores.slop(g=assembly_path, b=200)"
   ]
  },
  {
   "cell_type": "code",
   "execution_count": 453,
   "metadata": {
    "collapsed": false
   },
   "outputs": [
    {
     "data": {
      "text/plain": [
       "33082"
      ]
     },
     "execution_count": 453,
     "metadata": {},
     "output_type": "execute_result"
    }
   ],
   "source": [
    "enhancers_regions_bed.count()"
   ]
  },
  {
   "cell_type": "code",
   "execution_count": 422,
   "metadata": {
    "collapsed": false
   },
   "outputs": [],
   "source": [
    "genes_bed_df['size'] = genes_bed_df.apply(lambda row: compute_size(row), axis=1)"
   ]
  },
  {
   "cell_type": "code",
   "execution_count": 460,
   "metadata": {
    "collapsed": false
   },
   "outputs": [
    {
     "data": {
      "text/html": [
       "<div>\n",
       "<table border=\"1\" class=\"dataframe\">\n",
       "  <thead>\n",
       "    <tr style=\"text-align: right;\">\n",
       "      <th></th>\n",
       "      <th>size</th>\n",
       "    </tr>\n",
       "  </thead>\n",
       "  <tbody>\n",
       "    <tr>\n",
       "      <th>0.0</th>\n",
       "      <td>19.0</td>\n",
       "    </tr>\n",
       "    <tr>\n",
       "      <th>0.1</th>\n",
       "      <td>993.6</td>\n",
       "    </tr>\n",
       "    <tr>\n",
       "      <th>0.2</th>\n",
       "      <td>4083.0</td>\n",
       "    </tr>\n",
       "    <tr>\n",
       "      <th>0.3</th>\n",
       "      <td>8054.0</td>\n",
       "    </tr>\n",
       "    <tr>\n",
       "      <th>0.4</th>\n",
       "      <td>13047.0</td>\n",
       "    </tr>\n",
       "    <tr>\n",
       "      <th>0.5</th>\n",
       "      <td>20134.0</td>\n",
       "    </tr>\n",
       "    <tr>\n",
       "      <th>0.6</th>\n",
       "      <td>30029.2</td>\n",
       "    </tr>\n",
       "    <tr>\n",
       "      <th>0.7</th>\n",
       "      <td>44468.0</td>\n",
       "    </tr>\n",
       "    <tr>\n",
       "      <th>0.8</th>\n",
       "      <td>71447.4</td>\n",
       "    </tr>\n",
       "    <tr>\n",
       "      <th>0.9</th>\n",
       "      <td>133227.0</td>\n",
       "    </tr>\n",
       "  </tbody>\n",
       "</table>\n",
       "</div>"
      ],
      "text/plain": [
       "         size\n",
       "0.0      19.0\n",
       "0.1     993.6\n",
       "0.2    4083.0\n",
       "0.3    8054.0\n",
       "0.4   13047.0\n",
       "0.5   20134.0\n",
       "0.6   30029.2\n",
       "0.7   44468.0\n",
       "0.8   71447.4\n",
       "0.9  133227.0"
      ]
     },
     "execution_count": 460,
     "metadata": {},
     "output_type": "execute_result"
    }
   ],
   "source": [
    "genes_bed_df[['size']].quantile(np.arange(0,1,0.1))"
   ]
  },
  {
   "cell_type": "code",
   "execution_count": 502,
   "metadata": {
    "collapsed": false
   },
   "outputs": [],
   "source": [
    "def compute_density_region(bed_in_region_df, region_df):\n",
    "    region_size = region_df['size'].sum()\n",
    "    bed_in_region_size = bed_in_region_df['size'].sum()\n",
    "    \n",
    "    return bed_in_region_size / region_size"
   ]
  },
  {
   "cell_type": "code",
   "execution_count": 478,
   "metadata": {
    "collapsed": false
   },
   "outputs": [],
   "source": [
    "repeat_reg1_df = repeat_bed.intersect(genic_enhancers_bed, f=1e-09, u=True).to_dataframe()"
   ]
  },
  {
   "cell_type": "code",
   "execution_count": 479,
   "metadata": {
    "collapsed": false
   },
   "outputs": [],
   "source": [
    "repeat_reg2_df = repeat_bed.intersect(genic_non_enhancers_bed, f=1e-09, u=True).to_dataframe()"
   ]
  },
  {
   "cell_type": "code",
   "execution_count": 480,
   "metadata": {
    "collapsed": false
   },
   "outputs": [],
   "source": [
    "repeat_reg3_df = repeat_bed.intersect(non_genic_enhancers_bed, f=1e-09, u=True).to_dataframe()"
   ]
  },
  {
   "cell_type": "code",
   "execution_count": 481,
   "metadata": {
    "collapsed": false
   },
   "outputs": [],
   "source": [
    "repeat_reg4_df = repeat_bed.intersect(enhancers_regions_bed, f=1e-09, u=True).to_dataframe()"
   ]
  },
  {
   "cell_type": "code",
   "execution_count": 491,
   "metadata": {
    "collapsed": false
   },
   "outputs": [],
   "source": [
    "reg1_df = genic_enhancers_bed.to_dataframe()\n",
    "reg2_df = genic_non_enhancers_bed.to_dataframe()\n",
    "reg3_df = non_genic_enhancers_bed.to_dataframe()\n",
    "reg4_df = enhancers_regions_bed.to_dataframe()\n",
    "\n",
    "reg1_df['size'] =  reg1_df.apply(lambda row: compute_size(row), axis=1)\n",
    "reg2_df['size'] =  reg2_df.apply(lambda row: compute_size(row), axis=1)\n",
    "reg3_df['size'] =  reg3_df.apply(lambda row: compute_size(row), axis=1)\n",
    "reg4_df['size'] =  reg4_df.apply(lambda row: compute_size(row), axis=1)\n",
    "\n",
    "repeat_reg1_df['size'] = repeat_reg1_df.apply(lambda row: compute_size(row), axis=1)\n",
    "repeat_reg2_df['size'] = repeat_reg2_df.apply(lambda row: compute_size(row), axis=1)\n",
    "repeat_reg3_df['size'] = repeat_reg3_df.apply(lambda row: compute_size(row), axis=1)\n",
    "repeat_reg4_df['size'] = repeat_reg4_df.apply(lambda row: compute_size(row), axis=1)"
   ]
  },
  {
   "cell_type": "code",
   "execution_count": 504,
   "metadata": {
    "collapsed": false
   },
   "outputs": [
    {
     "name": "stdout",
     "output_type": "stream",
     "text": [
      "density of MIR in genic enhancers 0.04617282022016232\n",
      "density of MIR in genic non enhancers 0.011536760191622808\n",
      "density of MIR in non genic enhancers 0.036260377708247304\n",
      "density of MIR in enhancer regions 0.04256317634967656\n",
      "Normalized Ratios 0.3381803281635356 0.08449787838264515 0.26557932511460774 0.3117424683392115\n"
     ]
    }
   ],
   "source": [
    "d1 = compute_density_region(repeat_reg1_df,reg1_df)\n",
    "d2 = compute_density_region(repeat_reg2_df,reg2_df)\n",
    "d3 = compute_density_region(repeat_reg3_df,reg3_df)\n",
    "d4 = compute_density_region(repeat_reg4_df,reg4_df)\n",
    "\n",
    "print(\"density of MIR in genic enhancers\", d1)\n",
    "print(\"density of MIR in genic non enhancers\", d2)\n",
    "print(\"density of MIR in non genic enhancers\", d3)\n",
    "print(\"density of MIR in enhancer regions\", d4)\n",
    "\n",
    "sum_d = d1+d2+d3+d4\n",
    "\n",
    "print(\"Normalized Ratios\",d1/sum_d, d2/sum_d, d3/sum_d, d4/sum_d)\n"
   ]
  }
 ],
 "metadata": {
  "anaconda-cloud": {},
  "kernelspec": {
   "display_name": "Python [conda root]",
   "language": "python",
   "name": "conda-root-py"
  },
  "language_info": {
   "codemirror_mode": {
    "name": "ipython",
    "version": 3
   },
   "file_extension": ".py",
   "mimetype": "text/x-python",
   "name": "python",
   "nbconvert_exporter": "python",
   "pygments_lexer": "ipython3",
   "version": "3.5.2"
  }
 },
 "nbformat": 4,
 "nbformat_minor": 1
}
