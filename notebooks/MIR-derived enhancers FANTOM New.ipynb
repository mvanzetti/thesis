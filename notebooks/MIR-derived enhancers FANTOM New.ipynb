{
 "cells": [
  {
   "cell_type": "code",
   "execution_count": 1,
   "metadata": {
    "collapsed": false
   },
   "outputs": [
    {
     "data": {
      "text/plain": [
       "'../download/genome/hg19.genome'"
      ]
     },
     "execution_count": 1,
     "metadata": {},
     "output_type": "execute_result"
    }
   ],
   "source": [
    "# export full genome\n",
    "from pybedtools import genome_registry, chromsizes_to_file, chromsizes\n",
    "chromsizes_to_file(chromsizes('hg19'), '../download/genome/hg19.genome')"
   ]
  },
  {
   "cell_type": "code",
   "execution_count": 2,
   "metadata": {
    "collapsed": true
   },
   "outputs": [],
   "source": [
    "assembly_path = \"../download/genome/hg19_reduced.genome\""
   ]
  },
  {
   "cell_type": "code",
   "execution_count": 3,
   "metadata": {
    "collapsed": true
   },
   "outputs": [],
   "source": [
    "import pandas as pd\n",
    "import numpy as np\n",
    "from pybedtools import BedTool"
   ]
  },
  {
   "cell_type": "code",
   "execution_count": 9,
   "metadata": {
    "collapsed": true
   },
   "outputs": [],
   "source": [
    "store = pd.HDFStore(\"../storage/fantom_staging.hdf\")\n",
    "store_repeat = pd.HDFStore(\"../storage/repeatmasker_staging.hdf\")"
   ]
  },
  {
   "cell_type": "code",
   "execution_count": 10,
   "metadata": {
    "collapsed": false
   },
   "outputs": [
    {
     "data": {
      "text/plain": [
       "['/permissive', '/permissive_bed']"
      ]
     },
     "execution_count": 10,
     "metadata": {},
     "output_type": "execute_result"
    }
   ],
   "source": [
    "store.keys()"
   ]
  },
  {
   "cell_type": "code",
   "execution_count": 6,
   "metadata": {
    "collapsed": false
   },
   "outputs": [
    {
     "data": {
      "text/plain": [
       "['/DNA',\n",
       " '/DNA_Kolobok',\n",
       " '/DNA_Kolobok_bed',\n",
       " '/DNA_MULE_MuDR',\n",
       " '/DNA_MULE_MuDR_bed',\n",
       " '/DNA_Merlin',\n",
       " '/DNA_Merlin_bed',\n",
       " '/DNA_PIF_Harbinger',\n",
       " '/DNA_PIF_Harbinger_bed',\n",
       " '/DNA_PiggyBac',\n",
       " '/DNA_PiggyBac_bed',\n",
       " '/DNA_TcMar',\n",
       " '/DNA_TcMar_Mariner',\n",
       " '/DNA_TcMar_Mariner_bed',\n",
       " '/DNA_TcMar_Pogo',\n",
       " '/DNA_TcMar_Pogo_bed',\n",
       " '/DNA_TcMar_Tc1',\n",
       " '/DNA_TcMar_Tc1_bed',\n",
       " '/DNA_TcMar_Tc2',\n",
       " '/DNA_TcMar_Tc2_bed',\n",
       " '/DNA_TcMar_Tigger',\n",
       " '/DNA_TcMar_Tigger_bed',\n",
       " '/DNA_TcMar_bed',\n",
       " '/DNA_TcMar_qm',\n",
       " '/DNA_TcMar_qm_bed',\n",
       " '/DNA_bed',\n",
       " '/DNA_hAT',\n",
       " '/DNA_hAT_Ac',\n",
       " '/DNA_hAT_Ac_bed',\n",
       " '/DNA_hAT_Blackjack',\n",
       " '/DNA_hAT_Blackjack_bed',\n",
       " '/DNA_hAT_Charlie',\n",
       " '/DNA_hAT_Charlie_bed',\n",
       " '/DNA_hAT_Tag1',\n",
       " '/DNA_hAT_Tag1_bed',\n",
       " '/DNA_hAT_Tip100',\n",
       " '/DNA_hAT_Tip100_bed',\n",
       " '/DNA_hAT_Tip100_qm',\n",
       " '/DNA_hAT_Tip100_qm_bed',\n",
       " '/DNA_hAT_bed',\n",
       " '/DNA_hAT_qm',\n",
       " '/DNA_hAT_qm_bed',\n",
       " '/DNA_qm',\n",
       " '/DNA_qm_PiggyBac_qm',\n",
       " '/DNA_qm_PiggyBac_qm_bed',\n",
       " '/DNA_qm_bed',\n",
       " '/DNA_qm_hAT_Tip100_qm',\n",
       " '/DNA_qm_hAT_Tip100_qm_bed',\n",
       " '/LINE_CR1',\n",
       " '/LINE_CR1_bed',\n",
       " '/LINE_Dong_R4',\n",
       " '/LINE_Dong_R4_bed',\n",
       " '/LINE_Jockey',\n",
       " '/LINE_Jockey_bed',\n",
       " '/LINE_L1',\n",
       " '/LINE_L1_Tx1',\n",
       " '/LINE_L1_Tx1_bed',\n",
       " '/LINE_L1_bed',\n",
       " '/LINE_L2',\n",
       " '/LINE_L2_bed',\n",
       " '/LINE_Penelope',\n",
       " '/LINE_Penelope_bed',\n",
       " '/LINE_RTE_BovB',\n",
       " '/LINE_RTE_BovB_bed',\n",
       " '/LINE_RTE_X',\n",
       " '/LINE_RTE_X_bed',\n",
       " '/LTR',\n",
       " '/LTR_ERV1',\n",
       " '/LTR_ERV1_bed',\n",
       " '/LTR_ERV1_qm',\n",
       " '/LTR_ERV1_qm_bed',\n",
       " '/LTR_ERVK',\n",
       " '/LTR_ERVK_bed',\n",
       " '/LTR_ERVL',\n",
       " '/LTR_ERVL_MaLR',\n",
       " '/LTR_ERVL_MaLR_bed',\n",
       " '/LTR_ERVL_bed',\n",
       " '/LTR_ERVL_qm',\n",
       " '/LTR_ERVL_qm_bed',\n",
       " '/LTR_Gypsy',\n",
       " '/LTR_Gypsy_bed',\n",
       " '/LTR_Gypsy_qm',\n",
       " '/LTR_Gypsy_qm_bed',\n",
       " '/LTR_bed',\n",
       " '/LTR_qm',\n",
       " '/LTR_qm_bed',\n",
       " '/Low_complexity',\n",
       " '/Low_complexity_bed',\n",
       " '/RC_Helitron',\n",
       " '/RC_Helitron_bed',\n",
       " '/RC_qm_Helitron_qm',\n",
       " '/RC_qm_Helitron_qm_bed',\n",
       " '/RNA',\n",
       " '/RNA_bed',\n",
       " '/Retroposon_SVA',\n",
       " '/Retroposon_SVA_bed',\n",
       " '/SINE_5S_Deu_L2',\n",
       " '/SINE_5S_Deu_L2_bed',\n",
       " '/SINE_Alu',\n",
       " '/SINE_Alu_bed',\n",
       " '/SINE_MIR',\n",
       " '/SINE_MIR_bed',\n",
       " '/SINE_qm_tRNA',\n",
       " '/SINE_qm_tRNA_bed',\n",
       " '/SINE_tRNA',\n",
       " '/SINE_tRNA_Deu',\n",
       " '/SINE_tRNA_Deu_bed',\n",
       " '/SINE_tRNA_RTE',\n",
       " '/SINE_tRNA_RTE_bed',\n",
       " '/SINE_tRNA_bed',\n",
       " '/Satellite',\n",
       " '/Satellite_acro',\n",
       " '/Satellite_acro_bed',\n",
       " '/Satellite_bed',\n",
       " '/Satellite_centr',\n",
       " '/Satellite_centr_bed',\n",
       " '/Satellite_telo',\n",
       " '/Satellite_telo_bed',\n",
       " '/Simple_repeat',\n",
       " '/Simple_repeat_bed',\n",
       " '/Unknown',\n",
       " '/Unknown_bed',\n",
       " '/rRNA',\n",
       " '/rRNA_bed',\n",
       " '/scRNA',\n",
       " '/scRNA_bed',\n",
       " '/snRNA',\n",
       " '/snRNA_bed',\n",
       " '/srpRNA',\n",
       " '/srpRNA_bed',\n",
       " '/tRNA',\n",
       " '/tRNA_bed']"
      ]
     },
     "execution_count": 6,
     "metadata": {},
     "output_type": "execute_result"
    }
   ],
   "source": [
    "store_repeat.keys()"
   ]
  },
  {
   "cell_type": "code",
   "execution_count": 11,
   "metadata": {
    "collapsed": true
   },
   "outputs": [],
   "source": [
    "store.close()\n",
    "store_repeat.close()"
   ]
  },
  {
   "cell_type": "code",
   "execution_count": 17,
   "metadata": {
    "collapsed": true
   },
   "outputs": [],
   "source": [
    "fantom_bed_df = pd.read_hdf(\"../storage/fantom_staging.hdf\", \"permissive_bed\")\n",
    "fantom_bed = BedTool().from_dataframe(fantom_bed_df)"
   ]
  },
  {
   "cell_type": "code",
   "execution_count": 13,
   "metadata": {
    "collapsed": true
   },
   "outputs": [],
   "source": [
    "repeat_bed_df = pd.read_hdf(\"../storage/repeatmasker_staging.hdf\", \"SINE_MIR_bed\")\n",
    "repeat_bed = BedTool().from_dataframe(repeat_bed_df)"
   ]
  },
  {
   "cell_type": "code",
   "execution_count": 18,
   "metadata": {
    "collapsed": false
   },
   "outputs": [
    {
     "name": "stdout",
     "output_type": "stream",
     "text": [
      "chr1\t858256\t858648\tFANTOM.5.PERMISSIVE.0\t5\t.\n",
      " chr1\t918449\t918555\tFANTOM.5.PERMISSIVE.1\t18\t.\n",
      " chr1\t941791\t942135\tFANTOM.5.PERMISSIVE.2\t2\t.\n",
      " chr1\t945769\t946034\tFANTOM.5.PERMISSIVE.3\t17\t.\n",
      " chr1\t956563\t956812\tFANTOM.5.PERMISSIVE.4\t143\t.\n",
      " chr1\t1005293\t1005547\tFANTOM.5.PERMISSIVE.5\t66\t.\n",
      " chr1\t1014834\t1015095\tFANTOM.5.PERMISSIVE.6\t17\t.\n",
      " chr1\t1060905\t1061095\tFANTOM.5.PERMISSIVE.7\t7\t.\n",
      " chr1\t1063914\t1064111\tFANTOM.5.PERMISSIVE.8\t50\t.\n",
      " chr1\t1093610\t1093958\tFANTOM.5.PERMISSIVE.9\t7\t.\n",
      " "
     ]
    }
   ],
   "source": [
    "fantom_bed.head()"
   ]
  },
  {
   "cell_type": "code",
   "execution_count": 19,
   "metadata": {
    "collapsed": false
   },
   "outputs": [
    {
     "data": {
      "text/plain": [
       "43011"
      ]
     },
     "execution_count": 19,
     "metadata": {},
     "output_type": "execute_result"
    }
   ],
   "source": [
    "fantom_bed.count()"
   ]
  },
  {
   "cell_type": "code",
   "execution_count": 20,
   "metadata": {
    "collapsed": false
   },
   "outputs": [
    {
     "data": {
      "text/plain": [
       "594372"
      ]
     },
     "execution_count": 20,
     "metadata": {},
     "output_type": "execute_result"
    }
   ],
   "source": [
    "repeat_bed.count()"
   ]
  },
  {
   "cell_type": "code",
   "execution_count": 21,
   "metadata": {
    "collapsed": false
   },
   "outputs": [
    {
     "data": {
      "text/plain": [
       "array(['chr1', 'chr2', 'chr3', 'chr4', 'chr5', 'chr6', 'chr7', 'chrX',\n",
       "       'chr8', 'chr9', 'chr10', 'chr11', 'chr12', 'chr13', 'chr14',\n",
       "       'chr15', 'chr16', 'chr17', 'chr18', 'chr20', 'chrY', 'chr19',\n",
       "       'chr22', 'chr21'], dtype=object)"
      ]
     },
     "execution_count": 21,
     "metadata": {},
     "output_type": "execute_result"
    }
   ],
   "source": [
    "repeat_bed.to_dataframe()['chrom'].unique()"
   ]
  },
  {
   "cell_type": "code",
   "execution_count": 23,
   "metadata": {
    "collapsed": false
   },
   "outputs": [],
   "source": [
    "# removing chroms\n",
    "chroms = fantom_bed_df['chrom'].unique()\n",
    "repeat_bed = BedTool().from_dataframe(repeat_bed_df.query('chrom in @chroms'))"
   ]
  },
  {
   "cell_type": "code",
   "execution_count": 24,
   "metadata": {
    "collapsed": false
   },
   "outputs": [
    {
     "data": {
      "text/plain": [
       "594372"
      ]
     },
     "execution_count": 24,
     "metadata": {},
     "output_type": "execute_result"
    }
   ],
   "source": [
    "repeat_bed.count()"
   ]
  },
  {
   "cell_type": "markdown",
   "metadata": {},
   "source": [
    "### MIR size distribution"
   ]
  },
  {
   "cell_type": "code",
   "execution_count": 25,
   "metadata": {
    "collapsed": true
   },
   "outputs": [],
   "source": [
    "def compute_size(row, prefix=None):\n",
    "    col_name = prefix + '_name' if prefix else 'name'\n",
    "    if row[col_name] == '.':\n",
    "        return 0\n",
    "    col_end = prefix + '_end' if prefix else 'end'\n",
    "    col_start = prefix + '_start' if prefix else 'start'\n",
    "    size = abs(row[col_end] - row[col_start])\n",
    "    return size"
   ]
  },
  {
   "cell_type": "code",
   "execution_count": 27,
   "metadata": {
    "collapsed": false
   },
   "outputs": [],
   "source": [
    "# MIR size\n",
    "repeat_bed_df = repeat_bed.to_dataframe()\n",
    "repeat_bed_df['size'] = repeat_bed_df.apply(lambda row: compute_size(row), axis=1)\n",
    "fantom_bed_df['size'] = fantom_bed_df.apply(lambda row: compute_size(row), axis=1)"
   ]
  },
  {
   "cell_type": "code",
   "execution_count": 30,
   "metadata": {
    "collapsed": false
   },
   "outputs": [
    {
     "data": {
      "text/plain": [
       "<matplotlib.text.Text at 0x116e0ba58>"
      ]
     },
     "execution_count": 30,
     "metadata": {},
     "output_type": "execute_result"
    },
    {
     "data": {
      "image/png": "[encoded data removed]",
      "text/plain": [
       "<matplotlib.figure.Figure at 0x120ba3cf8>"
      ]
     },
     "metadata": {},
     "output_type": "display_data"
    }
   ],
   "source": [
    "import seaborn as sns\n",
    "%matplotlib inline\n",
    "import scipy.stats as st\n",
    "sns.set(style=\"ticks\", palette=\"muted\", color_codes=True)\n",
    "sns.set_context(\"paper\", font_scale=1.2, rc={\"lines.linewidth\": 2})\n",
    "ax = sns.distplot(fantom_bed_df[['size']], kde=False, color='red')\n",
    "ax.set_ylabel('Counts', size=12)\n",
    "ax.set_xlabel('FANTOM enhancers size', size=12)"
   ]
  },
  {
   "cell_type": "code",
   "execution_count": 31,
   "metadata": {
    "collapsed": false
   },
   "outputs": [
    {
     "data": {
      "text/plain": [
       "<matplotlib.text.Text at 0x1174eb6d8>"
      ]
     },
     "execution_count": 31,
     "metadata": {},
     "output_type": "execute_result"
    },
    {
     "data": {
      "image/png": "[encoded data removed]",
      "text/plain": [
       "<matplotlib.figure.Figure at 0x11ae9bdd8>"
      ]
     },
     "metadata": {},
     "output_type": "display_data"
    }
   ],
   "source": [
    "import seaborn as sns\n",
    "%matplotlib inline\n",
    "import scipy.stats as st\n",
    "sns.set(style=\"ticks\", palette=\"muted\", color_codes=True)\n",
    "sns.set_context(\"paper\", font_scale=1.2, rc={\"lines.linewidth\": 2})\n",
    "ax = sns.distplot(repeat_bed_df[['size']], kde=False)\n",
    "\n",
    "ax.set_ylabel('Counts', size=12)\n",
    "ax.set_xlabel('MIRs size', size=12)"
   ]
  },
  {
   "cell_type": "markdown",
   "metadata": {},
   "source": [
    "## Full MIR in enhancer"
   ]
  },
  {
   "cell_type": "code",
   "execution_count": 32,
   "metadata": {
    "collapsed": false
   },
   "outputs": [
    {
     "data": {
      "text/plain": [
       "1735"
      ]
     },
     "execution_count": 32,
     "metadata": {},
     "output_type": "execute_result"
    }
   ],
   "source": [
    "real_count = fantom_bed.intersect(repeat_bed, F=1).count()\n",
    "real_count"
   ]
  },
  {
   "cell_type": "code",
   "execution_count": 33,
   "metadata": {
    "collapsed": false
   },
   "outputs": [
    {
     "data": {
      "text/plain": [
       "1735"
      ]
     },
     "execution_count": 33,
     "metadata": {},
     "output_type": "execute_result"
    }
   ],
   "source": [
    "repeat_bed.intersect(fantom_bed, f=1).count()"
   ]
  },
  {
   "cell_type": "code",
   "execution_count": 35,
   "metadata": {
    "collapsed": false
   },
   "outputs": [
    {
     "data": {
      "text/plain": [
       "<FisherOutput at 4685633184>\n",
       "# Number of query intervals: 43011\n",
       "# Number of db intervals: 594327\n",
       "# Number of overlaps: 1735\n",
       "# Number of possible intervals (estimated): 7157665\n",
       "# phyper(1735 - 1, 43011, 7157665 - 43011, 594327, lower.tail=F)\n",
       "# Contingency Table Of Counts\n",
       "#_________________________________________\n",
       "#           |  in -b       | not in -b    |\n",
       "#     in -a | 1735         | 41276        |\n",
       "# not in -a | 592592       | 6522062      |\n",
       "#_________________________________________\n",
       "# p-values for fisher's exact test\n",
       "left\tright\ttwo-tail\tratio\n",
       "1.2175e-275\t1\t2.4058e-275\t0.463"
      ]
     },
     "execution_count": 35,
     "metadata": {},
     "output_type": "execute_result"
    }
   ],
   "source": [
    "fantom_bed.sort().fisher(repeat_bed.sort(), F=1, g=assembly_path)"
   ]
  },
  {
   "cell_type": "code",
   "execution_count": 37,
   "metadata": {
    "collapsed": false
   },
   "outputs": [
    {
     "data": {
      "text/plain": [
       "{'intersection': 209120,\n",
       " 'jaccard': 0.002163,\n",
       " 'n_intersections': 1700,\n",
       " 'union-intersection': 96680710}"
      ]
     },
     "execution_count": 37,
     "metadata": {},
     "output_type": "execute_result"
    }
   ],
   "source": [
    "fantom_bed.sort().jaccard(repeat_bed.sort(), F=1, g=assembly_path)"
   ]
  },
  {
   "cell_type": "markdown",
   "metadata": {},
   "source": [
    "### Null Model 1: shuffled enhancers"
   ]
  },
  {
   "cell_type": "code",
   "execution_count": 38,
   "metadata": {
    "collapsed": false
   },
   "outputs": [],
   "source": [
    "def compare_null_model(counts, real_count):\n",
    "    print(\"mean:\", np.mean(counts), \"std:\", np.std(counts))\n",
    "    import seaborn as sns\n",
    "    %matplotlib inline\n",
    "    import scipy.stats as st\n",
    "    sns.distplot(counts, kde=False, fit=st.norm, bins=20)\n",
    "    z_score =(real_count - np.mean(counts))/np.std(counts)\n",
    "    p_values = st.norm.sf(abs(z_score))\n",
    "    print(\"z-score:\", z_score, \"p-value:\",p_values)"
   ]
  },
  {
   "cell_type": "code",
   "execution_count": 39,
   "metadata": {
    "collapsed": true
   },
   "outputs": [],
   "source": [
    "def build_shuffled_full_overlap(bed, bed_overlap_with, assembly_path):\n",
    "    shuffled_bed = bed.shuffle(g=assembly_path)\n",
    "    core_null_model_intersection = shuffled_bed.intersect(bed_overlap_with, F=1)\n",
    "    return core_null_model_intersection.count()"
   ]
  },
  {
   "cell_type": "code",
   "execution_count": 40,
   "metadata": {
    "collapsed": false
   },
   "outputs": [],
   "source": [
    "from joblib import Parallel, delayed\n",
    "import multiprocessing\n",
    "counts = []\n",
    "num_cores = multiprocessing.cpu_count()\n",
    "counts.append(Parallel(n_jobs=num_cores)(delayed(build_shuffled_full_overlap)\n",
    "                                             (fantom_bed, repeat_bed, assembly_path)\n",
    "                                             for i in range(0, 100)))"
   ]
  },
  {
   "cell_type": "code",
   "execution_count": 41,
   "metadata": {
    "collapsed": false
   },
   "outputs": [
    {
     "name": "stdout",
     "output_type": "stream",
     "text": [
      "mean: 1318.84 std: 38.7119413101\n",
      "z-score: 10.7501712886 p-value: 2.95758343401e-27\n"
     ]
    },
    {
     "data": {
      "image/png": "[encoded data removed]",
      "text/plain": [
       "<matplotlib.figure.Figure at 0x11ac9df60>"
      ]
     },
     "metadata": {},
     "output_type": "display_data"
    }
   ],
   "source": [
    "compare_null_model(counts, real_count)"
   ]
  },
  {
   "cell_type": "markdown",
   "metadata": {},
   "source": [
    "### Null Model 2: shuffled repeats"
   ]
  },
  {
   "cell_type": "code",
   "execution_count": 42,
   "metadata": {
    "collapsed": true
   },
   "outputs": [],
   "source": [
    "def build_shuffled_full_overlap_with(bed, bed_overlap_with, assembly_path):\n",
    "    shuffled_bed_with = bed_overlap_with.shuffle(g=assembly_path)\n",
    "    core_null_model_intersection = bed.intersect(shuffled_bed_with, F=1)\n",
    "    return core_null_model_intersection.count()"
   ]
  },
  {
   "cell_type": "code",
   "execution_count": 44,
   "metadata": {
    "collapsed": false
   },
   "outputs": [],
   "source": [
    "from joblib import Parallel, delayed\n",
    "import multiprocessing\n",
    "counts = []\n",
    "num_cores = multiprocessing.cpu_count()\n",
    "counts.append(Parallel(n_jobs=num_cores)(delayed(build_shuffled_full_overlap_with)\n",
    "                                             (fantom_bed, repeat_bed, assembly_path)\n",
    "                                             for i in range(0, 100)))"
   ]
  },
  {
   "cell_type": "code",
   "execution_count": 45,
   "metadata": {
    "collapsed": false
   },
   "outputs": [
    {
     "name": "stdout",
     "output_type": "stream",
     "text": [
      "mean: 1316.56 std: 34.0776525013\n",
      "z-score: 12.2790148172 p-value: 5.87096895509e-35\n"
     ]
    },
    {
     "data": {
      "image/png": "[encoded data removed]",
      "text/plain": [
       "<matplotlib.figure.Figure at 0x117418d68>"
      ]
     },
     "metadata": {},
     "output_type": "display_data"
    }
   ],
   "source": [
    "compare_null_model(counts, real_count)"
   ]
  },
  {
   "cell_type": "markdown",
   "metadata": {},
   "source": [
    "### Null Model 3: shuffled on shuffled"
   ]
  },
  {
   "cell_type": "code",
   "execution_count": 46,
   "metadata": {
    "collapsed": true
   },
   "outputs": [],
   "source": [
    "def build_shuffled_on_shuffled_full_overlap(bed, bed_overlap_with, assembly_path):\n",
    "    shuffled_bed = bed.shuffle(g=assembly_path)\n",
    "    shuffled_bed_with = bed_overlap_with.shuffle(g=assembly_path)\n",
    "    core_null_model_intersection = shuffled_bed.intersect(shuffled_bed_with, F=1)\n",
    "    return core_null_model_intersection.count()"
   ]
  },
  {
   "cell_type": "code",
   "execution_count": 48,
   "metadata": {
    "collapsed": false
   },
   "outputs": [],
   "source": [
    "from joblib import Parallel, delayed\n",
    "import multiprocessing\n",
    "counts = []\n",
    "num_cores = multiprocessing.cpu_count()\n",
    "counts.append(Parallel(n_jobs=num_cores)(delayed(build_shuffled_on_shuffled_full_overlap)\n",
    "                                             (fantom_bed, repeat_bed, assembly_path)\n",
    "                                             for i in range(0, 100)))"
   ]
  },
  {
   "cell_type": "code",
   "execution_count": 49,
   "metadata": {
    "collapsed": false,
    "scrolled": true
   },
   "outputs": [
    {
     "name": "stdout",
     "output_type": "stream",
     "text": [
      "mean: 1320.83 std: 36.0263944907\n",
      "z-score: 11.4962933664 p-value: 6.88514254857e-31\n"
     ]
    },
    {
     "data": {
      "image/png": "[encoded data removed]",
      "text/plain": [
       "<matplotlib.figure.Figure at 0x11bdfc0f0>"
      ]
     },
     "metadata": {},
     "output_type": "display_data"
    }
   ],
   "source": [
    "compare_null_model(counts, real_count)"
   ]
  },
  {
   "cell_type": "markdown",
   "metadata": {},
   "source": [
    "## Counting occurences per enhancer"
   ]
  },
  {
   "cell_type": "code",
   "execution_count": 50,
   "metadata": {
    "collapsed": true
   },
   "outputs": [],
   "source": [
    "fantom_bed = BedTool().from_dataframe(\n",
    "    fantom_bed.to_dataframe()[['chrom', 'start', 'end', 'name', 'score', 'strand']])"
   ]
  },
  {
   "cell_type": "code",
   "execution_count": 51,
   "metadata": {
    "collapsed": false
   },
   "outputs": [],
   "source": [
    "overlap_occurences_df = fantom_bed.intersect(repeat_bed, F=1, c=True).to_dataframe()\n",
    "overlap_occurences_null_df = fantom_bed.shuffle(g=assembly_path).intersect(repeat_bed, F=1, c=True).to_dataframe()\n",
    "overlap_occurences_null_2_df = fantom_bed.intersect(repeat_bed.shuffle(g=assembly_path), F=1, c=True).to_dataframe()\n",
    "overlap_occurences_null_3_df = fantom_bed.shuffle(g=assembly_path).intersect(repeat_bed.shuffle(g=assembly_path), F=1, c=True).to_dataframe()\n",
    "overlap_occurences_complement_df = fantom_bed.sort().complement(g=assembly_path).intersect(repeat_bed, F=1, c=True).to_dataframe()"
   ]
  },
  {
   "cell_type": "code",
   "execution_count": 52,
   "metadata": {
    "collapsed": false
   },
   "outputs": [],
   "source": [
    "occ_cols = ['chrom', 'start', 'end', 'name', 'score', 'strand', 'occurences']\n",
    "overlap_occurences_df.columns = occ_cols\n",
    "overlap_occurences_null_df.columns = occ_cols\n",
    "overlap_occurences_null_2_df.columns = occ_cols\n",
    "overlap_occurences_null_3_df.columns = occ_cols\n",
    "overlap_occurences_complement_df.columns = ['chrom', 'start', 'end', 'occurences']"
   ]
  },
  {
   "cell_type": "code",
   "execution_count": 53,
   "metadata": {
    "collapsed": false
   },
   "outputs": [],
   "source": [
    "occurences = overlap_occurences_df.query(\"occurences > 0\")['occurences'].tolist()\n",
    "occurences_null = overlap_occurences_null_df.query(\"occurences > 0\")['occurences'].tolist()\n",
    "occurences_null_2 = overlap_occurences_null_2_df.query(\"occurences > 0\")['occurences'].tolist()\n",
    "occurences_null_3 = overlap_occurences_null_3_df.query(\"occurences > 0\")['occurences'].tolist()\n",
    "occurences_complement = overlap_occurences_complement_df.query(\"occurences > 0\")['occurences'].tolist()"
   ]
  },
  {
   "cell_type": "code",
   "execution_count": 54,
   "metadata": {
    "collapsed": false
   },
   "outputs": [],
   "source": [
    "occ_freq, occ_base = np.histogram(occurences, bins=range(1,26))\n",
    "occ_freq_null, _ = np.histogram(occurences_null, bins=range(1,26))\n",
    "occ_freq_null_2, _ = np.histogram(occurences_null_2, bins=range(1,26))\n",
    "occ_freq_null_3, _ = np.histogram(occurences_null_3, bins=range(1,26))\n",
    "occ_freq_complement, _ = np.histogram(occurences_complement, bins=range(1,26))\n",
    "\n",
    "occ_ratio = occ_freq / sum(occ_freq)\n",
    "occ_ratio_null = occ_freq_null / sum(occ_freq_null)\n",
    "occ_ratio_null_2 = occ_freq_null_2 / sum(occ_freq_null_2)\n",
    "occ_ratio_null_3 = occ_freq_null_3 / sum(occ_freq_null_3)\n",
    "occ_ratio_complement = occ_freq_complement / sum(occ_freq_complement)"
   ]
  },
  {
   "cell_type": "code",
   "execution_count": 55,
   "metadata": {
    "collapsed": false
   },
   "outputs": [
    {
     "data": {
      "text/plain": [
       "<matplotlib.legend.Legend at 0x11cdc84a8>"
      ]
     },
     "execution_count": 55,
     "metadata": {},
     "output_type": "execute_result"
    },
    {
     "data": {
      "image/png": "[encoded data removed]",
      "text/plain": [
       "<matplotlib.figure.Figure at 0x11acc4d68>"
      ]
     },
     "metadata": {},
     "output_type": "display_data"
    }
   ],
   "source": [
    "import numpy as np\n",
    "import seaborn as sns\n",
    "import matplotlib.pyplot as plt\n",
    "import scipy.stats as st\n",
    "import matplotlib.patches as mpatches\n",
    "#import matplotlib.pyplot as plt\n",
    "%matplotlib inline\n",
    "\n",
    "#sns.set(style=\"white\", palette=\"muted\", color_codes=True)\n",
    "sns.set(style=\"ticks\", palette=\"muted\", color_codes=True)\n",
    "sns.set_context(\"poster\", font_scale=0.8, rc={\"lines.linewidth\": 2})\n",
    "\n",
    "fig = plt.figure()\n",
    "ax = fig.add_subplot(111)\n",
    "\n",
    "g1 = plt.plot(occ_base[:11], occ_freq[:11], color='b')\n",
    "g2 = plt.plot(occ_base[:11], occ_freq_null[:11], color='r')\n",
    "g3 = plt.plot(occ_base[:11], occ_freq_null_2[:11], color='g')\n",
    "g4 = plt.plot(occ_base[:11], occ_freq_null_3[:11], color='y')\n",
    "#g5 = sns.pointplot(x=occ_base[:10], y=occ_freq_complement[:10], color='pink')\n",
    "ax.axes.set_yscale('log')\n",
    "\n",
    "ax.grid()\n",
    "\n",
    "#sns.despine(offset=10, trim=True)\n",
    "\n",
    "ax.set_ylabel('Occurrences', size=16)\n",
    "ax.set_xlabel('Num of MIRs falling in a single enhancer', size=16)\n",
    "\n",
    "blue_patch = mpatches.Patch(color='b', label='FANTOM enhancers and MIRs')\n",
    "red_patch = mpatches.Patch(color='r', label='Null Model 1')\n",
    "green_patch = mpatches.Patch(color='g', label='Null Model 2')\n",
    "yellow_patch = mpatches.Patch(color='y', label='Null Model 3')\n",
    "\n",
    "plt.legend(handles=[blue_patch, red_patch, green_patch, yellow_patch], fontsize=14, loc=1)"
   ]
  },
  {
   "cell_type": "code",
   "execution_count": 56,
   "metadata": {
    "collapsed": false
   },
   "outputs": [
    {
     "name": "stdout",
     "output_type": "stream",
     "text": [
      "(-2.2887826005497685e-11, 163.29993825750464)\n",
      "(-5.1457822801191262e-11, 127.09993454940917)\n",
      "(-7.7667357606151363e-07, 123.13877854405737)\n",
      "(-8.4289979645034763e-07, 133.62804224427876)\n"
     ]
    }
   ],
   "source": [
    "import scipy.stats as st\n",
    "print(st.expon.fit(occ_freq[:10]))\n",
    "print(st.expon.fit(occ_freq_null[:10]))\n",
    "print(st.expon.fit(occ_freq_null_2[:10]))\n",
    "print(st.expon.fit(occ_freq_null_3[:10]))"
   ]
  },
  {
   "cell_type": "code",
   "execution_count": 57,
   "metadata": {
    "collapsed": false
   },
   "outputs": [
    {
     "data": {
      "image/png": "[encoded data removed]",
      "text/plain": [
       "<matplotlib.figure.Figure at 0x118c8b358>"
      ]
     },
     "metadata": {},
     "output_type": "display_data"
    }
   ],
   "source": [
    "# ratios normalized\n",
    "import matplotlib.pyplot as plt\n",
    "plt.plot(occ_base[:10], occ_ratio[:10], c='blue')\n",
    "plt.plot(occ_base[:10], occ_ratio_null[:10], c='red')\n",
    "plt.plot(occ_base[:10], occ_ratio_null_2[:10], c='green')\n",
    "ax = plt.plot(occ_base[:10], occ_ratio_null_3[:10], c='yellow')\n",
    "#plt.plot(occ_base[:10], occ_ratio_complement[:10], c='pink')\n",
    "\n",
    "plt.show()\n"
   ]
  },
  {
   "cell_type": "markdown",
   "metadata": {},
   "source": [
    "## Closeness distribution"
   ]
  },
  {
   "cell_type": "code",
   "execution_count": 78,
   "metadata": {
    "collapsed": true
   },
   "outputs": [],
   "source": [
    "import warnings\n",
    "warnings.filterwarnings('ignore')\n",
    "\n",
    "import seaborn as sns\n",
    "%matplotlib inline\n",
    "import numpy as np\n",
    "from joblib import Parallel, delayed\n",
    "import multiprocessing\n",
    "\n",
    "def compute_centers(closeness_df):\n",
    "    closeness_df['centered_locus'] = round(\n",
    "        (closeness_df['end'] - closeness_df['start'])/2 \n",
    "        + closeness_df['start']).astype(int)\n",
    "\n",
    "    closeness_df['close_centered_locus'] = round(\n",
    "        (closeness_df['close_end'] - closeness_df['close_start'])/2 \n",
    "        + closeness_df['close_start']).astype(int)\n",
    "\n",
    "    closeness_df['centered_distance'] = closeness_df['close_centered_locus'] - closeness_df['centered_locus'] \n",
    "    return closeness_df\n",
    "\n",
    "def compute_closeness_df(sorted_bed, sorted_bed_with):\n",
    "    closeness_columns = ['chrom', 'start', 'end', 'name', 'score', 'strand',\n",
    "                     'close_chrom', 'close_start','close_end', \n",
    "                     'close_name', 'close_score', 'close_strand', 'distance']\n",
    "    closeness = sorted_bed.closest(sorted_bed_with, D='a')\n",
    "    closeness_df = closeness.to_dataframe()\n",
    "    closeness_df.columns = closeness_columns\n",
    "    closeness_df = compute_centers(closeness_df)\n",
    "    return closeness_df\n",
    "\n",
    "def build_closeness_df(bed, bed_with):\n",
    "    \n",
    "    closeness_columns = ['chrom', 'start', 'end', 'name', 'score', 'strand',\n",
    "                         'close_chrom', 'close_start','close_end', \n",
    "                         'close_name', 'close_score', 'close_strand', 'distance']\n",
    "    \n",
    "    sorted_bed = bed.sort()\n",
    "    sorted_bed_with = bed_with.sort()\n",
    "    \n",
    "    # real on real\n",
    "    closeness = sorted_bed.closest(sorted_bed_with, D='a', t='all')\n",
    "    closeness_df = closeness.to_dataframe()\n",
    "    closeness_df.columns = closeness_columns\n",
    "    closeness_df = compute_centers(closeness_df)\n",
    "    \n",
    "    return closeness_df"
   ]
  },
  {
   "cell_type": "code",
   "execution_count": 79,
   "metadata": {
    "collapsed": true
   },
   "outputs": [],
   "source": [
    "encode_bed = BedTool().from_dataframe(\n",
    "    encode_bed.to_dataframe()[['chrom', 'start', 'end', 'name', 'score', 'strand']])"
   ]
  },
  {
   "cell_type": "code",
   "execution_count": 80,
   "metadata": {
    "collapsed": false
   },
   "outputs": [],
   "source": [
    "repeat_closeness_df = build_closeness_df(encode_bed, repeat_bed)"
   ]
  },
  {
   "cell_type": "code",
   "execution_count": 81,
   "metadata": {
    "collapsed": false
   },
   "outputs": [
    {
     "data": {
      "image/png": "[encoded data removed]",
      "text/plain": [
       "<matplotlib.figure.Figure at 0x11fc50128>"
      ]
     },
     "metadata": {},
     "output_type": "display_data"
    }
   ],
   "source": [
    "sns.set(style=\"white\")\n",
    "sns.set_context(\"paper\", font_scale=0.8, rc={\"lines.linewidth\": 1})\n",
    "g1 = sns.distplot(repeat_closeness_df[['centered_distance']], kde=False)\n",
    "#g1.set_xlim(-5000, 5000)\n",
    "#g1.set_xticks(np.arange(-5000, 5000, 500))"
   ]
  },
  {
   "cell_type": "markdown",
   "metadata": {},
   "source": [
    "### Null Model 1 Closeness"
   ]
  },
  {
   "cell_type": "code",
   "execution_count": 82,
   "metadata": {
    "collapsed": false
   },
   "outputs": [],
   "source": [
    "encode_bed_shuffled = encode_bed.shuffle(g=assembly_path)\n",
    "repeat_closeness_null_df = build_closeness_df(encode_bed_shuffled, repeat_bed)"
   ]
  },
  {
   "cell_type": "code",
   "execution_count": 83,
   "metadata": {
    "collapsed": false
   },
   "outputs": [
    {
     "data": {
      "image/png": "[encoded data removed]",
      "text/plain": [
       "<matplotlib.figure.Figure at 0x122efbd68>"
      ]
     },
     "metadata": {},
     "output_type": "display_data"
    }
   ],
   "source": [
    "sns.set(style=\"white\")\n",
    "sns.set_context(\"paper\", font_scale=0.8, rc={\"lines.linewidth\": 1})\n",
    "g1 = sns.distplot(repeat_closeness_null_df[['centered_distance']], kde=False)\n",
    "#g1.set_xlim(-300000, 300000)\n",
    "#g1.set_xticks(np.arange(-5000, 5000, 500))"
   ]
  },
  {
   "cell_type": "markdown",
   "metadata": {},
   "source": [
    "### Null Model 2 Closeness"
   ]
  },
  {
   "cell_type": "code",
   "execution_count": 84,
   "metadata": {
    "collapsed": true
   },
   "outputs": [],
   "source": [
    "repeat_bed_shuffled = repeat_bed.shuffle(g=assembly_path)\n",
    "repeat_closeness_null2_df = build_closeness_df(encode_bed, repeat_bed_shuffled)"
   ]
  },
  {
   "cell_type": "code",
   "execution_count": 85,
   "metadata": {
    "collapsed": false
   },
   "outputs": [
    {
     "data": {
      "image/png": "[encoded data removed]",
      "text/plain": [
       "<matplotlib.figure.Figure at 0x126a362b0>"
      ]
     },
     "metadata": {},
     "output_type": "display_data"
    }
   ],
   "source": [
    "sns.set(style=\"white\")\n",
    "sns.set_context(\"paper\", font_scale=0.8, rc={\"lines.linewidth\": 1})\n",
    "g1 = sns.distplot(repeat_closeness_null2_df[['centered_distance']], kde=True)\n",
    "#g1.set_xlim(-300000, 300000)\n",
    "#g1.set_xticks(np.arange(-5000, 5000, 500))"
   ]
  },
  {
   "cell_type": "markdown",
   "metadata": {},
   "source": [
    "### Null Model 3 Closeness"
   ]
  },
  {
   "cell_type": "code",
   "execution_count": 86,
   "metadata": {
    "collapsed": true
   },
   "outputs": [],
   "source": [
    "repeat_closeness_null3_df = build_closeness_df(encode_bed_shuffled, repeat_bed_shuffled)"
   ]
  },
  {
   "cell_type": "code",
   "execution_count": 87,
   "metadata": {
    "collapsed": false
   },
   "outputs": [
    {
     "data": {
      "image/png": "[encoded data removed]",
      "text/plain": [
       "<matplotlib.figure.Figure at 0x122edf860>"
      ]
     },
     "metadata": {},
     "output_type": "display_data"
    }
   ],
   "source": [
    "sns.set(style=\"white\")\n",
    "sns.set_context(\"paper\", font_scale=0.8, rc={\"lines.linewidth\": 1})\n",
    "g1 = sns.distplot(repeat_closeness_null3_df[['centered_distance']], kde=False)\n",
    "#g1.set_xlim(-300000, 300000)\n",
    "#g1.set_xticks(np.arange(-5000, 5000, 500))"
   ]
  },
  {
   "cell_type": "markdown",
   "metadata": {},
   "source": [
    "### Comparing Closeness Distributions"
   ]
  },
  {
   "cell_type": "code",
   "execution_count": 88,
   "metadata": {
    "collapsed": true
   },
   "outputs": [],
   "source": [
    "centered_distance_distribution = repeat_closeness_df.query(\"centered_distance >=0\")['centered_distance']\n",
    "centered_distance_distribution_null = repeat_closeness_null_df.query(\"centered_distance >=0\")['centered_distance']\n",
    "centered_distance_distribution_null_2 = repeat_closeness_null2_df.query(\"centered_distance >=0\")['centered_distance']\n",
    "centered_distance_distribution_null_3 = repeat_closeness_null3_df.query(\"centered_distance >=0\")['centered_distance']"
   ]
  },
  {
   "cell_type": "code",
   "execution_count": 89,
   "metadata": {
    "collapsed": false
   },
   "outputs": [
    {
     "data": {
      "image/png": "[encoded data removed]",
      "text/plain": [
       "<matplotlib.figure.Figure at 0x12f075da0>"
      ]
     },
     "metadata": {},
     "output_type": "display_data"
    }
   ],
   "source": [
    "sns.set(style=\"whitegrid\")\n",
    "sns.set_context(\"paper\", font_scale=0.8, rc={\"lines.linewidth\": 1})\n",
    "g1 = sns.distplot(centered_distance_distribution, kde=True)\n",
    "#g1.set_xlim(0, 10000)"
   ]
  },
  {
   "cell_type": "code",
   "execution_count": 90,
   "metadata": {
    "collapsed": true
   },
   "outputs": [],
   "source": [
    "freqs, base = np.histogram(centered_distance_distribution, bins=1000)\n",
    "freqs_null, base_null = np.histogram(centered_distance_distribution_null, bins=base)\n",
    "freqs_null_2, base_null_2 = np.histogram(centered_distance_distribution_null_2, bins=base)\n",
    "freqs_null_3, base_null_3 = np.histogram(centered_distance_distribution_null_3, bins=base)"
   ]
  },
  {
   "cell_type": "code",
   "execution_count": 91,
   "metadata": {
    "collapsed": true
   },
   "outputs": [],
   "source": [
    "cumulative = np.cumsum(freqs) /sum(freqs)\n",
    "cumulative_null = np.cumsum(freqs_null) / sum(freqs_null)\n",
    "cumulative_null_2 = np.cumsum(freqs_null_2) / sum(freqs_null_2)\n",
    "cumulative_null_3 = np.cumsum(freqs_null_3) / sum(freqs_null_3)"
   ]
  },
  {
   "cell_type": "code",
   "execution_count": 101,
   "metadata": {
    "collapsed": false
   },
   "outputs": [
    {
     "name": "stdout",
     "output_type": "stream",
     "text": [
      "Ks_2sampResult(statistic=0.48000000000000004, pvalue=1.3135883136101678e-101)\n",
      "Ks_2sampResult(statistic=0.88900000000000001, pvalue=0.0)\n",
      "Ks_2sampResult(statistic=0.89100000000000001, pvalue=0.0)\n"
     ]
    },
    {
     "data": {
      "image/png": "[encoded data removed]",
      "text/plain": [
       "<matplotlib.figure.Figure at 0x127665d68>"
      ]
     },
     "metadata": {},
     "output_type": "display_data"
    }
   ],
   "source": [
    "import numpy as np\n",
    "import seaborn as sns\n",
    "import matplotlib.pyplot as plt\n",
    "import scipy.stats as st\n",
    "import matplotlib.patches as mpatches\n",
    "#import matplotlib.pyplot as plt\n",
    "%matplotlib inline\n",
    "\n",
    "#sns.set(style=\"white\", palette=\"muted\", color_codes=True)\n",
    "sns.set(style=\"ticks\", palette=\"muted\", color_codes=True)\n",
    "sns.set_context(\"poster\", font_scale=0.8, rc={\"lines.linewidth\": 2})\n",
    "\n",
    "fig = plt.figure()\n",
    "ax = fig.add_subplot(111)\n",
    "\n",
    "g1 = plt.plot(base[:-1], cumulative, color='b')\n",
    "g2 = plt.plot(base_null[:-1], cumulative_null, color='r')\n",
    "g3 = plt.plot(base_null_2[:-1], cumulative_null_2, color='g')\n",
    "g4 = plt.plot(base_null_3[:-1], cumulative_null_3, color='y')\n",
    "#g5 = sns.pointplot(x=occ_base[:10], y=occ_freq_complement[:10], color='pink')\n",
    "#ax.axes.set_yscale('log')\n",
    "ax.axes.set_xlim(0, 20000)\n",
    "\n",
    "ax.grid()\n",
    "\n",
    "#sns.despine(offset=10, trim=True)\n",
    "\n",
    "ax.set_ylabel('Closeness cumulate', size=16)\n",
    "ax.set_xlabel('Distance between cores', size=16)\n",
    "\n",
    "blue_patch = mpatches.Patch(color='b', label='K562 enhancers and MIRs')\n",
    "red_patch = mpatches.Patch(color='r', label='Null Model 1')\n",
    "green_patch = mpatches.Patch(color='g', label='Null Model 2')\n",
    "yellow_patch = mpatches.Patch(color='y', label='Null Model 3')\n",
    "\n",
    "plt.legend(handles=[blue_patch, red_patch, green_patch, yellow_patch], fontsize=14, loc=4)\n",
    "\n",
    "print(st.ks_2samp(cumulative, cumulative_null))\n",
    "\n",
    "print(st.ks_2samp(cumulative, cumulative_null_2))\n",
    "\n",
    "print(st.ks_2samp(cumulative, cumulative_null_3))\n"
   ]
  },
  {
   "cell_type": "code",
   "execution_count": 92,
   "metadata": {
    "collapsed": false
   },
   "outputs": [
    {
     "data": {
      "image/png": "[encoded data removed]",
      "text/plain": [
       "<matplotlib.figure.Figure at 0x12f6587b8>"
      ]
     },
     "metadata": {},
     "output_type": "display_data"
    }
   ],
   "source": [
    "import matplotlib.pyplot as plt\n",
    "sns.set(style=\"ticks\", palette=\"muted\", color_codes=True)\n",
    "sns.set_context(\"poster\", font_scale=0.6, rc={\"lines.linewidth\": 0.8})\n",
    "sns.set_style(\"darkgrid\")\n",
    "\n",
    "plt.plot(base[:-1], cumulative, c='blue')\n",
    "plt.plot(base_null[:-1], cumulative_null, c='red')\n",
    "plt.plot(base_null_2[:-1], cumulative_null_2, c='green')\n",
    "#plt.plot(base_null_3[:-1], cumulative_null_3, c='yellow')\n",
    "plt.show()\n"
   ]
  },
  {
   "cell_type": "markdown",
   "metadata": {},
   "source": [
    "## MIR-enhancers: core of enhancers in MIR"
   ]
  },
  {
   "cell_type": "code",
   "execution_count": 340,
   "metadata": {
    "collapsed": true
   },
   "outputs": [],
   "source": [
    "def compute_centers(df):\n",
    "    df['centered_locus'] = round(\n",
    "        (df['end'] - df['start'])/2 \n",
    "        + df['start']).astype(int)"
   ]
  },
  {
   "cell_type": "code",
   "execution_count": 341,
   "metadata": {
    "collapsed": false
   },
   "outputs": [],
   "source": [
    "compute_centers(encode_bed_df)"
   ]
  },
  {
   "cell_type": "code",
   "execution_count": 342,
   "metadata": {
    "collapsed": false
   },
   "outputs": [],
   "source": [
    "encode_bed_cores_df = encode_bed_df.copy()\n",
    "encode_bed_cores_df['start'] = encode_bed_cores_df['centered_locus']\n",
    "encode_bed_cores_df['end'] = encode_bed_cores_df['centered_locus']"
   ]
  },
  {
   "cell_type": "code",
   "execution_count": 343,
   "metadata": {
    "collapsed": false
   },
   "outputs": [
    {
     "data": {
      "text/plain": [
       "array(['chr7', 'chr2', 'chr19', 'chr6', 'chr10', 'chr18', 'chr1', 'chr11',\n",
       "       'chr4', 'chr20', 'chr3', 'chrX', 'chr8', 'chr15', 'chr21', 'chr9',\n",
       "       'chr16', 'chr22', 'chr5', 'chr13', 'chr17', 'chr14', 'chr12'], dtype=object)"
      ]
     },
     "execution_count": 343,
     "metadata": {},
     "output_type": "execute_result"
    }
   ],
   "source": [
    "encode_bed_cores_df['chrom'].unique()"
   ]
  },
  {
   "cell_type": "code",
   "execution_count": 344,
   "metadata": {
    "collapsed": false
   },
   "outputs": [],
   "source": [
    "encode_bed_cores = BedTool().from_dataframe(encode_bed_cores_df[['chrom', 'start', 'end', 'name', 'score', 'strand']])"
   ]
  },
  {
   "cell_type": "code",
   "execution_count": 345,
   "metadata": {
    "collapsed": false
   },
   "outputs": [
    {
     "data": {
      "text/plain": [
       "33082"
      ]
     },
     "execution_count": 345,
     "metadata": {},
     "output_type": "execute_result"
    }
   ],
   "source": [
    "encode_bed_cores.count()"
   ]
  },
  {
   "cell_type": "code",
   "execution_count": 414,
   "metadata": {
    "collapsed": true
   },
   "outputs": [],
   "source": [
    "#MIR-enhancers: core of enhancer in MIR\n",
    "core_intersection = encode_bed_cores.intersect(repeat_bed, f=1)"
   ]
  },
  {
   "cell_type": "code",
   "execution_count": 418,
   "metadata": {
    "collapsed": false
   },
   "outputs": [
    {
     "data": {
      "text/plain": [
       "962"
      ]
     },
     "execution_count": 418,
     "metadata": {},
     "output_type": "execute_result"
    }
   ],
   "source": [
    "core_intersection.sort().merge().count()"
   ]
  },
  {
   "cell_type": "code",
   "execution_count": 419,
   "metadata": {
    "collapsed": false
   },
   "outputs": [
    {
     "name": "stdout",
     "output_type": "stream",
     "text": [
      "chr10\t74081303\t74081303\tDistal-Prediction-5\t1\t.\n",
      " chr20\t353506\t353506\tDistal-Prediction-15\t1\t.\n",
      " chr3\t177076814\t177076814\tDistal-Prediction-24\t1\t.\n",
      " chr2\t100908420\t100908420\tDistal-Prediction-29\t1\t.\n",
      " chr3\t5471120\t5471120\tDistal-Prediction-55\t1\t.\n",
      " chr20\t52239227\t52239227\tDistal-Prediction-177\t1\t.\n",
      " chr3\t195854460\t195854460\tDistal-Prediction-251\t1\t.\n",
      " chr7\t2059134\t2059134\tDistal-Prediction-272\t1\t.\n",
      " chr9\t69013147\t69013147\tDistal-Prediction-304\t1\t.\n",
      " chr20\t30294232\t30294232\tDistal-Prediction-341\t1\t.\n",
      " "
     ]
    }
   ],
   "source": [
    "core_intersection.head()"
   ]
  },
  {
   "cell_type": "code",
   "execution_count": 313,
   "metadata": {
    "collapsed": false
   },
   "outputs": [],
   "source": [
    "counts = []\n",
    "for i in range(0,20):\n",
    "    shuffled_encode_bed = encode_bed.shuffle(g=assembly_path)\n",
    "    shuffled_encode_bed_df = shuffled_encode_bed.to_dataframe()\n",
    "    compute_centers(shuffled_encode_bed_df)\n",
    "    shuffled_encode_bed_cores_df = shuffled_encode_bed_df.copy()\n",
    "    shuffled_encode_bed_cores_df['start'] = shuffled_encode_bed_cores_df['centered_locus']\n",
    "    shuffled_encode_bed_cores_df['end'] = shuffled_encode_bed_cores_df['centered_locus']\n",
    "    shuffled_encode_bed_cores_all = BedTool().from_dataframe(shuffled_encode_bed_cores_df[['chrom', 'start', 'end', 'name', 'score', 'strand']])\n",
    "    core_null_model_intersection_all = shuffled_encode_bed_cores_all.intersect(repeat_bed)\n",
    "    counts.append(core_null_model_intersection_all.count())"
   ]
  },
  {
   "cell_type": "code",
   "execution_count": 314,
   "metadata": {
    "collapsed": false
   },
   "outputs": [
    {
     "name": "stdout",
     "output_type": "stream",
     "text": [
      "909.9 27.7360775886\n"
     ]
    }
   ],
   "source": [
    "print(np.mean(counts), np.std(counts))"
   ]
  },
  {
   "cell_type": "code",
   "execution_count": 315,
   "metadata": {
    "collapsed": false
   },
   "outputs": [
    {
     "name": "stdout",
     "output_type": "stream",
     "text": [
      "2.34712351781\n"
     ]
    }
   ],
   "source": [
    "z_score =(core_intersection.count() - np.mean(counts))/np.std(counts)\n",
    "print(z_score)"
   ]
  },
  {
   "cell_type": "code",
   "execution_count": 317,
   "metadata": {
    "collapsed": false
   },
   "outputs": [
    {
     "data": {
      "text/plain": [
       "0.0094594909228034735"
      ]
     },
     "execution_count": 317,
     "metadata": {},
     "output_type": "execute_result"
    }
   ],
   "source": [
    "p_values = st.norm.sf(abs(z_score))\n",
    "p_values"
   ]
  },
  {
   "cell_type": "code",
   "execution_count": 428,
   "metadata": {
    "collapsed": true
   },
   "outputs": [],
   "source": [
    "# null model MIR-enhancers\n",
    "shuffled_encode_bed_cores = encode_bed_cores.shuffle(g=assembly_path)\n",
    "core_null_model_intersection = shuffled_encode_bed_cores.intersect(repeat_bed, f=1)"
   ]
  },
  {
   "cell_type": "code",
   "execution_count": 429,
   "metadata": {
    "collapsed": false
   },
   "outputs": [
    {
     "data": {
      "text/plain": [
       "893"
      ]
     },
     "execution_count": 429,
     "metadata": {},
     "output_type": "execute_result"
    }
   ],
   "source": [
    "core_null_model_intersection.sort().merge().count()"
   ]
  },
  {
   "cell_type": "code",
   "execution_count": 329,
   "metadata": {
    "collapsed": false
   },
   "outputs": [],
   "source": [
    "def mean_size(bed):\n",
    "    sample_df = bed.to_dataframe()\n",
    "    sample_df['size'] = sample_df.apply(lambda row: compute_size(row), axis=1)\n",
    "    return int(round(sample_df[['size']].mean()))\n",
    "\n",
    "def build_random_overlap(bed, intervals_size, intervals_num, min_overlap, assembly, df_columns, idx):\n",
    "    empty_bed = BedTool()\n",
    "    random_bed = empty_bed.random(l=intervals_size, n=intervals_num,\n",
    "                                  g=assembly)\n",
    "    row_array = [idx, bed.intersect(random_bed, f=min_overlap).count()]\n",
    "    return pd.DataFrame([row_array], columns=df_columns)\n",
    "\n",
    "def build_shuffled_overlap(bed, bed_overlap_with, min_overlap, assembly, df_columns, idx):\n",
    "    random_bed = bed.shuffle(g=assembly, chrom=False)\n",
    "    row_array = [idx, bed.intersect(random_bed, f=min_overlap).count()]\n",
    "    return pd.DataFrame([row_array], columns=df_columns)\n",
    "\n",
    "def build_shuffled_overlap_cores(bed, bed_overlap_with, min_overlap, assembly, df_columns, idx):\n",
    "    random_bed = bed.shuffle(g=assembly_path, chrom=False)\n",
    "    random_bed_df = random_bed.to_dataframe()\n",
    "    compute_centers(random_bed_df)\n",
    "    random_bed_cores_df = random_bed_df.copy()\n",
    "    random_bed_cores_df['start'] = random_bed_cores_df['centered_locus']\n",
    "    random_bed_cores_df['end'] = random_bed_cores_df['centered_locus']\n",
    "    random_bed_cores = BedTool().from_dataframe(random_bed_cores_df[['chrom', 'start', 'end', 'name', 'score', 'strand']])\n",
    "\n",
    "    row_array = [idx, bed.intersect(random_bed_cores, f=min_overlap).count()]\n",
    "    return pd.DataFrame([row_array], columns=df_columns)\n",
    "\n"
   ]
  },
  {
   "cell_type": "code",
   "execution_count": 279,
   "metadata": {
    "collapsed": true
   },
   "outputs": [],
   "source": [
    "from joblib import Parallel, delayed\n",
    "import multiprocessing\n",
    "\n",
    "def create_random_overlap_distribution_parallelized(bed, bed_overlap_with, assembly, min_overlap, \n",
    "                                                    samples_num,strategy='random', compute_cores=False):\n",
    "    num_cores = multiprocessing.cpu_count()\n",
    "\n",
    "    intervals_size = mean_size(bed_overlap_with)\n",
    "    intervals_num = bed_overlap_with.count()\n",
    "    columns = ['sample_num', 'size']\n",
    "\n",
    "    if strategy == 'shuffle':\n",
    "        if compute_cores == True:\n",
    "            df_list = Parallel(n_jobs=num_cores)(delayed(build_shuffled_overlap_cores)\n",
    "                                             (bed, bed_overlap_with, min_overlap, assembly, columns, i)\n",
    "                                             for i in range(0, samples_num))\n",
    "        else:\n",
    "            df_list = Parallel(n_jobs=num_cores)(delayed(build_shuffled_overlap)\n",
    "                                             (bed, bed_overlap_with, min_overlap, assembly, columns, i)\n",
    "                                             for i in range(0, samples_num))\n",
    "    else:\n",
    "        df_list = Parallel(n_jobs=num_cores)(delayed(build_random_overlap)\n",
    "                                             (bed, intervals_size, intervals_num, min_overlap, assembly, columns, i)\n",
    "                                             for i in range(0, samples_num))\n",
    "    return pd.concat(df_list)"
   ]
  },
  {
   "cell_type": "code",
   "execution_count": 301,
   "metadata": {
    "collapsed": false
   },
   "outputs": [],
   "source": [
    "test_cores_df = create_random_overlap_distribution_parallelized(encode_bed_cores, repeat_bed, assembly_path,\n",
    "                                                         1e-09, 50, 'random', compute_cores=False)"
   ]
  },
  {
   "cell_type": "code",
   "execution_count": 302,
   "metadata": {
    "collapsed": false
   },
   "outputs": [
    {
     "data": {
      "text/plain": [
       "<matplotlib.axes._subplots.AxesSubplot at 0x12338dac8>"
      ]
     },
     "execution_count": 302,
     "metadata": {},
     "output_type": "execute_result"
    },
    {
     "data": {
      "image/png": "[encoded data removed]",
      "text/plain": [
       "<matplotlib.figure.Figure at 0x118a12cc0>"
      ]
     },
     "metadata": {},
     "output_type": "display_data"
    }
   ],
   "source": [
    "import seaborn as sns\n",
    "%matplotlib inline\n",
    "import scipy.stats as st\n",
    "sns.distplot(test_cores_df[['size']], kde=False, fit=st.norm, bins=20)"
   ]
  },
  {
   "cell_type": "code",
   "execution_count": 303,
   "metadata": {
    "collapsed": false
   },
   "outputs": [
    {
     "data": {
      "text/plain": [
       "905.56"
      ]
     },
     "execution_count": 303,
     "metadata": {},
     "output_type": "execute_result"
    }
   ],
   "source": [
    "np.mean(test_cores_df['size'])"
   ]
  },
  {
   "cell_type": "code",
   "execution_count": 304,
   "metadata": {
    "collapsed": false
   },
   "outputs": [
    {
     "name": "stdout",
     "output_type": "stream",
     "text": [
      "2.3952712487831964\n"
     ]
    }
   ],
   "source": [
    "z_score =(core_intersection.count() - np.mean(test_cores_df['size']))/np.std(test_cores_df['size'])\n",
    "print(z_score)"
   ]
  },
  {
   "cell_type": "code",
   "execution_count": 305,
   "metadata": {
    "collapsed": false
   },
   "outputs": [
    {
     "data": {
      "text/plain": [
       "0.0083040368879577896"
      ]
     },
     "execution_count": 305,
     "metadata": {},
     "output_type": "execute_result"
    }
   ],
   "source": [
    "p_values = st.norm.sf(abs(z_score))\n",
    "p_values"
   ]
  },
  {
   "cell_type": "code",
   "execution_count": 153,
   "metadata": {
    "collapsed": false
   },
   "outputs": [],
   "source": [
    "test_df = create_random_overlap_distribution_parallelized(encode_bed_cores, repeat_bed, assembly_path,\n",
    "                                                         1e-09, 1000, 'shuffle')"
   ]
  },
  {
   "cell_type": "code",
   "execution_count": 154,
   "metadata": {
    "collapsed": false
   },
   "outputs": [
    {
     "data": {
      "text/plain": [
       "<matplotlib.axes._subplots.AxesSubplot at 0x122f41cf8>"
      ]
     },
     "execution_count": 154,
     "metadata": {},
     "output_type": "execute_result"
    },
    {
     "data": {
      "image/png": "[encoded data removed]",
      "text/plain": [
       "<matplotlib.figure.Figure at 0x115644978>"
      ]
     },
     "metadata": {},
     "output_type": "display_data"
    }
   ],
   "source": [
    "import seaborn as sns\n",
    "%matplotlib inline\n",
    "import scipy.stats as st\n",
    "sns.distplot(test_df[['size']], kde=False, fit=st.norm, bins=20)"
   ]
  },
  {
   "cell_type": "code",
   "execution_count": 162,
   "metadata": {
    "collapsed": false
   },
   "outputs": [
    {
     "data": {
      "text/plain": [
       "911.917"
      ]
     },
     "execution_count": 162,
     "metadata": {},
     "output_type": "execute_result"
    }
   ],
   "source": [
    "np.mean(test_df['size'])"
   ]
  },
  {
   "cell_type": "code",
   "execution_count": 163,
   "metadata": {
    "collapsed": false
   },
   "outputs": [
    {
     "data": {
      "text/plain": [
       "30.180260287147945"
      ]
     },
     "execution_count": 163,
     "metadata": {},
     "output_type": "execute_result"
    }
   ],
   "source": [
    "np.std(test_df['size'])"
   ]
  },
  {
   "cell_type": "code",
   "execution_count": 295,
   "metadata": {
    "collapsed": false
   },
   "outputs": [
    {
     "name": "stdout",
     "output_type": "stream",
     "text": [
      "2.0902072878033935\n"
     ]
    }
   ],
   "source": [
    "z_score =(core_intersection.count() - np.mean(test_df['size']))/np.std(test_df['size'])\n",
    "print(z_score)"
   ]
  },
  {
   "cell_type": "code",
   "execution_count": 165,
   "metadata": {
    "collapsed": false
   },
   "outputs": [
    {
     "data": {
      "text/plain": [
       "1.959963984540054"
      ]
     },
     "execution_count": 165,
     "metadata": {},
     "output_type": "execute_result"
    }
   ],
   "source": [
    "st.norm.ppf(0.975)"
   ]
  },
  {
   "cell_type": "code",
   "execution_count": 166,
   "metadata": {
    "collapsed": false
   },
   "outputs": [
    {
     "data": {
      "text/plain": [
       "0.98170040841630768"
      ]
     },
     "execution_count": 166,
     "metadata": {},
     "output_type": "execute_result"
    }
   ],
   "source": [
    "import scipy.stats as st\n",
    "st.norm.ppf(.975)\n",
    "st.norm.cdf(z_score)"
   ]
  },
  {
   "cell_type": "code",
   "execution_count": 167,
   "metadata": {
    "collapsed": false
   },
   "outputs": [
    {
     "data": {
      "text/plain": [
       "1.8299591583692321"
      ]
     },
     "execution_count": 167,
     "metadata": {},
     "output_type": "execute_result"
    }
   ],
   "source": [
    "(1- st.norm.cdf(z_score))*100"
   ]
  },
  {
   "cell_type": "code",
   "execution_count": 168,
   "metadata": {
    "collapsed": false
   },
   "outputs": [
    {
     "data": {
      "text/plain": [
       "0.018299591583692331"
      ]
     },
     "execution_count": 168,
     "metadata": {},
     "output_type": "execute_result"
    }
   ],
   "source": [
    "p_values = st.norm.sf(abs(z_score))\n",
    "p_values"
   ]
  },
  {
   "cell_type": "code",
   "execution_count": 169,
   "metadata": {
    "collapsed": false
   },
   "outputs": [
    {
     "data": {
      "text/plain": [
       "Ttest_1sampResult(statistic=array([-66.06510077]), pvalue=array([ 0.]))"
      ]
     },
     "execution_count": 169,
     "metadata": {},
     "output_type": "execute_result"
    }
   ],
   "source": [
    "st.ttest_1samp(a= test_df[['size']], popmean=core_intersection.count())"
   ]
  },
  {
   "cell_type": "code",
   "execution_count": 170,
   "metadata": {
    "collapsed": false
   },
   "outputs": [
    {
     "data": {
      "text/plain": [
       "Ttest_1sampResult(statistic=size    0.0\n",
       "dtype: float64, pvalue=array([ 1.]))"
      ]
     },
     "execution_count": 170,
     "metadata": {},
     "output_type": "execute_result"
    }
   ],
   "source": [
    "st.ttest_1samp(a= test_df[['size']], popmean= np.mean(test_df[['size']]))"
   ]
  },
  {
   "cell_type": "code",
   "execution_count": 171,
   "metadata": {
    "collapsed": false
   },
   "outputs": [],
   "source": [
    "random_sizes = test_df[['size']]\n",
    "random_sizes.reset_index(inplace=True, drop=True)"
   ]
  },
  {
   "cell_type": "code",
   "execution_count": 172,
   "metadata": {
    "collapsed": false
   },
   "outputs": [
    {
     "name": "stdout",
     "output_type": "stream",
     "text": [
      "Test Statistic: [ 5015.70564103]\n",
      "p-value: [ 0.]\n"
     ]
    }
   ],
   "source": [
    "chi2, p = st.chisquare(random_sizes, core_intersection.count() )\n",
    "msg = \"Test Statistic: {}\\np-value: {}\"\n",
    "print( msg.format( chi2, p ) )"
   ]
  },
  {
   "cell_type": "code",
   "execution_count": 173,
   "metadata": {
    "collapsed": false
   },
   "outputs": [
    {
     "data": {
      "text/plain": [
       "<FisherOutput at 4791661456>\n",
       "# Number of query intervals: 33082\n",
       "# Number of db intervals: 593161\n",
       "# Number of overlaps: 975\n",
       "# Number of possible intervals (estimated): 21123880\n",
       "# phyper(975 - 1, 33082, 21123880 - 33082, 593161, lower.tail=F)\n",
       "# Contingency Table Of Counts\n",
       "#_________________________________________\n",
       "#           |  in -b       | not in -b    |\n",
       "#     in -a | 975          | 32107        |\n",
       "# not in -a | 592186       | 20498612     |\n",
       "#_________________________________________\n",
       "# p-values for fisher's exact test\n",
       "left\tright\ttwo-tail\tratio\n",
       "0.93864\t0.065441\t0.12548\t1.051"
      ]
     },
     "execution_count": 173,
     "metadata": {},
     "output_type": "execute_result"
    }
   ],
   "source": [
    "encode_bed_cores.sort().fisher(repeat_bed.sort(), f=1e-09, g=assembly_path)"
   ]
  },
  {
   "cell_type": "code",
   "execution_count": 174,
   "metadata": {
    "collapsed": false
   },
   "outputs": [
    {
     "data": {
      "text/plain": [
       "0.067519672328844149"
      ]
     },
     "execution_count": 174,
     "metadata": {},
     "output_type": "execute_result"
    }
   ],
   "source": [
    "1-st.hypergeom.cdf(975, 21123880 - 33082, 33082, 593161)"
   ]
  },
  {
   "cell_type": "code",
   "execution_count": 411,
   "metadata": {
    "collapsed": false
   },
   "outputs": [
    {
     "data": {
      "text/html": [
       "<div>\n",
       "<table border=\"1\" class=\"dataframe\">\n",
       "  <thead>\n",
       "    <tr style=\"text-align: right;\">\n",
       "      <th></th>\n",
       "      <th>0</th>\n",
       "      <th>1</th>\n",
       "      <th>2</th>\n",
       "      <th>3</th>\n",
       "      <th>4</th>\n",
       "      <th>5</th>\n",
       "      <th>6</th>\n",
       "      <th>7</th>\n",
       "      <th>8</th>\n",
       "      <th>9</th>\n",
       "      <th>...</th>\n",
       "      <th>41</th>\n",
       "      <th>42</th>\n",
       "      <th>43</th>\n",
       "      <th>44</th>\n",
       "      <th>45</th>\n",
       "      <th>46</th>\n",
       "      <th>47</th>\n",
       "      <th>48</th>\n",
       "      <th>49</th>\n",
       "      <th>50</th>\n",
       "    </tr>\n",
       "  </thead>\n",
       "  <tbody>\n",
       "    <tr>\n",
       "      <th>count</th>\n",
       "      <td>642.000</td>\n",
       "      <td>682.000</td>\n",
       "      <td>721.000</td>\n",
       "      <td>750.000</td>\n",
       "      <td>742.000</td>\n",
       "      <td>695.000</td>\n",
       "      <td>685.000</td>\n",
       "      <td>718.000</td>\n",
       "      <td>694.000</td>\n",
       "      <td>676.00</td>\n",
       "      <td>...</td>\n",
       "      <td>641.000</td>\n",
       "      <td>602.000</td>\n",
       "      <td>650.00</td>\n",
       "      <td>606.000</td>\n",
       "      <td>655.00</td>\n",
       "      <td>632.000</td>\n",
       "      <td>652.00</td>\n",
       "      <td>660.00</td>\n",
       "      <td>578.000</td>\n",
       "      <td>3.0</td>\n",
       "    </tr>\n",
       "    <tr>\n",
       "      <th>fraction</th>\n",
       "      <td>0.019</td>\n",
       "      <td>0.021</td>\n",
       "      <td>0.022</td>\n",
       "      <td>0.023</td>\n",
       "      <td>0.022</td>\n",
       "      <td>0.021</td>\n",
       "      <td>0.021</td>\n",
       "      <td>0.022</td>\n",
       "      <td>0.021</td>\n",
       "      <td>0.02</td>\n",
       "      <td>...</td>\n",
       "      <td>0.019</td>\n",
       "      <td>0.018</td>\n",
       "      <td>0.02</td>\n",
       "      <td>0.018</td>\n",
       "      <td>0.02</td>\n",
       "      <td>0.019</td>\n",
       "      <td>0.02</td>\n",
       "      <td>0.02</td>\n",
       "      <td>0.017</td>\n",
       "      <td>0.0</td>\n",
       "    </tr>\n",
       "    <tr>\n",
       "      <th>reldist</th>\n",
       "      <td>0.000</td>\n",
       "      <td>0.010</td>\n",
       "      <td>0.020</td>\n",
       "      <td>0.030</td>\n",
       "      <td>0.040</td>\n",
       "      <td>0.050</td>\n",
       "      <td>0.060</td>\n",
       "      <td>0.070</td>\n",
       "      <td>0.080</td>\n",
       "      <td>0.09</td>\n",
       "      <td>...</td>\n",
       "      <td>0.410</td>\n",
       "      <td>0.420</td>\n",
       "      <td>0.43</td>\n",
       "      <td>0.440</td>\n",
       "      <td>0.45</td>\n",
       "      <td>0.460</td>\n",
       "      <td>0.47</td>\n",
       "      <td>0.48</td>\n",
       "      <td>0.490</td>\n",
       "      <td>0.5</td>\n",
       "    </tr>\n",
       "    <tr>\n",
       "      <th>total</th>\n",
       "      <td>33069.000</td>\n",
       "      <td>33069.000</td>\n",
       "      <td>33069.000</td>\n",
       "      <td>33069.000</td>\n",
       "      <td>33069.000</td>\n",
       "      <td>33069.000</td>\n",
       "      <td>33069.000</td>\n",
       "      <td>33069.000</td>\n",
       "      <td>33069.000</td>\n",
       "      <td>33069.00</td>\n",
       "      <td>...</td>\n",
       "      <td>33069.000</td>\n",
       "      <td>33069.000</td>\n",
       "      <td>33069.00</td>\n",
       "      <td>33069.000</td>\n",
       "      <td>33069.00</td>\n",
       "      <td>33069.000</td>\n",
       "      <td>33069.00</td>\n",
       "      <td>33069.00</td>\n",
       "      <td>33069.000</td>\n",
       "      <td>33069.0</td>\n",
       "    </tr>\n",
       "  </tbody>\n",
       "</table>\n",
       "<p>4 rows × 51 columns</p>\n",
       "</div>"
      ],
      "text/plain": [
       "                 0          1          2          3          4          5   \\\n",
       "count       642.000    682.000    721.000    750.000    742.000    695.000   \n",
       "fraction      0.019      0.021      0.022      0.023      0.022      0.021   \n",
       "reldist       0.000      0.010      0.020      0.030      0.040      0.050   \n",
       "total     33069.000  33069.000  33069.000  33069.000  33069.000  33069.000   \n",
       "\n",
       "                 6          7          8         9    ...            41  \\\n",
       "count       685.000    718.000    694.000    676.00   ...       641.000   \n",
       "fraction      0.021      0.022      0.021      0.02   ...         0.019   \n",
       "reldist       0.060      0.070      0.080      0.09   ...         0.410   \n",
       "total     33069.000  33069.000  33069.000  33069.00   ...     33069.000   \n",
       "\n",
       "                 42        43         44        45         46        47  \\\n",
       "count       602.000    650.00    606.000    655.00    632.000    652.00   \n",
       "fraction      0.018      0.02      0.018      0.02      0.019      0.02   \n",
       "reldist       0.420      0.43      0.440      0.45      0.460      0.47   \n",
       "total     33069.000  33069.00  33069.000  33069.00  33069.000  33069.00   \n",
       "\n",
       "                48         49       50  \n",
       "count       660.00    578.000      3.0  \n",
       "fraction      0.02      0.017      0.0  \n",
       "reldist       0.48      0.490      0.5  \n",
       "total     33069.00  33069.000  33069.0  \n",
       "\n",
       "[4 rows x 51 columns]"
      ]
     },
     "execution_count": 411,
     "metadata": {},
     "output_type": "execute_result"
    }
   ],
   "source": [
    "df_reldist = pd.DataFrame(encode_bed_cores.sort().reldist(repeat_bed.sort()))\n",
    "df_reldist.T"
   ]
  },
  {
   "cell_type": "code",
   "execution_count": 103,
   "metadata": {
    "collapsed": false
   },
   "outputs": [
    {
     "ename": "NameError",
     "evalue": "name 'encode_bed_cores' is not defined",
     "output_type": "error",
     "traceback": [
      "\u001b[0;31m---------------------------------------------------------------------------\u001b[0m",
      "\u001b[0;31mNameError\u001b[0m                                 Traceback (most recent call last)",
      "\u001b[0;32m<ipython-input-103-140dd6882668>\u001b[0m in \u001b[0;36m<module>\u001b[0;34m()\u001b[0m\n\u001b[0;32m----> 1\u001b[0;31m \u001b[0mdf_reldist_random\u001b[0m \u001b[0;34m=\u001b[0m \u001b[0mpd\u001b[0m\u001b[0;34m.\u001b[0m\u001b[0mDataFrame\u001b[0m\u001b[0;34m(\u001b[0m\u001b[0mencode_bed_cores\u001b[0m\u001b[0;34m.\u001b[0m\u001b[0msort\u001b[0m\u001b[0;34m(\u001b[0m\u001b[0;34m)\u001b[0m\u001b[0;34m.\u001b[0m\u001b[0mreldist\u001b[0m\u001b[0;34m(\u001b[0m\u001b[0mrepeat_bed\u001b[0m\u001b[0;34m.\u001b[0m\u001b[0mshuffle\u001b[0m\u001b[0;34m(\u001b[0m\u001b[0mg\u001b[0m\u001b[0;34m=\u001b[0m\u001b[0massembly_path\u001b[0m\u001b[0;34m,\u001b[0m \u001b[0mchrom\u001b[0m\u001b[0;34m=\u001b[0m\u001b[0;32mFalse\u001b[0m\u001b[0;34m)\u001b[0m\u001b[0;34m.\u001b[0m\u001b[0msort\u001b[0m\u001b[0;34m(\u001b[0m\u001b[0;34m)\u001b[0m\u001b[0;34m)\u001b[0m\u001b[0;34m)\u001b[0m\u001b[0;34m\u001b[0m\u001b[0m\n\u001b[0m",
      "\u001b[0;31mNameError\u001b[0m: name 'encode_bed_cores' is not defined"
     ]
    }
   ],
   "source": [
    "df_reldist_random = pd.DataFrame(encode_bed_cores.sort().reldist(repeat_bed.shuffle(g=assembly_path, chrom=False).sort()))"
   ]
  },
  {
   "cell_type": "code",
   "execution_count": 102,
   "metadata": {
    "collapsed": false,
    "scrolled": false
   },
   "outputs": [
    {
     "ename": "NameError",
     "evalue": "name 'df_reldist' is not defined",
     "output_type": "error",
     "traceback": [
      "\u001b[0;31m---------------------------------------------------------------------------\u001b[0m",
      "\u001b[0;31mNameError\u001b[0m                                 Traceback (most recent call last)",
      "\u001b[0;32m<ipython-input-102-1371b3b44c2c>\u001b[0m in \u001b[0;36m<module>\u001b[0;34m()\u001b[0m\n\u001b[1;32m      8\u001b[0m \u001b[0msns\u001b[0m\u001b[0;34m.\u001b[0m\u001b[0mset_context\u001b[0m\u001b[0;34m(\u001b[0m\u001b[0;34m\"poster\"\u001b[0m\u001b[0;34m,\u001b[0m \u001b[0mfont_scale\u001b[0m\u001b[0;34m=\u001b[0m\u001b[0;36m0.6\u001b[0m\u001b[0;34m,\u001b[0m \u001b[0mrc\u001b[0m\u001b[0;34m=\u001b[0m\u001b[0;34m{\u001b[0m\u001b[0;34m\"lines.linewidth\"\u001b[0m\u001b[0;34m:\u001b[0m \u001b[0;36m0.8\u001b[0m\u001b[0;34m}\u001b[0m\u001b[0;34m)\u001b[0m\u001b[0;34m\u001b[0m\u001b[0m\n\u001b[1;32m      9\u001b[0m \u001b[0;34m\u001b[0m\u001b[0m\n\u001b[0;32m---> 10\u001b[0;31m \u001b[0mg1\u001b[0m \u001b[0;34m=\u001b[0m \u001b[0msns\u001b[0m\u001b[0;34m.\u001b[0m\u001b[0mpointplot\u001b[0m\u001b[0;34m(\u001b[0m\u001b[0mx\u001b[0m\u001b[0;34m=\u001b[0m\u001b[0;34m'reldist'\u001b[0m\u001b[0;34m,\u001b[0m \u001b[0my\u001b[0m\u001b[0;34m=\u001b[0m\u001b[0;34m'fraction'\u001b[0m\u001b[0;34m,\u001b[0m \u001b[0mdata\u001b[0m\u001b[0;34m=\u001b[0m\u001b[0mdf_reldist\u001b[0m\u001b[0;34m[\u001b[0m\u001b[0;36m0\u001b[0m\u001b[0;34m:\u001b[0m\u001b[0;36m50\u001b[0m\u001b[0;34m]\u001b[0m\u001b[0;34m,\u001b[0m  \u001b[0mcolor\u001b[0m\u001b[0;34m=\u001b[0m\u001b[0;34m'r'\u001b[0m\u001b[0;34m)\u001b[0m\u001b[0;34m\u001b[0m\u001b[0m\n\u001b[0m\u001b[1;32m     11\u001b[0m \u001b[0mg2\u001b[0m \u001b[0;34m=\u001b[0m \u001b[0msns\u001b[0m\u001b[0;34m.\u001b[0m\u001b[0mpointplot\u001b[0m\u001b[0;34m(\u001b[0m\u001b[0mx\u001b[0m\u001b[0;34m=\u001b[0m\u001b[0;34m'reldist'\u001b[0m\u001b[0;34m,\u001b[0m \u001b[0my\u001b[0m\u001b[0;34m=\u001b[0m\u001b[0;34m'fraction'\u001b[0m\u001b[0;34m,\u001b[0m \u001b[0mdata\u001b[0m\u001b[0;34m=\u001b[0m\u001b[0mdf_reldist_random\u001b[0m\u001b[0;34m[\u001b[0m\u001b[0;36m0\u001b[0m\u001b[0;34m:\u001b[0m\u001b[0;36m50\u001b[0m\u001b[0;34m]\u001b[0m\u001b[0;34m,\u001b[0m \u001b[0mcolor\u001b[0m\u001b[0;34m=\u001b[0m\u001b[0;34m'b'\u001b[0m\u001b[0;34m)\u001b[0m\u001b[0;34m\u001b[0m\u001b[0m\n\u001b[1;32m     12\u001b[0m \u001b[0;34m\u001b[0m\u001b[0m\n",
      "\u001b[0;31mNameError\u001b[0m: name 'df_reldist' is not defined"
     ]
    }
   ],
   "source": [
    "import numpy as np\n",
    "import seaborn as sns\n",
    "#import matplotlib.pyplot as plt\n",
    "%matplotlib inline\n",
    "\n",
    "#sns.set(style=\"white\", palette=\"muted\", color_codes=True)\n",
    "sns.set(style=\"ticks\", palette=\"muted\", color_codes=True)\n",
    "sns.set_context(\"poster\", font_scale=0.6, rc={\"lines.linewidth\": 0.8})\n",
    "\n",
    "g1 = sns.pointplot(x='reldist', y='fraction', data=df_reldist[0:50],  color='r')\n",
    "g2 = sns.pointplot(x='reldist', y='fraction', data=df_reldist_random[0:50], color='b')\n",
    "\n",
    "sns.despine(offset=10, trim=True)\n",
    "#plot.set_yscale(\"log\")\n",
    "#df_reldist[['reldist','fraction']].plot()\n",
    "for ind, label in enumerate(g1.get_xticklabels()):\n",
    "    if ind % 10 == 0:  # every 10th label is kept\n",
    "        label.set_visible(True)\n",
    "    else:\n",
    "        label.set_visible(False)"
   ]
  },
  {
   "cell_type": "markdown",
   "metadata": {},
   "source": [
    "## Enhancer-MIRs: MIRs in a +/- 4 kbp window around enhancer's core "
   ]
  },
  {
   "cell_type": "code",
   "execution_count": 328,
   "metadata": {
    "collapsed": false
   },
   "outputs": [],
   "source": [
    "encode_bed_df = encode_bed.to_dataframe()\n",
    "encode_bed_df['size'] = encode_bed_df.apply(lambda row: compute_size(row), axis=1)"
   ]
  },
  {
   "cell_type": "code",
   "execution_count": 329,
   "metadata": {
    "collapsed": false
   },
   "outputs": [
    {
     "data": {
      "text/plain": [
       "True"
      ]
     },
     "execution_count": 329,
     "metadata": {},
     "output_type": "execute_result"
    }
   ],
   "source": [
    "encode_bed_df['size'].quantile(0.5) == encode_bed_df['size'].median()"
   ]
  },
  {
   "cell_type": "code",
   "execution_count": 330,
   "metadata": {
    "collapsed": false
   },
   "outputs": [
    {
     "data": {
      "text/plain": [
       "1457.432952511683"
      ]
     },
     "execution_count": 330,
     "metadata": {},
     "output_type": "execute_result"
    }
   ],
   "source": [
    "encode_bed_df['size'].std()"
   ]
  },
  {
   "cell_type": "code",
   "execution_count": 331,
   "metadata": {
    "collapsed": false
   },
   "outputs": [
    {
     "name": "stderr",
     "output_type": "stream",
     "text": [
      "/Users/manuel/anaconda/lib/python3.5/site-packages/statsmodels/nonparametric/kdetools.py:20: VisibleDeprecationWarning: using a non-integer number instead of an integer will result in an error in the future\n",
      "  y = X[:m/2+1] + np.r_[0,X[m/2+1:],0]*1j\n"
     ]
    },
    {
     "data": {
      "text/plain": [
       "<matplotlib.axes._subplots.AxesSubplot at 0x11d259e80>"
      ]
     },
     "execution_count": 331,
     "metadata": {},
     "output_type": "execute_result"
    },
    {
     "data": {
      "image/png": "[encoded data removed]",
      "text/plain": [
       "<matplotlib.figure.Figure at 0x1205ade48>"
      ]
     },
     "metadata": {},
     "output_type": "display_data"
    }
   ],
   "source": [
    "import seaborn as sns\n",
    "%matplotlib inline\n",
    "import scipy.stats as st\n",
    "sns.distplot(encode_bed_df[['size']], kde=True)"
   ]
  },
  {
   "cell_type": "code",
   "execution_count": 332,
   "metadata": {
    "collapsed": false
   },
   "outputs": [
    {
     "data": {
      "text/plain": [
       "971.0"
      ]
     },
     "execution_count": 332,
     "metadata": {},
     "output_type": "execute_result"
    }
   ],
   "source": [
    "np.percentile(encode_bed_df[['size']], 50)"
   ]
  },
  {
   "cell_type": "code",
   "execution_count": 333,
   "metadata": {
    "collapsed": false
   },
   "outputs": [
    {
     "data": {
      "text/plain": [
       "array([ 0. ,  0.1,  0.2,  0.3,  0.4,  0.5,  0.6,  0.7,  0.8,  0.9])"
      ]
     },
     "execution_count": 333,
     "metadata": {},
     "output_type": "execute_result"
    }
   ],
   "source": [
    "np.arange(0, 1, 0.1)"
   ]
  },
  {
   "cell_type": "code",
   "execution_count": 334,
   "metadata": {
    "collapsed": false
   },
   "outputs": [
    {
     "data": {
      "text/html": [
       "<div>\n",
       "<table border=\"1\" class=\"dataframe\">\n",
       "  <thead>\n",
       "    <tr style=\"text-align: right;\">\n",
       "      <th></th>\n",
       "      <th>size</th>\n",
       "    </tr>\n",
       "  </thead>\n",
       "  <tbody>\n",
       "    <tr>\n",
       "      <th>0.0</th>\n",
       "      <td>170.0</td>\n",
       "    </tr>\n",
       "    <tr>\n",
       "      <th>0.1</th>\n",
       "      <td>251.0</td>\n",
       "    </tr>\n",
       "    <tr>\n",
       "      <th>0.2</th>\n",
       "      <td>337.0</td>\n",
       "    </tr>\n",
       "    <tr>\n",
       "      <th>0.3</th>\n",
       "      <td>459.0</td>\n",
       "    </tr>\n",
       "    <tr>\n",
       "      <th>0.4</th>\n",
       "      <td>675.0</td>\n",
       "    </tr>\n",
       "    <tr>\n",
       "      <th>0.5</th>\n",
       "      <td>971.0</td>\n",
       "    </tr>\n",
       "    <tr>\n",
       "      <th>0.6</th>\n",
       "      <td>1313.0</td>\n",
       "    </tr>\n",
       "    <tr>\n",
       "      <th>0.7</th>\n",
       "      <td>1721.0</td>\n",
       "    </tr>\n",
       "    <tr>\n",
       "      <th>0.8</th>\n",
       "      <td>2229.0</td>\n",
       "    </tr>\n",
       "    <tr>\n",
       "      <th>0.9</th>\n",
       "      <td>3123.0</td>\n",
       "    </tr>\n",
       "  </tbody>\n",
       "</table>\n",
       "</div>"
      ],
      "text/plain": [
       "       size\n",
       "0.0   170.0\n",
       "0.1   251.0\n",
       "0.2   337.0\n",
       "0.3   459.0\n",
       "0.4   675.0\n",
       "0.5   971.0\n",
       "0.6  1313.0\n",
       "0.7  1721.0\n",
       "0.8  2229.0\n",
       "0.9  3123.0"
      ]
     },
     "execution_count": 334,
     "metadata": {},
     "output_type": "execute_result"
    }
   ],
   "source": [
    "encode_bed_df[['size']].quantile(np.arange(0,1,0.1))"
   ]
  },
  {
   "cell_type": "code",
   "execution_count": 335,
   "metadata": {
    "collapsed": false
   },
   "outputs": [],
   "source": [
    "# what if using percentiles in considering enhancer regions? Eg: b=170/2, 251/2, ..., 3123/2\n",
    "#encode_bed_slop = encode_bed_cores.slop(genome='hg19', b=int(round(3123/2)))"
   ]
  },
  {
   "cell_type": "code",
   "execution_count": 336,
   "metadata": {
    "collapsed": true
   },
   "outputs": [],
   "source": [
    "#compute \"enhancers regions\" as +/- 4kb from enhancer cores\n",
    "encode_bed_slop = encode_bed_cores.slop(g=assembly_path, b=4000)"
   ]
  },
  {
   "cell_type": "code",
   "execution_count": 337,
   "metadata": {
    "collapsed": false
   },
   "outputs": [
    {
     "name": "stdout",
     "output_type": "stream",
     "text": [
      "chr1\t118595\t118595\tDistal-Prediction-10810\t1\t.\n",
      " chr1\t138794\t138794\tProximal-Prediction-8451\t1\t.\n",
      " chr1\t229554\t229554\tProximal-Prediction-13463\t1\t.\n",
      " chr1\t235802\t235802\tProximal-Prediction-6494\t1\t.\n",
      " chr1\t713934\t713934\tProximal-Prediction-2259\t1\t.\n",
      " chr1\t761154\t761154\tProximal-Prediction-9261\t1\t.\n",
      " chr1\t762601\t762601\tProximal-Prediction-1564\t1\t.\n",
      " chr1\t765589\t765589\tProximal-Prediction-15111\t1\t.\n",
      " chr1\t840032\t840032\tProximal-Prediction-13579\t1\t.\n",
      " chr1\t894288\t894288\tProximal-Prediction-8969\t1\t.\n",
      " "
     ]
    }
   ],
   "source": [
    "encode_bed_cores.sort().head()"
   ]
  },
  {
   "cell_type": "code",
   "execution_count": 338,
   "metadata": {
    "collapsed": false
   },
   "outputs": [
    {
     "name": "stdout",
     "output_type": "stream",
     "text": [
      "chr1\t114595\t122595\tDistal-Prediction-10810\t1\t.\n",
      " chr1\t134794\t142794\tProximal-Prediction-8451\t1\t.\n",
      " chr1\t225554\t233554\tProximal-Prediction-13463\t1\t.\n",
      " chr1\t231802\t239802\tProximal-Prediction-6494\t1\t.\n",
      " chr1\t709934\t717934\tProximal-Prediction-2259\t1\t.\n",
      " chr1\t757154\t765154\tProximal-Prediction-9261\t1\t.\n",
      " chr1\t758601\t766601\tProximal-Prediction-1564\t1\t.\n",
      " chr1\t761589\t769589\tProximal-Prediction-15111\t1\t.\n",
      " chr1\t836032\t844032\tProximal-Prediction-13579\t1\t.\n",
      " chr1\t890288\t898288\tProximal-Prediction-8969\t1\t.\n",
      " "
     ]
    }
   ],
   "source": [
    "encode_bed_slop.sort().head()"
   ]
  },
  {
   "cell_type": "code",
   "execution_count": 339,
   "metadata": {
    "collapsed": false
   },
   "outputs": [
    {
     "data": {
      "text/plain": [
       "33082"
      ]
     },
     "execution_count": 339,
     "metadata": {},
     "output_type": "execute_result"
    }
   ],
   "source": [
    "encode_bed_slop.count()"
   ]
  },
  {
   "cell_type": "code",
   "execution_count": 340,
   "metadata": {
    "collapsed": true
   },
   "outputs": [],
   "source": [
    "#enhancer-MIRs: MIR in +/- 4kb from the core of an enhancer \n",
    "#(asking the full MIR to be overlapped by an enhancer region)\n",
    "region_intersection = repeat_bed.intersect(encode_bed_slop, f=1)"
   ]
  },
  {
   "cell_type": "code",
   "execution_count": 341,
   "metadata": {
    "collapsed": false
   },
   "outputs": [
    {
     "data": {
      "text/plain": [
       "66741"
      ]
     },
     "execution_count": 341,
     "metadata": {},
     "output_type": "execute_result"
    }
   ],
   "source": [
    "region_intersection.count()"
   ]
  },
  {
   "cell_type": "code",
   "execution_count": 342,
   "metadata": {
    "collapsed": false
   },
   "outputs": [],
   "source": [
    "# null model enhancers-MIRs\n",
    "shuffled_repeat = repeat_bed.shuffle(g=assembly_path)"
   ]
  },
  {
   "cell_type": "code",
   "execution_count": 343,
   "metadata": {
    "collapsed": false
   },
   "outputs": [
    {
     "data": {
      "text/plain": [
       "True"
      ]
     },
     "execution_count": 343,
     "metadata": {},
     "output_type": "execute_result"
    }
   ],
   "source": [
    "shuffled_repeat.count() == repeat_bed.count()"
   ]
  },
  {
   "cell_type": "code",
   "execution_count": 344,
   "metadata": {
    "collapsed": true
   },
   "outputs": [],
   "source": [
    "null_model_intersection = shuffled_repeat.intersect(encode_bed_slop, f=1)"
   ]
  },
  {
   "cell_type": "code",
   "execution_count": 345,
   "metadata": {
    "collapsed": false
   },
   "outputs": [
    {
     "data": {
      "text/plain": [
       "49997"
      ]
     },
     "execution_count": 345,
     "metadata": {},
     "output_type": "execute_result"
    }
   ],
   "source": [
    "null_model_intersection.count()"
   ]
  },
  {
   "cell_type": "code",
   "execution_count": 346,
   "metadata": {
    "collapsed": true
   },
   "outputs": [],
   "source": [
    "test_df2 = create_random_overlap_distribution_parallelized(repeat_bed, encode_bed_slop, assembly_path,\n",
    "                                                         1, 100)\n"
   ]
  },
  {
   "cell_type": "code",
   "execution_count": 347,
   "metadata": {
    "collapsed": false
   },
   "outputs": [
    {
     "data": {
      "text/plain": [
       "<matplotlib.axes._subplots.AxesSubplot at 0x12422b780>"
      ]
     },
     "execution_count": 347,
     "metadata": {},
     "output_type": "execute_result"
    },
    {
     "data": {
      "image/png": "[encoded data removed]",
      "text/plain": [
       "<matplotlib.figure.Figure at 0x12030c160>"
      ]
     },
     "metadata": {},
     "output_type": "display_data"
    }
   ],
   "source": [
    "import seaborn as sns\n",
    "%matplotlib inline\n",
    "import scipy.stats as st\n",
    "sns.distplot(test_df2[['size']], kde=False, fit=st.norm, bins=10)"
   ]
  },
  {
   "cell_type": "code",
   "execution_count": 348,
   "metadata": {
    "collapsed": false
   },
   "outputs": [
    {
     "name": "stdout",
     "output_type": "stream",
     "text": [
      "53.90746785998093\n"
     ]
    }
   ],
   "source": [
    "z_score =(region_intersection.count() - np.mean(test_df2['size']))/np.std(test_df2['size'])\n",
    "print(z_score)"
   ]
  },
  {
   "cell_type": "code",
   "execution_count": 349,
   "metadata": {
    "collapsed": false
   },
   "outputs": [
    {
     "data": {
      "text/plain": [
       "1.0"
      ]
     },
     "execution_count": 349,
     "metadata": {},
     "output_type": "execute_result"
    }
   ],
   "source": [
    "import scipy.stats as st\n",
    "st.norm.ppf(.95)\n",
    "st.norm.cdf(z_score)"
   ]
  },
  {
   "cell_type": "code",
   "execution_count": 350,
   "metadata": {
    "collapsed": false
   },
   "outputs": [
    {
     "data": {
      "text/plain": [
       "0.0"
      ]
     },
     "execution_count": 350,
     "metadata": {},
     "output_type": "execute_result"
    }
   ],
   "source": [
    "p_values = st.norm.sf(abs(z_score))\n",
    "p_values"
   ]
  },
  {
   "cell_type": "code",
   "execution_count": 351,
   "metadata": {
    "collapsed": false
   },
   "outputs": [
    {
     "data": {
      "text/plain": [
       "Ttest_1sampResult(statistic=array([-536.37253287]), pvalue=array([  2.90040295e-173]))"
      ]
     },
     "execution_count": 351,
     "metadata": {},
     "output_type": "execute_result"
    }
   ],
   "source": [
    "st.ttest_1samp(a= test_df2[['size']], popmean= region_intersection.count())"
   ]
  },
  {
   "cell_type": "code",
   "execution_count": 352,
   "metadata": {
    "collapsed": false
   },
   "outputs": [
    {
     "name": "stdout",
     "output_type": "stream",
     "text": [
      "Test Statistic: [ 426664.7422424]\n",
      "p-value: [ 0.]\n"
     ]
    }
   ],
   "source": [
    "chi2, p = st.chisquare( test_df2[['size']],region_intersection.count() )\n",
    "msg = \"Test Statistic: {}\\np-value: {}\"\n",
    "print( msg.format( chi2, p ) )"
   ]
  },
  {
   "cell_type": "code",
   "execution_count": 354,
   "metadata": {
    "collapsed": false
   },
   "outputs": [
    {
     "data": {
      "text/plain": [
       "<FisherOutput at 4756713368>\n",
       "# Number of query intervals: 594372\n",
       "# Number of db intervals: 33082\n",
       "# Number of overlaps: 66741\n",
       "# Number of possible intervals (estimated): 594372\n",
       "# phyper(66741 - 1, 594372, 594372 - 594372, 33082, lower.tail=F)\n",
       "# Contingency Table Of Counts\n",
       "#_________________________________________\n",
       "#           |  in -b       | not in -b    |\n",
       "#     in -a | 66741        | 527631       |\n",
       "# not in -a | 0            | 0            |\n",
       "#_________________________________________\n",
       "# p-values for fisher's exact test\n",
       "left\tright\ttwo-tail\tratio\n",
       "1\t1\t1\tnan"
      ]
     },
     "execution_count": 354,
     "metadata": {},
     "output_type": "execute_result"
    }
   ],
   "source": [
    "repeat_bed.sort().fisher(encode_bed_slop.sort(), f=1, g=assembly_path)"
   ]
  },
  {
   "cell_type": "code",
   "execution_count": 355,
   "metadata": {
    "collapsed": false
   },
   "outputs": [
    {
     "data": {
      "text/plain": [
       "0.0"
      ]
     },
     "execution_count": 355,
     "metadata": {},
     "output_type": "execute_result"
    }
   ],
   "source": [
    "#pvalue <- 1-phyper(45, 92, 7518, 1329)\n",
    "#pvalue = 1-stats.hypergeom.cdf(45, 7518, 92. 1329)\n",
    "1-st.hypergeom.cdf(66741, 0, 594732, 33082)"
   ]
  },
  {
   "cell_type": "code",
   "execution_count": 356,
   "metadata": {
    "collapsed": false
   },
   "outputs": [
    {
     "data": {
      "text/html": [
       "<div>\n",
       "<table border=\"1\" class=\"dataframe\">\n",
       "  <thead>\n",
       "    <tr style=\"text-align: right;\">\n",
       "      <th></th>\n",
       "      <th>0</th>\n",
       "      <th>1</th>\n",
       "      <th>2</th>\n",
       "      <th>3</th>\n",
       "      <th>4</th>\n",
       "      <th>5</th>\n",
       "      <th>6</th>\n",
       "      <th>7</th>\n",
       "      <th>8</th>\n",
       "      <th>9</th>\n",
       "      <th>...</th>\n",
       "      <th>41</th>\n",
       "      <th>42</th>\n",
       "      <th>43</th>\n",
       "      <th>44</th>\n",
       "      <th>45</th>\n",
       "      <th>46</th>\n",
       "      <th>47</th>\n",
       "      <th>48</th>\n",
       "      <th>49</th>\n",
       "      <th>50</th>\n",
       "    </tr>\n",
       "  </thead>\n",
       "  <tbody>\n",
       "    <tr>\n",
       "      <th>count</th>\n",
       "      <td>642.000</td>\n",
       "      <td>682.000</td>\n",
       "      <td>721.000</td>\n",
       "      <td>750.000</td>\n",
       "      <td>742.000</td>\n",
       "      <td>695.000</td>\n",
       "      <td>685.000</td>\n",
       "      <td>718.000</td>\n",
       "      <td>694.000</td>\n",
       "      <td>676.00</td>\n",
       "      <td>...</td>\n",
       "      <td>641.000</td>\n",
       "      <td>602.000</td>\n",
       "      <td>650.00</td>\n",
       "      <td>606.000</td>\n",
       "      <td>655.00</td>\n",
       "      <td>632.000</td>\n",
       "      <td>652.00</td>\n",
       "      <td>660.00</td>\n",
       "      <td>578.000</td>\n",
       "      <td>3.0</td>\n",
       "    </tr>\n",
       "    <tr>\n",
       "      <th>fraction</th>\n",
       "      <td>0.019</td>\n",
       "      <td>0.021</td>\n",
       "      <td>0.022</td>\n",
       "      <td>0.023</td>\n",
       "      <td>0.022</td>\n",
       "      <td>0.021</td>\n",
       "      <td>0.021</td>\n",
       "      <td>0.022</td>\n",
       "      <td>0.021</td>\n",
       "      <td>0.02</td>\n",
       "      <td>...</td>\n",
       "      <td>0.019</td>\n",
       "      <td>0.018</td>\n",
       "      <td>0.02</td>\n",
       "      <td>0.018</td>\n",
       "      <td>0.02</td>\n",
       "      <td>0.019</td>\n",
       "      <td>0.02</td>\n",
       "      <td>0.02</td>\n",
       "      <td>0.017</td>\n",
       "      <td>0.0</td>\n",
       "    </tr>\n",
       "    <tr>\n",
       "      <th>reldist</th>\n",
       "      <td>0.000</td>\n",
       "      <td>0.010</td>\n",
       "      <td>0.020</td>\n",
       "      <td>0.030</td>\n",
       "      <td>0.040</td>\n",
       "      <td>0.050</td>\n",
       "      <td>0.060</td>\n",
       "      <td>0.070</td>\n",
       "      <td>0.080</td>\n",
       "      <td>0.09</td>\n",
       "      <td>...</td>\n",
       "      <td>0.410</td>\n",
       "      <td>0.420</td>\n",
       "      <td>0.43</td>\n",
       "      <td>0.440</td>\n",
       "      <td>0.45</td>\n",
       "      <td>0.460</td>\n",
       "      <td>0.47</td>\n",
       "      <td>0.48</td>\n",
       "      <td>0.490</td>\n",
       "      <td>0.5</td>\n",
       "    </tr>\n",
       "    <tr>\n",
       "      <th>total</th>\n",
       "      <td>33069.000</td>\n",
       "      <td>33069.000</td>\n",
       "      <td>33069.000</td>\n",
       "      <td>33069.000</td>\n",
       "      <td>33069.000</td>\n",
       "      <td>33069.000</td>\n",
       "      <td>33069.000</td>\n",
       "      <td>33069.000</td>\n",
       "      <td>33069.000</td>\n",
       "      <td>33069.00</td>\n",
       "      <td>...</td>\n",
       "      <td>33069.000</td>\n",
       "      <td>33069.000</td>\n",
       "      <td>33069.00</td>\n",
       "      <td>33069.000</td>\n",
       "      <td>33069.00</td>\n",
       "      <td>33069.000</td>\n",
       "      <td>33069.00</td>\n",
       "      <td>33069.00</td>\n",
       "      <td>33069.000</td>\n",
       "      <td>33069.0</td>\n",
       "    </tr>\n",
       "  </tbody>\n",
       "</table>\n",
       "<p>4 rows × 51 columns</p>\n",
       "</div>"
      ],
      "text/plain": [
       "                 0          1          2          3          4          5   \\\n",
       "count       642.000    682.000    721.000    750.000    742.000    695.000   \n",
       "fraction      0.019      0.021      0.022      0.023      0.022      0.021   \n",
       "reldist       0.000      0.010      0.020      0.030      0.040      0.050   \n",
       "total     33069.000  33069.000  33069.000  33069.000  33069.000  33069.000   \n",
       "\n",
       "                 6          7          8         9    ...            41  \\\n",
       "count       685.000    718.000    694.000    676.00   ...       641.000   \n",
       "fraction      0.021      0.022      0.021      0.02   ...         0.019   \n",
       "reldist       0.060      0.070      0.080      0.09   ...         0.410   \n",
       "total     33069.000  33069.000  33069.000  33069.00   ...     33069.000   \n",
       "\n",
       "                 42        43         44        45         46        47  \\\n",
       "count       602.000    650.00    606.000    655.00    632.000    652.00   \n",
       "fraction      0.018      0.02      0.018      0.02      0.019      0.02   \n",
       "reldist       0.420      0.43      0.440      0.45      0.460      0.47   \n",
       "total     33069.000  33069.00  33069.000  33069.00  33069.000  33069.00   \n",
       "\n",
       "                48         49       50  \n",
       "count       660.00    578.000      3.0  \n",
       "fraction      0.02      0.017      0.0  \n",
       "reldist       0.48      0.490      0.5  \n",
       "total     33069.00  33069.000  33069.0  \n",
       "\n",
       "[4 rows x 51 columns]"
      ]
     },
     "execution_count": 356,
     "metadata": {},
     "output_type": "execute_result"
    }
   ],
   "source": [
    "df_reldist = pd.DataFrame(encode_bed_slop.sort().reldist(repeat_bed.sort()))\n",
    "df_reldist.T"
   ]
  },
  {
   "cell_type": "code",
   "execution_count": 357,
   "metadata": {
    "collapsed": true
   },
   "outputs": [],
   "source": [
    "df_reldist_random = pd.DataFrame(encode_bed_slop.sort().reldist(repeat_bed.sort().shuffle(g=assembly_path, chrom=False).sort()))"
   ]
  },
  {
   "cell_type": "code",
   "execution_count": 358,
   "metadata": {
    "collapsed": false,
    "scrolled": false
   },
   "outputs": [
    {
     "data": {
      "image/png": "[encoded data removed]",
      "text/plain": [
       "<matplotlib.figure.Figure at 0x11d28df60>"
      ]
     },
     "metadata": {},
     "output_type": "display_data"
    }
   ],
   "source": [
    "import numpy as np\n",
    "import seaborn as sns\n",
    "#import matplotlib.pyplot as plt\n",
    "%matplotlib inline\n",
    "\n",
    "#sns.set(style=\"white\", palette=\"muted\", color_codes=True)\n",
    "sns.set(style=\"ticks\", palette=\"muted\", color_codes=True)\n",
    "sns.set_context(\"poster\", font_scale=0.6, rc={\"lines.linewidth\": 0.8})\n",
    "\n",
    "g1 = sns.pointplot(x='reldist', y='fraction', data=df_reldist[0:50],  color='r')\n",
    "g2 = sns.pointplot(x='reldist', y='fraction', data=df_reldist_random[0:50], color='b')\n",
    "\n",
    "sns.despine(offset=10, trim=True)\n",
    "#plot.set_yscale(\"log\")\n",
    "#df_reldist[['reldist','fraction']].plot()\n",
    "for ind, label in enumerate(g1.get_xticklabels()):\n",
    "    if ind % 10 == 0:  # every 10th label is kept\n",
    "        label.set_visible(True)\n",
    "    else:\n",
    "        label.set_visible(False)"
   ]
  },
  {
   "cell_type": "markdown",
   "metadata": {},
   "source": [
    "## Densities"
   ]
  },
  {
   "cell_type": "code",
   "execution_count": 483,
   "metadata": {
    "collapsed": false
   },
   "outputs": [],
   "source": [
    "# density\n",
    "# assuming expected number of MIR-enhancers as\n",
    "# average genome-wide density of enhancers (enhancers/bp) * total bp length of all MIRs\n",
    "\n",
    "def compute_expected_number(name1_bed_df, name2_bed_df, name1, name2):\n",
    "    genome_size = 3095677412 \n",
    "    #enhancers_bed_df['size'] = enhancers_bed_df['end'] - enhancers_bed_df['start']\n",
    "    name1_density = len(name1_bed_df) /  genome_size\n",
    "    name2_bed_df['size'] = name2_bed_df['end'] - name2_bed_df['start']\n",
    "    name2_len = name2_bed_df['size'].sum()\n",
    "    print(name1, 'density =', name1_density, '(num of intervals)/(genome bp)')\n",
    "    print(name2,'length =', name2_len, 'bp')\n",
    "    print('Expected number of', name2, name1, '=', int(round(name1_density * name2_len)))"
   ]
  },
  {
   "cell_type": "code",
   "execution_count": 403,
   "metadata": {
    "collapsed": false
   },
   "outputs": [
    {
     "name": "stdout",
     "output_type": "stream",
     "text": [
      "K562 enhancers density = 1.068651399908848e-05 (num of intervals)/(genome bp)\n",
      "Sine/MIR length = 84720992 bp\n",
      "Expected number of Sine/MIR K562 enhancers = 905\n"
     ]
    }
   ],
   "source": [
    "compute_expected_number(encode_bed_df, repeat_bed_df, 'K562 enhancers', 'Sine/MIR')"
   ]
  },
  {
   "cell_type": "code",
   "execution_count": 404,
   "metadata": {
    "collapsed": true
   },
   "outputs": [],
   "source": [
    "def infer_TSS_proximity(row):\n",
    "    description = row['name']\n",
    "    if 'Distal' in description:\n",
    "        return 'Distal'\n",
    "    if 'Proximal' in description:\n",
    "        return 'Proximal'"
   ]
  },
  {
   "cell_type": "code",
   "execution_count": 405,
   "metadata": {
    "collapsed": false
   },
   "outputs": [],
   "source": [
    "encode_bed_df['TSS_proximity'] = encode_bed_df.apply(lambda r: infer_TSS_proximity(r), axis=1)"
   ]
  },
  {
   "cell_type": "code",
   "execution_count": 406,
   "metadata": {
    "collapsed": false
   },
   "outputs": [],
   "source": [
    "proximal_df = encode_bed_df.query(\"TSS_proximity == 'Proximal'\")\n",
    "distal_df = encode_bed_df.query(\"TSS_proximity == 'Distal'\")"
   ]
  },
  {
   "cell_type": "code",
   "execution_count": 407,
   "metadata": {
    "collapsed": false
   },
   "outputs": [
    {
     "data": {
      "text/plain": [
       "17249"
      ]
     },
     "execution_count": 407,
     "metadata": {},
     "output_type": "execute_result"
    }
   ],
   "source": [
    "len(distal_df)"
   ]
  },
  {
   "cell_type": "code",
   "execution_count": 408,
   "metadata": {
    "collapsed": false
   },
   "outputs": [
    {
     "data": {
      "text/plain": [
       "15833"
      ]
     },
     "execution_count": 408,
     "metadata": {},
     "output_type": "execute_result"
    }
   ],
   "source": [
    "len(proximal_df)"
   ]
  },
  {
   "cell_type": "code",
   "execution_count": 409,
   "metadata": {
    "collapsed": false
   },
   "outputs": [
    {
     "name": "stdout",
     "output_type": "stream",
     "text": [
      "Distal enhancers density = 5.571963000129291e-06 (num of intervals)/(genome bp)\n",
      "Sine/MIR length = 84720992 bp\n",
      "Expected number of Sine/MIR Distal enhancers = 472\n"
     ]
    }
   ],
   "source": [
    "compute_expected_number(distal_df, repeat_bed_df, \"Distal enhancers\", \"Sine/MIR\")"
   ]
  },
  {
   "cell_type": "code",
   "execution_count": 410,
   "metadata": {
    "collapsed": false
   },
   "outputs": [
    {
     "name": "stdout",
     "output_type": "stream",
     "text": [
      "Proximal enhancers density = 5.11455099895919e-06 (num of intervals)/(genome bp)\n",
      "Sine/MIR length = 84720992 bp\n",
      "Expected number of Sine/MIR Proximal enhancers = 433\n"
     ]
    }
   ],
   "source": [
    "compute_expected_number(proximal_df, repeat_bed_df, \"Proximal enhancers\", \"Sine/MIR\")"
   ]
  },
  {
   "cell_type": "code",
   "execution_count": 411,
   "metadata": {
    "collapsed": true
   },
   "outputs": [],
   "source": [
    "genes_bed = BedTool(\"../download/genome/knownGene_hg19.bed\")"
   ]
  },
  {
   "cell_type": "code",
   "execution_count": 412,
   "metadata": {
    "collapsed": false
   },
   "outputs": [
    {
     "data": {
      "text/plain": [
       "82960"
      ]
     },
     "execution_count": 412,
     "metadata": {},
     "output_type": "execute_result"
    }
   ],
   "source": [
    "genes_bed.count()"
   ]
  },
  {
   "cell_type": "code",
   "execution_count": 413,
   "metadata": {
    "collapsed": false
   },
   "outputs": [],
   "source": [
    "genes_bed_df = genes_bed.to_dataframe()"
   ]
  },
  {
   "cell_type": "code",
   "execution_count": 414,
   "metadata": {
    "collapsed": true
   },
   "outputs": [],
   "source": [
    "chrom_list = ['chr1', 'chr2', 'chr3', 'chr4', 'chr5', 'chr6', 'chr7', 'chrX',\n",
    "              'chr8', 'chr9', 'chr10', 'chr11', 'chr12', 'chr13', 'chr14',\n",
    "              'chr15', 'chr16', 'chr17', 'chr18', 'chr20', 'chrY', 'chr19',\n",
    "              'chr22', 'chr21']\n",
    "\n",
    "genes_bed_df = genes_bed_df.query(\"chrom in @chrom_list\")"
   ]
  },
  {
   "cell_type": "code",
   "execution_count": 415,
   "metadata": {
    "collapsed": false
   },
   "outputs": [
    {
     "data": {
      "text/plain": [
       "array(['chr1', 'chr2', 'chr3', 'chr4', 'chr5', 'chr6', 'chr7', 'chr8',\n",
       "       'chr9', 'chrX', 'chrY', 'chr10', 'chr11', 'chr12', 'chr13', 'chr14',\n",
       "       'chr15', 'chr16', 'chr17', 'chr18', 'chr19', 'chr20', 'chr21',\n",
       "       'chr22'], dtype=object)"
      ]
     },
     "execution_count": 415,
     "metadata": {},
     "output_type": "execute_result"
    }
   ],
   "source": [
    "genes_bed_df['chrom'].unique()"
   ]
  },
  {
   "cell_type": "code",
   "execution_count": 416,
   "metadata": {
    "collapsed": true
   },
   "outputs": [],
   "source": [
    "genes_bed = BedTool().from_dataframe(genes_bed_df)"
   ]
  },
  {
   "cell_type": "code",
   "execution_count": 417,
   "metadata": {
    "collapsed": false
   },
   "outputs": [
    {
     "data": {
      "text/plain": [
       "78807"
      ]
     },
     "execution_count": 417,
     "metadata": {},
     "output_type": "execute_result"
    }
   ],
   "source": [
    "genes_bed.count()"
   ]
  },
  {
   "cell_type": "code",
   "execution_count": 418,
   "metadata": {
    "collapsed": false
   },
   "outputs": [
    {
     "name": "stdout",
     "output_type": "stream",
     "text": [
      "Genes density = 2.5457109870206334e-05 (num of intervals)/(genome bp)\n",
      "Sine/MIR length = 84720992 bp\n",
      "Expected number of Sine/MIR Genes = 2157\n"
     ]
    }
   ],
   "source": [
    "compute_expected_number(genes_bed_df, repeat_bed_df, 'Genes', 'Sine/MIR')"
   ]
  },
  {
   "cell_type": "code",
   "execution_count": 439,
   "metadata": {
    "collapsed": true
   },
   "outputs": [],
   "source": [
    "# genic enhancers: enhancers in genic regions\n",
    "genic_enhancers_bed = encode_bed.intersect(genes_bed, f=1, u=True)"
   ]
  },
  {
   "cell_type": "code",
   "execution_count": 440,
   "metadata": {
    "collapsed": false
   },
   "outputs": [
    {
     "data": {
      "text/plain": [
       "15722"
      ]
     },
     "execution_count": 440,
     "metadata": {},
     "output_type": "execute_result"
    }
   ],
   "source": [
    "genic_enhancers_bed.count()"
   ]
  },
  {
   "cell_type": "code",
   "execution_count": 442,
   "metadata": {
    "collapsed": true
   },
   "outputs": [],
   "source": [
    "# genic non-enhancers: genic regions without enhancers\n",
    "genic_non_enhancers_bed = genes_bed.subtract(genic_enhancers_bed, A=True)"
   ]
  },
  {
   "cell_type": "code",
   "execution_count": 444,
   "metadata": {
    "collapsed": false
   },
   "outputs": [
    {
     "data": {
      "text/plain": [
       "0"
      ]
     },
     "execution_count": 444,
     "metadata": {},
     "output_type": "execute_result"
    }
   ],
   "source": [
    "genic_non_enhancers_bed.intersect(genic_enhancers_bed).count()"
   ]
  },
  {
   "cell_type": "code",
   "execution_count": 445,
   "metadata": {
    "collapsed": true
   },
   "outputs": [],
   "source": [
    "# non-genic enhancers: enhancers outside genic regions\n",
    "non_genic_enhancers_bed = encode_bed.subtract(genes_bed, f=1, A=True)"
   ]
  },
  {
   "cell_type": "code",
   "execution_count": 450,
   "metadata": {
    "collapsed": false
   },
   "outputs": [
    {
     "data": {
      "text/plain": [
       "17360"
      ]
     },
     "execution_count": 450,
     "metadata": {},
     "output_type": "execute_result"
    }
   ],
   "source": [
    "non_genic_enhancers_bed.count()"
   ]
  },
  {
   "cell_type": "code",
   "execution_count": 451,
   "metadata": {
    "collapsed": false
   },
   "outputs": [
    {
     "data": {
      "text/plain": [
       "True"
      ]
     },
     "execution_count": 451,
     "metadata": {},
     "output_type": "execute_result"
    }
   ],
   "source": [
    "non_genic_enhancers_bed.count() + genic_enhancers_bed.count() == encode_bed.count()"
   ]
  },
  {
   "cell_type": "code",
   "execution_count": 452,
   "metadata": {
    "collapsed": true
   },
   "outputs": [],
   "source": [
    "# 200 bp regions around core of enhancers\n",
    "enhancers_regions_bed = encode_bed_cores.slop(g=assembly_path, b=200)"
   ]
  },
  {
   "cell_type": "code",
   "execution_count": 453,
   "metadata": {
    "collapsed": false
   },
   "outputs": [
    {
     "data": {
      "text/plain": [
       "33082"
      ]
     },
     "execution_count": 453,
     "metadata": {},
     "output_type": "execute_result"
    }
   ],
   "source": [
    "enhancers_regions_bed.count()"
   ]
  },
  {
   "cell_type": "code",
   "execution_count": 422,
   "metadata": {
    "collapsed": false
   },
   "outputs": [],
   "source": [
    "genes_bed_df['size'] = genes_bed_df.apply(lambda row: compute_size(row), axis=1)"
   ]
  },
  {
   "cell_type": "code",
   "execution_count": 460,
   "metadata": {
    "collapsed": false
   },
   "outputs": [
    {
     "data": {
      "text/html": [
       "<div>\n",
       "<table border=\"1\" class=\"dataframe\">\n",
       "  <thead>\n",
       "    <tr style=\"text-align: right;\">\n",
       "      <th></th>\n",
       "      <th>size</th>\n",
       "    </tr>\n",
       "  </thead>\n",
       "  <tbody>\n",
       "    <tr>\n",
       "      <th>0.0</th>\n",
       "      <td>19.0</td>\n",
       "    </tr>\n",
       "    <tr>\n",
       "      <th>0.1</th>\n",
       "      <td>993.6</td>\n",
       "    </tr>\n",
       "    <tr>\n",
       "      <th>0.2</th>\n",
       "      <td>4083.0</td>\n",
       "    </tr>\n",
       "    <tr>\n",
       "      <th>0.3</th>\n",
       "      <td>8054.0</td>\n",
       "    </tr>\n",
       "    <tr>\n",
       "      <th>0.4</th>\n",
       "      <td>13047.0</td>\n",
       "    </tr>\n",
       "    <tr>\n",
       "      <th>0.5</th>\n",
       "      <td>20134.0</td>\n",
       "    </tr>\n",
       "    <tr>\n",
       "      <th>0.6</th>\n",
       "      <td>30029.2</td>\n",
       "    </tr>\n",
       "    <tr>\n",
       "      <th>0.7</th>\n",
       "      <td>44468.0</td>\n",
       "    </tr>\n",
       "    <tr>\n",
       "      <th>0.8</th>\n",
       "      <td>71447.4</td>\n",
       "    </tr>\n",
       "    <tr>\n",
       "      <th>0.9</th>\n",
       "      <td>133227.0</td>\n",
       "    </tr>\n",
       "  </tbody>\n",
       "</table>\n",
       "</div>"
      ],
      "text/plain": [
       "         size\n",
       "0.0      19.0\n",
       "0.1     993.6\n",
       "0.2    4083.0\n",
       "0.3    8054.0\n",
       "0.4   13047.0\n",
       "0.5   20134.0\n",
       "0.6   30029.2\n",
       "0.7   44468.0\n",
       "0.8   71447.4\n",
       "0.9  133227.0"
      ]
     },
     "execution_count": 460,
     "metadata": {},
     "output_type": "execute_result"
    }
   ],
   "source": [
    "genes_bed_df[['size']].quantile(np.arange(0,1,0.1))"
   ]
  },
  {
   "cell_type": "code",
   "execution_count": 502,
   "metadata": {
    "collapsed": false
   },
   "outputs": [],
   "source": [
    "def compute_density_region(bed_in_region_df, region_df):\n",
    "    region_size = region_df['size'].sum()\n",
    "    bed_in_region_size = bed_in_region_df['size'].sum()\n",
    "    \n",
    "    return bed_in_region_size / region_size"
   ]
  },
  {
   "cell_type": "code",
   "execution_count": 478,
   "metadata": {
    "collapsed": false
   },
   "outputs": [],
   "source": [
    "repeat_reg1_df = repeat_bed.intersect(genic_enhancers_bed, f=1e-09, u=True).to_dataframe()"
   ]
  },
  {
   "cell_type": "code",
   "execution_count": 479,
   "metadata": {
    "collapsed": false
   },
   "outputs": [],
   "source": [
    "repeat_reg2_df = repeat_bed.intersect(genic_non_enhancers_bed, f=1e-09, u=True).to_dataframe()"
   ]
  },
  {
   "cell_type": "code",
   "execution_count": 480,
   "metadata": {
    "collapsed": false
   },
   "outputs": [],
   "source": [
    "repeat_reg3_df = repeat_bed.intersect(non_genic_enhancers_bed, f=1e-09, u=True).to_dataframe()"
   ]
  },
  {
   "cell_type": "code",
   "execution_count": 481,
   "metadata": {
    "collapsed": false
   },
   "outputs": [],
   "source": [
    "repeat_reg4_df = repeat_bed.intersect(enhancers_regions_bed, f=1e-09, u=True).to_dataframe()"
   ]
  },
  {
   "cell_type": "code",
   "execution_count": 491,
   "metadata": {
    "collapsed": false
   },
   "outputs": [],
   "source": [
    "reg1_df = genic_enhancers_bed.to_dataframe()\n",
    "reg2_df = genic_non_enhancers_bed.to_dataframe()\n",
    "reg3_df = non_genic_enhancers_bed.to_dataframe()\n",
    "reg4_df = enhancers_regions_bed.to_dataframe()\n",
    "\n",
    "reg1_df['size'] =  reg1_df.apply(lambda row: compute_size(row), axis=1)\n",
    "reg2_df['size'] =  reg2_df.apply(lambda row: compute_size(row), axis=1)\n",
    "reg3_df['size'] =  reg3_df.apply(lambda row: compute_size(row), axis=1)\n",
    "reg4_df['size'] =  reg4_df.apply(lambda row: compute_size(row), axis=1)\n",
    "\n",
    "repeat_reg1_df['size'] = repeat_reg1_df.apply(lambda row: compute_size(row), axis=1)\n",
    "repeat_reg2_df['size'] = repeat_reg2_df.apply(lambda row: compute_size(row), axis=1)\n",
    "repeat_reg3_df['size'] = repeat_reg3_df.apply(lambda row: compute_size(row), axis=1)\n",
    "repeat_reg4_df['size'] = repeat_reg4_df.apply(lambda row: compute_size(row), axis=1)"
   ]
  },
  {
   "cell_type": "code",
   "execution_count": 504,
   "metadata": {
    "collapsed": false
   },
   "outputs": [
    {
     "name": "stdout",
     "output_type": "stream",
     "text": [
      "density of MIR in genic enhancers 0.04617282022016232\n",
      "density of MIR in genic non enhancers 0.011536760191622808\n",
      "density of MIR in non genic enhancers 0.036260377708247304\n",
      "density of MIR in enhancer regions 0.04256317634967656\n",
      "Normalized Ratios 0.3381803281635356 0.08449787838264515 0.26557932511460774 0.3117424683392115\n"
     ]
    }
   ],
   "source": [
    "d1 = compute_density_region(repeat_reg1_df,reg1_df)\n",
    "d2 = compute_density_region(repeat_reg2_df,reg2_df)\n",
    "d3 = compute_density_region(repeat_reg3_df,reg3_df)\n",
    "d4 = compute_density_region(repeat_reg4_df,reg4_df)\n",
    "\n",
    "print(\"density of MIR in genic enhancers\", d1)\n",
    "print(\"density of MIR in genic non enhancers\", d2)\n",
    "print(\"density of MIR in non genic enhancers\", d3)\n",
    "print(\"density of MIR in enhancer regions\", d4)\n",
    "\n",
    "sum_d = d1+d2+d3+d4\n",
    "\n",
    "print(\"Normalized Ratios\",d1/sum_d, d2/sum_d, d3/sum_d, d4/sum_d)\n"
   ]
  }
 ],
 "metadata": {
  "anaconda-cloud": {},
  "kernelspec": {
   "display_name": "Python [conda root]",
   "language": "python",
   "name": "conda-root-py"
  },
  "language_info": {
   "codemirror_mode": {
    "name": "ipython",
    "version": 3
   },
   "file_extension": ".py",
   "mimetype": "text/x-python",
   "name": "python",
   "nbconvert_exporter": "python",
   "pygments_lexer": "ipython3",
   "version": "3.5.2"
  }
 },
 "nbformat": 4,
 "nbformat_minor": 1
}
