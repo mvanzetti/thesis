{
 "cells": [
  {
   "cell_type": "code",
   "execution_count": 1,
   "metadata": {
    "collapsed": true
   },
   "outputs": [],
   "source": [
    "from pybedtools import BedTool\n",
    "import pandas as pd"
   ]
  },
  {
   "cell_type": "code",
   "execution_count": 2,
   "metadata": {
    "collapsed": true
   },
   "outputs": [],
   "source": [
    "genes_bed = BedTool(\"../download/genome/knownGene_hg19.bed\")"
   ]
  },
  {
   "cell_type": "code",
   "execution_count": 3,
   "metadata": {
    "collapsed": false
   },
   "outputs": [
    {
     "data": {
      "text/plain": [
       "82960"
      ]
     },
     "execution_count": 3,
     "metadata": {},
     "output_type": "execute_result"
    }
   ],
   "source": [
    "genes_bed.count()"
   ]
  },
  {
   "cell_type": "code",
   "execution_count": 9,
   "metadata": {
    "collapsed": false
   },
   "outputs": [
    {
     "data": {
      "text/html": [
       "<div>\n",
       "<table border=\"1\" class=\"dataframe\">\n",
       "  <thead>\n",
       "    <tr style=\"text-align: right;\">\n",
       "      <th></th>\n",
       "      <th>chrom</th>\n",
       "      <th>start</th>\n",
       "      <th>end</th>\n",
       "      <th>name</th>\n",
       "      <th>score</th>\n",
       "      <th>strand</th>\n",
       "      <th>thickStart</th>\n",
       "      <th>thickEnd</th>\n",
       "      <th>itemRgb</th>\n",
       "      <th>blockCount</th>\n",
       "      <th>blockSizes</th>\n",
       "      <th>blockStarts</th>\n",
       "    </tr>\n",
       "  </thead>\n",
       "  <tbody>\n",
       "    <tr>\n",
       "      <th>0</th>\n",
       "      <td>chr1</td>\n",
       "      <td>11873</td>\n",
       "      <td>14409</td>\n",
       "      <td>uc001aaa.3</td>\n",
       "      <td>0</td>\n",
       "      <td>+</td>\n",
       "      <td>11873</td>\n",
       "      <td>11873</td>\n",
       "      <td>0</td>\n",
       "      <td>3</td>\n",
       "      <td>354,109,1189,</td>\n",
       "      <td>0,739,1347,</td>\n",
       "    </tr>\n",
       "    <tr>\n",
       "      <th>1</th>\n",
       "      <td>chr1</td>\n",
       "      <td>11873</td>\n",
       "      <td>14409</td>\n",
       "      <td>uc010nxr.1</td>\n",
       "      <td>0</td>\n",
       "      <td>+</td>\n",
       "      <td>11873</td>\n",
       "      <td>11873</td>\n",
       "      <td>0</td>\n",
       "      <td>3</td>\n",
       "      <td>354,52,1189,</td>\n",
       "      <td>0,772,1347,</td>\n",
       "    </tr>\n",
       "    <tr>\n",
       "      <th>2</th>\n",
       "      <td>chr1</td>\n",
       "      <td>11873</td>\n",
       "      <td>14409</td>\n",
       "      <td>uc010nxq.1</td>\n",
       "      <td>0</td>\n",
       "      <td>+</td>\n",
       "      <td>12189</td>\n",
       "      <td>13639</td>\n",
       "      <td>0</td>\n",
       "      <td>3</td>\n",
       "      <td>354,127,1007,</td>\n",
       "      <td>0,721,1529,</td>\n",
       "    </tr>\n",
       "    <tr>\n",
       "      <th>3</th>\n",
       "      <td>chr1</td>\n",
       "      <td>14361</td>\n",
       "      <td>16765</td>\n",
       "      <td>uc009vis.3</td>\n",
       "      <td>0</td>\n",
       "      <td>-</td>\n",
       "      <td>14361</td>\n",
       "      <td>14361</td>\n",
       "      <td>0</td>\n",
       "      <td>4</td>\n",
       "      <td>468,69,147,159,</td>\n",
       "      <td>0,608,1434,2245,</td>\n",
       "    </tr>\n",
       "    <tr>\n",
       "      <th>4</th>\n",
       "      <td>chr1</td>\n",
       "      <td>16857</td>\n",
       "      <td>17751</td>\n",
       "      <td>uc009vjc.1</td>\n",
       "      <td>0</td>\n",
       "      <td>-</td>\n",
       "      <td>16857</td>\n",
       "      <td>16857</td>\n",
       "      <td>0</td>\n",
       "      <td>2</td>\n",
       "      <td>198,519,</td>\n",
       "      <td>0,375,</td>\n",
       "    </tr>\n",
       "  </tbody>\n",
       "</table>\n",
       "</div>"
      ],
      "text/plain": [
       "  chrom  start    end        name  score strand  thickStart  thickEnd  \\\n",
       "0  chr1  11873  14409  uc001aaa.3      0      +       11873     11873   \n",
       "1  chr1  11873  14409  uc010nxr.1      0      +       11873     11873   \n",
       "2  chr1  11873  14409  uc010nxq.1      0      +       12189     13639   \n",
       "3  chr1  14361  16765  uc009vis.3      0      -       14361     14361   \n",
       "4  chr1  16857  17751  uc009vjc.1      0      -       16857     16857   \n",
       "\n",
       "   itemRgb  blockCount       blockSizes       blockStarts  \n",
       "0        0           3    354,109,1189,       0,739,1347,  \n",
       "1        0           3     354,52,1189,       0,772,1347,  \n",
       "2        0           3    354,127,1007,       0,721,1529,  \n",
       "3        0           4  468,69,147,159,  0,608,1434,2245,  \n",
       "4        0           2         198,519,            0,375,  "
      ]
     },
     "execution_count": 9,
     "metadata": {},
     "output_type": "execute_result"
    }
   ],
   "source": [
    "genes_df.head()"
   ]
  },
  {
   "cell_type": "code",
   "execution_count": 4,
   "metadata": {
    "collapsed": true
   },
   "outputs": [],
   "source": [
    "genes_bed_df = genes_bed.to_dataframe()\n",
    "chrom_list = ['chr1', 'chr2', 'chr3', 'chr4', 'chr5', 'chr6', 'chr7', 'chrX',\n",
    "              'chr8', 'chr9', 'chr10', 'chr11', 'chr12', 'chr13', 'chr14',\n",
    "              'chr15', 'chr16', 'chr17', 'chr18', 'chr20', 'chrY', 'chr19',\n",
    "              'chr22', 'chr21']\n",
    "\n",
    "genes_reduced_bed_df = genes_bed_df.query(\"chrom in @chrom_list\")"
   ]
  },
  {
   "cell_type": "code",
   "execution_count": 5,
   "metadata": {
    "collapsed": false
   },
   "outputs": [
    {
     "data": {
      "text/plain": [
       "array(['chr1', 'chr2', 'chr3', 'chr4', 'chr5', 'chr6', 'chr7', 'chr8',\n",
       "       'chr9', 'chrX', 'chrY', 'chr10', 'chr11', 'chr12', 'chr13', 'chr14',\n",
       "       'chr15', 'chr16', 'chr17', 'chr18', 'chr19', 'chr20', 'chr21',\n",
       "       'chr22'], dtype=object)"
      ]
     },
     "execution_count": 5,
     "metadata": {},
     "output_type": "execute_result"
    }
   ],
   "source": [
    "genes_reduced_bed_df['chrom'].unique()"
   ]
  },
  {
   "cell_type": "code",
   "execution_count": 7,
   "metadata": {
    "collapsed": false
   },
   "outputs": [
    {
     "data": {
      "text/plain": [
       "78807"
      ]
     },
     "execution_count": 7,
     "metadata": {},
     "output_type": "execute_result"
    }
   ],
   "source": [
    "genes_reduced_bed = BedTool().from_dataframe(genes_reduced_bed_df)\n",
    "genes_reduced_bed.count()"
   ]
  },
  {
   "cell_type": "code",
   "execution_count": 13,
   "metadata": {
    "collapsed": true
   },
   "outputs": [],
   "source": [
    "genes_bed_df.to_hdf('../storage/UCSC_genes.hdf', 'hg19_known_genes_bed')"
   ]
  },
  {
   "cell_type": "code",
   "execution_count": 14,
   "metadata": {
    "collapsed": true
   },
   "outputs": [],
   "source": [
    "genes_reduced_bed_df.to_hdf('../storage/UCSC_genes.hdf', 'hg19_reduced_known_genes_bed')"
   ]
  },
  {
   "cell_type": "code",
   "execution_count": 6,
   "metadata": {
    "collapsed": true
   },
   "outputs": [],
   "source": [
    "def compute_size(row, prefix=None):\n",
    "    col_name = prefix + '_name' if prefix else 'name'\n",
    "    if row[col_name] == '.':\n",
    "        return 0\n",
    "    col_end = prefix + '_end' if prefix else 'end'\n",
    "    col_start = prefix + '_start' if prefix else 'start'\n",
    "    size = abs(row[col_end] - row[col_start])\n",
    "    return size"
   ]
  },
  {
   "cell_type": "code",
   "execution_count": 15,
   "metadata": {
    "collapsed": true
   },
   "outputs": [],
   "source": [
    "store = pd.HDFStore('../storage/UCSC_genes.hdf')"
   ]
  },
  {
   "cell_type": "code",
   "execution_count": 16,
   "metadata": {
    "collapsed": false
   },
   "outputs": [
    {
     "data": {
      "text/plain": [
       "['/hg19_known_genes_bed', '/hg19_reduced_known_genes_bed']"
      ]
     },
     "execution_count": 16,
     "metadata": {},
     "output_type": "execute_result"
    }
   ],
   "source": [
    "store.keys()"
   ]
  },
  {
   "cell_type": "code",
   "execution_count": 17,
   "metadata": {
    "collapsed": true
   },
   "outputs": [],
   "source": [
    "store.close()"
   ]
  },
  {
   "cell_type": "code",
   "execution_count": 23,
   "metadata": {
    "collapsed": true
   },
   "outputs": [],
   "source": [
    "genes_reduced_df = pd.read_hdf('../storage/UCSC_genes.hdf', 'hg19_reduced_known_genes_bed')"
   ]
  },
  {
   "cell_type": "code",
   "execution_count": 24,
   "metadata": {
    "collapsed": true
   },
   "outputs": [],
   "source": [
    "genes_reduced_df['size'] = genes_reduced_df.apply(lambda row: compute_size(row), axis=1)"
   ]
  },
  {
   "cell_type": "code",
   "execution_count": 25,
   "metadata": {
    "collapsed": false
   },
   "outputs": [
    {
     "data": {
      "text/plain": [
       "(0, 300000)"
      ]
     },
     "execution_count": 25,
     "metadata": {},
     "output_type": "execute_result"
    },
    {
     "data": {
      "image/png": "[encoded data removed]",
      "text/plain": [
       "<matplotlib.figure.Figure at 0x128bc7c18>"
      ]
     },
     "metadata": {},
     "output_type": "display_data"
    }
   ],
   "source": [
    "import seaborn as sns\n",
    "%matplotlib inline\n",
    "sns.set(style=\"white\")\n",
    "sns.set_context(\"paper\", font_scale=0.8, rc={\"lines.linewidth\": 1})\n",
    "\n",
    "g1 = sns.distplot(genes_reduced_df[['size']], kde=False, bins=1000)\n",
    "g1.set_xlim(0, 300000)"
   ]
  },
  {
   "cell_type": "code",
   "execution_count": 29,
   "metadata": {
    "collapsed": false
   },
   "outputs": [
    {
     "data": {
      "text/plain": [
       "size    2320934\n",
       "dtype: int64"
      ]
     },
     "execution_count": 29,
     "metadata": {},
     "output_type": "execute_result"
    }
   ],
   "source": [
    "genes_reduced_df[['size']].max()"
   ]
  },
  {
   "cell_type": "code",
   "execution_count": null,
   "metadata": {
    "collapsed": true
   },
   "outputs": [],
   "source": []
  }
 ],
 "metadata": {
  "anaconda-cloud": {},
  "kernelspec": {
   "display_name": "Python [conda root]",
   "language": "python",
   "name": "conda-root-py"
  },
  "language_info": {
   "codemirror_mode": {
    "name": "ipython",
    "version": 3
   },
   "file_extension": ".py",
   "mimetype": "text/x-python",
   "name": "python",
   "nbconvert_exporter": "python",
   "pygments_lexer": "ipython3",
   "version": "3.5.2"
  }
 },
 "nbformat": 4,
 "nbformat_minor": 1
}
