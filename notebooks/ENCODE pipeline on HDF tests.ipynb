{
 "cells": [
  {
   "cell_type": "markdown",
   "metadata": {},
   "source": [
    "## ENCODE process"
   ]
  },
  {
   "cell_type": "code",
   "execution_count": 1,
   "metadata": {
    "collapsed": true
   },
   "outputs": [],
   "source": [
    "import pandas as pd\n",
    "from pybedtools import BedTool"
   ]
  },
  {
   "cell_type": "code",
   "execution_count": 326,
   "metadata": {
    "collapsed": false
   },
   "outputs": [
    {
     "data": {
      "text/plain": [
       "pandas.core.frame.DataFrame"
      ]
     },
     "execution_count": 326,
     "metadata": {},
     "output_type": "execute_result"
    }
   ],
   "source": [
    "pd.DataFrame"
   ]
  },
  {
   "cell_type": "code",
   "execution_count": 19,
   "metadata": {
    "collapsed": false
   },
   "outputs": [],
   "source": [
    "store = pd.HDFStore('../storage/encode_staging.hdf')"
   ]
  },
  {
   "cell_type": "code",
   "execution_count": 20,
   "metadata": {
    "collapsed": false
   },
   "outputs": [
    {
     "data": {
      "text/plain": [
       "['/encode_metadata',\n",
       " '/filtered_hg19DNase_H3K27ac',\n",
       " '/filtered_hg19DNase_H3K27ac_bed']"
      ]
     },
     "execution_count": 20,
     "metadata": {},
     "output_type": "execute_result"
    }
   ],
   "source": [
    "store.keys()"
   ]
  },
  {
   "cell_type": "code",
   "execution_count": 329,
   "metadata": {
    "collapsed": false
   },
   "outputs": [],
   "source": [
    "filtered_df = store['filtered_hg19DNase_H3K27ac']"
   ]
  },
  {
   "cell_type": "code",
   "execution_count": 334,
   "metadata": {
    "collapsed": false
   },
   "outputs": [],
   "source": [
    "query_df = pd.read_hdf('../storage/encode_staging.hdf', 'filtered_hg19DNase_H3K27ac', where='biosample_term_name == \"large intestine\"')"
   ]
  },
  {
   "cell_type": "code",
   "execution_count": 339,
   "metadata": {
    "collapsed": false
   },
   "outputs": [
    {
     "data": {
      "text/plain": [
       "37391"
      ]
     },
     "execution_count": 339,
     "metadata": {},
     "output_type": "execute_result"
    }
   ],
   "source": [
    "len(query_df)"
   ]
  },
  {
   "cell_type": "code",
   "execution_count": 335,
   "metadata": {
    "collapsed": false
   },
   "outputs": [],
   "source": [
    "meta_df =  store['encode_metadata']"
   ]
  },
  {
   "cell_type": "code",
   "execution_count": 336,
   "metadata": {
    "collapsed": false
   },
   "outputs": [
    {
     "data": {
      "text/plain": [
       "437"
      ]
     },
     "execution_count": 336,
     "metadata": {},
     "output_type": "execute_result"
    }
   ],
   "source": [
    "len(meta_df)"
   ]
  },
  {
   "cell_type": "code",
   "execution_count": 337,
   "metadata": {
    "collapsed": false
   },
   "outputs": [
    {
     "data": {
      "text/plain": [
       "array(['common myeloid progenitor, CD34-positive', 'adrenal gland',\n",
       "       'stomach', 'neuronal stem cell', 'B cell', 'K562', 'HeLa-S3',\n",
       "       'skeletal muscle myoblast', 'iPS DF 6.9', 'placenta', 'H1-hESC',\n",
       "       'fibroblast of dermis', 'thymus', 'HCT116', 'keratinocyte',\n",
       "       'mesendoderm', 'fibroblast of lung', 'foreskin melanocyte',\n",
       "       'CD14-positive monocyte', 'HepG2', 'mesenchymal stem cell',\n",
       "       'iPS DF 19.11', 'large intestine', 'mammary epithelial cell',\n",
       "       'pancreas', 'psoas muscle', 'IMR-90', 'female gonad',\n",
       "       'muscle of leg', 'MCF-7', 'small intestine', 'myotube',\n",
       "       'endothelial cell of umbilical vein', 'GM12878',\n",
       "       'natural killer cell', 'astrocyte', 'Panc1', 'muscle of trunk',\n",
       "       'foreskin fibroblast', 'H9', 'trophoblast cell', 'T-cell'], dtype=object)"
      ]
     },
     "execution_count": 337,
     "metadata": {},
     "output_type": "execute_result"
    }
   ],
   "source": [
    "filtered_df['biosample_term_name'].unique()"
   ]
  },
  {
   "cell_type": "code",
   "execution_count": 338,
   "metadata": {
    "collapsed": false
   },
   "outputs": [
    {
     "data": {
      "text/plain": [
       "1785580"
      ]
     },
     "execution_count": 338,
     "metadata": {},
     "output_type": "execute_result"
    }
   ],
   "source": [
    "len(filtered_df)"
   ]
  },
  {
   "cell_type": "code",
   "execution_count": 319,
   "metadata": {
    "collapsed": true
   },
   "outputs": [],
   "source": [
    "filtered_file_df = pd.read_csv('../staging/ENCODE/filtered/filtered_hg19DNase_H3K27ac.csv', sep='\\t')"
   ]
  },
  {
   "cell_type": "code",
   "execution_count": 320,
   "metadata": {
    "collapsed": false
   },
   "outputs": [
    {
     "data": {
      "text/plain": [
       "array(['mammary epithelial cell', 'placenta', 'trophoblast cell',\n",
       "       'psoas muscle', 'foreskin fibroblast', 'female gonad',\n",
       "       'mesenchymal stem cell', 'HeLa-S3',\n",
       "       'common myeloid progenitor, CD34-positive', 'fibroblast of dermis',\n",
       "       'H1-hESC', 'neuronal stem cell', 'iPS DF 19.11', 'astrocyte',\n",
       "       'skeletal muscle myoblast', 'keratinocyte', 'H9', 'adrenal gland',\n",
       "       'small intestine', 'GM12878', 'IMR-90', 'stomach', 'thymus', 'K562',\n",
       "       'mesendoderm', 'fibroblast of lung', 'natural killer cell', 'MCF-7',\n",
       "       'Panc1', 'HCT116', 'muscle of trunk', 'pancreas', 'T-cell',\n",
       "       'foreskin melanocyte', 'iPS DF 6.9', 'CD14-positive monocyte',\n",
       "       'HepG2', 'endothelial cell of umbilical vein', 'large intestine',\n",
       "       'muscle of leg', 'B cell', 'myotube'], dtype=object)"
      ]
     },
     "execution_count": 320,
     "metadata": {},
     "output_type": "execute_result"
    }
   ],
   "source": [
    "filtered_file_df['biosample_term_name'].unique()"
   ]
  },
  {
   "cell_type": "code",
   "execution_count": 321,
   "metadata": {
    "collapsed": false
   },
   "outputs": [
    {
     "data": {
      "text/plain": [
       "1785580"
      ]
     },
     "execution_count": 321,
     "metadata": {},
     "output_type": "execute_result"
    }
   ],
   "source": [
    "len(filtered_file_df)"
   ]
  },
  {
   "cell_type": "code",
   "execution_count": 322,
   "metadata": {
    "collapsed": true
   },
   "outputs": [],
   "source": [
    "store.close()"
   ]
  },
  {
   "cell_type": "code",
   "execution_count": 323,
   "metadata": {
    "collapsed": false
   },
   "outputs": [],
   "source": [
    "meta_df.to_hdf('tmp/staging_example.hdf', 'metadata', format='fixed')"
   ]
  },
  {
   "cell_type": "code",
   "execution_count": 324,
   "metadata": {
    "collapsed": false
   },
   "outputs": [
    {
     "data": {
      "text/plain": [
       "accession               object\n",
       "assembly                object\n",
       "biosample_term_id       object\n",
       "biosample_term_name     object\n",
       "biosample_type          object\n",
       "description             object\n",
       "developmental_slims     object\n",
       "encyclopedia_version    object\n",
       "month_released          object\n",
       "organ_slims             object\n",
       "organism                object\n",
       "system_slims            object\n",
       "bed_filename            object\n",
       "bed_filepath            object\n",
       "merged                    bool\n",
       "method                  object\n",
       "dtype: object"
      ]
     },
     "execution_count": 324,
     "metadata": {},
     "output_type": "execute_result"
    }
   ],
   "source": [
    "meta_df.dtypes"
   ]
  },
  {
   "cell_type": "code",
   "execution_count": 281,
   "metadata": {
    "collapsed": false
   },
   "outputs": [],
   "source": [
    "s = pd.Series([['a', 'b'], ['B', 'C', 'Aaba'], ['Baca', 'ieee', 'CABA'], ['dog'], ['cat']])"
   ]
  },
  {
   "cell_type": "code",
   "execution_count": 282,
   "metadata": {
    "collapsed": true
   },
   "outputs": [],
   "source": [
    "temp_df = pd.DataFrame(columns=['something'])"
   ]
  },
  {
   "cell_type": "code",
   "execution_count": 302,
   "metadata": {
    "collapsed": true
   },
   "outputs": [],
   "source": [
    "temp_df['something'] = s\n",
    "temp_df['another'] = s"
   ]
  },
  {
   "cell_type": "code",
   "execution_count": 303,
   "metadata": {
    "collapsed": false
   },
   "outputs": [
    {
     "data": {
      "text/plain": [
       "10"
      ]
     },
     "execution_count": 303,
     "metadata": {},
     "output_type": "execute_result"
    }
   ],
   "source": [
    "temp_df.size"
   ]
  },
  {
   "cell_type": "code",
   "execution_count": 304,
   "metadata": {
    "collapsed": false
   },
   "outputs": [
    {
     "data": {
      "text/html": [
       "<div>\n",
       "<table border=\"1\" class=\"dataframe\">\n",
       "  <thead>\n",
       "    <tr style=\"text-align: right;\">\n",
       "      <th></th>\n",
       "      <th>something</th>\n",
       "      <th>another</th>\n",
       "    </tr>\n",
       "  </thead>\n",
       "  <tbody>\n",
       "    <tr>\n",
       "      <th>0</th>\n",
       "      <td>[a, b]</td>\n",
       "      <td>[a, b]</td>\n",
       "    </tr>\n",
       "    <tr>\n",
       "      <th>1</th>\n",
       "      <td>[B, C, Aaba]</td>\n",
       "      <td>[B, C, Aaba]</td>\n",
       "    </tr>\n",
       "    <tr>\n",
       "      <th>2</th>\n",
       "      <td>[Baca, ieee, CABA]</td>\n",
       "      <td>[Baca, ieee, CABA]</td>\n",
       "    </tr>\n",
       "    <tr>\n",
       "      <th>3</th>\n",
       "      <td>[dog]</td>\n",
       "      <td>[dog]</td>\n",
       "    </tr>\n",
       "    <tr>\n",
       "      <th>4</th>\n",
       "      <td>[cat]</td>\n",
       "      <td>[cat]</td>\n",
       "    </tr>\n",
       "  </tbody>\n",
       "</table>\n",
       "</div>"
      ],
      "text/plain": [
       "            something             another\n",
       "0              [a, b]              [a, b]\n",
       "1        [B, C, Aaba]        [B, C, Aaba]\n",
       "2  [Baca, ieee, CABA]  [Baca, ieee, CABA]\n",
       "3               [dog]               [dog]\n",
       "4               [cat]               [cat]"
      ]
     },
     "execution_count": 304,
     "metadata": {},
     "output_type": "execute_result"
    }
   ],
   "source": [
    "temp_df"
   ]
  },
  {
   "cell_type": "code",
   "execution_count": 305,
   "metadata": {
    "collapsed": true
   },
   "outputs": [],
   "source": [
    "def join_col_values(row, col, sep=','):\n",
    "    return \"[\" + sep.join(row[col]) + \"]\""
   ]
  },
  {
   "cell_type": "code",
   "execution_count": 306,
   "metadata": {
    "collapsed": false
   },
   "outputs": [
    {
     "name": "stdout",
     "output_type": "stream",
     "text": [
      "0 ['a', 'b']\n",
      "0 ['a', 'b']\n",
      "1 ['B', 'C', 'Aaba']\n",
      "1 ['B', 'C', 'Aaba']\n",
      "2 ['Baca', 'ieee', 'CABA']\n",
      "2 ['Baca', 'ieee', 'CABA']\n",
      "3 ['dog']\n",
      "3 ['dog']\n",
      "4 ['cat']\n",
      "4 ['cat']\n"
     ]
    }
   ],
   "source": [
    "for index, row in temp_df.iterrows():\n",
    "    for col in temp_df.columns:\n",
    "        temp_df.set_value(index, col, \"[\" + \",\".join(row[col]) + \"]\")"
   ]
  },
  {
   "cell_type": "code",
   "execution_count": 307,
   "metadata": {
    "collapsed": false
   },
   "outputs": [
    {
     "data": {
      "text/html": [
       "<div>\n",
       "<table border=\"1\" class=\"dataframe\">\n",
       "  <thead>\n",
       "    <tr style=\"text-align: right;\">\n",
       "      <th></th>\n",
       "      <th>something</th>\n",
       "      <th>another</th>\n",
       "    </tr>\n",
       "  </thead>\n",
       "  <tbody>\n",
       "    <tr>\n",
       "      <th>0</th>\n",
       "      <td>[a,b]</td>\n",
       "      <td>[a,b]</td>\n",
       "    </tr>\n",
       "    <tr>\n",
       "      <th>1</th>\n",
       "      <td>[B,C,Aaba]</td>\n",
       "      <td>[B,C,Aaba]</td>\n",
       "    </tr>\n",
       "    <tr>\n",
       "      <th>2</th>\n",
       "      <td>[Baca,ieee,CABA]</td>\n",
       "      <td>[Baca,ieee,CABA]</td>\n",
       "    </tr>\n",
       "    <tr>\n",
       "      <th>3</th>\n",
       "      <td>[dog]</td>\n",
       "      <td>[dog]</td>\n",
       "    </tr>\n",
       "    <tr>\n",
       "      <th>4</th>\n",
       "      <td>[cat]</td>\n",
       "      <td>[cat]</td>\n",
       "    </tr>\n",
       "  </tbody>\n",
       "</table>\n",
       "</div>"
      ],
      "text/plain": [
       "          something           another\n",
       "0             [a,b]             [a,b]\n",
       "1        [B,C,Aaba]        [B,C,Aaba]\n",
       "2  [Baca,ieee,CABA]  [Baca,ieee,CABA]\n",
       "3             [dog]             [dog]\n",
       "4             [cat]             [cat]"
      ]
     },
     "execution_count": 307,
     "metadata": {},
     "output_type": "execute_result"
    }
   ],
   "source": [
    "temp_df"
   ]
  },
  {
   "cell_type": "code",
   "execution_count": 308,
   "metadata": {
    "collapsed": false
   },
   "outputs": [],
   "source": [
    "temp_df.to_hdf('tmp/staging_example.hdf', 'temo', format='fixed')"
   ]
  },
  {
   "cell_type": "code",
   "execution_count": 194,
   "metadata": {
    "collapsed": true
   },
   "outputs": [],
   "source": [
    "store = pd.HDFStore('tmp/staging_example.hdf')"
   ]
  },
  {
   "cell_type": "code",
   "execution_count": 195,
   "metadata": {
    "collapsed": false
   },
   "outputs": [
    {
     "data": {
      "text/plain": [
       "['/metadata', '/temo']"
      ]
     },
     "execution_count": 195,
     "metadata": {},
     "output_type": "execute_result"
    }
   ],
   "source": [
    "store.keys()"
   ]
  },
  {
   "cell_type": "code",
   "execution_count": 196,
   "metadata": {
    "collapsed": false
   },
   "outputs": [
    {
     "data": {
      "text/html": [
       "<div>\n",
       "<table border=\"1\" class=\"dataframe\">\n",
       "  <thead>\n",
       "    <tr style=\"text-align: right;\">\n",
       "      <th></th>\n",
       "      <th>something</th>\n",
       "    </tr>\n",
       "  </thead>\n",
       "  <tbody>\n",
       "    <tr>\n",
       "      <th>0</th>\n",
       "      <td>[a,b]</td>\n",
       "    </tr>\n",
       "    <tr>\n",
       "      <th>1</th>\n",
       "      <td>[B,C,Aaba]</td>\n",
       "    </tr>\n",
       "    <tr>\n",
       "      <th>2</th>\n",
       "      <td>[Baca,ieee,CABA]</td>\n",
       "    </tr>\n",
       "    <tr>\n",
       "      <th>3</th>\n",
       "      <td>[dog]</td>\n",
       "    </tr>\n",
       "    <tr>\n",
       "      <th>4</th>\n",
       "      <td>[cat]</td>\n",
       "    </tr>\n",
       "  </tbody>\n",
       "</table>\n",
       "</div>"
      ],
      "text/plain": [
       "          something\n",
       "0             [a,b]\n",
       "1        [B,C,Aaba]\n",
       "2  [Baca,ieee,CABA]\n",
       "3             [dog]\n",
       "4             [cat]"
      ]
     },
     "execution_count": 196,
     "metadata": {},
     "output_type": "execute_result"
    }
   ],
   "source": [
    "store['temo']"
   ]
  },
  {
   "cell_type": "code",
   "execution_count": 268,
   "metadata": {
    "collapsed": true
   },
   "outputs": [],
   "source": [
    "store = pd.HDFStore('../storage/downloads.hdf')"
   ]
  },
  {
   "cell_type": "code",
   "execution_count": 269,
   "metadata": {
    "collapsed": false
   },
   "outputs": [
    {
     "data": {
      "text/plain": [
       "['/encode_metadata']"
      ]
     },
     "execution_count": 269,
     "metadata": {},
     "output_type": "execute_result"
    }
   ],
   "source": [
    "store.keys()"
   ]
  },
  {
   "cell_type": "code",
   "execution_count": 271,
   "metadata": {
    "collapsed": false
   },
   "outputs": [
    {
     "data": {
      "text/plain": [
       "Index(['@id', '@type', 'accession', 'aliases', 'alternate_accessions',\n",
       "       'annotation_type', 'assembly', 'award', 'biosample_synonyms',\n",
       "       'biosample_term_id', 'biosample_term_name', 'biosample_type',\n",
       "       'contributing_files', 'date_created', 'date_released', 'dbxrefs',\n",
       "       'description', 'developmental_slims', 'documents',\n",
       "       'encyclopedia_version', 'files', 'hub', 'imported', 'internal_tags',\n",
       "       'lab', 'month_released', 'notes', 'organ_slims', 'organism',\n",
       "       'original_files', 'references', 'related_files', 'revoked_files',\n",
       "       'schema_version', 'status', 'submitted_by', 'superseded_by',\n",
       "       'supersedes', 'system_slims', 'targets', 'uuid'],\n",
       "      dtype='object')"
      ]
     },
     "execution_count": 271,
     "metadata": {},
     "output_type": "execute_result"
    }
   ],
   "source": [
    "store['encode_metadata'].columns"
   ]
  },
  {
   "cell_type": "markdown",
   "metadata": {},
   "source": [
    "## FANTOM process"
   ]
  },
  {
   "cell_type": "code",
   "execution_count": 2,
   "metadata": {
    "collapsed": true
   },
   "outputs": [],
   "source": [
    "store = pd.HDFStore('../storage/fantom_staging.hdf')"
   ]
  },
  {
   "cell_type": "code",
   "execution_count": 3,
   "metadata": {
    "collapsed": false
   },
   "outputs": [
    {
     "data": {
      "text/plain": [
       "['/permissive', '/permissive_bed']"
      ]
     },
     "execution_count": 3,
     "metadata": {},
     "output_type": "execute_result"
    }
   ],
   "source": [
    "store.keys()"
   ]
  },
  {
   "cell_type": "code",
   "execution_count": 343,
   "metadata": {
    "collapsed": false
   },
   "outputs": [
    {
     "data": {
      "text/html": [
       "<div>\n",
       "<table border=\"1\" class=\"dataframe\">\n",
       "  <thead>\n",
       "    <tr style=\"text-align: right;\">\n",
       "      <th></th>\n",
       "      <th>0</th>\n",
       "      <th>1</th>\n",
       "      <th>2</th>\n",
       "      <th>3</th>\n",
       "      <th>4</th>\n",
       "      <th>5</th>\n",
       "      <th>6</th>\n",
       "      <th>7</th>\n",
       "      <th>8</th>\n",
       "      <th>9</th>\n",
       "      <th>...</th>\n",
       "      <th>43001</th>\n",
       "      <th>43002</th>\n",
       "      <th>43003</th>\n",
       "      <th>43004</th>\n",
       "      <th>43005</th>\n",
       "      <th>43006</th>\n",
       "      <th>43007</th>\n",
       "      <th>43008</th>\n",
       "      <th>43009</th>\n",
       "      <th>43010</th>\n",
       "    </tr>\n",
       "  </thead>\n",
       "  <tbody>\n",
       "    <tr>\n",
       "      <th>chrom</th>\n",
       "      <td>chr1</td>\n",
       "      <td>chr1</td>\n",
       "      <td>chr1</td>\n",
       "      <td>chr1</td>\n",
       "      <td>chr1</td>\n",
       "      <td>chr1</td>\n",
       "      <td>chr1</td>\n",
       "      <td>chr1</td>\n",
       "      <td>chr1</td>\n",
       "      <td>chr1</td>\n",
       "      <td>...</td>\n",
       "      <td>chrY</td>\n",
       "      <td>chrY</td>\n",
       "      <td>chrY</td>\n",
       "      <td>chrY</td>\n",
       "      <td>chrY</td>\n",
       "      <td>chrY</td>\n",
       "      <td>chrY</td>\n",
       "      <td>chrY</td>\n",
       "      <td>chrY</td>\n",
       "      <td>chrY</td>\n",
       "    </tr>\n",
       "    <tr>\n",
       "      <th>start</th>\n",
       "      <td>858256</td>\n",
       "      <td>918449</td>\n",
       "      <td>941791</td>\n",
       "      <td>945769</td>\n",
       "      <td>956563</td>\n",
       "      <td>1005293</td>\n",
       "      <td>1014834</td>\n",
       "      <td>1060905</td>\n",
       "      <td>1063914</td>\n",
       "      <td>1093610</td>\n",
       "      <td>...</td>\n",
       "      <td>23337444</td>\n",
       "      <td>23354432</td>\n",
       "      <td>23402211</td>\n",
       "      <td>23410441</td>\n",
       "      <td>23412730</td>\n",
       "      <td>28555183</td>\n",
       "      <td>28555690</td>\n",
       "      <td>58986643</td>\n",
       "      <td>59019347</td>\n",
       "      <td>59019812</td>\n",
       "    </tr>\n",
       "    <tr>\n",
       "      <th>end</th>\n",
       "      <td>858648</td>\n",
       "      <td>918555</td>\n",
       "      <td>942135</td>\n",
       "      <td>946034</td>\n",
       "      <td>956812</td>\n",
       "      <td>1005547</td>\n",
       "      <td>1015095</td>\n",
       "      <td>1061095</td>\n",
       "      <td>1064111</td>\n",
       "      <td>1093958</td>\n",
       "      <td>...</td>\n",
       "      <td>23337868</td>\n",
       "      <td>23354949</td>\n",
       "      <td>23402477</td>\n",
       "      <td>23410715</td>\n",
       "      <td>23412825</td>\n",
       "      <td>28555400</td>\n",
       "      <td>28555797</td>\n",
       "      <td>58986891</td>\n",
       "      <td>59019376</td>\n",
       "      <td>59020026</td>\n",
       "    </tr>\n",
       "    <tr>\n",
       "      <th>name</th>\n",
       "      <td>chr1:858256-858648</td>\n",
       "      <td>chr1:918449-918555</td>\n",
       "      <td>chr1:941791-942135</td>\n",
       "      <td>chr1:945769-946034</td>\n",
       "      <td>chr1:956563-956812</td>\n",
       "      <td>chr1:1005293-1005547</td>\n",
       "      <td>chr1:1014834-1015095</td>\n",
       "      <td>chr1:1060905-1061095</td>\n",
       "      <td>chr1:1063914-1064111</td>\n",
       "      <td>chr1:1093610-1093958</td>\n",
       "      <td>...</td>\n",
       "      <td>chrY:23337444-23337868</td>\n",
       "      <td>chrY:23354432-23354949</td>\n",
       "      <td>chrY:23402211-23402477</td>\n",
       "      <td>chrY:23410441-23410715</td>\n",
       "      <td>chrY:23412730-23412825</td>\n",
       "      <td>chrY:28555183-28555400</td>\n",
       "      <td>chrY:28555690-28555797</td>\n",
       "      <td>chrY:58986643-58986891</td>\n",
       "      <td>chrY:59019347-59019376</td>\n",
       "      <td>chrY:59019812-59020026</td>\n",
       "    </tr>\n",
       "    <tr>\n",
       "      <th>score</th>\n",
       "      <td>5</td>\n",
       "      <td>18</td>\n",
       "      <td>2</td>\n",
       "      <td>17</td>\n",
       "      <td>143</td>\n",
       "      <td>66</td>\n",
       "      <td>17</td>\n",
       "      <td>7</td>\n",
       "      <td>50</td>\n",
       "      <td>7</td>\n",
       "      <td>...</td>\n",
       "      <td>11</td>\n",
       "      <td>2</td>\n",
       "      <td>998</td>\n",
       "      <td>5</td>\n",
       "      <td>7</td>\n",
       "      <td>108</td>\n",
       "      <td>2</td>\n",
       "      <td>2</td>\n",
       "      <td>2</td>\n",
       "      <td>2</td>\n",
       "    </tr>\n",
       "    <tr>\n",
       "      <th>strand</th>\n",
       "      <td>.</td>\n",
       "      <td>.</td>\n",
       "      <td>.</td>\n",
       "      <td>.</td>\n",
       "      <td>.</td>\n",
       "      <td>.</td>\n",
       "      <td>.</td>\n",
       "      <td>.</td>\n",
       "      <td>.</td>\n",
       "      <td>.</td>\n",
       "      <td>...</td>\n",
       "      <td>.</td>\n",
       "      <td>.</td>\n",
       "      <td>.</td>\n",
       "      <td>.</td>\n",
       "      <td>.</td>\n",
       "      <td>.</td>\n",
       "      <td>.</td>\n",
       "      <td>.</td>\n",
       "      <td>.</td>\n",
       "      <td>.</td>\n",
       "    </tr>\n",
       "    <tr>\n",
       "      <th>thickStart</th>\n",
       "      <td>858447</td>\n",
       "      <td>918504</td>\n",
       "      <td>942081</td>\n",
       "      <td>945889</td>\n",
       "      <td>956664</td>\n",
       "      <td>1005420</td>\n",
       "      <td>1014858</td>\n",
       "      <td>1060999</td>\n",
       "      <td>1063978</td>\n",
       "      <td>1093953</td>\n",
       "      <td>...</td>\n",
       "      <td>23337599</td>\n",
       "      <td>23354868</td>\n",
       "      <td>23402341</td>\n",
       "      <td>23410576</td>\n",
       "      <td>23412778</td>\n",
       "      <td>28555297</td>\n",
       "      <td>28555742</td>\n",
       "      <td>58986766</td>\n",
       "      <td>59019361</td>\n",
       "      <td>59019918</td>\n",
       "    </tr>\n",
       "    <tr>\n",
       "      <th>thickEnd</th>\n",
       "      <td>858448</td>\n",
       "      <td>918505</td>\n",
       "      <td>942082</td>\n",
       "      <td>945890</td>\n",
       "      <td>956665</td>\n",
       "      <td>1005421</td>\n",
       "      <td>1014859</td>\n",
       "      <td>1061000</td>\n",
       "      <td>1063979</td>\n",
       "      <td>1093954</td>\n",
       "      <td>...</td>\n",
       "      <td>23337600</td>\n",
       "      <td>23354869</td>\n",
       "      <td>23402342</td>\n",
       "      <td>23410577</td>\n",
       "      <td>23412779</td>\n",
       "      <td>28555298</td>\n",
       "      <td>28555743</td>\n",
       "      <td>58986767</td>\n",
       "      <td>59019362</td>\n",
       "      <td>59019919</td>\n",
       "    </tr>\n",
       "    <tr>\n",
       "      <th>blockCount</th>\n",
       "      <td>2</td>\n",
       "      <td>2</td>\n",
       "      <td>2</td>\n",
       "      <td>2</td>\n",
       "      <td>2</td>\n",
       "      <td>2</td>\n",
       "      <td>2</td>\n",
       "      <td>2</td>\n",
       "      <td>2</td>\n",
       "      <td>2</td>\n",
       "      <td>...</td>\n",
       "      <td>2</td>\n",
       "      <td>2</td>\n",
       "      <td>2</td>\n",
       "      <td>2</td>\n",
       "      <td>2</td>\n",
       "      <td>2</td>\n",
       "      <td>2</td>\n",
       "      <td>2</td>\n",
       "      <td>2</td>\n",
       "      <td>2</td>\n",
       "    </tr>\n",
       "    <tr>\n",
       "      <th>blockSizes</th>\n",
       "      <td>1,10</td>\n",
       "      <td>7,1</td>\n",
       "      <td>238,1</td>\n",
       "      <td>1,25</td>\n",
       "      <td>57,102</td>\n",
       "      <td>57,55</td>\n",
       "      <td>1,213</td>\n",
       "      <td>1,1</td>\n",
       "      <td>45,112</td>\n",
       "      <td>341,1</td>\n",
       "      <td>...</td>\n",
       "      <td>111,223</td>\n",
       "      <td>357,1</td>\n",
       "      <td>80,85</td>\n",
       "      <td>1,4</td>\n",
       "      <td>3,1</td>\n",
       "      <td>98,85</td>\n",
       "      <td>1,2</td>\n",
       "      <td>1,1</td>\n",
       "      <td>1,1</td>\n",
       "      <td>1,1</td>\n",
       "    </tr>\n",
       "    <tr>\n",
       "      <th>blockStarts</th>\n",
       "      <td>0,382</td>\n",
       "      <td>0,105</td>\n",
       "      <td>0,343</td>\n",
       "      <td>0,240</td>\n",
       "      <td>0,147</td>\n",
       "      <td>0,199</td>\n",
       "      <td>0,48</td>\n",
       "      <td>0,189</td>\n",
       "      <td>0,85</td>\n",
       "      <td>0,347</td>\n",
       "      <td>...</td>\n",
       "      <td>0,201</td>\n",
       "      <td>0,516</td>\n",
       "      <td>0,181</td>\n",
       "      <td>0,270</td>\n",
       "      <td>0,94</td>\n",
       "      <td>0,132</td>\n",
       "      <td>0,105</td>\n",
       "      <td>0,247</td>\n",
       "      <td>0,28</td>\n",
       "      <td>0,213</td>\n",
       "    </tr>\n",
       "    <tr>\n",
       "      <th>candidate_id</th>\n",
       "      <td>FANTOM.5.PERMISSIVE.0</td>\n",
       "      <td>FANTOM.5.PERMISSIVE.1</td>\n",
       "      <td>FANTOM.5.PERMISSIVE.2</td>\n",
       "      <td>FANTOM.5.PERMISSIVE.3</td>\n",
       "      <td>FANTOM.5.PERMISSIVE.4</td>\n",
       "      <td>FANTOM.5.PERMISSIVE.5</td>\n",
       "      <td>FANTOM.5.PERMISSIVE.6</td>\n",
       "      <td>FANTOM.5.PERMISSIVE.7</td>\n",
       "      <td>FANTOM.5.PERMISSIVE.8</td>\n",
       "      <td>FANTOM.5.PERMISSIVE.9</td>\n",
       "      <td>...</td>\n",
       "      <td>FANTOM.5.PERMISSIVE.43001</td>\n",
       "      <td>FANTOM.5.PERMISSIVE.43002</td>\n",
       "      <td>FANTOM.5.PERMISSIVE.43003</td>\n",
       "      <td>FANTOM.5.PERMISSIVE.43004</td>\n",
       "      <td>FANTOM.5.PERMISSIVE.43005</td>\n",
       "      <td>FANTOM.5.PERMISSIVE.43006</td>\n",
       "      <td>FANTOM.5.PERMISSIVE.43007</td>\n",
       "      <td>FANTOM.5.PERMISSIVE.43008</td>\n",
       "      <td>FANTOM.5.PERMISSIVE.43009</td>\n",
       "      <td>FANTOM.5.PERMISSIVE.43010</td>\n",
       "    </tr>\n",
       "    <tr>\n",
       "      <th>assembly</th>\n",
       "      <td>hg19</td>\n",
       "      <td>hg19</td>\n",
       "      <td>hg19</td>\n",
       "      <td>hg19</td>\n",
       "      <td>hg19</td>\n",
       "      <td>hg19</td>\n",
       "      <td>hg19</td>\n",
       "      <td>hg19</td>\n",
       "      <td>hg19</td>\n",
       "      <td>hg19</td>\n",
       "      <td>...</td>\n",
       "      <td>hg19</td>\n",
       "      <td>hg19</td>\n",
       "      <td>hg19</td>\n",
       "      <td>hg19</td>\n",
       "      <td>hg19</td>\n",
       "      <td>hg19</td>\n",
       "      <td>hg19</td>\n",
       "      <td>hg19</td>\n",
       "      <td>hg19</td>\n",
       "      <td>hg19</td>\n",
       "    </tr>\n",
       "    <tr>\n",
       "      <th>biosample_term_id</th>\n",
       "      <td></td>\n",
       "      <td></td>\n",
       "      <td></td>\n",
       "      <td></td>\n",
       "      <td></td>\n",
       "      <td></td>\n",
       "      <td></td>\n",
       "      <td></td>\n",
       "      <td></td>\n",
       "      <td></td>\n",
       "      <td>...</td>\n",
       "      <td></td>\n",
       "      <td></td>\n",
       "      <td></td>\n",
       "      <td></td>\n",
       "      <td></td>\n",
       "      <td></td>\n",
       "      <td></td>\n",
       "      <td></td>\n",
       "      <td></td>\n",
       "      <td></td>\n",
       "    </tr>\n",
       "    <tr>\n",
       "      <th>biosample_term_name</th>\n",
       "      <td></td>\n",
       "      <td></td>\n",
       "      <td></td>\n",
       "      <td></td>\n",
       "      <td></td>\n",
       "      <td></td>\n",
       "      <td></td>\n",
       "      <td></td>\n",
       "      <td></td>\n",
       "      <td></td>\n",
       "      <td>...</td>\n",
       "      <td></td>\n",
       "      <td></td>\n",
       "      <td></td>\n",
       "      <td></td>\n",
       "      <td></td>\n",
       "      <td></td>\n",
       "      <td></td>\n",
       "      <td></td>\n",
       "      <td></td>\n",
       "      <td></td>\n",
       "    </tr>\n",
       "    <tr>\n",
       "      <th>biosample_type</th>\n",
       "      <td></td>\n",
       "      <td></td>\n",
       "      <td></td>\n",
       "      <td></td>\n",
       "      <td></td>\n",
       "      <td></td>\n",
       "      <td></td>\n",
       "      <td></td>\n",
       "      <td></td>\n",
       "      <td></td>\n",
       "      <td>...</td>\n",
       "      <td></td>\n",
       "      <td></td>\n",
       "      <td></td>\n",
       "      <td></td>\n",
       "      <td></td>\n",
       "      <td></td>\n",
       "      <td></td>\n",
       "      <td></td>\n",
       "      <td></td>\n",
       "      <td></td>\n",
       "    </tr>\n",
       "    <tr>\n",
       "      <th>description</th>\n",
       "      <td>Permissive enhancers from http://enhancer.binf...</td>\n",
       "      <td>Permissive enhancers from http://enhancer.binf...</td>\n",
       "      <td>Permissive enhancers from http://enhancer.binf...</td>\n",
       "      <td>Permissive enhancers from http://enhancer.binf...</td>\n",
       "      <td>Permissive enhancers from http://enhancer.binf...</td>\n",
       "      <td>Permissive enhancers from http://enhancer.binf...</td>\n",
       "      <td>Permissive enhancers from http://enhancer.binf...</td>\n",
       "      <td>Permissive enhancers from http://enhancer.binf...</td>\n",
       "      <td>Permissive enhancers from http://enhancer.binf...</td>\n",
       "      <td>Permissive enhancers from http://enhancer.binf...</td>\n",
       "      <td>...</td>\n",
       "      <td>Permissive enhancers from http://enhancer.binf...</td>\n",
       "      <td>Permissive enhancers from http://enhancer.binf...</td>\n",
       "      <td>Permissive enhancers from http://enhancer.binf...</td>\n",
       "      <td>Permissive enhancers from http://enhancer.binf...</td>\n",
       "      <td>Permissive enhancers from http://enhancer.binf...</td>\n",
       "      <td>Permissive enhancers from http://enhancer.binf...</td>\n",
       "      <td>Permissive enhancers from http://enhancer.binf...</td>\n",
       "      <td>Permissive enhancers from http://enhancer.binf...</td>\n",
       "      <td>Permissive enhancers from http://enhancer.binf...</td>\n",
       "      <td>Permissive enhancers from http://enhancer.binf...</td>\n",
       "    </tr>\n",
       "    <tr>\n",
       "      <th>developmental_slims</th>\n",
       "      <td></td>\n",
       "      <td></td>\n",
       "      <td></td>\n",
       "      <td></td>\n",
       "      <td></td>\n",
       "      <td></td>\n",
       "      <td></td>\n",
       "      <td></td>\n",
       "      <td></td>\n",
       "      <td></td>\n",
       "      <td>...</td>\n",
       "      <td></td>\n",
       "      <td></td>\n",
       "      <td></td>\n",
       "      <td></td>\n",
       "      <td></td>\n",
       "      <td></td>\n",
       "      <td></td>\n",
       "      <td></td>\n",
       "      <td></td>\n",
       "      <td></td>\n",
       "    </tr>\n",
       "    <tr>\n",
       "      <th>encyclopedia</th>\n",
       "      <td>FANTOM</td>\n",
       "      <td>FANTOM</td>\n",
       "      <td>FANTOM</td>\n",
       "      <td>FANTOM</td>\n",
       "      <td>FANTOM</td>\n",
       "      <td>FANTOM</td>\n",
       "      <td>FANTOM</td>\n",
       "      <td>FANTOM</td>\n",
       "      <td>FANTOM</td>\n",
       "      <td>FANTOM</td>\n",
       "      <td>...</td>\n",
       "      <td>FANTOM</td>\n",
       "      <td>FANTOM</td>\n",
       "      <td>FANTOM</td>\n",
       "      <td>FANTOM</td>\n",
       "      <td>FANTOM</td>\n",
       "      <td>FANTOM</td>\n",
       "      <td>FANTOM</td>\n",
       "      <td>FANTOM</td>\n",
       "      <td>FANTOM</td>\n",
       "      <td>FANTOM</td>\n",
       "    </tr>\n",
       "    <tr>\n",
       "      <th>encyclopedia_version</th>\n",
       "      <td>5</td>\n",
       "      <td>5</td>\n",
       "      <td>5</td>\n",
       "      <td>5</td>\n",
       "      <td>5</td>\n",
       "      <td>5</td>\n",
       "      <td>5</td>\n",
       "      <td>5</td>\n",
       "      <td>5</td>\n",
       "      <td>5</td>\n",
       "      <td>...</td>\n",
       "      <td>5</td>\n",
       "      <td>5</td>\n",
       "      <td>5</td>\n",
       "      <td>5</td>\n",
       "      <td>5</td>\n",
       "      <td>5</td>\n",
       "      <td>5</td>\n",
       "      <td>5</td>\n",
       "      <td>5</td>\n",
       "      <td>5</td>\n",
       "    </tr>\n",
       "    <tr>\n",
       "      <th>month_released</th>\n",
       "      <td></td>\n",
       "      <td></td>\n",
       "      <td></td>\n",
       "      <td></td>\n",
       "      <td></td>\n",
       "      <td></td>\n",
       "      <td></td>\n",
       "      <td></td>\n",
       "      <td></td>\n",
       "      <td></td>\n",
       "      <td>...</td>\n",
       "      <td></td>\n",
       "      <td></td>\n",
       "      <td></td>\n",
       "      <td></td>\n",
       "      <td></td>\n",
       "      <td></td>\n",
       "      <td></td>\n",
       "      <td></td>\n",
       "      <td></td>\n",
       "      <td></td>\n",
       "    </tr>\n",
       "    <tr>\n",
       "      <th>organ_slims</th>\n",
       "      <td></td>\n",
       "      <td></td>\n",
       "      <td></td>\n",
       "      <td></td>\n",
       "      <td></td>\n",
       "      <td></td>\n",
       "      <td></td>\n",
       "      <td></td>\n",
       "      <td></td>\n",
       "      <td></td>\n",
       "      <td>...</td>\n",
       "      <td></td>\n",
       "      <td></td>\n",
       "      <td></td>\n",
       "      <td></td>\n",
       "      <td></td>\n",
       "      <td></td>\n",
       "      <td></td>\n",
       "      <td></td>\n",
       "      <td></td>\n",
       "      <td></td>\n",
       "    </tr>\n",
       "    <tr>\n",
       "      <th>organism</th>\n",
       "      <td>/organisms/human</td>\n",
       "      <td>/organisms/human</td>\n",
       "      <td>/organisms/human</td>\n",
       "      <td>/organisms/human</td>\n",
       "      <td>/organisms/human</td>\n",
       "      <td>/organisms/human</td>\n",
       "      <td>/organisms/human</td>\n",
       "      <td>/organisms/human</td>\n",
       "      <td>/organisms/human</td>\n",
       "      <td>/organisms/human</td>\n",
       "      <td>...</td>\n",
       "      <td>/organisms/human</td>\n",
       "      <td>/organisms/human</td>\n",
       "      <td>/organisms/human</td>\n",
       "      <td>/organisms/human</td>\n",
       "      <td>/organisms/human</td>\n",
       "      <td>/organisms/human</td>\n",
       "      <td>/organisms/human</td>\n",
       "      <td>/organisms/human</td>\n",
       "      <td>/organisms/human</td>\n",
       "      <td>/organisms/human</td>\n",
       "    </tr>\n",
       "    <tr>\n",
       "      <th>system_slims</th>\n",
       "      <td></td>\n",
       "      <td></td>\n",
       "      <td></td>\n",
       "      <td></td>\n",
       "      <td></td>\n",
       "      <td></td>\n",
       "      <td></td>\n",
       "      <td></td>\n",
       "      <td></td>\n",
       "      <td></td>\n",
       "      <td>...</td>\n",
       "      <td></td>\n",
       "      <td></td>\n",
       "      <td></td>\n",
       "      <td></td>\n",
       "      <td></td>\n",
       "      <td></td>\n",
       "      <td></td>\n",
       "      <td></td>\n",
       "      <td></td>\n",
       "      <td></td>\n",
       "    </tr>\n",
       "    <tr>\n",
       "      <th>method</th>\n",
       "      <td>CAGE_TCs</td>\n",
       "      <td>CAGE_TCs</td>\n",
       "      <td>CAGE_TCs</td>\n",
       "      <td>CAGE_TCs</td>\n",
       "      <td>CAGE_TCs</td>\n",
       "      <td>CAGE_TCs</td>\n",
       "      <td>CAGE_TCs</td>\n",
       "      <td>CAGE_TCs</td>\n",
       "      <td>CAGE_TCs</td>\n",
       "      <td>CAGE_TCs</td>\n",
       "      <td>...</td>\n",
       "      <td>CAGE_TCs</td>\n",
       "      <td>CAGE_TCs</td>\n",
       "      <td>CAGE_TCs</td>\n",
       "      <td>CAGE_TCs</td>\n",
       "      <td>CAGE_TCs</td>\n",
       "      <td>CAGE_TCs</td>\n",
       "      <td>CAGE_TCs</td>\n",
       "      <td>CAGE_TCs</td>\n",
       "      <td>CAGE_TCs</td>\n",
       "      <td>CAGE_TCs</td>\n",
       "    </tr>\n",
       "  </tbody>\n",
       "</table>\n",
       "<p>25 rows × 43011 columns</p>\n",
       "</div>"
      ],
      "text/plain": [
       "                                                                  0      \\\n",
       "chrom                                                              chr1   \n",
       "start                                                            858256   \n",
       "end                                                              858648   \n",
       "name                                                 chr1:858256-858648   \n",
       "score                                                                 5   \n",
       "strand                                                                .   \n",
       "thickStart                                                       858447   \n",
       "thickEnd                                                         858448   \n",
       "blockCount                                                            2   \n",
       "blockSizes                                                         1,10   \n",
       "blockStarts                                                       0,382   \n",
       "candidate_id                                      FANTOM.5.PERMISSIVE.0   \n",
       "assembly                                                           hg19   \n",
       "biosample_term_id                                                         \n",
       "biosample_term_name                                                       \n",
       "biosample_type                                                            \n",
       "description           Permissive enhancers from http://enhancer.binf...   \n",
       "developmental_slims                                                       \n",
       "encyclopedia                                                     FANTOM   \n",
       "encyclopedia_version                                                  5   \n",
       "month_released                                                            \n",
       "organ_slims                                                               \n",
       "organism                                               /organisms/human   \n",
       "system_slims                                                              \n",
       "method                                                         CAGE_TCs   \n",
       "\n",
       "                                                                  1      \\\n",
       "chrom                                                              chr1   \n",
       "start                                                            918449   \n",
       "end                                                              918555   \n",
       "name                                                 chr1:918449-918555   \n",
       "score                                                                18   \n",
       "strand                                                                .   \n",
       "thickStart                                                       918504   \n",
       "thickEnd                                                         918505   \n",
       "blockCount                                                            2   \n",
       "blockSizes                                                          7,1   \n",
       "blockStarts                                                       0,105   \n",
       "candidate_id                                      FANTOM.5.PERMISSIVE.1   \n",
       "assembly                                                           hg19   \n",
       "biosample_term_id                                                         \n",
       "biosample_term_name                                                       \n",
       "biosample_type                                                            \n",
       "description           Permissive enhancers from http://enhancer.binf...   \n",
       "developmental_slims                                                       \n",
       "encyclopedia                                                     FANTOM   \n",
       "encyclopedia_version                                                  5   \n",
       "month_released                                                            \n",
       "organ_slims                                                               \n",
       "organism                                               /organisms/human   \n",
       "system_slims                                                              \n",
       "method                                                         CAGE_TCs   \n",
       "\n",
       "                                                                  2      \\\n",
       "chrom                                                              chr1   \n",
       "start                                                            941791   \n",
       "end                                                              942135   \n",
       "name                                                 chr1:941791-942135   \n",
       "score                                                                 2   \n",
       "strand                                                                .   \n",
       "thickStart                                                       942081   \n",
       "thickEnd                                                         942082   \n",
       "blockCount                                                            2   \n",
       "blockSizes                                                        238,1   \n",
       "blockStarts                                                       0,343   \n",
       "candidate_id                                      FANTOM.5.PERMISSIVE.2   \n",
       "assembly                                                           hg19   \n",
       "biosample_term_id                                                         \n",
       "biosample_term_name                                                       \n",
       "biosample_type                                                            \n",
       "description           Permissive enhancers from http://enhancer.binf...   \n",
       "developmental_slims                                                       \n",
       "encyclopedia                                                     FANTOM   \n",
       "encyclopedia_version                                                  5   \n",
       "month_released                                                            \n",
       "organ_slims                                                               \n",
       "organism                                               /organisms/human   \n",
       "system_slims                                                              \n",
       "method                                                         CAGE_TCs   \n",
       "\n",
       "                                                                  3      \\\n",
       "chrom                                                              chr1   \n",
       "start                                                            945769   \n",
       "end                                                              946034   \n",
       "name                                                 chr1:945769-946034   \n",
       "score                                                                17   \n",
       "strand                                                                .   \n",
       "thickStart                                                       945889   \n",
       "thickEnd                                                         945890   \n",
       "blockCount                                                            2   \n",
       "blockSizes                                                         1,25   \n",
       "blockStarts                                                       0,240   \n",
       "candidate_id                                      FANTOM.5.PERMISSIVE.3   \n",
       "assembly                                                           hg19   \n",
       "biosample_term_id                                                         \n",
       "biosample_term_name                                                       \n",
       "biosample_type                                                            \n",
       "description           Permissive enhancers from http://enhancer.binf...   \n",
       "developmental_slims                                                       \n",
       "encyclopedia                                                     FANTOM   \n",
       "encyclopedia_version                                                  5   \n",
       "month_released                                                            \n",
       "organ_slims                                                               \n",
       "organism                                               /organisms/human   \n",
       "system_slims                                                              \n",
       "method                                                         CAGE_TCs   \n",
       "\n",
       "                                                                  4      \\\n",
       "chrom                                                              chr1   \n",
       "start                                                            956563   \n",
       "end                                                              956812   \n",
       "name                                                 chr1:956563-956812   \n",
       "score                                                               143   \n",
       "strand                                                                .   \n",
       "thickStart                                                       956664   \n",
       "thickEnd                                                         956665   \n",
       "blockCount                                                            2   \n",
       "blockSizes                                                       57,102   \n",
       "blockStarts                                                       0,147   \n",
       "candidate_id                                      FANTOM.5.PERMISSIVE.4   \n",
       "assembly                                                           hg19   \n",
       "biosample_term_id                                                         \n",
       "biosample_term_name                                                       \n",
       "biosample_type                                                            \n",
       "description           Permissive enhancers from http://enhancer.binf...   \n",
       "developmental_slims                                                       \n",
       "encyclopedia                                                     FANTOM   \n",
       "encyclopedia_version                                                  5   \n",
       "month_released                                                            \n",
       "organ_slims                                                               \n",
       "organism                                               /organisms/human   \n",
       "system_slims                                                              \n",
       "method                                                         CAGE_TCs   \n",
       "\n",
       "                                                                  5      \\\n",
       "chrom                                                              chr1   \n",
       "start                                                           1005293   \n",
       "end                                                             1005547   \n",
       "name                                               chr1:1005293-1005547   \n",
       "score                                                                66   \n",
       "strand                                                                .   \n",
       "thickStart                                                      1005420   \n",
       "thickEnd                                                        1005421   \n",
       "blockCount                                                            2   \n",
       "blockSizes                                                        57,55   \n",
       "blockStarts                                                       0,199   \n",
       "candidate_id                                      FANTOM.5.PERMISSIVE.5   \n",
       "assembly                                                           hg19   \n",
       "biosample_term_id                                                         \n",
       "biosample_term_name                                                       \n",
       "biosample_type                                                            \n",
       "description           Permissive enhancers from http://enhancer.binf...   \n",
       "developmental_slims                                                       \n",
       "encyclopedia                                                     FANTOM   \n",
       "encyclopedia_version                                                  5   \n",
       "month_released                                                            \n",
       "organ_slims                                                               \n",
       "organism                                               /organisms/human   \n",
       "system_slims                                                              \n",
       "method                                                         CAGE_TCs   \n",
       "\n",
       "                                                                  6      \\\n",
       "chrom                                                              chr1   \n",
       "start                                                           1014834   \n",
       "end                                                             1015095   \n",
       "name                                               chr1:1014834-1015095   \n",
       "score                                                                17   \n",
       "strand                                                                .   \n",
       "thickStart                                                      1014858   \n",
       "thickEnd                                                        1014859   \n",
       "blockCount                                                            2   \n",
       "blockSizes                                                        1,213   \n",
       "blockStarts                                                        0,48   \n",
       "candidate_id                                      FANTOM.5.PERMISSIVE.6   \n",
       "assembly                                                           hg19   \n",
       "biosample_term_id                                                         \n",
       "biosample_term_name                                                       \n",
       "biosample_type                                                            \n",
       "description           Permissive enhancers from http://enhancer.binf...   \n",
       "developmental_slims                                                       \n",
       "encyclopedia                                                     FANTOM   \n",
       "encyclopedia_version                                                  5   \n",
       "month_released                                                            \n",
       "organ_slims                                                               \n",
       "organism                                               /organisms/human   \n",
       "system_slims                                                              \n",
       "method                                                         CAGE_TCs   \n",
       "\n",
       "                                                                  7      \\\n",
       "chrom                                                              chr1   \n",
       "start                                                           1060905   \n",
       "end                                                             1061095   \n",
       "name                                               chr1:1060905-1061095   \n",
       "score                                                                 7   \n",
       "strand                                                                .   \n",
       "thickStart                                                      1060999   \n",
       "thickEnd                                                        1061000   \n",
       "blockCount                                                            2   \n",
       "blockSizes                                                          1,1   \n",
       "blockStarts                                                       0,189   \n",
       "candidate_id                                      FANTOM.5.PERMISSIVE.7   \n",
       "assembly                                                           hg19   \n",
       "biosample_term_id                                                         \n",
       "biosample_term_name                                                       \n",
       "biosample_type                                                            \n",
       "description           Permissive enhancers from http://enhancer.binf...   \n",
       "developmental_slims                                                       \n",
       "encyclopedia                                                     FANTOM   \n",
       "encyclopedia_version                                                  5   \n",
       "month_released                                                            \n",
       "organ_slims                                                               \n",
       "organism                                               /organisms/human   \n",
       "system_slims                                                              \n",
       "method                                                         CAGE_TCs   \n",
       "\n",
       "                                                                  8      \\\n",
       "chrom                                                              chr1   \n",
       "start                                                           1063914   \n",
       "end                                                             1064111   \n",
       "name                                               chr1:1063914-1064111   \n",
       "score                                                                50   \n",
       "strand                                                                .   \n",
       "thickStart                                                      1063978   \n",
       "thickEnd                                                        1063979   \n",
       "blockCount                                                            2   \n",
       "blockSizes                                                       45,112   \n",
       "blockStarts                                                        0,85   \n",
       "candidate_id                                      FANTOM.5.PERMISSIVE.8   \n",
       "assembly                                                           hg19   \n",
       "biosample_term_id                                                         \n",
       "biosample_term_name                                                       \n",
       "biosample_type                                                            \n",
       "description           Permissive enhancers from http://enhancer.binf...   \n",
       "developmental_slims                                                       \n",
       "encyclopedia                                                     FANTOM   \n",
       "encyclopedia_version                                                  5   \n",
       "month_released                                                            \n",
       "organ_slims                                                               \n",
       "organism                                               /organisms/human   \n",
       "system_slims                                                              \n",
       "method                                                         CAGE_TCs   \n",
       "\n",
       "                                                                  9      \\\n",
       "chrom                                                              chr1   \n",
       "start                                                           1093610   \n",
       "end                                                             1093958   \n",
       "name                                               chr1:1093610-1093958   \n",
       "score                                                                 7   \n",
       "strand                                                                .   \n",
       "thickStart                                                      1093953   \n",
       "thickEnd                                                        1093954   \n",
       "blockCount                                                            2   \n",
       "blockSizes                                                        341,1   \n",
       "blockStarts                                                       0,347   \n",
       "candidate_id                                      FANTOM.5.PERMISSIVE.9   \n",
       "assembly                                                           hg19   \n",
       "biosample_term_id                                                         \n",
       "biosample_term_name                                                       \n",
       "biosample_type                                                            \n",
       "description           Permissive enhancers from http://enhancer.binf...   \n",
       "developmental_slims                                                       \n",
       "encyclopedia                                                     FANTOM   \n",
       "encyclopedia_version                                                  5   \n",
       "month_released                                                            \n",
       "organ_slims                                                               \n",
       "organism                                               /organisms/human   \n",
       "system_slims                                                              \n",
       "method                                                         CAGE_TCs   \n",
       "\n",
       "                                            ...                          \\\n",
       "chrom                                       ...                           \n",
       "start                                       ...                           \n",
       "end                                         ...                           \n",
       "name                                        ...                           \n",
       "score                                       ...                           \n",
       "strand                                      ...                           \n",
       "thickStart                                  ...                           \n",
       "thickEnd                                    ...                           \n",
       "blockCount                                  ...                           \n",
       "blockSizes                                  ...                           \n",
       "blockStarts                                 ...                           \n",
       "candidate_id                                ...                           \n",
       "assembly                                    ...                           \n",
       "biosample_term_id                           ...                           \n",
       "biosample_term_name                         ...                           \n",
       "biosample_type                              ...                           \n",
       "description                                 ...                           \n",
       "developmental_slims                         ...                           \n",
       "encyclopedia                                ...                           \n",
       "encyclopedia_version                        ...                           \n",
       "month_released                              ...                           \n",
       "organ_slims                                 ...                           \n",
       "organism                                    ...                           \n",
       "system_slims                                ...                           \n",
       "method                                      ...                           \n",
       "\n",
       "                                                                  43001  \\\n",
       "chrom                                                              chrY   \n",
       "start                                                          23337444   \n",
       "end                                                            23337868   \n",
       "name                                             chrY:23337444-23337868   \n",
       "score                                                                11   \n",
       "strand                                                                .   \n",
       "thickStart                                                     23337599   \n",
       "thickEnd                                                       23337600   \n",
       "blockCount                                                            2   \n",
       "blockSizes                                                      111,223   \n",
       "blockStarts                                                       0,201   \n",
       "candidate_id                                  FANTOM.5.PERMISSIVE.43001   \n",
       "assembly                                                           hg19   \n",
       "biosample_term_id                                                         \n",
       "biosample_term_name                                                       \n",
       "biosample_type                                                            \n",
       "description           Permissive enhancers from http://enhancer.binf...   \n",
       "developmental_slims                                                       \n",
       "encyclopedia                                                     FANTOM   \n",
       "encyclopedia_version                                                  5   \n",
       "month_released                                                            \n",
       "organ_slims                                                               \n",
       "organism                                               /organisms/human   \n",
       "system_slims                                                              \n",
       "method                                                         CAGE_TCs   \n",
       "\n",
       "                                                                  43002  \\\n",
       "chrom                                                              chrY   \n",
       "start                                                          23354432   \n",
       "end                                                            23354949   \n",
       "name                                             chrY:23354432-23354949   \n",
       "score                                                                 2   \n",
       "strand                                                                .   \n",
       "thickStart                                                     23354868   \n",
       "thickEnd                                                       23354869   \n",
       "blockCount                                                            2   \n",
       "blockSizes                                                        357,1   \n",
       "blockStarts                                                       0,516   \n",
       "candidate_id                                  FANTOM.5.PERMISSIVE.43002   \n",
       "assembly                                                           hg19   \n",
       "biosample_term_id                                                         \n",
       "biosample_term_name                                                       \n",
       "biosample_type                                                            \n",
       "description           Permissive enhancers from http://enhancer.binf...   \n",
       "developmental_slims                                                       \n",
       "encyclopedia                                                     FANTOM   \n",
       "encyclopedia_version                                                  5   \n",
       "month_released                                                            \n",
       "organ_slims                                                               \n",
       "organism                                               /organisms/human   \n",
       "system_slims                                                              \n",
       "method                                                         CAGE_TCs   \n",
       "\n",
       "                                                                  43003  \\\n",
       "chrom                                                              chrY   \n",
       "start                                                          23402211   \n",
       "end                                                            23402477   \n",
       "name                                             chrY:23402211-23402477   \n",
       "score                                                               998   \n",
       "strand                                                                .   \n",
       "thickStart                                                     23402341   \n",
       "thickEnd                                                       23402342   \n",
       "blockCount                                                            2   \n",
       "blockSizes                                                        80,85   \n",
       "blockStarts                                                       0,181   \n",
       "candidate_id                                  FANTOM.5.PERMISSIVE.43003   \n",
       "assembly                                                           hg19   \n",
       "biosample_term_id                                                         \n",
       "biosample_term_name                                                       \n",
       "biosample_type                                                            \n",
       "description           Permissive enhancers from http://enhancer.binf...   \n",
       "developmental_slims                                                       \n",
       "encyclopedia                                                     FANTOM   \n",
       "encyclopedia_version                                                  5   \n",
       "month_released                                                            \n",
       "organ_slims                                                               \n",
       "organism                                               /organisms/human   \n",
       "system_slims                                                              \n",
       "method                                                         CAGE_TCs   \n",
       "\n",
       "                                                                  43004  \\\n",
       "chrom                                                              chrY   \n",
       "start                                                          23410441   \n",
       "end                                                            23410715   \n",
       "name                                             chrY:23410441-23410715   \n",
       "score                                                                 5   \n",
       "strand                                                                .   \n",
       "thickStart                                                     23410576   \n",
       "thickEnd                                                       23410577   \n",
       "blockCount                                                            2   \n",
       "blockSizes                                                          1,4   \n",
       "blockStarts                                                       0,270   \n",
       "candidate_id                                  FANTOM.5.PERMISSIVE.43004   \n",
       "assembly                                                           hg19   \n",
       "biosample_term_id                                                         \n",
       "biosample_term_name                                                       \n",
       "biosample_type                                                            \n",
       "description           Permissive enhancers from http://enhancer.binf...   \n",
       "developmental_slims                                                       \n",
       "encyclopedia                                                     FANTOM   \n",
       "encyclopedia_version                                                  5   \n",
       "month_released                                                            \n",
       "organ_slims                                                               \n",
       "organism                                               /organisms/human   \n",
       "system_slims                                                              \n",
       "method                                                         CAGE_TCs   \n",
       "\n",
       "                                                                  43005  \\\n",
       "chrom                                                              chrY   \n",
       "start                                                          23412730   \n",
       "end                                                            23412825   \n",
       "name                                             chrY:23412730-23412825   \n",
       "score                                                                 7   \n",
       "strand                                                                .   \n",
       "thickStart                                                     23412778   \n",
       "thickEnd                                                       23412779   \n",
       "blockCount                                                            2   \n",
       "blockSizes                                                          3,1   \n",
       "blockStarts                                                        0,94   \n",
       "candidate_id                                  FANTOM.5.PERMISSIVE.43005   \n",
       "assembly                                                           hg19   \n",
       "biosample_term_id                                                         \n",
       "biosample_term_name                                                       \n",
       "biosample_type                                                            \n",
       "description           Permissive enhancers from http://enhancer.binf...   \n",
       "developmental_slims                                                       \n",
       "encyclopedia                                                     FANTOM   \n",
       "encyclopedia_version                                                  5   \n",
       "month_released                                                            \n",
       "organ_slims                                                               \n",
       "organism                                               /organisms/human   \n",
       "system_slims                                                              \n",
       "method                                                         CAGE_TCs   \n",
       "\n",
       "                                                                  43006  \\\n",
       "chrom                                                              chrY   \n",
       "start                                                          28555183   \n",
       "end                                                            28555400   \n",
       "name                                             chrY:28555183-28555400   \n",
       "score                                                               108   \n",
       "strand                                                                .   \n",
       "thickStart                                                     28555297   \n",
       "thickEnd                                                       28555298   \n",
       "blockCount                                                            2   \n",
       "blockSizes                                                        98,85   \n",
       "blockStarts                                                       0,132   \n",
       "candidate_id                                  FANTOM.5.PERMISSIVE.43006   \n",
       "assembly                                                           hg19   \n",
       "biosample_term_id                                                         \n",
       "biosample_term_name                                                       \n",
       "biosample_type                                                            \n",
       "description           Permissive enhancers from http://enhancer.binf...   \n",
       "developmental_slims                                                       \n",
       "encyclopedia                                                     FANTOM   \n",
       "encyclopedia_version                                                  5   \n",
       "month_released                                                            \n",
       "organ_slims                                                               \n",
       "organism                                               /organisms/human   \n",
       "system_slims                                                              \n",
       "method                                                         CAGE_TCs   \n",
       "\n",
       "                                                                  43007  \\\n",
       "chrom                                                              chrY   \n",
       "start                                                          28555690   \n",
       "end                                                            28555797   \n",
       "name                                             chrY:28555690-28555797   \n",
       "score                                                                 2   \n",
       "strand                                                                .   \n",
       "thickStart                                                     28555742   \n",
       "thickEnd                                                       28555743   \n",
       "blockCount                                                            2   \n",
       "blockSizes                                                          1,2   \n",
       "blockStarts                                                       0,105   \n",
       "candidate_id                                  FANTOM.5.PERMISSIVE.43007   \n",
       "assembly                                                           hg19   \n",
       "biosample_term_id                                                         \n",
       "biosample_term_name                                                       \n",
       "biosample_type                                                            \n",
       "description           Permissive enhancers from http://enhancer.binf...   \n",
       "developmental_slims                                                       \n",
       "encyclopedia                                                     FANTOM   \n",
       "encyclopedia_version                                                  5   \n",
       "month_released                                                            \n",
       "organ_slims                                                               \n",
       "organism                                               /organisms/human   \n",
       "system_slims                                                              \n",
       "method                                                         CAGE_TCs   \n",
       "\n",
       "                                                                  43008  \\\n",
       "chrom                                                              chrY   \n",
       "start                                                          58986643   \n",
       "end                                                            58986891   \n",
       "name                                             chrY:58986643-58986891   \n",
       "score                                                                 2   \n",
       "strand                                                                .   \n",
       "thickStart                                                     58986766   \n",
       "thickEnd                                                       58986767   \n",
       "blockCount                                                            2   \n",
       "blockSizes                                                          1,1   \n",
       "blockStarts                                                       0,247   \n",
       "candidate_id                                  FANTOM.5.PERMISSIVE.43008   \n",
       "assembly                                                           hg19   \n",
       "biosample_term_id                                                         \n",
       "biosample_term_name                                                       \n",
       "biosample_type                                                            \n",
       "description           Permissive enhancers from http://enhancer.binf...   \n",
       "developmental_slims                                                       \n",
       "encyclopedia                                                     FANTOM   \n",
       "encyclopedia_version                                                  5   \n",
       "month_released                                                            \n",
       "organ_slims                                                               \n",
       "organism                                               /organisms/human   \n",
       "system_slims                                                              \n",
       "method                                                         CAGE_TCs   \n",
       "\n",
       "                                                                  43009  \\\n",
       "chrom                                                              chrY   \n",
       "start                                                          59019347   \n",
       "end                                                            59019376   \n",
       "name                                             chrY:59019347-59019376   \n",
       "score                                                                 2   \n",
       "strand                                                                .   \n",
       "thickStart                                                     59019361   \n",
       "thickEnd                                                       59019362   \n",
       "blockCount                                                            2   \n",
       "blockSizes                                                          1,1   \n",
       "blockStarts                                                        0,28   \n",
       "candidate_id                                  FANTOM.5.PERMISSIVE.43009   \n",
       "assembly                                                           hg19   \n",
       "biosample_term_id                                                         \n",
       "biosample_term_name                                                       \n",
       "biosample_type                                                            \n",
       "description           Permissive enhancers from http://enhancer.binf...   \n",
       "developmental_slims                                                       \n",
       "encyclopedia                                                     FANTOM   \n",
       "encyclopedia_version                                                  5   \n",
       "month_released                                                            \n",
       "organ_slims                                                               \n",
       "organism                                               /organisms/human   \n",
       "system_slims                                                              \n",
       "method                                                         CAGE_TCs   \n",
       "\n",
       "                                                                  43010  \n",
       "chrom                                                              chrY  \n",
       "start                                                          59019812  \n",
       "end                                                            59020026  \n",
       "name                                             chrY:59019812-59020026  \n",
       "score                                                                 2  \n",
       "strand                                                                .  \n",
       "thickStart                                                     59019918  \n",
       "thickEnd                                                       59019919  \n",
       "blockCount                                                            2  \n",
       "blockSizes                                                          1,1  \n",
       "blockStarts                                                       0,213  \n",
       "candidate_id                                  FANTOM.5.PERMISSIVE.43010  \n",
       "assembly                                                           hg19  \n",
       "biosample_term_id                                                        \n",
       "biosample_term_name                                                      \n",
       "biosample_type                                                           \n",
       "description           Permissive enhancers from http://enhancer.binf...  \n",
       "developmental_slims                                                      \n",
       "encyclopedia                                                     FANTOM  \n",
       "encyclopedia_version                                                  5  \n",
       "month_released                                                           \n",
       "organ_slims                                                              \n",
       "organism                                               /organisms/human  \n",
       "system_slims                                                             \n",
       "method                                                         CAGE_TCs  \n",
       "\n",
       "[25 rows x 43011 columns]"
      ]
     },
     "execution_count": 343,
     "metadata": {},
     "output_type": "execute_result"
    }
   ],
   "source": [
    "store['permissive'].T"
   ]
  },
  {
   "cell_type": "markdown",
   "metadata": {},
   "source": [
    "## ENCODE ovlp FANTOM"
   ]
  },
  {
   "cell_type": "code",
   "execution_count": 4,
   "metadata": {
    "collapsed": true
   },
   "outputs": [],
   "source": [
    "store = pd.HDFStore('../storage/encode_overlaps.hdf')"
   ]
  },
  {
   "cell_type": "code",
   "execution_count": 5,
   "metadata": {
    "collapsed": false
   },
   "outputs": [
    {
     "data": {
      "text/plain": [
       "['/filtered_hg19DNase_H3K27ac_FANTOM_overlapped',\n",
       " '/filtered_hg19DNase_H3K27ac_FANTOM_overlapped_bed']"
      ]
     },
     "execution_count": 5,
     "metadata": {},
     "output_type": "execute_result"
    }
   ],
   "source": [
    "store.keys()"
   ]
  },
  {
   "cell_type": "code",
   "execution_count": 6,
   "metadata": {
    "collapsed": false
   },
   "outputs": [],
   "source": [
    "tissue_df = pd.read_hdf('../storage/encode_overlaps.hdf', 'filtered_hg19DNase_H3K27ac_FANTOM_overlapped', where='biosample_type == \"tissue\"')"
   ]
  },
  {
   "cell_type": "code",
   "execution_count": 7,
   "metadata": {
    "collapsed": false
   },
   "outputs": [],
   "source": [
    "all_df = pd.read_hdf('../storage/encode_overlaps.hdf', 'filtered_hg19DNase_H3K27ac_FANTOM_overlapped')"
   ]
  },
  {
   "cell_type": "code",
   "execution_count": 8,
   "metadata": {
    "collapsed": false
   },
   "outputs": [
    {
     "data": {
      "text/plain": [
       "509853"
      ]
     },
     "execution_count": 8,
     "metadata": {},
     "output_type": "execute_result"
    }
   ],
   "source": [
    "len(tissue_df)"
   ]
  },
  {
   "cell_type": "code",
   "execution_count": 9,
   "metadata": {
    "collapsed": false
   },
   "outputs": [
    {
     "data": {
      "text/plain": [
       "1801781"
      ]
     },
     "execution_count": 9,
     "metadata": {},
     "output_type": "execute_result"
    }
   ],
   "source": [
    "len(all_df)"
   ]
  },
  {
   "cell_type": "code",
   "execution_count": 10,
   "metadata": {
    "collapsed": false
   },
   "outputs": [
    {
     "data": {
      "text/plain": [
       "array(['tissue'], dtype=object)"
      ]
     },
     "execution_count": 10,
     "metadata": {},
     "output_type": "execute_result"
    }
   ],
   "source": [
    "tissue_df['biosample_type'].unique()"
   ]
  },
  {
   "cell_type": "code",
   "execution_count": 11,
   "metadata": {
    "collapsed": false
   },
   "outputs": [
    {
     "data": {
      "text/plain": [
       "array(['primary cell', 'tissue', 'stem cell', 'immortalized cell line',\n",
       "       'induced pluripotent stem cell line',\n",
       "       'in vitro differentiated cells'], dtype=object)"
      ]
     },
     "execution_count": 11,
     "metadata": {},
     "output_type": "execute_result"
    }
   ],
   "source": [
    "all_df['biosample_type'].unique()"
   ]
  },
  {
   "cell_type": "code",
   "execution_count": 12,
   "metadata": {
    "collapsed": false
   },
   "outputs": [
    {
     "data": {
      "text/plain": [
       "212041"
      ]
     },
     "execution_count": 12,
     "metadata": {},
     "output_type": "execute_result"
    }
   ],
   "source": [
    "len(all_df.query('FA_ovlp_pct > 0'))"
   ]
  },
  {
   "cell_type": "code",
   "execution_count": 13,
   "metadata": {
    "collapsed": true
   },
   "outputs": [],
   "source": [
    "overlaps_only_df = all_df.query('FA_ovlp_pct > 0')"
   ]
  },
  {
   "cell_type": "code",
   "execution_count": 14,
   "metadata": {
    "collapsed": false
   },
   "outputs": [
    {
     "data": {
      "text/plain": [
       "1          ENCODE.3.ENCFF812MMO.1.OVLP.FANTOM.5.PERMISSIV...\n",
       "3          ENCODE.3.ENCFF812MMO.3.OVLP.FANTOM.5.PERMISSIV...\n",
       "6          ENCODE.3.ENCFF812MMO.6.OVLP.FANTOM.5.PERMISSIV...\n",
       "15         ENCODE.3.ENCFF812MMO.15.OVLP.FANTOM.5.PERMISSI...\n",
       "16         ENCODE.3.ENCFF812MMO.15.OVLP.FANTOM.5.PERMISSI...\n",
       "17         ENCODE.3.ENCFF812MMO.15.OVLP.FANTOM.5.PERMISSI...\n",
       "19         ENCODE.3.ENCFF812MMO.17.OVLP.FANTOM.5.PERMISSI...\n",
       "20         ENCODE.3.ENCFF812MMO.18.OVLP.FANTOM.5.PERMISSI...\n",
       "21         ENCODE.3.ENCFF812MMO.19.OVLP.FANTOM.5.PERMISSI...\n",
       "22         ENCODE.3.ENCFF812MMO.19.OVLP.FANTOM.5.PERMISSI...\n",
       "31         ENCODE.3.ENCFF812MMO.28.OVLP.FANTOM.5.PERMISSI...\n",
       "32         ENCODE.3.ENCFF812MMO.29.OVLP.FANTOM.5.PERMISSI...\n",
       "33         ENCODE.3.ENCFF812MMO.29.OVLP.FANTOM.5.PERMISSI...\n",
       "37         ENCODE.3.ENCFF812MMO.33.OVLP.FANTOM.5.PERMISSI...\n",
       "39         ENCODE.3.ENCFF812MMO.35.OVLP.FANTOM.5.PERMISSI...\n",
       "40         ENCODE.3.ENCFF812MMO.36.OVLP.FANTOM.5.PERMISSI...\n",
       "43         ENCODE.3.ENCFF812MMO.39.OVLP.FANTOM.5.PERMISSI...\n",
       "44         ENCODE.3.ENCFF812MMO.40.OVLP.FANTOM.5.PERMISSI...\n",
       "46         ENCODE.3.ENCFF812MMO.42.OVLP.FANTOM.5.PERMISSI...\n",
       "47         ENCODE.3.ENCFF812MMO.43.OVLP.FANTOM.5.PERMISSI...\n",
       "54         ENCODE.3.ENCFF812MMO.50.OVLP.FANTOM.5.PERMISSI...\n",
       "55         ENCODE.3.ENCFF812MMO.51.OVLP.FANTOM.5.PERMISSI...\n",
       "56         ENCODE.3.ENCFF812MMO.51.OVLP.FANTOM.5.PERMISSI...\n",
       "57         ENCODE.3.ENCFF812MMO.51.OVLP.FANTOM.5.PERMISSI...\n",
       "60         ENCODE.3.ENCFF812MMO.54.OVLP.FANTOM.5.PERMISSI...\n",
       "67         ENCODE.3.ENCFF812MMO.61.OVLP.FANTOM.5.PERMISSI...\n",
       "68         ENCODE.3.ENCFF812MMO.61.OVLP.FANTOM.5.PERMISSI...\n",
       "75         ENCODE.3.ENCFF812MMO.68.OVLP.FANTOM.5.PERMISSI...\n",
       "76         ENCODE.3.ENCFF812MMO.68.OVLP.FANTOM.5.PERMISSI...\n",
       "80         ENCODE.3.ENCFF812MMO.72.OVLP.FANTOM.5.PERMISSI...\n",
       "                                 ...                        \n",
       "1801423    ENCODE.3.ENCFF401PBV.37536.OVLP.FANTOM.5.PERMI...\n",
       "1801430    ENCODE.3.ENCFF401PBV.37543.OVLP.FANTOM.5.PERMI...\n",
       "1801442    ENCODE.3.ENCFF401PBV.37555.OVLP.FANTOM.5.PERMI...\n",
       "1801466    ENCODE.3.ENCFF401PBV.37579.OVLP.FANTOM.5.PERMI...\n",
       "1801476    ENCODE.3.ENCFF401PBV.37589.OVLP.FANTOM.5.PERMI...\n",
       "1801496    ENCODE.3.ENCFF401PBV.37609.OVLP.FANTOM.5.PERMI...\n",
       "1801504    ENCODE.3.ENCFF401PBV.37617.OVLP.FANTOM.5.PERMI...\n",
       "1801505    ENCODE.3.ENCFF401PBV.37618.OVLP.FANTOM.5.PERMI...\n",
       "1801518    ENCODE.3.ENCFF401PBV.37631.OVLP.FANTOM.5.PERMI...\n",
       "1801523    ENCODE.3.ENCFF401PBV.37636.OVLP.FANTOM.5.PERMI...\n",
       "1801535    ENCODE.3.ENCFF401PBV.37648.OVLP.FANTOM.5.PERMI...\n",
       "1801541    ENCODE.3.ENCFF401PBV.37654.OVLP.FANTOM.5.PERMI...\n",
       "1801546    ENCODE.3.ENCFF401PBV.37659.OVLP.FANTOM.5.PERMI...\n",
       "1801589    ENCODE.3.ENCFF401PBV.37702.OVLP.FANTOM.5.PERMI...\n",
       "1801592    ENCODE.3.ENCFF401PBV.37705.OVLP.FANTOM.5.PERMI...\n",
       "1801600    ENCODE.3.ENCFF401PBV.37713.OVLP.FANTOM.5.PERMI...\n",
       "1801640    ENCODE.3.ENCFF401PBV.37753.OVLP.FANTOM.5.PERMI...\n",
       "1801662    ENCODE.3.ENCFF401PBV.37775.OVLP.FANTOM.5.PERMI...\n",
       "1801670    ENCODE.3.ENCFF401PBV.37783.OVLP.FANTOM.5.PERMI...\n",
       "1801682    ENCODE.3.ENCFF401PBV.37795.OVLP.FANTOM.5.PERMI...\n",
       "1801688    ENCODE.3.ENCFF401PBV.37801.OVLP.FANTOM.5.PERMI...\n",
       "1801693    ENCODE.3.ENCFF401PBV.37806.OVLP.FANTOM.5.PERMI...\n",
       "1801696    ENCODE.3.ENCFF401PBV.37809.OVLP.FANTOM.5.PERMI...\n",
       "1801704    ENCODE.3.ENCFF401PBV.37817.OVLP.FANTOM.5.PERMI...\n",
       "1801712    ENCODE.3.ENCFF401PBV.37825.OVLP.FANTOM.5.PERMI...\n",
       "1801725    ENCODE.3.ENCFF401PBV.37838.OVLP.FANTOM.5.PERMI...\n",
       "1801732    ENCODE.3.ENCFF401PBV.37845.OVLP.FANTOM.5.PERMI...\n",
       "1801758    ENCODE.3.ENCFF401PBV.37871.OVLP.FANTOM.5.PERMI...\n",
       "1801760    ENCODE.3.ENCFF401PBV.37873.OVLP.FANTOM.5.PERMI...\n",
       "1801771    ENCODE.3.ENCFF401PBV.37884.OVLP.FANTOM.5.PERMI...\n",
       "Name: overlap_name, dtype: object"
      ]
     },
     "execution_count": 14,
     "metadata": {},
     "output_type": "execute_result"
    }
   ],
   "source": [
    "overlaps_only_df['overlap_name']"
   ]
  },
  {
   "cell_type": "code",
   "execution_count": 386,
   "metadata": {
    "collapsed": true
   },
   "outputs": [],
   "source": [
    "store.close()"
   ]
  },
  {
   "cell_type": "code",
   "execution_count": 31,
   "metadata": {
    "collapsed": true
   },
   "outputs": [],
   "source": [
    "overlap_tests = {\n",
    "    'fisher_jaccard': {\n",
    "        'columns': ['encyclopedia', 'biosample_name', 'ovlp_encyclopedia', 'encyclopedia_size',\n",
    "                    'ovlp_encyclopedia_size',\n",
    "                    'min_ovlp', 'ovlp_count', 'fisher_left_p', 'fisher_right_p', 'fisher_two_p', 'fisher_oddsratio',\n",
    "                    'jaccard']\n",
    "\n",
    "    },\n",
    "    'fisher_jaccard_z': {\n",
    "        'columns': ['encyclopedia', 'biosample_name', 'ovlp_encyclopedia', 'encyclopedia_size',\n",
    "                    'ovlp_encyclopedia_size',\n",
    "                    'min_ovlp', 'ovlp_count', 'z_random', 'z_shuffled', 'fisher_right_p', 'jaccard']\n",
    "    },\n",
    "    'reldist': {\n",
    "        'columns': ['encyclopedia', 'biosample_name', 'ovlp_encyclopedia', 'encyclopedia_size',\n",
    "                    'ovlp_encyclopedia_size',\n",
    "                    'reldist', 'ovlp_count', 'ovlp_fraction']\n",
    "    }\n",
    "\n",
    "}\n"
   ]
  },
  {
   "cell_type": "code",
   "execution_count": 32,
   "metadata": {
    "collapsed": false
   },
   "outputs": [
    {
     "data": {
      "text/plain": [
       "['encyclopedia',\n",
       " 'biosample_name',\n",
       " 'ovlp_encyclopedia',\n",
       " 'encyclopedia_size',\n",
       " 'ovlp_encyclopedia_size',\n",
       " 'min_ovlp',\n",
       " 'ovlp_count',\n",
       " 'fisher_left_p',\n",
       " 'fisher_right_p',\n",
       " 'fisher_two_p',\n",
       " 'fisher_oddsratio',\n",
       " 'jaccard']"
      ]
     },
     "execution_count": 32,
     "metadata": {},
     "output_type": "execute_result"
    }
   ],
   "source": [
    "overlap_tests['fisher_jaccard']['columns']"
   ]
  },
  {
   "cell_type": "code",
   "execution_count": null,
   "metadata": {
    "collapsed": true
   },
   "outputs": [],
   "source": []
  }
 ],
 "metadata": {
  "anaconda-cloud": {},
  "kernelspec": {
   "display_name": "Python [conda root]",
   "language": "python",
   "name": "conda-root-py"
  },
  "language_info": {
   "codemirror_mode": {
    "name": "ipython",
    "version": 3
   },
   "file_extension": ".py",
   "mimetype": "text/x-python",
   "name": "python",
   "nbconvert_exporter": "python",
   "pygments_lexer": "ipython3",
   "version": "3.5.2"
  }
 },
 "nbformat": 4,
 "nbformat_minor": 1
}
