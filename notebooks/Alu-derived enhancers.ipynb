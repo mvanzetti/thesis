{
 "cells": [
  {
   "cell_type": "code",
   "execution_count": 1,
   "metadata": {
    "collapsed": false
   },
   "outputs": [
    {
     "data": {
      "text/plain": [
       "'../download/genome/hg19.genome'"
      ]
     },
     "execution_count": 1,
     "metadata": {},
     "output_type": "execute_result"
    }
   ],
   "source": [
    "# export full genome\n",
    "from pybedtools import genome_registry, chromsizes_to_file, chromsizes\n",
    "chromsizes_to_file(chromsizes('hg19'), '../download/genome/hg19.genome')"
   ]
  },
  {
   "cell_type": "code",
   "execution_count": 2,
   "metadata": {
    "collapsed": true
   },
   "outputs": [],
   "source": [
    "assembly_path = \"../download/genome/hg19_reduced.genome\""
   ]
  },
  {
   "cell_type": "code",
   "execution_count": 3,
   "metadata": {
    "collapsed": true
   },
   "outputs": [],
   "source": [
    "import pandas as pd\n",
    "import numpy as np\n",
    "from pybedtools import BedTool"
   ]
  },
  {
   "cell_type": "code",
   "execution_count": 4,
   "metadata": {
    "collapsed": true
   },
   "outputs": [],
   "source": [
    "store = pd.HDFStore(\"../storage/encode_overlaps.hdf\")\n",
    "store_repeat = pd.HDFStore(\"../storage/repeatmasker_staging.hdf\")"
   ]
  },
  {
   "cell_type": "code",
   "execution_count": 5,
   "metadata": {
    "collapsed": false
   },
   "outputs": [
    {
     "data": {
      "text/plain": [
       "['/filtered_hg19_DNase_H3K27ac_FANTOM_overlapped',\n",
       " '/filtered_hg19_DNase_H3K27ac_FANTOM_overlapped_bed']"
      ]
     },
     "execution_count": 5,
     "metadata": {},
     "output_type": "execute_result"
    }
   ],
   "source": [
    "store.keys()"
   ]
  },
  {
   "cell_type": "code",
   "execution_count": 6,
   "metadata": {
    "collapsed": false
   },
   "outputs": [
    {
     "data": {
      "text/plain": [
       "['/DNA',\n",
       " '/DNA_Kolobok',\n",
       " '/DNA_Kolobok_bed',\n",
       " '/DNA_MULE_MuDR',\n",
       " '/DNA_MULE_MuDR_bed',\n",
       " '/DNA_Merlin',\n",
       " '/DNA_Merlin_bed',\n",
       " '/DNA_PIF_Harbinger',\n",
       " '/DNA_PIF_Harbinger_bed',\n",
       " '/DNA_PiggyBac',\n",
       " '/DNA_PiggyBac_bed',\n",
       " '/DNA_TcMar',\n",
       " '/DNA_TcMar_Mariner',\n",
       " '/DNA_TcMar_Mariner_bed',\n",
       " '/DNA_TcMar_Pogo',\n",
       " '/DNA_TcMar_Pogo_bed',\n",
       " '/DNA_TcMar_Tc1',\n",
       " '/DNA_TcMar_Tc1_bed',\n",
       " '/DNA_TcMar_Tc2',\n",
       " '/DNA_TcMar_Tc2_bed',\n",
       " '/DNA_TcMar_Tigger',\n",
       " '/DNA_TcMar_Tigger_bed',\n",
       " '/DNA_TcMar_bed',\n",
       " '/DNA_TcMar_qm',\n",
       " '/DNA_TcMar_qm_bed',\n",
       " '/DNA_bed',\n",
       " '/DNA_hAT',\n",
       " '/DNA_hAT_Ac',\n",
       " '/DNA_hAT_Ac_bed',\n",
       " '/DNA_hAT_Blackjack',\n",
       " '/DNA_hAT_Blackjack_bed',\n",
       " '/DNA_hAT_Charlie',\n",
       " '/DNA_hAT_Charlie_bed',\n",
       " '/DNA_hAT_Tag1',\n",
       " '/DNA_hAT_Tag1_bed',\n",
       " '/DNA_hAT_Tip100',\n",
       " '/DNA_hAT_Tip100_bed',\n",
       " '/DNA_hAT_Tip100_qm',\n",
       " '/DNA_hAT_Tip100_qm_bed',\n",
       " '/DNA_hAT_bed',\n",
       " '/DNA_hAT_qm',\n",
       " '/DNA_hAT_qm_bed',\n",
       " '/DNA_qm',\n",
       " '/DNA_qm_PiggyBac_qm',\n",
       " '/DNA_qm_PiggyBac_qm_bed',\n",
       " '/DNA_qm_bed',\n",
       " '/DNA_qm_hAT_Tip100_qm',\n",
       " '/DNA_qm_hAT_Tip100_qm_bed',\n",
       " '/LINE_CR1',\n",
       " '/LINE_CR1_bed',\n",
       " '/LINE_Dong_R4',\n",
       " '/LINE_Dong_R4_bed',\n",
       " '/LINE_Jockey',\n",
       " '/LINE_Jockey_bed',\n",
       " '/LINE_L1',\n",
       " '/LINE_L1_Tx1',\n",
       " '/LINE_L1_Tx1_bed',\n",
       " '/LINE_L1_bed',\n",
       " '/LINE_L2',\n",
       " '/LINE_L2_bed',\n",
       " '/LINE_Penelope',\n",
       " '/LINE_Penelope_bed',\n",
       " '/LINE_RTE_BovB',\n",
       " '/LINE_RTE_BovB_bed',\n",
       " '/LINE_RTE_X',\n",
       " '/LINE_RTE_X_bed',\n",
       " '/LTR',\n",
       " '/LTR_ERV1',\n",
       " '/LTR_ERV1_bed',\n",
       " '/LTR_ERV1_qm',\n",
       " '/LTR_ERV1_qm_bed',\n",
       " '/LTR_ERVK',\n",
       " '/LTR_ERVK_bed',\n",
       " '/LTR_ERVL',\n",
       " '/LTR_ERVL_MaLR',\n",
       " '/LTR_ERVL_MaLR_bed',\n",
       " '/LTR_ERVL_bed',\n",
       " '/LTR_ERVL_qm',\n",
       " '/LTR_ERVL_qm_bed',\n",
       " '/LTR_Gypsy',\n",
       " '/LTR_Gypsy_bed',\n",
       " '/LTR_Gypsy_qm',\n",
       " '/LTR_Gypsy_qm_bed',\n",
       " '/LTR_bed',\n",
       " '/LTR_qm',\n",
       " '/LTR_qm_bed',\n",
       " '/Low_complexity',\n",
       " '/Low_complexity_bed',\n",
       " '/RC_Helitron',\n",
       " '/RC_Helitron_bed',\n",
       " '/RC_qm_Helitron_qm',\n",
       " '/RC_qm_Helitron_qm_bed',\n",
       " '/RNA',\n",
       " '/RNA_bed',\n",
       " '/Retroposon_SVA',\n",
       " '/Retroposon_SVA_bed',\n",
       " '/SINE_5S_Deu_L2',\n",
       " '/SINE_5S_Deu_L2_bed',\n",
       " '/SINE_Alu',\n",
       " '/SINE_Alu_bed',\n",
       " '/SINE_MIR',\n",
       " '/SINE_MIR_bed',\n",
       " '/SINE_qm_tRNA',\n",
       " '/SINE_qm_tRNA_bed',\n",
       " '/SINE_tRNA',\n",
       " '/SINE_tRNA_Deu',\n",
       " '/SINE_tRNA_Deu_bed',\n",
       " '/SINE_tRNA_RTE',\n",
       " '/SINE_tRNA_RTE_bed',\n",
       " '/SINE_tRNA_bed',\n",
       " '/Satellite',\n",
       " '/Satellite_acro',\n",
       " '/Satellite_acro_bed',\n",
       " '/Satellite_bed',\n",
       " '/Satellite_centr',\n",
       " '/Satellite_centr_bed',\n",
       " '/Satellite_telo',\n",
       " '/Satellite_telo_bed',\n",
       " '/Simple_repeat',\n",
       " '/Simple_repeat_bed',\n",
       " '/Unknown',\n",
       " '/Unknown_bed',\n",
       " '/rRNA',\n",
       " '/rRNA_bed',\n",
       " '/scRNA',\n",
       " '/scRNA_bed',\n",
       " '/snRNA',\n",
       " '/snRNA_bed',\n",
       " '/srpRNA',\n",
       " '/srpRNA_bed',\n",
       " '/tRNA',\n",
       " '/tRNA_bed']"
      ]
     },
     "execution_count": 6,
     "metadata": {},
     "output_type": "execute_result"
    }
   ],
   "source": [
    "store_repeat.keys()"
   ]
  },
  {
   "cell_type": "code",
   "execution_count": 7,
   "metadata": {
    "collapsed": true
   },
   "outputs": [],
   "source": [
    "store.close()\n",
    "store_repeat.close()"
   ]
  },
  {
   "cell_type": "code",
   "execution_count": 8,
   "metadata": {
    "collapsed": true
   },
   "outputs": [],
   "source": [
    "encode_metadata = pd.read_hdf(\"../storage/encode_staging.hdf\", \"encode_metadata\")"
   ]
  },
  {
   "cell_type": "code",
   "execution_count": 9,
   "metadata": {
    "collapsed": false
   },
   "outputs": [
    {
     "data": {
      "text/plain": [
       "array(['T47D', 'Daoy', 'HL-60', 'A549', 'RPMI8226', 'K562', 'HeLa-S3',\n",
       "       'Jurkat', 'Caki2', 'KBM-7', 'Karpas-422', 'GM06990', 'NCI-H226',\n",
       "       'GM12878', 'HCT116', 'MG63', 'HS-27A', 'HS-5', 'BE2C', 'WI38',\n",
       "       'HepG2', 'M059J', 'WERI-Rb-1', 'MCF-7', 'LHCN-M2',\n",
       "       'LNCaP clone FGC', 'PC-9', 'RCC 7860', 'DND-41', 'MM.1S', 'GM12864',\n",
       "       'CMK', 'GM12865', 'OCI-LY7', 'HT-29', 'Panc1', 'A673', 'SK-N-SH',\n",
       "       'G401', 'ACHN', 'Loucy', 'SK-N-MC', 'NAMALWA', 'SJSA1', 'NT2/D1',\n",
       "       'RPMI-7951', 'PC-3', 'NB4', 'Caco-2', 'A172'], dtype=object)"
      ]
     },
     "execution_count": 9,
     "metadata": {},
     "output_type": "execute_result"
    }
   ],
   "source": [
    "encode_metadata.query(\"assembly == 'hg19' & biosample_type=='immortalized cell line'\")['biosample_term_name'].unique()"
   ]
  },
  {
   "cell_type": "code",
   "execution_count": 10,
   "metadata": {
    "collapsed": false
   },
   "outputs": [
    {
     "data": {
      "text/html": [
       "<div>\n",
       "<table border=\"1\" class=\"dataframe\">\n",
       "  <thead>\n",
       "    <tr style=\"text-align: right;\">\n",
       "      <th></th>\n",
       "      <th>accession</th>\n",
       "      <th>assembly</th>\n",
       "      <th>biosample_term_id</th>\n",
       "      <th>biosample_term_name</th>\n",
       "      <th>biosample_type</th>\n",
       "      <th>description</th>\n",
       "      <th>developmental_slims</th>\n",
       "      <th>encyclopedia_version</th>\n",
       "      <th>month_released</th>\n",
       "      <th>organ_slims</th>\n",
       "      <th>organism</th>\n",
       "      <th>system_slims</th>\n",
       "      <th>bed_filename</th>\n",
       "      <th>bed_filepath</th>\n",
       "      <th>merged</th>\n",
       "      <th>method</th>\n",
       "    </tr>\n",
       "  </thead>\n",
       "  <tbody>\n",
       "    <tr>\n",
       "      <th>170</th>\n",
       "      <td>ENCSR903CEC</td>\n",
       "      <td>hg19</td>\n",
       "      <td>EFO:0002067</td>\n",
       "      <td>K562</td>\n",
       "      <td>immortalized cell line</td>\n",
       "      <td>Enhancer-like regions using H3K27ac-only for K562</td>\n",
       "      <td>[]</td>\n",
       "      <td>3</td>\n",
       "      <td>August, 2016</td>\n",
       "      <td>[]</td>\n",
       "      <td>/organisms/human/</td>\n",
       "      <td>[]</td>\n",
       "      <td>ENCFF250DSF.bed.gz</td>\n",
       "      <td>/Users/manuel/development/thesis/download/ENCO...</td>\n",
       "      <td>False</td>\n",
       "      <td>H3K27ac</td>\n",
       "    </tr>\n",
       "    <tr>\n",
       "      <th>204</th>\n",
       "      <td>ENCSR219XCK</td>\n",
       "      <td>hg19</td>\n",
       "      <td>EFO:0002067</td>\n",
       "      <td>K562</td>\n",
       "      <td>immortalized cell line</td>\n",
       "      <td>Enhancer-like regions using H3K27ac-only for L...</td>\n",
       "      <td>[]</td>\n",
       "      <td>3</td>\n",
       "      <td>August, 2016</td>\n",
       "      <td>[]</td>\n",
       "      <td>/organisms/human/</td>\n",
       "      <td>[]</td>\n",
       "      <td>ENCFF371JNQ.bed.gz</td>\n",
       "      <td>/Users/manuel/development/thesis/download/ENCO...</td>\n",
       "      <td>False</td>\n",
       "      <td>H3K27ac</td>\n",
       "    </tr>\n",
       "  </tbody>\n",
       "</table>\n",
       "</div>"
      ],
      "text/plain": [
       "       accession assembly biosample_term_id biosample_term_name  \\\n",
       "170  ENCSR903CEC     hg19       EFO:0002067                K562   \n",
       "204  ENCSR219XCK     hg19       EFO:0002067                K562   \n",
       "\n",
       "             biosample_type  \\\n",
       "170  immortalized cell line   \n",
       "204  immortalized cell line   \n",
       "\n",
       "                                           description developmental_slims  \\\n",
       "170  Enhancer-like regions using H3K27ac-only for K562                  []   \n",
       "204  Enhancer-like regions using H3K27ac-only for L...                  []   \n",
       "\n",
       "    encyclopedia_version month_released organ_slims           organism  \\\n",
       "170                    3   August, 2016          []  /organisms/human/   \n",
       "204                    3   August, 2016          []  /organisms/human/   \n",
       "\n",
       "    system_slims        bed_filename  \\\n",
       "170           []  ENCFF250DSF.bed.gz   \n",
       "204           []  ENCFF371JNQ.bed.gz   \n",
       "\n",
       "                                          bed_filepath merged   method  \n",
       "170  /Users/manuel/development/thesis/download/ENCO...  False  H3K27ac  \n",
       "204  /Users/manuel/development/thesis/download/ENCO...  False  H3K27ac  "
      ]
     },
     "execution_count": 10,
     "metadata": {},
     "output_type": "execute_result"
    }
   ],
   "source": [
    "encode_metadata.query(\"assembly == 'hg19' & biosample_term_name == 'K562' & method=='H3K27ac'\")"
   ]
  },
  {
   "cell_type": "code",
   "execution_count": 11,
   "metadata": {
    "collapsed": false
   },
   "outputs": [],
   "source": [
    "encode_bed = BedTool(\"../download/ENCODE/ENCSR903CEC/files/ENCFF250DSF/ENCFF250DSF.bed.gz\")"
   ]
  },
  {
   "cell_type": "code",
   "execution_count": 13,
   "metadata": {
    "collapsed": true
   },
   "outputs": [],
   "source": [
    "repeat_bed_df = pd.read_hdf(\"../storage/repeatmasker_staging.hdf\", \"SINE_Alu_bed\")\n",
    "repeat_bed = BedTool().from_dataframe(repeat_bed_df)"
   ]
  },
  {
   "cell_type": "code",
   "execution_count": 14,
   "metadata": {
    "collapsed": false
   },
   "outputs": [
    {
     "name": "stdout",
     "output_type": "stream",
     "text": [
      "chr7\t106206757\t106212313\tDistal-Prediction-1\t1\t.\t106207512\t106212313\t255,205,0\n",
      " chr2\t33141168\t33141802\tDistal-Prediction-2\t1\t.\t33141168\t33141802\t255,205,0\n",
      " chr19\t52047589\t52056214\tDistal-Prediction-3\t1\t.\t52048957\t52053741\t255,205,0\n",
      " chr6\t159273426\t159276316\tDistal-Prediction-4\t1\t.\t159273426\t159276316\t255,205,0\n",
      " chr10\t74078831\t74083775\tDistal-Prediction-5\t1\t.\t74079445\t74083775\t255,205,0\n",
      " chr18\t3620903\t3627615\tDistal-Prediction-6\t1\t.\t3620903\t3626780\t255,205,0\n",
      " chr1\t26447785\t26455587\tDistal-Prediction-7\t1\t.\t26450850\t26455587\t255,205,0\n",
      " chr11\t75244071\t75250880\tDistal-Prediction-8\t1\t.\t75244560\t75246987\t255,205,0\n",
      " chr1\t26945615\t26949271\tDistal-Prediction-9\t1\t.\t26947061\t26948770\t255,205,0\n",
      " chr1\t145454000\t145457861\tDistal-Prediction-10\t1\t.\t145454000\t145457861\t255,205,0\n",
      " "
     ]
    }
   ],
   "source": [
    "encode_bed.head()"
   ]
  },
  {
   "cell_type": "code",
   "execution_count": 15,
   "metadata": {
    "collapsed": false
   },
   "outputs": [
    {
     "data": {
      "text/plain": [
       "33082"
      ]
     },
     "execution_count": 15,
     "metadata": {},
     "output_type": "execute_result"
    }
   ],
   "source": [
    "encode_bed.count()"
   ]
  },
  {
   "cell_type": "code",
   "execution_count": 16,
   "metadata": {
    "collapsed": false
   },
   "outputs": [
    {
     "data": {
      "text/plain": [
       "1177252"
      ]
     },
     "execution_count": 16,
     "metadata": {},
     "output_type": "execute_result"
    }
   ],
   "source": [
    "repeat_bed.count()"
   ]
  },
  {
   "cell_type": "code",
   "execution_count": 17,
   "metadata": {
    "collapsed": false
   },
   "outputs": [],
   "source": [
    "encode_bed_df = encode_bed.to_dataframe()"
   ]
  },
  {
   "cell_type": "markdown",
   "metadata": {},
   "source": [
    "## Alu-enhancers: core of enhancers in Alus"
   ]
  },
  {
   "cell_type": "code",
   "execution_count": 18,
   "metadata": {
    "collapsed": true
   },
   "outputs": [],
   "source": [
    "def compute_centers(df):\n",
    "    df['centered_locus'] = round(\n",
    "        (df['end'] - df['start'])/2 \n",
    "        + df['start']).astype(int)"
   ]
  },
  {
   "cell_type": "code",
   "execution_count": 19,
   "metadata": {
    "collapsed": false
   },
   "outputs": [],
   "source": [
    "compute_centers(encode_bed_df)"
   ]
  },
  {
   "cell_type": "code",
   "execution_count": 20,
   "metadata": {
    "collapsed": false
   },
   "outputs": [],
   "source": [
    "encode_bed_cores_df = encode_bed_df.copy()\n",
    "encode_bed_cores_df['start'] = encode_bed_cores_df['centered_locus']\n",
    "encode_bed_cores_df['end'] = encode_bed_cores_df['centered_locus']"
   ]
  },
  {
   "cell_type": "code",
   "execution_count": 21,
   "metadata": {
    "collapsed": false
   },
   "outputs": [],
   "source": [
    "encode_bed_cores = BedTool().from_dataframe(encode_bed_cores_df[['chrom', 'start', 'end', 'name', 'score', 'strand']])"
   ]
  },
  {
   "cell_type": "code",
   "execution_count": 22,
   "metadata": {
    "collapsed": false
   },
   "outputs": [
    {
     "data": {
      "text/plain": [
       "33082"
      ]
     },
     "execution_count": 22,
     "metadata": {},
     "output_type": "execute_result"
    }
   ],
   "source": [
    "encode_bed_cores.count()"
   ]
  },
  {
   "cell_type": "code",
   "execution_count": 23,
   "metadata": {
    "collapsed": true
   },
   "outputs": [],
   "source": [
    "#MIR-enhancers: core of enhancer in MIR\n",
    "core_intersection = encode_bed_cores.intersect(repeat_bed)"
   ]
  },
  {
   "cell_type": "code",
   "execution_count": 24,
   "metadata": {
    "collapsed": false
   },
   "outputs": [
    {
     "data": {
      "text/plain": [
       "1459"
      ]
     },
     "execution_count": 24,
     "metadata": {},
     "output_type": "execute_result"
    }
   ],
   "source": [
    "core_intersection.count()"
   ]
  },
  {
   "cell_type": "code",
   "execution_count": 25,
   "metadata": {
    "collapsed": false
   },
   "outputs": [
    {
     "name": "stdout",
     "output_type": "stream",
     "text": [
      "chr19\t2059126\t2059126\tDistal-Prediction-12\t1\t.\n",
      " chr1\t31240658\t31240658\tDistal-Prediction-16\t1\t.\n",
      " chr1\t15103594\t15103594\tDistal-Prediction-23\t1\t.\n",
      " chr7\t64460924\t64460924\tDistal-Prediction-45\t1\t.\n",
      " chr7\t106649151\t106649151\tDistal-Prediction-50\t1\t.\n",
      " chr3\t138595524\t138595524\tDistal-Prediction-57\t1\t.\n",
      " chr18\t9009373\t9009373\tDistal-Prediction-62\t1\t.\n",
      " chr2\t55367488\t55367488\tDistal-Prediction-65\t1\t.\n",
      " chr16\t23915732\t23915732\tDistal-Prediction-71\t1\t.\n",
      " chr6\t37017636\t37017636\tDistal-Prediction-73\t1\t.\n",
      " "
     ]
    }
   ],
   "source": [
    "core_intersection.head()"
   ]
  },
  {
   "cell_type": "code",
   "execution_count": 26,
   "metadata": {
    "collapsed": true
   },
   "outputs": [],
   "source": [
    "# null model MIR-enhancers\n",
    "shuffled_encode_bed_cores = encode_bed_cores.shuffle(g=assembly_path)\n",
    "core_null_model_intersection = shuffled_encode_bed_cores.intersect(repeat_bed)"
   ]
  },
  {
   "cell_type": "code",
   "execution_count": 142,
   "metadata": {
    "collapsed": false
   },
   "outputs": [
    {
     "data": {
      "text/plain": [
       "3255"
      ]
     },
     "execution_count": 142,
     "metadata": {},
     "output_type": "execute_result"
    }
   ],
   "source": [
    "core_null_model_intersection.count()"
   ]
  },
  {
   "cell_type": "code",
   "execution_count": 143,
   "metadata": {
    "collapsed": false
   },
   "outputs": [],
   "source": [
    "def compute_size(row, prefix=None):\n",
    "    col_name = prefix + '_name' if prefix else 'name'\n",
    "    if row[col_name] == '.':\n",
    "        return 0\n",
    "    col_end = prefix + '_end' if prefix else 'end'\n",
    "    col_start = prefix + '_start' if prefix else 'start'\n",
    "    size = abs(row[col_end] - row[col_start])\n",
    "    return size\n",
    "\n",
    "def mean_size(bed):\n",
    "    sample_df = bed.to_dataframe()\n",
    "    sample_df['size'] = sample_df.apply(lambda row: compute_size(row), axis=1)\n",
    "    return int(round(sample_df[['size']].mean()))\n",
    "\n",
    "def build_random_overlap(bed, intervals_size, intervals_num, min_overlap, assembly, df_columns, idx):\n",
    "    empty_bed = BedTool()\n",
    "    random_bed = empty_bed.random(l=intervals_size, n=intervals_num,\n",
    "                                  g=assembly)\n",
    "    row_array = [idx, bed.intersect(random_bed, f=min_overlap).count()]\n",
    "    return pd.DataFrame([row_array], columns=df_columns)\n",
    "\n",
    "def build_shuffled_overlap(bed, bed_overlap_with, min_overlap, assembly, df_columns, idx):\n",
    "    random_bed = bed_overlap_with.shuffle(g=assembly, chrom=False)\n",
    "    row_array = [idx, bed.intersect(random_bed, f=min_overlap).count()]\n",
    "    return pd.DataFrame([row_array], columns=df_columns)"
   ]
  },
  {
   "cell_type": "code",
   "execution_count": 144,
   "metadata": {
    "collapsed": true
   },
   "outputs": [],
   "source": [
    "from joblib import Parallel, delayed\n",
    "import multiprocessing\n",
    "\n",
    "def create_random_overlap_distribution_parallelized(bed, bed_overlap_with, assembly, min_overlap, \n",
    "                                                    samples_num,strategy='random'):\n",
    "    num_cores = multiprocessing.cpu_count()\n",
    "\n",
    "    intervals_size = mean_size(bed_overlap_with)\n",
    "    intervals_num = bed_overlap_with.count()\n",
    "    columns = ['sample_num', 'size']\n",
    "\n",
    "    if strategy == 'shuffle':\n",
    "        df_list = Parallel(n_jobs=num_cores)(delayed(build_shuffled_overlap)\n",
    "                                             (bed, bed_overlap_with, min_overlap, assembly, columns, i)\n",
    "                                             for i in range(0, samples_num))\n",
    "    else:\n",
    "        df_list = Parallel(n_jobs=num_cores)(delayed(build_random_overlap)\n",
    "                                             (bed, intervals_size, intervals_num, min_overlap, assembly, columns, i)\n",
    "                                             for i in range(0, samples_num))\n",
    "    return pd.concat(df_list)"
   ]
  },
  {
   "cell_type": "code",
   "execution_count": 145,
   "metadata": {
    "collapsed": false
   },
   "outputs": [],
   "source": [
    "test_df = create_random_overlap_distribution_parallelized(encode_bed_cores, repeat_bed, assembly_path,\n",
    "                                                         1e-09, 100)"
   ]
  },
  {
   "cell_type": "code",
   "execution_count": 146,
   "metadata": {
    "collapsed": false
   },
   "outputs": [
    {
     "data": {
      "text/plain": [
       "<matplotlib.axes._subplots.AxesSubplot at 0x125e972e8>"
      ]
     },
     "execution_count": 146,
     "metadata": {},
     "output_type": "execute_result"
    },
    {
     "data": {
      "image/png": "[encoded data removed]",
      "text/plain": [
       "<matplotlib.figure.Figure at 0x122e41b38>"
      ]
     },
     "metadata": {},
     "output_type": "display_data"
    }
   ],
   "source": [
    "import seaborn as sns\n",
    "%matplotlib inline\n",
    "import scipy.stats as st\n",
    "sns.distplot(test_df[['size']], kde=False, fit=st.norm, bins=20)"
   ]
  },
  {
   "cell_type": "code",
   "execution_count": 147,
   "metadata": {
    "collapsed": false
   },
   "outputs": [
    {
     "name": "stdout",
     "output_type": "stream",
     "text": [
      "-35.35711242499014\n"
     ]
    }
   ],
   "source": [
    "z_score =(core_intersection.count() - np.mean(test_df['size']))/np.std(test_df['size'])\n",
    "print(z_score)"
   ]
  },
  {
   "cell_type": "code",
   "execution_count": 33,
   "metadata": {
    "collapsed": false
   },
   "outputs": [
    {
     "data": {
      "text/plain": [
       "2.5173891590336763e-226"
      ]
     },
     "execution_count": 33,
     "metadata": {},
     "output_type": "execute_result"
    }
   ],
   "source": [
    "import scipy.stats as st\n",
    "st.norm.ppf(.95)\n",
    "st.norm.cdf(z_score)"
   ]
  },
  {
   "cell_type": "code",
   "execution_count": 34,
   "metadata": {
    "collapsed": false
   },
   "outputs": [
    {
     "data": {
      "text/plain": [
       "2.5173891590336763e-226"
      ]
     },
     "execution_count": 34,
     "metadata": {},
     "output_type": "execute_result"
    }
   ],
   "source": [
    "p_values = st.norm.sf(abs(z_score))\n",
    "p_values"
   ]
  },
  {
   "cell_type": "code",
   "execution_count": 35,
   "metadata": {
    "collapsed": false
   },
   "outputs": [
    {
     "data": {
      "text/plain": [
       "Ttest_1sampResult(statistic=array([ 319.3498554]), pvalue=array([  5.54511285e-151]))"
      ]
     },
     "execution_count": 35,
     "metadata": {},
     "output_type": "execute_result"
    }
   ],
   "source": [
    "st.ttest_1samp(a= test_df[['size']], popmean= core_intersection.count())"
   ]
  },
  {
   "cell_type": "code",
   "execution_count": 36,
   "metadata": {
    "collapsed": false
   },
   "outputs": [
    {
     "data": {
      "text/plain": [
       "Ttest_1sampResult(statistic=size    0.0\n",
       "dtype: float64, pvalue=array([ 1.]))"
      ]
     },
     "execution_count": 36,
     "metadata": {},
     "output_type": "execute_result"
    }
   ],
   "source": [
    "st.ttest_1samp(a= test_df[['size']], popmean= np.mean(test_df[['size']]))"
   ]
  },
  {
   "cell_type": "code",
   "execution_count": 37,
   "metadata": {
    "collapsed": false
   },
   "outputs": [
    {
     "name": "stdout",
     "output_type": "stream",
     "text": [
      "Test Statistic: [ 224397.24674435]\n",
      "p-value: [ 0.]\n"
     ]
    }
   ],
   "source": [
    "chi2, p = st.chisquare( test_df[['size']],core_intersection.count() )\n",
    "msg = \"Test Statistic: {}\\np-value: {}\"\n",
    "print( msg.format( chi2, p ) )"
   ]
  },
  {
   "cell_type": "code",
   "execution_count": 38,
   "metadata": {
    "collapsed": false
   },
   "outputs": [
    {
     "data": {
      "text/plain": [
       "<FisherOutput at 4717074024>\n",
       "# Number of query intervals: 33082\n",
       "# Number of db intervals: 1167466\n",
       "# Number of overlaps: 1459\n",
       "# Number of possible intervals (estimated): 11758874\n",
       "# phyper(1459 - 1, 33082, 11758874 - 33082, 1167466, lower.tail=F)\n",
       "# Contingency Table Of Counts\n",
       "#_________________________________________\n",
       "#           |  in -b       | not in -b    |\n",
       "#     in -a | 1459         | 31623        |\n",
       "# not in -a | 1166007      | 10559785     |\n",
       "#_________________________________________\n",
       "# p-values for fisher's exact test\n",
       "left\tright\ttwo-tail\tratio\n",
       "1.3666e-305\t1\t2.4792e-305\t0.418"
      ]
     },
     "execution_count": 38,
     "metadata": {},
     "output_type": "execute_result"
    }
   ],
   "source": [
    "encode_bed_cores.sort().fisher(repeat_bed.sort(), f=1e-09, g=assembly_path)"
   ]
  },
  {
   "cell_type": "code",
   "execution_count": 39,
   "metadata": {
    "collapsed": false
   },
   "outputs": [
    {
     "data": {
      "text/plain": [
       "0.067519672328844149"
      ]
     },
     "execution_count": 39,
     "metadata": {},
     "output_type": "execute_result"
    }
   ],
   "source": [
    "1-st.hypergeom.cdf(975, 21123880 - 33082, 33082, 593161)"
   ]
  },
  {
   "cell_type": "code",
   "execution_count": 40,
   "metadata": {
    "collapsed": false
   },
   "outputs": [
    {
     "data": {
      "text/html": [
       "<div>\n",
       "<table border=\"1\" class=\"dataframe\">\n",
       "  <thead>\n",
       "    <tr style=\"text-align: right;\">\n",
       "      <th></th>\n",
       "      <th>0</th>\n",
       "      <th>1</th>\n",
       "      <th>2</th>\n",
       "      <th>3</th>\n",
       "      <th>4</th>\n",
       "      <th>5</th>\n",
       "      <th>6</th>\n",
       "      <th>7</th>\n",
       "      <th>8</th>\n",
       "      <th>9</th>\n",
       "      <th>...</th>\n",
       "      <th>41</th>\n",
       "      <th>42</th>\n",
       "      <th>43</th>\n",
       "      <th>44</th>\n",
       "      <th>45</th>\n",
       "      <th>46</th>\n",
       "      <th>47</th>\n",
       "      <th>48</th>\n",
       "      <th>49</th>\n",
       "      <th>50</th>\n",
       "    </tr>\n",
       "  </thead>\n",
       "  <tbody>\n",
       "    <tr>\n",
       "      <th>count</th>\n",
       "      <td>227.000</td>\n",
       "      <td>211.000</td>\n",
       "      <td>239.000</td>\n",
       "      <td>296.000</td>\n",
       "      <td>309.000</td>\n",
       "      <td>372.000</td>\n",
       "      <td>367.000</td>\n",
       "      <td>410.000</td>\n",
       "      <td>422.000</td>\n",
       "      <td>479.000</td>\n",
       "      <td>...</td>\n",
       "      <td>930.000</td>\n",
       "      <td>857.000</td>\n",
       "      <td>945.000</td>\n",
       "      <td>919.000</td>\n",
       "      <td>930.000</td>\n",
       "      <td>877.000</td>\n",
       "      <td>958.000</td>\n",
       "      <td>932.000</td>\n",
       "      <td>944.000</td>\n",
       "      <td>11.0</td>\n",
       "    </tr>\n",
       "    <tr>\n",
       "      <th>fraction</th>\n",
       "      <td>0.007</td>\n",
       "      <td>0.006</td>\n",
       "      <td>0.007</td>\n",
       "      <td>0.009</td>\n",
       "      <td>0.009</td>\n",
       "      <td>0.011</td>\n",
       "      <td>0.011</td>\n",
       "      <td>0.012</td>\n",
       "      <td>0.013</td>\n",
       "      <td>0.014</td>\n",
       "      <td>...</td>\n",
       "      <td>0.028</td>\n",
       "      <td>0.026</td>\n",
       "      <td>0.029</td>\n",
       "      <td>0.028</td>\n",
       "      <td>0.028</td>\n",
       "      <td>0.027</td>\n",
       "      <td>0.029</td>\n",
       "      <td>0.028</td>\n",
       "      <td>0.029</td>\n",
       "      <td>0.0</td>\n",
       "    </tr>\n",
       "    <tr>\n",
       "      <th>reldist</th>\n",
       "      <td>0.000</td>\n",
       "      <td>0.010</td>\n",
       "      <td>0.020</td>\n",
       "      <td>0.030</td>\n",
       "      <td>0.040</td>\n",
       "      <td>0.050</td>\n",
       "      <td>0.060</td>\n",
       "      <td>0.070</td>\n",
       "      <td>0.080</td>\n",
       "      <td>0.090</td>\n",
       "      <td>...</td>\n",
       "      <td>0.410</td>\n",
       "      <td>0.420</td>\n",
       "      <td>0.430</td>\n",
       "      <td>0.440</td>\n",
       "      <td>0.450</td>\n",
       "      <td>0.460</td>\n",
       "      <td>0.470</td>\n",
       "      <td>0.480</td>\n",
       "      <td>0.490</td>\n",
       "      <td>0.5</td>\n",
       "    </tr>\n",
       "    <tr>\n",
       "      <th>total</th>\n",
       "      <td>33077.000</td>\n",
       "      <td>33077.000</td>\n",
       "      <td>33077.000</td>\n",
       "      <td>33077.000</td>\n",
       "      <td>33077.000</td>\n",
       "      <td>33077.000</td>\n",
       "      <td>33077.000</td>\n",
       "      <td>33077.000</td>\n",
       "      <td>33077.000</td>\n",
       "      <td>33077.000</td>\n",
       "      <td>...</td>\n",
       "      <td>33077.000</td>\n",
       "      <td>33077.000</td>\n",
       "      <td>33077.000</td>\n",
       "      <td>33077.000</td>\n",
       "      <td>33077.000</td>\n",
       "      <td>33077.000</td>\n",
       "      <td>33077.000</td>\n",
       "      <td>33077.000</td>\n",
       "      <td>33077.000</td>\n",
       "      <td>33077.0</td>\n",
       "    </tr>\n",
       "  </tbody>\n",
       "</table>\n",
       "<p>4 rows × 51 columns</p>\n",
       "</div>"
      ],
      "text/plain": [
       "                 0          1          2          3          4          5   \\\n",
       "count       227.000    211.000    239.000    296.000    309.000    372.000   \n",
       "fraction      0.007      0.006      0.007      0.009      0.009      0.011   \n",
       "reldist       0.000      0.010      0.020      0.030      0.040      0.050   \n",
       "total     33077.000  33077.000  33077.000  33077.000  33077.000  33077.000   \n",
       "\n",
       "                 6          7          8          9    ...            41  \\\n",
       "count       367.000    410.000    422.000    479.000   ...       930.000   \n",
       "fraction      0.011      0.012      0.013      0.014   ...         0.028   \n",
       "reldist       0.060      0.070      0.080      0.090   ...         0.410   \n",
       "total     33077.000  33077.000  33077.000  33077.000   ...     33077.000   \n",
       "\n",
       "                 42         43         44         45         46         47  \\\n",
       "count       857.000    945.000    919.000    930.000    877.000    958.000   \n",
       "fraction      0.026      0.029      0.028      0.028      0.027      0.029   \n",
       "reldist       0.420      0.430      0.440      0.450      0.460      0.470   \n",
       "total     33077.000  33077.000  33077.000  33077.000  33077.000  33077.000   \n",
       "\n",
       "                 48         49       50  \n",
       "count       932.000    944.000     11.0  \n",
       "fraction      0.028      0.029      0.0  \n",
       "reldist       0.480      0.490      0.5  \n",
       "total     33077.000  33077.000  33077.0  \n",
       "\n",
       "[4 rows x 51 columns]"
      ]
     },
     "execution_count": 40,
     "metadata": {},
     "output_type": "execute_result"
    }
   ],
   "source": [
    "df_reldist = pd.DataFrame(encode_bed_cores.sort().reldist(repeat_bed.sort()))\n",
    "df_reldist.T"
   ]
  },
  {
   "cell_type": "code",
   "execution_count": 41,
   "metadata": {
    "collapsed": false
   },
   "outputs": [],
   "source": [
    "df_reldist_random = pd.DataFrame(encode_bed_cores.sort().reldist(repeat_bed.shuffle(g=assembly_path, chrom=False).sort()))"
   ]
  },
  {
   "cell_type": "code",
   "execution_count": 42,
   "metadata": {
    "collapsed": false,
    "scrolled": false
   },
   "outputs": [
    {
     "data": {
      "image/png": "[encoded data removed]",
      "text/plain": [
       "<matplotlib.figure.Figure at 0x1194d2748>"
      ]
     },
     "metadata": {},
     "output_type": "display_data"
    }
   ],
   "source": [
    "import numpy as np\n",
    "import seaborn as sns\n",
    "#import matplotlib.pyplot as plt\n",
    "%matplotlib inline\n",
    "\n",
    "#sns.set(style=\"white\", palette=\"muted\", color_codes=True)\n",
    "sns.set(style=\"ticks\", palette=\"muted\", color_codes=True)\n",
    "sns.set_context(\"poster\", font_scale=0.6, rc={\"lines.linewidth\": 0.8})\n",
    "\n",
    "g1 = sns.pointplot(x='reldist', y='fraction', data=df_reldist[0:50],  color='r')\n",
    "g2 = sns.pointplot(x='reldist', y='fraction', data=df_reldist_random[0:50], color='b')\n",
    "\n",
    "sns.despine(offset=10, trim=True)\n",
    "#plot.set_yscale(\"log\")\n",
    "#df_reldist[['reldist','fraction']].plot()\n",
    "for ind, label in enumerate(g1.get_xticklabels()):\n",
    "    if ind % 10 == 0:  # every 10th label is kept\n",
    "        label.set_visible(True)\n",
    "    else:\n",
    "        label.set_visible(False)"
   ]
  },
  {
   "cell_type": "markdown",
   "metadata": {},
   "source": [
    "## Enhancer-Alus: Alus in a +/- 4 kbp window around enhancer's core "
   ]
  },
  {
   "cell_type": "code",
   "execution_count": 43,
   "metadata": {
    "collapsed": false
   },
   "outputs": [],
   "source": [
    "encode_bed_df = encode_bed.to_dataframe()\n",
    "encode_bed_df['size'] = encode_bed_df.apply(lambda row: compute_size(row), axis=1)"
   ]
  },
  {
   "cell_type": "code",
   "execution_count": 44,
   "metadata": {
    "collapsed": false
   },
   "outputs": [
    {
     "data": {
      "text/plain": [
       "True"
      ]
     },
     "execution_count": 44,
     "metadata": {},
     "output_type": "execute_result"
    }
   ],
   "source": [
    "encode_bed_df['size'].quantile(0.5) == encode_bed_df['size'].median()"
   ]
  },
  {
   "cell_type": "code",
   "execution_count": 45,
   "metadata": {
    "collapsed": false
   },
   "outputs": [
    {
     "data": {
      "text/plain": [
       "1457.432952511683"
      ]
     },
     "execution_count": 45,
     "metadata": {},
     "output_type": "execute_result"
    }
   ],
   "source": [
    "encode_bed_df['size'].std()"
   ]
  },
  {
   "cell_type": "code",
   "execution_count": 46,
   "metadata": {
    "collapsed": false
   },
   "outputs": [
    {
     "name": "stderr",
     "output_type": "stream",
     "text": [
      "/Users/manuel/anaconda/lib/python3.5/site-packages/statsmodels/nonparametric/kdetools.py:20: VisibleDeprecationWarning: using a non-integer number instead of an integer will result in an error in the future\n",
      "  y = X[:m/2+1] + np.r_[0,X[m/2+1:],0]*1j\n"
     ]
    },
    {
     "data": {
      "text/plain": [
       "<matplotlib.axes._subplots.AxesSubplot at 0x11a795c18>"
      ]
     },
     "execution_count": 46,
     "metadata": {},
     "output_type": "execute_result"
    },
    {
     "data": {
      "image/png": "[encoded data removed]",
      "text/plain": [
       "<matplotlib.figure.Figure at 0x11a76ff60>"
      ]
     },
     "metadata": {},
     "output_type": "display_data"
    }
   ],
   "source": [
    "import seaborn as sns\n",
    "%matplotlib inline\n",
    "import scipy.stats as st\n",
    "sns.distplot(encode_bed_df[['size']], kde=True)"
   ]
  },
  {
   "cell_type": "code",
   "execution_count": 47,
   "metadata": {
    "collapsed": false
   },
   "outputs": [
    {
     "data": {
      "text/plain": [
       "971.0"
      ]
     },
     "execution_count": 47,
     "metadata": {},
     "output_type": "execute_result"
    }
   ],
   "source": [
    "np.percentile(encode_bed_df[['size']], 50)"
   ]
  },
  {
   "cell_type": "code",
   "execution_count": 48,
   "metadata": {
    "collapsed": false
   },
   "outputs": [
    {
     "data": {
      "text/plain": [
       "array([ 0. ,  0.1,  0.2,  0.3,  0.4,  0.5,  0.6,  0.7,  0.8,  0.9])"
      ]
     },
     "execution_count": 48,
     "metadata": {},
     "output_type": "execute_result"
    }
   ],
   "source": [
    "np.arange(0, 1, 0.1)"
   ]
  },
  {
   "cell_type": "code",
   "execution_count": 49,
   "metadata": {
    "collapsed": false
   },
   "outputs": [
    {
     "data": {
      "text/html": [
       "<div>\n",
       "<table border=\"1\" class=\"dataframe\">\n",
       "  <thead>\n",
       "    <tr style=\"text-align: right;\">\n",
       "      <th></th>\n",
       "      <th>size</th>\n",
       "    </tr>\n",
       "  </thead>\n",
       "  <tbody>\n",
       "    <tr>\n",
       "      <th>0.0</th>\n",
       "      <td>170.0</td>\n",
       "    </tr>\n",
       "    <tr>\n",
       "      <th>0.1</th>\n",
       "      <td>251.0</td>\n",
       "    </tr>\n",
       "    <tr>\n",
       "      <th>0.2</th>\n",
       "      <td>337.0</td>\n",
       "    </tr>\n",
       "    <tr>\n",
       "      <th>0.3</th>\n",
       "      <td>459.0</td>\n",
       "    </tr>\n",
       "    <tr>\n",
       "      <th>0.4</th>\n",
       "      <td>675.0</td>\n",
       "    </tr>\n",
       "    <tr>\n",
       "      <th>0.5</th>\n",
       "      <td>971.0</td>\n",
       "    </tr>\n",
       "    <tr>\n",
       "      <th>0.6</th>\n",
       "      <td>1313.0</td>\n",
       "    </tr>\n",
       "    <tr>\n",
       "      <th>0.7</th>\n",
       "      <td>1721.0</td>\n",
       "    </tr>\n",
       "    <tr>\n",
       "      <th>0.8</th>\n",
       "      <td>2229.0</td>\n",
       "    </tr>\n",
       "    <tr>\n",
       "      <th>0.9</th>\n",
       "      <td>3123.0</td>\n",
       "    </tr>\n",
       "  </tbody>\n",
       "</table>\n",
       "</div>"
      ],
      "text/plain": [
       "       size\n",
       "0.0   170.0\n",
       "0.1   251.0\n",
       "0.2   337.0\n",
       "0.3   459.0\n",
       "0.4   675.0\n",
       "0.5   971.0\n",
       "0.6  1313.0\n",
       "0.7  1721.0\n",
       "0.8  2229.0\n",
       "0.9  3123.0"
      ]
     },
     "execution_count": 49,
     "metadata": {},
     "output_type": "execute_result"
    }
   ],
   "source": [
    "encode_bed_df[['size']].quantile(np.arange(0,1,0.1))"
   ]
  },
  {
   "cell_type": "code",
   "execution_count": 50,
   "metadata": {
    "collapsed": false
   },
   "outputs": [],
   "source": [
    "# what if using percentiles in considering enhancer regions? Eg: b=170/2, 251/2, ..., 3123/2\n",
    "#encode_bed_slop = encode_bed_cores.slop(genome='hg19', b=int(round(3123/2)))"
   ]
  },
  {
   "cell_type": "code",
   "execution_count": 51,
   "metadata": {
    "collapsed": true
   },
   "outputs": [],
   "source": [
    "#compute \"enhancers regions\" as +/- 4kb from enhancer cores\n",
    "encode_bed_slop = encode_bed_cores.slop(g=assembly_path, b=4000)"
   ]
  },
  {
   "cell_type": "code",
   "execution_count": 52,
   "metadata": {
    "collapsed": false
   },
   "outputs": [
    {
     "name": "stdout",
     "output_type": "stream",
     "text": [
      "chr1\t118595\t118595\tDistal-Prediction-10810\t1\t.\n",
      " chr1\t138794\t138794\tProximal-Prediction-8451\t1\t.\n",
      " chr1\t229554\t229554\tProximal-Prediction-13463\t1\t.\n",
      " chr1\t235802\t235802\tProximal-Prediction-6494\t1\t.\n",
      " chr1\t713934\t713934\tProximal-Prediction-2259\t1\t.\n",
      " chr1\t761154\t761154\tProximal-Prediction-9261\t1\t.\n",
      " chr1\t762601\t762601\tProximal-Prediction-1564\t1\t.\n",
      " chr1\t765589\t765589\tProximal-Prediction-15111\t1\t.\n",
      " chr1\t840032\t840032\tProximal-Prediction-13579\t1\t.\n",
      " chr1\t894288\t894288\tProximal-Prediction-8969\t1\t.\n",
      " "
     ]
    }
   ],
   "source": [
    "encode_bed_cores.sort().head()"
   ]
  },
  {
   "cell_type": "code",
   "execution_count": 53,
   "metadata": {
    "collapsed": false
   },
   "outputs": [
    {
     "name": "stdout",
     "output_type": "stream",
     "text": [
      "chr1\t114595\t122595\tDistal-Prediction-10810\t1\t.\n",
      " chr1\t134794\t142794\tProximal-Prediction-8451\t1\t.\n",
      " chr1\t225554\t233554\tProximal-Prediction-13463\t1\t.\n",
      " chr1\t231802\t239802\tProximal-Prediction-6494\t1\t.\n",
      " chr1\t709934\t717934\tProximal-Prediction-2259\t1\t.\n",
      " chr1\t757154\t765154\tProximal-Prediction-9261\t1\t.\n",
      " chr1\t758601\t766601\tProximal-Prediction-1564\t1\t.\n",
      " chr1\t761589\t769589\tProximal-Prediction-15111\t1\t.\n",
      " chr1\t836032\t844032\tProximal-Prediction-13579\t1\t.\n",
      " chr1\t890288\t898288\tProximal-Prediction-8969\t1\t.\n",
      " "
     ]
    }
   ],
   "source": [
    "encode_bed_slop.sort().head()"
   ]
  },
  {
   "cell_type": "code",
   "execution_count": 54,
   "metadata": {
    "collapsed": false
   },
   "outputs": [
    {
     "data": {
      "text/plain": [
       "33082"
      ]
     },
     "execution_count": 54,
     "metadata": {},
     "output_type": "execute_result"
    }
   ],
   "source": [
    "encode_bed_slop.count()"
   ]
  },
  {
   "cell_type": "code",
   "execution_count": 55,
   "metadata": {
    "collapsed": true
   },
   "outputs": [],
   "source": [
    "#enhancer-MIRs: MIR in +/- 4kb from the core of an enhancer \n",
    "#(asking the full MIR to be overlapped by an enhancer region)\n",
    "region_intersection = repeat_bed.intersect(encode_bed_slop, f=1)"
   ]
  },
  {
   "cell_type": "code",
   "execution_count": 56,
   "metadata": {
    "collapsed": false
   },
   "outputs": [
    {
     "data": {
      "text/plain": [
       "167392"
      ]
     },
     "execution_count": 56,
     "metadata": {},
     "output_type": "execute_result"
    }
   ],
   "source": [
    "region_intersection.count()"
   ]
  },
  {
   "cell_type": "code",
   "execution_count": 57,
   "metadata": {
    "collapsed": false
   },
   "outputs": [],
   "source": [
    "# null model enhancers-MIRs\n",
    "shuffled_repeat = repeat_bed.shuffle(g=assembly_path)"
   ]
  },
  {
   "cell_type": "code",
   "execution_count": 58,
   "metadata": {
    "collapsed": false
   },
   "outputs": [
    {
     "data": {
      "text/plain": [
       "True"
      ]
     },
     "execution_count": 58,
     "metadata": {},
     "output_type": "execute_result"
    }
   ],
   "source": [
    "shuffled_repeat.count() == repeat_bed.count()"
   ]
  },
  {
   "cell_type": "code",
   "execution_count": 59,
   "metadata": {
    "collapsed": true
   },
   "outputs": [],
   "source": [
    "null_model_intersection = shuffled_repeat.intersect(encode_bed_slop, f=1)"
   ]
  },
  {
   "cell_type": "code",
   "execution_count": 60,
   "metadata": {
    "collapsed": false
   },
   "outputs": [
    {
     "data": {
      "text/plain": [
       "97403"
      ]
     },
     "execution_count": 60,
     "metadata": {},
     "output_type": "execute_result"
    }
   ],
   "source": [
    "null_model_intersection.count()"
   ]
  },
  {
   "cell_type": "code",
   "execution_count": 61,
   "metadata": {
    "collapsed": true
   },
   "outputs": [],
   "source": [
    "test_df2 = create_random_overlap_distribution_parallelized(repeat_bed, encode_bed_slop, assembly_path,\n",
    "                                                         1, 100)\n"
   ]
  },
  {
   "cell_type": "code",
   "execution_count": 62,
   "metadata": {
    "collapsed": false
   },
   "outputs": [
    {
     "data": {
      "text/plain": [
       "<matplotlib.axes._subplots.AxesSubplot at 0x11a5d1390>"
      ]
     },
     "execution_count": 62,
     "metadata": {},
     "output_type": "execute_result"
    },
    {
     "data": {
      "image/png": "[encoded data removed]",
      "text/plain": [
       "<matplotlib.figure.Figure at 0x11a756e10>"
      ]
     },
     "metadata": {},
     "output_type": "display_data"
    }
   ],
   "source": [
    "import seaborn as sns\n",
    "%matplotlib inline\n",
    "import scipy.stats as st\n",
    "sns.distplot(test_df2[['size']], kde=False, fit=st.norm, bins=10)"
   ]
  },
  {
   "cell_type": "code",
   "execution_count": 63,
   "metadata": {
    "collapsed": false
   },
   "outputs": [
    {
     "name": "stdout",
     "output_type": "stream",
     "text": [
      "114.23942087987345\n"
     ]
    }
   ],
   "source": [
    "z_score =(region_intersection.count() - np.mean(test_df2['size']))/np.std(test_df2['size'])\n",
    "print(z_score)"
   ]
  },
  {
   "cell_type": "code",
   "execution_count": 64,
   "metadata": {
    "collapsed": false
   },
   "outputs": [
    {
     "data": {
      "text/plain": [
       "1.0"
      ]
     },
     "execution_count": 64,
     "metadata": {},
     "output_type": "execute_result"
    }
   ],
   "source": [
    "import scipy.stats as st\n",
    "st.norm.ppf(.95)\n",
    "st.norm.cdf(z_score)"
   ]
  },
  {
   "cell_type": "code",
   "execution_count": 65,
   "metadata": {
    "collapsed": false
   },
   "outputs": [
    {
     "data": {
      "text/plain": [
       "0.0"
      ]
     },
     "execution_count": 65,
     "metadata": {},
     "output_type": "execute_result"
    }
   ],
   "source": [
    "p_values = st.norm.sf(abs(z_score))\n",
    "p_values"
   ]
  },
  {
   "cell_type": "code",
   "execution_count": 66,
   "metadata": {
    "collapsed": false
   },
   "outputs": [
    {
     "data": {
      "text/plain": [
       "Ttest_1sampResult(statistic=array([-1136.66788598]), pvalue=array([  1.50526033e-205]))"
      ]
     },
     "execution_count": 66,
     "metadata": {},
     "output_type": "execute_result"
    }
   ],
   "source": [
    "st.ttest_1samp(a= test_df2[['size']], popmean= region_intersection.count())"
   ]
  },
  {
   "cell_type": "code",
   "execution_count": 67,
   "metadata": {
    "collapsed": false
   },
   "outputs": [
    {
     "name": "stdout",
     "output_type": "stream",
     "text": [
      "Test Statistic: [ 2931623.27794638]\n",
      "p-value: [ 0.]\n"
     ]
    }
   ],
   "source": [
    "chi2, p = st.chisquare( test_df2[['size']],region_intersection.count() )\n",
    "msg = \"Test Statistic: {}\\np-value: {}\"\n",
    "print( msg.format( chi2, p ) )"
   ]
  },
  {
   "cell_type": "code",
   "execution_count": 68,
   "metadata": {
    "collapsed": false
   },
   "outputs": [
    {
     "data": {
      "text/plain": [
       "<FisherOutput at 4697866816>\n",
       "# Number of query intervals: 1177252\n",
       "# Number of db intervals: 33082\n",
       "# Number of overlaps: 167392\n",
       "# Number of possible intervals (estimated): 1177252\n",
       "# phyper(167392 - 1, 1177252, 1177252 - 1177252, 33082, lower.tail=F)\n",
       "# Contingency Table Of Counts\n",
       "#_________________________________________\n",
       "#           |  in -b       | not in -b    |\n",
       "#     in -a | 167392       | 1009860      |\n",
       "# not in -a | 0            | 0            |\n",
       "#_________________________________________\n",
       "# p-values for fisher's exact test\n",
       "left\tright\ttwo-tail\tratio\n",
       "1\t1\t1\tnan"
      ]
     },
     "execution_count": 68,
     "metadata": {},
     "output_type": "execute_result"
    }
   ],
   "source": [
    "repeat_bed.sort().fisher(encode_bed_slop.sort(), f=1, g=assembly_path)"
   ]
  },
  {
   "cell_type": "code",
   "execution_count": 69,
   "metadata": {
    "collapsed": false
   },
   "outputs": [
    {
     "data": {
      "text/plain": [
       "0.0"
      ]
     },
     "execution_count": 69,
     "metadata": {},
     "output_type": "execute_result"
    }
   ],
   "source": [
    "#pvalue <- 1-phyper(45, 92, 7518, 1329)\n",
    "#pvalue = 1-stats.hypergeom.cdf(45, 7518, 92. 1329)\n",
    "1-st.hypergeom.cdf(66741, 0, 594732, 33082)"
   ]
  },
  {
   "cell_type": "code",
   "execution_count": 70,
   "metadata": {
    "collapsed": false
   },
   "outputs": [
    {
     "data": {
      "text/html": [
       "<div>\n",
       "<table border=\"1\" class=\"dataframe\">\n",
       "  <thead>\n",
       "    <tr style=\"text-align: right;\">\n",
       "      <th></th>\n",
       "      <th>0</th>\n",
       "      <th>1</th>\n",
       "      <th>2</th>\n",
       "      <th>3</th>\n",
       "      <th>4</th>\n",
       "      <th>5</th>\n",
       "      <th>6</th>\n",
       "      <th>7</th>\n",
       "      <th>8</th>\n",
       "      <th>9</th>\n",
       "      <th>...</th>\n",
       "      <th>41</th>\n",
       "      <th>42</th>\n",
       "      <th>43</th>\n",
       "      <th>44</th>\n",
       "      <th>45</th>\n",
       "      <th>46</th>\n",
       "      <th>47</th>\n",
       "      <th>48</th>\n",
       "      <th>49</th>\n",
       "      <th>50</th>\n",
       "    </tr>\n",
       "  </thead>\n",
       "  <tbody>\n",
       "    <tr>\n",
       "      <th>count</th>\n",
       "      <td>227.000</td>\n",
       "      <td>211.000</td>\n",
       "      <td>239.000</td>\n",
       "      <td>296.000</td>\n",
       "      <td>309.000</td>\n",
       "      <td>372.000</td>\n",
       "      <td>367.000</td>\n",
       "      <td>410.000</td>\n",
       "      <td>422.000</td>\n",
       "      <td>479.000</td>\n",
       "      <td>...</td>\n",
       "      <td>930.000</td>\n",
       "      <td>857.000</td>\n",
       "      <td>945.000</td>\n",
       "      <td>919.000</td>\n",
       "      <td>930.000</td>\n",
       "      <td>877.000</td>\n",
       "      <td>958.000</td>\n",
       "      <td>932.000</td>\n",
       "      <td>944.000</td>\n",
       "      <td>11.0</td>\n",
       "    </tr>\n",
       "    <tr>\n",
       "      <th>fraction</th>\n",
       "      <td>0.007</td>\n",
       "      <td>0.006</td>\n",
       "      <td>0.007</td>\n",
       "      <td>0.009</td>\n",
       "      <td>0.009</td>\n",
       "      <td>0.011</td>\n",
       "      <td>0.011</td>\n",
       "      <td>0.012</td>\n",
       "      <td>0.013</td>\n",
       "      <td>0.014</td>\n",
       "      <td>...</td>\n",
       "      <td>0.028</td>\n",
       "      <td>0.026</td>\n",
       "      <td>0.029</td>\n",
       "      <td>0.028</td>\n",
       "      <td>0.028</td>\n",
       "      <td>0.027</td>\n",
       "      <td>0.029</td>\n",
       "      <td>0.028</td>\n",
       "      <td>0.029</td>\n",
       "      <td>0.0</td>\n",
       "    </tr>\n",
       "    <tr>\n",
       "      <th>reldist</th>\n",
       "      <td>0.000</td>\n",
       "      <td>0.010</td>\n",
       "      <td>0.020</td>\n",
       "      <td>0.030</td>\n",
       "      <td>0.040</td>\n",
       "      <td>0.050</td>\n",
       "      <td>0.060</td>\n",
       "      <td>0.070</td>\n",
       "      <td>0.080</td>\n",
       "      <td>0.090</td>\n",
       "      <td>...</td>\n",
       "      <td>0.410</td>\n",
       "      <td>0.420</td>\n",
       "      <td>0.430</td>\n",
       "      <td>0.440</td>\n",
       "      <td>0.450</td>\n",
       "      <td>0.460</td>\n",
       "      <td>0.470</td>\n",
       "      <td>0.480</td>\n",
       "      <td>0.490</td>\n",
       "      <td>0.5</td>\n",
       "    </tr>\n",
       "    <tr>\n",
       "      <th>total</th>\n",
       "      <td>33077.000</td>\n",
       "      <td>33077.000</td>\n",
       "      <td>33077.000</td>\n",
       "      <td>33077.000</td>\n",
       "      <td>33077.000</td>\n",
       "      <td>33077.000</td>\n",
       "      <td>33077.000</td>\n",
       "      <td>33077.000</td>\n",
       "      <td>33077.000</td>\n",
       "      <td>33077.000</td>\n",
       "      <td>...</td>\n",
       "      <td>33077.000</td>\n",
       "      <td>33077.000</td>\n",
       "      <td>33077.000</td>\n",
       "      <td>33077.000</td>\n",
       "      <td>33077.000</td>\n",
       "      <td>33077.000</td>\n",
       "      <td>33077.000</td>\n",
       "      <td>33077.000</td>\n",
       "      <td>33077.000</td>\n",
       "      <td>33077.0</td>\n",
       "    </tr>\n",
       "  </tbody>\n",
       "</table>\n",
       "<p>4 rows × 51 columns</p>\n",
       "</div>"
      ],
      "text/plain": [
       "                 0          1          2          3          4          5   \\\n",
       "count       227.000    211.000    239.000    296.000    309.000    372.000   \n",
       "fraction      0.007      0.006      0.007      0.009      0.009      0.011   \n",
       "reldist       0.000      0.010      0.020      0.030      0.040      0.050   \n",
       "total     33077.000  33077.000  33077.000  33077.000  33077.000  33077.000   \n",
       "\n",
       "                 6          7          8          9    ...            41  \\\n",
       "count       367.000    410.000    422.000    479.000   ...       930.000   \n",
       "fraction      0.011      0.012      0.013      0.014   ...         0.028   \n",
       "reldist       0.060      0.070      0.080      0.090   ...         0.410   \n",
       "total     33077.000  33077.000  33077.000  33077.000   ...     33077.000   \n",
       "\n",
       "                 42         43         44         45         46         47  \\\n",
       "count       857.000    945.000    919.000    930.000    877.000    958.000   \n",
       "fraction      0.026      0.029      0.028      0.028      0.027      0.029   \n",
       "reldist       0.420      0.430      0.440      0.450      0.460      0.470   \n",
       "total     33077.000  33077.000  33077.000  33077.000  33077.000  33077.000   \n",
       "\n",
       "                 48         49       50  \n",
       "count       932.000    944.000     11.0  \n",
       "fraction      0.028      0.029      0.0  \n",
       "reldist       0.480      0.490      0.5  \n",
       "total     33077.000  33077.000  33077.0  \n",
       "\n",
       "[4 rows x 51 columns]"
      ]
     },
     "execution_count": 70,
     "metadata": {},
     "output_type": "execute_result"
    }
   ],
   "source": [
    "df_reldist = pd.DataFrame(encode_bed_slop.sort().reldist(repeat_bed.sort()))\n",
    "df_reldist.T"
   ]
  },
  {
   "cell_type": "code",
   "execution_count": 71,
   "metadata": {
    "collapsed": true
   },
   "outputs": [],
   "source": [
    "df_reldist_random = pd.DataFrame(encode_bed_slop.sort().reldist(repeat_bed.sort().shuffle(g=assembly_path, chrom=False).sort()))"
   ]
  },
  {
   "cell_type": "code",
   "execution_count": 72,
   "metadata": {
    "collapsed": false,
    "scrolled": false
   },
   "outputs": [
    {
     "data": {
      "image/png": "[encoded data removed]",
      "text/plain": [
       "<matplotlib.figure.Figure at 0x11a756cf8>"
      ]
     },
     "metadata": {},
     "output_type": "display_data"
    }
   ],
   "source": [
    "import numpy as np\n",
    "import seaborn as sns\n",
    "#import matplotlib.pyplot as plt\n",
    "%matplotlib inline\n",
    "\n",
    "#sns.set(style=\"white\", palette=\"muted\", color_codes=True)\n",
    "sns.set(style=\"ticks\", palette=\"muted\", color_codes=True)\n",
    "sns.set_context(\"poster\", font_scale=0.6, rc={\"lines.linewidth\": 0.8})\n",
    "\n",
    "g1 = sns.pointplot(x='reldist', y='fraction', data=df_reldist[0:50],  color='r')\n",
    "g2 = sns.pointplot(x='reldist', y='fraction', data=df_reldist_random[0:50], color='b')\n",
    "\n",
    "sns.despine(offset=10, trim=True)\n",
    "#plot.set_yscale(\"log\")\n",
    "#df_reldist[['reldist','fraction']].plot()\n",
    "for ind, label in enumerate(g1.get_xticklabels()):\n",
    "    if ind % 10 == 0:  # every 10th label is kept\n",
    "        label.set_visible(True)\n",
    "    else:\n",
    "        label.set_visible(False)"
   ]
  },
  {
   "cell_type": "markdown",
   "metadata": {},
   "source": [
    "## Densities"
   ]
  },
  {
   "cell_type": "code",
   "execution_count": 73,
   "metadata": {
    "collapsed": false
   },
   "outputs": [],
   "source": [
    "# density\n",
    "# assuming expected number of MIR-enhancers as\n",
    "# average genome-wide density of enhancers (enhancers/bp) * total bp length of all MIRs\n",
    "\n",
    "def compute_expected_number(name1_bed_df, name2_bed_df, name1, name2):\n",
    "    genome_size = 3095677412\n",
    "    #enhancers_bed_df['size'] = enhancers_bed_df['end'] - enhancers_bed_df['start']\n",
    "    name1_density = len(name1_bed_df) /  genome_size\n",
    "    name2_bed_df['size'] = name2_bed_df['end'] - name2_bed_df['start']\n",
    "    name2_len = name2_bed_df['size'].sum()\n",
    "    print(name1, 'density =', name1_density, '(num of intervals)/(genome bp)')\n",
    "    print(name2,'length =', name2_len, 'bp')\n",
    "    print('Expected number of', name2, name1, '=', int(round(name1_density * name2_len)))"
   ]
  },
  {
   "cell_type": "code",
   "execution_count": 108,
   "metadata": {
    "collapsed": false
   },
   "outputs": [
    {
     "name": "stdout",
     "output_type": "stream",
     "text": [
      "K562 enhancers density = 1.068651399908848e-05 (num of intervals)/(genome bp)\n",
      "Sine/Alu length = 305103183 bp\n",
      "Expected number of Sine/Alu K562 enhancers = 3260\n"
     ]
    }
   ],
   "source": [
    "compute_expected_number(encode_bed_df, repeat_bed_df, 'K562 enhancers', 'Sine/Alu')"
   ]
  },
  {
   "cell_type": "code",
   "execution_count": 109,
   "metadata": {
    "collapsed": true
   },
   "outputs": [],
   "source": [
    "def infer_TSS_proximity(row):\n",
    "    description = row['name']\n",
    "    if 'Distal' in description:\n",
    "        return 'Distal'\n",
    "    if 'Proximal' in description:\n",
    "        return 'Proximal'"
   ]
  },
  {
   "cell_type": "code",
   "execution_count": 110,
   "metadata": {
    "collapsed": false
   },
   "outputs": [],
   "source": [
    "encode_bed_df['TSS_proximity'] = encode_bed_df.apply(lambda r: infer_TSS_proximity(r), axis=1)"
   ]
  },
  {
   "cell_type": "code",
   "execution_count": 111,
   "metadata": {
    "collapsed": false
   },
   "outputs": [],
   "source": [
    "proximal_df = encode_bed_df.query(\"TSS_proximity == 'Proximal'\")\n",
    "distal_df = encode_bed_df.query(\"TSS_proximity == 'Distal'\")"
   ]
  },
  {
   "cell_type": "code",
   "execution_count": 112,
   "metadata": {
    "collapsed": false
   },
   "outputs": [
    {
     "data": {
      "text/plain": [
       "17249"
      ]
     },
     "execution_count": 112,
     "metadata": {},
     "output_type": "execute_result"
    }
   ],
   "source": [
    "len(distal_df)"
   ]
  },
  {
   "cell_type": "code",
   "execution_count": 113,
   "metadata": {
    "collapsed": false
   },
   "outputs": [
    {
     "data": {
      "text/plain": [
       "15833"
      ]
     },
     "execution_count": 113,
     "metadata": {},
     "output_type": "execute_result"
    }
   ],
   "source": [
    "len(proximal_df)"
   ]
  },
  {
   "cell_type": "code",
   "execution_count": 114,
   "metadata": {
    "collapsed": false
   },
   "outputs": [
    {
     "name": "stdout",
     "output_type": "stream",
     "text": [
      "Distal enhancers density = 5.571963000129291e-06 (num of intervals)/(genome bp)\n",
      "Sine/MIR length = 305103183 bp\n",
      "Expected number of Sine/MIR Distal enhancers = 1700\n"
     ]
    }
   ],
   "source": [
    "compute_expected_number(distal_df, repeat_bed_df, \"Distal enhancers\", \"Sine/MIR\")"
   ]
  },
  {
   "cell_type": "code",
   "execution_count": 115,
   "metadata": {
    "collapsed": false
   },
   "outputs": [
    {
     "name": "stdout",
     "output_type": "stream",
     "text": [
      "Proximal enhancers density = 5.11455099895919e-06 (num of intervals)/(genome bp)\n",
      "Sine/MIR length = 305103183 bp\n",
      "Expected number of Sine/MIR Proximal enhancers = 1560\n"
     ]
    }
   ],
   "source": [
    "compute_expected_number(proximal_df, repeat_bed_df, \"Proximal enhancers\", \"Sine/MIR\")"
   ]
  },
  {
   "cell_type": "code",
   "execution_count": 116,
   "metadata": {
    "collapsed": true
   },
   "outputs": [],
   "source": [
    "genes_bed = BedTool(\"../download/genome/knownGene_hg19.bed\")"
   ]
  },
  {
   "cell_type": "code",
   "execution_count": 117,
   "metadata": {
    "collapsed": false
   },
   "outputs": [
    {
     "data": {
      "text/plain": [
       "82960"
      ]
     },
     "execution_count": 117,
     "metadata": {},
     "output_type": "execute_result"
    }
   ],
   "source": [
    "genes_bed.count()"
   ]
  },
  {
   "cell_type": "code",
   "execution_count": 118,
   "metadata": {
    "collapsed": false
   },
   "outputs": [],
   "source": [
    "genes_bed_df = genes_bed.to_dataframe()"
   ]
  },
  {
   "cell_type": "code",
   "execution_count": 119,
   "metadata": {
    "collapsed": true
   },
   "outputs": [],
   "source": [
    "chrom_list = ['chr1', 'chr2', 'chr3', 'chr4', 'chr5', 'chr6', 'chr7', 'chrX',\n",
    "              'chr8', 'chr9', 'chr10', 'chr11', 'chr12', 'chr13', 'chr14',\n",
    "              'chr15', 'chr16', 'chr17', 'chr18', 'chr20', 'chrY', 'chr19',\n",
    "              'chr22', 'chr21']\n",
    "\n",
    "genes_bed_df = genes_bed_df.query(\"chrom in @chrom_list\")"
   ]
  },
  {
   "cell_type": "code",
   "execution_count": 120,
   "metadata": {
    "collapsed": false
   },
   "outputs": [
    {
     "data": {
      "text/plain": [
       "array(['chr1', 'chr2', 'chr3', 'chr4', 'chr5', 'chr6', 'chr7', 'chr8',\n",
       "       'chr9', 'chrX', 'chrY', 'chr10', 'chr11', 'chr12', 'chr13', 'chr14',\n",
       "       'chr15', 'chr16', 'chr17', 'chr18', 'chr19', 'chr20', 'chr21',\n",
       "       'chr22'], dtype=object)"
      ]
     },
     "execution_count": 120,
     "metadata": {},
     "output_type": "execute_result"
    }
   ],
   "source": [
    "genes_bed_df['chrom'].unique()"
   ]
  },
  {
   "cell_type": "code",
   "execution_count": 121,
   "metadata": {
    "collapsed": true
   },
   "outputs": [],
   "source": [
    "genes_bed = BedTool().from_dataframe(genes_bed_df)"
   ]
  },
  {
   "cell_type": "code",
   "execution_count": 122,
   "metadata": {
    "collapsed": false
   },
   "outputs": [
    {
     "data": {
      "text/plain": [
       "78807"
      ]
     },
     "execution_count": 122,
     "metadata": {},
     "output_type": "execute_result"
    }
   ],
   "source": [
    "genes_bed.count()"
   ]
  },
  {
   "cell_type": "code",
   "execution_count": 123,
   "metadata": {
    "collapsed": false
   },
   "outputs": [
    {
     "name": "stdout",
     "output_type": "stream",
     "text": [
      "Genes density = 2.5457109870206334e-05 (num of intervals)/(genome bp)\n",
      "Sine/Alu length = 305103183 bp\n",
      "Expected number of Sine/Alu Genes = 7767\n"
     ]
    }
   ],
   "source": [
    "compute_expected_number(genes_bed_df, repeat_bed_df, 'Genes', 'Sine/Alu')"
   ]
  },
  {
   "cell_type": "code",
   "execution_count": 124,
   "metadata": {
    "collapsed": true
   },
   "outputs": [],
   "source": [
    "# genic enhancers: enhancers in genic regions\n",
    "genic_enhancers_bed = encode_bed.intersect(genes_bed, f=1, u=True)"
   ]
  },
  {
   "cell_type": "code",
   "execution_count": 125,
   "metadata": {
    "collapsed": false
   },
   "outputs": [
    {
     "data": {
      "text/plain": [
       "15722"
      ]
     },
     "execution_count": 125,
     "metadata": {},
     "output_type": "execute_result"
    }
   ],
   "source": [
    "genic_enhancers_bed.count()"
   ]
  },
  {
   "cell_type": "code",
   "execution_count": 126,
   "metadata": {
    "collapsed": true
   },
   "outputs": [],
   "source": [
    "# genic non-enhancers: genic regions without enhancers\n",
    "genic_non_enhancers_bed = genes_bed.subtract(genic_enhancers_bed, A=True)"
   ]
  },
  {
   "cell_type": "code",
   "execution_count": 127,
   "metadata": {
    "collapsed": false
   },
   "outputs": [
    {
     "data": {
      "text/plain": [
       "0"
      ]
     },
     "execution_count": 127,
     "metadata": {},
     "output_type": "execute_result"
    }
   ],
   "source": [
    "genic_non_enhancers_bed.intersect(genic_enhancers_bed).count()"
   ]
  },
  {
   "cell_type": "code",
   "execution_count": 128,
   "metadata": {
    "collapsed": true
   },
   "outputs": [],
   "source": [
    "# non-genic enhancers: enhancers outside genic regions\n",
    "non_genic_enhancers_bed = encode_bed.subtract(genes_bed, f=1, A=True)"
   ]
  },
  {
   "cell_type": "code",
   "execution_count": 129,
   "metadata": {
    "collapsed": false
   },
   "outputs": [
    {
     "data": {
      "text/plain": [
       "17360"
      ]
     },
     "execution_count": 129,
     "metadata": {},
     "output_type": "execute_result"
    }
   ],
   "source": [
    "non_genic_enhancers_bed.count()"
   ]
  },
  {
   "cell_type": "code",
   "execution_count": 130,
   "metadata": {
    "collapsed": false
   },
   "outputs": [
    {
     "data": {
      "text/plain": [
       "True"
      ]
     },
     "execution_count": 130,
     "metadata": {},
     "output_type": "execute_result"
    }
   ],
   "source": [
    "non_genic_enhancers_bed.count() + genic_enhancers_bed.count() == encode_bed.count()"
   ]
  },
  {
   "cell_type": "code",
   "execution_count": 131,
   "metadata": {
    "collapsed": true
   },
   "outputs": [],
   "source": [
    "# 200 bp regions around core of enhancers\n",
    "enhancers_regions_bed = encode_bed_cores.slop(g=assembly_path, b=200)"
   ]
  },
  {
   "cell_type": "code",
   "execution_count": 132,
   "metadata": {
    "collapsed": false
   },
   "outputs": [
    {
     "data": {
      "text/plain": [
       "33082"
      ]
     },
     "execution_count": 132,
     "metadata": {},
     "output_type": "execute_result"
    }
   ],
   "source": [
    "enhancers_regions_bed.count()"
   ]
  },
  {
   "cell_type": "code",
   "execution_count": 133,
   "metadata": {
    "collapsed": false
   },
   "outputs": [],
   "source": [
    "genes_bed_df['size'] = genes_bed_df.apply(lambda row: compute_size(row), axis=1)"
   ]
  },
  {
   "cell_type": "code",
   "execution_count": 134,
   "metadata": {
    "collapsed": false
   },
   "outputs": [
    {
     "data": {
      "text/html": [
       "<div>\n",
       "<table border=\"1\" class=\"dataframe\">\n",
       "  <thead>\n",
       "    <tr style=\"text-align: right;\">\n",
       "      <th></th>\n",
       "      <th>size</th>\n",
       "    </tr>\n",
       "  </thead>\n",
       "  <tbody>\n",
       "    <tr>\n",
       "      <th>0.0</th>\n",
       "      <td>19.0</td>\n",
       "    </tr>\n",
       "    <tr>\n",
       "      <th>0.1</th>\n",
       "      <td>993.6</td>\n",
       "    </tr>\n",
       "    <tr>\n",
       "      <th>0.2</th>\n",
       "      <td>4083.0</td>\n",
       "    </tr>\n",
       "    <tr>\n",
       "      <th>0.3</th>\n",
       "      <td>8054.0</td>\n",
       "    </tr>\n",
       "    <tr>\n",
       "      <th>0.4</th>\n",
       "      <td>13047.0</td>\n",
       "    </tr>\n",
       "    <tr>\n",
       "      <th>0.5</th>\n",
       "      <td>20134.0</td>\n",
       "    </tr>\n",
       "    <tr>\n",
       "      <th>0.6</th>\n",
       "      <td>30029.2</td>\n",
       "    </tr>\n",
       "    <tr>\n",
       "      <th>0.7</th>\n",
       "      <td>44468.0</td>\n",
       "    </tr>\n",
       "    <tr>\n",
       "      <th>0.8</th>\n",
       "      <td>71447.4</td>\n",
       "    </tr>\n",
       "    <tr>\n",
       "      <th>0.9</th>\n",
       "      <td>133227.0</td>\n",
       "    </tr>\n",
       "  </tbody>\n",
       "</table>\n",
       "</div>"
      ],
      "text/plain": [
       "         size\n",
       "0.0      19.0\n",
       "0.1     993.6\n",
       "0.2    4083.0\n",
       "0.3    8054.0\n",
       "0.4   13047.0\n",
       "0.5   20134.0\n",
       "0.6   30029.2\n",
       "0.7   44468.0\n",
       "0.8   71447.4\n",
       "0.9  133227.0"
      ]
     },
     "execution_count": 134,
     "metadata": {},
     "output_type": "execute_result"
    }
   ],
   "source": [
    "genes_bed_df[['size']].quantile(np.arange(0,1,0.1))"
   ]
  },
  {
   "cell_type": "code",
   "execution_count": 135,
   "metadata": {
    "collapsed": false
   },
   "outputs": [],
   "source": [
    "def compute_density_region(bed_in_region_df, region_df):\n",
    "    region_size = region_df['size'].sum()\n",
    "    bed_in_region_size = bed_in_region_df['size'].sum()\n",
    "    \n",
    "    return bed_in_region_size / region_size"
   ]
  },
  {
   "cell_type": "code",
   "execution_count": 136,
   "metadata": {
    "collapsed": false
   },
   "outputs": [],
   "source": [
    "repeat_reg1_df = repeat_bed.intersect(genic_enhancers_bed, f=1e-09, u=True).to_dataframe()"
   ]
  },
  {
   "cell_type": "code",
   "execution_count": 137,
   "metadata": {
    "collapsed": false
   },
   "outputs": [],
   "source": [
    "repeat_reg2_df = repeat_bed.intersect(genic_non_enhancers_bed, f=1e-09, u=True).to_dataframe()"
   ]
  },
  {
   "cell_type": "code",
   "execution_count": 138,
   "metadata": {
    "collapsed": false
   },
   "outputs": [],
   "source": [
    "repeat_reg3_df = repeat_bed.intersect(non_genic_enhancers_bed, f=1e-09, u=True).to_dataframe()"
   ]
  },
  {
   "cell_type": "code",
   "execution_count": 139,
   "metadata": {
    "collapsed": false
   },
   "outputs": [],
   "source": [
    "repeat_reg4_df = repeat_bed.intersect(enhancers_regions_bed, f=1e-09, u=True).to_dataframe()"
   ]
  },
  {
   "cell_type": "code",
   "execution_count": 140,
   "metadata": {
    "collapsed": false
   },
   "outputs": [],
   "source": [
    "reg1_df = genic_enhancers_bed.to_dataframe()\n",
    "reg2_df = genic_non_enhancers_bed.to_dataframe()\n",
    "reg3_df = non_genic_enhancers_bed.to_dataframe()\n",
    "reg4_df = enhancers_regions_bed.to_dataframe()\n",
    "\n",
    "reg1_df['size'] =  reg1_df.apply(lambda row: compute_size(row), axis=1)\n",
    "reg2_df['size'] =  reg2_df.apply(lambda row: compute_size(row), axis=1)\n",
    "reg3_df['size'] =  reg3_df.apply(lambda row: compute_size(row), axis=1)\n",
    "reg4_df['size'] =  reg4_df.apply(lambda row: compute_size(row), axis=1)\n",
    "\n",
    "repeat_reg1_df['size'] = repeat_reg1_df.apply(lambda row: compute_size(row), axis=1)\n",
    "repeat_reg2_df['size'] = repeat_reg2_df.apply(lambda row: compute_size(row), axis=1)\n",
    "repeat_reg3_df['size'] = repeat_reg3_df.apply(lambda row: compute_size(row), axis=1)\n",
    "repeat_reg4_df['size'] = repeat_reg4_df.apply(lambda row: compute_size(row), axis=1)"
   ]
  },
  {
   "cell_type": "code",
   "execution_count": 141,
   "metadata": {
    "collapsed": false
   },
   "outputs": [
    {
     "name": "stdout",
     "output_type": "stream",
     "text": [
      "density of Alu in genic enhancers 0.09689703467424013\n",
      "density of Alu in genic non enhancers 0.03751555595567507\n",
      "density of Alu in non genic enhancers 0.09636644655410137\n",
      "density of Alu in enhancer regions 0.09724669004292365\n",
      "Normalized Ratios 0.29539461887147406 0.11436772436364552 0.29377709903659943 0.29646055772828095\n"
     ]
    }
   ],
   "source": [
    "d1 = compute_density_region(repeat_reg1_df,reg1_df)\n",
    "d2 = compute_density_region(repeat_reg2_df,reg2_df)\n",
    "d3 = compute_density_region(repeat_reg3_df,reg3_df)\n",
    "d4 = compute_density_region(repeat_reg4_df,reg4_df)\n",
    "\n",
    "print(\"density of Alu in genic enhancers\", d1)\n",
    "print(\"density of Alu in genic non enhancers\", d2)\n",
    "print(\"density of Alu in non genic enhancers\", d3)\n",
    "print(\"density of Alu in enhancer regions\", d4)\n",
    "\n",
    "sum_d = d1+d2+d3+d4\n",
    "\n",
    "print(\"Normalized Ratios\",d1/sum_d, d2/sum_d, d3/sum_d, d4/sum_d)\n"
   ]
  },
  {
   "cell_type": "markdown",
   "metadata": {},
   "source": [
    "## Closeness Profile"
   ]
  },
  {
   "cell_type": "code",
   "execution_count": 148,
   "metadata": {
    "collapsed": true
   },
   "outputs": [],
   "source": [
    "import warnings\n",
    "warnings.filterwarnings('ignore')\n",
    "\n",
    "import seaborn as sns\n",
    "%matplotlib inline\n",
    "import numpy as np\n",
    "from joblib import Parallel, delayed\n",
    "import multiprocessing\n",
    "\n",
    "def compute_centers(closeness_df):\n",
    "    closeness_df['centered_locus'] = round(\n",
    "        (closeness_df['end'] - closeness_df['start'])/2 \n",
    "        + closeness_df['start']).astype(int)\n",
    "\n",
    "    closeness_df['close_centered_locus'] = round(\n",
    "        (closeness_df['close_end'] - closeness_df['close_start'])/2 \n",
    "        + closeness_df['close_start']).astype(int)\n",
    "\n",
    "    closeness_df['centered_distance'] = closeness_df['close_centered_locus'] - closeness_df['centered_locus'] \n",
    "    return closeness_df\n",
    "\n",
    "def compute_closeness_df(sorted_bed, sorted_bed_with):\n",
    "    closeness_columns = ['chrom', 'start', 'end', 'name', 'score', 'strand',\n",
    "                     'close_chrom', 'close_start','close_end', \n",
    "                     'close_name', 'close_score', 'close_strand', 'distance']\n",
    "    closeness = sorted_bed.closest(sorted_bed_with, D='a')\n",
    "    closeness_df = closeness.to_dataframe()\n",
    "    closeness_df.columns = closeness_columns\n",
    "    closeness_df = compute_centers(closeness_df)\n",
    "    return closeness_df\n",
    "\n",
    "def build_closeness_df(bed, bed_with):\n",
    "    \n",
    "    closeness_columns = ['chrom', 'start', 'end', 'name', 'score', 'strand',\n",
    "                         'close_chrom', 'close_start','close_end', \n",
    "                         'close_name', 'close_score', 'close_strand', 'distance']\n",
    "    \n",
    "    sorted_bed = bed.sort()\n",
    "    sorted_bed_with = bed_with.sort()\n",
    "    \n",
    "    # real on real\n",
    "    closeness = sorted_bed.closest(sorted_bed_with, D='a')\n",
    "    closeness_df = closeness.to_dataframe()\n",
    "    closeness_df.columns = closeness_columns\n",
    "    closeness_df = compute_centers(closeness_df)\n",
    "    \n",
    "    return closeness_df"
   ]
  },
  {
   "cell_type": "code",
   "execution_count": 176,
   "metadata": {
    "collapsed": false
   },
   "outputs": [
    {
     "data": {
      "text/plain": [
       "array(['K562', 'GM12878', 'DND-41', 'HCT116', 'OCI-LY7', 'A549', 'HeLa-S3',\n",
       "       'Loucy', 'MCF-7', 'Panc1', 'HepG2'], dtype=object)"
      ]
     },
     "execution_count": 176,
     "metadata": {},
     "output_type": "execute_result"
    }
   ],
   "source": [
    "encode_metadata.query(\"assembly == 'hg19' & biosample_type=='immortalized cell line' & method=='H3K27ac'\")['biosample_term_name'].unique()"
   ]
  },
  {
   "cell_type": "code",
   "execution_count": 188,
   "metadata": {
    "collapsed": false,
    "scrolled": true
   },
   "outputs": [
    {
     "data": {
      "text/html": [
       "<div>\n",
       "<table border=\"1\" class=\"dataframe\">\n",
       "  <thead>\n",
       "    <tr style=\"text-align: right;\">\n",
       "      <th></th>\n",
       "      <th>accession</th>\n",
       "      <th>assembly</th>\n",
       "      <th>biosample_term_id</th>\n",
       "      <th>biosample_term_name</th>\n",
       "      <th>biosample_type</th>\n",
       "      <th>description</th>\n",
       "      <th>developmental_slims</th>\n",
       "      <th>encyclopedia_version</th>\n",
       "      <th>month_released</th>\n",
       "      <th>organ_slims</th>\n",
       "      <th>organism</th>\n",
       "      <th>system_slims</th>\n",
       "      <th>bed_filename</th>\n",
       "      <th>bed_filepath</th>\n",
       "      <th>merged</th>\n",
       "      <th>method</th>\n",
       "    </tr>\n",
       "  </thead>\n",
       "  <tbody>\n",
       "    <tr>\n",
       "      <th>41</th>\n",
       "      <td>ENCSR821QGA</td>\n",
       "      <td>hg19</td>\n",
       "      <td>UBERON:0000305</td>\n",
       "      <td>amnion</td>\n",
       "      <td>tissue</td>\n",
       "      <td>Enhancer-like regions using H3K27ac-only for P...</td>\n",
       "      <td>[mesoderm]</td>\n",
       "      <td>3</td>\n",
       "      <td>August, 2016</td>\n",
       "      <td>[extraembryonic structure]</td>\n",
       "      <td>/organisms/human/</td>\n",
       "      <td>[]</td>\n",
       "      <td>ENCFF003LVR.bed.gz</td>\n",
       "      <td>/Users/manuel/development/thesis/download/ENCO...</td>\n",
       "      <td>False</td>\n",
       "      <td>H3K27ac</td>\n",
       "    </tr>\n",
       "    <tr>\n",
       "      <th>84</th>\n",
       "      <td>ENCSR139TZA</td>\n",
       "      <td>hg19</td>\n",
       "      <td>UBERON:0001134</td>\n",
       "      <td>skeletal muscle tissue</td>\n",
       "      <td>tissue</td>\n",
       "      <td>Enhancer-like regions using H3K27ac-only for S...</td>\n",
       "      <td>[mesoderm]</td>\n",
       "      <td>3</td>\n",
       "      <td>August, 2016</td>\n",
       "      <td>[muscle organ]</td>\n",
       "      <td>/organisms/human/</td>\n",
       "      <td>[musculature of body]</td>\n",
       "      <td>ENCFF144PJO.bed.gz</td>\n",
       "      <td>/Users/manuel/development/thesis/download/ENCO...</td>\n",
       "      <td>False</td>\n",
       "      <td>H3K27ac</td>\n",
       "    </tr>\n",
       "    <tr>\n",
       "      <th>90</th>\n",
       "      <td>ENCSR553GUQ</td>\n",
       "      <td>hg19</td>\n",
       "      <td>UBERON:0012488</td>\n",
       "      <td>muscle layer of duodenum</td>\n",
       "      <td>tissue</td>\n",
       "      <td>Enhancer-like regions using H3K27ac-only for D...</td>\n",
       "      <td>[]</td>\n",
       "      <td>3</td>\n",
       "      <td>August, 2016</td>\n",
       "      <td>[small intestine]</td>\n",
       "      <td>/organisms/human/</td>\n",
       "      <td>[digestive system]</td>\n",
       "      <td>ENCFF536RAQ.bed.gz</td>\n",
       "      <td>/Users/manuel/development/thesis/download/ENCO...</td>\n",
       "      <td>False</td>\n",
       "      <td>H3K27ac</td>\n",
       "    </tr>\n",
       "    <tr>\n",
       "      <th>179</th>\n",
       "      <td>ENCSR905DEO</td>\n",
       "      <td>hg19</td>\n",
       "      <td>UBERON:0002084</td>\n",
       "      <td>heart left ventricle</td>\n",
       "      <td>tissue</td>\n",
       "      <td>Enhancer-like regions using H3K27ac-only for L...</td>\n",
       "      <td>[mesoderm]</td>\n",
       "      <td>3</td>\n",
       "      <td>August, 2016</td>\n",
       "      <td>[heart]</td>\n",
       "      <td>/organisms/human/</td>\n",
       "      <td>[circulatory system]</td>\n",
       "      <td>ENCFF524SKZ.bed.gz</td>\n",
       "      <td>/Users/manuel/development/thesis/download/ENCO...</td>\n",
       "      <td>False</td>\n",
       "      <td>H3K27ac</td>\n",
       "    </tr>\n",
       "    <tr>\n",
       "      <th>190</th>\n",
       "      <td>ENCSR516DXQ</td>\n",
       "      <td>hg19</td>\n",
       "      <td>UBERON:0000945</td>\n",
       "      <td>stomach</td>\n",
       "      <td>tissue</td>\n",
       "      <td>Enhancer-like regions using H3K27ac-only for G...</td>\n",
       "      <td>[]</td>\n",
       "      <td>3</td>\n",
       "      <td>August, 2016</td>\n",
       "      <td>[stomach]</td>\n",
       "      <td>/organisms/human/</td>\n",
       "      <td>[digestive system]</td>\n",
       "      <td>ENCFF183FMS.bed.gz</td>\n",
       "      <td>/Users/manuel/development/thesis/download/ENCO...</td>\n",
       "      <td>False</td>\n",
       "      <td>H3K27ac</td>\n",
       "    </tr>\n",
       "    <tr>\n",
       "      <th>203</th>\n",
       "      <td>ENCSR838TJD</td>\n",
       "      <td>hg19</td>\n",
       "      <td>UBERON:0002370</td>\n",
       "      <td>thymus</td>\n",
       "      <td>tissue</td>\n",
       "      <td>Enhancer-like regions using H3K27ac-only for F...</td>\n",
       "      <td>[mesoderm,endoderm]</td>\n",
       "      <td>3</td>\n",
       "      <td>August, 2016</td>\n",
       "      <td>[thymus]</td>\n",
       "      <td>/organisms/human/</td>\n",
       "      <td>[endocrine system,immune system]</td>\n",
       "      <td>ENCFF416LJP.bed.gz</td>\n",
       "      <td>/Users/manuel/development/thesis/download/ENCO...</td>\n",
       "      <td>False</td>\n",
       "      <td>H3K27ac</td>\n",
       "    </tr>\n",
       "    <tr>\n",
       "      <th>205</th>\n",
       "      <td>ENCSR563QZW</td>\n",
       "      <td>hg19</td>\n",
       "      <td>UBERON:0002305</td>\n",
       "      <td>layer of hippocampus</td>\n",
       "      <td>tissue</td>\n",
       "      <td>Enhancer-like regions using H3K27ac-only for B...</td>\n",
       "      <td>[ectoderm]</td>\n",
       "      <td>3</td>\n",
       "      <td>August, 2016</td>\n",
       "      <td>[brain]</td>\n",
       "      <td>/organisms/human/</td>\n",
       "      <td>[central nervous system]</td>\n",
       "      <td>ENCFF357FRW.bed.gz</td>\n",
       "      <td>/Users/manuel/development/thesis/download/ENCO...</td>\n",
       "      <td>False</td>\n",
       "      <td>H3K27ac</td>\n",
       "    </tr>\n",
       "    <tr>\n",
       "      <th>207</th>\n",
       "      <td>ENCSR472VRB</td>\n",
       "      <td>hg19</td>\n",
       "      <td>UBERON:0006483</td>\n",
       "      <td>middle frontal area 46</td>\n",
       "      <td>tissue</td>\n",
       "      <td>Enhancer-like regions using H3K27ac-only for B...</td>\n",
       "      <td>[ectoderm]</td>\n",
       "      <td>3</td>\n",
       "      <td>August, 2016</td>\n",
       "      <td>[brain]</td>\n",
       "      <td>/organisms/human/</td>\n",
       "      <td>[central nervous system]</td>\n",
       "      <td>ENCFF021ERU.bed.gz</td>\n",
       "      <td>/Users/manuel/development/thesis/download/ENCO...</td>\n",
       "      <td>False</td>\n",
       "      <td>H3K27ac</td>\n",
       "    </tr>\n",
       "    <tr>\n",
       "      <th>217</th>\n",
       "      <td>ENCSR323VIW</td>\n",
       "      <td>hg19</td>\n",
       "      <td>UBERON:0001774</td>\n",
       "      <td>muscle of trunk</td>\n",
       "      <td>tissue</td>\n",
       "      <td>Enhancer-like regions using H3K27ac-only for F...</td>\n",
       "      <td>[]</td>\n",
       "      <td>3</td>\n",
       "      <td>August, 2016</td>\n",
       "      <td>[muscle organ]</td>\n",
       "      <td>/organisms/human/</td>\n",
       "      <td>[musculature of body]</td>\n",
       "      <td>ENCFF663YMC.bed.gz</td>\n",
       "      <td>/Users/manuel/development/thesis/download/ENCO...</td>\n",
       "      <td>False</td>\n",
       "      <td>H3K27ac</td>\n",
       "    </tr>\n",
       "    <tr>\n",
       "      <th>228</th>\n",
       "      <td>ENCSR928FIJ</td>\n",
       "      <td>hg19</td>\n",
       "      <td>UBERON:0002967</td>\n",
       "      <td>cingulate gyrus</td>\n",
       "      <td>tissue</td>\n",
       "      <td>Enhancer-like regions using H3K27ac-only for B...</td>\n",
       "      <td>[ectoderm]</td>\n",
       "      <td>3</td>\n",
       "      <td>August, 2016</td>\n",
       "      <td>[brain]</td>\n",
       "      <td>/organisms/human/</td>\n",
       "      <td>[central nervous system]</td>\n",
       "      <td>ENCFF518VHQ.bed.gz</td>\n",
       "      <td>/Users/manuel/development/thesis/download/ENCO...</td>\n",
       "      <td>False</td>\n",
       "      <td>H3K27ac</td>\n",
       "    </tr>\n",
       "    <tr>\n",
       "      <th>264</th>\n",
       "      <td>ENCSR532LFN</td>\n",
       "      <td>hg19</td>\n",
       "      <td>UBERON:0002038</td>\n",
       "      <td>substantia nigra</td>\n",
       "      <td>tissue</td>\n",
       "      <td>Enhancer-like regions using H3K27ac-only for B...</td>\n",
       "      <td>[ectoderm]</td>\n",
       "      <td>3</td>\n",
       "      <td>August, 2016</td>\n",
       "      <td>[brain]</td>\n",
       "      <td>/organisms/human/</td>\n",
       "      <td>[central nervous system]</td>\n",
       "      <td>ENCFF084LBA.bed.gz</td>\n",
       "      <td>/Users/manuel/development/thesis/download/ENCO...</td>\n",
       "      <td>False</td>\n",
       "      <td>H3K27ac</td>\n",
       "    </tr>\n",
       "    <tr>\n",
       "      <th>288</th>\n",
       "      <td>ENCSR226GOY</td>\n",
       "      <td>hg19</td>\n",
       "      <td>UBERON:0002369</td>\n",
       "      <td>adrenal gland</td>\n",
       "      <td>tissue</td>\n",
       "      <td>Enhancer-like regions using H3K27ac-only for F...</td>\n",
       "      <td>[mesoderm,ectoderm]</td>\n",
       "      <td>3</td>\n",
       "      <td>August, 2016</td>\n",
       "      <td>[adrenal gland]</td>\n",
       "      <td>/organisms/human/</td>\n",
       "      <td>[endocrine system]</td>\n",
       "      <td>ENCFF953YED.bed.gz</td>\n",
       "      <td>/Users/manuel/development/thesis/download/ENCO...</td>\n",
       "      <td>False</td>\n",
       "      <td>H3K27ac</td>\n",
       "    </tr>\n",
       "    <tr>\n",
       "      <th>295</th>\n",
       "      <td>ENCSR461NUJ</td>\n",
       "      <td>hg19</td>\n",
       "      <td>UBERON:0002080</td>\n",
       "      <td>heart right ventricle</td>\n",
       "      <td>tissue</td>\n",
       "      <td>Enhancer-like regions using H3K27ac-only for R...</td>\n",
       "      <td>[mesoderm]</td>\n",
       "      <td>3</td>\n",
       "      <td>August, 2016</td>\n",
       "      <td>[heart]</td>\n",
       "      <td>/organisms/human/</td>\n",
       "      <td>[circulatory system]</td>\n",
       "      <td>ENCFF809ZVL.bed.gz</td>\n",
       "      <td>/Users/manuel/development/thesis/download/ENCO...</td>\n",
       "      <td>False</td>\n",
       "      <td>H3K27ac</td>\n",
       "    </tr>\n",
       "    <tr>\n",
       "      <th>296</th>\n",
       "      <td>ENCSR524ZWK</td>\n",
       "      <td>hg19</td>\n",
       "      <td>UBERON:0002108</td>\n",
       "      <td>small intestine</td>\n",
       "      <td>tissue</td>\n",
       "      <td>Enhancer-like regions using H3K27ac-only for S...</td>\n",
       "      <td>[]</td>\n",
       "      <td>3</td>\n",
       "      <td>August, 2016</td>\n",
       "      <td>[small intestine]</td>\n",
       "      <td>/organisms/human/</td>\n",
       "      <td>[digestive system]</td>\n",
       "      <td>ENCFF457HLD.bed.gz</td>\n",
       "      <td>/Users/manuel/development/thesis/download/ENCO...</td>\n",
       "      <td>False</td>\n",
       "      <td>H3K27ac</td>\n",
       "    </tr>\n",
       "    <tr>\n",
       "      <th>310</th>\n",
       "      <td>ENCSR675KDE</td>\n",
       "      <td>hg19</td>\n",
       "      <td>UBERON:0003346</td>\n",
       "      <td>mucosa of rectum</td>\n",
       "      <td>tissue</td>\n",
       "      <td>Enhancer-like regions using H3K27ac-only for R...</td>\n",
       "      <td>[]</td>\n",
       "      <td>3</td>\n",
       "      <td>August, 2016</td>\n",
       "      <td>[large intestine]</td>\n",
       "      <td>/organisms/human/</td>\n",
       "      <td>[digestive system]</td>\n",
       "      <td>ENCFF043YPD.bed.gz</td>\n",
       "      <td>/Users/manuel/development/thesis/download/ENCO...</td>\n",
       "      <td>False</td>\n",
       "      <td>H3K27ac</td>\n",
       "    </tr>\n",
       "    <tr>\n",
       "      <th>311</th>\n",
       "      <td>ENCSR663PUF</td>\n",
       "      <td>hg19</td>\n",
       "      <td>UBERON:0001871</td>\n",
       "      <td>temporal lobe</td>\n",
       "      <td>tissue</td>\n",
       "      <td>Enhancer-like regions using H3K27ac-only for B...</td>\n",
       "      <td>[ectoderm]</td>\n",
       "      <td>3</td>\n",
       "      <td>August, 2016</td>\n",
       "      <td>[]</td>\n",
       "      <td>/organisms/human/</td>\n",
       "      <td>[]</td>\n",
       "      <td>ENCFF232DYU.bed.gz</td>\n",
       "      <td>/Users/manuel/development/thesis/download/ENCO...</td>\n",
       "      <td>False</td>\n",
       "      <td>H3K27ac</td>\n",
       "    </tr>\n",
       "    <tr>\n",
       "      <th>312</th>\n",
       "      <td>ENCSR321SQX</td>\n",
       "      <td>hg19</td>\n",
       "      <td>UBERON:0000016</td>\n",
       "      <td>endocrine pancreas</td>\n",
       "      <td>tissue</td>\n",
       "      <td>Enhancer-like regions using H3K27ac-only for P...</td>\n",
       "      <td>[endoderm]</td>\n",
       "      <td>3</td>\n",
       "      <td>August, 2016</td>\n",
       "      <td>[pancreas]</td>\n",
       "      <td>/organisms/human/</td>\n",
       "      <td>[endocrine system]</td>\n",
       "      <td>ENCFF659FON.bed.gz</td>\n",
       "      <td>/Users/manuel/development/thesis/download/ENCO...</td>\n",
       "      <td>False</td>\n",
       "      <td>H3K27ac</td>\n",
       "    </tr>\n",
       "    <tr>\n",
       "      <th>324</th>\n",
       "      <td>ENCSR988SZL</td>\n",
       "      <td>hg19</td>\n",
       "      <td>UBERON:0001873</td>\n",
       "      <td>caudate nucleus</td>\n",
       "      <td>tissue</td>\n",
       "      <td>Enhancer-like regions using H3K27ac-only for B...</td>\n",
       "      <td>[ectoderm]</td>\n",
       "      <td>3</td>\n",
       "      <td>August, 2016</td>\n",
       "      <td>[brain]</td>\n",
       "      <td>/organisms/human/</td>\n",
       "      <td>[central nervous system]</td>\n",
       "      <td>ENCFF940MJZ.bed.gz</td>\n",
       "      <td>/Users/manuel/development/thesis/download/ENCO...</td>\n",
       "      <td>False</td>\n",
       "      <td>H3K27ac</td>\n",
       "    </tr>\n",
       "    <tr>\n",
       "      <th>326</th>\n",
       "      <td>ENCSR495NZD</td>\n",
       "      <td>hg19</td>\n",
       "      <td>UBERON:0002107</td>\n",
       "      <td>liver</td>\n",
       "      <td>tissue</td>\n",
       "      <td>Enhancer-like regions using H3K27ac-only for L...</td>\n",
       "      <td>[endoderm]</td>\n",
       "      <td>3</td>\n",
       "      <td>August, 2016</td>\n",
       "      <td>[liver]</td>\n",
       "      <td>/organisms/human/</td>\n",
       "      <td>[digestive system,endocrine system]</td>\n",
       "      <td>ENCFF856JWA.bed.gz</td>\n",
       "      <td>/Users/manuel/development/thesis/download/ENCO...</td>\n",
       "      <td>False</td>\n",
       "      <td>H3K27ac</td>\n",
       "    </tr>\n",
       "    <tr>\n",
       "      <th>334</th>\n",
       "      <td>ENCSR456SQX</td>\n",
       "      <td>hg19</td>\n",
       "      <td>UBERON:0002048</td>\n",
       "      <td>lung</td>\n",
       "      <td>tissue</td>\n",
       "      <td>Enhancer-like regions using H3K27ac-only for L...</td>\n",
       "      <td>[endoderm]</td>\n",
       "      <td>3</td>\n",
       "      <td>August, 2016</td>\n",
       "      <td>[lung]</td>\n",
       "      <td>/organisms/human/</td>\n",
       "      <td>[respiratory system]</td>\n",
       "      <td>ENCFF059PMT.bed.gz</td>\n",
       "      <td>/Users/manuel/development/thesis/download/ENCO...</td>\n",
       "      <td>False</td>\n",
       "      <td>H3K27ac</td>\n",
       "    </tr>\n",
       "    <tr>\n",
       "      <th>350</th>\n",
       "      <td>ENCSR283KTT</td>\n",
       "      <td>hg19</td>\n",
       "      <td>UBERON:0002686</td>\n",
       "      <td>angular gyrus</td>\n",
       "      <td>tissue</td>\n",
       "      <td>Enhancer-like regions using H3K27ac-only for B...</td>\n",
       "      <td>[ectoderm]</td>\n",
       "      <td>3</td>\n",
       "      <td>August, 2016</td>\n",
       "      <td>[]</td>\n",
       "      <td>/organisms/human/</td>\n",
       "      <td>[]</td>\n",
       "      <td>ENCFF621WVX.bed.gz</td>\n",
       "      <td>/Users/manuel/development/thesis/download/ENCO...</td>\n",
       "      <td>False</td>\n",
       "      <td>H3K27ac</td>\n",
       "    </tr>\n",
       "    <tr>\n",
       "      <th>353</th>\n",
       "      <td>ENCSR185UEW</td>\n",
       "      <td>hg19</td>\n",
       "      <td>UBERON:0012489</td>\n",
       "      <td>muscle layer of colon</td>\n",
       "      <td>tissue</td>\n",
       "      <td>Enhancer-like regions using H3K27ac-only for C...</td>\n",
       "      <td>[]</td>\n",
       "      <td>3</td>\n",
       "      <td>August, 2016</td>\n",
       "      <td>[large intestine]</td>\n",
       "      <td>/organisms/human/</td>\n",
       "      <td>[digestive system]</td>\n",
       "      <td>ENCFF004UKU.bed.gz</td>\n",
       "      <td>/Users/manuel/development/thesis/download/ENCO...</td>\n",
       "      <td>False</td>\n",
       "      <td>H3K27ac</td>\n",
       "    </tr>\n",
       "    <tr>\n",
       "      <th>354</th>\n",
       "      <td>ENCSR309SLW</td>\n",
       "      <td>hg19</td>\n",
       "      <td>UBERON:0001159</td>\n",
       "      <td>sigmoid colon</td>\n",
       "      <td>tissue</td>\n",
       "      <td>Enhancer-like regions using H3K27ac-only for S...</td>\n",
       "      <td>[]</td>\n",
       "      <td>3</td>\n",
       "      <td>August, 2016</td>\n",
       "      <td>[large intestine]</td>\n",
       "      <td>/organisms/human/</td>\n",
       "      <td>[digestive system]</td>\n",
       "      <td>ENCFF741KDK.bed.gz</td>\n",
       "      <td>/Users/manuel/development/thesis/download/ENCO...</td>\n",
       "      <td>False</td>\n",
       "      <td>H3K27ac</td>\n",
       "    </tr>\n",
       "    <tr>\n",
       "      <th>355</th>\n",
       "      <td>ENCSR948LYC</td>\n",
       "      <td>hg19</td>\n",
       "      <td>UBERON:0000059</td>\n",
       "      <td>large intestine</td>\n",
       "      <td>tissue</td>\n",
       "      <td>Enhancer-like regions using H3K27ac-only for F...</td>\n",
       "      <td>[]</td>\n",
       "      <td>3</td>\n",
       "      <td>August, 2016</td>\n",
       "      <td>[large intestine]</td>\n",
       "      <td>/organisms/human/</td>\n",
       "      <td>[digestive system]</td>\n",
       "      <td>ENCFF937LPQ.bed.gz</td>\n",
       "      <td>/Users/manuel/development/thesis/download/ENCO...</td>\n",
       "      <td>False</td>\n",
       "      <td>H3K27ac</td>\n",
       "    </tr>\n",
       "    <tr>\n",
       "      <th>356</th>\n",
       "      <td>ENCSR742LUW</td>\n",
       "      <td>hg19</td>\n",
       "      <td>UBERON:0000317</td>\n",
       "      <td>colonic mucosa</td>\n",
       "      <td>tissue</td>\n",
       "      <td>Enhancer-like regions using H3K27ac-only for C...</td>\n",
       "      <td>[]</td>\n",
       "      <td>3</td>\n",
       "      <td>August, 2016</td>\n",
       "      <td>[large intestine]</td>\n",
       "      <td>/organisms/human/</td>\n",
       "      <td>[digestive system]</td>\n",
       "      <td>ENCFF519JQV.bed.gz</td>\n",
       "      <td>/Users/manuel/development/thesis/download/ENCO...</td>\n",
       "      <td>False</td>\n",
       "      <td>H3K27ac</td>\n",
       "    </tr>\n",
       "    <tr>\n",
       "      <th>357</th>\n",
       "      <td>ENCSR966FWS</td>\n",
       "      <td>hg19</td>\n",
       "      <td>UBERON:0003346</td>\n",
       "      <td>mucosa of rectum</td>\n",
       "      <td>tissue</td>\n",
       "      <td>Enhancer-like regions using H3K27ac-only for R...</td>\n",
       "      <td>[]</td>\n",
       "      <td>3</td>\n",
       "      <td>August, 2016</td>\n",
       "      <td>[large intestine]</td>\n",
       "      <td>/organisms/human/</td>\n",
       "      <td>[digestive system]</td>\n",
       "      <td>ENCFF033LLU.bed.gz</td>\n",
       "      <td>/Users/manuel/development/thesis/download/ENCO...</td>\n",
       "      <td>False</td>\n",
       "      <td>H3K27ac</td>\n",
       "    </tr>\n",
       "    <tr>\n",
       "      <th>358</th>\n",
       "      <td>ENCSR506NYE</td>\n",
       "      <td>hg19</td>\n",
       "      <td>UBERON:0001987</td>\n",
       "      <td>placenta</td>\n",
       "      <td>tissue</td>\n",
       "      <td>Enhancer-like regions using H3K27ac-only for P...</td>\n",
       "      <td>[mesoderm]</td>\n",
       "      <td>3</td>\n",
       "      <td>August, 2016</td>\n",
       "      <td>[placenta,extraembryonic structure]</td>\n",
       "      <td>/organisms/human/</td>\n",
       "      <td>[reproductive system]</td>\n",
       "      <td>ENCFF416DSN.bed.gz</td>\n",
       "      <td>/Users/manuel/development/thesis/download/ENCO...</td>\n",
       "      <td>False</td>\n",
       "      <td>H3K27ac</td>\n",
       "    </tr>\n",
       "    <tr>\n",
       "      <th>360</th>\n",
       "      <td>ENCSR315APY</td>\n",
       "      <td>hg19</td>\n",
       "      <td>UBERON:0000992</td>\n",
       "      <td>female gonad</td>\n",
       "      <td>tissue</td>\n",
       "      <td>Enhancer-like regions using H3K27ac-only for O...</td>\n",
       "      <td>[mesoderm]</td>\n",
       "      <td>3</td>\n",
       "      <td>August, 2016</td>\n",
       "      <td>[gonad]</td>\n",
       "      <td>/organisms/human/</td>\n",
       "      <td>[reproductive system]</td>\n",
       "      <td>ENCFF135MKW.bed.gz</td>\n",
       "      <td>/Users/manuel/development/thesis/download/ENCO...</td>\n",
       "      <td>False</td>\n",
       "      <td>H3K27ac</td>\n",
       "    </tr>\n",
       "    <tr>\n",
       "      <th>366</th>\n",
       "      <td>ENCSR991MSJ</td>\n",
       "      <td>hg19</td>\n",
       "      <td>UBERON:0000947</td>\n",
       "      <td>aorta</td>\n",
       "      <td>tissue</td>\n",
       "      <td>Enhancer-like regions using H3K27ac-only for A...</td>\n",
       "      <td>[mesoderm]</td>\n",
       "      <td>3</td>\n",
       "      <td>August, 2016</td>\n",
       "      <td>[blood vessel]</td>\n",
       "      <td>/organisms/human/</td>\n",
       "      <td>[circulatory system]</td>\n",
       "      <td>ENCFF455LVK.bed.gz</td>\n",
       "      <td>/Users/manuel/development/thesis/download/ENCO...</td>\n",
       "      <td>False</td>\n",
       "      <td>H3K27ac</td>\n",
       "    </tr>\n",
       "    <tr>\n",
       "      <th>369</th>\n",
       "      <td>ENCSR160TGJ</td>\n",
       "      <td>hg19</td>\n",
       "      <td>UBERON:0002370</td>\n",
       "      <td>thymus</td>\n",
       "      <td>tissue</td>\n",
       "      <td>Enhancer-like regions using H3K27ac-only for T...</td>\n",
       "      <td>[mesoderm,endoderm]</td>\n",
       "      <td>3</td>\n",
       "      <td>August, 2016</td>\n",
       "      <td>[thymus]</td>\n",
       "      <td>/organisms/human/</td>\n",
       "      <td>[endocrine system,immune system]</td>\n",
       "      <td>ENCFF381ATD.bed.gz</td>\n",
       "      <td>/Users/manuel/development/thesis/download/ENCO...</td>\n",
       "      <td>False</td>\n",
       "      <td>H3K27ac</td>\n",
       "    </tr>\n",
       "    <tr>\n",
       "      <th>370</th>\n",
       "      <td>ENCSR353KLT</td>\n",
       "      <td>hg19</td>\n",
       "      <td>UBERON:0002106</td>\n",
       "      <td>spleen</td>\n",
       "      <td>tissue</td>\n",
       "      <td>Enhancer-like regions using H3K27ac-only for S...</td>\n",
       "      <td>[mesoderm]</td>\n",
       "      <td>3</td>\n",
       "      <td>August, 2016</td>\n",
       "      <td>[spleen]</td>\n",
       "      <td>/organisms/human/</td>\n",
       "      <td>[digestive system,immune system]</td>\n",
       "      <td>ENCFF443MVM.bed.gz</td>\n",
       "      <td>/Users/manuel/development/thesis/download/ENCO...</td>\n",
       "      <td>False</td>\n",
       "      <td>H3K27ac</td>\n",
       "    </tr>\n",
       "    <tr>\n",
       "      <th>393</th>\n",
       "      <td>ENCSR377TKR</td>\n",
       "      <td>hg19</td>\n",
       "      <td>UBERON:0008450</td>\n",
       "      <td>psoas muscle</td>\n",
       "      <td>tissue</td>\n",
       "      <td>Enhancer-like regions using H3K27ac-only for P...</td>\n",
       "      <td>[]</td>\n",
       "      <td>3</td>\n",
       "      <td>August, 2016</td>\n",
       "      <td>[muscle organ]</td>\n",
       "      <td>/organisms/human/</td>\n",
       "      <td>[musculature of body]</td>\n",
       "      <td>ENCFF602NDV.bed.gz</td>\n",
       "      <td>/Users/manuel/development/thesis/download/ENCO...</td>\n",
       "      <td>False</td>\n",
       "      <td>H3K27ac</td>\n",
       "    </tr>\n",
       "    <tr>\n",
       "      <th>394</th>\n",
       "      <td>ENCSR489LLF</td>\n",
       "      <td>hg19</td>\n",
       "      <td>UBERON:0018112</td>\n",
       "      <td>rectal smooth muscle tissue</td>\n",
       "      <td>tissue</td>\n",
       "      <td>Enhancer-like regions using H3K27ac-only for R...</td>\n",
       "      <td>[mesoderm]</td>\n",
       "      <td>3</td>\n",
       "      <td>August, 2016</td>\n",
       "      <td>[large intestine]</td>\n",
       "      <td>/organisms/human/</td>\n",
       "      <td>[musculature of body,digestive system]</td>\n",
       "      <td>ENCFF528FFC.bed.gz</td>\n",
       "      <td>/Users/manuel/development/thesis/download/ENCO...</td>\n",
       "      <td>False</td>\n",
       "      <td>H3K27ac</td>\n",
       "    </tr>\n",
       "    <tr>\n",
       "      <th>397</th>\n",
       "      <td>ENCSR334RQX</td>\n",
       "      <td>hg19</td>\n",
       "      <td>UBERON:0004222</td>\n",
       "      <td>stomach smooth muscle</td>\n",
       "      <td>tissue</td>\n",
       "      <td>Enhancer-like regions using H3K27ac-only for S...</td>\n",
       "      <td>[mesoderm]</td>\n",
       "      <td>3</td>\n",
       "      <td>August, 2016</td>\n",
       "      <td>[stomach]</td>\n",
       "      <td>/organisms/human/</td>\n",
       "      <td>[musculature of body,digestive system]</td>\n",
       "      <td>ENCFF642HKH.bed.gz</td>\n",
       "      <td>/Users/manuel/development/thesis/download/ENCO...</td>\n",
       "      <td>False</td>\n",
       "      <td>H3K27ac</td>\n",
       "    </tr>\n",
       "    <tr>\n",
       "      <th>406</th>\n",
       "      <td>ENCSR789AJR</td>\n",
       "      <td>hg19</td>\n",
       "      <td>UBERON:0002078</td>\n",
       "      <td>right cardiac atrium</td>\n",
       "      <td>tissue</td>\n",
       "      <td>Enhancer-like regions using H3K27ac-only for R...</td>\n",
       "      <td>[mesoderm]</td>\n",
       "      <td>3</td>\n",
       "      <td>August, 2016</td>\n",
       "      <td>[heart]</td>\n",
       "      <td>/organisms/human/</td>\n",
       "      <td>[circulatory system]</td>\n",
       "      <td>ENCFF798VKK.bed.gz</td>\n",
       "      <td>/Users/manuel/development/thesis/download/ENCO...</td>\n",
       "      <td>False</td>\n",
       "      <td>H3K27ac</td>\n",
       "    </tr>\n",
       "    <tr>\n",
       "      <th>407</th>\n",
       "      <td>ENCSR129PIU</td>\n",
       "      <td>hg19</td>\n",
       "      <td>UBERON:0001383</td>\n",
       "      <td>muscle of leg</td>\n",
       "      <td>tissue</td>\n",
       "      <td>Enhancer-like regions using H3K27ac-only for F...</td>\n",
       "      <td>[]</td>\n",
       "      <td>3</td>\n",
       "      <td>August, 2016</td>\n",
       "      <td>[muscle organ]</td>\n",
       "      <td>/organisms/human/</td>\n",
       "      <td>[musculature of body]</td>\n",
       "      <td>ENCFF920NZB.bed.gz</td>\n",
       "      <td>/Users/manuel/development/thesis/download/ENCO...</td>\n",
       "      <td>False</td>\n",
       "      <td>H3K27ac</td>\n",
       "    </tr>\n",
       "    <tr>\n",
       "      <th>412</th>\n",
       "      <td>ENCSR730UKA</td>\n",
       "      <td>hg19</td>\n",
       "      <td>UBERON:0002108</td>\n",
       "      <td>small intestine</td>\n",
       "      <td>tissue</td>\n",
       "      <td>Enhancer-like regions using H3K27ac-only for F...</td>\n",
       "      <td>[]</td>\n",
       "      <td>3</td>\n",
       "      <td>August, 2016</td>\n",
       "      <td>[small intestine]</td>\n",
       "      <td>/organisms/human/</td>\n",
       "      <td>[digestive system]</td>\n",
       "      <td>ENCFF138BOV.bed.gz</td>\n",
       "      <td>/Users/manuel/development/thesis/download/ENCO...</td>\n",
       "      <td>False</td>\n",
       "      <td>H3K27ac</td>\n",
       "    </tr>\n",
       "    <tr>\n",
       "      <th>426</th>\n",
       "      <td>ENCSR209EQB</td>\n",
       "      <td>hg19</td>\n",
       "      <td>UBERON:0000945</td>\n",
       "      <td>stomach</td>\n",
       "      <td>tissue</td>\n",
       "      <td>Enhancer-like regions using H3K27ac-only for F...</td>\n",
       "      <td>[]</td>\n",
       "      <td>3</td>\n",
       "      <td>August, 2016</td>\n",
       "      <td>[stomach]</td>\n",
       "      <td>/organisms/human/</td>\n",
       "      <td>[digestive system]</td>\n",
       "      <td>ENCFF892DRC.bed.gz</td>\n",
       "      <td>/Users/manuel/development/thesis/download/ENCO...</td>\n",
       "      <td>False</td>\n",
       "      <td>H3K27ac</td>\n",
       "    </tr>\n",
       "    <tr>\n",
       "      <th>427</th>\n",
       "      <td>ENCSR807AHZ</td>\n",
       "      <td>hg19</td>\n",
       "      <td>UBERON:0001043</td>\n",
       "      <td>esophagus</td>\n",
       "      <td>tissue</td>\n",
       "      <td>Enhancer-like regions using H3K27ac-only for E...</td>\n",
       "      <td>[]</td>\n",
       "      <td>3</td>\n",
       "      <td>August, 2016</td>\n",
       "      <td>[esophagus]</td>\n",
       "      <td>/organisms/human/</td>\n",
       "      <td>[digestive system]</td>\n",
       "      <td>ENCFF446JOJ.bed.gz</td>\n",
       "      <td>/Users/manuel/development/thesis/download/ENCO...</td>\n",
       "      <td>False</td>\n",
       "      <td>H3K27ac</td>\n",
       "    </tr>\n",
       "  </tbody>\n",
       "</table>\n",
       "</div>"
      ],
      "text/plain": [
       "       accession assembly biosample_term_id          biosample_term_name  \\\n",
       "41   ENCSR821QGA     hg19    UBERON:0000305                       amnion   \n",
       "84   ENCSR139TZA     hg19    UBERON:0001134       skeletal muscle tissue   \n",
       "90   ENCSR553GUQ     hg19    UBERON:0012488     muscle layer of duodenum   \n",
       "179  ENCSR905DEO     hg19    UBERON:0002084         heart left ventricle   \n",
       "190  ENCSR516DXQ     hg19    UBERON:0000945                      stomach   \n",
       "203  ENCSR838TJD     hg19    UBERON:0002370                       thymus   \n",
       "205  ENCSR563QZW     hg19    UBERON:0002305         layer of hippocampus   \n",
       "207  ENCSR472VRB     hg19    UBERON:0006483       middle frontal area 46   \n",
       "217  ENCSR323VIW     hg19    UBERON:0001774              muscle of trunk   \n",
       "228  ENCSR928FIJ     hg19    UBERON:0002967              cingulate gyrus   \n",
       "264  ENCSR532LFN     hg19    UBERON:0002038             substantia nigra   \n",
       "288  ENCSR226GOY     hg19    UBERON:0002369                adrenal gland   \n",
       "295  ENCSR461NUJ     hg19    UBERON:0002080        heart right ventricle   \n",
       "296  ENCSR524ZWK     hg19    UBERON:0002108              small intestine   \n",
       "310  ENCSR675KDE     hg19    UBERON:0003346             mucosa of rectum   \n",
       "311  ENCSR663PUF     hg19    UBERON:0001871                temporal lobe   \n",
       "312  ENCSR321SQX     hg19    UBERON:0000016           endocrine pancreas   \n",
       "324  ENCSR988SZL     hg19    UBERON:0001873              caudate nucleus   \n",
       "326  ENCSR495NZD     hg19    UBERON:0002107                        liver   \n",
       "334  ENCSR456SQX     hg19    UBERON:0002048                         lung   \n",
       "350  ENCSR283KTT     hg19    UBERON:0002686                angular gyrus   \n",
       "353  ENCSR185UEW     hg19    UBERON:0012489        muscle layer of colon   \n",
       "354  ENCSR309SLW     hg19    UBERON:0001159                sigmoid colon   \n",
       "355  ENCSR948LYC     hg19    UBERON:0000059              large intestine   \n",
       "356  ENCSR742LUW     hg19    UBERON:0000317               colonic mucosa   \n",
       "357  ENCSR966FWS     hg19    UBERON:0003346             mucosa of rectum   \n",
       "358  ENCSR506NYE     hg19    UBERON:0001987                     placenta   \n",
       "360  ENCSR315APY     hg19    UBERON:0000992                 female gonad   \n",
       "366  ENCSR991MSJ     hg19    UBERON:0000947                        aorta   \n",
       "369  ENCSR160TGJ     hg19    UBERON:0002370                       thymus   \n",
       "370  ENCSR353KLT     hg19    UBERON:0002106                       spleen   \n",
       "393  ENCSR377TKR     hg19    UBERON:0008450                 psoas muscle   \n",
       "394  ENCSR489LLF     hg19    UBERON:0018112  rectal smooth muscle tissue   \n",
       "397  ENCSR334RQX     hg19    UBERON:0004222        stomach smooth muscle   \n",
       "406  ENCSR789AJR     hg19    UBERON:0002078         right cardiac atrium   \n",
       "407  ENCSR129PIU     hg19    UBERON:0001383                muscle of leg   \n",
       "412  ENCSR730UKA     hg19    UBERON:0002108              small intestine   \n",
       "426  ENCSR209EQB     hg19    UBERON:0000945                      stomach   \n",
       "427  ENCSR807AHZ     hg19    UBERON:0001043                    esophagus   \n",
       "\n",
       "    biosample_type                                        description  \\\n",
       "41          tissue  Enhancer-like regions using H3K27ac-only for P...   \n",
       "84          tissue  Enhancer-like regions using H3K27ac-only for S...   \n",
       "90          tissue  Enhancer-like regions using H3K27ac-only for D...   \n",
       "179         tissue  Enhancer-like regions using H3K27ac-only for L...   \n",
       "190         tissue  Enhancer-like regions using H3K27ac-only for G...   \n",
       "203         tissue  Enhancer-like regions using H3K27ac-only for F...   \n",
       "205         tissue  Enhancer-like regions using H3K27ac-only for B...   \n",
       "207         tissue  Enhancer-like regions using H3K27ac-only for B...   \n",
       "217         tissue  Enhancer-like regions using H3K27ac-only for F...   \n",
       "228         tissue  Enhancer-like regions using H3K27ac-only for B...   \n",
       "264         tissue  Enhancer-like regions using H3K27ac-only for B...   \n",
       "288         tissue  Enhancer-like regions using H3K27ac-only for F...   \n",
       "295         tissue  Enhancer-like regions using H3K27ac-only for R...   \n",
       "296         tissue  Enhancer-like regions using H3K27ac-only for S...   \n",
       "310         tissue  Enhancer-like regions using H3K27ac-only for R...   \n",
       "311         tissue  Enhancer-like regions using H3K27ac-only for B...   \n",
       "312         tissue  Enhancer-like regions using H3K27ac-only for P...   \n",
       "324         tissue  Enhancer-like regions using H3K27ac-only for B...   \n",
       "326         tissue  Enhancer-like regions using H3K27ac-only for L...   \n",
       "334         tissue  Enhancer-like regions using H3K27ac-only for L...   \n",
       "350         tissue  Enhancer-like regions using H3K27ac-only for B...   \n",
       "353         tissue  Enhancer-like regions using H3K27ac-only for C...   \n",
       "354         tissue  Enhancer-like regions using H3K27ac-only for S...   \n",
       "355         tissue  Enhancer-like regions using H3K27ac-only for F...   \n",
       "356         tissue  Enhancer-like regions using H3K27ac-only for C...   \n",
       "357         tissue  Enhancer-like regions using H3K27ac-only for R...   \n",
       "358         tissue  Enhancer-like regions using H3K27ac-only for P...   \n",
       "360         tissue  Enhancer-like regions using H3K27ac-only for O...   \n",
       "366         tissue  Enhancer-like regions using H3K27ac-only for A...   \n",
       "369         tissue  Enhancer-like regions using H3K27ac-only for T...   \n",
       "370         tissue  Enhancer-like regions using H3K27ac-only for S...   \n",
       "393         tissue  Enhancer-like regions using H3K27ac-only for P...   \n",
       "394         tissue  Enhancer-like regions using H3K27ac-only for R...   \n",
       "397         tissue  Enhancer-like regions using H3K27ac-only for S...   \n",
       "406         tissue  Enhancer-like regions using H3K27ac-only for R...   \n",
       "407         tissue  Enhancer-like regions using H3K27ac-only for F...   \n",
       "412         tissue  Enhancer-like regions using H3K27ac-only for F...   \n",
       "426         tissue  Enhancer-like regions using H3K27ac-only for F...   \n",
       "427         tissue  Enhancer-like regions using H3K27ac-only for E...   \n",
       "\n",
       "     developmental_slims encyclopedia_version month_released  \\\n",
       "41            [mesoderm]                    3   August, 2016   \n",
       "84            [mesoderm]                    3   August, 2016   \n",
       "90                    []                    3   August, 2016   \n",
       "179           [mesoderm]                    3   August, 2016   \n",
       "190                   []                    3   August, 2016   \n",
       "203  [mesoderm,endoderm]                    3   August, 2016   \n",
       "205           [ectoderm]                    3   August, 2016   \n",
       "207           [ectoderm]                    3   August, 2016   \n",
       "217                   []                    3   August, 2016   \n",
       "228           [ectoderm]                    3   August, 2016   \n",
       "264           [ectoderm]                    3   August, 2016   \n",
       "288  [mesoderm,ectoderm]                    3   August, 2016   \n",
       "295           [mesoderm]                    3   August, 2016   \n",
       "296                   []                    3   August, 2016   \n",
       "310                   []                    3   August, 2016   \n",
       "311           [ectoderm]                    3   August, 2016   \n",
       "312           [endoderm]                    3   August, 2016   \n",
       "324           [ectoderm]                    3   August, 2016   \n",
       "326           [endoderm]                    3   August, 2016   \n",
       "334           [endoderm]                    3   August, 2016   \n",
       "350           [ectoderm]                    3   August, 2016   \n",
       "353                   []                    3   August, 2016   \n",
       "354                   []                    3   August, 2016   \n",
       "355                   []                    3   August, 2016   \n",
       "356                   []                    3   August, 2016   \n",
       "357                   []                    3   August, 2016   \n",
       "358           [mesoderm]                    3   August, 2016   \n",
       "360           [mesoderm]                    3   August, 2016   \n",
       "366           [mesoderm]                    3   August, 2016   \n",
       "369  [mesoderm,endoderm]                    3   August, 2016   \n",
       "370           [mesoderm]                    3   August, 2016   \n",
       "393                   []                    3   August, 2016   \n",
       "394           [mesoderm]                    3   August, 2016   \n",
       "397           [mesoderm]                    3   August, 2016   \n",
       "406           [mesoderm]                    3   August, 2016   \n",
       "407                   []                    3   August, 2016   \n",
       "412                   []                    3   August, 2016   \n",
       "426                   []                    3   August, 2016   \n",
       "427                   []                    3   August, 2016   \n",
       "\n",
       "                             organ_slims           organism  \\\n",
       "41            [extraembryonic structure]  /organisms/human/   \n",
       "84                        [muscle organ]  /organisms/human/   \n",
       "90                     [small intestine]  /organisms/human/   \n",
       "179                              [heart]  /organisms/human/   \n",
       "190                            [stomach]  /organisms/human/   \n",
       "203                             [thymus]  /organisms/human/   \n",
       "205                              [brain]  /organisms/human/   \n",
       "207                              [brain]  /organisms/human/   \n",
       "217                       [muscle organ]  /organisms/human/   \n",
       "228                              [brain]  /organisms/human/   \n",
       "264                              [brain]  /organisms/human/   \n",
       "288                      [adrenal gland]  /organisms/human/   \n",
       "295                              [heart]  /organisms/human/   \n",
       "296                    [small intestine]  /organisms/human/   \n",
       "310                    [large intestine]  /organisms/human/   \n",
       "311                                   []  /organisms/human/   \n",
       "312                           [pancreas]  /organisms/human/   \n",
       "324                              [brain]  /organisms/human/   \n",
       "326                              [liver]  /organisms/human/   \n",
       "334                               [lung]  /organisms/human/   \n",
       "350                                   []  /organisms/human/   \n",
       "353                    [large intestine]  /organisms/human/   \n",
       "354                    [large intestine]  /organisms/human/   \n",
       "355                    [large intestine]  /organisms/human/   \n",
       "356                    [large intestine]  /organisms/human/   \n",
       "357                    [large intestine]  /organisms/human/   \n",
       "358  [placenta,extraembryonic structure]  /organisms/human/   \n",
       "360                              [gonad]  /organisms/human/   \n",
       "366                       [blood vessel]  /organisms/human/   \n",
       "369                             [thymus]  /organisms/human/   \n",
       "370                             [spleen]  /organisms/human/   \n",
       "393                       [muscle organ]  /organisms/human/   \n",
       "394                    [large intestine]  /organisms/human/   \n",
       "397                            [stomach]  /organisms/human/   \n",
       "406                              [heart]  /organisms/human/   \n",
       "407                       [muscle organ]  /organisms/human/   \n",
       "412                    [small intestine]  /organisms/human/   \n",
       "426                            [stomach]  /organisms/human/   \n",
       "427                          [esophagus]  /organisms/human/   \n",
       "\n",
       "                               system_slims        bed_filename  \\\n",
       "41                                       []  ENCFF003LVR.bed.gz   \n",
       "84                    [musculature of body]  ENCFF144PJO.bed.gz   \n",
       "90                       [digestive system]  ENCFF536RAQ.bed.gz   \n",
       "179                    [circulatory system]  ENCFF524SKZ.bed.gz   \n",
       "190                      [digestive system]  ENCFF183FMS.bed.gz   \n",
       "203        [endocrine system,immune system]  ENCFF416LJP.bed.gz   \n",
       "205                [central nervous system]  ENCFF357FRW.bed.gz   \n",
       "207                [central nervous system]  ENCFF021ERU.bed.gz   \n",
       "217                   [musculature of body]  ENCFF663YMC.bed.gz   \n",
       "228                [central nervous system]  ENCFF518VHQ.bed.gz   \n",
       "264                [central nervous system]  ENCFF084LBA.bed.gz   \n",
       "288                      [endocrine system]  ENCFF953YED.bed.gz   \n",
       "295                    [circulatory system]  ENCFF809ZVL.bed.gz   \n",
       "296                      [digestive system]  ENCFF457HLD.bed.gz   \n",
       "310                      [digestive system]  ENCFF043YPD.bed.gz   \n",
       "311                                      []  ENCFF232DYU.bed.gz   \n",
       "312                      [endocrine system]  ENCFF659FON.bed.gz   \n",
       "324                [central nervous system]  ENCFF940MJZ.bed.gz   \n",
       "326     [digestive system,endocrine system]  ENCFF856JWA.bed.gz   \n",
       "334                    [respiratory system]  ENCFF059PMT.bed.gz   \n",
       "350                                      []  ENCFF621WVX.bed.gz   \n",
       "353                      [digestive system]  ENCFF004UKU.bed.gz   \n",
       "354                      [digestive system]  ENCFF741KDK.bed.gz   \n",
       "355                      [digestive system]  ENCFF937LPQ.bed.gz   \n",
       "356                      [digestive system]  ENCFF519JQV.bed.gz   \n",
       "357                      [digestive system]  ENCFF033LLU.bed.gz   \n",
       "358                   [reproductive system]  ENCFF416DSN.bed.gz   \n",
       "360                   [reproductive system]  ENCFF135MKW.bed.gz   \n",
       "366                    [circulatory system]  ENCFF455LVK.bed.gz   \n",
       "369        [endocrine system,immune system]  ENCFF381ATD.bed.gz   \n",
       "370        [digestive system,immune system]  ENCFF443MVM.bed.gz   \n",
       "393                   [musculature of body]  ENCFF602NDV.bed.gz   \n",
       "394  [musculature of body,digestive system]  ENCFF528FFC.bed.gz   \n",
       "397  [musculature of body,digestive system]  ENCFF642HKH.bed.gz   \n",
       "406                    [circulatory system]  ENCFF798VKK.bed.gz   \n",
       "407                   [musculature of body]  ENCFF920NZB.bed.gz   \n",
       "412                      [digestive system]  ENCFF138BOV.bed.gz   \n",
       "426                      [digestive system]  ENCFF892DRC.bed.gz   \n",
       "427                      [digestive system]  ENCFF446JOJ.bed.gz   \n",
       "\n",
       "                                          bed_filepath merged   method  \n",
       "41   /Users/manuel/development/thesis/download/ENCO...  False  H3K27ac  \n",
       "84   /Users/manuel/development/thesis/download/ENCO...  False  H3K27ac  \n",
       "90   /Users/manuel/development/thesis/download/ENCO...  False  H3K27ac  \n",
       "179  /Users/manuel/development/thesis/download/ENCO...  False  H3K27ac  \n",
       "190  /Users/manuel/development/thesis/download/ENCO...  False  H3K27ac  \n",
       "203  /Users/manuel/development/thesis/download/ENCO...  False  H3K27ac  \n",
       "205  /Users/manuel/development/thesis/download/ENCO...  False  H3K27ac  \n",
       "207  /Users/manuel/development/thesis/download/ENCO...  False  H3K27ac  \n",
       "217  /Users/manuel/development/thesis/download/ENCO...  False  H3K27ac  \n",
       "228  /Users/manuel/development/thesis/download/ENCO...  False  H3K27ac  \n",
       "264  /Users/manuel/development/thesis/download/ENCO...  False  H3K27ac  \n",
       "288  /Users/manuel/development/thesis/download/ENCO...  False  H3K27ac  \n",
       "295  /Users/manuel/development/thesis/download/ENCO...  False  H3K27ac  \n",
       "296  /Users/manuel/development/thesis/download/ENCO...  False  H3K27ac  \n",
       "310  /Users/manuel/development/thesis/download/ENCO...  False  H3K27ac  \n",
       "311  /Users/manuel/development/thesis/download/ENCO...  False  H3K27ac  \n",
       "312  /Users/manuel/development/thesis/download/ENCO...  False  H3K27ac  \n",
       "324  /Users/manuel/development/thesis/download/ENCO...  False  H3K27ac  \n",
       "326  /Users/manuel/development/thesis/download/ENCO...  False  H3K27ac  \n",
       "334  /Users/manuel/development/thesis/download/ENCO...  False  H3K27ac  \n",
       "350  /Users/manuel/development/thesis/download/ENCO...  False  H3K27ac  \n",
       "353  /Users/manuel/development/thesis/download/ENCO...  False  H3K27ac  \n",
       "354  /Users/manuel/development/thesis/download/ENCO...  False  H3K27ac  \n",
       "355  /Users/manuel/development/thesis/download/ENCO...  False  H3K27ac  \n",
       "356  /Users/manuel/development/thesis/download/ENCO...  False  H3K27ac  \n",
       "357  /Users/manuel/development/thesis/download/ENCO...  False  H3K27ac  \n",
       "358  /Users/manuel/development/thesis/download/ENCO...  False  H3K27ac  \n",
       "360  /Users/manuel/development/thesis/download/ENCO...  False  H3K27ac  \n",
       "366  /Users/manuel/development/thesis/download/ENCO...  False  H3K27ac  \n",
       "369  /Users/manuel/development/thesis/download/ENCO...  False  H3K27ac  \n",
       "370  /Users/manuel/development/thesis/download/ENCO...  False  H3K27ac  \n",
       "393  /Users/manuel/development/thesis/download/ENCO...  False  H3K27ac  \n",
       "394  /Users/manuel/development/thesis/download/ENCO...  False  H3K27ac  \n",
       "397  /Users/manuel/development/thesis/download/ENCO...  False  H3K27ac  \n",
       "406  /Users/manuel/development/thesis/download/ENCO...  False  H3K27ac  \n",
       "407  /Users/manuel/development/thesis/download/ENCO...  False  H3K27ac  \n",
       "412  /Users/manuel/development/thesis/download/ENCO...  False  H3K27ac  \n",
       "426  /Users/manuel/development/thesis/download/ENCO...  False  H3K27ac  \n",
       "427  /Users/manuel/development/thesis/download/ENCO...  False  H3K27ac  "
      ]
     },
     "execution_count": 188,
     "metadata": {},
     "output_type": "execute_result"
    }
   ],
   "source": [
    "encode_metadata.query(\"assembly == 'hg19' & biosample_type=='tissue' & method=='H3K27ac'\")"
   ]
  },
  {
   "cell_type": "code",
   "execution_count": 189,
   "metadata": {
    "collapsed": false
   },
   "outputs": [],
   "source": [
    "encode_bed = BedTool(\"../download/ENCODE/ENCSR821QGA/files/ENCFF003LVR/ENCFF003LVR.bed.gz\")"
   ]
  },
  {
   "cell_type": "code",
   "execution_count": 190,
   "metadata": {
    "collapsed": true
   },
   "outputs": [],
   "source": [
    "encode_bed = BedTool().from_dataframe(\n",
    "    encode_bed.to_dataframe()[['chrom', 'start', 'end', 'name', 'score', 'strand']])"
   ]
  },
  {
   "cell_type": "code",
   "execution_count": 191,
   "metadata": {
    "collapsed": true
   },
   "outputs": [],
   "source": [
    "repeat_closeness_df = build_closeness_df(encode_bed, repeat_bed)"
   ]
  },
  {
   "cell_type": "code",
   "execution_count": 192,
   "metadata": {
    "collapsed": false
   },
   "outputs": [
    {
     "data": {
      "text/plain": [
       "[<matplotlib.axis.XTick at 0x159545630>,\n",
       " <matplotlib.axis.XTick at 0x1582d2da0>,\n",
       " <matplotlib.axis.XTick at 0x159575748>,\n",
       " <matplotlib.axis.XTick at 0x15c713c18>,\n",
       " <matplotlib.axis.XTick at 0x15c71a4a8>,\n",
       " <matplotlib.axis.XTick at 0x15c71af98>,\n",
       " <matplotlib.axis.XTick at 0x15c71cac8>,\n",
       " <matplotlib.axis.XTick at 0x15c71f5f8>,\n",
       " <matplotlib.axis.XTick at 0x15c723128>,\n",
       " <matplotlib.axis.XTick at 0x15c723c18>,\n",
       " <matplotlib.axis.XTick at 0x15c726748>,\n",
       " <matplotlib.axis.XTick at 0x15c729278>,\n",
       " <matplotlib.axis.XTick at 0x15c729d68>,\n",
       " <matplotlib.axis.XTick at 0x15c72e898>,\n",
       " <matplotlib.axis.XTick at 0x15c7313c8>,\n",
       " <matplotlib.axis.XTick at 0x15c731eb8>,\n",
       " <matplotlib.axis.XTick at 0x15c7349e8>,\n",
       " <matplotlib.axis.XTick at 0x15c738518>,\n",
       " <matplotlib.axis.XTick at 0x15c73b048>,\n",
       " <matplotlib.axis.XTick at 0x15c73bb38>]"
      ]
     },
     "execution_count": 192,
     "metadata": {},
     "output_type": "execute_result"
    },
    {
     "data": {
      "image/png": "[encoded data removed]",
      "text/plain": [
       "<matplotlib.figure.Figure at 0x1594eff60>"
      ]
     },
     "metadata": {},
     "output_type": "display_data"
    }
   ],
   "source": [
    "sns.set(style=\"whitegrid\")\n",
    "sns.set_context(\"poster\", font_scale=0.8, rc={\"lines.linewidth\": 1})\n",
    "g1 = sns.distplot(repeat_closeness_df[['centered_distance']], kde=False, bins=1000)\n",
    "g1.set_xlim(-5000, 5000)\n",
    "g1.set_xticks(np.arange(-5000, 5000, 500))"
   ]
  },
  {
   "cell_type": "code",
   "execution_count": 193,
   "metadata": {
    "collapsed": true
   },
   "outputs": [],
   "source": [
    "repeat_MIR_bed = BedTool().from_dataframe(pd.read_hdf(\"../storage/repeatmasker_staging.hdf\", \"SINE_MIR_bed\"))"
   ]
  },
  {
   "cell_type": "code",
   "execution_count": 194,
   "metadata": {
    "collapsed": true
   },
   "outputs": [],
   "source": [
    "repeat_MIR_closeness_df = build_closeness_df(encode_bed, repeat_MIR_bed)"
   ]
  },
  {
   "cell_type": "code",
   "execution_count": 195,
   "metadata": {
    "collapsed": false
   },
   "outputs": [
    {
     "data": {
      "text/plain": [
       "[<matplotlib.axis.XTick at 0x15ab655f8>,\n",
       " <matplotlib.axis.XTick at 0x15ab4def0>,\n",
       " <matplotlib.axis.XTick at 0x15cbb6fd0>,\n",
       " <matplotlib.axis.XTick at 0x15e65d940>,\n",
       " <matplotlib.axis.XTick at 0x15e662a20>,\n",
       " <matplotlib.axis.XTick at 0x15e665550>,\n",
       " <matplotlib.axis.XTick at 0x15e668080>,\n",
       " <matplotlib.axis.XTick at 0x15e668b70>,\n",
       " <matplotlib.axis.XTick at 0x15e66c6a0>,\n",
       " <matplotlib.axis.XTick at 0x15e6701d0>,\n",
       " <matplotlib.axis.XTick at 0x15e670cc0>,\n",
       " <matplotlib.axis.XTick at 0x15e6737f0>,\n",
       " <matplotlib.axis.XTick at 0x15e676320>,\n",
       " <matplotlib.axis.XTick at 0x15e676e10>,\n",
       " <matplotlib.axis.XTick at 0x15e67a940>,\n",
       " <matplotlib.axis.XTick at 0x15e67d470>,\n",
       " <matplotlib.axis.XTick at 0x15e67df60>,\n",
       " <matplotlib.axis.XTick at 0x15c1f5a90>,\n",
       " <matplotlib.axis.XTick at 0x15c1f85c0>,\n",
       " <matplotlib.axis.XTick at 0x15c1fc0f0>]"
      ]
     },
     "execution_count": 195,
     "metadata": {},
     "output_type": "execute_result"
    },
    {
     "data": {
      "image/png": "[encoded data removed]",
      "text/plain": [
       "<matplotlib.figure.Figure at 0x15c71ccc0>"
      ]
     },
     "metadata": {},
     "output_type": "display_data"
    }
   ],
   "source": [
    "sns.set(style=\"whitegrid\")\n",
    "sns.set_context(\"poster\", font_scale=0.8, rc={\"lines.linewidth\": 1})\n",
    "g1 = sns.distplot(repeat_MIR_closeness_df[['centered_distance']], kde=False, bins=1000)\n",
    "g1.set_xlim(-10000, 10000)\n",
    "g1.set_xticks(np.arange(-10000, 10000, 1000))"
   ]
  },
  {
   "cell_type": "code",
   "execution_count": null,
   "metadata": {
    "collapsed": true
   },
   "outputs": [],
   "source": []
  }
 ],
 "metadata": {
  "anaconda-cloud": {},
  "kernelspec": {
   "display_name": "Python [conda root]",
   "language": "python",
   "name": "conda-root-py"
  },
  "language_info": {
   "codemirror_mode": {
    "name": "ipython",
    "version": 3
   },
   "file_extension": ".py",
   "mimetype": "text/x-python",
   "name": "python",
   "nbconvert_exporter": "python",
   "pygments_lexer": "ipython3",
   "version": "3.5.2"
  }
 },
 "nbformat": 4,
 "nbformat_minor": 1
}
