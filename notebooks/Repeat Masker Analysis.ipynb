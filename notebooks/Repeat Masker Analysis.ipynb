{
 "cells": [
  {
   "cell_type": "markdown",
   "metadata": {},
   "source": [
    "## Full hg19 Repeat Masker"
   ]
  },
  {
   "cell_type": "code",
   "execution_count": 99,
   "metadata": {
    "collapsed": true
   },
   "outputs": [],
   "source": [
    "import pandas as pd\n",
    "import numpy as np"
   ]
  },
  {
   "cell_type": "code",
   "execution_count": 2,
   "metadata": {
    "collapsed": true
   },
   "outputs": [],
   "source": [
    "#sample built with bash command (after conda install coreutils)\n",
    "#shuf hg38.fa.out | head -n 1000 > sample_hg38.fa.out"
   ]
  },
  {
   "cell_type": "code",
   "execution_count": 25,
   "metadata": {
    "collapsed": false
   },
   "outputs": [],
   "source": [
    "repeat_df = pd.read_csv(\"../download/RepeatMasker/hg19.fa.out\", sep=r\"\\s+\",skiprows=2,header=None, index_col=False)"
   ]
  },
  {
   "cell_type": "code",
   "execution_count": 26,
   "metadata": {
    "collapsed": false
   },
   "outputs": [
    {
     "data": {
      "text/html": [
       "<div>\n",
       "<table border=\"1\" class=\"dataframe\">\n",
       "  <thead>\n",
       "    <tr style=\"text-align: right;\">\n",
       "      <th></th>\n",
       "      <th>0</th>\n",
       "      <th>1</th>\n",
       "      <th>2</th>\n",
       "      <th>3</th>\n",
       "      <th>4</th>\n",
       "      <th>5</th>\n",
       "      <th>6</th>\n",
       "      <th>7</th>\n",
       "      <th>8</th>\n",
       "      <th>9</th>\n",
       "      <th>10</th>\n",
       "      <th>11</th>\n",
       "      <th>12</th>\n",
       "      <th>13</th>\n",
       "      <th>14</th>\n",
       "    </tr>\n",
       "  </thead>\n",
       "  <tbody>\n",
       "    <tr>\n",
       "      <th>0</th>\n",
       "      <td>463</td>\n",
       "      <td>1.3</td>\n",
       "      <td>0.6</td>\n",
       "      <td>1.7</td>\n",
       "      <td>chr1</td>\n",
       "      <td>10001</td>\n",
       "      <td>10468</td>\n",
       "      <td>(249240153)</td>\n",
       "      <td>+</td>\n",
       "      <td>(TAACCC)n</td>\n",
       "      <td>Simple_repeat</td>\n",
       "      <td>1</td>\n",
       "      <td>463</td>\n",
       "      <td>(0)</td>\n",
       "      <td>1.0</td>\n",
       "    </tr>\n",
       "    <tr>\n",
       "      <th>1</th>\n",
       "      <td>3612</td>\n",
       "      <td>11.4</td>\n",
       "      <td>21.5</td>\n",
       "      <td>1.3</td>\n",
       "      <td>chr1</td>\n",
       "      <td>10469</td>\n",
       "      <td>11447</td>\n",
       "      <td>(249239174)</td>\n",
       "      <td>C</td>\n",
       "      <td>TAR1</td>\n",
       "      <td>Satellite/telo</td>\n",
       "      <td>(399)</td>\n",
       "      <td>1712</td>\n",
       "      <td>483</td>\n",
       "      <td>2.0</td>\n",
       "    </tr>\n",
       "    <tr>\n",
       "      <th>2</th>\n",
       "      <td>484</td>\n",
       "      <td>25.1</td>\n",
       "      <td>13.2</td>\n",
       "      <td>0.0</td>\n",
       "      <td>chr1</td>\n",
       "      <td>11505</td>\n",
       "      <td>11675</td>\n",
       "      <td>(249238946)</td>\n",
       "      <td>C</td>\n",
       "      <td>L1MC5a</td>\n",
       "      <td>LINE/L1</td>\n",
       "      <td>(2382)</td>\n",
       "      <td>5648</td>\n",
       "      <td>5452</td>\n",
       "      <td>3.0</td>\n",
       "    </tr>\n",
       "    <tr>\n",
       "      <th>3</th>\n",
       "      <td>239</td>\n",
       "      <td>29.4</td>\n",
       "      <td>1.9</td>\n",
       "      <td>1.0</td>\n",
       "      <td>chr1</td>\n",
       "      <td>11678</td>\n",
       "      <td>11780</td>\n",
       "      <td>(249238841)</td>\n",
       "      <td>C</td>\n",
       "      <td>MER5B</td>\n",
       "      <td>DNA/hAT-Charlie</td>\n",
       "      <td>(74)</td>\n",
       "      <td>104</td>\n",
       "      <td>1</td>\n",
       "      <td>4.0</td>\n",
       "    </tr>\n",
       "    <tr>\n",
       "      <th>4</th>\n",
       "      <td>318</td>\n",
       "      <td>23.0</td>\n",
       "      <td>3.7</td>\n",
       "      <td>0.0</td>\n",
       "      <td>chr1</td>\n",
       "      <td>15265</td>\n",
       "      <td>15355</td>\n",
       "      <td>(249235266)</td>\n",
       "      <td>C</td>\n",
       "      <td>MIR3</td>\n",
       "      <td>SINE/MIR</td>\n",
       "      <td>(119)</td>\n",
       "      <td>143</td>\n",
       "      <td>49</td>\n",
       "      <td>5.0</td>\n",
       "    </tr>\n",
       "    <tr>\n",
       "      <th>5</th>\n",
       "      <td>18</td>\n",
       "      <td>23.2</td>\n",
       "      <td>0.0</td>\n",
       "      <td>2.0</td>\n",
       "      <td>chr1</td>\n",
       "      <td>15798</td>\n",
       "      <td>15849</td>\n",
       "      <td>(249234772)</td>\n",
       "      <td>+</td>\n",
       "      <td>(TGCTCC)n</td>\n",
       "      <td>Simple_repeat</td>\n",
       "      <td>1</td>\n",
       "      <td>51</td>\n",
       "      <td>(0)</td>\n",
       "      <td>6.0</td>\n",
       "    </tr>\n",
       "    <tr>\n",
       "      <th>6</th>\n",
       "      <td>18</td>\n",
       "      <td>13.7</td>\n",
       "      <td>0.0</td>\n",
       "      <td>0.0</td>\n",
       "      <td>chr1</td>\n",
       "      <td>16713</td>\n",
       "      <td>16744</td>\n",
       "      <td>(249233877)</td>\n",
       "      <td>+</td>\n",
       "      <td>(TGG)n</td>\n",
       "      <td>Simple_repeat</td>\n",
       "      <td>1</td>\n",
       "      <td>32</td>\n",
       "      <td>(0)</td>\n",
       "      <td>7.0</td>\n",
       "    </tr>\n",
       "    <tr>\n",
       "      <th>7</th>\n",
       "      <td>239</td>\n",
       "      <td>33.8</td>\n",
       "      <td>12.9</td>\n",
       "      <td>0.0</td>\n",
       "      <td>chr1</td>\n",
       "      <td>18907</td>\n",
       "      <td>19048</td>\n",
       "      <td>(249231573)</td>\n",
       "      <td>+</td>\n",
       "      <td>L2a</td>\n",
       "      <td>LINE/L2</td>\n",
       "      <td>2942</td>\n",
       "      <td>3104</td>\n",
       "      <td>(322)</td>\n",
       "      <td>8.0</td>\n",
       "    </tr>\n",
       "    <tr>\n",
       "      <th>8</th>\n",
       "      <td>994</td>\n",
       "      <td>31.2</td>\n",
       "      <td>6.0</td>\n",
       "      <td>2.5</td>\n",
       "      <td>chr1</td>\n",
       "      <td>19972</td>\n",
       "      <td>20405</td>\n",
       "      <td>(249230216)</td>\n",
       "      <td>+</td>\n",
       "      <td>L3</td>\n",
       "      <td>LINE/CR1</td>\n",
       "      <td>2680</td>\n",
       "      <td>3129</td>\n",
       "      <td>(970)</td>\n",
       "      <td>9.0</td>\n",
       "    </tr>\n",
       "    <tr>\n",
       "      <th>9</th>\n",
       "      <td>270</td>\n",
       "      <td>33.1</td>\n",
       "      <td>0.7</td>\n",
       "      <td>2.7</td>\n",
       "      <td>chr1</td>\n",
       "      <td>20531</td>\n",
       "      <td>20679</td>\n",
       "      <td>(249229942)</td>\n",
       "      <td>+</td>\n",
       "      <td>Plat_L3</td>\n",
       "      <td>LINE/CR1</td>\n",
       "      <td>2802</td>\n",
       "      <td>2947</td>\n",
       "      <td>(639)</td>\n",
       "      <td>10.0</td>\n",
       "    </tr>\n",
       "    <tr>\n",
       "      <th>10</th>\n",
       "      <td>254</td>\n",
       "      <td>27.9</td>\n",
       "      <td>4.7</td>\n",
       "      <td>3.9</td>\n",
       "      <td>chr1</td>\n",
       "      <td>21949</td>\n",
       "      <td>22075</td>\n",
       "      <td>(249228546)</td>\n",
       "      <td>+</td>\n",
       "      <td>MLT1K</td>\n",
       "      <td>LTR/ERVL-MaLR</td>\n",
       "      <td>15</td>\n",
       "      <td>142</td>\n",
       "      <td>(453)</td>\n",
       "      <td>11.0</td>\n",
       "    </tr>\n",
       "    <tr>\n",
       "      <th>11</th>\n",
       "      <td>787</td>\n",
       "      <td>28.2</td>\n",
       "      <td>3.8</td>\n",
       "      <td>0.3</td>\n",
       "      <td>chr1</td>\n",
       "      <td>23120</td>\n",
       "      <td>23371</td>\n",
       "      <td>(249227250)</td>\n",
       "      <td>C</td>\n",
       "      <td>MIR</td>\n",
       "      <td>SINE/MIR</td>\n",
       "      <td>(6)</td>\n",
       "      <td>262</td>\n",
       "      <td>4</td>\n",
       "      <td>12.0</td>\n",
       "    </tr>\n",
       "    <tr>\n",
       "      <th>12</th>\n",
       "      <td>249</td>\n",
       "      <td>28.4</td>\n",
       "      <td>17.6</td>\n",
       "      <td>4.3</td>\n",
       "      <td>chr1</td>\n",
       "      <td>23804</td>\n",
       "      <td>23824</td>\n",
       "      <td>(249226797)</td>\n",
       "      <td>+</td>\n",
       "      <td>L2a</td>\n",
       "      <td>LINE/L2</td>\n",
       "      <td>2940</td>\n",
       "      <td>3051</td>\n",
       "      <td>(336)</td>\n",
       "      <td>13.0</td>\n",
       "    </tr>\n",
       "    <tr>\n",
       "      <th>13</th>\n",
       "      <td>312</td>\n",
       "      <td>29.7</td>\n",
       "      <td>18.1</td>\n",
       "      <td>1.1</td>\n",
       "      <td>chr1</td>\n",
       "      <td>23825</td>\n",
       "      <td>24011</td>\n",
       "      <td>(249226610)</td>\n",
       "      <td>+</td>\n",
       "      <td>L2b</td>\n",
       "      <td>LINE/L2</td>\n",
       "      <td>2955</td>\n",
       "      <td>3180</td>\n",
       "      <td>(195)</td>\n",
       "      <td>14.0</td>\n",
       "    </tr>\n",
       "    <tr>\n",
       "      <th>14</th>\n",
       "      <td>249</td>\n",
       "      <td>28.4</td>\n",
       "      <td>17.6</td>\n",
       "      <td>4.3</td>\n",
       "      <td>chr1</td>\n",
       "      <td>24012</td>\n",
       "      <td>24038</td>\n",
       "      <td>(249226583)</td>\n",
       "      <td>+</td>\n",
       "      <td>L2a</td>\n",
       "      <td>LINE/L2</td>\n",
       "      <td>3052</td>\n",
       "      <td>3212</td>\n",
       "      <td>(175)</td>\n",
       "      <td>13.0</td>\n",
       "    </tr>\n",
       "    <tr>\n",
       "      <th>15</th>\n",
       "      <td>413</td>\n",
       "      <td>24.2</td>\n",
       "      <td>24.1</td>\n",
       "      <td>1.2</td>\n",
       "      <td>chr1</td>\n",
       "      <td>24088</td>\n",
       "      <td>24250</td>\n",
       "      <td>(249226371)</td>\n",
       "      <td>+</td>\n",
       "      <td>MIR</td>\n",
       "      <td>SINE/MIR</td>\n",
       "      <td>49</td>\n",
       "      <td>260</td>\n",
       "      <td>(2)</td>\n",
       "      <td>15.0</td>\n",
       "    </tr>\n",
       "    <tr>\n",
       "      <th>16</th>\n",
       "      <td>299</td>\n",
       "      <td>30.6</td>\n",
       "      <td>2.3</td>\n",
       "      <td>12.4</td>\n",
       "      <td>chr1</td>\n",
       "      <td>24255</td>\n",
       "      <td>24448</td>\n",
       "      <td>(249226173)</td>\n",
       "      <td>+</td>\n",
       "      <td>L2a</td>\n",
       "      <td>LINE/L2</td>\n",
       "      <td>3213</td>\n",
       "      <td>3453</td>\n",
       "      <td>(11)</td>\n",
       "      <td>13.0</td>\n",
       "    </tr>\n",
       "    <tr>\n",
       "      <th>17</th>\n",
       "      <td>224</td>\n",
       "      <td>16.6</td>\n",
       "      <td>4.9</td>\n",
       "      <td>4.0</td>\n",
       "      <td>chr1</td>\n",
       "      <td>26356</td>\n",
       "      <td>26412</td>\n",
       "      <td>(249224209)</td>\n",
       "      <td>+</td>\n",
       "      <td>MIR1_Amn</td>\n",
       "      <td>SINE/MIR</td>\n",
       "      <td>102</td>\n",
       "      <td>161</td>\n",
       "      <td>(69)</td>\n",
       "      <td>16.0</td>\n",
       "    </tr>\n",
       "    <tr>\n",
       "      <th>18</th>\n",
       "      <td>241</td>\n",
       "      <td>30.3</td>\n",
       "      <td>18.6</td>\n",
       "      <td>3.1</td>\n",
       "      <td>chr1</td>\n",
       "      <td>26583</td>\n",
       "      <td>26790</td>\n",
       "      <td>(249223831)</td>\n",
       "      <td>C</td>\n",
       "      <td>L2c</td>\n",
       "      <td>LINE/L2</td>\n",
       "      <td>(14)</td>\n",
       "      <td>3373</td>\n",
       "      <td>3116</td>\n",
       "      <td>17.0</td>\n",
       "    </tr>\n",
       "    <tr>\n",
       "      <th>19</th>\n",
       "      <td>2070</td>\n",
       "      <td>9.5</td>\n",
       "      <td>0.4</td>\n",
       "      <td>0.0</td>\n",
       "      <td>chr1</td>\n",
       "      <td>26791</td>\n",
       "      <td>27053</td>\n",
       "      <td>(249223568)</td>\n",
       "      <td>+</td>\n",
       "      <td>AluSp</td>\n",
       "      <td>SINE/Alu</td>\n",
       "      <td>1</td>\n",
       "      <td>264</td>\n",
       "      <td>(49)</td>\n",
       "      <td>18.0</td>\n",
       "    </tr>\n",
       "    <tr>\n",
       "      <th>20</th>\n",
       "      <td>241</td>\n",
       "      <td>30.3</td>\n",
       "      <td>18.6</td>\n",
       "      <td>3.1</td>\n",
       "      <td>chr1</td>\n",
       "      <td>27054</td>\n",
       "      <td>27137</td>\n",
       "      <td>(249223484)</td>\n",
       "      <td>C</td>\n",
       "      <td>L2c</td>\n",
       "      <td>LINE/L2</td>\n",
       "      <td>(272)</td>\n",
       "      <td>3115</td>\n",
       "      <td>3026</td>\n",
       "      <td>17.0</td>\n",
       "    </tr>\n",
       "    <tr>\n",
       "      <th>21</th>\n",
       "      <td>1300</td>\n",
       "      <td>14.6</td>\n",
       "      <td>6.4</td>\n",
       "      <td>0.1</td>\n",
       "      <td>chr1</td>\n",
       "      <td>27269</td>\n",
       "      <td>27518</td>\n",
       "      <td>(249223103)</td>\n",
       "      <td>+</td>\n",
       "      <td>MER33</td>\n",
       "      <td>DNA/hAT-Charlie</td>\n",
       "      <td>1</td>\n",
       "      <td>254</td>\n",
       "      <td>(70)</td>\n",
       "      <td>19.0</td>\n",
       "    </tr>\n",
       "    <tr>\n",
       "      <th>22</th>\n",
       "      <td>275</td>\n",
       "      <td>33.6</td>\n",
       "      <td>8.6</td>\n",
       "      <td>2.0</td>\n",
       "      <td>chr1</td>\n",
       "      <td>27833</td>\n",
       "      <td>28014</td>\n",
       "      <td>(249222607)</td>\n",
       "      <td>C</td>\n",
       "      <td>MIRb</td>\n",
       "      <td>SINE/MIR</td>\n",
       "      <td>(70)</td>\n",
       "      <td>198</td>\n",
       "      <td>1</td>\n",
       "      <td>20.0</td>\n",
       "    </tr>\n",
       "    <tr>\n",
       "      <th>23</th>\n",
       "      <td>304</td>\n",
       "      <td>32.0</td>\n",
       "      <td>5.8</td>\n",
       "      <td>3.3</td>\n",
       "      <td>chr1</td>\n",
       "      <td>28151</td>\n",
       "      <td>28302</td>\n",
       "      <td>(249222319)</td>\n",
       "      <td>C</td>\n",
       "      <td>MIR</td>\n",
       "      <td>SINE/MIR</td>\n",
       "      <td>(8)</td>\n",
       "      <td>254</td>\n",
       "      <td>99</td>\n",
       "      <td>21.0</td>\n",
       "    </tr>\n",
       "    <tr>\n",
       "      <th>24</th>\n",
       "      <td>12</td>\n",
       "      <td>15.7</td>\n",
       "      <td>4.2</td>\n",
       "      <td>6.4</td>\n",
       "      <td>chr1</td>\n",
       "      <td>29745</td>\n",
       "      <td>29792</td>\n",
       "      <td>(249220829)</td>\n",
       "      <td>+</td>\n",
       "      <td>(ACGCCC)n</td>\n",
       "      <td>Simple_repeat</td>\n",
       "      <td>1</td>\n",
       "      <td>47</td>\n",
       "      <td>(0)</td>\n",
       "      <td>22.0</td>\n",
       "    </tr>\n",
       "    <tr>\n",
       "      <th>25</th>\n",
       "      <td>1323</td>\n",
       "      <td>19.9</td>\n",
       "      <td>2.7</td>\n",
       "      <td>2.0</td>\n",
       "      <td>chr1</td>\n",
       "      <td>29902</td>\n",
       "      <td>30198</td>\n",
       "      <td>(249220423)</td>\n",
       "      <td>+</td>\n",
       "      <td>L1MB3</td>\n",
       "      <td>LINE/L1</td>\n",
       "      <td>5883</td>\n",
       "      <td>6181</td>\n",
       "      <td>(2)</td>\n",
       "      <td>23.0</td>\n",
       "    </tr>\n",
       "    <tr>\n",
       "      <th>26</th>\n",
       "      <td>979</td>\n",
       "      <td>14.4</td>\n",
       "      <td>3.1</td>\n",
       "      <td>1.6</td>\n",
       "      <td>chr1</td>\n",
       "      <td>30343</td>\n",
       "      <td>30532</td>\n",
       "      <td>(249220089)</td>\n",
       "      <td>C</td>\n",
       "      <td>MER53</td>\n",
       "      <td>DNA/hAT</td>\n",
       "      <td>(0)</td>\n",
       "      <td>193</td>\n",
       "      <td>1</td>\n",
       "      <td>24.0</td>\n",
       "    </tr>\n",
       "    <tr>\n",
       "      <th>27</th>\n",
       "      <td>741</td>\n",
       "      <td>18.7</td>\n",
       "      <td>4.3</td>\n",
       "      <td>0.0</td>\n",
       "      <td>chr1</td>\n",
       "      <td>30694</td>\n",
       "      <td>30848</td>\n",
       "      <td>(249219773)</td>\n",
       "      <td>+</td>\n",
       "      <td>MLT1A</td>\n",
       "      <td>LTR/ERVL-MaLR</td>\n",
       "      <td>1</td>\n",
       "      <td>162</td>\n",
       "      <td>(212)</td>\n",
       "      <td>25.0</td>\n",
       "    </tr>\n",
       "    <tr>\n",
       "      <th>28</th>\n",
       "      <td>55</td>\n",
       "      <td>13.1</td>\n",
       "      <td>0.0</td>\n",
       "      <td>3.2</td>\n",
       "      <td>chr1</td>\n",
       "      <td>30855</td>\n",
       "      <td>30952</td>\n",
       "      <td>(249219669)</td>\n",
       "      <td>+</td>\n",
       "      <td>(TC)n</td>\n",
       "      <td>Simple_repeat</td>\n",
       "      <td>1</td>\n",
       "      <td>95</td>\n",
       "      <td>(0)</td>\n",
       "      <td>26.0</td>\n",
       "    </tr>\n",
       "    <tr>\n",
       "      <th>29</th>\n",
       "      <td>741</td>\n",
       "      <td>24.9</td>\n",
       "      <td>0.0</td>\n",
       "      <td>1.1</td>\n",
       "      <td>chr1</td>\n",
       "      <td>30953</td>\n",
       "      <td>31131</td>\n",
       "      <td>(249219490)</td>\n",
       "      <td>+</td>\n",
       "      <td>MLT1A</td>\n",
       "      <td>LTR/ERVL-MaLR</td>\n",
       "      <td>173</td>\n",
       "      <td>349</td>\n",
       "      <td>(25)</td>\n",
       "      <td>25.0</td>\n",
       "    </tr>\n",
       "    <tr>\n",
       "      <th>...</th>\n",
       "      <td>...</td>\n",
       "      <td>...</td>\n",
       "      <td>...</td>\n",
       "      <td>...</td>\n",
       "      <td>...</td>\n",
       "      <td>...</td>\n",
       "      <td>...</td>\n",
       "      <td>...</td>\n",
       "      <td>...</td>\n",
       "      <td>...</td>\n",
       "      <td>...</td>\n",
       "      <td>...</td>\n",
       "      <td>...</td>\n",
       "      <td>...</td>\n",
       "      <td>...</td>\n",
       "    </tr>\n",
       "    <tr>\n",
       "      <th>5467427</th>\n",
       "      <td>4500</td>\n",
       "      <td>23.5</td>\n",
       "      <td>16.4</td>\n",
       "      <td>5.1</td>\n",
       "      <td>chrUn_gl000247</td>\n",
       "      <td>22643</td>\n",
       "      <td>23447</td>\n",
       "      <td>(12975)</td>\n",
       "      <td>+</td>\n",
       "      <td>L1MCa</td>\n",
       "      <td>LINE/L1</td>\n",
       "      <td>4554</td>\n",
       "      <td>5402</td>\n",
       "      <td>(919)</td>\n",
       "      <td>4562631.0</td>\n",
       "    </tr>\n",
       "    <tr>\n",
       "      <th>5467428</th>\n",
       "      <td>1185</td>\n",
       "      <td>15.8</td>\n",
       "      <td>9.9</td>\n",
       "      <td>0.0</td>\n",
       "      <td>chrUn_gl000247</td>\n",
       "      <td>23448</td>\n",
       "      <td>23656</td>\n",
       "      <td>(12766)</td>\n",
       "      <td>C</td>\n",
       "      <td>Tigger4a</td>\n",
       "      <td>DNA/TcMar-Tigger</td>\n",
       "      <td>(3)</td>\n",
       "      <td>233</td>\n",
       "      <td>2</td>\n",
       "      <td>4562648.0</td>\n",
       "    </tr>\n",
       "    <tr>\n",
       "      <th>5467429</th>\n",
       "      <td>4500</td>\n",
       "      <td>23.5</td>\n",
       "      <td>16.4</td>\n",
       "      <td>5.1</td>\n",
       "      <td>chrUn_gl000247</td>\n",
       "      <td>23657</td>\n",
       "      <td>23718</td>\n",
       "      <td>(12704)</td>\n",
       "      <td>+</td>\n",
       "      <td>L1MCa</td>\n",
       "      <td>LINE/L1</td>\n",
       "      <td>5403</td>\n",
       "      <td>5460</td>\n",
       "      <td>(861)</td>\n",
       "      <td>4562631.0</td>\n",
       "    </tr>\n",
       "    <tr>\n",
       "      <th>5467430</th>\n",
       "      <td>13</td>\n",
       "      <td>22.8</td>\n",
       "      <td>0.0</td>\n",
       "      <td>0.0</td>\n",
       "      <td>chrUn_gl000247</td>\n",
       "      <td>23930</td>\n",
       "      <td>23965</td>\n",
       "      <td>(12457)</td>\n",
       "      <td>+</td>\n",
       "      <td>A-rich</td>\n",
       "      <td>Low_complexity</td>\n",
       "      <td>1</td>\n",
       "      <td>36</td>\n",
       "      <td>(0)</td>\n",
       "      <td>4562649.0</td>\n",
       "    </tr>\n",
       "    <tr>\n",
       "      <th>5467431</th>\n",
       "      <td>1378</td>\n",
       "      <td>20.1</td>\n",
       "      <td>17.2</td>\n",
       "      <td>3.5</td>\n",
       "      <td>chrUn_gl000247</td>\n",
       "      <td>24750</td>\n",
       "      <td>25175</td>\n",
       "      <td>(11247)</td>\n",
       "      <td>+</td>\n",
       "      <td>L1MB3</td>\n",
       "      <td>LINE/L1</td>\n",
       "      <td>5281</td>\n",
       "      <td>5792</td>\n",
       "      <td>(391)</td>\n",
       "      <td>4562650.0</td>\n",
       "    </tr>\n",
       "    <tr>\n",
       "      <th>5467432</th>\n",
       "      <td>44</td>\n",
       "      <td>3.4</td>\n",
       "      <td>4.8</td>\n",
       "      <td>1.6</td>\n",
       "      <td>chrUn_gl000247</td>\n",
       "      <td>25176</td>\n",
       "      <td>25237</td>\n",
       "      <td>(11185)</td>\n",
       "      <td>+</td>\n",
       "      <td>(AT)n</td>\n",
       "      <td>Simple_repeat</td>\n",
       "      <td>1</td>\n",
       "      <td>64</td>\n",
       "      <td>(0)</td>\n",
       "      <td>4562651.0</td>\n",
       "    </tr>\n",
       "    <tr>\n",
       "      <th>5467433</th>\n",
       "      <td>1378</td>\n",
       "      <td>24.6</td>\n",
       "      <td>14.8</td>\n",
       "      <td>1.1</td>\n",
       "      <td>chrUn_gl000247</td>\n",
       "      <td>25238</td>\n",
       "      <td>25560</td>\n",
       "      <td>(10862)</td>\n",
       "      <td>+</td>\n",
       "      <td>L1MB3</td>\n",
       "      <td>LINE/L1</td>\n",
       "      <td>5792</td>\n",
       "      <td>6174</td>\n",
       "      <td>(6)</td>\n",
       "      <td>4562650.0</td>\n",
       "    </tr>\n",
       "    <tr>\n",
       "      <th>5467434</th>\n",
       "      <td>743</td>\n",
       "      <td>22.9</td>\n",
       "      <td>7.1</td>\n",
       "      <td>1.8</td>\n",
       "      <td>chrUn_gl000247</td>\n",
       "      <td>25582</td>\n",
       "      <td>25592</td>\n",
       "      <td>(10830)</td>\n",
       "      <td>+</td>\n",
       "      <td>L1MEf</td>\n",
       "      <td>LINE/L1</td>\n",
       "      <td>1963</td>\n",
       "      <td>1972</td>\n",
       "      <td>(4270)</td>\n",
       "      <td>4562652.0</td>\n",
       "    </tr>\n",
       "    <tr>\n",
       "      <th>5467435</th>\n",
       "      <td>1717</td>\n",
       "      <td>17.5</td>\n",
       "      <td>0.7</td>\n",
       "      <td>1.7</td>\n",
       "      <td>chrUn_gl000247</td>\n",
       "      <td>25593</td>\n",
       "      <td>25883</td>\n",
       "      <td>(10539)</td>\n",
       "      <td>C</td>\n",
       "      <td>AluJb</td>\n",
       "      <td>SINE/Alu</td>\n",
       "      <td>(24)</td>\n",
       "      <td>288</td>\n",
       "      <td>1</td>\n",
       "      <td>4562653.0</td>\n",
       "    </tr>\n",
       "    <tr>\n",
       "      <th>5467436</th>\n",
       "      <td>743</td>\n",
       "      <td>22.9</td>\n",
       "      <td>7.1</td>\n",
       "      <td>1.8</td>\n",
       "      <td>chrUn_gl000247</td>\n",
       "      <td>25884</td>\n",
       "      <td>25994</td>\n",
       "      <td>(10428)</td>\n",
       "      <td>+</td>\n",
       "      <td>L1MEf</td>\n",
       "      <td>LINE/L1</td>\n",
       "      <td>1973</td>\n",
       "      <td>2086</td>\n",
       "      <td>(4156)</td>\n",
       "      <td>4562652.0</td>\n",
       "    </tr>\n",
       "    <tr>\n",
       "      <th>5467437</th>\n",
       "      <td>1786</td>\n",
       "      <td>19.8</td>\n",
       "      <td>0.7</td>\n",
       "      <td>0.0</td>\n",
       "      <td>chrUn_gl000247</td>\n",
       "      <td>25995</td>\n",
       "      <td>26302</td>\n",
       "      <td>(10120)</td>\n",
       "      <td>+</td>\n",
       "      <td>AluSz6</td>\n",
       "      <td>SINE/Alu</td>\n",
       "      <td>1</td>\n",
       "      <td>310</td>\n",
       "      <td>(2)</td>\n",
       "      <td>4562654.0</td>\n",
       "    </tr>\n",
       "    <tr>\n",
       "      <th>5467438</th>\n",
       "      <td>1047</td>\n",
       "      <td>26.1</td>\n",
       "      <td>10.8</td>\n",
       "      <td>4.4</td>\n",
       "      <td>chrUn_gl000247</td>\n",
       "      <td>26303</td>\n",
       "      <td>27079</td>\n",
       "      <td>(9343)</td>\n",
       "      <td>+</td>\n",
       "      <td>L1MEf</td>\n",
       "      <td>LINE/L1</td>\n",
       "      <td>2087</td>\n",
       "      <td>2933</td>\n",
       "      <td>(3213)</td>\n",
       "      <td>4562652.0</td>\n",
       "    </tr>\n",
       "    <tr>\n",
       "      <th>5467439</th>\n",
       "      <td>258</td>\n",
       "      <td>33.8</td>\n",
       "      <td>9.3</td>\n",
       "      <td>0.0</td>\n",
       "      <td>chrUn_gl000247</td>\n",
       "      <td>27109</td>\n",
       "      <td>27244</td>\n",
       "      <td>(9178)</td>\n",
       "      <td>+</td>\n",
       "      <td>MLT1H1</td>\n",
       "      <td>LTR/ERVL-MaLR</td>\n",
       "      <td>5</td>\n",
       "      <td>154</td>\n",
       "      <td>(401)</td>\n",
       "      <td>4562655.0</td>\n",
       "    </tr>\n",
       "    <tr>\n",
       "      <th>5467440</th>\n",
       "      <td>323</td>\n",
       "      <td>22.8</td>\n",
       "      <td>15.3</td>\n",
       "      <td>5.4</td>\n",
       "      <td>chrUn_gl000247</td>\n",
       "      <td>27408</td>\n",
       "      <td>27611</td>\n",
       "      <td>(8811)</td>\n",
       "      <td>+</td>\n",
       "      <td>MLT1H1</td>\n",
       "      <td>LTR/ERVL-MaLR</td>\n",
       "      <td>352</td>\n",
       "      <td>579</td>\n",
       "      <td>(0)</td>\n",
       "      <td>4562655.0</td>\n",
       "    </tr>\n",
       "    <tr>\n",
       "      <th>5467441</th>\n",
       "      <td>490</td>\n",
       "      <td>32.5</td>\n",
       "      <td>5.3</td>\n",
       "      <td>7.2</td>\n",
       "      <td>chrUn_gl000247</td>\n",
       "      <td>27617</td>\n",
       "      <td>28017</td>\n",
       "      <td>(8405)</td>\n",
       "      <td>+</td>\n",
       "      <td>MLT1H1-int</td>\n",
       "      <td>LTR/ERVL-MaLR</td>\n",
       "      <td>6</td>\n",
       "      <td>398</td>\n",
       "      <td>(1011)</td>\n",
       "      <td>4562655.0</td>\n",
       "    </tr>\n",
       "    <tr>\n",
       "      <th>5467442</th>\n",
       "      <td>20</td>\n",
       "      <td>21.1</td>\n",
       "      <td>0.0</td>\n",
       "      <td>0.0</td>\n",
       "      <td>chrUn_gl000247</td>\n",
       "      <td>28041</td>\n",
       "      <td>28079</td>\n",
       "      <td>(8343)</td>\n",
       "      <td>+</td>\n",
       "      <td>A-rich</td>\n",
       "      <td>Low_complexity</td>\n",
       "      <td>1</td>\n",
       "      <td>39</td>\n",
       "      <td>(0)</td>\n",
       "      <td>4562656.0</td>\n",
       "    </tr>\n",
       "    <tr>\n",
       "      <th>5467443</th>\n",
       "      <td>423</td>\n",
       "      <td>20.2</td>\n",
       "      <td>9.5</td>\n",
       "      <td>3.9</td>\n",
       "      <td>chrUn_gl000247</td>\n",
       "      <td>28553</td>\n",
       "      <td>28681</td>\n",
       "      <td>(7741)</td>\n",
       "      <td>+</td>\n",
       "      <td>MLT1H1-int</td>\n",
       "      <td>LTR/ERVL-MaLR</td>\n",
       "      <td>1273</td>\n",
       "      <td>1409</td>\n",
       "      <td>(0)</td>\n",
       "      <td>4562655.0</td>\n",
       "    </tr>\n",
       "    <tr>\n",
       "      <th>5467444</th>\n",
       "      <td>756</td>\n",
       "      <td>27.5</td>\n",
       "      <td>15.1</td>\n",
       "      <td>8.0</td>\n",
       "      <td>chrUn_gl000247</td>\n",
       "      <td>28681</td>\n",
       "      <td>29187</td>\n",
       "      <td>(7235)</td>\n",
       "      <td>+</td>\n",
       "      <td>MLT1H1</td>\n",
       "      <td>LTR/ERVL-MaLR</td>\n",
       "      <td>1</td>\n",
       "      <td>594</td>\n",
       "      <td>(1)</td>\n",
       "      <td>4562655.0</td>\n",
       "    </tr>\n",
       "    <tr>\n",
       "      <th>5467445</th>\n",
       "      <td>2314</td>\n",
       "      <td>10.7</td>\n",
       "      <td>0.7</td>\n",
       "      <td>0.0</td>\n",
       "      <td>chrUn_gl000247</td>\n",
       "      <td>29913</td>\n",
       "      <td>30220</td>\n",
       "      <td>(6202)</td>\n",
       "      <td>+</td>\n",
       "      <td>AluSp</td>\n",
       "      <td>SINE/Alu</td>\n",
       "      <td>1</td>\n",
       "      <td>310</td>\n",
       "      <td>(3)</td>\n",
       "      <td>4562657.0</td>\n",
       "    </tr>\n",
       "    <tr>\n",
       "      <th>5467446</th>\n",
       "      <td>2386</td>\n",
       "      <td>15.0</td>\n",
       "      <td>1.2</td>\n",
       "      <td>10.5</td>\n",
       "      <td>chrUn_gl000247</td>\n",
       "      <td>30616</td>\n",
       "      <td>31092</td>\n",
       "      <td>(5330)</td>\n",
       "      <td>+</td>\n",
       "      <td>MER57A1</td>\n",
       "      <td>LTR/ERV1</td>\n",
       "      <td>1</td>\n",
       "      <td>432</td>\n",
       "      <td>(0)</td>\n",
       "      <td>4562658.0</td>\n",
       "    </tr>\n",
       "    <tr>\n",
       "      <th>5467447</th>\n",
       "      <td>4234</td>\n",
       "      <td>20.4</td>\n",
       "      <td>5.7</td>\n",
       "      <td>2.0</td>\n",
       "      <td>chrUn_gl000247</td>\n",
       "      <td>31277</td>\n",
       "      <td>32485</td>\n",
       "      <td>(3937)</td>\n",
       "      <td>+</td>\n",
       "      <td>MER52A</td>\n",
       "      <td>LTR/ERV1</td>\n",
       "      <td>502</td>\n",
       "      <td>1755</td>\n",
       "      <td>(0)</td>\n",
       "      <td>4562659.0</td>\n",
       "    </tr>\n",
       "    <tr>\n",
       "      <th>5467448</th>\n",
       "      <td>4199</td>\n",
       "      <td>13.4</td>\n",
       "      <td>3.5</td>\n",
       "      <td>3.6</td>\n",
       "      <td>chrUn_gl000247</td>\n",
       "      <td>32486</td>\n",
       "      <td>33402</td>\n",
       "      <td>(3020)</td>\n",
       "      <td>+</td>\n",
       "      <td>MER57-int</td>\n",
       "      <td>LTR/ERV1</td>\n",
       "      <td>88</td>\n",
       "      <td>1004</td>\n",
       "      <td>(4942)</td>\n",
       "      <td>4562658.0</td>\n",
       "    </tr>\n",
       "    <tr>\n",
       "      <th>5467449</th>\n",
       "      <td>2189</td>\n",
       "      <td>12.6</td>\n",
       "      <td>0.3</td>\n",
       "      <td>0.3</td>\n",
       "      <td>chrUn_gl000247</td>\n",
       "      <td>33431</td>\n",
       "      <td>33739</td>\n",
       "      <td>(2683)</td>\n",
       "      <td>+</td>\n",
       "      <td>AluSp</td>\n",
       "      <td>SINE/Alu</td>\n",
       "      <td>1</td>\n",
       "      <td>309</td>\n",
       "      <td>(4)</td>\n",
       "      <td>4562660.0</td>\n",
       "    </tr>\n",
       "    <tr>\n",
       "      <th>5467450</th>\n",
       "      <td>10304</td>\n",
       "      <td>12.3</td>\n",
       "      <td>4.4</td>\n",
       "      <td>4.5</td>\n",
       "      <td>chrUn_gl000247</td>\n",
       "      <td>33742</td>\n",
       "      <td>34273</td>\n",
       "      <td>(2149)</td>\n",
       "      <td>+</td>\n",
       "      <td>MER57-int</td>\n",
       "      <td>LTR/ERV1</td>\n",
       "      <td>4349</td>\n",
       "      <td>4914</td>\n",
       "      <td>(2623)</td>\n",
       "      <td>4562661.0</td>\n",
       "    </tr>\n",
       "    <tr>\n",
       "      <th>5467451</th>\n",
       "      <td>2226</td>\n",
       "      <td>11.1</td>\n",
       "      <td>0.7</td>\n",
       "      <td>0.0</td>\n",
       "      <td>chrUn_gl000247</td>\n",
       "      <td>34274</td>\n",
       "      <td>34571</td>\n",
       "      <td>(1851)</td>\n",
       "      <td>C</td>\n",
       "      <td>AluY</td>\n",
       "      <td>SINE/Alu</td>\n",
       "      <td>(11)</td>\n",
       "      <td>300</td>\n",
       "      <td>1</td>\n",
       "      <td>4562662.0</td>\n",
       "    </tr>\n",
       "    <tr>\n",
       "      <th>5467452</th>\n",
       "      <td>10304</td>\n",
       "      <td>12.3</td>\n",
       "      <td>4.4</td>\n",
       "      <td>4.5</td>\n",
       "      <td>chrUn_gl000247</td>\n",
       "      <td>34572</td>\n",
       "      <td>34621</td>\n",
       "      <td>(1801)</td>\n",
       "      <td>+</td>\n",
       "      <td>MER57-int</td>\n",
       "      <td>LTR/ERV1</td>\n",
       "      <td>4915</td>\n",
       "      <td>4954</td>\n",
       "      <td>(2583)</td>\n",
       "      <td>4562661.0</td>\n",
       "    </tr>\n",
       "    <tr>\n",
       "      <th>5467453</th>\n",
       "      <td>2081</td>\n",
       "      <td>13.1</td>\n",
       "      <td>0.3</td>\n",
       "      <td>0.0</td>\n",
       "      <td>chrUn_gl000247</td>\n",
       "      <td>34622</td>\n",
       "      <td>34912</td>\n",
       "      <td>(1510)</td>\n",
       "      <td>C</td>\n",
       "      <td>AluSq2</td>\n",
       "      <td>SINE/Alu</td>\n",
       "      <td>(17)</td>\n",
       "      <td>296</td>\n",
       "      <td>5</td>\n",
       "      <td>4562663.0</td>\n",
       "    </tr>\n",
       "    <tr>\n",
       "      <th>5467454</th>\n",
       "      <td>10304</td>\n",
       "      <td>12.3</td>\n",
       "      <td>4.4</td>\n",
       "      <td>4.5</td>\n",
       "      <td>chrUn_gl000247</td>\n",
       "      <td>34913</td>\n",
       "      <td>35213</td>\n",
       "      <td>(1209)</td>\n",
       "      <td>+</td>\n",
       "      <td>MER57-int</td>\n",
       "      <td>LTR/ERV1</td>\n",
       "      <td>4955</td>\n",
       "      <td>5218</td>\n",
       "      <td>(2319)</td>\n",
       "      <td>4562661.0</td>\n",
       "    </tr>\n",
       "    <tr>\n",
       "      <th>5467455</th>\n",
       "      <td>2355</td>\n",
       "      <td>10.6</td>\n",
       "      <td>0.7</td>\n",
       "      <td>0.0</td>\n",
       "      <td>chrUn_gl000247</td>\n",
       "      <td>35214</td>\n",
       "      <td>35516</td>\n",
       "      <td>(906)</td>\n",
       "      <td>+</td>\n",
       "      <td>AluSz</td>\n",
       "      <td>SINE/Alu</td>\n",
       "      <td>1</td>\n",
       "      <td>305</td>\n",
       "      <td>(7)</td>\n",
       "      <td>4562664.0</td>\n",
       "    </tr>\n",
       "    <tr>\n",
       "      <th>5467456</th>\n",
       "      <td>10304</td>\n",
       "      <td>12.3</td>\n",
       "      <td>4.4</td>\n",
       "      <td>4.5</td>\n",
       "      <td>chrUn_gl000247</td>\n",
       "      <td>35517</td>\n",
       "      <td>36422</td>\n",
       "      <td>(0)</td>\n",
       "      <td>+</td>\n",
       "      <td>MER57-int</td>\n",
       "      <td>LTR/ERV1</td>\n",
       "      <td>5219</td>\n",
       "      <td>6139</td>\n",
       "      <td>(1398)</td>\n",
       "      <td>4562661.0</td>\n",
       "    </tr>\n",
       "  </tbody>\n",
       "</table>\n",
       "<p>5467457 rows × 15 columns</p>\n",
       "</div>"
      ],
      "text/plain": [
       "            0     1     2     3               4      5      6            7   \\\n",
       "0          463   1.3   0.6   1.7            chr1  10001  10468  (249240153)   \n",
       "1         3612  11.4  21.5   1.3            chr1  10469  11447  (249239174)   \n",
       "2          484  25.1  13.2   0.0            chr1  11505  11675  (249238946)   \n",
       "3          239  29.4   1.9   1.0            chr1  11678  11780  (249238841)   \n",
       "4          318  23.0   3.7   0.0            chr1  15265  15355  (249235266)   \n",
       "5           18  23.2   0.0   2.0            chr1  15798  15849  (249234772)   \n",
       "6           18  13.7   0.0   0.0            chr1  16713  16744  (249233877)   \n",
       "7          239  33.8  12.9   0.0            chr1  18907  19048  (249231573)   \n",
       "8          994  31.2   6.0   2.5            chr1  19972  20405  (249230216)   \n",
       "9          270  33.1   0.7   2.7            chr1  20531  20679  (249229942)   \n",
       "10         254  27.9   4.7   3.9            chr1  21949  22075  (249228546)   \n",
       "11         787  28.2   3.8   0.3            chr1  23120  23371  (249227250)   \n",
       "12         249  28.4  17.6   4.3            chr1  23804  23824  (249226797)   \n",
       "13         312  29.7  18.1   1.1            chr1  23825  24011  (249226610)   \n",
       "14         249  28.4  17.6   4.3            chr1  24012  24038  (249226583)   \n",
       "15         413  24.2  24.1   1.2            chr1  24088  24250  (249226371)   \n",
       "16         299  30.6   2.3  12.4            chr1  24255  24448  (249226173)   \n",
       "17         224  16.6   4.9   4.0            chr1  26356  26412  (249224209)   \n",
       "18         241  30.3  18.6   3.1            chr1  26583  26790  (249223831)   \n",
       "19        2070   9.5   0.4   0.0            chr1  26791  27053  (249223568)   \n",
       "20         241  30.3  18.6   3.1            chr1  27054  27137  (249223484)   \n",
       "21        1300  14.6   6.4   0.1            chr1  27269  27518  (249223103)   \n",
       "22         275  33.6   8.6   2.0            chr1  27833  28014  (249222607)   \n",
       "23         304  32.0   5.8   3.3            chr1  28151  28302  (249222319)   \n",
       "24          12  15.7   4.2   6.4            chr1  29745  29792  (249220829)   \n",
       "25        1323  19.9   2.7   2.0            chr1  29902  30198  (249220423)   \n",
       "26         979  14.4   3.1   1.6            chr1  30343  30532  (249220089)   \n",
       "27         741  18.7   4.3   0.0            chr1  30694  30848  (249219773)   \n",
       "28          55  13.1   0.0   3.2            chr1  30855  30952  (249219669)   \n",
       "29         741  24.9   0.0   1.1            chr1  30953  31131  (249219490)   \n",
       "...        ...   ...   ...   ...             ...    ...    ...          ...   \n",
       "5467427   4500  23.5  16.4   5.1  chrUn_gl000247  22643  23447      (12975)   \n",
       "5467428   1185  15.8   9.9   0.0  chrUn_gl000247  23448  23656      (12766)   \n",
       "5467429   4500  23.5  16.4   5.1  chrUn_gl000247  23657  23718      (12704)   \n",
       "5467430     13  22.8   0.0   0.0  chrUn_gl000247  23930  23965      (12457)   \n",
       "5467431   1378  20.1  17.2   3.5  chrUn_gl000247  24750  25175      (11247)   \n",
       "5467432     44   3.4   4.8   1.6  chrUn_gl000247  25176  25237      (11185)   \n",
       "5467433   1378  24.6  14.8   1.1  chrUn_gl000247  25238  25560      (10862)   \n",
       "5467434    743  22.9   7.1   1.8  chrUn_gl000247  25582  25592      (10830)   \n",
       "5467435   1717  17.5   0.7   1.7  chrUn_gl000247  25593  25883      (10539)   \n",
       "5467436    743  22.9   7.1   1.8  chrUn_gl000247  25884  25994      (10428)   \n",
       "5467437   1786  19.8   0.7   0.0  chrUn_gl000247  25995  26302      (10120)   \n",
       "5467438   1047  26.1  10.8   4.4  chrUn_gl000247  26303  27079       (9343)   \n",
       "5467439    258  33.8   9.3   0.0  chrUn_gl000247  27109  27244       (9178)   \n",
       "5467440    323  22.8  15.3   5.4  chrUn_gl000247  27408  27611       (8811)   \n",
       "5467441    490  32.5   5.3   7.2  chrUn_gl000247  27617  28017       (8405)   \n",
       "5467442     20  21.1   0.0   0.0  chrUn_gl000247  28041  28079       (8343)   \n",
       "5467443    423  20.2   9.5   3.9  chrUn_gl000247  28553  28681       (7741)   \n",
       "5467444    756  27.5  15.1   8.0  chrUn_gl000247  28681  29187       (7235)   \n",
       "5467445   2314  10.7   0.7   0.0  chrUn_gl000247  29913  30220       (6202)   \n",
       "5467446   2386  15.0   1.2  10.5  chrUn_gl000247  30616  31092       (5330)   \n",
       "5467447   4234  20.4   5.7   2.0  chrUn_gl000247  31277  32485       (3937)   \n",
       "5467448   4199  13.4   3.5   3.6  chrUn_gl000247  32486  33402       (3020)   \n",
       "5467449   2189  12.6   0.3   0.3  chrUn_gl000247  33431  33739       (2683)   \n",
       "5467450  10304  12.3   4.4   4.5  chrUn_gl000247  33742  34273       (2149)   \n",
       "5467451   2226  11.1   0.7   0.0  chrUn_gl000247  34274  34571       (1851)   \n",
       "5467452  10304  12.3   4.4   4.5  chrUn_gl000247  34572  34621       (1801)   \n",
       "5467453   2081  13.1   0.3   0.0  chrUn_gl000247  34622  34912       (1510)   \n",
       "5467454  10304  12.3   4.4   4.5  chrUn_gl000247  34913  35213       (1209)   \n",
       "5467455   2355  10.6   0.7   0.0  chrUn_gl000247  35214  35516        (906)   \n",
       "5467456  10304  12.3   4.4   4.5  chrUn_gl000247  35517  36422          (0)   \n",
       "\n",
       "        8           9                 10      11    12      13         14  \n",
       "0        +   (TAACCC)n     Simple_repeat       1   463     (0)        1.0  \n",
       "1        C        TAR1    Satellite/telo   (399)  1712     483        2.0  \n",
       "2        C      L1MC5a           LINE/L1  (2382)  5648    5452        3.0  \n",
       "3        C       MER5B   DNA/hAT-Charlie    (74)   104       1        4.0  \n",
       "4        C        MIR3          SINE/MIR   (119)   143      49        5.0  \n",
       "5        +   (TGCTCC)n     Simple_repeat       1    51     (0)        6.0  \n",
       "6        +      (TGG)n     Simple_repeat       1    32     (0)        7.0  \n",
       "7        +         L2a           LINE/L2    2942  3104   (322)        8.0  \n",
       "8        +          L3          LINE/CR1    2680  3129   (970)        9.0  \n",
       "9        +     Plat_L3          LINE/CR1    2802  2947   (639)       10.0  \n",
       "10       +       MLT1K     LTR/ERVL-MaLR      15   142   (453)       11.0  \n",
       "11       C         MIR          SINE/MIR     (6)   262       4       12.0  \n",
       "12       +         L2a           LINE/L2    2940  3051   (336)       13.0  \n",
       "13       +         L2b           LINE/L2    2955  3180   (195)       14.0  \n",
       "14       +         L2a           LINE/L2    3052  3212   (175)       13.0  \n",
       "15       +         MIR          SINE/MIR      49   260     (2)       15.0  \n",
       "16       +         L2a           LINE/L2    3213  3453    (11)       13.0  \n",
       "17       +    MIR1_Amn          SINE/MIR     102   161    (69)       16.0  \n",
       "18       C         L2c           LINE/L2    (14)  3373    3116       17.0  \n",
       "19       +       AluSp          SINE/Alu       1   264    (49)       18.0  \n",
       "20       C         L2c           LINE/L2   (272)  3115    3026       17.0  \n",
       "21       +       MER33   DNA/hAT-Charlie       1   254    (70)       19.0  \n",
       "22       C        MIRb          SINE/MIR    (70)   198       1       20.0  \n",
       "23       C         MIR          SINE/MIR     (8)   254      99       21.0  \n",
       "24       +   (ACGCCC)n     Simple_repeat       1    47     (0)       22.0  \n",
       "25       +       L1MB3           LINE/L1    5883  6181     (2)       23.0  \n",
       "26       C       MER53           DNA/hAT     (0)   193       1       24.0  \n",
       "27       +       MLT1A     LTR/ERVL-MaLR       1   162   (212)       25.0  \n",
       "28       +       (TC)n     Simple_repeat       1    95     (0)       26.0  \n",
       "29       +       MLT1A     LTR/ERVL-MaLR     173   349    (25)       25.0  \n",
       "...     ..         ...               ...     ...   ...     ...        ...  \n",
       "5467427  +       L1MCa           LINE/L1    4554  5402   (919)  4562631.0  \n",
       "5467428  C    Tigger4a  DNA/TcMar-Tigger     (3)   233       2  4562648.0  \n",
       "5467429  +       L1MCa           LINE/L1    5403  5460   (861)  4562631.0  \n",
       "5467430  +      A-rich    Low_complexity       1    36     (0)  4562649.0  \n",
       "5467431  +       L1MB3           LINE/L1    5281  5792   (391)  4562650.0  \n",
       "5467432  +       (AT)n     Simple_repeat       1    64     (0)  4562651.0  \n",
       "5467433  +       L1MB3           LINE/L1    5792  6174     (6)  4562650.0  \n",
       "5467434  +       L1MEf           LINE/L1    1963  1972  (4270)  4562652.0  \n",
       "5467435  C       AluJb          SINE/Alu    (24)   288       1  4562653.0  \n",
       "5467436  +       L1MEf           LINE/L1    1973  2086  (4156)  4562652.0  \n",
       "5467437  +      AluSz6          SINE/Alu       1   310     (2)  4562654.0  \n",
       "5467438  +       L1MEf           LINE/L1    2087  2933  (3213)  4562652.0  \n",
       "5467439  +      MLT1H1     LTR/ERVL-MaLR       5   154   (401)  4562655.0  \n",
       "5467440  +      MLT1H1     LTR/ERVL-MaLR     352   579     (0)  4562655.0  \n",
       "5467441  +  MLT1H1-int     LTR/ERVL-MaLR       6   398  (1011)  4562655.0  \n",
       "5467442  +      A-rich    Low_complexity       1    39     (0)  4562656.0  \n",
       "5467443  +  MLT1H1-int     LTR/ERVL-MaLR    1273  1409     (0)  4562655.0  \n",
       "5467444  +      MLT1H1     LTR/ERVL-MaLR       1   594     (1)  4562655.0  \n",
       "5467445  +       AluSp          SINE/Alu       1   310     (3)  4562657.0  \n",
       "5467446  +     MER57A1          LTR/ERV1       1   432     (0)  4562658.0  \n",
       "5467447  +      MER52A          LTR/ERV1     502  1755     (0)  4562659.0  \n",
       "5467448  +   MER57-int          LTR/ERV1      88  1004  (4942)  4562658.0  \n",
       "5467449  +       AluSp          SINE/Alu       1   309     (4)  4562660.0  \n",
       "5467450  +   MER57-int          LTR/ERV1    4349  4914  (2623)  4562661.0  \n",
       "5467451  C        AluY          SINE/Alu    (11)   300       1  4562662.0  \n",
       "5467452  +   MER57-int          LTR/ERV1    4915  4954  (2583)  4562661.0  \n",
       "5467453  C      AluSq2          SINE/Alu    (17)   296       5  4562663.0  \n",
       "5467454  +   MER57-int          LTR/ERV1    4955  5218  (2319)  4562661.0  \n",
       "5467455  +       AluSz          SINE/Alu       1   305     (7)  4562664.0  \n",
       "5467456  +   MER57-int          LTR/ERV1    5219  6139  (1398)  4562661.0  \n",
       "\n",
       "[5467457 rows x 15 columns]"
      ]
     },
     "execution_count": 26,
     "metadata": {},
     "output_type": "execute_result"
    }
   ],
   "source": [
    "repeat_df"
   ]
  },
  {
   "cell_type": "code",
   "execution_count": 27,
   "metadata": {
    "collapsed": false
   },
   "outputs": [],
   "source": [
    "repeat_df.columns = ['SW_score', 'perc_div', 'perc_del', 'perc_ins', 'query_sequence', \n",
    "                     'pos_in_query_begin', 'pos_in_query_end', 'pos_in_query_left', 'match_with_seq', \n",
    "                     'matching_repeat', 'repeat_class_family', \n",
    "                     'pos_in_repeat_begin', 'pos_in_repeat_end', 'pos_in_repeat_left', 'ID']"
   ]
  },
  {
   "cell_type": "code",
   "execution_count": 115,
   "metadata": {
    "collapsed": false
   },
   "outputs": [],
   "source": [
    "nan_IDs = repeat_df.isnull().query(\"ID == True\").index.values\n",
    "#1364311\n",
    "#1495373"
   ]
  },
  {
   "cell_type": "code",
   "execution_count": 123,
   "metadata": {
    "collapsed": false
   },
   "outputs": [
    {
     "data": {
      "text/plain": [
       "2"
      ]
     },
     "execution_count": 123,
     "metadata": {},
     "output_type": "execute_result"
    }
   ],
   "source": [
    "nan_IDs.size"
   ]
  },
  {
   "cell_type": "code",
   "execution_count": 117,
   "metadata": {
    "collapsed": false
   },
   "outputs": [
    {
     "data": {
      "text/plain": [
       "4562664.0"
      ]
     },
     "execution_count": 117,
     "metadata": {},
     "output_type": "execute_result"
    }
   ],
   "source": [
    "max(repeat_df.ID)"
   ]
  },
  {
   "cell_type": "code",
   "execution_count": 118,
   "metadata": {
    "collapsed": false
   },
   "outputs": [
    {
     "name": "stdout",
     "output_type": "stream",
     "text": [
      "1364311\n",
      "1495373\n"
     ]
    }
   ],
   "source": [
    "\n",
    "\n",
    "for el in nan_IDs:\n",
    "    new_id = max(repeat_df.ID) + 1\n",
    "    repeat_df.set_value(el, 'ID', new_id)\n",
    "    print(el)"
   ]
  },
  {
   "cell_type": "code",
   "execution_count": 121,
   "metadata": {
    "collapsed": false
   },
   "outputs": [],
   "source": [
    "repeat_df['ID'] = repeat_df.ID.astype(int).astype(str)"
   ]
  },
  {
   "cell_type": "code",
   "execution_count": 124,
   "metadata": {
    "collapsed": false
   },
   "outputs": [
    {
     "data": {
      "text/html": [
       "<div>\n",
       "<table border=\"1\" class=\"dataframe\">\n",
       "  <thead>\n",
       "    <tr style=\"text-align: right;\">\n",
       "      <th></th>\n",
       "      <th>SW_score</th>\n",
       "      <th>perc_div</th>\n",
       "      <th>perc_del</th>\n",
       "      <th>perc_ins</th>\n",
       "      <th>query_sequence</th>\n",
       "      <th>pos_in_query_begin</th>\n",
       "      <th>pos_in_query_end</th>\n",
       "      <th>pos_in_query_left</th>\n",
       "      <th>match_with_seq</th>\n",
       "      <th>matching_repeat</th>\n",
       "      <th>repeat_class_family</th>\n",
       "      <th>pos_in_repeat_begin</th>\n",
       "      <th>pos_in_repeat_end</th>\n",
       "      <th>pos_in_repeat_left</th>\n",
       "      <th>ID</th>\n",
       "    </tr>\n",
       "  </thead>\n",
       "  <tbody>\n",
       "    <tr>\n",
       "      <th>0</th>\n",
       "      <td>463</td>\n",
       "      <td>1.3</td>\n",
       "      <td>0.6</td>\n",
       "      <td>1.7</td>\n",
       "      <td>chr1</td>\n",
       "      <td>10001</td>\n",
       "      <td>10468</td>\n",
       "      <td>(249240153)</td>\n",
       "      <td>+</td>\n",
       "      <td>(TAACCC)n</td>\n",
       "      <td>Simple_repeat</td>\n",
       "      <td>1</td>\n",
       "      <td>463</td>\n",
       "      <td>(0)</td>\n",
       "      <td>1</td>\n",
       "    </tr>\n",
       "    <tr>\n",
       "      <th>1</th>\n",
       "      <td>3612</td>\n",
       "      <td>11.4</td>\n",
       "      <td>21.5</td>\n",
       "      <td>1.3</td>\n",
       "      <td>chr1</td>\n",
       "      <td>10469</td>\n",
       "      <td>11447</td>\n",
       "      <td>(249239174)</td>\n",
       "      <td>C</td>\n",
       "      <td>TAR1</td>\n",
       "      <td>Satellite/telo</td>\n",
       "      <td>(399)</td>\n",
       "      <td>1712</td>\n",
       "      <td>483</td>\n",
       "      <td>2</td>\n",
       "    </tr>\n",
       "    <tr>\n",
       "      <th>2</th>\n",
       "      <td>484</td>\n",
       "      <td>25.1</td>\n",
       "      <td>13.2</td>\n",
       "      <td>0.0</td>\n",
       "      <td>chr1</td>\n",
       "      <td>11505</td>\n",
       "      <td>11675</td>\n",
       "      <td>(249238946)</td>\n",
       "      <td>C</td>\n",
       "      <td>L1MC5a</td>\n",
       "      <td>LINE/L1</td>\n",
       "      <td>(2382)</td>\n",
       "      <td>5648</td>\n",
       "      <td>5452</td>\n",
       "      <td>3</td>\n",
       "    </tr>\n",
       "    <tr>\n",
       "      <th>3</th>\n",
       "      <td>239</td>\n",
       "      <td>29.4</td>\n",
       "      <td>1.9</td>\n",
       "      <td>1.0</td>\n",
       "      <td>chr1</td>\n",
       "      <td>11678</td>\n",
       "      <td>11780</td>\n",
       "      <td>(249238841)</td>\n",
       "      <td>C</td>\n",
       "      <td>MER5B</td>\n",
       "      <td>DNA/hAT-Charlie</td>\n",
       "      <td>(74)</td>\n",
       "      <td>104</td>\n",
       "      <td>1</td>\n",
       "      <td>4</td>\n",
       "    </tr>\n",
       "    <tr>\n",
       "      <th>4</th>\n",
       "      <td>318</td>\n",
       "      <td>23.0</td>\n",
       "      <td>3.7</td>\n",
       "      <td>0.0</td>\n",
       "      <td>chr1</td>\n",
       "      <td>15265</td>\n",
       "      <td>15355</td>\n",
       "      <td>(249235266)</td>\n",
       "      <td>C</td>\n",
       "      <td>MIR3</td>\n",
       "      <td>SINE/MIR</td>\n",
       "      <td>(119)</td>\n",
       "      <td>143</td>\n",
       "      <td>49</td>\n",
       "      <td>5</td>\n",
       "    </tr>\n",
       "  </tbody>\n",
       "</table>\n",
       "</div>"
      ],
      "text/plain": [
       "   SW_score  perc_div  perc_del  perc_ins query_sequence  pos_in_query_begin  \\\n",
       "0       463       1.3       0.6       1.7           chr1               10001   \n",
       "1      3612      11.4      21.5       1.3           chr1               10469   \n",
       "2       484      25.1      13.2       0.0           chr1               11505   \n",
       "3       239      29.4       1.9       1.0           chr1               11678   \n",
       "4       318      23.0       3.7       0.0           chr1               15265   \n",
       "\n",
       "   pos_in_query_end pos_in_query_left match_with_seq matching_repeat  \\\n",
       "0             10468       (249240153)              +       (TAACCC)n   \n",
       "1             11447       (249239174)              C            TAR1   \n",
       "2             11675       (249238946)              C          L1MC5a   \n",
       "3             11780       (249238841)              C           MER5B   \n",
       "4             15355       (249235266)              C            MIR3   \n",
       "\n",
       "  repeat_class_family pos_in_repeat_begin  pos_in_repeat_end  \\\n",
       "0       Simple_repeat                   1                463   \n",
       "1      Satellite/telo               (399)               1712   \n",
       "2             LINE/L1              (2382)               5648   \n",
       "3     DNA/hAT-Charlie                (74)                104   \n",
       "4            SINE/MIR               (119)                143   \n",
       "\n",
       "  pos_in_repeat_left ID  \n",
       "0                (0)  1  \n",
       "1                483  2  \n",
       "2               5452  3  \n",
       "3                  1  4  \n",
       "4                 49  5  "
      ]
     },
     "execution_count": 124,
     "metadata": {},
     "output_type": "execute_result"
    }
   ],
   "source": [
    "repeat_df.head()"
   ]
  },
  {
   "cell_type": "code",
   "execution_count": 125,
   "metadata": {
    "collapsed": false
   },
   "outputs": [
    {
     "data": {
      "text/plain": [
       "array(['chr1', 'chr2', 'chr3', 'chr4', 'chr5', 'chr6', 'chr7', 'chrX',\n",
       "       'chr8', 'chr9', 'chr10', 'chr11', 'chr12', 'chr13', 'chr14',\n",
       "       'chr15', 'chr16', 'chr17', 'chr18', 'chr20', 'chrY', 'chr19',\n",
       "       'chr22', 'chr21', 'chr6_ssto_hap7', 'chr6_mcf_hap5',\n",
       "       'chr6_cox_hap2', 'chr6_mann_hap4', 'chr6_apd_hap1', 'chr6_qbl_hap6',\n",
       "       'chr6_dbb_hap3', 'chr17_ctg5_hap1', 'chr4_ctg9_hap1',\n",
       "       'chr1_gl000192_random', 'chr4_gl000194_random', 'chrUn_gl000225',\n",
       "       'chr4_gl000193_random', 'chr9_gl000200_random', 'chrUn_gl000212',\n",
       "       'chrUn_gl000222', 'chr7_gl000195_random', 'chrUn_gl000223',\n",
       "       'chrUn_gl000219', 'chrUn_gl000224', 'chr17_gl000205_random',\n",
       "       'chrUn_gl000215', 'chrUn_gl000216', 'chrUn_gl000217',\n",
       "       'chr9_gl000199_random', 'chrUn_gl000211', 'chrUn_gl000213',\n",
       "       'chrUn_gl000218', 'chrUn_gl000220', 'chr19_gl000209_random',\n",
       "       'chrUn_gl000214', 'chrUn_gl000221', 'chr19_gl000208_random',\n",
       "       'chr1_gl000191_random', 'chrUn_gl000227', 'chrUn_gl000228',\n",
       "       'chr17_gl000204_random', 'chr9_gl000198_random', 'chrUn_gl000230',\n",
       "       'chrUn_gl000233', 'chrUn_gl000236', 'chrUn_gl000237',\n",
       "       'chrUn_gl000241', 'chrUn_gl000242', 'chrUn_gl000243',\n",
       "       'chr11_gl000202_random', 'chr17_gl000203_random',\n",
       "       'chr17_gl000206_random', 'chr8_gl000196_random', 'chrUn_gl000232',\n",
       "       'chrUn_gl000234', 'chrUn_gl000238', 'chrUn_gl000240',\n",
       "       'chrUn_gl000244', 'chrUn_gl000246', 'chrUn_gl000248',\n",
       "       'chrUn_gl000249', 'chr18_gl000207_random', 'chr21_gl000210_random',\n",
       "       'chr8_gl000197_random', 'chr9_gl000201_random', 'chrM',\n",
       "       'chrUn_gl000226', 'chrUn_gl000229', 'chrUn_gl000231',\n",
       "       'chrUn_gl000235', 'chrUn_gl000239', 'chrUn_gl000245',\n",
       "       'chrUn_gl000247'], dtype=object)"
      ]
     },
     "execution_count": 125,
     "metadata": {},
     "output_type": "execute_result"
    }
   ],
   "source": [
    "repeat_df['query_sequence'].unique()"
   ]
  },
  {
   "cell_type": "code",
   "execution_count": 126,
   "metadata": {
    "collapsed": false
   },
   "outputs": [],
   "source": [
    "chrom_list = ['chr1', 'chr2', 'chr3', 'chr4', 'chr5', 'chr6', 'chr7', 'chrX',\n",
    "       'chr8', 'chr9', 'chr10', 'chr11', 'chr12', 'chr13', 'chr14',\n",
    "       'chr15', 'chr16', 'chr17', 'chr18', 'chr20', 'chrY', 'chr19',\n",
    "       'chr22', 'chr21']\n",
    "repeat_filtered_df = repeat_df.query(\"query_sequence in @chrom_list\")"
   ]
  },
  {
   "cell_type": "code",
   "execution_count": 127,
   "metadata": {
    "collapsed": false
   },
   "outputs": [
    {
     "data": {
      "text/html": [
       "<div>\n",
       "<table border=\"1\" class=\"dataframe\">\n",
       "  <thead>\n",
       "    <tr>\n",
       "      <th></th>\n",
       "      <th>ID</th>\n",
       "    </tr>\n",
       "    <tr>\n",
       "      <th></th>\n",
       "      <th>count</th>\n",
       "    </tr>\n",
       "    <tr>\n",
       "      <th>query_sequence</th>\n",
       "      <th></th>\n",
       "    </tr>\n",
       "  </thead>\n",
       "  <tbody>\n",
       "    <tr>\n",
       "      <th>chr1</th>\n",
       "      <td>450101</td>\n",
       "    </tr>\n",
       "    <tr>\n",
       "      <th>chr10</th>\n",
       "      <td>245260</td>\n",
       "    </tr>\n",
       "    <tr>\n",
       "      <th>chr11</th>\n",
       "      <td>249829</td>\n",
       "    </tr>\n",
       "    <tr>\n",
       "      <th>chr12</th>\n",
       "      <td>258926</td>\n",
       "    </tr>\n",
       "    <tr>\n",
       "      <th>chr13</th>\n",
       "      <td>164806</td>\n",
       "    </tr>\n",
       "    <tr>\n",
       "      <th>chr14</th>\n",
       "      <td>165690</td>\n",
       "    </tr>\n",
       "    <tr>\n",
       "      <th>chr15</th>\n",
       "      <td>159267</td>\n",
       "    </tr>\n",
       "    <tr>\n",
       "      <th>chr16</th>\n",
       "      <td>175256</td>\n",
       "    </tr>\n",
       "    <tr>\n",
       "      <th>chr17</th>\n",
       "      <td>170626</td>\n",
       "    </tr>\n",
       "    <tr>\n",
       "      <th>chr18</th>\n",
       "      <td>131164</td>\n",
       "    </tr>\n",
       "    <tr>\n",
       "      <th>chr19</th>\n",
       "      <td>136018</td>\n",
       "    </tr>\n",
       "    <tr>\n",
       "      <th>chr2</th>\n",
       "      <td>429496</td>\n",
       "    </tr>\n",
       "    <tr>\n",
       "      <th>chr20</th>\n",
       "      <td>127979</td>\n",
       "    </tr>\n",
       "    <tr>\n",
       "      <th>chr21</th>\n",
       "      <td>61307</td>\n",
       "    </tr>\n",
       "    <tr>\n",
       "      <th>chr22</th>\n",
       "      <td>77518</td>\n",
       "    </tr>\n",
       "    <tr>\n",
       "      <th>chr3</th>\n",
       "      <td>360010</td>\n",
       "    </tr>\n",
       "    <tr>\n",
       "      <th>chr4</th>\n",
       "      <td>326671</td>\n",
       "    </tr>\n",
       "    <tr>\n",
       "      <th>chr5</th>\n",
       "      <td>317245</td>\n",
       "    </tr>\n",
       "    <tr>\n",
       "      <th>chr6</th>\n",
       "      <td>296327</td>\n",
       "    </tr>\n",
       "    <tr>\n",
       "      <th>chr7</th>\n",
       "      <td>288093</td>\n",
       "    </tr>\n",
       "    <tr>\n",
       "      <th>chr8</th>\n",
       "      <td>261252</td>\n",
       "    </tr>\n",
       "    <tr>\n",
       "      <th>chr9</th>\n",
       "      <td>230855</td>\n",
       "    </tr>\n",
       "    <tr>\n",
       "      <th>chrX</th>\n",
       "      <td>274738</td>\n",
       "    </tr>\n",
       "    <tr>\n",
       "      <th>chrY</th>\n",
       "      <td>40999</td>\n",
       "    </tr>\n",
       "  </tbody>\n",
       "</table>\n",
       "</div>"
      ],
      "text/plain": [
       "                    ID\n",
       "                 count\n",
       "query_sequence        \n",
       "chr1            450101\n",
       "chr10           245260\n",
       "chr11           249829\n",
       "chr12           258926\n",
       "chr13           164806\n",
       "chr14           165690\n",
       "chr15           159267\n",
       "chr16           175256\n",
       "chr17           170626\n",
       "chr18           131164\n",
       "chr19           136018\n",
       "chr2            429496\n",
       "chr20           127979\n",
       "chr21            61307\n",
       "chr22            77518\n",
       "chr3            360010\n",
       "chr4            326671\n",
       "chr5            317245\n",
       "chr6            296327\n",
       "chr7            288093\n",
       "chr8            261252\n",
       "chr9            230855\n",
       "chrX            274738\n",
       "chrY             40999"
      ]
     },
     "execution_count": 127,
     "metadata": {},
     "output_type": "execute_result"
    }
   ],
   "source": [
    "repeat_filtered_df[['query_sequence', 'ID']].groupby(\n",
    "    ['query_sequence']).agg(['count'])"
   ]
  },
  {
   "cell_type": "code",
   "execution_count": 128,
   "metadata": {
    "collapsed": false
   },
   "outputs": [
    {
     "data": {
      "text/html": [
       "<div>\n",
       "<table border=\"1\" class=\"dataframe\">\n",
       "  <thead>\n",
       "    <tr>\n",
       "      <th></th>\n",
       "      <th>query_sequence</th>\n",
       "      <th>matching_repeat</th>\n",
       "      <th>ID</th>\n",
       "    </tr>\n",
       "    <tr>\n",
       "      <th></th>\n",
       "      <th>count</th>\n",
       "      <th>count</th>\n",
       "      <th>count</th>\n",
       "    </tr>\n",
       "    <tr>\n",
       "      <th>repeat_class_family</th>\n",
       "      <th></th>\n",
       "      <th></th>\n",
       "      <th></th>\n",
       "    </tr>\n",
       "  </thead>\n",
       "  <tbody>\n",
       "    <tr>\n",
       "      <th>DNA</th>\n",
       "      <td>6481</td>\n",
       "      <td>6481</td>\n",
       "      <td>6481</td>\n",
       "    </tr>\n",
       "    <tr>\n",
       "      <th>DNA/Kolobok</th>\n",
       "      <td>232</td>\n",
       "      <td>232</td>\n",
       "      <td>232</td>\n",
       "    </tr>\n",
       "    <tr>\n",
       "      <th>DNA/MULE-MuDR</th>\n",
       "      <td>1936</td>\n",
       "      <td>1936</td>\n",
       "      <td>1936</td>\n",
       "    </tr>\n",
       "    <tr>\n",
       "      <th>DNA/Merlin</th>\n",
       "      <td>57</td>\n",
       "      <td>57</td>\n",
       "      <td>57</td>\n",
       "    </tr>\n",
       "    <tr>\n",
       "      <th>DNA/PIF-Harbinger</th>\n",
       "      <td>30</td>\n",
       "      <td>30</td>\n",
       "      <td>30</td>\n",
       "    </tr>\n",
       "    <tr>\n",
       "      <th>DNA/PiggyBac</th>\n",
       "      <td>2109</td>\n",
       "      <td>2109</td>\n",
       "      <td>2109</td>\n",
       "    </tr>\n",
       "    <tr>\n",
       "      <th>DNA/TcMar</th>\n",
       "      <td>1812</td>\n",
       "      <td>1812</td>\n",
       "      <td>1812</td>\n",
       "    </tr>\n",
       "    <tr>\n",
       "      <th>DNA/TcMar-Mariner</th>\n",
       "      <td>16308</td>\n",
       "      <td>16308</td>\n",
       "      <td>16308</td>\n",
       "    </tr>\n",
       "    <tr>\n",
       "      <th>DNA/TcMar-Pogo</th>\n",
       "      <td>37</td>\n",
       "      <td>37</td>\n",
       "      <td>37</td>\n",
       "    </tr>\n",
       "    <tr>\n",
       "      <th>DNA/TcMar-Tc1</th>\n",
       "      <td>644</td>\n",
       "      <td>644</td>\n",
       "      <td>644</td>\n",
       "    </tr>\n",
       "    <tr>\n",
       "      <th>DNA/TcMar-Tc2</th>\n",
       "      <td>8094</td>\n",
       "      <td>8094</td>\n",
       "      <td>8094</td>\n",
       "    </tr>\n",
       "    <tr>\n",
       "      <th>DNA/TcMar-Tigger</th>\n",
       "      <td>124416</td>\n",
       "      <td>124416</td>\n",
       "      <td>124416</td>\n",
       "    </tr>\n",
       "    <tr>\n",
       "      <th>DNA/TcMar?</th>\n",
       "      <td>167</td>\n",
       "      <td>167</td>\n",
       "      <td>167</td>\n",
       "    </tr>\n",
       "    <tr>\n",
       "      <th>DNA/hAT</th>\n",
       "      <td>8796</td>\n",
       "      <td>8796</td>\n",
       "      <td>8796</td>\n",
       "    </tr>\n",
       "    <tr>\n",
       "      <th>DNA/hAT-Ac</th>\n",
       "      <td>5478</td>\n",
       "      <td>5478</td>\n",
       "      <td>5478</td>\n",
       "    </tr>\n",
       "    <tr>\n",
       "      <th>DNA/hAT-Blackjack</th>\n",
       "      <td>19571</td>\n",
       "      <td>19571</td>\n",
       "      <td>19571</td>\n",
       "    </tr>\n",
       "    <tr>\n",
       "      <th>DNA/hAT-Charlie</th>\n",
       "      <td>263295</td>\n",
       "      <td>263295</td>\n",
       "      <td>263295</td>\n",
       "    </tr>\n",
       "    <tr>\n",
       "      <th>DNA/hAT-Tag1</th>\n",
       "      <td>2294</td>\n",
       "      <td>2294</td>\n",
       "      <td>2294</td>\n",
       "    </tr>\n",
       "    <tr>\n",
       "      <th>DNA/hAT-Tip100</th>\n",
       "      <td>53071</td>\n",
       "      <td>53071</td>\n",
       "      <td>53071</td>\n",
       "    </tr>\n",
       "    <tr>\n",
       "      <th>DNA/hAT-Tip100?</th>\n",
       "      <td>2382</td>\n",
       "      <td>2382</td>\n",
       "      <td>2382</td>\n",
       "    </tr>\n",
       "    <tr>\n",
       "      <th>DNA/hAT?</th>\n",
       "      <td>2047</td>\n",
       "      <td>2047</td>\n",
       "      <td>2047</td>\n",
       "    </tr>\n",
       "    <tr>\n",
       "      <th>DNA?</th>\n",
       "      <td>3493</td>\n",
       "      <td>3493</td>\n",
       "      <td>3493</td>\n",
       "    </tr>\n",
       "    <tr>\n",
       "      <th>DNA?/PiggyBac?</th>\n",
       "      <td>294</td>\n",
       "      <td>294</td>\n",
       "      <td>294</td>\n",
       "    </tr>\n",
       "    <tr>\n",
       "      <th>DNA?/hAT-Tip100?</th>\n",
       "      <td>520</td>\n",
       "      <td>520</td>\n",
       "      <td>520</td>\n",
       "    </tr>\n",
       "    <tr>\n",
       "      <th>LINE/CR1</th>\n",
       "      <td>67846</td>\n",
       "      <td>67846</td>\n",
       "      <td>67846</td>\n",
       "    </tr>\n",
       "    <tr>\n",
       "      <th>LINE/Dong-R4</th>\n",
       "      <td>550</td>\n",
       "      <td>550</td>\n",
       "      <td>550</td>\n",
       "    </tr>\n",
       "    <tr>\n",
       "      <th>LINE/Jockey</th>\n",
       "      <td>221</td>\n",
       "      <td>221</td>\n",
       "      <td>221</td>\n",
       "    </tr>\n",
       "    <tr>\n",
       "      <th>LINE/L1</th>\n",
       "      <td>937520</td>\n",
       "      <td>937520</td>\n",
       "      <td>937520</td>\n",
       "    </tr>\n",
       "    <tr>\n",
       "      <th>LINE/L1-Tx1</th>\n",
       "      <td>189</td>\n",
       "      <td>189</td>\n",
       "      <td>189</td>\n",
       "    </tr>\n",
       "    <tr>\n",
       "      <th>LINE/L2</th>\n",
       "      <td>518762</td>\n",
       "      <td>518762</td>\n",
       "      <td>518762</td>\n",
       "    </tr>\n",
       "    <tr>\n",
       "      <th>...</th>\n",
       "      <td>...</td>\n",
       "      <td>...</td>\n",
       "      <td>...</td>\n",
       "    </tr>\n",
       "    <tr>\n",
       "      <th>LTR/ERVK</th>\n",
       "      <td>10515</td>\n",
       "      <td>10515</td>\n",
       "      <td>10515</td>\n",
       "    </tr>\n",
       "    <tr>\n",
       "      <th>LTR/ERVL</th>\n",
       "      <td>160934</td>\n",
       "      <td>160934</td>\n",
       "      <td>160934</td>\n",
       "    </tr>\n",
       "    <tr>\n",
       "      <th>LTR/ERVL-MaLR</th>\n",
       "      <td>347538</td>\n",
       "      <td>347538</td>\n",
       "      <td>347538</td>\n",
       "    </tr>\n",
       "    <tr>\n",
       "      <th>LTR/ERVL?</th>\n",
       "      <td>3870</td>\n",
       "      <td>3870</td>\n",
       "      <td>3870</td>\n",
       "    </tr>\n",
       "    <tr>\n",
       "      <th>LTR/Gypsy</th>\n",
       "      <td>17852</td>\n",
       "      <td>17852</td>\n",
       "      <td>17852</td>\n",
       "    </tr>\n",
       "    <tr>\n",
       "      <th>LTR/Gypsy?</th>\n",
       "      <td>7727</td>\n",
       "      <td>7727</td>\n",
       "      <td>7727</td>\n",
       "    </tr>\n",
       "    <tr>\n",
       "      <th>LTR?</th>\n",
       "      <td>8361</td>\n",
       "      <td>8361</td>\n",
       "      <td>8361</td>\n",
       "    </tr>\n",
       "    <tr>\n",
       "      <th>Low_complexity</th>\n",
       "      <td>98488</td>\n",
       "      <td>98488</td>\n",
       "      <td>98488</td>\n",
       "    </tr>\n",
       "    <tr>\n",
       "      <th>RC/Helitron</th>\n",
       "      <td>1791</td>\n",
       "      <td>1791</td>\n",
       "      <td>1791</td>\n",
       "    </tr>\n",
       "    <tr>\n",
       "      <th>RC?/Helitron?</th>\n",
       "      <td>435</td>\n",
       "      <td>435</td>\n",
       "      <td>435</td>\n",
       "    </tr>\n",
       "    <tr>\n",
       "      <th>RNA</th>\n",
       "      <td>719</td>\n",
       "      <td>719</td>\n",
       "      <td>719</td>\n",
       "    </tr>\n",
       "    <tr>\n",
       "      <th>Retroposon/SVA</th>\n",
       "      <td>5420</td>\n",
       "      <td>5420</td>\n",
       "      <td>5420</td>\n",
       "    </tr>\n",
       "    <tr>\n",
       "      <th>SINE/5S-Deu-L2</th>\n",
       "      <td>2603</td>\n",
       "      <td>2603</td>\n",
       "      <td>2603</td>\n",
       "    </tr>\n",
       "    <tr>\n",
       "      <th>SINE/Alu</th>\n",
       "      <td>1177252</td>\n",
       "      <td>1177252</td>\n",
       "      <td>1177252</td>\n",
       "    </tr>\n",
       "    <tr>\n",
       "      <th>SINE/MIR</th>\n",
       "      <td>594372</td>\n",
       "      <td>594372</td>\n",
       "      <td>594372</td>\n",
       "    </tr>\n",
       "    <tr>\n",
       "      <th>SINE/tRNA</th>\n",
       "      <td>2285</td>\n",
       "      <td>2285</td>\n",
       "      <td>2285</td>\n",
       "    </tr>\n",
       "    <tr>\n",
       "      <th>SINE/tRNA-Deu</th>\n",
       "      <td>658</td>\n",
       "      <td>658</td>\n",
       "      <td>658</td>\n",
       "    </tr>\n",
       "    <tr>\n",
       "      <th>SINE/tRNA-RTE</th>\n",
       "      <td>5796</td>\n",
       "      <td>5796</td>\n",
       "      <td>5796</td>\n",
       "    </tr>\n",
       "    <tr>\n",
       "      <th>SINE?/tRNA</th>\n",
       "      <td>5</td>\n",
       "      <td>5</td>\n",
       "      <td>5</td>\n",
       "    </tr>\n",
       "    <tr>\n",
       "      <th>Satellite</th>\n",
       "      <td>3864</td>\n",
       "      <td>3864</td>\n",
       "      <td>3864</td>\n",
       "    </tr>\n",
       "    <tr>\n",
       "      <th>Satellite/acro</th>\n",
       "      <td>44</td>\n",
       "      <td>44</td>\n",
       "      <td>44</td>\n",
       "    </tr>\n",
       "    <tr>\n",
       "      <th>Satellite/centr</th>\n",
       "      <td>1772</td>\n",
       "      <td>1772</td>\n",
       "      <td>1772</td>\n",
       "    </tr>\n",
       "    <tr>\n",
       "      <th>Satellite/telo</th>\n",
       "      <td>354</td>\n",
       "      <td>354</td>\n",
       "      <td>354</td>\n",
       "    </tr>\n",
       "    <tr>\n",
       "      <th>Simple_repeat</th>\n",
       "      <td>671754</td>\n",
       "      <td>671754</td>\n",
       "      <td>671754</td>\n",
       "    </tr>\n",
       "    <tr>\n",
       "      <th>Unknown</th>\n",
       "      <td>6415</td>\n",
       "      <td>6415</td>\n",
       "      <td>6415</td>\n",
       "    </tr>\n",
       "    <tr>\n",
       "      <th>rRNA</th>\n",
       "      <td>1726</td>\n",
       "      <td>1726</td>\n",
       "      <td>1726</td>\n",
       "    </tr>\n",
       "    <tr>\n",
       "      <th>scRNA</th>\n",
       "      <td>1806</td>\n",
       "      <td>1806</td>\n",
       "      <td>1806</td>\n",
       "    </tr>\n",
       "    <tr>\n",
       "      <th>snRNA</th>\n",
       "      <td>4279</td>\n",
       "      <td>4279</td>\n",
       "      <td>4279</td>\n",
       "    </tr>\n",
       "    <tr>\n",
       "      <th>srpRNA</th>\n",
       "      <td>1366</td>\n",
       "      <td>1366</td>\n",
       "      <td>1366</td>\n",
       "    </tr>\n",
       "    <tr>\n",
       "      <th>tRNA</th>\n",
       "      <td>1768</td>\n",
       "      <td>1768</td>\n",
       "      <td>1768</td>\n",
       "    </tr>\n",
       "  </tbody>\n",
       "</table>\n",
       "<p>66 rows × 3 columns</p>\n",
       "</div>"
      ],
      "text/plain": [
       "                    query_sequence matching_repeat       ID\n",
       "                             count           count    count\n",
       "repeat_class_family                                        \n",
       "DNA                           6481            6481     6481\n",
       "DNA/Kolobok                    232             232      232\n",
       "DNA/MULE-MuDR                 1936            1936     1936\n",
       "DNA/Merlin                      57              57       57\n",
       "DNA/PIF-Harbinger               30              30       30\n",
       "DNA/PiggyBac                  2109            2109     2109\n",
       "DNA/TcMar                     1812            1812     1812\n",
       "DNA/TcMar-Mariner            16308           16308    16308\n",
       "DNA/TcMar-Pogo                  37              37       37\n",
       "DNA/TcMar-Tc1                  644             644      644\n",
       "DNA/TcMar-Tc2                 8094            8094     8094\n",
       "DNA/TcMar-Tigger            124416          124416   124416\n",
       "DNA/TcMar?                     167             167      167\n",
       "DNA/hAT                       8796            8796     8796\n",
       "DNA/hAT-Ac                    5478            5478     5478\n",
       "DNA/hAT-Blackjack            19571           19571    19571\n",
       "DNA/hAT-Charlie             263295          263295   263295\n",
       "DNA/hAT-Tag1                  2294            2294     2294\n",
       "DNA/hAT-Tip100               53071           53071    53071\n",
       "DNA/hAT-Tip100?               2382            2382     2382\n",
       "DNA/hAT?                      2047            2047     2047\n",
       "DNA?                          3493            3493     3493\n",
       "DNA?/PiggyBac?                 294             294      294\n",
       "DNA?/hAT-Tip100?               520             520      520\n",
       "LINE/CR1                     67846           67846    67846\n",
       "LINE/Dong-R4                   550             550      550\n",
       "LINE/Jockey                    221             221      221\n",
       "LINE/L1                     937520          937520   937520\n",
       "LINE/L1-Tx1                    189             189      189\n",
       "LINE/L2                     518762          518762   518762\n",
       "...                            ...             ...      ...\n",
       "LTR/ERVK                     10515           10515    10515\n",
       "LTR/ERVL                    160934          160934   160934\n",
       "LTR/ERVL-MaLR               347538          347538   347538\n",
       "LTR/ERVL?                     3870            3870     3870\n",
       "LTR/Gypsy                    17852           17852    17852\n",
       "LTR/Gypsy?                    7727            7727     7727\n",
       "LTR?                          8361            8361     8361\n",
       "Low_complexity               98488           98488    98488\n",
       "RC/Helitron                   1791            1791     1791\n",
       "RC?/Helitron?                  435             435      435\n",
       "RNA                            719             719      719\n",
       "Retroposon/SVA                5420            5420     5420\n",
       "SINE/5S-Deu-L2                2603            2603     2603\n",
       "SINE/Alu                   1177252         1177252  1177252\n",
       "SINE/MIR                    594372          594372   594372\n",
       "SINE/tRNA                     2285            2285     2285\n",
       "SINE/tRNA-Deu                  658             658      658\n",
       "SINE/tRNA-RTE                 5796            5796     5796\n",
       "SINE?/tRNA                       5               5        5\n",
       "Satellite                     3864            3864     3864\n",
       "Satellite/acro                  44              44       44\n",
       "Satellite/centr               1772            1772     1772\n",
       "Satellite/telo                 354             354      354\n",
       "Simple_repeat               671754          671754   671754\n",
       "Unknown                       6415            6415     6415\n",
       "rRNA                          1726            1726     1726\n",
       "scRNA                         1806            1806     1806\n",
       "snRNA                         4279            4279     4279\n",
       "srpRNA                        1366            1366     1366\n",
       "tRNA                          1768            1768     1768\n",
       "\n",
       "[66 rows x 3 columns]"
      ]
     },
     "execution_count": 128,
     "metadata": {},
     "output_type": "execute_result"
    }
   ],
   "source": [
    "repeat_filtered_df[['query_sequence', 'matching_repeat', 'repeat_class_family', 'ID']].groupby(\n",
    "    ['repeat_class_family']).agg(['count'])"
   ]
  },
  {
   "cell_type": "code",
   "execution_count": 200,
   "metadata": {
    "collapsed": false
   },
   "outputs": [
    {
     "data": {
      "text/html": [
       "<div>\n",
       "<table border=\"1\" class=\"dataframe\">\n",
       "  <thead>\n",
       "    <tr style=\"text-align: right;\">\n",
       "      <th></th>\n",
       "      <th>SW_score</th>\n",
       "      <th>perc_div</th>\n",
       "      <th>perc_del</th>\n",
       "      <th>perc_ins</th>\n",
       "      <th>query_sequence</th>\n",
       "      <th>pos_in_query_begin</th>\n",
       "      <th>pos_in_query_end</th>\n",
       "      <th>pos_in_query_left</th>\n",
       "      <th>match_with_seq</th>\n",
       "      <th>matching_repeat</th>\n",
       "      <th>repeat_class_family</th>\n",
       "      <th>pos_in_repeat_begin</th>\n",
       "      <th>pos_in_repeat_end</th>\n",
       "      <th>pos_in_repeat_left</th>\n",
       "      <th>ID</th>\n",
       "    </tr>\n",
       "  </thead>\n",
       "  <tbody>\n",
       "    <tr>\n",
       "      <th>0</th>\n",
       "      <td>463</td>\n",
       "      <td>1.3</td>\n",
       "      <td>0.6</td>\n",
       "      <td>1.7</td>\n",
       "      <td>chr1</td>\n",
       "      <td>10001</td>\n",
       "      <td>10468</td>\n",
       "      <td>(249240153)</td>\n",
       "      <td>+</td>\n",
       "      <td>(TAACCC)n</td>\n",
       "      <td>Simple_repeat</td>\n",
       "      <td>1</td>\n",
       "      <td>463</td>\n",
       "      <td>(0)</td>\n",
       "      <td>1</td>\n",
       "    </tr>\n",
       "    <tr>\n",
       "      <th>1</th>\n",
       "      <td>3612</td>\n",
       "      <td>11.4</td>\n",
       "      <td>21.5</td>\n",
       "      <td>1.3</td>\n",
       "      <td>chr1</td>\n",
       "      <td>10469</td>\n",
       "      <td>11447</td>\n",
       "      <td>(249239174)</td>\n",
       "      <td>C</td>\n",
       "      <td>TAR1</td>\n",
       "      <td>Satellite/telo</td>\n",
       "      <td>(399)</td>\n",
       "      <td>1712</td>\n",
       "      <td>483</td>\n",
       "      <td>2</td>\n",
       "    </tr>\n",
       "    <tr>\n",
       "      <th>2</th>\n",
       "      <td>484</td>\n",
       "      <td>25.1</td>\n",
       "      <td>13.2</td>\n",
       "      <td>0.0</td>\n",
       "      <td>chr1</td>\n",
       "      <td>11505</td>\n",
       "      <td>11675</td>\n",
       "      <td>(249238946)</td>\n",
       "      <td>C</td>\n",
       "      <td>L1MC5a</td>\n",
       "      <td>LINE/L1</td>\n",
       "      <td>(2382)</td>\n",
       "      <td>5648</td>\n",
       "      <td>5452</td>\n",
       "      <td>3</td>\n",
       "    </tr>\n",
       "    <tr>\n",
       "      <th>3</th>\n",
       "      <td>239</td>\n",
       "      <td>29.4</td>\n",
       "      <td>1.9</td>\n",
       "      <td>1.0</td>\n",
       "      <td>chr1</td>\n",
       "      <td>11678</td>\n",
       "      <td>11780</td>\n",
       "      <td>(249238841)</td>\n",
       "      <td>C</td>\n",
       "      <td>MER5B</td>\n",
       "      <td>DNA/hAT-Charlie</td>\n",
       "      <td>(74)</td>\n",
       "      <td>104</td>\n",
       "      <td>1</td>\n",
       "      <td>4</td>\n",
       "    </tr>\n",
       "    <tr>\n",
       "      <th>4</th>\n",
       "      <td>318</td>\n",
       "      <td>23.0</td>\n",
       "      <td>3.7</td>\n",
       "      <td>0.0</td>\n",
       "      <td>chr1</td>\n",
       "      <td>15265</td>\n",
       "      <td>15355</td>\n",
       "      <td>(249235266)</td>\n",
       "      <td>C</td>\n",
       "      <td>MIR3</td>\n",
       "      <td>SINE/MIR</td>\n",
       "      <td>(119)</td>\n",
       "      <td>143</td>\n",
       "      <td>49</td>\n",
       "      <td>5</td>\n",
       "    </tr>\n",
       "  </tbody>\n",
       "</table>\n",
       "</div>"
      ],
      "text/plain": [
       "   SW_score  perc_div  perc_del  perc_ins query_sequence  pos_in_query_begin  \\\n",
       "0       463       1.3       0.6       1.7           chr1               10001   \n",
       "1      3612      11.4      21.5       1.3           chr1               10469   \n",
       "2       484      25.1      13.2       0.0           chr1               11505   \n",
       "3       239      29.4       1.9       1.0           chr1               11678   \n",
       "4       318      23.0       3.7       0.0           chr1               15265   \n",
       "\n",
       "   pos_in_query_end pos_in_query_left match_with_seq matching_repeat  \\\n",
       "0             10468       (249240153)              +       (TAACCC)n   \n",
       "1             11447       (249239174)              C            TAR1   \n",
       "2             11675       (249238946)              C          L1MC5a   \n",
       "3             11780       (249238841)              C           MER5B   \n",
       "4             15355       (249235266)              C            MIR3   \n",
       "\n",
       "  repeat_class_family pos_in_repeat_begin  pos_in_repeat_end  \\\n",
       "0       Simple_repeat                   1                463   \n",
       "1      Satellite/telo               (399)               1712   \n",
       "2             LINE/L1              (2382)               5648   \n",
       "3     DNA/hAT-Charlie                (74)                104   \n",
       "4            SINE/MIR               (119)                143   \n",
       "\n",
       "  pos_in_repeat_left ID  \n",
       "0                (0)  1  \n",
       "1                483  2  \n",
       "2               5452  3  \n",
       "3                  1  4  \n",
       "4                 49  5  "
      ]
     },
     "execution_count": 200,
     "metadata": {},
     "output_type": "execute_result"
    }
   ],
   "source": [
    "repeat_filtered_df.head()"
   ]
  },
  {
   "cell_type": "code",
   "execution_count": 147,
   "metadata": {
    "collapsed": false
   },
   "outputs": [],
   "source": [
    "repeat_classes = repeat_filtered_df.repeat_class_family.unique()"
   ]
  },
  {
   "cell_type": "code",
   "execution_count": 148,
   "metadata": {
    "collapsed": false
   },
   "outputs": [
    {
     "data": {
      "text/plain": [
       "array(['Simple_repeat', 'Satellite/telo', 'LINE/L1', 'DNA/hAT-Charlie',\n",
       "       'SINE/MIR', 'LINE/L2', 'LINE/CR1', 'LTR/ERVL-MaLR', 'SINE/Alu',\n",
       "       'DNA/hAT', 'LTR/ERVL', 'LTR', 'LTR/ERV1', 'DNA/hAT-Tip100',\n",
       "       'Low_complexity', 'DNA/TcMar-Tigger', 'LTR/ERVL?', 'LTR/ERV1?',\n",
       "       'LINE/RTE-X', 'LTR?', 'LTR/ERVK', 'snRNA', 'Retroposon/SVA',\n",
       "       'DNA/MULE-MuDR', 'tRNA', 'DNA?', 'LTR/Gypsy', 'DNA/hAT-Blackjack',\n",
       "       'Unknown', 'Satellite', 'DNA/hAT-Tag1', 'srpRNA', 'DNA/hAT-Ac',\n",
       "       'rRNA', 'DNA/TcMar-Tc2', 'SINE/tRNA-Deu', 'LINE/RTE-BovB', 'scRNA',\n",
       "       'SINE/5S-Deu-L2', 'DNA/PiggyBac', 'DNA/hAT?', 'DNA',\n",
       "       'DNA/TcMar-Mariner', 'RC/Helitron', 'LTR/Gypsy?', 'DNA/hAT-Tip100?',\n",
       "       'SINE/tRNA-RTE', 'SINE/tRNA', 'LINE/Jockey', 'LINE/Penelope',\n",
       "       'LINE/Dong-R4', 'DNA/TcMar-Tc1', 'RNA', 'DNA/Kolobok', 'DNA/TcMar',\n",
       "       'Satellite/centr', 'RC?/Helitron?', 'DNA?/hAT-Tip100?',\n",
       "       'DNA/Merlin', 'DNA?/PiggyBac?', 'DNA/TcMar-Pogo', 'LINE/L1-Tx1',\n",
       "       'DNA/TcMar?', 'Satellite/acro', 'DNA/PIF-Harbinger', 'SINE?/tRNA'], dtype=object)"
      ]
     },
     "execution_count": 148,
     "metadata": {},
     "output_type": "execute_result"
    }
   ],
   "source": [
    "repeat_classes"
   ]
  },
  {
   "cell_type": "markdown",
   "metadata": {},
   "source": [
    "## SINE/Alu Analysis"
   ]
  },
  {
   "cell_type": "code",
   "execution_count": 201,
   "metadata": {
    "collapsed": true
   },
   "outputs": [],
   "source": [
    "sine_alu_df = pd.DataFrame()"
   ]
  },
  {
   "cell_type": "code",
   "execution_count": 210,
   "metadata": {
    "collapsed": true
   },
   "outputs": [],
   "source": [
    "sine_alu_df = repeat_filtered_df.query(\"repeat_class_family == 'SINE/Alu'\")\n",
    "sine_alu_df.reset_index(inplace=True, drop=True)"
   ]
  },
  {
   "cell_type": "code",
   "execution_count": 211,
   "metadata": {
    "collapsed": false
   },
   "outputs": [
    {
     "data": {
      "text/plain": [
       "1177252"
      ]
     },
     "execution_count": 211,
     "metadata": {},
     "output_type": "execute_result"
    }
   ],
   "source": [
    "len(sine_alu_df)"
   ]
  },
  {
   "cell_type": "code",
   "execution_count": 212,
   "metadata": {
    "collapsed": true
   },
   "outputs": [],
   "source": [
    "import pybedtools\n",
    "from pybedtools import BedTool\n",
    "a = pybedtools.example_bedtool('a.bed')"
   ]
  },
  {
   "cell_type": "code",
   "execution_count": 213,
   "metadata": {
    "collapsed": false
   },
   "outputs": [
    {
     "data": {
      "text/plain": [
       "<BedTool(/Users/manuel/anaconda/lib/python3.5/site-packages/pybedtools/test/data/a.bed)>"
      ]
     },
     "execution_count": 213,
     "metadata": {},
     "output_type": "execute_result"
    }
   ],
   "source": [
    "a"
   ]
  },
  {
   "cell_type": "code",
   "execution_count": 214,
   "metadata": {
    "collapsed": false
   },
   "outputs": [
    {
     "data": {
      "text/plain": [
       "Index(['chrom', 'start', 'end', 'name', 'score', 'strand'], dtype='object')"
      ]
     },
     "execution_count": 214,
     "metadata": {},
     "output_type": "execute_result"
    }
   ],
   "source": [
    "a.to_dataframe().columns"
   ]
  },
  {
   "cell_type": "code",
   "execution_count": 215,
   "metadata": {
    "collapsed": false
   },
   "outputs": [
    {
     "data": {
      "text/plain": [
       "array(['+', 'C'], dtype=object)"
      ]
     },
     "execution_count": 215,
     "metadata": {},
     "output_type": "execute_result"
    }
   ],
   "source": [
    "sine_alu_df.match_with_seq.unique()"
   ]
  },
  {
   "cell_type": "code",
   "execution_count": 216,
   "metadata": {
    "collapsed": false
   },
   "outputs": [
    {
     "data": {
      "text/plain": [
       "False"
      ]
     },
     "execution_count": 216,
     "metadata": {},
     "output_type": "execute_result"
    }
   ],
   "source": [
    "#ID is not the ID of the interval match\n",
    "len(sine_alu_df.ID.unique()) == len(sine_alu_df)"
   ]
  },
  {
   "cell_type": "code",
   "execution_count": 217,
   "metadata": {
    "collapsed": false
   },
   "outputs": [
    {
     "data": {
      "text/html": [
       "<div>\n",
       "<table border=\"1\" class=\"dataframe\">\n",
       "  <thead>\n",
       "    <tr style=\"text-align: right;\">\n",
       "      <th></th>\n",
       "      <th>SW_score</th>\n",
       "      <th>perc_div</th>\n",
       "      <th>perc_del</th>\n",
       "      <th>perc_ins</th>\n",
       "      <th>query_sequence</th>\n",
       "      <th>pos_in_query_begin</th>\n",
       "      <th>pos_in_query_end</th>\n",
       "      <th>pos_in_query_left</th>\n",
       "      <th>match_with_seq</th>\n",
       "      <th>matching_repeat</th>\n",
       "      <th>repeat_class_family</th>\n",
       "      <th>pos_in_repeat_begin</th>\n",
       "      <th>pos_in_repeat_end</th>\n",
       "      <th>pos_in_repeat_left</th>\n",
       "      <th>ID</th>\n",
       "    </tr>\n",
       "  </thead>\n",
       "  <tbody>\n",
       "    <tr>\n",
       "      <th>0</th>\n",
       "      <td>2070</td>\n",
       "      <td>9.5</td>\n",
       "      <td>0.4</td>\n",
       "      <td>0.0</td>\n",
       "      <td>chr1</td>\n",
       "      <td>26791</td>\n",
       "      <td>27053</td>\n",
       "      <td>(249223568)</td>\n",
       "      <td>+</td>\n",
       "      <td>AluSp</td>\n",
       "      <td>SINE/Alu</td>\n",
       "      <td>1</td>\n",
       "      <td>264</td>\n",
       "      <td>(49)</td>\n",
       "      <td>18</td>\n",
       "    </tr>\n",
       "    <tr>\n",
       "      <th>1</th>\n",
       "      <td>2059</td>\n",
       "      <td>14.1</td>\n",
       "      <td>0.3</td>\n",
       "      <td>0.3</td>\n",
       "      <td>chr1</td>\n",
       "      <td>31436</td>\n",
       "      <td>31733</td>\n",
       "      <td>(249218888)</td>\n",
       "      <td>+</td>\n",
       "      <td>AluJo</td>\n",
       "      <td>SINE/Alu</td>\n",
       "      <td>1</td>\n",
       "      <td>298</td>\n",
       "      <td>(14)</td>\n",
       "      <td>28</td>\n",
       "    </tr>\n",
       "    <tr>\n",
       "      <th>2</th>\n",
       "      <td>233</td>\n",
       "      <td>25.0</td>\n",
       "      <td>0.0</td>\n",
       "      <td>0.0</td>\n",
       "      <td>chr1</td>\n",
       "      <td>33466</td>\n",
       "      <td>33509</td>\n",
       "      <td>(249217112)</td>\n",
       "      <td>+</td>\n",
       "      <td>Alu</td>\n",
       "      <td>SINE/Alu</td>\n",
       "      <td>1</td>\n",
       "      <td>44</td>\n",
       "      <td>(89)</td>\n",
       "      <td>31</td>\n",
       "    </tr>\n",
       "    <tr>\n",
       "      <th>3</th>\n",
       "      <td>1000</td>\n",
       "      <td>13.5</td>\n",
       "      <td>0.0</td>\n",
       "      <td>0.0</td>\n",
       "      <td>chr1</td>\n",
       "      <td>35367</td>\n",
       "      <td>35499</td>\n",
       "      <td>(249215122)</td>\n",
       "      <td>+</td>\n",
       "      <td>AluJr</td>\n",
       "      <td>SINE/Alu</td>\n",
       "      <td>1</td>\n",
       "      <td>133</td>\n",
       "      <td>(179)</td>\n",
       "      <td>37</td>\n",
       "    </tr>\n",
       "    <tr>\n",
       "      <th>4</th>\n",
       "      <td>2292</td>\n",
       "      <td>12.0</td>\n",
       "      <td>0.0</td>\n",
       "      <td>0.0</td>\n",
       "      <td>chr1</td>\n",
       "      <td>39624</td>\n",
       "      <td>39924</td>\n",
       "      <td>(249210697)</td>\n",
       "      <td>+</td>\n",
       "      <td>AluSx</td>\n",
       "      <td>SINE/Alu</td>\n",
       "      <td>1</td>\n",
       "      <td>301</td>\n",
       "      <td>(11)</td>\n",
       "      <td>42</td>\n",
       "    </tr>\n",
       "  </tbody>\n",
       "</table>\n",
       "</div>"
      ],
      "text/plain": [
       "   SW_score  perc_div  perc_del  perc_ins query_sequence  pos_in_query_begin  \\\n",
       "0      2070       9.5       0.4       0.0           chr1               26791   \n",
       "1      2059      14.1       0.3       0.3           chr1               31436   \n",
       "2       233      25.0       0.0       0.0           chr1               33466   \n",
       "3      1000      13.5       0.0       0.0           chr1               35367   \n",
       "4      2292      12.0       0.0       0.0           chr1               39624   \n",
       "\n",
       "   pos_in_query_end pos_in_query_left match_with_seq matching_repeat  \\\n",
       "0             27053       (249223568)              +           AluSp   \n",
       "1             31733       (249218888)              +           AluJo   \n",
       "2             33509       (249217112)              +             Alu   \n",
       "3             35499       (249215122)              +           AluJr   \n",
       "4             39924       (249210697)              +           AluSx   \n",
       "\n",
       "  repeat_class_family pos_in_repeat_begin  pos_in_repeat_end  \\\n",
       "0            SINE/Alu                   1                264   \n",
       "1            SINE/Alu                   1                298   \n",
       "2            SINE/Alu                   1                 44   \n",
       "3            SINE/Alu                   1                133   \n",
       "4            SINE/Alu                   1                301   \n",
       "\n",
       "  pos_in_repeat_left  ID  \n",
       "0               (49)  18  \n",
       "1               (14)  28  \n",
       "2               (89)  31  \n",
       "3              (179)  37  \n",
       "4               (11)  42  "
      ]
     },
     "execution_count": 217,
     "metadata": {},
     "output_type": "execute_result"
    }
   ],
   "source": [
    "sine_alu_df.head()"
   ]
  },
  {
   "cell_type": "code",
   "execution_count": 218,
   "metadata": {
    "collapsed": true
   },
   "outputs": [],
   "source": [
    "bed_df = pd.DataFrame(columns=['chrom', 'start', 'end', 'name', 'score', 'strand'])"
   ]
  },
  {
   "cell_type": "code",
   "execution_count": 229,
   "metadata": {
    "collapsed": false
   },
   "outputs": [],
   "source": [
    "bed_df.chrom = sine_alu_df.query_sequence\n",
    "bed_df.start = sine_alu_df.pos_in_query_begin\n",
    "bed_df.end = sine_alu_df.pos_in_query_end\n",
    "bed_df.name = \"RepeatMasker\" + \".\" + pd.Series(sine_alu_df.index.values.astype(str)) + \".\" + sine_alu_df.matching_repeat +\".\" + sine_alu_df.ID\n",
    "bed_df.score = sine_alu_df.SW_score\n",
    "bed_df.strand = \".\""
   ]
  },
  {
   "cell_type": "code",
   "execution_count": 230,
   "metadata": {
    "collapsed": false
   },
   "outputs": [
    {
     "data": {
      "text/html": [
       "<div>\n",
       "<table border=\"1\" class=\"dataframe\">\n",
       "  <thead>\n",
       "    <tr style=\"text-align: right;\">\n",
       "      <th></th>\n",
       "      <th>chrom</th>\n",
       "      <th>start</th>\n",
       "      <th>end</th>\n",
       "      <th>name</th>\n",
       "      <th>score</th>\n",
       "      <th>strand</th>\n",
       "    </tr>\n",
       "  </thead>\n",
       "  <tbody>\n",
       "    <tr>\n",
       "      <th>0</th>\n",
       "      <td>chr1</td>\n",
       "      <td>26791</td>\n",
       "      <td>27053</td>\n",
       "      <td>RepeatMasker.0.AluSp.18</td>\n",
       "      <td>2070</td>\n",
       "      <td>.</td>\n",
       "    </tr>\n",
       "    <tr>\n",
       "      <th>1</th>\n",
       "      <td>chr1</td>\n",
       "      <td>31436</td>\n",
       "      <td>31733</td>\n",
       "      <td>RepeatMasker.1.AluJo.28</td>\n",
       "      <td>2059</td>\n",
       "      <td>.</td>\n",
       "    </tr>\n",
       "    <tr>\n",
       "      <th>2</th>\n",
       "      <td>chr1</td>\n",
       "      <td>33466</td>\n",
       "      <td>33509</td>\n",
       "      <td>RepeatMasker.2.Alu.31</td>\n",
       "      <td>233</td>\n",
       "      <td>.</td>\n",
       "    </tr>\n",
       "    <tr>\n",
       "      <th>3</th>\n",
       "      <td>chr1</td>\n",
       "      <td>35367</td>\n",
       "      <td>35499</td>\n",
       "      <td>RepeatMasker.3.AluJr.37</td>\n",
       "      <td>1000</td>\n",
       "      <td>.</td>\n",
       "    </tr>\n",
       "    <tr>\n",
       "      <th>4</th>\n",
       "      <td>chr1</td>\n",
       "      <td>39624</td>\n",
       "      <td>39924</td>\n",
       "      <td>RepeatMasker.4.AluSx.42</td>\n",
       "      <td>2292</td>\n",
       "      <td>.</td>\n",
       "    </tr>\n",
       "  </tbody>\n",
       "</table>\n",
       "</div>"
      ],
      "text/plain": [
       "  chrom  start    end                     name  score strand\n",
       "0  chr1  26791  27053  RepeatMasker.0.AluSp.18   2070      .\n",
       "1  chr1  31436  31733  RepeatMasker.1.AluJo.28   2059      .\n",
       "2  chr1  33466  33509    RepeatMasker.2.Alu.31    233      .\n",
       "3  chr1  35367  35499  RepeatMasker.3.AluJr.37   1000      .\n",
       "4  chr1  39624  39924  RepeatMasker.4.AluSx.42   2292      ."
      ]
     },
     "execution_count": 230,
     "metadata": {},
     "output_type": "execute_result"
    }
   ],
   "source": [
    "bed_df.head()"
   ]
  },
  {
   "cell_type": "code",
   "execution_count": 232,
   "metadata": {
    "collapsed": true
   },
   "outputs": [],
   "source": [
    "bed = BedTool.from_dataframe(bed_df)"
   ]
  },
  {
   "cell_type": "code",
   "execution_count": 252,
   "metadata": {
    "collapsed": false
   },
   "outputs": [],
   "source": [
    "store = pd.HDFStore(\"../storage/repeatmasker_staging.hdf\")"
   ]
  },
  {
   "cell_type": "code",
   "execution_count": 253,
   "metadata": {
    "collapsed": false
   },
   "outputs": [
    {
     "data": {
      "text/plain": [
       "['/DNA',\n",
       " '/DNA_Kolobok',\n",
       " '/DNA_Kolobok_bed',\n",
       " '/DNA_MULE_MuDR',\n",
       " '/DNA_MULE_MuDR_bed',\n",
       " '/DNA_Merlin',\n",
       " '/DNA_Merlin_bed',\n",
       " '/DNA_PIF_Harbinger',\n",
       " '/DNA_PIF_Harbinger_bed',\n",
       " '/DNA_PiggyBac',\n",
       " '/DNA_PiggyBac_bed',\n",
       " '/DNA_TcMar',\n",
       " '/DNA_TcMar_Mariner',\n",
       " '/DNA_TcMar_Mariner_bed',\n",
       " '/DNA_TcMar_Pogo',\n",
       " '/DNA_TcMar_Pogo_bed',\n",
       " '/DNA_TcMar_Tc1',\n",
       " '/DNA_TcMar_Tc1_bed',\n",
       " '/DNA_TcMar_Tc2',\n",
       " '/DNA_TcMar_Tc2_bed',\n",
       " '/DNA_TcMar_Tigger',\n",
       " '/DNA_TcMar_Tigger_bed',\n",
       " '/DNA_TcMar_bed',\n",
       " '/DNA_TcMar_qm',\n",
       " '/DNA_TcMar_qm_bed',\n",
       " '/DNA_bed',\n",
       " '/DNA_hAT',\n",
       " '/DNA_hAT_Ac',\n",
       " '/DNA_hAT_Ac_bed',\n",
       " '/DNA_hAT_Blackjack',\n",
       " '/DNA_hAT_Blackjack_bed',\n",
       " '/DNA_hAT_Charlie',\n",
       " '/DNA_hAT_Charlie_bed',\n",
       " '/DNA_hAT_Tag1',\n",
       " '/DNA_hAT_Tag1_bed',\n",
       " '/DNA_hAT_Tip100',\n",
       " '/DNA_hAT_Tip100_bed',\n",
       " '/DNA_hAT_Tip100_qm',\n",
       " '/DNA_hAT_Tip100_qm_bed',\n",
       " '/DNA_hAT_bed',\n",
       " '/DNA_hAT_qm',\n",
       " '/DNA_hAT_qm_bed',\n",
       " '/DNA_qm',\n",
       " '/DNA_qm_PiggyBac_qm',\n",
       " '/DNA_qm_PiggyBac_qm_bed',\n",
       " '/DNA_qm_bed',\n",
       " '/DNA_qm_hAT_Tip100_qm',\n",
       " '/DNA_qm_hAT_Tip100_qm_bed',\n",
       " '/LINE_CR1',\n",
       " '/LINE_CR1_bed',\n",
       " '/LINE_Dong_R4',\n",
       " '/LINE_Dong_R4_bed',\n",
       " '/LINE_Jockey',\n",
       " '/LINE_Jockey_bed',\n",
       " '/LINE_L1',\n",
       " '/LINE_L1_Tx1',\n",
       " '/LINE_L1_Tx1_bed',\n",
       " '/LINE_L1_bed',\n",
       " '/LINE_L2',\n",
       " '/LINE_L2_bed',\n",
       " '/LINE_Penelope',\n",
       " '/LINE_Penelope_bed',\n",
       " '/LINE_RTE_BovB',\n",
       " '/LINE_RTE_BovB_bed',\n",
       " '/LINE_RTE_X',\n",
       " '/LINE_RTE_X_bed',\n",
       " '/LTR',\n",
       " '/LTR_ERV1',\n",
       " '/LTR_ERV1_bed',\n",
       " '/LTR_ERV1_qm',\n",
       " '/LTR_ERV1_qm_bed',\n",
       " '/LTR_ERVK',\n",
       " '/LTR_ERVK_bed',\n",
       " '/LTR_ERVL',\n",
       " '/LTR_ERVL_MaLR',\n",
       " '/LTR_ERVL_MaLR_bed',\n",
       " '/LTR_ERVL_bed',\n",
       " '/LTR_ERVL_qm',\n",
       " '/LTR_ERVL_qm_bed',\n",
       " '/LTR_Gypsy',\n",
       " '/LTR_Gypsy_bed',\n",
       " '/LTR_Gypsy_qm',\n",
       " '/LTR_Gypsy_qm_bed',\n",
       " '/LTR_bed',\n",
       " '/LTR_qm',\n",
       " '/LTR_qm_bed',\n",
       " '/Low_complexity',\n",
       " '/Low_complexity_bed',\n",
       " '/RC_Helitron',\n",
       " '/RC_Helitron_bed',\n",
       " '/RC_qm_Helitron_qm',\n",
       " '/RC_qm_Helitron_qm_bed',\n",
       " '/RNA',\n",
       " '/RNA_bed',\n",
       " '/Retroposon_SVA',\n",
       " '/Retroposon_SVA_bed',\n",
       " '/SINE_5S_Deu_L2',\n",
       " '/SINE_5S_Deu_L2_bed',\n",
       " '/SINE_Alu',\n",
       " '/SINE_Alu_bed',\n",
       " '/SINE_MIR',\n",
       " '/SINE_MIR_bed',\n",
       " '/SINE_qm_tRNA',\n",
       " '/SINE_qm_tRNA_bed',\n",
       " '/SINE_tRNA',\n",
       " '/SINE_tRNA_Deu',\n",
       " '/SINE_tRNA_Deu_bed',\n",
       " '/SINE_tRNA_RTE',\n",
       " '/SINE_tRNA_RTE_bed',\n",
       " '/SINE_tRNA_bed',\n",
       " '/Satellite',\n",
       " '/Satellite_acro',\n",
       " '/Satellite_acro_bed',\n",
       " '/Satellite_bed',\n",
       " '/Satellite_centr',\n",
       " '/Satellite_centr_bed',\n",
       " '/Satellite_telo',\n",
       " '/Satellite_telo_bed',\n",
       " '/Simple_repeat',\n",
       " '/Simple_repeat_bed',\n",
       " '/Unknown',\n",
       " '/Unknown_bed',\n",
       " '/rRNA',\n",
       " '/rRNA_bed',\n",
       " '/scRNA',\n",
       " '/scRNA_bed',\n",
       " '/snRNA',\n",
       " '/snRNA_bed',\n",
       " '/srpRNA',\n",
       " '/srpRNA_bed',\n",
       " '/tRNA',\n",
       " '/tRNA_bed']"
      ]
     },
     "execution_count": 253,
     "metadata": {},
     "output_type": "execute_result"
    }
   ],
   "source": [
    "store.keys()"
   ]
  },
  {
   "cell_type": "code",
   "execution_count": 250,
   "metadata": {
    "collapsed": false
   },
   "outputs": [
    {
     "data": {
      "text/plain": [
       "True"
      ]
     },
     "execution_count": 250,
     "metadata": {},
     "output_type": "execute_result"
    }
   ],
   "source": [
    "len(store.keys()) == 66*2"
   ]
  },
  {
   "cell_type": "code",
   "execution_count": 254,
   "metadata": {
    "collapsed": true
   },
   "outputs": [],
   "source": [
    "store.close()"
   ]
  },
  {
   "cell_type": "markdown",
   "metadata": {},
   "source": [
    "## Some overlaps"
   ]
  },
  {
   "cell_type": "code",
   "execution_count": 300,
   "metadata": {
    "collapsed": false
   },
   "outputs": [
    {
     "data": {
      "text/plain": [
       "['/CL_0000047_hg19_DNase_H3K27ac_bed',\n",
       " '/CL_0000084_hg19_DNase_H3K27ac_bed',\n",
       " '/CL_0000127_hg19_DNase_H3K27ac_bed',\n",
       " '/CL_0000236_hg19_DNase_H3K27ac_bed',\n",
       " '/CL_0000312_hg19_DNase_H3K27ac_bed',\n",
       " '/CL_0000351_hg19_DNase_H3K27ac_bed',\n",
       " '/CL_0000515_hg19_DNase_H3K27ac_bed',\n",
       " '/CL_0000623_hg19_DNase_H3K27ac_bed',\n",
       " '/CL_0001054_hg19_DNase_H3K27ac_bed',\n",
       " '/CL_0001059_hg19_DNase_H3K27ac_bed',\n",
       " '/CL_0002327_hg19_DNase_H3K27ac_bed',\n",
       " '/CL_0002372_hg19_DNase_H3K27ac_bed',\n",
       " '/CL_0002551_hg19_DNase_H3K27ac_bed',\n",
       " '/CL_0002553_hg19_DNase_H3K27ac_bed',\n",
       " '/CL_0002618_hg19_DNase_H3K27ac_bed',\n",
       " '/CL_1001608_hg19_DNase_H3K27ac_bed',\n",
       " '/CL_2000045_hg19_DNase_H3K27ac_bed',\n",
       " '/EFO_0000586_hg19_DNase_H3K27ac_bed',\n",
       " '/EFO_0001187_hg19_DNase_H3K27ac_bed',\n",
       " '/EFO_0001203_hg19_DNase_H3K27ac_bed',\n",
       " '/EFO_0002067_hg19_DNase_H3K27ac_bed',\n",
       " '/EFO_0002713_hg19_DNase_H3K27ac_bed',\n",
       " '/EFO_0002784_hg19_DNase_H3K27ac_bed',\n",
       " '/EFO_0002791_hg19_DNase_H3K27ac_bed',\n",
       " '/EFO_0002824_hg19_DNase_H3K27ac_bed',\n",
       " '/EFO_0003042_hg19_DNase_H3K27ac_bed',\n",
       " '/EFO_0003045_hg19_DNase_H3K27ac_bed',\n",
       " '/NTR_0000856_hg19_DNase_H3K27ac_bed',\n",
       " '/NTR_0001172_hg19_DNase_H3K27ac_bed',\n",
       " '/NTR_0001173_hg19_DNase_H3K27ac_bed',\n",
       " '/NTR_0004647_hg19_DNase_H3K27ac_bed',\n",
       " '/UBERON_0000059_hg19_DNase_H3K27ac_bed',\n",
       " '/UBERON_0000945_hg19_DNase_H3K27ac_bed',\n",
       " '/UBERON_0000992_hg19_DNase_H3K27ac_bed',\n",
       " '/UBERON_0001264_hg19_DNase_H3K27ac_bed',\n",
       " '/UBERON_0001383_hg19_DNase_H3K27ac_bed',\n",
       " '/UBERON_0001774_hg19_DNase_H3K27ac_bed',\n",
       " '/UBERON_0001987_hg19_DNase_H3K27ac_bed',\n",
       " '/UBERON_0002108_hg19_DNase_H3K27ac_bed',\n",
       " '/UBERON_0002369_hg19_DNase_H3K27ac_bed',\n",
       " '/UBERON_0002370_hg19_DNase_H3K27ac_bed',\n",
       " '/UBERON_0008450_hg19_DNase_H3K27ac_bed',\n",
       " '/encode_metadata',\n",
       " '/filtered_hg19_DNase_H3K27ac',\n",
       " '/filtered_hg19_DNase_H3K27ac_bed']"
      ]
     },
     "execution_count": 300,
     "metadata": {},
     "output_type": "execute_result"
    }
   ],
   "source": [
    "store = pd.HDFStore(\"../storage/encode_staging.hdf\")\n",
    "store.keys()\n",
    "#store.close()"
   ]
  },
  {
   "cell_type": "code",
   "execution_count": 605,
   "metadata": {
    "collapsed": true
   },
   "outputs": [],
   "source": [
    "encode_metadata = pd.read_hdf(\"../storage/encode_staging.hdf\", \"encode_metadata\")"
   ]
  },
  {
   "cell_type": "code",
   "execution_count": 606,
   "metadata": {
    "collapsed": false
   },
   "outputs": [
    {
     "data": {
      "text/html": [
       "<div>\n",
       "<table border=\"1\" class=\"dataframe\">\n",
       "  <thead>\n",
       "    <tr style=\"text-align: right;\">\n",
       "      <th></th>\n",
       "      <th>accession</th>\n",
       "      <th>assembly</th>\n",
       "      <th>biosample_term_id</th>\n",
       "      <th>biosample_term_name</th>\n",
       "      <th>biosample_type</th>\n",
       "      <th>description</th>\n",
       "      <th>developmental_slims</th>\n",
       "      <th>encyclopedia_version</th>\n",
       "      <th>month_released</th>\n",
       "      <th>organ_slims</th>\n",
       "      <th>organism</th>\n",
       "      <th>system_slims</th>\n",
       "      <th>bed_filename</th>\n",
       "      <th>bed_filepath</th>\n",
       "      <th>merged</th>\n",
       "      <th>method</th>\n",
       "    </tr>\n",
       "  </thead>\n",
       "  <tbody>\n",
       "    <tr>\n",
       "      <th>29</th>\n",
       "      <td>ENCSR755KBI</td>\n",
       "      <td>hg19</td>\n",
       "      <td>CL:0000047</td>\n",
       "      <td>neuronal stem cell</td>\n",
       "      <td>stem cell</td>\n",
       "      <td>Enhancer-like regions using DNase and H3K27ac ...</td>\n",
       "      <td>[ectoderm]</td>\n",
       "      <td>3</td>\n",
       "      <td>June, 2016</td>\n",
       "      <td>[]</td>\n",
       "      <td>/organisms/human/</td>\n",
       "      <td>[central nervous system]</td>\n",
       "      <td>ENCFF564UIF.bed.gz</td>\n",
       "      <td>/Users/manuel/development/thesis/download/ENCO...</td>\n",
       "      <td>False</td>\n",
       "      <td>DNase_H3K27ac</td>\n",
       "    </tr>\n",
       "  </tbody>\n",
       "</table>\n",
       "</div>"
      ],
      "text/plain": [
       "      accession assembly biosample_term_id biosample_term_name biosample_type  \\\n",
       "29  ENCSR755KBI     hg19        CL:0000047  neuronal stem cell      stem cell   \n",
       "\n",
       "                                          description developmental_slims  \\\n",
       "29  Enhancer-like regions using DNase and H3K27ac ...          [ectoderm]   \n",
       "\n",
       "   encyclopedia_version month_released organ_slims           organism  \\\n",
       "29                    3     June, 2016          []  /organisms/human/   \n",
       "\n",
       "                system_slims        bed_filename  \\\n",
       "29  [central nervous system]  ENCFF564UIF.bed.gz   \n",
       "\n",
       "                                         bed_filepath merged         method  \n",
       "29  /Users/manuel/development/thesis/download/ENCO...  False  DNase_H3K27ac  "
      ]
     },
     "execution_count": 606,
     "metadata": {},
     "output_type": "execute_result"
    }
   ],
   "source": [
    "encode_metadata.query(\"assembly == 'hg19' & method=='DNase_H3K27ac' & biosample_term_name == 'neuronal stem cell'\")"
   ]
  },
  {
   "cell_type": "code",
   "execution_count": 311,
   "metadata": {
    "collapsed": true
   },
   "outputs": [],
   "source": [
    "encode_bed_df = pd.read_hdf(\"../storage/encode_staging.hdf\", \"CL_0000047_hg19_DNase_H3K27ac_bed\")"
   ]
  },
  {
   "cell_type": "code",
   "execution_count": 548,
   "metadata": {
    "collapsed": true
   },
   "outputs": [],
   "source": [
    "repeat_bed_df = pd.read_hdf(\"../storage/repeatmasker_staging.hdf\", \"SINE_Alu_bed\")"
   ]
  },
  {
   "cell_type": "code",
   "execution_count": 549,
   "metadata": {
    "collapsed": true
   },
   "outputs": [],
   "source": [
    "fantom_bed_df = pd.read_hdf(\"../storage/fantom_staging.hdf\", \"permissive_bed\")"
   ]
  },
  {
   "cell_type": "code",
   "execution_count": 550,
   "metadata": {
    "collapsed": true
   },
   "outputs": [],
   "source": [
    "from pybedtools import BedTool"
   ]
  },
  {
   "cell_type": "code",
   "execution_count": 551,
   "metadata": {
    "collapsed": true
   },
   "outputs": [],
   "source": [
    "fantom_bed = BedTool().from_dataframe(fantom_bed_df)\n",
    "repeat_bed = BedTool().from_dataframe(repeat_bed_df)\n",
    "encode_bed = BedTool().from_dataframe(encode_bed_df)"
   ]
  },
  {
   "cell_type": "code",
   "execution_count": 552,
   "metadata": {
    "collapsed": false
   },
   "outputs": [
    {
     "data": {
      "text/plain": [
       "1177252"
      ]
     },
     "execution_count": 552,
     "metadata": {},
     "output_type": "execute_result"
    }
   ],
   "source": [
    "repeat_bed.count()"
   ]
  },
  {
   "cell_type": "code",
   "execution_count": 553,
   "metadata": {
    "collapsed": false
   },
   "outputs": [],
   "source": [
    "repeat_shuffled_bed = repeat_bed.shuffle(genome='hg19', chrom=False)"
   ]
  },
  {
   "cell_type": "code",
   "execution_count": 554,
   "metadata": {
    "collapsed": false
   },
   "outputs": [],
   "source": [
    "reldist_df = pd.DataFrame(fantom_bed.reldist(repeat_bed))"
   ]
  },
  {
   "cell_type": "code",
   "execution_count": 555,
   "metadata": {
    "collapsed": false
   },
   "outputs": [],
   "source": [
    "reldist_shuffled_df = pd.DataFrame(fantom_bed.reldist(repeat_shuffled_bed))"
   ]
  },
  {
   "cell_type": "code",
   "execution_count": 556,
   "metadata": {
    "collapsed": false
   },
   "outputs": [
    {
     "data": {
      "image/png": "[encoded data removed]",
      "text/plain": [
       "<matplotlib.figure.Figure at 0x658622e48>"
      ]
     },
     "metadata": {},
     "output_type": "display_data"
    }
   ],
   "source": [
    "import numpy as np\n",
    "import seaborn as sns\n",
    "#import matplotlib.pyplot as plt\n",
    "%matplotlib inline\n",
    "\n",
    "#sns.set(style=\"white\", palette=\"muted\", color_codes=True)\n",
    "sns.set(style=\"ticks\", palette=\"muted\", color_codes=True)\n",
    "sns.set_context(\"poster\", font_scale=0.6, rc={\"lines.linewidth\": 0.8})\n",
    "\n",
    "g1 = sns.pointplot(x='reldist', y='fraction', data=reldist_df,  color='r')\n",
    "g2 = sns.pointplot(x='reldist', y='fraction', data=reldist_shuffled_df, color='b')\n",
    "\n",
    "sns.despine(offset=10, trim=True)\n",
    "#plot.set_yscale(\"log\")\n",
    "#df_reldist[['reldist','fraction']].plot()\n",
    "for ind, label in enumerate(g1.get_xticklabels()):\n",
    "    if ind % 10 == 0:  # every 10th label is kept\n",
    "        label.set_visible(True)\n",
    "    else:\n",
    "        label.set_visible(False)\n",
    "        "
   ]
  },
  {
   "cell_type": "code",
   "execution_count": 557,
   "metadata": {
    "collapsed": false
   },
   "outputs": [],
   "source": [
    "reldist_encode_df = pd.DataFrame(encode_bed.reldist(repeat_bed))"
   ]
  },
  {
   "cell_type": "code",
   "execution_count": 558,
   "metadata": {
    "collapsed": false
   },
   "outputs": [],
   "source": [
    "reldist_encode_shuffled_df = pd.DataFrame(encode_bed.reldist(repeat_shuffled_bed))"
   ]
  },
  {
   "cell_type": "code",
   "execution_count": 559,
   "metadata": {
    "collapsed": false
   },
   "outputs": [
    {
     "data": {
      "image/png": "[encoded data removed]",
      "text/plain": [
       "<matplotlib.figure.Figure at 0x654ed1518>"
      ]
     },
     "metadata": {},
     "output_type": "display_data"
    }
   ],
   "source": [
    "import numpy as np\n",
    "import seaborn as sns\n",
    "#import matplotlib.pyplot as plt\n",
    "%matplotlib inline\n",
    "\n",
    "#sns.set(style=\"white\", palette=\"muted\", color_codes=True)\n",
    "sns.set(style=\"ticks\", palette=\"muted\", color_codes=True)\n",
    "sns.set_context(\"poster\", font_scale=0.6, rc={\"lines.linewidth\": 0.8})\n",
    "\n",
    "g1 = sns.pointplot(x='reldist', y='fraction', data=reldist_encode_df,  color='r')\n",
    "g2 = sns.pointplot(x='reldist', y='fraction', data=reldist_encode_shuffled_df, color='b')\n",
    "\n",
    "sns.despine(offset=10, trim=True)\n",
    "#plot.set_yscale(\"log\")\n",
    "#df_reldist[['reldist','fraction']].plot()\n",
    "for ind, label in enumerate(g1.get_xticklabels()):\n",
    "    if ind % 10 == 0:  # every 10th label is kept\n",
    "        label.set_visible(True)\n",
    "    else:\n",
    "        label.set_visible(False)\n",
    "        "
   ]
  },
  {
   "cell_type": "code",
   "execution_count": 560,
   "metadata": {
    "collapsed": true
   },
   "outputs": [],
   "source": [
    "min_overlap = 0.3"
   ]
  },
  {
   "cell_type": "code",
   "execution_count": 561,
   "metadata": {
    "collapsed": false
   },
   "outputs": [
    {
     "data": {
      "text/plain": [
       "0.1339934015826688"
      ]
     },
     "execution_count": 561,
     "metadata": {},
     "output_type": "execute_result"
    }
   ],
   "source": [
    "repeat_bed.intersect(repeat_shuffled_bed, f=min_overlap).count() / repeat_bed.count()"
   ]
  },
  {
   "cell_type": "code",
   "execution_count": 562,
   "metadata": {
    "collapsed": false
   },
   "outputs": [
    {
     "data": {
      "text/plain": [
       "0.008695840742507698"
      ]
     },
     "execution_count": 562,
     "metadata": {},
     "output_type": "execute_result"
    }
   ],
   "source": [
    "encode_bed.intersect(repeat_bed, f=min_overlap).count() / encode_bed.count()"
   ]
  },
  {
   "cell_type": "code",
   "execution_count": 563,
   "metadata": {
    "collapsed": false
   },
   "outputs": [
    {
     "data": {
      "text/plain": [
       "0.10677885240924664"
      ]
     },
     "execution_count": 563,
     "metadata": {},
     "output_type": "execute_result"
    }
   ],
   "source": [
    "encode_bed.intersect(repeat_shuffled_bed, f=min_overlap).count() / encode_bed.count()"
   ]
  },
  {
   "cell_type": "code",
   "execution_count": 564,
   "metadata": {
    "collapsed": false
   },
   "outputs": [
    {
     "data": {
      "text/plain": [
       "0.04377949826788496"
      ]
     },
     "execution_count": 564,
     "metadata": {},
     "output_type": "execute_result"
    }
   ],
   "source": [
    "fantom_bed.intersect(repeat_bed, f=min_overlap).count() / fantom_bed.count()"
   ]
  },
  {
   "cell_type": "code",
   "execution_count": 565,
   "metadata": {
    "collapsed": false
   },
   "outputs": [
    {
     "data": {
      "text/plain": [
       "0.13543047127479016"
      ]
     },
     "execution_count": 565,
     "metadata": {},
     "output_type": "execute_result"
    }
   ],
   "source": [
    "fantom_bed.intersect(repeat_shuffled_bed, f=min_overlap).count() / fantom_bed.count()"
   ]
  },
  {
   "cell_type": "code",
   "execution_count": 566,
   "metadata": {
    "collapsed": false
   },
   "outputs": [
    {
     "data": {
      "text/plain": [
       "0.04402133842217114"
      ]
     },
     "execution_count": 566,
     "metadata": {},
     "output_type": "execute_result"
    }
   ],
   "source": [
    "encode_bed.intersect(fantom_bed, f=min_overlap).count() / encode_bed.count()"
   ]
  },
  {
   "cell_type": "code",
   "execution_count": 567,
   "metadata": {
    "collapsed": false
   },
   "outputs": [
    {
     "data": {
      "text/plain": [
       "0.0047707854447673155"
      ]
     },
     "execution_count": 567,
     "metadata": {},
     "output_type": "execute_result"
    }
   ],
   "source": [
    "encode_bed.intersect(fantom_shuffled_bed, f=min_overlap).count() / encode_bed.count()"
   ]
  },
  {
   "cell_type": "markdown",
   "metadata": {},
   "source": [
    "## Closeness "
   ]
  },
  {
   "cell_type": "code",
   "execution_count": 568,
   "metadata": {
    "collapsed": true
   },
   "outputs": [],
   "source": [
    "fantom_sorted_bed = fantom_bed.sort()\n",
    "encode_sorted_bed = encode_bed.sort()\n",
    "repeat_sorted_bed = repeat_bed.sort()\n",
    "fantom_sorted_shuffled_bed = fantom_shuffled_bed.sort()\n",
    "repeat_sorted_shuffled_bed = repeat_shuffled_bed.sort()"
   ]
  },
  {
   "cell_type": "code",
   "execution_count": 569,
   "metadata": {
    "collapsed": false
   },
   "outputs": [],
   "source": [
    "encode_fantom_closeness = encode_sorted_bed.closest(fantom_sorted_bed, D='a')\n",
    "encode_fantom_random_closeness = encode_sorted_bed.closest(fantom_sorted_shuffled_bed, D='a')"
   ]
  },
  {
   "cell_type": "code",
   "execution_count": 570,
   "metadata": {
    "collapsed": false
   },
   "outputs": [
    {
     "name": "stdout",
     "output_type": "stream",
     "text": [
      "chr1\t714040\t714190\tENCODE.3.ENCFF564UIF.24656\t1\t.\tchr1\t858256\t858648\tFANTOM.5.PERMISSIVE.0\t5\t.\t144067\n",
      " chr1\t762860\t763010\tENCODE.3.ENCFF564UIF.35885\t1\t.\tchr1\t858256\t858648\tFANTOM.5.PERMISSIVE.0\t5\t.\t95247\n",
      " chr1\t856560\t856710\tENCODE.3.ENCFF564UIF.36899\t1\t.\tchr1\t858256\t858648\tFANTOM.5.PERMISSIVE.0\t5\t.\t1547\n",
      " chr1\t877080\t877230\tENCODE.3.ENCFF564UIF.32863\t1\t.\tchr1\t858256\t858648\tFANTOM.5.PERMISSIVE.0\t5\t.\t-18433\n",
      " chr1\t877620\t877770\tENCODE.3.ENCFF564UIF.44116\t1\t.\tchr1\t858256\t858648\tFANTOM.5.PERMISSIVE.0\t5\t.\t-18973\n",
      " chr1\t894660\t894810\tENCODE.3.ENCFF564UIF.40903\t1\t.\tchr1\t918449\t918555\tFANTOM.5.PERMISSIVE.1\t18\t.\t23640\n",
      " chr1\t895840\t895990\tENCODE.3.ENCFF564UIF.43928\t1\t.\tchr1\t918449\t918555\tFANTOM.5.PERMISSIVE.1\t18\t.\t22460\n",
      " chr1\t911600\t911750\tENCODE.3.ENCFF564UIF.41951\t1\t.\tchr1\t918449\t918555\tFANTOM.5.PERMISSIVE.1\t18\t.\t6700\n",
      " chr1\t932320\t932470\tENCODE.3.ENCFF564UIF.45801\t1\t.\tchr1\t941791\t942135\tFANTOM.5.PERMISSIVE.2\t2\t.\t9322\n",
      " chr1\t932493\t933177\tENCODE.3.ENCFF564UIF.43140\t1\t.\tchr1\t941791\t942135\tFANTOM.5.PERMISSIVE.2\t2\t.\t8615\n",
      " None\n",
      "chr1\t714040\t714190\tENCODE.3.ENCFF564UIF.24656\t1\t.\tchr1\t620422\t620741\tFANTOM.5.PERMISSIVE.35807\t129\t.\t-93300\n",
      " chr1\t762860\t763010\tENCODE.3.ENCFF564UIF.35885\t1\t.\tchr1\t819387\t819767\tFANTOM.5.PERMISSIVE.9769\t22\t.\t56378\n",
      " chr1\t856560\t856710\tENCODE.3.ENCFF564UIF.36899\t1\t.\tchr1\t855634\t856198\tFANTOM.5.PERMISSIVE.28114\t194\t.\t-363\n",
      " chr1\t877080\t877230\tENCODE.3.ENCFF564UIF.32863\t1\t.\tchr1\t878773\t878929\tFANTOM.5.PERMISSIVE.15531\t15\t.\t1544\n",
      " chr1\t877620\t877770\tENCODE.3.ENCFF564UIF.44116\t1\t.\tchr1\t878773\t878929\tFANTOM.5.PERMISSIVE.15531\t15\t.\t1004\n",
      " chr1\t894660\t894810\tENCODE.3.ENCFF564UIF.40903\t1\t.\tchr1\t878773\t878929\tFANTOM.5.PERMISSIVE.15531\t15\t.\t-15732\n",
      " chr1\t895840\t895990\tENCODE.3.ENCFF564UIF.43928\t1\t.\tchr1\t878773\t878929\tFANTOM.5.PERMISSIVE.15531\t15\t.\t-16912\n",
      " chr1\t911600\t911750\tENCODE.3.ENCFF564UIF.41951\t1\t.\tchr1\t878773\t878929\tFANTOM.5.PERMISSIVE.15531\t15\t.\t-32672\n",
      " chr1\t932320\t932470\tENCODE.3.ENCFF564UIF.45801\t1\t.\tchr1\t878773\t878929\tFANTOM.5.PERMISSIVE.15531\t15\t.\t-53392\n",
      " chr1\t932493\t933177\tENCODE.3.ENCFF564UIF.43140\t1\t.\tchr1\t878773\t878929\tFANTOM.5.PERMISSIVE.15531\t15\t.\t-53565\n",
      " None\n"
     ]
    }
   ],
   "source": [
    "print(encode_fantom_closeness.head())\n",
    "print(encode_fantom_random_closeness.head())"
   ]
  },
  {
   "cell_type": "code",
   "execution_count": 571,
   "metadata": {
    "collapsed": false
   },
   "outputs": [
    {
     "name": "stderr",
     "output_type": "stream",
     "text": [
      "/Users/manuel/anaconda/lib/python3.5/site-packages/pybedtools/bedtool.py:3199: UserWarning: Default names for filetype bed are:\n",
      "['chrom', 'start', 'end', 'name', 'score', 'strand', 'thickStart', 'thickEnd', 'itemRgb', 'blockCount', 'blockSizes', 'blockStarts']\n",
      "but file has 13 fields; you can supply custom names with the `names` kwarg\n",
      "  % (self.file_type, _names, self.field_count()))\n"
     ]
    }
   ],
   "source": [
    "encode_fantom_closeness_df = encode_fantom_closeness.to_dataframe()\n",
    "encode_fantom_random_closeness_df = encode_fantom_random_closeness.to_dataframe()"
   ]
  },
  {
   "cell_type": "code",
   "execution_count": 572,
   "metadata": {
    "collapsed": false
   },
   "outputs": [],
   "source": [
    "closeness_columns = ['chrom', 'start', 'end', 'name', 'score', 'strand', \n",
    "                                      'close_chrom', 'close_start','close_end', 'close_name', 'close_score', 'close_strand',\n",
    "                                      'distance']\n",
    "\n",
    "encode_fantom_closeness_df.columns = closeness_columns\n",
    "encode_fantom_random_closeness_df.columns = closeness_columns"
   ]
  },
  {
   "cell_type": "code",
   "execution_count": 573,
   "metadata": {
    "collapsed": false
   },
   "outputs": [
    {
     "data": {
      "text/html": [
       "<div>\n",
       "<table border=\"1\" class=\"dataframe\">\n",
       "  <thead>\n",
       "    <tr style=\"text-align: right;\">\n",
       "      <th></th>\n",
       "      <th>chrom</th>\n",
       "      <th>start</th>\n",
       "      <th>end</th>\n",
       "      <th>name</th>\n",
       "      <th>score</th>\n",
       "      <th>strand</th>\n",
       "      <th>close_chrom</th>\n",
       "      <th>close_start</th>\n",
       "      <th>close_end</th>\n",
       "      <th>close_name</th>\n",
       "      <th>close_score</th>\n",
       "      <th>close_strand</th>\n",
       "      <th>distance</th>\n",
       "    </tr>\n",
       "  </thead>\n",
       "  <tbody>\n",
       "    <tr>\n",
       "      <th>0</th>\n",
       "      <td>chr1</td>\n",
       "      <td>714040</td>\n",
       "      <td>714190</td>\n",
       "      <td>ENCODE.3.ENCFF564UIF.24656</td>\n",
       "      <td>1</td>\n",
       "      <td>.</td>\n",
       "      <td>chr1</td>\n",
       "      <td>858256</td>\n",
       "      <td>858648</td>\n",
       "      <td>FANTOM.5.PERMISSIVE.0</td>\n",
       "      <td>5</td>\n",
       "      <td>.</td>\n",
       "      <td>144067</td>\n",
       "    </tr>\n",
       "    <tr>\n",
       "      <th>1</th>\n",
       "      <td>chr1</td>\n",
       "      <td>762860</td>\n",
       "      <td>763010</td>\n",
       "      <td>ENCODE.3.ENCFF564UIF.35885</td>\n",
       "      <td>1</td>\n",
       "      <td>.</td>\n",
       "      <td>chr1</td>\n",
       "      <td>858256</td>\n",
       "      <td>858648</td>\n",
       "      <td>FANTOM.5.PERMISSIVE.0</td>\n",
       "      <td>5</td>\n",
       "      <td>.</td>\n",
       "      <td>95247</td>\n",
       "    </tr>\n",
       "    <tr>\n",
       "      <th>2</th>\n",
       "      <td>chr1</td>\n",
       "      <td>856560</td>\n",
       "      <td>856710</td>\n",
       "      <td>ENCODE.3.ENCFF564UIF.36899</td>\n",
       "      <td>1</td>\n",
       "      <td>.</td>\n",
       "      <td>chr1</td>\n",
       "      <td>858256</td>\n",
       "      <td>858648</td>\n",
       "      <td>FANTOM.5.PERMISSIVE.0</td>\n",
       "      <td>5</td>\n",
       "      <td>.</td>\n",
       "      <td>1547</td>\n",
       "    </tr>\n",
       "    <tr>\n",
       "      <th>3</th>\n",
       "      <td>chr1</td>\n",
       "      <td>877080</td>\n",
       "      <td>877230</td>\n",
       "      <td>ENCODE.3.ENCFF564UIF.32863</td>\n",
       "      <td>1</td>\n",
       "      <td>.</td>\n",
       "      <td>chr1</td>\n",
       "      <td>858256</td>\n",
       "      <td>858648</td>\n",
       "      <td>FANTOM.5.PERMISSIVE.0</td>\n",
       "      <td>5</td>\n",
       "      <td>.</td>\n",
       "      <td>-18433</td>\n",
       "    </tr>\n",
       "    <tr>\n",
       "      <th>4</th>\n",
       "      <td>chr1</td>\n",
       "      <td>877620</td>\n",
       "      <td>877770</td>\n",
       "      <td>ENCODE.3.ENCFF564UIF.44116</td>\n",
       "      <td>1</td>\n",
       "      <td>.</td>\n",
       "      <td>chr1</td>\n",
       "      <td>858256</td>\n",
       "      <td>858648</td>\n",
       "      <td>FANTOM.5.PERMISSIVE.0</td>\n",
       "      <td>5</td>\n",
       "      <td>.</td>\n",
       "      <td>-18973</td>\n",
       "    </tr>\n",
       "  </tbody>\n",
       "</table>\n",
       "</div>"
      ],
      "text/plain": [
       "  chrom   start     end                        name  score strand close_chrom  \\\n",
       "0  chr1  714040  714190  ENCODE.3.ENCFF564UIF.24656      1      .        chr1   \n",
       "1  chr1  762860  763010  ENCODE.3.ENCFF564UIF.35885      1      .        chr1   \n",
       "2  chr1  856560  856710  ENCODE.3.ENCFF564UIF.36899      1      .        chr1   \n",
       "3  chr1  877080  877230  ENCODE.3.ENCFF564UIF.32863      1      .        chr1   \n",
       "4  chr1  877620  877770  ENCODE.3.ENCFF564UIF.44116      1      .        chr1   \n",
       "\n",
       "   close_start  close_end             close_name  close_score close_strand  \\\n",
       "0       858256     858648  FANTOM.5.PERMISSIVE.0            5            .   \n",
       "1       858256     858648  FANTOM.5.PERMISSIVE.0            5            .   \n",
       "2       858256     858648  FANTOM.5.PERMISSIVE.0            5            .   \n",
       "3       858256     858648  FANTOM.5.PERMISSIVE.0            5            .   \n",
       "4       858256     858648  FANTOM.5.PERMISSIVE.0            5            .   \n",
       "\n",
       "   distance  \n",
       "0    144067  \n",
       "1     95247  \n",
       "2      1547  \n",
       "3    -18433  \n",
       "4    -18973  "
      ]
     },
     "execution_count": 573,
     "metadata": {},
     "output_type": "execute_result"
    }
   ],
   "source": [
    "encode_fantom_closeness_df.head()"
   ]
  },
  {
   "cell_type": "code",
   "execution_count": 574,
   "metadata": {
    "collapsed": false
   },
   "outputs": [
    {
     "data": {
      "text/html": [
       "<div>\n",
       "<table border=\"1\" class=\"dataframe\">\n",
       "  <thead>\n",
       "    <tr style=\"text-align: right;\">\n",
       "      <th></th>\n",
       "      <th>chrom</th>\n",
       "      <th>start</th>\n",
       "      <th>end</th>\n",
       "      <th>name</th>\n",
       "      <th>score</th>\n",
       "      <th>strand</th>\n",
       "      <th>close_chrom</th>\n",
       "      <th>close_start</th>\n",
       "      <th>close_end</th>\n",
       "      <th>close_name</th>\n",
       "      <th>close_score</th>\n",
       "      <th>close_strand</th>\n",
       "      <th>distance</th>\n",
       "    </tr>\n",
       "  </thead>\n",
       "  <tbody>\n",
       "    <tr>\n",
       "      <th>0</th>\n",
       "      <td>chr1</td>\n",
       "      <td>714040</td>\n",
       "      <td>714190</td>\n",
       "      <td>ENCODE.3.ENCFF564UIF.24656</td>\n",
       "      <td>1</td>\n",
       "      <td>.</td>\n",
       "      <td>chr1</td>\n",
       "      <td>620422</td>\n",
       "      <td>620741</td>\n",
       "      <td>FANTOM.5.PERMISSIVE.35807</td>\n",
       "      <td>129</td>\n",
       "      <td>.</td>\n",
       "      <td>-93300</td>\n",
       "    </tr>\n",
       "    <tr>\n",
       "      <th>1</th>\n",
       "      <td>chr1</td>\n",
       "      <td>762860</td>\n",
       "      <td>763010</td>\n",
       "      <td>ENCODE.3.ENCFF564UIF.35885</td>\n",
       "      <td>1</td>\n",
       "      <td>.</td>\n",
       "      <td>chr1</td>\n",
       "      <td>819387</td>\n",
       "      <td>819767</td>\n",
       "      <td>FANTOM.5.PERMISSIVE.9769</td>\n",
       "      <td>22</td>\n",
       "      <td>.</td>\n",
       "      <td>56378</td>\n",
       "    </tr>\n",
       "    <tr>\n",
       "      <th>2</th>\n",
       "      <td>chr1</td>\n",
       "      <td>856560</td>\n",
       "      <td>856710</td>\n",
       "      <td>ENCODE.3.ENCFF564UIF.36899</td>\n",
       "      <td>1</td>\n",
       "      <td>.</td>\n",
       "      <td>chr1</td>\n",
       "      <td>855634</td>\n",
       "      <td>856198</td>\n",
       "      <td>FANTOM.5.PERMISSIVE.28114</td>\n",
       "      <td>194</td>\n",
       "      <td>.</td>\n",
       "      <td>-363</td>\n",
       "    </tr>\n",
       "    <tr>\n",
       "      <th>3</th>\n",
       "      <td>chr1</td>\n",
       "      <td>877080</td>\n",
       "      <td>877230</td>\n",
       "      <td>ENCODE.3.ENCFF564UIF.32863</td>\n",
       "      <td>1</td>\n",
       "      <td>.</td>\n",
       "      <td>chr1</td>\n",
       "      <td>878773</td>\n",
       "      <td>878929</td>\n",
       "      <td>FANTOM.5.PERMISSIVE.15531</td>\n",
       "      <td>15</td>\n",
       "      <td>.</td>\n",
       "      <td>1544</td>\n",
       "    </tr>\n",
       "    <tr>\n",
       "      <th>4</th>\n",
       "      <td>chr1</td>\n",
       "      <td>877620</td>\n",
       "      <td>877770</td>\n",
       "      <td>ENCODE.3.ENCFF564UIF.44116</td>\n",
       "      <td>1</td>\n",
       "      <td>.</td>\n",
       "      <td>chr1</td>\n",
       "      <td>878773</td>\n",
       "      <td>878929</td>\n",
       "      <td>FANTOM.5.PERMISSIVE.15531</td>\n",
       "      <td>15</td>\n",
       "      <td>.</td>\n",
       "      <td>1004</td>\n",
       "    </tr>\n",
       "  </tbody>\n",
       "</table>\n",
       "</div>"
      ],
      "text/plain": [
       "  chrom   start     end                        name  score strand close_chrom  \\\n",
       "0  chr1  714040  714190  ENCODE.3.ENCFF564UIF.24656      1      .        chr1   \n",
       "1  chr1  762860  763010  ENCODE.3.ENCFF564UIF.35885      1      .        chr1   \n",
       "2  chr1  856560  856710  ENCODE.3.ENCFF564UIF.36899      1      .        chr1   \n",
       "3  chr1  877080  877230  ENCODE.3.ENCFF564UIF.32863      1      .        chr1   \n",
       "4  chr1  877620  877770  ENCODE.3.ENCFF564UIF.44116      1      .        chr1   \n",
       "\n",
       "   close_start  close_end                 close_name  close_score  \\\n",
       "0       620422     620741  FANTOM.5.PERMISSIVE.35807          129   \n",
       "1       819387     819767   FANTOM.5.PERMISSIVE.9769           22   \n",
       "2       855634     856198  FANTOM.5.PERMISSIVE.28114          194   \n",
       "3       878773     878929  FANTOM.5.PERMISSIVE.15531           15   \n",
       "4       878773     878929  FANTOM.5.PERMISSIVE.15531           15   \n",
       "\n",
       "  close_strand  distance  \n",
       "0            .    -93300  \n",
       "1            .     56378  \n",
       "2            .      -363  \n",
       "3            .      1544  \n",
       "4            .      1004  "
      ]
     },
     "execution_count": 574,
     "metadata": {},
     "output_type": "execute_result"
    }
   ],
   "source": [
    "encode_fantom_random_closeness_df.head()"
   ]
  },
  {
   "cell_type": "code",
   "execution_count": 575,
   "metadata": {
    "collapsed": false
   },
   "outputs": [
    {
     "data": {
      "text/plain": [
       "3591"
      ]
     },
     "execution_count": 575,
     "metadata": {},
     "output_type": "execute_result"
    }
   ],
   "source": [
    "len(encode_fantom_closeness_df.query(\"distance == 0\"))"
   ]
  },
  {
   "cell_type": "code",
   "execution_count": 576,
   "metadata": {
    "collapsed": false
   },
   "outputs": [
    {
     "data": {
      "text/plain": [
       "3591"
      ]
     },
     "execution_count": 576,
     "metadata": {},
     "output_type": "execute_result"
    }
   ],
   "source": [
    "encode_bed.intersect(fantom_bed).count()"
   ]
  },
  {
   "cell_type": "code",
   "execution_count": 577,
   "metadata": {
    "collapsed": true
   },
   "outputs": [],
   "source": [
    "def compute_centers(closeness_df):\n",
    "    closeness_df['centered_locus'] = round(\n",
    "        (closeness_df['end'] - closeness_df['start'])/2 \n",
    "        + closeness_df['start']).astype(int)\n",
    "\n",
    "    closeness_df['close_centered_locus'] = round(\n",
    "        (closeness_df['close_end'] - closeness_df['close_start'])/2 \n",
    "        + closeness_df['close_start']).astype(int)\n",
    "\n",
    "    closeness_df['centered_distance'] = closeness_df['close_centered_locus'] - closeness_df['centered_locus'] \n",
    "    return closeness_df\n"
   ]
  },
  {
   "cell_type": "code",
   "execution_count": 578,
   "metadata": {
    "collapsed": false
   },
   "outputs": [],
   "source": [
    "#compute centers of both ranges lists\n",
    "encode_fantom_closeness_df = compute_centers(encode_fantom_closeness_df)\n",
    "encode_fantom_random_closeness_df = compute_centers(encode_fantom_random_closeness_df)"
   ]
  },
  {
   "cell_type": "code",
   "execution_count": 579,
   "metadata": {
    "collapsed": false
   },
   "outputs": [
    {
     "data": {
      "text/html": [
       "<div>\n",
       "<table border=\"1\" class=\"dataframe\">\n",
       "  <thead>\n",
       "    <tr style=\"text-align: right;\">\n",
       "      <th></th>\n",
       "      <th>chrom</th>\n",
       "      <th>start</th>\n",
       "      <th>end</th>\n",
       "      <th>name</th>\n",
       "      <th>score</th>\n",
       "      <th>strand</th>\n",
       "      <th>close_chrom</th>\n",
       "      <th>close_start</th>\n",
       "      <th>close_end</th>\n",
       "      <th>close_name</th>\n",
       "      <th>close_score</th>\n",
       "      <th>close_strand</th>\n",
       "      <th>distance</th>\n",
       "      <th>centered_locus</th>\n",
       "      <th>close_centered_locus</th>\n",
       "      <th>centered_distance</th>\n",
       "    </tr>\n",
       "  </thead>\n",
       "  <tbody>\n",
       "    <tr>\n",
       "      <th>0</th>\n",
       "      <td>chr1</td>\n",
       "      <td>714040</td>\n",
       "      <td>714190</td>\n",
       "      <td>ENCODE.3.ENCFF564UIF.24656</td>\n",
       "      <td>1</td>\n",
       "      <td>.</td>\n",
       "      <td>chr1</td>\n",
       "      <td>858256</td>\n",
       "      <td>858648</td>\n",
       "      <td>FANTOM.5.PERMISSIVE.0</td>\n",
       "      <td>5</td>\n",
       "      <td>.</td>\n",
       "      <td>144067</td>\n",
       "      <td>714115</td>\n",
       "      <td>858452</td>\n",
       "      <td>144337</td>\n",
       "    </tr>\n",
       "    <tr>\n",
       "      <th>1</th>\n",
       "      <td>chr1</td>\n",
       "      <td>762860</td>\n",
       "      <td>763010</td>\n",
       "      <td>ENCODE.3.ENCFF564UIF.35885</td>\n",
       "      <td>1</td>\n",
       "      <td>.</td>\n",
       "      <td>chr1</td>\n",
       "      <td>858256</td>\n",
       "      <td>858648</td>\n",
       "      <td>FANTOM.5.PERMISSIVE.0</td>\n",
       "      <td>5</td>\n",
       "      <td>.</td>\n",
       "      <td>95247</td>\n",
       "      <td>762935</td>\n",
       "      <td>858452</td>\n",
       "      <td>95517</td>\n",
       "    </tr>\n",
       "    <tr>\n",
       "      <th>2</th>\n",
       "      <td>chr1</td>\n",
       "      <td>856560</td>\n",
       "      <td>856710</td>\n",
       "      <td>ENCODE.3.ENCFF564UIF.36899</td>\n",
       "      <td>1</td>\n",
       "      <td>.</td>\n",
       "      <td>chr1</td>\n",
       "      <td>858256</td>\n",
       "      <td>858648</td>\n",
       "      <td>FANTOM.5.PERMISSIVE.0</td>\n",
       "      <td>5</td>\n",
       "      <td>.</td>\n",
       "      <td>1547</td>\n",
       "      <td>856635</td>\n",
       "      <td>858452</td>\n",
       "      <td>1817</td>\n",
       "    </tr>\n",
       "    <tr>\n",
       "      <th>3</th>\n",
       "      <td>chr1</td>\n",
       "      <td>877080</td>\n",
       "      <td>877230</td>\n",
       "      <td>ENCODE.3.ENCFF564UIF.32863</td>\n",
       "      <td>1</td>\n",
       "      <td>.</td>\n",
       "      <td>chr1</td>\n",
       "      <td>858256</td>\n",
       "      <td>858648</td>\n",
       "      <td>FANTOM.5.PERMISSIVE.0</td>\n",
       "      <td>5</td>\n",
       "      <td>.</td>\n",
       "      <td>-18433</td>\n",
       "      <td>877155</td>\n",
       "      <td>858452</td>\n",
       "      <td>-18703</td>\n",
       "    </tr>\n",
       "    <tr>\n",
       "      <th>4</th>\n",
       "      <td>chr1</td>\n",
       "      <td>877620</td>\n",
       "      <td>877770</td>\n",
       "      <td>ENCODE.3.ENCFF564UIF.44116</td>\n",
       "      <td>1</td>\n",
       "      <td>.</td>\n",
       "      <td>chr1</td>\n",
       "      <td>858256</td>\n",
       "      <td>858648</td>\n",
       "      <td>FANTOM.5.PERMISSIVE.0</td>\n",
       "      <td>5</td>\n",
       "      <td>.</td>\n",
       "      <td>-18973</td>\n",
       "      <td>877695</td>\n",
       "      <td>858452</td>\n",
       "      <td>-19243</td>\n",
       "    </tr>\n",
       "  </tbody>\n",
       "</table>\n",
       "</div>"
      ],
      "text/plain": [
       "  chrom   start     end                        name  score strand close_chrom  \\\n",
       "0  chr1  714040  714190  ENCODE.3.ENCFF564UIF.24656      1      .        chr1   \n",
       "1  chr1  762860  763010  ENCODE.3.ENCFF564UIF.35885      1      .        chr1   \n",
       "2  chr1  856560  856710  ENCODE.3.ENCFF564UIF.36899      1      .        chr1   \n",
       "3  chr1  877080  877230  ENCODE.3.ENCFF564UIF.32863      1      .        chr1   \n",
       "4  chr1  877620  877770  ENCODE.3.ENCFF564UIF.44116      1      .        chr1   \n",
       "\n",
       "   close_start  close_end             close_name  close_score close_strand  \\\n",
       "0       858256     858648  FANTOM.5.PERMISSIVE.0            5            .   \n",
       "1       858256     858648  FANTOM.5.PERMISSIVE.0            5            .   \n",
       "2       858256     858648  FANTOM.5.PERMISSIVE.0            5            .   \n",
       "3       858256     858648  FANTOM.5.PERMISSIVE.0            5            .   \n",
       "4       858256     858648  FANTOM.5.PERMISSIVE.0            5            .   \n",
       "\n",
       "   distance  centered_locus  close_centered_locus  centered_distance  \n",
       "0    144067          714115                858452             144337  \n",
       "1     95247          762935                858452              95517  \n",
       "2      1547          856635                858452               1817  \n",
       "3    -18433          877155                858452             -18703  \n",
       "4    -18973          877695                858452             -19243  "
      ]
     },
     "execution_count": 579,
     "metadata": {},
     "output_type": "execute_result"
    }
   ],
   "source": [
    "encode_fantom_closeness_df.head()"
   ]
  },
  {
   "cell_type": "code",
   "execution_count": 580,
   "metadata": {
    "collapsed": false
   },
   "outputs": [
    {
     "data": {
      "text/plain": [
       "144066"
      ]
     },
     "execution_count": 580,
     "metadata": {},
     "output_type": "execute_result"
    }
   ],
   "source": [
    "858256 - 714190"
   ]
  },
  {
   "cell_type": "code",
   "execution_count": 581,
   "metadata": {
    "collapsed": false
   },
   "outputs": [
    {
     "data": {
      "text/plain": [
       "-18432"
      ]
     },
     "execution_count": 581,
     "metadata": {},
     "output_type": "execute_result"
    }
   ],
   "source": [
    "858648 - 877080"
   ]
  },
  {
   "cell_type": "code",
   "execution_count": 582,
   "metadata": {
    "collapsed": false
   },
   "outputs": [
    {
     "data": {
      "text/html": [
       "<div>\n",
       "<table border=\"1\" class=\"dataframe\">\n",
       "  <thead>\n",
       "    <tr style=\"text-align: right;\">\n",
       "      <th></th>\n",
       "      <th>centered_distance</th>\n",
       "    </tr>\n",
       "  </thead>\n",
       "  <tbody>\n",
       "    <tr>\n",
       "      <th>count</th>\n",
       "      <td>4.638600e+04</td>\n",
       "    </tr>\n",
       "    <tr>\n",
       "      <th>mean</th>\n",
       "      <td>2.663937e+02</td>\n",
       "    </tr>\n",
       "    <tr>\n",
       "      <th>std</th>\n",
       "      <td>7.578156e+04</td>\n",
       "    </tr>\n",
       "    <tr>\n",
       "      <th>min</th>\n",
       "      <td>-1.381064e+06</td>\n",
       "    </tr>\n",
       "    <tr>\n",
       "      <th>25%</th>\n",
       "      <td>-1.620700e+04</td>\n",
       "    </tr>\n",
       "    <tr>\n",
       "      <th>50%</th>\n",
       "      <td>6.000000e+00</td>\n",
       "    </tr>\n",
       "    <tr>\n",
       "      <th>75%</th>\n",
       "      <td>1.605150e+04</td>\n",
       "    </tr>\n",
       "    <tr>\n",
       "      <th>max</th>\n",
       "      <td>1.370528e+06</td>\n",
       "    </tr>\n",
       "  </tbody>\n",
       "</table>\n",
       "</div>"
      ],
      "text/plain": [
       "       centered_distance\n",
       "count       4.638600e+04\n",
       "mean        2.663937e+02\n",
       "std         7.578156e+04\n",
       "min        -1.381064e+06\n",
       "25%        -1.620700e+04\n",
       "50%         6.000000e+00\n",
       "75%         1.605150e+04\n",
       "max         1.370528e+06"
      ]
     },
     "execution_count": 582,
     "metadata": {},
     "output_type": "execute_result"
    }
   ],
   "source": [
    "encode_fantom_closeness_df[['centered_distance']].describe()"
   ]
  },
  {
   "cell_type": "code",
   "execution_count": 583,
   "metadata": {
    "collapsed": false
   },
   "outputs": [
    {
     "data": {
      "text/html": [
       "<div>\n",
       "<table border=\"1\" class=\"dataframe\">\n",
       "  <thead>\n",
       "    <tr style=\"text-align: right;\">\n",
       "      <th></th>\n",
       "      <th>centered_distance</th>\n",
       "    </tr>\n",
       "  </thead>\n",
       "  <tbody>\n",
       "    <tr>\n",
       "      <th>count</th>\n",
       "      <td>46118.000000</td>\n",
       "    </tr>\n",
       "    <tr>\n",
       "      <th>mean</th>\n",
       "      <td>79.040071</td>\n",
       "    </tr>\n",
       "    <tr>\n",
       "      <th>std</th>\n",
       "      <td>51107.444916</td>\n",
       "    </tr>\n",
       "    <tr>\n",
       "      <th>min</th>\n",
       "      <td>-450830.000000</td>\n",
       "    </tr>\n",
       "    <tr>\n",
       "      <th>25%</th>\n",
       "      <td>-25091.000000</td>\n",
       "    </tr>\n",
       "    <tr>\n",
       "      <th>50%</th>\n",
       "      <td>142.000000</td>\n",
       "    </tr>\n",
       "    <tr>\n",
       "      <th>75%</th>\n",
       "      <td>25399.250000</td>\n",
       "    </tr>\n",
       "    <tr>\n",
       "      <th>max</th>\n",
       "      <td>309377.000000</td>\n",
       "    </tr>\n",
       "  </tbody>\n",
       "</table>\n",
       "</div>"
      ],
      "text/plain": [
       "       centered_distance\n",
       "count       46118.000000\n",
       "mean           79.040071\n",
       "std         51107.444916\n",
       "min       -450830.000000\n",
       "25%        -25091.000000\n",
       "50%           142.000000\n",
       "75%         25399.250000\n",
       "max        309377.000000"
      ]
     },
     "execution_count": 583,
     "metadata": {},
     "output_type": "execute_result"
    }
   ],
   "source": [
    "encode_fantom_random_closeness_df[['centered_distance']].describe()"
   ]
  },
  {
   "cell_type": "code",
   "execution_count": 584,
   "metadata": {
    "collapsed": false
   },
   "outputs": [
    {
     "data": {
      "image/png": "[encoded data removed]",
      "text/plain": [
       "<matplotlib.figure.Figure at 0x65ef86eb8>"
      ]
     },
     "metadata": {},
     "output_type": "display_data"
    }
   ],
   "source": [
    "# simple plot of distances from start/end of intervals\n",
    "import seaborn as sns\n",
    "from scipy import stats\n",
    "sns.set(style=\"whitegrid\")\n",
    "%matplotlib inline\n",
    "sns.set_context(\"poster\", font_scale=0.8, rc={\"lines.linewidth\": 1})\n",
    "g = sns.distplot(encode_fantom_closeness_df[['centered_distance']], kde=False, bins=100)\n"
   ]
  },
  {
   "cell_type": "code",
   "execution_count": 585,
   "metadata": {
    "collapsed": false
   },
   "outputs": [
    {
     "data": {
      "image/png": "[encoded data removed]",
      "text/plain": [
       "<matplotlib.figure.Figure at 0x655864048>"
      ]
     },
     "metadata": {},
     "output_type": "display_data"
    }
   ],
   "source": [
    "g = sns.distplot(encode_fantom_random_closeness_df[['centered_distance']], kde=False,bins=100)\n"
   ]
  },
  {
   "cell_type": "code",
   "execution_count": 607,
   "metadata": {
    "collapsed": true
   },
   "outputs": [],
   "source": [
    "def compute_centers(closeness_df):\n",
    "    closeness_df['centered_locus'] = round(\n",
    "        (closeness_df['end'] - closeness_df['start'])/2 \n",
    "        + closeness_df['start']).astype(int)\n",
    "\n",
    "    closeness_df['close_centered_locus'] = round(\n",
    "        (closeness_df['close_end'] - closeness_df['close_start'])/2 \n",
    "        + closeness_df['close_start']).astype(int)\n",
    "\n",
    "    closeness_df['centered_distance'] = closeness_df['close_centered_locus'] - closeness_df['centered_locus'] \n",
    "    return closeness_df\n",
    "\n",
    "def build_closeness_analysis(bed, bed_with, assembly, conserve_chrom):\n",
    "    \n",
    "    closeness_columns = ['chrom', 'start', 'end', 'name', 'score', 'strand',\n",
    "                         'close_chrom', 'close_start','close_end', \n",
    "                         'close_name', 'close_score', 'close_strand', 'distance']\n",
    "    \n",
    "    shuffled_bed = bed.shuffle(genome=assembly, chrom=conserve_chrom).sort()\n",
    "    shuffled_bed_with = bed_with.shuffle(genome=assembly, chrom=conserve_chrom).sort()\n",
    "    \n",
    "    sorted_bed = bed.sort()\n",
    "    sorted_bed_with = bed_with.sort()\n",
    "    \n",
    "    # real on real\n",
    "    closeness = sorted_bed.closest(sorted_bed_with, D='a')\n",
    "    closeness_df = closeness.to_dataframe()\n",
    "    closeness_df.columns = closeness_columns\n",
    "    closeness_df = compute_centers(closeness_df)\n",
    "    \n",
    "    # genomic background1: real on shuffled\n",
    "    shuffled_closeness = bed.closest(shuffled_bed_with, D='a')\n",
    "    shuffled_closeness_df = shuffled_closeness.to_dataframe()\n",
    "    shuffled_closeness_df.columns = closeness_columns\n",
    "    shuffled_closeness_df = compute_centers(shuffled_closeness_df)\n",
    "    \n",
    "    #genomic background2: shuffled on shuffled\n",
    "    totally_shuffled_closeness = shuffled_bed.closest(shuffled_bed_with, D='a')\n",
    "    totally_shuffled_closeness_df = totally_shuffled_closeness.to_dataframe()\n",
    "    totally_shuffled_closeness_df.columns = closeness_columns\n",
    "    totally_shuffled_closeness_df = compute_centers(totally_shuffled_closeness_df)\n",
    "    "
   ]
  },
  {
   "cell_type": "code",
   "execution_count": 586,
   "metadata": {
    "collapsed": false
   },
   "outputs": [
    {
     "name": "stderr",
     "output_type": "stream",
     "text": [
      "/Users/manuel/anaconda/lib/python3.5/site-packages/pybedtools/bedtool.py:3199: UserWarning: Default names for filetype bed are:\n",
      "['chrom', 'start', 'end', 'name', 'score', 'strand', 'thickStart', 'thickEnd', 'itemRgb', 'blockCount', 'blockSizes', 'blockStarts']\n",
      "but file has 13 fields; you can supply custom names with the `names` kwarg\n",
      "  % (self.file_type, _names, self.field_count()))\n"
     ]
    }
   ],
   "source": [
    "encode_repeat_closeness = encode_sorted_bed.closest(repeat_sorted_bed, D='a')\n",
    "encode_repeat_closeness_df = encode_repeat_closeness.to_dataframe()\n",
    "encode_repeat_closeness_df.columns = closeness_columns\n",
    "encode_repeat_closeness_df = compute_centers(encode_repeat_closeness_df)"
   ]
  },
  {
   "cell_type": "code",
   "execution_count": 617,
   "metadata": {
    "collapsed": false
   },
   "outputs": [
    {
     "data": {
      "text/plain": [
       "(-10000, 10000)"
      ]
     },
     "execution_count": 617,
     "metadata": {},
     "output_type": "execute_result"
    },
    {
     "data": {
      "image/png": "[encoded data removed]",
      "text/plain": [
       "<matplotlib.figure.Figure at 0x650ca7320>"
      ]
     },
     "metadata": {},
     "output_type": "display_data"
    }
   ],
   "source": [
    "# simple plot of distances from start/end of intervals\n",
    "import seaborn as sns\n",
    "from scipy import stats\n",
    "sns.set(style=\"whitegrid\")\n",
    "%matplotlib inline\n",
    "sns.set_context(\"poster\", font_scale=0.8, rc={\"lines.linewidth\": 1})\n",
    "g = sns.distplot(encode_repeat_closeness_df[['centered_distance']], kde=False, bins=1000)\n",
    "g.set_xlim(-10000, 10000)"
   ]
  },
  {
   "cell_type": "code",
   "execution_count": 746,
   "metadata": {
    "collapsed": false
   },
   "outputs": [
    {
     "name": "stderr",
     "output_type": "stream",
     "text": [
      "/Users/manuel/anaconda/lib/python3.5/site-packages/pybedtools/bedtool.py:3199: UserWarning: Default names for filetype bed are:\n",
      "['chrom', 'start', 'end', 'name', 'score', 'strand', 'thickStart', 'thickEnd', 'itemRgb', 'blockCount', 'blockSizes', 'blockStarts']\n",
      "but file has 13 fields; you can supply custom names with the `names` kwarg\n",
      "  % (self.file_type, _names, self.field_count()))\n"
     ]
    }
   ],
   "source": [
    "encode_repeat_shuffled_closeness = encode_sorted_bed.closest(repeat_sorted_shuffled_bed, D='a')\n",
    "encode_repeat_shuffled_closeness_df = encode_repeat_shuffled_closeness.to_dataframe()\n",
    "encode_repeat_shuffled_closeness_df.columns = closeness_columns\n",
    "encode_repeat_shuffled_closeness_df = compute_centers(encode_repeat_shuffled_closeness_df)"
   ]
  },
  {
   "cell_type": "code",
   "execution_count": 747,
   "metadata": {
    "collapsed": false
   },
   "outputs": [
    {
     "data": {
      "text/plain": [
       "(-10000, 10000)"
      ]
     },
     "execution_count": 747,
     "metadata": {},
     "output_type": "execute_result"
    },
    {
     "data": {
      "image/png": "[encoded data removed]",
      "text/plain": [
       "<matplotlib.figure.Figure at 0x64d8fae80>"
      ]
     },
     "metadata": {},
     "output_type": "display_data"
    }
   ],
   "source": [
    "# simple plot of distances from start/end of intervals\n",
    "import seaborn as sns\n",
    "from scipy import stats\n",
    "sns.set(style=\"whitegrid\")\n",
    "%matplotlib inline\n",
    "sns.set_context(\"poster\", font_scale=0.8, rc={\"lines.linewidth\": 1})\n",
    "g = sns.distplot(encode_repeat_shuffled_closeness_df[['centered_distance']], kde=False, bins=1000)\n",
    "g.set_xlim(-10000, 10000)"
   ]
  },
  {
   "cell_type": "code",
   "execution_count": 748,
   "metadata": {
    "collapsed": false
   },
   "outputs": [
    {
     "data": {
      "text/plain": [
       "(-10000, 10000)"
      ]
     },
     "execution_count": 748,
     "metadata": {},
     "output_type": "execute_result"
    },
    {
     "data": {
      "image/png": "[encoded data removed]",
      "text/plain": [
       "<matplotlib.figure.Figure at 0x64b124e80>"
      ]
     },
     "metadata": {},
     "output_type": "display_data"
    }
   ],
   "source": [
    "# simple plot of distances from start/end of intervals\n",
    "import seaborn as sns\n",
    "from scipy import stats\n",
    "sns.set(style=\"whitegrid\")\n",
    "%matplotlib inline\n",
    "sns.set_context(\"poster\", font_scale=0.8, rc={\"lines.linewidth\": 1})\n",
    "g1 = sns.distplot(encode_repeat_closeness_df[['centered_distance']], kde=False, bins=1000)\n",
    "g2 = sns.distplot(encode_repeat_shuffled_closeness_df[['centered_distance']], kde=False, bins=1000)\n",
    "\n",
    "g2.set_xlim(-10000, 10000)"
   ]
  },
  {
   "cell_type": "code",
   "execution_count": 749,
   "metadata": {
    "collapsed": false
   },
   "outputs": [],
   "source": [
    "encode_sorted_shuffled_bed = encode_bed.shuffle(genome='hg19').sort()"
   ]
  },
  {
   "cell_type": "code",
   "execution_count": 750,
   "metadata": {
    "collapsed": false
   },
   "outputs": [
    {
     "name": "stderr",
     "output_type": "stream",
     "text": [
      "/Users/manuel/anaconda/lib/python3.5/site-packages/pybedtools/bedtool.py:3199: UserWarning: Default names for filetype bed are:\n",
      "['chrom', 'start', 'end', 'name', 'score', 'strand', 'thickStart', 'thickEnd', 'itemRgb', 'blockCount', 'blockSizes', 'blockStarts']\n",
      "but file has 13 fields; you can supply custom names with the `names` kwarg\n",
      "  % (self.file_type, _names, self.field_count()))\n"
     ]
    }
   ],
   "source": [
    "encode_shuffled_repeat_closeness = encode_sorted_shuffled_bed.closest(repeat_sorted_shuffled_bed, D='a')\n",
    "encode_shuffled_repeat_closeness_df = encode_shuffled_repeat_closeness.to_dataframe()\n",
    "encode_shuffled_repeat_closeness_df.columns = closeness_columns\n",
    "encode_shuffled_repeat_closeness_df = compute_centers(encode_shuffled_repeat_closeness_df)"
   ]
  },
  {
   "cell_type": "code",
   "execution_count": 751,
   "metadata": {
    "collapsed": false
   },
   "outputs": [
    {
     "data": {
      "image/png": "[encoded data removed]",
      "text/plain": [
       "<matplotlib.figure.Figure at 0x659cd9630>"
      ]
     },
     "metadata": {},
     "output_type": "display_data"
    }
   ],
   "source": [
    "g3 = sns.distplot(encode_shuffled_repeat_closeness_df[['centered_distance']], kde=False, bins=10000)\n"
   ]
  },
  {
   "cell_type": "code",
   "execution_count": 753,
   "metadata": {
    "collapsed": false
   },
   "outputs": [
    {
     "data": {
      "text/plain": [
       "(-10000, 10000)"
      ]
     },
     "execution_count": 753,
     "metadata": {},
     "output_type": "execute_result"
    },
    {
     "data": {
      "image/png": "[encoded data removed]",
      "text/plain": [
       "<matplotlib.figure.Figure at 0x661006710>"
      ]
     },
     "metadata": {},
     "output_type": "display_data"
    }
   ],
   "source": [
    "# simple plot of distances from start/end of intervals\n",
    "import seaborn as sns\n",
    "from scipy import stats\n",
    "sns.set(style=\"whitegrid\")\n",
    "%matplotlib inline\n",
    "sns.set_context(\"poster\", font_scale=0.8, rc={\"lines.linewidth\": 1})\n",
    "g1 = sns.distplot(encode_repeat_closeness_df[['centered_distance']], kde=False, bins=1000)\n",
    "g2 = sns.distplot(encode_repeat_shuffled_closeness_df[['centered_distance']], kde=False, bins=1000)\n",
    "g3 = sns.distplot(encode_shuffled_repeat_closeness_df[['centered_distance']], kde=False, bins=10000)\n",
    "\n",
    "g3.set_xlim(-10000, 10000)"
   ]
  },
  {
   "cell_type": "code",
   "execution_count": 754,
   "metadata": {
    "collapsed": false
   },
   "outputs": [
    {
     "data": {
      "text/html": [
       "<div>\n",
       "<table border=\"1\" class=\"dataframe\">\n",
       "  <thead>\n",
       "    <tr style=\"text-align: right;\">\n",
       "      <th></th>\n",
       "      <th>centered_distance</th>\n",
       "    </tr>\n",
       "  </thead>\n",
       "  <tbody>\n",
       "    <tr>\n",
       "      <th>count</th>\n",
       "      <td>47165.000000</td>\n",
       "    </tr>\n",
       "    <tr>\n",
       "      <th>mean</th>\n",
       "      <td>2358.723397</td>\n",
       "    </tr>\n",
       "    <tr>\n",
       "      <th>std</th>\n",
       "      <td>4761.340330</td>\n",
       "    </tr>\n",
       "    <tr>\n",
       "      <th>min</th>\n",
       "      <td>0.000000</td>\n",
       "    </tr>\n",
       "    <tr>\n",
       "      <th>25%</th>\n",
       "      <td>755.000000</td>\n",
       "    </tr>\n",
       "    <tr>\n",
       "      <th>50%</th>\n",
       "      <td>1402.000000</td>\n",
       "    </tr>\n",
       "    <tr>\n",
       "      <th>75%</th>\n",
       "      <td>2700.000000</td>\n",
       "    </tr>\n",
       "    <tr>\n",
       "      <th>max</th>\n",
       "      <td>252974.000000</td>\n",
       "    </tr>\n",
       "  </tbody>\n",
       "</table>\n",
       "</div>"
      ],
      "text/plain": [
       "       centered_distance\n",
       "count       47165.000000\n",
       "mean         2358.723397\n",
       "std          4761.340330\n",
       "min             0.000000\n",
       "25%           755.000000\n",
       "50%          1402.000000\n",
       "75%          2700.000000\n",
       "max        252974.000000"
      ]
     },
     "execution_count": 754,
     "metadata": {},
     "output_type": "execute_result"
    }
   ],
   "source": [
    "abs(encode_repeat_closeness_df[['centered_distance']]).describe()"
   ]
  },
  {
   "cell_type": "code",
   "execution_count": 755,
   "metadata": {
    "collapsed": false
   },
   "outputs": [
    {
     "data": {
      "text/html": [
       "<div>\n",
       "<table border=\"1\" class=\"dataframe\">\n",
       "  <thead>\n",
       "    <tr style=\"text-align: right;\">\n",
       "      <th></th>\n",
       "      <th>centered_distance</th>\n",
       "    </tr>\n",
       "  </thead>\n",
       "  <tbody>\n",
       "    <tr>\n",
       "      <th>count</th>\n",
       "      <td>48934.000000</td>\n",
       "    </tr>\n",
       "    <tr>\n",
       "      <th>mean</th>\n",
       "      <td>1285.973250</td>\n",
       "    </tr>\n",
       "    <tr>\n",
       "      <th>std</th>\n",
       "      <td>1312.561244</td>\n",
       "    </tr>\n",
       "    <tr>\n",
       "      <th>min</th>\n",
       "      <td>0.000000</td>\n",
       "    </tr>\n",
       "    <tr>\n",
       "      <th>25%</th>\n",
       "      <td>371.000000</td>\n",
       "    </tr>\n",
       "    <tr>\n",
       "      <th>50%</th>\n",
       "      <td>869.500000</td>\n",
       "    </tr>\n",
       "    <tr>\n",
       "      <th>75%</th>\n",
       "      <td>1767.000000</td>\n",
       "    </tr>\n",
       "    <tr>\n",
       "      <th>max</th>\n",
       "      <td>14121.000000</td>\n",
       "    </tr>\n",
       "  </tbody>\n",
       "</table>\n",
       "</div>"
      ],
      "text/plain": [
       "       centered_distance\n",
       "count       48934.000000\n",
       "mean         1285.973250\n",
       "std          1312.561244\n",
       "min             0.000000\n",
       "25%           371.000000\n",
       "50%           869.500000\n",
       "75%          1767.000000\n",
       "max         14121.000000"
      ]
     },
     "execution_count": 755,
     "metadata": {},
     "output_type": "execute_result"
    }
   ],
   "source": [
    "abs(encode_repeat_shuffled_closeness_df[['centered_distance']]).describe()"
   ]
  },
  {
   "cell_type": "code",
   "execution_count": 756,
   "metadata": {
    "collapsed": false
   },
   "outputs": [
    {
     "data": {
      "text/plain": [
       "centered_distance    7376.6\n",
       "Name: 0.95, dtype: float64"
      ]
     },
     "execution_count": 756,
     "metadata": {},
     "output_type": "execute_result"
    }
   ],
   "source": [
    "abs(encode_repeat_closeness_df[['centered_distance']]).quantile(0.95)"
   ]
  },
  {
   "cell_type": "code",
   "execution_count": 757,
   "metadata": {
    "collapsed": false
   },
   "outputs": [
    {
     "data": {
      "text/plain": [
       "centered_distance    3919.0\n",
       "Name: 0.95, dtype: float64"
      ]
     },
     "execution_count": 757,
     "metadata": {},
     "output_type": "execute_result"
    }
   ],
   "source": [
    "abs(encode_repeat_shuffled_closeness_df[['centered_distance']]).quantile(0.95)"
   ]
  },
  {
   "cell_type": "code",
   "execution_count": 758,
   "metadata": {
    "collapsed": false
   },
   "outputs": [
    {
     "data": {
      "text/plain": [
       "centered_distance    3973.7\n",
       "Name: 0.95, dtype: float64"
      ]
     },
     "execution_count": 758,
     "metadata": {},
     "output_type": "execute_result"
    }
   ],
   "source": [
    "abs(encode_shuffled_repeat_closeness_df[['centered_distance']]).quantile(0.95)"
   ]
  },
  {
   "cell_type": "code",
   "execution_count": 759,
   "metadata": {
    "collapsed": false
   },
   "outputs": [],
   "source": [
    "density_hist = np.histogram(encode_repeat_closeness_df['centered_distance'], bins=1000)"
   ]
  },
  {
   "cell_type": "code",
   "execution_count": 760,
   "metadata": {
    "collapsed": false
   },
   "outputs": [],
   "source": [
    "density_df = pd.DataFrame(density_hist[0])\n",
    "density_df.columns = ['density']\n",
    "density_df['bin_edges'] = density_hist[1][1:].astype(float)\n",
    "density_df['abs_bin_edges'] = abs(density_df['bin_edges'])"
   ]
  },
  {
   "cell_type": "code",
   "execution_count": 761,
   "metadata": {
    "collapsed": false
   },
   "outputs": [
    {
     "data": {
      "text/html": [
       "<div>\n",
       "<table border=\"1\" class=\"dataframe\">\n",
       "  <thead>\n",
       "    <tr style=\"text-align: right;\">\n",
       "      <th></th>\n",
       "      <th>density</th>\n",
       "      <th>bin_edges</th>\n",
       "      <th>abs_bin_edges</th>\n",
       "    </tr>\n",
       "  </thead>\n",
       "  <tbody>\n",
       "    <tr>\n",
       "      <th>0</th>\n",
       "      <td>1</td>\n",
       "      <td>-47835.889</td>\n",
       "      <td>47835.889</td>\n",
       "    </tr>\n",
       "    <tr>\n",
       "      <th>1</th>\n",
       "      <td>0</td>\n",
       "      <td>-47534.778</td>\n",
       "      <td>47534.778</td>\n",
       "    </tr>\n",
       "    <tr>\n",
       "      <th>2</th>\n",
       "      <td>0</td>\n",
       "      <td>-47233.667</td>\n",
       "      <td>47233.667</td>\n",
       "    </tr>\n",
       "    <tr>\n",
       "      <th>3</th>\n",
       "      <td>0</td>\n",
       "      <td>-46932.556</td>\n",
       "      <td>46932.556</td>\n",
       "    </tr>\n",
       "    <tr>\n",
       "      <th>4</th>\n",
       "      <td>0</td>\n",
       "      <td>-46631.445</td>\n",
       "      <td>46631.445</td>\n",
       "    </tr>\n",
       "  </tbody>\n",
       "</table>\n",
       "</div>"
      ],
      "text/plain": [
       "   density  bin_edges  abs_bin_edges\n",
       "0        1 -47835.889      47835.889\n",
       "1        0 -47534.778      47534.778\n",
       "2        0 -47233.667      47233.667\n",
       "3        0 -46932.556      46932.556\n",
       "4        0 -46631.445      46631.445"
      ]
     },
     "execution_count": 761,
     "metadata": {},
     "output_type": "execute_result"
    }
   ],
   "source": [
    "density_df.head()"
   ]
  },
  {
   "cell_type": "code",
   "execution_count": 807,
   "metadata": {
    "collapsed": false
   },
   "outputs": [],
   "source": [
    "density = sum(density_df.query(\"bin_edges >= -50 & bin_edges <= 50\")['density'])"
   ]
  },
  {
   "cell_type": "code",
   "execution_count": 808,
   "metadata": {
    "collapsed": false
   },
   "outputs": [],
   "source": [
    "density_rnd_hist = np.histogram(encode_repeat_shuffled_closeness_df['centered_distance'], bins=1000)"
   ]
  },
  {
   "cell_type": "code",
   "execution_count": 809,
   "metadata": {
    "collapsed": true
   },
   "outputs": [],
   "source": [
    "density_rnd_hist_df = pd.DataFrame(density_rnd_hist[0])\n",
    "density_rnd_hist_df.columns = ['density']\n",
    "density_rnd_hist_df['bin_edges'] = density_rnd_hist[1][1:].astype(float)\n",
    "density_rnd_hist_df['abs_bin_edges'] = abs(density_rnd_hist_df['bin_edges'])"
   ]
  },
  {
   "cell_type": "code",
   "execution_count": 810,
   "metadata": {
    "collapsed": false
   },
   "outputs": [],
   "source": [
    "density_rnd = sum(density_rnd_hist_df.query(\"bin_edges >= -50 & bin_edges <= 50\")['density'])"
   ]
  },
  {
   "cell_type": "code",
   "execution_count": 811,
   "metadata": {
    "collapsed": false
   },
   "outputs": [],
   "source": [
    "rough_enrichment = density - density_rnd"
   ]
  },
  {
   "cell_type": "code",
   "execution_count": 812,
   "metadata": {
    "collapsed": false
   },
   "outputs": [
    {
     "data": {
      "text/plain": [
       "-1055"
      ]
     },
     "execution_count": 812,
     "metadata": {},
     "output_type": "execute_result"
    }
   ],
   "source": [
    "rough_enrichment"
   ]
  },
  {
   "cell_type": "code",
   "execution_count": 813,
   "metadata": {
    "collapsed": false
   },
   "outputs": [
    {
     "data": {
      "text/plain": [
       "880"
      ]
     },
     "execution_count": 813,
     "metadata": {},
     "output_type": "execute_result"
    }
   ],
   "source": [
    "density"
   ]
  },
  {
   "cell_type": "code",
   "execution_count": 814,
   "metadata": {
    "collapsed": false
   },
   "outputs": [
    {
     "data": {
      "text/plain": [
       "1935"
      ]
     },
     "execution_count": 814,
     "metadata": {},
     "output_type": "execute_result"
    }
   ],
   "source": [
    "density_rnd"
   ]
  },
  {
   "cell_type": "code",
   "execution_count": null,
   "metadata": {
    "collapsed": true
   },
   "outputs": [],
   "source": []
  },
  {
   "cell_type": "code",
   "execution_count": null,
   "metadata": {
    "collapsed": true
   },
   "outputs": [],
   "source": []
  }
 ],
 "metadata": {
  "anaconda-cloud": {},
  "kernelspec": {
   "display_name": "Python [conda root]",
   "language": "python",
   "name": "conda-root-py"
  },
  "language_info": {
   "codemirror_mode": {
    "name": "ipython",
    "version": 3
   },
   "file_extension": ".py",
   "mimetype": "text/x-python",
   "name": "python",
   "nbconvert_exporter": "python",
   "pygments_lexer": "ipython3",
   "version": "3.5.2"
  }
 },
 "nbformat": 4,
 "nbformat_minor": 1
}
