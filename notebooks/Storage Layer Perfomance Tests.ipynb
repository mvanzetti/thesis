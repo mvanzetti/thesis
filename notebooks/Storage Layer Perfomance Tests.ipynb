{
 "cells": [
  {
   "cell_type": "code",
   "execution_count": 6,
   "metadata": {
    "collapsed": true
   },
   "outputs": [],
   "source": [
    "import pandas as pd\n",
    "import sqlite3\n",
    "import os\n",
    "from numpy import random\n",
    "\n",
    "from pandas.io import sql\n",
    "\n",
    "def test_sql_write(df):\n",
    "    if os.path.exists('tmp/test.sql'):\n",
    "        os.remove('tmp/test.sql')\n",
    "    sql_db = sqlite3.connect('tmp/test.sql')\n",
    "    df.to_sql(name='test_table', con=sql_db)\n",
    "    sql_db.close()\n",
    "\n",
    "def test_sql_read():\n",
    "    sql_db = sqlite3.connect('tmp/test.sql')\n",
    "    pd.read_sql_query(\"select * from test_table\", sql_db)\n",
    "    sql_db.close()\n",
    "\n",
    "def test_hdf_fixed_write(df):\n",
    "    df.to_hdf('tmp/test_fixed.hdf','test',mode='w')\n",
    "\n",
    "def test_hdf_fixed_read():\n",
    "    pd.read_hdf('tmp/test_fixed.hdf','test')\n",
    "\n",
    "def test_hdf_fixed_write_compress(df):\n",
    "    df.to_hdf('tmp/test_fixed_compress.hdf','test',mode='w',complib='blosc')\n",
    "\n",
    "def test_hdf_fixed_read_compress():\n",
    "    pd.read_hdf('tmp/test_fixed_compress.hdf','test')\n",
    "\n",
    "def test_hdf_table_write(df):\n",
    "    df.to_hdf('tmp/test_table.hdf','test',mode='w',format='table')\n",
    "    \n",
    "def test_hdf_table_read():\n",
    "    pd.read_hdf('tmp/test_table.hdf','test')\n",
    "\n",
    "def test_hdf_table_write_compress(df):\n",
    "    df.to_hdf('tmp/test_table_compress.hdf','test',mode='w',complib='blosc',format='table')\n",
    "\n",
    "def test_hdf_table_read_compress():\n",
    "    pd.read_hdf('tmp/test_table_compress.hdf','test')\n",
    "\n",
    "def test_csv_write(df):\n",
    "    df.to_csv('tmp/test.csv',mode='w')\n",
    "\n",
    "def test_csv_read():\n",
    "    pd.read_csv('tmp/test.csv',index_col=0)"
   ]
  },
  {
   "cell_type": "code",
   "execution_count": 16,
   "metadata": {
    "collapsed": false
   },
   "outputs": [
    {
     "name": "stdout",
     "output_type": "stream",
     "text": [
      "<class 'pandas.core.frame.DataFrame'>\n",
      "RangeIndex: 1000000 entries, 0 to 999999\n",
      "Data columns (total 5 columns):\n",
      "A    1000000 non-null float64\n",
      "B    1000000 non-null float64\n",
      "C    1000000 non-null float64\n",
      "D    1000000 non-null float64\n",
      "E    1000000 non-null float64\n",
      "dtypes: float64(5)\n",
      "memory usage: 38.1 MB\n"
     ]
    }
   ],
   "source": [
    "df = pd.DataFrame(random.randn(1000000,5),columns=list('ABCDE'))\n",
    "df.info()"
   ]
  },
  {
   "cell_type": "code",
   "execution_count": 17,
   "metadata": {
    "collapsed": false
   },
   "outputs": [
    {
     "name": "stdout",
     "output_type": "stream",
     "text": [
      "1 loop, best of 3: 9.68 s per loop\n"
     ]
    }
   ],
   "source": [
    "%timeit test_csv_write(df)"
   ]
  },
  {
   "cell_type": "code",
   "execution_count": 18,
   "metadata": {
    "collapsed": false
   },
   "outputs": [
    {
     "name": "stdout",
     "output_type": "stream",
     "text": [
      "1 loop, best of 3: 5.49 s per loop\n"
     ]
    }
   ],
   "source": [
    "%timeit test_sql_write(df)"
   ]
  },
  {
   "cell_type": "code",
   "execution_count": 19,
   "metadata": {
    "collapsed": false
   },
   "outputs": [
    {
     "name": "stdout",
     "output_type": "stream",
     "text": [
      "10 loops, best of 3: 35.7 ms per loop\n"
     ]
    }
   ],
   "source": [
    "%timeit test_hdf_fixed_write(df)"
   ]
  },
  {
   "cell_type": "code",
   "execution_count": 20,
   "metadata": {
    "collapsed": false
   },
   "outputs": [
    {
     "name": "stdout",
     "output_type": "stream",
     "text": [
      "1 loop, best of 3: 465 ms per loop\n"
     ]
    }
   ],
   "source": [
    "%timeit test_hdf_table_write(df)"
   ]
  },
  {
   "cell_type": "code",
   "execution_count": 21,
   "metadata": {
    "collapsed": false
   },
   "outputs": [
    {
     "name": "stdout",
     "output_type": "stream",
     "text": [
      "1 loop, best of 3: 1.61 s per loop\n"
     ]
    }
   ],
   "source": [
    "%timeit test_csv_read()"
   ]
  },
  {
   "cell_type": "code",
   "execution_count": 22,
   "metadata": {
    "collapsed": false
   },
   "outputs": [
    {
     "name": "stdout",
     "output_type": "stream",
     "text": [
      "1 loop, best of 3: 2.66 s per loop\n"
     ]
    }
   ],
   "source": [
    "%timeit test_sql_read()"
   ]
  },
  {
   "cell_type": "code",
   "execution_count": 23,
   "metadata": {
    "collapsed": false
   },
   "outputs": [
    {
     "name": "stdout",
     "output_type": "stream",
     "text": [
      "10 loops, best of 3: 18.6 ms per loop\n"
     ]
    }
   ],
   "source": [
    "%timeit test_hdf_fixed_read()"
   ]
  },
  {
   "cell_type": "code",
   "execution_count": 24,
   "metadata": {
    "collapsed": false
   },
   "outputs": [
    {
     "name": "stdout",
     "output_type": "stream",
     "text": [
      "10 loops, best of 3: 30.2 ms per loop\n"
     ]
    }
   ],
   "source": [
    "%timeit test_hdf_table_read()"
   ]
  },
  {
   "cell_type": "code",
   "execution_count": null,
   "metadata": {
    "collapsed": true
   },
   "outputs": [],
   "source": []
  }
 ],
 "metadata": {
  "anaconda-cloud": {},
  "kernelspec": {
   "display_name": "Python [conda root]",
   "language": "python",
   "name": "conda-root-py"
  },
  "language_info": {
   "codemirror_mode": {
    "name": "ipython",
    "version": 3
   },
   "file_extension": ".py",
   "mimetype": "text/x-python",
   "name": "python",
   "nbconvert_exporter": "python",
   "pygments_lexer": "ipython3",
   "version": "3.5.2"
  }
 },
 "nbformat": 4,
 "nbformat_minor": 1
}
